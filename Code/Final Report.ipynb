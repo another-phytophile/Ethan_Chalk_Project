{
 "cells": [
  {
   "cell_type": "markdown",
   "metadata": {},
   "source": [
    "# An Analysis of Four Different Formulations of Chalk on Grip Strength\n",
    "\n",
    "Ethan Basingr and Jerry H. Yu\n",
    "\n",
    "## Introduction\n",
    "\n",
    "Climbing Chalk is commonly used to enhance grip strength in sports like rock climbing or powelifting. Most commercial brands of climbing chalk are made with Magnesium Carbonate (MgCO3). However, Magnesium carbonate has a wide variety of crystal structures that can affect its ability to absorb water and other fluids. My friend Ethan spent month designing a new way to crystallize MgCO3 to hopefull make suprior chalk to commercial brands. This report analyzes an experiment he conducted with a third friend analyze and chalk to other brands. \n",
    "\n",
    "## Methods\n",
    "\n",
    "The experiment was conducted as an unbalanced block design. Testing constraints prevented the easy swapping between chalks during a single test, so chalks were testred sequentially across days, resulting in confounding. While such bias is impossible to correct completley for the final analysis, I did try two approaches to correct it. I decided to use mixed models to evaluate the data. "
   ]
  },
  {
   "cell_type": "code",
   "execution_count": 1,
   "metadata": {},
   "outputs": [
    {
     "name": "stderr",
     "output_type": "stream",
     "text": [
      "c:\\Users\\yujer\\anaconda3\\envs\\main\\Lib\\site-packages\\rpy2\\robjects\\packages.py:367: UserWarning: The symbol 'quartz' is not in this R namespace/package.\n",
      "  warnings.warn(\n"
     ]
    },
    {
     "name": "stdout",
     "output_type": "stream",
     "text": [
      "c:\\Users\\Public\\Documents\\Personal_Projects\\Ethan_Chalk_Project\n"
     ]
    }
   ],
   "source": [
    "# Set Up Python Enviroment\n",
    "import math\n",
    "import numpy as np\n",
    "import pandas as pd\n",
    "import plotly.express as px\n",
    "import os\n",
    "import git\n",
    "import rpy2\n",
    "%load_ext rpy2.ipython\n",
    "import statsmodels\n",
    "import statsmodels.formula.api as smf\n",
    "repo = git.Repo('.', search_parent_directories=True)\n",
    "os.chdir(repo.working_tree_dir)\n",
    "print(os.getcwd())"
   ]
  },
  {
   "cell_type": "code",
   "execution_count": 2,
   "metadata": {},
   "outputs": [
    {
     "name": "stdout",
     "output_type": "stream",
     "text": [
      "-- Attaching core tidyverse packages ------------------------ tidyverse 2.0.0 --\n",
      "v dplyr     1.1.4     v readr     2.1.5\n",
      "v forcats   1.0.0     v stringr   1.5.1\n",
      "v ggplot2   3.5.1     v tibble    3.2.1\n",
      "v lubridate 1.9.4     v tidyr     1.3.1\n",
      "v purrr     1.0.4     \n",
      "-- Conflicts ------------------------------------------ tidyverse_conflicts() --\n",
      "x dplyr::filter() masks stats::filter()\n",
      "x dplyr::lag()    masks stats::lag()\n",
      "i Use the conflicted package (<http://conflicted.r-lib.org/>) to force all conflicts to become errors\n"
     ]
    },
    {
     "name": "stderr",
     "output_type": "stream",
     "text": [
      "R[write to console]: Loading required package: zoo\n",
      "\n",
      "R[write to console]: \n",
      "Attaching package: 'zoo'\n",
      "\n",
      "\n",
      "R[write to console]: The following objects are masked from 'package:base':\n",
      "\n",
      "    as.Date, as.Date.numeric\n",
      "\n",
      "\n",
      "R[write to console]: here() starts at C:/Users/Public/Documents/Personal_Projects/Ethan_Chalk_Project\n",
      "\n",
      "R[write to console]: Loading required package: Matrix\n",
      "\n",
      "R[write to console]: \n",
      "Attaching package: 'Matrix'\n",
      "\n",
      "\n",
      "R[write to console]: The following objects are masked from 'package:tidyr':\n",
      "\n",
      "    expand, pack, unpack\n",
      "\n",
      "\n",
      "R[write to console]: \n",
      "Attaching package: 'MASS'\n",
      "\n",
      "\n",
      "R[write to console]: The following object is masked from 'package:dplyr':\n",
      "\n",
      "    select\n",
      "\n",
      "\n",
      "R[write to console]: Loading required package: lattice\n",
      "\n",
      "R[write to console]: \n",
      "Attaching package: 'caret'\n",
      "\n",
      "\n",
      "R[write to console]: The following object is masked from 'package:purrr':\n",
      "\n",
      "    lift\n",
      "\n",
      "\n",
      "R[write to console]: Registered S3 method overwritten by 'clubSandwich':\n",
      "  method    from    \n",
      "  bread.mlm sandwich\n",
      "\n",
      "R[write to console]: Welcome to emmeans.\n",
      "Caution: You lose important information if you filter this package's results.\n",
      "See '? untidy'\n",
      "\n"
     ]
    }
   ],
   "source": [
    "%%R\n",
    "# Set Up R Enviroment in Python\n",
    "library(tidyverse)\n",
    "library(lmtest)\n",
    "library(here)\n",
    "library(lme4) \n",
    "library(MASS)\n",
    "library(MuMIn)\n",
    "library(caret)\n",
    "library(clubSandwich)\n",
    "library(emmeans)"
   ]
  },
  {
   "cell_type": "markdown",
   "metadata": {},
   "source": [
    "# Data\n",
    "\n",
    "The original data was not formatted in the way of a long table, so I used excel to clean the data. Multiple explanatory variables were encoded in color or order of the tables, so they needed to be made explicit. I used a series of formulas for that. Thus, I created long formats of the `Chalk_Results.xlsx` and `Randomized tests.xlsx` (`Chalk_Long.xlsm` and `Metadata.slsx`) and merged and created labels for them in python. \n",
    "\n",
    "Variables are:\n",
    "- **Code:** a number from 1-24. In excel, this column's color is indicative of date, and its value is also indicative of control (or chalk) and treatment. Code + bChalk form the key for merging metadata with chalk_long. \n",
    "- **bChalk:** a number from 1-4 (1=FL. 2=Metolius, 3=Magdust, 4=Ethan's Chalk), not directly indicative of whether chalk was used. Code + bChalk form the key for merging metadata with chalk_long.\n",
    "- **Pinch_Order:** Order in which test was conducted, for each attempt (code number), the test was performed three times sequentially. Pinch_Order + bChalk + Code forms the primary key. \n",
    "- **Pinch:** The weight at which the board was pinched. \n",
    "- **Pull:** The weight just before the hand slipped. **Our dependent variable**. \n",
    "- **Chalk:** The actual chalk used, 0 is added for control. \n",
    "- **Person:** The person conducting the test, one intermediate and one advanced climber. \n",
    "- **Day:** The day when the test was conducted. Dates were, 10/30/2024,10/31/2024,11/4/2024,11/6/2024,11/8/2024,11/10/2024, and 11/14/2024. Last two were apparently \"noticeably slippery\". \n",
    "- **Day_Order:** The order in which the tests were conducted in the day. This was randomized. \n",
    "\n",
    "# Wrangling\n",
    "\n",
    "The wrangling section is below. Mostly easy to clean, but some variables needed to be converted into factors. "
   ]
  },
  {
   "cell_type": "code",
   "execution_count": 3,
   "metadata": {},
   "outputs": [],
   "source": [
    "# Read in and Merge Data and Metadata\n",
    "Chalk_Long = pd.read_excel('data/Raw/Chalk_Long.xlsm', sheet_name=1, header=0)\n",
    "metadata = pd.read_excel('data/Raw/Metadata.xlsx', sheet_name=1, header=0)\n",
    "Chalk = pd.merge(metadata, Chalk_Long, on=[\"Code\",\"bChalk\"], how='left')\n",
    "Chalk.to_csv('data/Processed/Chalk.csv', index=False)\n",
    "# Convert Labels into factor variables for further analysis\n",
    "Chalk[\"Chalk\"] = Chalk[\"Chalk\"].astype(\"category\")\n",
    "Chalk[\"Chalk\"] = Chalk[\"Chalk\"].cat.rename_categories([\"None\", \"FL\", \"Metolius\", \"Magdust\", \"Ethan\"])\n",
    "Chalk[\"Person\"] = Chalk[\"Person\"].astype(\"category\")\n",
    "Chalk[\"Pinch_Order\"] = Chalk[\"Pinch_Order\"].rank(method='dense')\n",
    "Chalk[\"Day_Chalk\"] = Chalk[\"Day\"].astype(\"str\") + \"_\" + Chalk[\"Chalk\"].astype(\"str\")"
   ]
  },
  {
   "cell_type": "code",
   "execution_count": 4,
   "metadata": {},
   "outputs": [
    {
     "name": "stdout",
     "output_type": "stream",
     "text": [
      "<class 'pandas.core.frame.DataFrame'>\n",
      "RangeIndex: 576 entries, 0 to 575\n",
      "Data columns (total 10 columns):\n",
      " #   Column       Non-Null Count  Dtype         \n",
      "---  ------       --------------  -----         \n",
      " 0   Code         576 non-null    int64         \n",
      " 1   bChalk       576 non-null    int64         \n",
      " 2   Day_Order    576 non-null    int64         \n",
      " 3   Day          576 non-null    datetime64[ns]\n",
      " 4   Pinch        576 non-null    float64       \n",
      " 5   Pull         576 non-null    float64       \n",
      " 6   Pinch_Order  576 non-null    float64       \n",
      " 7   Chalk        576 non-null    category      \n",
      " 8   Person       576 non-null    category      \n",
      " 9   Day_Chalk    576 non-null    object        \n",
      "dtypes: category(2), datetime64[ns](1), float64(3), int64(3), object(1)\n",
      "memory usage: 37.6+ KB\n"
     ]
    },
    {
     "data": {
      "application/vnd.microsoft.datawrangler.viewer.v0+json": {
       "columns": [
        {
         "name": "index",
         "rawType": "int64",
         "type": "integer"
        },
        {
         "name": "Code",
         "rawType": "int64",
         "type": "integer"
        },
        {
         "name": "bChalk",
         "rawType": "int64",
         "type": "integer"
        },
        {
         "name": "Day_Order",
         "rawType": "int64",
         "type": "integer"
        },
        {
         "name": "Day",
         "rawType": "datetime64[ns]",
         "type": "datetime"
        },
        {
         "name": "Pinch",
         "rawType": "float64",
         "type": "float"
        },
        {
         "name": "Pull",
         "rawType": "float64",
         "type": "float"
        },
        {
         "name": "Pinch_Order",
         "rawType": "float64",
         "type": "float"
        },
        {
         "name": "Chalk",
         "rawType": "category",
         "type": "unknown"
        },
        {
         "name": "Person",
         "rawType": "category",
         "type": "unknown"
        },
        {
         "name": "Day_Chalk",
         "rawType": "object",
         "type": "string"
        }
       ],
       "conversionMethod": "pd.DataFrame",
       "ref": "82260b50-f278-4093-a1eb-aa683557fe89",
       "rows": [
        [
         "0",
         "16",
         "1",
         "1",
         "2024-10-30 00:00:00",
         "4.202",
         "34.6",
         "1.0",
         "None",
         "1",
         "2024-10-30_None"
        ],
        [
         "1",
         "16",
         "1",
         "1",
         "2024-10-30 00:00:00",
         "4.117",
         "31.9",
         "2.0",
         "None",
         "1",
         "2024-10-30_None"
        ],
        [
         "2",
         "16",
         "1",
         "1",
         "2024-10-30 00:00:00",
         "4.154",
         "31.9",
         "3.0",
         "None",
         "1",
         "2024-10-30_None"
        ],
        [
         "3",
         "34",
         "1",
         "2",
         "2024-10-30 00:00:00",
         "4.088",
         "41.1",
         "1.0",
         "FL",
         "2",
         "2024-10-30_FL"
        ],
        [
         "4",
         "34",
         "1",
         "2",
         "2024-10-30 00:00:00",
         "4.088",
         "44.5",
         "2.0",
         "FL",
         "2",
         "2024-10-30_FL"
        ]
       ],
       "shape": {
        "columns": 10,
        "rows": 5
       }
      },
      "text/html": [
       "<div>\n",
       "<style scoped>\n",
       "    .dataframe tbody tr th:only-of-type {\n",
       "        vertical-align: middle;\n",
       "    }\n",
       "\n",
       "    .dataframe tbody tr th {\n",
       "        vertical-align: top;\n",
       "    }\n",
       "\n",
       "    .dataframe thead th {\n",
       "        text-align: right;\n",
       "    }\n",
       "</style>\n",
       "<table border=\"1\" class=\"dataframe\">\n",
       "  <thead>\n",
       "    <tr style=\"text-align: right;\">\n",
       "      <th></th>\n",
       "      <th>Code</th>\n",
       "      <th>bChalk</th>\n",
       "      <th>Day_Order</th>\n",
       "      <th>Day</th>\n",
       "      <th>Pinch</th>\n",
       "      <th>Pull</th>\n",
       "      <th>Pinch_Order</th>\n",
       "      <th>Chalk</th>\n",
       "      <th>Person</th>\n",
       "      <th>Day_Chalk</th>\n",
       "    </tr>\n",
       "  </thead>\n",
       "  <tbody>\n",
       "    <tr>\n",
       "      <th>0</th>\n",
       "      <td>16</td>\n",
       "      <td>1</td>\n",
       "      <td>1</td>\n",
       "      <td>2024-10-30</td>\n",
       "      <td>4.202</td>\n",
       "      <td>34.6</td>\n",
       "      <td>1.0</td>\n",
       "      <td>None</td>\n",
       "      <td>1</td>\n",
       "      <td>2024-10-30_None</td>\n",
       "    </tr>\n",
       "    <tr>\n",
       "      <th>1</th>\n",
       "      <td>16</td>\n",
       "      <td>1</td>\n",
       "      <td>1</td>\n",
       "      <td>2024-10-30</td>\n",
       "      <td>4.117</td>\n",
       "      <td>31.9</td>\n",
       "      <td>2.0</td>\n",
       "      <td>None</td>\n",
       "      <td>1</td>\n",
       "      <td>2024-10-30_None</td>\n",
       "    </tr>\n",
       "    <tr>\n",
       "      <th>2</th>\n",
       "      <td>16</td>\n",
       "      <td>1</td>\n",
       "      <td>1</td>\n",
       "      <td>2024-10-30</td>\n",
       "      <td>4.154</td>\n",
       "      <td>31.9</td>\n",
       "      <td>3.0</td>\n",
       "      <td>None</td>\n",
       "      <td>1</td>\n",
       "      <td>2024-10-30_None</td>\n",
       "    </tr>\n",
       "    <tr>\n",
       "      <th>3</th>\n",
       "      <td>34</td>\n",
       "      <td>1</td>\n",
       "      <td>2</td>\n",
       "      <td>2024-10-30</td>\n",
       "      <td>4.088</td>\n",
       "      <td>41.1</td>\n",
       "      <td>1.0</td>\n",
       "      <td>FL</td>\n",
       "      <td>2</td>\n",
       "      <td>2024-10-30_FL</td>\n",
       "    </tr>\n",
       "    <tr>\n",
       "      <th>4</th>\n",
       "      <td>34</td>\n",
       "      <td>1</td>\n",
       "      <td>2</td>\n",
       "      <td>2024-10-30</td>\n",
       "      <td>4.088</td>\n",
       "      <td>44.5</td>\n",
       "      <td>2.0</td>\n",
       "      <td>FL</td>\n",
       "      <td>2</td>\n",
       "      <td>2024-10-30_FL</td>\n",
       "    </tr>\n",
       "  </tbody>\n",
       "</table>\n",
       "</div>"
      ],
      "text/plain": [
       "   Code  bChalk  Day_Order        Day  Pinch  Pull  Pinch_Order Chalk Person  \\\n",
       "0    16       1          1 2024-10-30  4.202  34.6          1.0  None      1   \n",
       "1    16       1          1 2024-10-30  4.117  31.9          2.0  None      1   \n",
       "2    16       1          1 2024-10-30  4.154  31.9          3.0  None      1   \n",
       "3    34       1          2 2024-10-30  4.088  41.1          1.0    FL      2   \n",
       "4    34       1          2 2024-10-30  4.088  44.5          2.0    FL      2   \n",
       "\n",
       "         Day_Chalk  \n",
       "0  2024-10-30_None  \n",
       "1  2024-10-30_None  \n",
       "2  2024-10-30_None  \n",
       "3    2024-10-30_FL  \n",
       "4    2024-10-30_FL  "
      ]
     },
     "execution_count": 4,
     "metadata": {},
     "output_type": "execute_result"
    }
   ],
   "source": [
    "# Now let us check that our wrangling worked as expected\n",
    "Chalk.info()\n",
    "Chalk.head()"
   ]
  },
  {
   "cell_type": "markdown",
   "metadata": {},
   "source": [
    "# EDA\n",
    "\n",
    "Next Graphs to Visualize Key Variables\n",
    "\n",
    "- First I will check the distributions of the numeric variables. "
   ]
  },
  {
   "cell_type": "code",
   "execution_count": 5,
   "metadata": {},
   "outputs": [
    {
     "data": {
      "application/vnd.plotly.v1+json": {
       "config": {
        "plotlyServerURL": "https://plot.ly"
       },
       "data": [
        {
         "alignmentgroup": "True",
         "bingroup": "x",
         "hovertemplate": "Pinch=%{x}<br>count=%{y}<extra></extra>",
         "legendgroup": "",
         "marker": {
          "color": "#636efa",
          "pattern": {
           "shape": ""
          }
         },
         "name": "",
         "nbinsx": 20,
         "offsetgroup": "",
         "orientation": "v",
         "showlegend": false,
         "type": "histogram",
         "x": [
          4.202,
          4.117,
          4.154,
          4.088,
          4.088,
          4.086,
          1.099,
          1.319,
          1.198,
          3.124,
          2.808,
          3.077,
          4.088,
          4.223,
          4.125,
          4.888,
          5.356,
          4.838,
          2.086,
          2.054,
          2.08,
          5.989,
          6.064,
          5.883,
          4.483,
          4.088,
          4.528,
          5.233,
          5.382,
          5.1,
          1.284,
          1.322,
          1.408,
          3.938,
          3.298,
          3.238,
          5.105,
          5.372,
          5.201,
          5.587,
          5.055,
          4.991,
          5.898,
          5.899,
          5.881,
          1.176,
          1.292,
          1.044,
          3.121,
          3.289,
          2.966,
          4.104,
          4.18,
          4.453,
          4.212,
          4.349,
          3.792,
          1.167,
          1.018,
          1.018,
          6.039,
          7.126,
          6.407,
          5.492,
          5.703,
          5.342,
          6.309,
          5.813,
          6.138,
          1.093,
          1.188,
          1.036,
          2.597,
          2.419,
          2.058,
          1.949,
          1.908,
          2.209,
          3.36,
          3.326,
          2.999,
          3.886,
          4.549,
          4.078,
          5.96,
          5.5,
          6.198,
          5.289,
          5.472,
          5.066,
          3.129,
          2.847,
          3.072,
          6.683,
          6.046,
          5.699,
          1.275,
          1.135,
          1.288,
          2.188,
          1.998,
          1.997,
          2.129,
          2.179,
          1.952,
          3.762,
          3.399,
          3.316,
          2.347,
          2.129,
          2.104,
          6.221,
          6.262,
          6.878,
          3.572,
          3.189,
          3.258,
          5.061,
          5.334,
          4.947,
          1.198,
          1.098,
          1.303,
          4.047,
          4.096,
          4.116,
          2.998,
          3.089,
          3.088,
          2.342,
          2.078,
          2.217,
          1.098,
          1.054,
          1.141,
          2.061,
          2.078,
          1.983,
          5.738,
          5.692,
          6.088,
          4.989,
          4.294,
          4.288,
          2.198,
          2.101,
          2.192,
          4.158,
          4.389,
          4.388,
          1.002,
          0.938,
          1.088,
          5.309,
          5.069,
          5.22,
          6.007,
          6.038,
          6.308,
          5.16,
          4.887,
          5.108,
          3.053,
          2.83,
          2.899,
          6.498,
          6.602,
          6.225,
          6.398,
          5.969,
          5.608,
          7.243,
          7.389,
          6.914,
          2.098,
          2.198,
          2.278,
          6.091,
          5.988,
          6.074,
          1.278,
          1.238,
          1.068,
          3.946,
          4.473,
          3.938,
          3.915,
          4.057,
          3.99,
          4.304,
          4.239,
          4.224,
          6.033,
          5.337,
          4.987,
          1.157,
          1.073,
          1.097,
          2.288,
          2.234,
          2.169,
          4.889,
          4.582,
          4.718,
          2.829,
          3.138,
          3.191,
          5.587,
          5.934,
          7.216,
          4.766,
          3.788,
          4.012,
          3.546,
          3.148,
          2.798,
          5.928,
          6.093,
          5.843,
          3.564,
          3.055,
          4.039,
          1.034,
          1.037,
          1.019,
          2.098,
          2.048,
          2.033,
          3.638,
          3.889,
          3.762,
          5.492,
          5.447,
          5.139,
          2.006,
          2.088,
          2.023,
          1.988,
          2.049,
          2.114,
          1.082,
          1.093,
          0.979,
          4.072,
          4.208,
          4.196,
          2.096,
          2.015,
          2.022,
          3.08,
          3.1,
          3.098,
          3.218,
          3.363,
          3.388,
          1.085,
          1.053,
          0.947,
          1.217,
          1.1,
          1.176,
          4.149,
          4.162,
          4.449,
          2.139,
          2.022,
          2.019,
          6.309,
          6.009,
          6.087,
          5.66,
          5.291,
          4.898,
          3.013,
          3.176,
          3.315,
          3.218,
          3.044,
          3.306,
          5.581,
          5.039,
          4.893,
          1.309,
          1.463,
          1.19,
          5.29,
          5.038,
          5.275,
          6,
          5.859,
          6.143,
          4.919,
          4.909,
          5.048,
          2.194,
          2.199,
          2.065,
          3.22,
          3.214,
          3.215,
          2.351,
          2.096,
          2.206,
          4.387,
          4.095,
          4.247,
          2.218,
          2.138,
          2.079,
          3.247,
          3.152,
          3.253,
          5.998,
          5.993,
          6.048,
          4.997,
          4.589,
          5.384,
          1.219,
          1.308,
          1.249,
          3.211,
          3.458,
          3.187,
          4.446,
          4.258,
          4.172,
          3.209,
          3.284,
          2.88,
          1.042,
          1.221,
          1.033,
          2.29,
          1.96,
          2.059,
          4.793,
          4.767,
          4.958,
          6.087,
          6.636,
          5.872,
          1.149,
          0.989,
          1.059,
          4.496,
          4.491,
          4.019,
          3.648,
          3.189,
          3.573,
          1.089,
          1.102,
          1.02,
          6.493,
          5.989,
          5.998,
          6.685,
          6.172,
          6.276,
          1.207,
          1.063,
          1.184,
          5.287,
          4.886,
          4.949,
          6.935,
          6.741,
          6.158,
          3.988,
          4.123,
          4.333,
          5.061,
          5.191,
          5.094,
          2.178,
          2.089,
          2.183,
          1.97,
          2.188,
          2.048,
          5.267,
          5.326,
          5.636,
          1.038,
          1,
          1.192,
          3.209,
          3.138,
          3.406,
          5.783,
          6.108,
          5.898,
          2.413,
          2.199,
          2.28,
          1.033,
          1.082,
          1.048,
          4.109,
          3.899,
          4.251,
          4.988,
          4.964,
          5.069,
          1.523,
          1.238,
          1.369,
          5.189,
          5.086,
          5.098,
          4.088,
          3.898,
          3.859,
          2.868,
          2.898,
          3.092,
          5.999,
          5.966,
          6.031,
          4.332,
          4.089,
          3.988,
          3.098,
          2.892,
          3.21,
          4.106,
          3.838,
          4.188,
          2.298,
          1.898,
          2.183,
          3.048,
          2.888,
          2.688,
          1.289,
          1.389,
          1.208,
          2.089,
          2.008,
          2.133,
          5.336,
          5.599,
          5.579,
          2.208,
          2.098,
          2.08,
          4.282,
          4.094,
          3.899,
          3.322,
          3.092,
          3.298,
          6.558,
          6.199,
          6.343,
          1.196,
          1.36,
          1.198,
          4.888,
          4.979,
          5.217,
          2.098,
          1.983,
          2.207,
          5.998,
          6.203,
          6.387,
          5.972,
          5.666,
          5.869,
          2.041,
          2.22,
          2.212,
          3.292,
          3.088,
          3.088,
          1.139,
          1.098,
          1.231,
          1.147,
          1.115,
          1.279,
          0.988,
          1.219,
          0.972,
          5.097,
          4.964,
          4.787,
          1.268,
          1.061,
          1.279,
          2.077,
          1.992,
          2.164,
          2.217,
          2.187,
          1.898,
          4.463,
          4.066,
          3.676,
          3.077,
          3.161,
          3.186,
          4.06,
          3.962,
          4.099,
          4.28,
          4.335,
          4.388,
          2.947,
          3.278,
          3.298,
          5.744,
          5.826,
          6.173,
          3.276,
          3.127,
          3.326,
          6.168,
          6.75,
          6.096,
          1.359,
          1.1,
          1.081,
          2.381,
          2.442,
          2.075,
          4.996,
          4.988,
          4.979,
          5.978,
          6.124,
          6.493,
          1.311,
          1.218,
          1.446,
          4.153,
          4.088,
          4.304,
          2.992,
          3.31,
          3.338,
          3.103,
          3.155,
          3.048,
          4.24,
          4.979,
          4.612,
          6.888,
          6.32,
          6.549,
          6.028,
          6.484,
          6.203,
          4.877,
          4.938,
          5.168,
          5.026,
          4.899,
          5.306,
          2.015,
          2.372,
          2.625,
          4.083,
          4.143,
          4.252,
          4.288,
          3.91,
          4.38,
          5.117,
          5.098,
          4.878,
          5.198,
          5.624,
          5.274
         ],
         "xaxis": "x",
         "yaxis": "y"
        }
       ],
       "layout": {
        "barmode": "relative",
        "legend": {
         "tracegroupgap": 0
        },
        "template": {
         "data": {
          "bar": [
           {
            "error_x": {
             "color": "#2a3f5f"
            },
            "error_y": {
             "color": "#2a3f5f"
            },
            "marker": {
             "line": {
              "color": "#E5ECF6",
              "width": 0.5
             },
             "pattern": {
              "fillmode": "overlay",
              "size": 10,
              "solidity": 0.2
             }
            },
            "type": "bar"
           }
          ],
          "barpolar": [
           {
            "marker": {
             "line": {
              "color": "#E5ECF6",
              "width": 0.5
             },
             "pattern": {
              "fillmode": "overlay",
              "size": 10,
              "solidity": 0.2
             }
            },
            "type": "barpolar"
           }
          ],
          "carpet": [
           {
            "aaxis": {
             "endlinecolor": "#2a3f5f",
             "gridcolor": "white",
             "linecolor": "white",
             "minorgridcolor": "white",
             "startlinecolor": "#2a3f5f"
            },
            "baxis": {
             "endlinecolor": "#2a3f5f",
             "gridcolor": "white",
             "linecolor": "white",
             "minorgridcolor": "white",
             "startlinecolor": "#2a3f5f"
            },
            "type": "carpet"
           }
          ],
          "choropleth": [
           {
            "colorbar": {
             "outlinewidth": 0,
             "ticks": ""
            },
            "type": "choropleth"
           }
          ],
          "contour": [
           {
            "colorbar": {
             "outlinewidth": 0,
             "ticks": ""
            },
            "colorscale": [
             [
              0,
              "#0d0887"
             ],
             [
              0.1111111111111111,
              "#46039f"
             ],
             [
              0.2222222222222222,
              "#7201a8"
             ],
             [
              0.3333333333333333,
              "#9c179e"
             ],
             [
              0.4444444444444444,
              "#bd3786"
             ],
             [
              0.5555555555555556,
              "#d8576b"
             ],
             [
              0.6666666666666666,
              "#ed7953"
             ],
             [
              0.7777777777777778,
              "#fb9f3a"
             ],
             [
              0.8888888888888888,
              "#fdca26"
             ],
             [
              1,
              "#f0f921"
             ]
            ],
            "type": "contour"
           }
          ],
          "contourcarpet": [
           {
            "colorbar": {
             "outlinewidth": 0,
             "ticks": ""
            },
            "type": "contourcarpet"
           }
          ],
          "heatmap": [
           {
            "colorbar": {
             "outlinewidth": 0,
             "ticks": ""
            },
            "colorscale": [
             [
              0,
              "#0d0887"
             ],
             [
              0.1111111111111111,
              "#46039f"
             ],
             [
              0.2222222222222222,
              "#7201a8"
             ],
             [
              0.3333333333333333,
              "#9c179e"
             ],
             [
              0.4444444444444444,
              "#bd3786"
             ],
             [
              0.5555555555555556,
              "#d8576b"
             ],
             [
              0.6666666666666666,
              "#ed7953"
             ],
             [
              0.7777777777777778,
              "#fb9f3a"
             ],
             [
              0.8888888888888888,
              "#fdca26"
             ],
             [
              1,
              "#f0f921"
             ]
            ],
            "type": "heatmap"
           }
          ],
          "heatmapgl": [
           {
            "colorbar": {
             "outlinewidth": 0,
             "ticks": ""
            },
            "colorscale": [
             [
              0,
              "#0d0887"
             ],
             [
              0.1111111111111111,
              "#46039f"
             ],
             [
              0.2222222222222222,
              "#7201a8"
             ],
             [
              0.3333333333333333,
              "#9c179e"
             ],
             [
              0.4444444444444444,
              "#bd3786"
             ],
             [
              0.5555555555555556,
              "#d8576b"
             ],
             [
              0.6666666666666666,
              "#ed7953"
             ],
             [
              0.7777777777777778,
              "#fb9f3a"
             ],
             [
              0.8888888888888888,
              "#fdca26"
             ],
             [
              1,
              "#f0f921"
             ]
            ],
            "type": "heatmapgl"
           }
          ],
          "histogram": [
           {
            "marker": {
             "pattern": {
              "fillmode": "overlay",
              "size": 10,
              "solidity": 0.2
             }
            },
            "type": "histogram"
           }
          ],
          "histogram2d": [
           {
            "colorbar": {
             "outlinewidth": 0,
             "ticks": ""
            },
            "colorscale": [
             [
              0,
              "#0d0887"
             ],
             [
              0.1111111111111111,
              "#46039f"
             ],
             [
              0.2222222222222222,
              "#7201a8"
             ],
             [
              0.3333333333333333,
              "#9c179e"
             ],
             [
              0.4444444444444444,
              "#bd3786"
             ],
             [
              0.5555555555555556,
              "#d8576b"
             ],
             [
              0.6666666666666666,
              "#ed7953"
             ],
             [
              0.7777777777777778,
              "#fb9f3a"
             ],
             [
              0.8888888888888888,
              "#fdca26"
             ],
             [
              1,
              "#f0f921"
             ]
            ],
            "type": "histogram2d"
           }
          ],
          "histogram2dcontour": [
           {
            "colorbar": {
             "outlinewidth": 0,
             "ticks": ""
            },
            "colorscale": [
             [
              0,
              "#0d0887"
             ],
             [
              0.1111111111111111,
              "#46039f"
             ],
             [
              0.2222222222222222,
              "#7201a8"
             ],
             [
              0.3333333333333333,
              "#9c179e"
             ],
             [
              0.4444444444444444,
              "#bd3786"
             ],
             [
              0.5555555555555556,
              "#d8576b"
             ],
             [
              0.6666666666666666,
              "#ed7953"
             ],
             [
              0.7777777777777778,
              "#fb9f3a"
             ],
             [
              0.8888888888888888,
              "#fdca26"
             ],
             [
              1,
              "#f0f921"
             ]
            ],
            "type": "histogram2dcontour"
           }
          ],
          "mesh3d": [
           {
            "colorbar": {
             "outlinewidth": 0,
             "ticks": ""
            },
            "type": "mesh3d"
           }
          ],
          "parcoords": [
           {
            "line": {
             "colorbar": {
              "outlinewidth": 0,
              "ticks": ""
             }
            },
            "type": "parcoords"
           }
          ],
          "pie": [
           {
            "automargin": true,
            "type": "pie"
           }
          ],
          "scatter": [
           {
            "fillpattern": {
             "fillmode": "overlay",
             "size": 10,
             "solidity": 0.2
            },
            "type": "scatter"
           }
          ],
          "scatter3d": [
           {
            "line": {
             "colorbar": {
              "outlinewidth": 0,
              "ticks": ""
             }
            },
            "marker": {
             "colorbar": {
              "outlinewidth": 0,
              "ticks": ""
             }
            },
            "type": "scatter3d"
           }
          ],
          "scattercarpet": [
           {
            "marker": {
             "colorbar": {
              "outlinewidth": 0,
              "ticks": ""
             }
            },
            "type": "scattercarpet"
           }
          ],
          "scattergeo": [
           {
            "marker": {
             "colorbar": {
              "outlinewidth": 0,
              "ticks": ""
             }
            },
            "type": "scattergeo"
           }
          ],
          "scattergl": [
           {
            "marker": {
             "colorbar": {
              "outlinewidth": 0,
              "ticks": ""
             }
            },
            "type": "scattergl"
           }
          ],
          "scattermapbox": [
           {
            "marker": {
             "colorbar": {
              "outlinewidth": 0,
              "ticks": ""
             }
            },
            "type": "scattermapbox"
           }
          ],
          "scatterpolar": [
           {
            "marker": {
             "colorbar": {
              "outlinewidth": 0,
              "ticks": ""
             }
            },
            "type": "scatterpolar"
           }
          ],
          "scatterpolargl": [
           {
            "marker": {
             "colorbar": {
              "outlinewidth": 0,
              "ticks": ""
             }
            },
            "type": "scatterpolargl"
           }
          ],
          "scatterternary": [
           {
            "marker": {
             "colorbar": {
              "outlinewidth": 0,
              "ticks": ""
             }
            },
            "type": "scatterternary"
           }
          ],
          "surface": [
           {
            "colorbar": {
             "outlinewidth": 0,
             "ticks": ""
            },
            "colorscale": [
             [
              0,
              "#0d0887"
             ],
             [
              0.1111111111111111,
              "#46039f"
             ],
             [
              0.2222222222222222,
              "#7201a8"
             ],
             [
              0.3333333333333333,
              "#9c179e"
             ],
             [
              0.4444444444444444,
              "#bd3786"
             ],
             [
              0.5555555555555556,
              "#d8576b"
             ],
             [
              0.6666666666666666,
              "#ed7953"
             ],
             [
              0.7777777777777778,
              "#fb9f3a"
             ],
             [
              0.8888888888888888,
              "#fdca26"
             ],
             [
              1,
              "#f0f921"
             ]
            ],
            "type": "surface"
           }
          ],
          "table": [
           {
            "cells": {
             "fill": {
              "color": "#EBF0F8"
             },
             "line": {
              "color": "white"
             }
            },
            "header": {
             "fill": {
              "color": "#C8D4E3"
             },
             "line": {
              "color": "white"
             }
            },
            "type": "table"
           }
          ]
         },
         "layout": {
          "annotationdefaults": {
           "arrowcolor": "#2a3f5f",
           "arrowhead": 0,
           "arrowwidth": 1
          },
          "autotypenumbers": "strict",
          "coloraxis": {
           "colorbar": {
            "outlinewidth": 0,
            "ticks": ""
           }
          },
          "colorscale": {
           "diverging": [
            [
             0,
             "#8e0152"
            ],
            [
             0.1,
             "#c51b7d"
            ],
            [
             0.2,
             "#de77ae"
            ],
            [
             0.3,
             "#f1b6da"
            ],
            [
             0.4,
             "#fde0ef"
            ],
            [
             0.5,
             "#f7f7f7"
            ],
            [
             0.6,
             "#e6f5d0"
            ],
            [
             0.7,
             "#b8e186"
            ],
            [
             0.8,
             "#7fbc41"
            ],
            [
             0.9,
             "#4d9221"
            ],
            [
             1,
             "#276419"
            ]
           ],
           "sequential": [
            [
             0,
             "#0d0887"
            ],
            [
             0.1111111111111111,
             "#46039f"
            ],
            [
             0.2222222222222222,
             "#7201a8"
            ],
            [
             0.3333333333333333,
             "#9c179e"
            ],
            [
             0.4444444444444444,
             "#bd3786"
            ],
            [
             0.5555555555555556,
             "#d8576b"
            ],
            [
             0.6666666666666666,
             "#ed7953"
            ],
            [
             0.7777777777777778,
             "#fb9f3a"
            ],
            [
             0.8888888888888888,
             "#fdca26"
            ],
            [
             1,
             "#f0f921"
            ]
           ],
           "sequentialminus": [
            [
             0,
             "#0d0887"
            ],
            [
             0.1111111111111111,
             "#46039f"
            ],
            [
             0.2222222222222222,
             "#7201a8"
            ],
            [
             0.3333333333333333,
             "#9c179e"
            ],
            [
             0.4444444444444444,
             "#bd3786"
            ],
            [
             0.5555555555555556,
             "#d8576b"
            ],
            [
             0.6666666666666666,
             "#ed7953"
            ],
            [
             0.7777777777777778,
             "#fb9f3a"
            ],
            [
             0.8888888888888888,
             "#fdca26"
            ],
            [
             1,
             "#f0f921"
            ]
           ]
          },
          "colorway": [
           "#636efa",
           "#EF553B",
           "#00cc96",
           "#ab63fa",
           "#FFA15A",
           "#19d3f3",
           "#FF6692",
           "#B6E880",
           "#FF97FF",
           "#FECB52"
          ],
          "font": {
           "color": "#2a3f5f"
          },
          "geo": {
           "bgcolor": "white",
           "lakecolor": "white",
           "landcolor": "#E5ECF6",
           "showlakes": true,
           "showland": true,
           "subunitcolor": "white"
          },
          "hoverlabel": {
           "align": "left"
          },
          "hovermode": "closest",
          "mapbox": {
           "style": "light"
          },
          "paper_bgcolor": "white",
          "plot_bgcolor": "#E5ECF6",
          "polar": {
           "angularaxis": {
            "gridcolor": "white",
            "linecolor": "white",
            "ticks": ""
           },
           "bgcolor": "#E5ECF6",
           "radialaxis": {
            "gridcolor": "white",
            "linecolor": "white",
            "ticks": ""
           }
          },
          "scene": {
           "xaxis": {
            "backgroundcolor": "#E5ECF6",
            "gridcolor": "white",
            "gridwidth": 2,
            "linecolor": "white",
            "showbackground": true,
            "ticks": "",
            "zerolinecolor": "white"
           },
           "yaxis": {
            "backgroundcolor": "#E5ECF6",
            "gridcolor": "white",
            "gridwidth": 2,
            "linecolor": "white",
            "showbackground": true,
            "ticks": "",
            "zerolinecolor": "white"
           },
           "zaxis": {
            "backgroundcolor": "#E5ECF6",
            "gridcolor": "white",
            "gridwidth": 2,
            "linecolor": "white",
            "showbackground": true,
            "ticks": "",
            "zerolinecolor": "white"
           }
          },
          "shapedefaults": {
           "line": {
            "color": "#2a3f5f"
           }
          },
          "ternary": {
           "aaxis": {
            "gridcolor": "white",
            "linecolor": "white",
            "ticks": ""
           },
           "baxis": {
            "gridcolor": "white",
            "linecolor": "white",
            "ticks": ""
           },
           "bgcolor": "#E5ECF6",
           "caxis": {
            "gridcolor": "white",
            "linecolor": "white",
            "ticks": ""
           }
          },
          "title": {
           "x": 0.05
          },
          "xaxis": {
           "automargin": true,
           "gridcolor": "white",
           "linecolor": "white",
           "ticks": "",
           "title": {
            "standoff": 15
           },
           "zerolinecolor": "white",
           "zerolinewidth": 2
          },
          "yaxis": {
           "automargin": true,
           "gridcolor": "white",
           "linecolor": "white",
           "ticks": "",
           "title": {
            "standoff": 15
           },
           "zerolinecolor": "white",
           "zerolinewidth": 2
          }
         }
        },
        "title": {
         "text": "Distribution of Pinch Strength<br><sup>by Jerry Yu</sub>",
         "x": 0.5,
         "xanchor": "center",
         "yanchor": "top"
        },
        "xaxis": {
         "anchor": "y",
         "domain": [
          0,
          1
         ],
         "title": {
          "text": "Pinch"
         }
        },
        "yaxis": {
         "anchor": "x",
         "domain": [
          0,
          1
         ],
         "title": {
          "text": "count"
         }
        }
       }
      }
     },
     "metadata": {},
     "output_type": "display_data"
    }
   ],
   "source": [
    "# Graph Pinch\n",
    "pinchist = px.histogram(Chalk,x=\"Pinch\",\n",
    "                        title = \"Distribution of Pinch Strength\",\n",
    "                        nbins = 20)\n",
    "pinchist.update_layout(\n",
    "    title = {\n",
    "        \"text\":\"Distribution of Pinch Strength<br><sup>by Jerry Yu</sub>\",\n",
    "        \"x\":0.5,\n",
    "        \"xanchor\":\"center\",\n",
    "        \"yanchor\":\"top\"\n",
    "    }\n",
    ")\n",
    "pinchist.show()\n",
    "# weird shape, good coverage, no noticable outliers"
   ]
  },
  {
   "cell_type": "markdown",
   "metadata": {},
   "source": [
    "Notes:\n",
    "- at lower weights, obviously had more control so more centered around 1 lb, 2lb etc. However the distirbution is pretty uniform"
   ]
  },
  {
   "cell_type": "code",
   "execution_count": 6,
   "metadata": {},
   "outputs": [
    {
     "data": {
      "application/vnd.plotly.v1+json": {
       "config": {
        "plotlyServerURL": "https://plot.ly"
       },
       "data": [
        {
         "alignmentgroup": "True",
         "bingroup": "x",
         "hovertemplate": "Pull=%{x}<br>count=%{y}<extra></extra>",
         "legendgroup": "",
         "marker": {
          "color": "#636efa",
          "pattern": {
           "shape": ""
          }
         },
         "name": "",
         "offsetgroup": "",
         "orientation": "v",
         "showlegend": false,
         "type": "histogram",
         "x": [
          34.6,
          31.9,
          31.9,
          41.1,
          44.5,
          45.7,
          7.2,
          9.5,
          8.5,
          30.6,
          26.1,
          27.5,
          44.6,
          37.5,
          40.1,
          45.1,
          49.1,
          44.2,
          23.5,
          22.6,
          25.4,
          63.9,
          61.7,
          76.3,
          40.5,
          38.7,
          42.7,
          41.5,
          42.5,
          44.5,
          8.4,
          8.3,
          9.5,
          35.5,
          26.4,
          27.1,
          50.6,
          43.6,
          41.7,
          51.7,
          39.1,
          47,
          56.5,
          52.6,
          49.6,
          5.7,
          7.4,
          6.5,
          29.4,
          33.8,
          23.6,
          42.5,
          43.7,
          46.5,
          46.2,
          56.5,
          47.5,
          12.7,
          9.1,
          11.4,
          74,
          83.3,
          75.1,
          77.5,
          68.5,
          67.5,
          55.4,
          46.3,
          48.5,
          8.8,
          12.5,
          10.7,
          24.2,
          25.1,
          19.6,
          14.8,
          15.7,
          17,
          38.1,
          37.9,
          38.4,
          36.5,
          36.1,
          35.5,
          51.6,
          46.4,
          47.1,
          39.6,
          39.7,
          37.1,
          35.1,
          33.7,
          31.7,
          51.1,
          53.3,
          46.5,
          3.6,
          5.3,
          5.2,
          23.7,
          24.5,
          25.5,
          19.4,
          21.1,
          18.7,
          45.3,
          46.6,
          35.4,
          15.4,
          14.6,
          16.7,
          71.1,
          81.5,
          89.2,
          25.1,
          22.6,
          22.4,
          61.6,
          70.5,
          67.1,
          6.1,
          5.3,
          9.1,
          49.2,
          47.6,
          44.6,
          21.5,
          25.1,
          26.6,
          17,
          12.5,
          18,
          7.5,
          5.1,
          8.5,
          13.9,
          15,
          12.2,
          54.1,
          61.1,
          64.3,
          45.7,
          29,
          34,
          15.4,
          14.7,
          15.1,
          36.4,
          42.8,
          46.3,
          8.9,
          11,
          7.2,
          36.2,
          45.7,
          47.6,
          71.5,
          75.2,
          64.3,
          69,
          65.4,
          54.4,
          30.7,
          32.1,
          31.4,
          52.7,
          55.7,
          47.6,
          51.1,
          55.5,
          50.7,
          70.7,
          75.4,
          66.3,
          13.6,
          13.2,
          13.6,
          66.7,
          74.1,
          69.5,
          7.1,
          7.7,
          4.2,
          34.2,
          37.6,
          29.3,
          35.4,
          37.4,
          35.7,
          52.7,
          43.2,
          46.6,
          61.8,
          47.3,
          46.6,
          6.2,
          5.4,
          4.9,
          14.2,
          14.2,
          15.1,
          51.5,
          55.3,
          56.7,
          34.1,
          36.3,
          30.1,
          59.3,
          54.1,
          64.7,
          49.3,
          30.5,
          35.5,
          26.6,
          24.5,
          19.2,
          52.2,
          45.2,
          46,
          27.4,
          26.6,
          44.6,
          4.4,
          3.2,
          7.1,
          16.7,
          14.2,
          16.4,
          42.5,
          46.7,
          44,
          44.4,
          47.2,
          45.1,
          17.2,
          16.5,
          17.2,
          20.9,
          25.5,
          26.1,
          5.4,
          8.3,
          6.2,
          28,
          31,
          27.2,
          15.5,
          16.3,
          15.7,
          25.7,
          26.1,
          25.4,
          24.4,
          24.8,
          31.8,
          2.5,
          5.7,
          5.7,
          10.6,
          11.5,
          10.5,
          23.5,
          27.2,
          31.1,
          25.7,
          21.5,
          22.2,
          55.9,
          50.5,
          51.7,
          39.1,
          37.9,
          35.6,
          34.1,
          37.3,
          36.5,
          25.9,
          27.3,
          24.1,
          48.1,
          35.4,
          35.5,
          7.1,
          9.1,
          7.7,
          35.5,
          28.3,
          33.7,
          65.5,
          73.3,
          77.3,
          51.4,
          54.9,
          52.6,
          8.9,
          14.4,
          13.5,
          22.1,
          28.2,
          29.4,
          10.4,
          6.6,
          12.2,
          30.1,
          33.5,
          34.9,
          17.7,
          15.3,
          17.1,
          19,
          19.2,
          26.1,
          44.7,
          50.7,
          47.5,
          44.7,
          41.1,
          51,
          5.5,
          8.1,
          6.7,
          22.4,
          26.2,
          22.2,
          37.7,
          33.6,
          33.6,
          31.4,
          33.5,
          34.4,
          5.1,
          7.1,
          6.4,
          13.8,
          14.3,
          15.6,
          37.1,
          36.4,
          40.5,
          53.2,
          57.4,
          54.6,
          3.3,
          3.2,
          3.2,
          35.7,
          42.5,
          37.1,
          37.4,
          29.7,
          35.2,
          10.7,
          10.7,
          9.2,
          56.7,
          57.7,
          60.7,
          61.2,
          59.6,
          67.4,
          11.2,
          11.1,
          11,
          35.3,
          33.5,
          28.9,
          52.5,
          57.2,
          47.9,
          34,
          25.4,
          25.9,
          42.2,
          35.2,
          32.2,
          12.2,
          19.6,
          20,
          24.6,
          17.5,
          15.2,
          35.1,
          33.5,
          31.2,
          3.7,
          5.7,
          7.5,
          26.7,
          30.2,
          28.1,
          44.5,
          46.1,
          44.7,
          15.5,
          16.5,
          17.8,
          1.5,
          2.7,
          5.8,
          24.2,
          20.5,
          25.2,
          45.1,
          54.5,
          50.1,
          7,
          7.4,
          8.4,
          30.9,
          30.3,
          28.7,
          34.6,
          35.7,
          33.7,
          33.3,
          31.1,
          32.7,
          32.3,
          39.2,
          31.7,
          39.5,
          41.5,
          32.6,
          15.7,
          15.5,
          17.7,
          35.9,
          34.2,
          36.6,
          14.4,
          15.7,
          19.7,
          22.7,
          16.8,
          22.5,
          7.9,
          9.3,
          10,
          13.5,
          14.5,
          16,
          55.5,
          65.1,
          54.5,
          11.1,
          9.4,
          12.7,
          37,
          34.5,
          41.6,
          29.4,
          22.3,
          27.3,
          46.1,
          36.7,
          37.2,
          6.2,
          7.4,
          6.2,
          31.9,
          35.4,
          39.6,
          18.7,
          15.2,
          17.1,
          50.9,
          57.3,
          57.7,
          47.9,
          45.7,
          51.5,
          14,
          17.4,
          22.2,
          22.3,
          21.1,
          23.5,
          11.4,
          10.3,
          10.5,
          4.7,
          2.4,
          5.1,
          3.1,
          5,
          5.7,
          59,
          59.1,
          55.3,
          9.7,
          7.6,
          6.6,
          13.6,
          15.3,
          17.4,
          8.9,
          8.1,
          9.4,
          49.6,
          57.7,
          55.4,
          9.7,
          16.5,
          14.4,
          27.4,
          25.1,
          29.2,
          27.7,
          28.6,
          27.1,
          42.7,
          39.5,
          43.1,
          71.5,
          82.3,
          77.2,
          35.3,
          42.8,
          44.3,
          51.9,
          55.7,
          48.7,
          3.5,
          2.5,
          2.2,
          17.7,
          21.6,
          15.7,
          31.2,
          25.2,
          23.4,
          43.1,
          41.2,
          46.7,
          7.6,
          3.4,
          7.5,
          25.3,
          30.6,
          25.2,
          16,
          14.7,
          22.7,
          24.1,
          21.4,
          22.7,
          42.5,
          64.5,
          57.7,
          82,
          70.1,
          71.3,
          57.5,
          64.1,
          63.1,
          30.4,
          30.7,
          31.1,
          49.5,
          45.1,
          45,
          21.2,
          25.4,
          29.6,
          25.3,
          24.7,
          25.1,
          27.1,
          23.6,
          24.4,
          51.2,
          45.3,
          45.4,
          31.4,
          32.8,
          31.1
         ],
         "xaxis": "x",
         "yaxis": "y"
        }
       ],
       "layout": {
        "barmode": "relative",
        "legend": {
         "tracegroupgap": 0
        },
        "template": {
         "data": {
          "bar": [
           {
            "error_x": {
             "color": "#2a3f5f"
            },
            "error_y": {
             "color": "#2a3f5f"
            },
            "marker": {
             "line": {
              "color": "#E5ECF6",
              "width": 0.5
             },
             "pattern": {
              "fillmode": "overlay",
              "size": 10,
              "solidity": 0.2
             }
            },
            "type": "bar"
           }
          ],
          "barpolar": [
           {
            "marker": {
             "line": {
              "color": "#E5ECF6",
              "width": 0.5
             },
             "pattern": {
              "fillmode": "overlay",
              "size": 10,
              "solidity": 0.2
             }
            },
            "type": "barpolar"
           }
          ],
          "carpet": [
           {
            "aaxis": {
             "endlinecolor": "#2a3f5f",
             "gridcolor": "white",
             "linecolor": "white",
             "minorgridcolor": "white",
             "startlinecolor": "#2a3f5f"
            },
            "baxis": {
             "endlinecolor": "#2a3f5f",
             "gridcolor": "white",
             "linecolor": "white",
             "minorgridcolor": "white",
             "startlinecolor": "#2a3f5f"
            },
            "type": "carpet"
           }
          ],
          "choropleth": [
           {
            "colorbar": {
             "outlinewidth": 0,
             "ticks": ""
            },
            "type": "choropleth"
           }
          ],
          "contour": [
           {
            "colorbar": {
             "outlinewidth": 0,
             "ticks": ""
            },
            "colorscale": [
             [
              0,
              "#0d0887"
             ],
             [
              0.1111111111111111,
              "#46039f"
             ],
             [
              0.2222222222222222,
              "#7201a8"
             ],
             [
              0.3333333333333333,
              "#9c179e"
             ],
             [
              0.4444444444444444,
              "#bd3786"
             ],
             [
              0.5555555555555556,
              "#d8576b"
             ],
             [
              0.6666666666666666,
              "#ed7953"
             ],
             [
              0.7777777777777778,
              "#fb9f3a"
             ],
             [
              0.8888888888888888,
              "#fdca26"
             ],
             [
              1,
              "#f0f921"
             ]
            ],
            "type": "contour"
           }
          ],
          "contourcarpet": [
           {
            "colorbar": {
             "outlinewidth": 0,
             "ticks": ""
            },
            "type": "contourcarpet"
           }
          ],
          "heatmap": [
           {
            "colorbar": {
             "outlinewidth": 0,
             "ticks": ""
            },
            "colorscale": [
             [
              0,
              "#0d0887"
             ],
             [
              0.1111111111111111,
              "#46039f"
             ],
             [
              0.2222222222222222,
              "#7201a8"
             ],
             [
              0.3333333333333333,
              "#9c179e"
             ],
             [
              0.4444444444444444,
              "#bd3786"
             ],
             [
              0.5555555555555556,
              "#d8576b"
             ],
             [
              0.6666666666666666,
              "#ed7953"
             ],
             [
              0.7777777777777778,
              "#fb9f3a"
             ],
             [
              0.8888888888888888,
              "#fdca26"
             ],
             [
              1,
              "#f0f921"
             ]
            ],
            "type": "heatmap"
           }
          ],
          "heatmapgl": [
           {
            "colorbar": {
             "outlinewidth": 0,
             "ticks": ""
            },
            "colorscale": [
             [
              0,
              "#0d0887"
             ],
             [
              0.1111111111111111,
              "#46039f"
             ],
             [
              0.2222222222222222,
              "#7201a8"
             ],
             [
              0.3333333333333333,
              "#9c179e"
             ],
             [
              0.4444444444444444,
              "#bd3786"
             ],
             [
              0.5555555555555556,
              "#d8576b"
             ],
             [
              0.6666666666666666,
              "#ed7953"
             ],
             [
              0.7777777777777778,
              "#fb9f3a"
             ],
             [
              0.8888888888888888,
              "#fdca26"
             ],
             [
              1,
              "#f0f921"
             ]
            ],
            "type": "heatmapgl"
           }
          ],
          "histogram": [
           {
            "marker": {
             "pattern": {
              "fillmode": "overlay",
              "size": 10,
              "solidity": 0.2
             }
            },
            "type": "histogram"
           }
          ],
          "histogram2d": [
           {
            "colorbar": {
             "outlinewidth": 0,
             "ticks": ""
            },
            "colorscale": [
             [
              0,
              "#0d0887"
             ],
             [
              0.1111111111111111,
              "#46039f"
             ],
             [
              0.2222222222222222,
              "#7201a8"
             ],
             [
              0.3333333333333333,
              "#9c179e"
             ],
             [
              0.4444444444444444,
              "#bd3786"
             ],
             [
              0.5555555555555556,
              "#d8576b"
             ],
             [
              0.6666666666666666,
              "#ed7953"
             ],
             [
              0.7777777777777778,
              "#fb9f3a"
             ],
             [
              0.8888888888888888,
              "#fdca26"
             ],
             [
              1,
              "#f0f921"
             ]
            ],
            "type": "histogram2d"
           }
          ],
          "histogram2dcontour": [
           {
            "colorbar": {
             "outlinewidth": 0,
             "ticks": ""
            },
            "colorscale": [
             [
              0,
              "#0d0887"
             ],
             [
              0.1111111111111111,
              "#46039f"
             ],
             [
              0.2222222222222222,
              "#7201a8"
             ],
             [
              0.3333333333333333,
              "#9c179e"
             ],
             [
              0.4444444444444444,
              "#bd3786"
             ],
             [
              0.5555555555555556,
              "#d8576b"
             ],
             [
              0.6666666666666666,
              "#ed7953"
             ],
             [
              0.7777777777777778,
              "#fb9f3a"
             ],
             [
              0.8888888888888888,
              "#fdca26"
             ],
             [
              1,
              "#f0f921"
             ]
            ],
            "type": "histogram2dcontour"
           }
          ],
          "mesh3d": [
           {
            "colorbar": {
             "outlinewidth": 0,
             "ticks": ""
            },
            "type": "mesh3d"
           }
          ],
          "parcoords": [
           {
            "line": {
             "colorbar": {
              "outlinewidth": 0,
              "ticks": ""
             }
            },
            "type": "parcoords"
           }
          ],
          "pie": [
           {
            "automargin": true,
            "type": "pie"
           }
          ],
          "scatter": [
           {
            "fillpattern": {
             "fillmode": "overlay",
             "size": 10,
             "solidity": 0.2
            },
            "type": "scatter"
           }
          ],
          "scatter3d": [
           {
            "line": {
             "colorbar": {
              "outlinewidth": 0,
              "ticks": ""
             }
            },
            "marker": {
             "colorbar": {
              "outlinewidth": 0,
              "ticks": ""
             }
            },
            "type": "scatter3d"
           }
          ],
          "scattercarpet": [
           {
            "marker": {
             "colorbar": {
              "outlinewidth": 0,
              "ticks": ""
             }
            },
            "type": "scattercarpet"
           }
          ],
          "scattergeo": [
           {
            "marker": {
             "colorbar": {
              "outlinewidth": 0,
              "ticks": ""
             }
            },
            "type": "scattergeo"
           }
          ],
          "scattergl": [
           {
            "marker": {
             "colorbar": {
              "outlinewidth": 0,
              "ticks": ""
             }
            },
            "type": "scattergl"
           }
          ],
          "scattermapbox": [
           {
            "marker": {
             "colorbar": {
              "outlinewidth": 0,
              "ticks": ""
             }
            },
            "type": "scattermapbox"
           }
          ],
          "scatterpolar": [
           {
            "marker": {
             "colorbar": {
              "outlinewidth": 0,
              "ticks": ""
             }
            },
            "type": "scatterpolar"
           }
          ],
          "scatterpolargl": [
           {
            "marker": {
             "colorbar": {
              "outlinewidth": 0,
              "ticks": ""
             }
            },
            "type": "scatterpolargl"
           }
          ],
          "scatterternary": [
           {
            "marker": {
             "colorbar": {
              "outlinewidth": 0,
              "ticks": ""
             }
            },
            "type": "scatterternary"
           }
          ],
          "surface": [
           {
            "colorbar": {
             "outlinewidth": 0,
             "ticks": ""
            },
            "colorscale": [
             [
              0,
              "#0d0887"
             ],
             [
              0.1111111111111111,
              "#46039f"
             ],
             [
              0.2222222222222222,
              "#7201a8"
             ],
             [
              0.3333333333333333,
              "#9c179e"
             ],
             [
              0.4444444444444444,
              "#bd3786"
             ],
             [
              0.5555555555555556,
              "#d8576b"
             ],
             [
              0.6666666666666666,
              "#ed7953"
             ],
             [
              0.7777777777777778,
              "#fb9f3a"
             ],
             [
              0.8888888888888888,
              "#fdca26"
             ],
             [
              1,
              "#f0f921"
             ]
            ],
            "type": "surface"
           }
          ],
          "table": [
           {
            "cells": {
             "fill": {
              "color": "#EBF0F8"
             },
             "line": {
              "color": "white"
             }
            },
            "header": {
             "fill": {
              "color": "#C8D4E3"
             },
             "line": {
              "color": "white"
             }
            },
            "type": "table"
           }
          ]
         },
         "layout": {
          "annotationdefaults": {
           "arrowcolor": "#2a3f5f",
           "arrowhead": 0,
           "arrowwidth": 1
          },
          "autotypenumbers": "strict",
          "coloraxis": {
           "colorbar": {
            "outlinewidth": 0,
            "ticks": ""
           }
          },
          "colorscale": {
           "diverging": [
            [
             0,
             "#8e0152"
            ],
            [
             0.1,
             "#c51b7d"
            ],
            [
             0.2,
             "#de77ae"
            ],
            [
             0.3,
             "#f1b6da"
            ],
            [
             0.4,
             "#fde0ef"
            ],
            [
             0.5,
             "#f7f7f7"
            ],
            [
             0.6,
             "#e6f5d0"
            ],
            [
             0.7,
             "#b8e186"
            ],
            [
             0.8,
             "#7fbc41"
            ],
            [
             0.9,
             "#4d9221"
            ],
            [
             1,
             "#276419"
            ]
           ],
           "sequential": [
            [
             0,
             "#0d0887"
            ],
            [
             0.1111111111111111,
             "#46039f"
            ],
            [
             0.2222222222222222,
             "#7201a8"
            ],
            [
             0.3333333333333333,
             "#9c179e"
            ],
            [
             0.4444444444444444,
             "#bd3786"
            ],
            [
             0.5555555555555556,
             "#d8576b"
            ],
            [
             0.6666666666666666,
             "#ed7953"
            ],
            [
             0.7777777777777778,
             "#fb9f3a"
            ],
            [
             0.8888888888888888,
             "#fdca26"
            ],
            [
             1,
             "#f0f921"
            ]
           ],
           "sequentialminus": [
            [
             0,
             "#0d0887"
            ],
            [
             0.1111111111111111,
             "#46039f"
            ],
            [
             0.2222222222222222,
             "#7201a8"
            ],
            [
             0.3333333333333333,
             "#9c179e"
            ],
            [
             0.4444444444444444,
             "#bd3786"
            ],
            [
             0.5555555555555556,
             "#d8576b"
            ],
            [
             0.6666666666666666,
             "#ed7953"
            ],
            [
             0.7777777777777778,
             "#fb9f3a"
            ],
            [
             0.8888888888888888,
             "#fdca26"
            ],
            [
             1,
             "#f0f921"
            ]
           ]
          },
          "colorway": [
           "#636efa",
           "#EF553B",
           "#00cc96",
           "#ab63fa",
           "#FFA15A",
           "#19d3f3",
           "#FF6692",
           "#B6E880",
           "#FF97FF",
           "#FECB52"
          ],
          "font": {
           "color": "#2a3f5f"
          },
          "geo": {
           "bgcolor": "white",
           "lakecolor": "white",
           "landcolor": "#E5ECF6",
           "showlakes": true,
           "showland": true,
           "subunitcolor": "white"
          },
          "hoverlabel": {
           "align": "left"
          },
          "hovermode": "closest",
          "mapbox": {
           "style": "light"
          },
          "paper_bgcolor": "white",
          "plot_bgcolor": "#E5ECF6",
          "polar": {
           "angularaxis": {
            "gridcolor": "white",
            "linecolor": "white",
            "ticks": ""
           },
           "bgcolor": "#E5ECF6",
           "radialaxis": {
            "gridcolor": "white",
            "linecolor": "white",
            "ticks": ""
           }
          },
          "scene": {
           "xaxis": {
            "backgroundcolor": "#E5ECF6",
            "gridcolor": "white",
            "gridwidth": 2,
            "linecolor": "white",
            "showbackground": true,
            "ticks": "",
            "zerolinecolor": "white"
           },
           "yaxis": {
            "backgroundcolor": "#E5ECF6",
            "gridcolor": "white",
            "gridwidth": 2,
            "linecolor": "white",
            "showbackground": true,
            "ticks": "",
            "zerolinecolor": "white"
           },
           "zaxis": {
            "backgroundcolor": "#E5ECF6",
            "gridcolor": "white",
            "gridwidth": 2,
            "linecolor": "white",
            "showbackground": true,
            "ticks": "",
            "zerolinecolor": "white"
           }
          },
          "shapedefaults": {
           "line": {
            "color": "#2a3f5f"
           }
          },
          "ternary": {
           "aaxis": {
            "gridcolor": "white",
            "linecolor": "white",
            "ticks": ""
           },
           "baxis": {
            "gridcolor": "white",
            "linecolor": "white",
            "ticks": ""
           },
           "bgcolor": "#E5ECF6",
           "caxis": {
            "gridcolor": "white",
            "linecolor": "white",
            "ticks": ""
           }
          },
          "title": {
           "x": 0.05
          },
          "xaxis": {
           "automargin": true,
           "gridcolor": "white",
           "linecolor": "white",
           "ticks": "",
           "title": {
            "standoff": 15
           },
           "zerolinecolor": "white",
           "zerolinewidth": 2
          },
          "yaxis": {
           "automargin": true,
           "gridcolor": "white",
           "linecolor": "white",
           "ticks": "",
           "title": {
            "standoff": 15
           },
           "zerolinecolor": "white",
           "zerolinewidth": 2
          }
         }
        },
        "title": {
         "text": "Distribution of Pull Strength<br><sup>by Jerry Yu</sub>",
         "x": 0.5,
         "xanchor": "center",
         "yanchor": "top"
        },
        "xaxis": {
         "anchor": "y",
         "domain": [
          0,
          1
         ],
         "title": {
          "text": "Pull"
         }
        },
        "yaxis": {
         "anchor": "x",
         "domain": [
          0,
          1
         ],
         "title": {
          "text": "count"
         }
        }
       }
      }
     },
     "metadata": {},
     "output_type": "display_data"
    }
   ],
   "source": [
    "# Graph Pull\n",
    "pullhist = px.histogram(Chalk,x=\"Pull\",\n",
    "                        title = \"Distribution of Pull Strength\")\n",
    "pullhist.update_layout(\n",
    "    title = {\n",
    "        \"text\":\"Distribution of Pull Strength<br><sup>by Jerry Yu</sub>\",\n",
    "        \"x\":0.5,\n",
    "        \"xanchor\":\"center\",\n",
    "        \"yanchor\":\"top\"\n",
    "    }\n",
    ")\n",
    "pullhist.show()\n",
    "#right tail, might need normalization"
   ]
  },
  {
   "cell_type": "markdown",
   "metadata": {},
   "source": [
    "- Very significant right skew. This is a sign of nonnormality. "
   ]
  },
  {
   "cell_type": "code",
   "execution_count": 7,
   "metadata": {},
   "outputs": [
    {
     "data": {
      "application/vnd.plotly.v1+json": {
       "config": {
        "plotlyServerURL": "https://plot.ly"
       },
       "data": [
        {
         "hovertemplate": "Pinch=%{x}<br>Pull=%{y}<extra></extra>",
         "legendgroup": "",
         "marker": {
          "color": "#636efa",
          "symbol": "circle"
         },
         "mode": "markers",
         "name": "",
         "orientation": "v",
         "showlegend": false,
         "type": "scatter",
         "x": [
          4.202,
          4.117,
          4.154,
          4.088,
          4.088,
          4.086,
          1.099,
          1.319,
          1.198,
          3.124,
          2.808,
          3.077,
          4.088,
          4.223,
          4.125,
          4.888,
          5.356,
          4.838,
          2.086,
          2.054,
          2.08,
          5.989,
          6.064,
          5.883,
          4.483,
          4.088,
          4.528,
          5.233,
          5.382,
          5.1,
          1.284,
          1.322,
          1.408,
          3.938,
          3.298,
          3.238,
          5.105,
          5.372,
          5.201,
          5.587,
          5.055,
          4.991,
          5.898,
          5.899,
          5.881,
          1.176,
          1.292,
          1.044,
          3.121,
          3.289,
          2.966,
          4.104,
          4.18,
          4.453,
          4.212,
          4.349,
          3.792,
          1.167,
          1.018,
          1.018,
          6.039,
          7.126,
          6.407,
          5.492,
          5.703,
          5.342,
          6.309,
          5.813,
          6.138,
          1.093,
          1.188,
          1.036,
          2.597,
          2.419,
          2.058,
          1.949,
          1.908,
          2.209,
          3.36,
          3.326,
          2.999,
          3.886,
          4.549,
          4.078,
          5.96,
          5.5,
          6.198,
          5.289,
          5.472,
          5.066,
          3.129,
          2.847,
          3.072,
          6.683,
          6.046,
          5.699,
          1.275,
          1.135,
          1.288,
          2.188,
          1.998,
          1.997,
          2.129,
          2.179,
          1.952,
          3.762,
          3.399,
          3.316,
          2.347,
          2.129,
          2.104,
          6.221,
          6.262,
          6.878,
          3.572,
          3.189,
          3.258,
          5.061,
          5.334,
          4.947,
          1.198,
          1.098,
          1.303,
          4.047,
          4.096,
          4.116,
          2.998,
          3.089,
          3.088,
          2.342,
          2.078,
          2.217,
          1.098,
          1.054,
          1.141,
          2.061,
          2.078,
          1.983,
          5.738,
          5.692,
          6.088,
          4.989,
          4.294,
          4.288,
          2.198,
          2.101,
          2.192,
          4.158,
          4.389,
          4.388,
          1.002,
          0.938,
          1.088,
          5.309,
          5.069,
          5.22,
          6.007,
          6.038,
          6.308,
          5.16,
          4.887,
          5.108,
          3.053,
          2.83,
          2.899,
          6.498,
          6.602,
          6.225,
          6.398,
          5.969,
          5.608,
          7.243,
          7.389,
          6.914,
          2.098,
          2.198,
          2.278,
          6.091,
          5.988,
          6.074,
          1.278,
          1.238,
          1.068,
          3.946,
          4.473,
          3.938,
          3.915,
          4.057,
          3.99,
          4.304,
          4.239,
          4.224,
          6.033,
          5.337,
          4.987,
          1.157,
          1.073,
          1.097,
          2.288,
          2.234,
          2.169,
          4.889,
          4.582,
          4.718,
          2.829,
          3.138,
          3.191,
          5.587,
          5.934,
          7.216,
          4.766,
          3.788,
          4.012,
          3.546,
          3.148,
          2.798,
          5.928,
          6.093,
          5.843,
          3.564,
          3.055,
          4.039,
          1.034,
          1.037,
          1.019,
          2.098,
          2.048,
          2.033,
          3.638,
          3.889,
          3.762,
          5.492,
          5.447,
          5.139,
          2.006,
          2.088,
          2.023,
          1.988,
          2.049,
          2.114,
          1.082,
          1.093,
          0.979,
          4.072,
          4.208,
          4.196,
          2.096,
          2.015,
          2.022,
          3.08,
          3.1,
          3.098,
          3.218,
          3.363,
          3.388,
          1.085,
          1.053,
          0.947,
          1.217,
          1.1,
          1.176,
          4.149,
          4.162,
          4.449,
          2.139,
          2.022,
          2.019,
          6.309,
          6.009,
          6.087,
          5.66,
          5.291,
          4.898,
          3.013,
          3.176,
          3.315,
          3.218,
          3.044,
          3.306,
          5.581,
          5.039,
          4.893,
          1.309,
          1.463,
          1.19,
          5.29,
          5.038,
          5.275,
          6,
          5.859,
          6.143,
          4.919,
          4.909,
          5.048,
          2.194,
          2.199,
          2.065,
          3.22,
          3.214,
          3.215,
          2.351,
          2.096,
          2.206,
          4.387,
          4.095,
          4.247,
          2.218,
          2.138,
          2.079,
          3.247,
          3.152,
          3.253,
          5.998,
          5.993,
          6.048,
          4.997,
          4.589,
          5.384,
          1.219,
          1.308,
          1.249,
          3.211,
          3.458,
          3.187,
          4.446,
          4.258,
          4.172,
          3.209,
          3.284,
          2.88,
          1.042,
          1.221,
          1.033,
          2.29,
          1.96,
          2.059,
          4.793,
          4.767,
          4.958,
          6.087,
          6.636,
          5.872,
          1.149,
          0.989,
          1.059,
          4.496,
          4.491,
          4.019,
          3.648,
          3.189,
          3.573,
          1.089,
          1.102,
          1.02,
          6.493,
          5.989,
          5.998,
          6.685,
          6.172,
          6.276,
          1.207,
          1.063,
          1.184,
          5.287,
          4.886,
          4.949,
          6.935,
          6.741,
          6.158,
          3.988,
          4.123,
          4.333,
          5.061,
          5.191,
          5.094,
          2.178,
          2.089,
          2.183,
          1.97,
          2.188,
          2.048,
          5.267,
          5.326,
          5.636,
          1.038,
          1,
          1.192,
          3.209,
          3.138,
          3.406,
          5.783,
          6.108,
          5.898,
          2.413,
          2.199,
          2.28,
          1.033,
          1.082,
          1.048,
          4.109,
          3.899,
          4.251,
          4.988,
          4.964,
          5.069,
          1.523,
          1.238,
          1.369,
          5.189,
          5.086,
          5.098,
          4.088,
          3.898,
          3.859,
          2.868,
          2.898,
          3.092,
          5.999,
          5.966,
          6.031,
          4.332,
          4.089,
          3.988,
          3.098,
          2.892,
          3.21,
          4.106,
          3.838,
          4.188,
          2.298,
          1.898,
          2.183,
          3.048,
          2.888,
          2.688,
          1.289,
          1.389,
          1.208,
          2.089,
          2.008,
          2.133,
          5.336,
          5.599,
          5.579,
          2.208,
          2.098,
          2.08,
          4.282,
          4.094,
          3.899,
          3.322,
          3.092,
          3.298,
          6.558,
          6.199,
          6.343,
          1.196,
          1.36,
          1.198,
          4.888,
          4.979,
          5.217,
          2.098,
          1.983,
          2.207,
          5.998,
          6.203,
          6.387,
          5.972,
          5.666,
          5.869,
          2.041,
          2.22,
          2.212,
          3.292,
          3.088,
          3.088,
          1.139,
          1.098,
          1.231,
          1.147,
          1.115,
          1.279,
          0.988,
          1.219,
          0.972,
          5.097,
          4.964,
          4.787,
          1.268,
          1.061,
          1.279,
          2.077,
          1.992,
          2.164,
          2.217,
          2.187,
          1.898,
          4.463,
          4.066,
          3.676,
          3.077,
          3.161,
          3.186,
          4.06,
          3.962,
          4.099,
          4.28,
          4.335,
          4.388,
          2.947,
          3.278,
          3.298,
          5.744,
          5.826,
          6.173,
          3.276,
          3.127,
          3.326,
          6.168,
          6.75,
          6.096,
          1.359,
          1.1,
          1.081,
          2.381,
          2.442,
          2.075,
          4.996,
          4.988,
          4.979,
          5.978,
          6.124,
          6.493,
          1.311,
          1.218,
          1.446,
          4.153,
          4.088,
          4.304,
          2.992,
          3.31,
          3.338,
          3.103,
          3.155,
          3.048,
          4.24,
          4.979,
          4.612,
          6.888,
          6.32,
          6.549,
          6.028,
          6.484,
          6.203,
          4.877,
          4.938,
          5.168,
          5.026,
          4.899,
          5.306,
          2.015,
          2.372,
          2.625,
          4.083,
          4.143,
          4.252,
          4.288,
          3.91,
          4.38,
          5.117,
          5.098,
          4.878,
          5.198,
          5.624,
          5.274
         ],
         "xaxis": "x",
         "y": [
          34.6,
          31.9,
          31.9,
          41.1,
          44.5,
          45.7,
          7.2,
          9.5,
          8.5,
          30.6,
          26.1,
          27.5,
          44.6,
          37.5,
          40.1,
          45.1,
          49.1,
          44.2,
          23.5,
          22.6,
          25.4,
          63.9,
          61.7,
          76.3,
          40.5,
          38.7,
          42.7,
          41.5,
          42.5,
          44.5,
          8.4,
          8.3,
          9.5,
          35.5,
          26.4,
          27.1,
          50.6,
          43.6,
          41.7,
          51.7,
          39.1,
          47,
          56.5,
          52.6,
          49.6,
          5.7,
          7.4,
          6.5,
          29.4,
          33.8,
          23.6,
          42.5,
          43.7,
          46.5,
          46.2,
          56.5,
          47.5,
          12.7,
          9.1,
          11.4,
          74,
          83.3,
          75.1,
          77.5,
          68.5,
          67.5,
          55.4,
          46.3,
          48.5,
          8.8,
          12.5,
          10.7,
          24.2,
          25.1,
          19.6,
          14.8,
          15.7,
          17,
          38.1,
          37.9,
          38.4,
          36.5,
          36.1,
          35.5,
          51.6,
          46.4,
          47.1,
          39.6,
          39.7,
          37.1,
          35.1,
          33.7,
          31.7,
          51.1,
          53.3,
          46.5,
          3.6,
          5.3,
          5.2,
          23.7,
          24.5,
          25.5,
          19.4,
          21.1,
          18.7,
          45.3,
          46.6,
          35.4,
          15.4,
          14.6,
          16.7,
          71.1,
          81.5,
          89.2,
          25.1,
          22.6,
          22.4,
          61.6,
          70.5,
          67.1,
          6.1,
          5.3,
          9.1,
          49.2,
          47.6,
          44.6,
          21.5,
          25.1,
          26.6,
          17,
          12.5,
          18,
          7.5,
          5.1,
          8.5,
          13.9,
          15,
          12.2,
          54.1,
          61.1,
          64.3,
          45.7,
          29,
          34,
          15.4,
          14.7,
          15.1,
          36.4,
          42.8,
          46.3,
          8.9,
          11,
          7.2,
          36.2,
          45.7,
          47.6,
          71.5,
          75.2,
          64.3,
          69,
          65.4,
          54.4,
          30.7,
          32.1,
          31.4,
          52.7,
          55.7,
          47.6,
          51.1,
          55.5,
          50.7,
          70.7,
          75.4,
          66.3,
          13.6,
          13.2,
          13.6,
          66.7,
          74.1,
          69.5,
          7.1,
          7.7,
          4.2,
          34.2,
          37.6,
          29.3,
          35.4,
          37.4,
          35.7,
          52.7,
          43.2,
          46.6,
          61.8,
          47.3,
          46.6,
          6.2,
          5.4,
          4.9,
          14.2,
          14.2,
          15.1,
          51.5,
          55.3,
          56.7,
          34.1,
          36.3,
          30.1,
          59.3,
          54.1,
          64.7,
          49.3,
          30.5,
          35.5,
          26.6,
          24.5,
          19.2,
          52.2,
          45.2,
          46,
          27.4,
          26.6,
          44.6,
          4.4,
          3.2,
          7.1,
          16.7,
          14.2,
          16.4,
          42.5,
          46.7,
          44,
          44.4,
          47.2,
          45.1,
          17.2,
          16.5,
          17.2,
          20.9,
          25.5,
          26.1,
          5.4,
          8.3,
          6.2,
          28,
          31,
          27.2,
          15.5,
          16.3,
          15.7,
          25.7,
          26.1,
          25.4,
          24.4,
          24.8,
          31.8,
          2.5,
          5.7,
          5.7,
          10.6,
          11.5,
          10.5,
          23.5,
          27.2,
          31.1,
          25.7,
          21.5,
          22.2,
          55.9,
          50.5,
          51.7,
          39.1,
          37.9,
          35.6,
          34.1,
          37.3,
          36.5,
          25.9,
          27.3,
          24.1,
          48.1,
          35.4,
          35.5,
          7.1,
          9.1,
          7.7,
          35.5,
          28.3,
          33.7,
          65.5,
          73.3,
          77.3,
          51.4,
          54.9,
          52.6,
          8.9,
          14.4,
          13.5,
          22.1,
          28.2,
          29.4,
          10.4,
          6.6,
          12.2,
          30.1,
          33.5,
          34.9,
          17.7,
          15.3,
          17.1,
          19,
          19.2,
          26.1,
          44.7,
          50.7,
          47.5,
          44.7,
          41.1,
          51,
          5.5,
          8.1,
          6.7,
          22.4,
          26.2,
          22.2,
          37.7,
          33.6,
          33.6,
          31.4,
          33.5,
          34.4,
          5.1,
          7.1,
          6.4,
          13.8,
          14.3,
          15.6,
          37.1,
          36.4,
          40.5,
          53.2,
          57.4,
          54.6,
          3.3,
          3.2,
          3.2,
          35.7,
          42.5,
          37.1,
          37.4,
          29.7,
          35.2,
          10.7,
          10.7,
          9.2,
          56.7,
          57.7,
          60.7,
          61.2,
          59.6,
          67.4,
          11.2,
          11.1,
          11,
          35.3,
          33.5,
          28.9,
          52.5,
          57.2,
          47.9,
          34,
          25.4,
          25.9,
          42.2,
          35.2,
          32.2,
          12.2,
          19.6,
          20,
          24.6,
          17.5,
          15.2,
          35.1,
          33.5,
          31.2,
          3.7,
          5.7,
          7.5,
          26.7,
          30.2,
          28.1,
          44.5,
          46.1,
          44.7,
          15.5,
          16.5,
          17.8,
          1.5,
          2.7,
          5.8,
          24.2,
          20.5,
          25.2,
          45.1,
          54.5,
          50.1,
          7,
          7.4,
          8.4,
          30.9,
          30.3,
          28.7,
          34.6,
          35.7,
          33.7,
          33.3,
          31.1,
          32.7,
          32.3,
          39.2,
          31.7,
          39.5,
          41.5,
          32.6,
          15.7,
          15.5,
          17.7,
          35.9,
          34.2,
          36.6,
          14.4,
          15.7,
          19.7,
          22.7,
          16.8,
          22.5,
          7.9,
          9.3,
          10,
          13.5,
          14.5,
          16,
          55.5,
          65.1,
          54.5,
          11.1,
          9.4,
          12.7,
          37,
          34.5,
          41.6,
          29.4,
          22.3,
          27.3,
          46.1,
          36.7,
          37.2,
          6.2,
          7.4,
          6.2,
          31.9,
          35.4,
          39.6,
          18.7,
          15.2,
          17.1,
          50.9,
          57.3,
          57.7,
          47.9,
          45.7,
          51.5,
          14,
          17.4,
          22.2,
          22.3,
          21.1,
          23.5,
          11.4,
          10.3,
          10.5,
          4.7,
          2.4,
          5.1,
          3.1,
          5,
          5.7,
          59,
          59.1,
          55.3,
          9.7,
          7.6,
          6.6,
          13.6,
          15.3,
          17.4,
          8.9,
          8.1,
          9.4,
          49.6,
          57.7,
          55.4,
          9.7,
          16.5,
          14.4,
          27.4,
          25.1,
          29.2,
          27.7,
          28.6,
          27.1,
          42.7,
          39.5,
          43.1,
          71.5,
          82.3,
          77.2,
          35.3,
          42.8,
          44.3,
          51.9,
          55.7,
          48.7,
          3.5,
          2.5,
          2.2,
          17.7,
          21.6,
          15.7,
          31.2,
          25.2,
          23.4,
          43.1,
          41.2,
          46.7,
          7.6,
          3.4,
          7.5,
          25.3,
          30.6,
          25.2,
          16,
          14.7,
          22.7,
          24.1,
          21.4,
          22.7,
          42.5,
          64.5,
          57.7,
          82,
          70.1,
          71.3,
          57.5,
          64.1,
          63.1,
          30.4,
          30.7,
          31.1,
          49.5,
          45.1,
          45,
          21.2,
          25.4,
          29.6,
          25.3,
          24.7,
          25.1,
          27.1,
          23.6,
          24.4,
          51.2,
          45.3,
          45.4,
          31.4,
          32.8,
          31.1
         ],
         "yaxis": "y"
        }
       ],
       "layout": {
        "legend": {
         "tracegroupgap": 0
        },
        "template": {
         "data": {
          "bar": [
           {
            "error_x": {
             "color": "#2a3f5f"
            },
            "error_y": {
             "color": "#2a3f5f"
            },
            "marker": {
             "line": {
              "color": "#E5ECF6",
              "width": 0.5
             },
             "pattern": {
              "fillmode": "overlay",
              "size": 10,
              "solidity": 0.2
             }
            },
            "type": "bar"
           }
          ],
          "barpolar": [
           {
            "marker": {
             "line": {
              "color": "#E5ECF6",
              "width": 0.5
             },
             "pattern": {
              "fillmode": "overlay",
              "size": 10,
              "solidity": 0.2
             }
            },
            "type": "barpolar"
           }
          ],
          "carpet": [
           {
            "aaxis": {
             "endlinecolor": "#2a3f5f",
             "gridcolor": "white",
             "linecolor": "white",
             "minorgridcolor": "white",
             "startlinecolor": "#2a3f5f"
            },
            "baxis": {
             "endlinecolor": "#2a3f5f",
             "gridcolor": "white",
             "linecolor": "white",
             "minorgridcolor": "white",
             "startlinecolor": "#2a3f5f"
            },
            "type": "carpet"
           }
          ],
          "choropleth": [
           {
            "colorbar": {
             "outlinewidth": 0,
             "ticks": ""
            },
            "type": "choropleth"
           }
          ],
          "contour": [
           {
            "colorbar": {
             "outlinewidth": 0,
             "ticks": ""
            },
            "colorscale": [
             [
              0,
              "#0d0887"
             ],
             [
              0.1111111111111111,
              "#46039f"
             ],
             [
              0.2222222222222222,
              "#7201a8"
             ],
             [
              0.3333333333333333,
              "#9c179e"
             ],
             [
              0.4444444444444444,
              "#bd3786"
             ],
             [
              0.5555555555555556,
              "#d8576b"
             ],
             [
              0.6666666666666666,
              "#ed7953"
             ],
             [
              0.7777777777777778,
              "#fb9f3a"
             ],
             [
              0.8888888888888888,
              "#fdca26"
             ],
             [
              1,
              "#f0f921"
             ]
            ],
            "type": "contour"
           }
          ],
          "contourcarpet": [
           {
            "colorbar": {
             "outlinewidth": 0,
             "ticks": ""
            },
            "type": "contourcarpet"
           }
          ],
          "heatmap": [
           {
            "colorbar": {
             "outlinewidth": 0,
             "ticks": ""
            },
            "colorscale": [
             [
              0,
              "#0d0887"
             ],
             [
              0.1111111111111111,
              "#46039f"
             ],
             [
              0.2222222222222222,
              "#7201a8"
             ],
             [
              0.3333333333333333,
              "#9c179e"
             ],
             [
              0.4444444444444444,
              "#bd3786"
             ],
             [
              0.5555555555555556,
              "#d8576b"
             ],
             [
              0.6666666666666666,
              "#ed7953"
             ],
             [
              0.7777777777777778,
              "#fb9f3a"
             ],
             [
              0.8888888888888888,
              "#fdca26"
             ],
             [
              1,
              "#f0f921"
             ]
            ],
            "type": "heatmap"
           }
          ],
          "heatmapgl": [
           {
            "colorbar": {
             "outlinewidth": 0,
             "ticks": ""
            },
            "colorscale": [
             [
              0,
              "#0d0887"
             ],
             [
              0.1111111111111111,
              "#46039f"
             ],
             [
              0.2222222222222222,
              "#7201a8"
             ],
             [
              0.3333333333333333,
              "#9c179e"
             ],
             [
              0.4444444444444444,
              "#bd3786"
             ],
             [
              0.5555555555555556,
              "#d8576b"
             ],
             [
              0.6666666666666666,
              "#ed7953"
             ],
             [
              0.7777777777777778,
              "#fb9f3a"
             ],
             [
              0.8888888888888888,
              "#fdca26"
             ],
             [
              1,
              "#f0f921"
             ]
            ],
            "type": "heatmapgl"
           }
          ],
          "histogram": [
           {
            "marker": {
             "pattern": {
              "fillmode": "overlay",
              "size": 10,
              "solidity": 0.2
             }
            },
            "type": "histogram"
           }
          ],
          "histogram2d": [
           {
            "colorbar": {
             "outlinewidth": 0,
             "ticks": ""
            },
            "colorscale": [
             [
              0,
              "#0d0887"
             ],
             [
              0.1111111111111111,
              "#46039f"
             ],
             [
              0.2222222222222222,
              "#7201a8"
             ],
             [
              0.3333333333333333,
              "#9c179e"
             ],
             [
              0.4444444444444444,
              "#bd3786"
             ],
             [
              0.5555555555555556,
              "#d8576b"
             ],
             [
              0.6666666666666666,
              "#ed7953"
             ],
             [
              0.7777777777777778,
              "#fb9f3a"
             ],
             [
              0.8888888888888888,
              "#fdca26"
             ],
             [
              1,
              "#f0f921"
             ]
            ],
            "type": "histogram2d"
           }
          ],
          "histogram2dcontour": [
           {
            "colorbar": {
             "outlinewidth": 0,
             "ticks": ""
            },
            "colorscale": [
             [
              0,
              "#0d0887"
             ],
             [
              0.1111111111111111,
              "#46039f"
             ],
             [
              0.2222222222222222,
              "#7201a8"
             ],
             [
              0.3333333333333333,
              "#9c179e"
             ],
             [
              0.4444444444444444,
              "#bd3786"
             ],
             [
              0.5555555555555556,
              "#d8576b"
             ],
             [
              0.6666666666666666,
              "#ed7953"
             ],
             [
              0.7777777777777778,
              "#fb9f3a"
             ],
             [
              0.8888888888888888,
              "#fdca26"
             ],
             [
              1,
              "#f0f921"
             ]
            ],
            "type": "histogram2dcontour"
           }
          ],
          "mesh3d": [
           {
            "colorbar": {
             "outlinewidth": 0,
             "ticks": ""
            },
            "type": "mesh3d"
           }
          ],
          "parcoords": [
           {
            "line": {
             "colorbar": {
              "outlinewidth": 0,
              "ticks": ""
             }
            },
            "type": "parcoords"
           }
          ],
          "pie": [
           {
            "automargin": true,
            "type": "pie"
           }
          ],
          "scatter": [
           {
            "fillpattern": {
             "fillmode": "overlay",
             "size": 10,
             "solidity": 0.2
            },
            "type": "scatter"
           }
          ],
          "scatter3d": [
           {
            "line": {
             "colorbar": {
              "outlinewidth": 0,
              "ticks": ""
             }
            },
            "marker": {
             "colorbar": {
              "outlinewidth": 0,
              "ticks": ""
             }
            },
            "type": "scatter3d"
           }
          ],
          "scattercarpet": [
           {
            "marker": {
             "colorbar": {
              "outlinewidth": 0,
              "ticks": ""
             }
            },
            "type": "scattercarpet"
           }
          ],
          "scattergeo": [
           {
            "marker": {
             "colorbar": {
              "outlinewidth": 0,
              "ticks": ""
             }
            },
            "type": "scattergeo"
           }
          ],
          "scattergl": [
           {
            "marker": {
             "colorbar": {
              "outlinewidth": 0,
              "ticks": ""
             }
            },
            "type": "scattergl"
           }
          ],
          "scattermapbox": [
           {
            "marker": {
             "colorbar": {
              "outlinewidth": 0,
              "ticks": ""
             }
            },
            "type": "scattermapbox"
           }
          ],
          "scatterpolar": [
           {
            "marker": {
             "colorbar": {
              "outlinewidth": 0,
              "ticks": ""
             }
            },
            "type": "scatterpolar"
           }
          ],
          "scatterpolargl": [
           {
            "marker": {
             "colorbar": {
              "outlinewidth": 0,
              "ticks": ""
             }
            },
            "type": "scatterpolargl"
           }
          ],
          "scatterternary": [
           {
            "marker": {
             "colorbar": {
              "outlinewidth": 0,
              "ticks": ""
             }
            },
            "type": "scatterternary"
           }
          ],
          "surface": [
           {
            "colorbar": {
             "outlinewidth": 0,
             "ticks": ""
            },
            "colorscale": [
             [
              0,
              "#0d0887"
             ],
             [
              0.1111111111111111,
              "#46039f"
             ],
             [
              0.2222222222222222,
              "#7201a8"
             ],
             [
              0.3333333333333333,
              "#9c179e"
             ],
             [
              0.4444444444444444,
              "#bd3786"
             ],
             [
              0.5555555555555556,
              "#d8576b"
             ],
             [
              0.6666666666666666,
              "#ed7953"
             ],
             [
              0.7777777777777778,
              "#fb9f3a"
             ],
             [
              0.8888888888888888,
              "#fdca26"
             ],
             [
              1,
              "#f0f921"
             ]
            ],
            "type": "surface"
           }
          ],
          "table": [
           {
            "cells": {
             "fill": {
              "color": "#EBF0F8"
             },
             "line": {
              "color": "white"
             }
            },
            "header": {
             "fill": {
              "color": "#C8D4E3"
             },
             "line": {
              "color": "white"
             }
            },
            "type": "table"
           }
          ]
         },
         "layout": {
          "annotationdefaults": {
           "arrowcolor": "#2a3f5f",
           "arrowhead": 0,
           "arrowwidth": 1
          },
          "autotypenumbers": "strict",
          "coloraxis": {
           "colorbar": {
            "outlinewidth": 0,
            "ticks": ""
           }
          },
          "colorscale": {
           "diverging": [
            [
             0,
             "#8e0152"
            ],
            [
             0.1,
             "#c51b7d"
            ],
            [
             0.2,
             "#de77ae"
            ],
            [
             0.3,
             "#f1b6da"
            ],
            [
             0.4,
             "#fde0ef"
            ],
            [
             0.5,
             "#f7f7f7"
            ],
            [
             0.6,
             "#e6f5d0"
            ],
            [
             0.7,
             "#b8e186"
            ],
            [
             0.8,
             "#7fbc41"
            ],
            [
             0.9,
             "#4d9221"
            ],
            [
             1,
             "#276419"
            ]
           ],
           "sequential": [
            [
             0,
             "#0d0887"
            ],
            [
             0.1111111111111111,
             "#46039f"
            ],
            [
             0.2222222222222222,
             "#7201a8"
            ],
            [
             0.3333333333333333,
             "#9c179e"
            ],
            [
             0.4444444444444444,
             "#bd3786"
            ],
            [
             0.5555555555555556,
             "#d8576b"
            ],
            [
             0.6666666666666666,
             "#ed7953"
            ],
            [
             0.7777777777777778,
             "#fb9f3a"
            ],
            [
             0.8888888888888888,
             "#fdca26"
            ],
            [
             1,
             "#f0f921"
            ]
           ],
           "sequentialminus": [
            [
             0,
             "#0d0887"
            ],
            [
             0.1111111111111111,
             "#46039f"
            ],
            [
             0.2222222222222222,
             "#7201a8"
            ],
            [
             0.3333333333333333,
             "#9c179e"
            ],
            [
             0.4444444444444444,
             "#bd3786"
            ],
            [
             0.5555555555555556,
             "#d8576b"
            ],
            [
             0.6666666666666666,
             "#ed7953"
            ],
            [
             0.7777777777777778,
             "#fb9f3a"
            ],
            [
             0.8888888888888888,
             "#fdca26"
            ],
            [
             1,
             "#f0f921"
            ]
           ]
          },
          "colorway": [
           "#636efa",
           "#EF553B",
           "#00cc96",
           "#ab63fa",
           "#FFA15A",
           "#19d3f3",
           "#FF6692",
           "#B6E880",
           "#FF97FF",
           "#FECB52"
          ],
          "font": {
           "color": "#2a3f5f"
          },
          "geo": {
           "bgcolor": "white",
           "lakecolor": "white",
           "landcolor": "#E5ECF6",
           "showlakes": true,
           "showland": true,
           "subunitcolor": "white"
          },
          "hoverlabel": {
           "align": "left"
          },
          "hovermode": "closest",
          "mapbox": {
           "style": "light"
          },
          "paper_bgcolor": "white",
          "plot_bgcolor": "#E5ECF6",
          "polar": {
           "angularaxis": {
            "gridcolor": "white",
            "linecolor": "white",
            "ticks": ""
           },
           "bgcolor": "#E5ECF6",
           "radialaxis": {
            "gridcolor": "white",
            "linecolor": "white",
            "ticks": ""
           }
          },
          "scene": {
           "xaxis": {
            "backgroundcolor": "#E5ECF6",
            "gridcolor": "white",
            "gridwidth": 2,
            "linecolor": "white",
            "showbackground": true,
            "ticks": "",
            "zerolinecolor": "white"
           },
           "yaxis": {
            "backgroundcolor": "#E5ECF6",
            "gridcolor": "white",
            "gridwidth": 2,
            "linecolor": "white",
            "showbackground": true,
            "ticks": "",
            "zerolinecolor": "white"
           },
           "zaxis": {
            "backgroundcolor": "#E5ECF6",
            "gridcolor": "white",
            "gridwidth": 2,
            "linecolor": "white",
            "showbackground": true,
            "ticks": "",
            "zerolinecolor": "white"
           }
          },
          "shapedefaults": {
           "line": {
            "color": "#2a3f5f"
           }
          },
          "ternary": {
           "aaxis": {
            "gridcolor": "white",
            "linecolor": "white",
            "ticks": ""
           },
           "baxis": {
            "gridcolor": "white",
            "linecolor": "white",
            "ticks": ""
           },
           "bgcolor": "#E5ECF6",
           "caxis": {
            "gridcolor": "white",
            "linecolor": "white",
            "ticks": ""
           }
          },
          "title": {
           "x": 0.05
          },
          "xaxis": {
           "automargin": true,
           "gridcolor": "white",
           "linecolor": "white",
           "ticks": "",
           "title": {
            "standoff": 15
           },
           "zerolinecolor": "white",
           "zerolinewidth": 2
          },
          "yaxis": {
           "automargin": true,
           "gridcolor": "white",
           "linecolor": "white",
           "ticks": "",
           "title": {
            "standoff": 15
           },
           "zerolinecolor": "white",
           "zerolinewidth": 2
          }
         }
        },
        "title": {
         "text": "Kilograms Pulled by pinch Strength<br><sup>by Jerry Yu</sub>",
         "x": 0.5,
         "xanchor": "center",
         "yanchor": "top"
        },
        "xaxis": {
         "anchor": "y",
         "domain": [
          0,
          1
         ],
         "title": {
          "text": "Pinch"
         }
        },
        "yaxis": {
         "anchor": "x",
         "domain": [
          0,
          1
         ],
         "title": {
          "text": "Pull"
         }
        }
       }
      }
     },
     "metadata": {},
     "output_type": "display_data"
    }
   ],
   "source": [
    "# Now Graph Relation Between Pinch and Pull\n",
    "pinchpull = px.scatter(Chalk, x = \"Pinch\", y = \"Pull\",title = \"Kilograms Pulled by pinch Strength\")\n",
    "pinchpull.update_layout(\n",
    "    title = {\n",
    "        \"text\":\"Kilograms Pulled by pinch Strength<br><sup>by Jerry Yu</sub>\",\n",
    "        \"x\":0.5,\n",
    "        \"xanchor\":\"center\",\n",
    "        \"yanchor\":\"top\"\n",
    "    }\n",
    ")\n",
    "pinchpull.show()\n",
    "\n",
    "#nice and Linear, but maybe not homoscedastic"
   ]
  },
  {
   "cell_type": "markdown",
   "metadata": {},
   "source": [
    "- This shows a mostly linear relationship by very homoscedastic data. "
   ]
  },
  {
   "cell_type": "markdown",
   "metadata": {},
   "source": [
    "Now we will split this relationship by some of the categorical variables to evaluate impact. "
   ]
  },
  {
   "cell_type": "code",
   "execution_count": 8,
   "metadata": {},
   "outputs": [
    {
     "data": {
      "application/vnd.plotly.v1+json": {
       "config": {
        "plotlyServerURL": "https://plot.ly"
       },
       "data": [
        {
         "hovertemplate": "Chalk=None<br>Pinch=%{x}<br>Pull=%{y}<extra></extra>",
         "legendgroup": "None",
         "marker": {
          "color": "#636efa",
          "symbol": "circle"
         },
         "mode": "markers",
         "name": "None",
         "orientation": "v",
         "showlegend": true,
         "type": "scatter",
         "x": [
          4.202,
          4.117,
          4.154,
          5.233,
          5.382,
          5.1,
          1.284,
          1.322,
          1.408,
          3.938,
          3.298,
          3.238,
          5.105,
          5.372,
          5.201,
          5.587,
          5.055,
          4.991,
          5.898,
          5.899,
          5.881,
          3.121,
          3.289,
          2.966,
          4.212,
          4.349,
          3.792,
          6.309,
          5.813,
          6.138,
          2.597,
          2.419,
          2.058,
          1.949,
          1.908,
          2.209,
          3.886,
          4.549,
          4.078,
          5.96,
          5.5,
          6.198,
          5.289,
          5.472,
          5.066,
          6.683,
          6.046,
          5.699,
          1.275,
          1.135,
          1.288,
          2.347,
          2.129,
          2.104,
          3.572,
          3.189,
          3.258,
          1.198,
          1.098,
          1.303,
          2.998,
          3.089,
          3.088,
          2.342,
          2.078,
          2.217,
          1.098,
          1.054,
          1.141,
          4.989,
          4.294,
          4.288,
          2.198,
          2.101,
          2.192,
          5.309,
          5.069,
          5.22,
          3.053,
          2.83,
          2.899,
          6.498,
          6.602,
          6.225,
          6.398,
          5.969,
          5.608,
          2.098,
          2.198,
          2.278,
          1.278,
          1.238,
          1.068,
          3.946,
          4.473,
          3.938,
          3.915,
          4.057,
          3.99,
          2.288,
          2.234,
          2.169,
          3.546,
          3.148,
          2.798,
          5.928,
          6.093,
          5.843,
          3.564,
          3.055,
          4.039,
          1.034,
          1.037,
          1.019,
          2.098,
          2.048,
          2.033,
          5.492,
          5.447,
          5.139,
          4.072,
          4.208,
          4.196,
          1.085,
          1.053,
          0.947,
          4.149,
          4.162,
          4.449,
          6.309,
          6.009,
          6.087,
          5.66,
          5.291,
          4.898,
          3.218,
          3.044,
          3.306,
          1.309,
          1.463,
          1.19,
          5.29,
          5.038,
          5.275,
          2.194,
          2.199,
          2.065,
          2.351,
          2.096,
          2.206,
          3.247,
          3.152,
          3.253,
          5.998,
          5.993,
          6.048,
          1.219,
          1.308,
          1.249,
          3.211,
          3.458,
          3.187,
          4.446,
          4.258,
          4.172,
          2.29,
          1.96,
          2.059,
          4.793,
          4.767,
          4.958,
          1.149,
          0.989,
          1.059,
          5.287,
          4.886,
          4.949,
          6.935,
          6.741,
          6.158,
          3.988,
          4.123,
          4.333,
          5.267,
          5.326,
          5.636,
          3.209,
          3.138,
          3.406,
          5.783,
          6.108,
          5.898,
          2.413,
          2.199,
          2.28,
          1.033,
          1.082,
          1.048,
          4.109,
          3.899,
          4.251,
          1.523,
          1.238,
          1.369,
          5.189,
          5.086,
          5.098,
          4.088,
          3.898,
          3.859,
          5.999,
          5.966,
          6.031,
          3.098,
          2.892,
          3.21,
          1.289,
          1.389,
          1.208,
          2.089,
          2.008,
          2.133,
          2.208,
          2.098,
          2.08,
          3.322,
          3.092,
          3.298,
          6.558,
          6.199,
          6.343,
          1.196,
          1.36,
          1.198,
          4.888,
          4.979,
          5.217,
          2.098,
          1.983,
          2.207,
          5.972,
          5.666,
          5.869,
          3.292,
          3.088,
          3.088,
          2.217,
          2.187,
          1.898,
          3.077,
          3.161,
          3.186,
          4.28,
          4.335,
          4.388,
          6.168,
          6.75,
          6.096,
          1.359,
          1.1,
          1.081,
          4.996,
          4.988,
          4.979,
          5.978,
          6.124,
          6.493,
          1.311,
          1.218,
          1.446,
          4.153,
          4.088,
          4.304,
          2.992,
          3.31,
          3.338,
          4.877,
          4.938,
          5.168,
          4.083,
          4.143,
          4.252,
          4.288,
          3.91,
          4.38,
          5.198,
          5.624,
          5.274
         ],
         "xaxis": "x",
         "y": [
          34.6,
          31.9,
          31.9,
          41.5,
          42.5,
          44.5,
          8.4,
          8.3,
          9.5,
          35.5,
          26.4,
          27.1,
          50.6,
          43.6,
          41.7,
          51.7,
          39.1,
          47,
          56.5,
          52.6,
          49.6,
          29.4,
          33.8,
          23.6,
          46.2,
          56.5,
          47.5,
          55.4,
          46.3,
          48.5,
          24.2,
          25.1,
          19.6,
          14.8,
          15.7,
          17,
          36.5,
          36.1,
          35.5,
          51.6,
          46.4,
          47.1,
          39.6,
          39.7,
          37.1,
          51.1,
          53.3,
          46.5,
          3.6,
          5.3,
          5.2,
          15.4,
          14.6,
          16.7,
          25.1,
          22.6,
          22.4,
          6.1,
          5.3,
          9.1,
          21.5,
          25.1,
          26.6,
          17,
          12.5,
          18,
          7.5,
          5.1,
          8.5,
          45.7,
          29,
          34,
          15.4,
          14.7,
          15.1,
          36.2,
          45.7,
          47.6,
          30.7,
          32.1,
          31.4,
          52.7,
          55.7,
          47.6,
          51.1,
          55.5,
          50.7,
          13.6,
          13.2,
          13.6,
          7.1,
          7.7,
          4.2,
          34.2,
          37.6,
          29.3,
          35.4,
          37.4,
          35.7,
          14.2,
          14.2,
          15.1,
          26.6,
          24.5,
          19.2,
          52.2,
          45.2,
          46,
          27.4,
          26.6,
          44.6,
          4.4,
          3.2,
          7.1,
          16.7,
          14.2,
          16.4,
          44.4,
          47.2,
          45.1,
          28,
          31,
          27.2,
          2.5,
          5.7,
          5.7,
          23.5,
          27.2,
          31.1,
          55.9,
          50.5,
          51.7,
          39.1,
          37.9,
          35.6,
          25.9,
          27.3,
          24.1,
          7.1,
          9.1,
          7.7,
          35.5,
          28.3,
          33.7,
          8.9,
          14.4,
          13.5,
          10.4,
          6.6,
          12.2,
          19,
          19.2,
          26.1,
          44.7,
          50.7,
          47.5,
          5.5,
          8.1,
          6.7,
          22.4,
          26.2,
          22.2,
          37.7,
          33.6,
          33.6,
          13.8,
          14.3,
          15.6,
          37.1,
          36.4,
          40.5,
          3.3,
          3.2,
          3.2,
          35.3,
          33.5,
          28.9,
          52.5,
          57.2,
          47.9,
          34,
          25.4,
          25.9,
          35.1,
          33.5,
          31.2,
          26.7,
          30.2,
          28.1,
          44.5,
          46.1,
          44.7,
          15.5,
          16.5,
          17.8,
          1.5,
          2.7,
          5.8,
          24.2,
          20.5,
          25.2,
          7,
          7.4,
          8.4,
          30.9,
          30.3,
          28.7,
          34.6,
          35.7,
          33.7,
          32.3,
          39.2,
          31.7,
          15.7,
          15.5,
          17.7,
          7.9,
          9.3,
          10,
          13.5,
          14.5,
          16,
          11.1,
          9.4,
          12.7,
          29.4,
          22.3,
          27.3,
          46.1,
          36.7,
          37.2,
          6.2,
          7.4,
          6.2,
          31.9,
          35.4,
          39.6,
          18.7,
          15.2,
          17.1,
          47.9,
          45.7,
          51.5,
          22.3,
          21.1,
          23.5,
          8.9,
          8.1,
          9.4,
          9.7,
          16.5,
          14.4,
          27.7,
          28.6,
          27.1,
          51.9,
          55.7,
          48.7,
          3.5,
          2.5,
          2.2,
          31.2,
          25.2,
          23.4,
          43.1,
          41.2,
          46.7,
          7.6,
          3.4,
          7.5,
          25.3,
          30.6,
          25.2,
          16,
          14.7,
          22.7,
          30.4,
          30.7,
          31.1,
          25.3,
          24.7,
          25.1,
          27.1,
          23.6,
          24.4,
          31.4,
          32.8,
          31.1
         ],
         "yaxis": "y"
        },
        {
         "hovertemplate": "Chalk=FL<br>Pinch=%{x}<br>Pull=%{y}<extra></extra>",
         "legendgroup": "FL",
         "marker": {
          "color": "#EF553B",
          "symbol": "circle"
         },
         "mode": "markers",
         "name": "FL",
         "orientation": "v",
         "showlegend": true,
         "type": "scatter",
         "x": [
          4.088,
          4.088,
          4.086,
          1.099,
          1.319,
          1.198,
          3.124,
          2.808,
          3.077,
          4.088,
          4.223,
          4.125,
          4.888,
          5.356,
          4.838,
          2.086,
          2.054,
          2.08,
          5.989,
          6.064,
          5.883,
          4.483,
          4.088,
          4.528,
          1.176,
          1.292,
          1.044,
          4.104,
          4.18,
          4.453,
          1.167,
          1.018,
          1.018,
          6.039,
          7.126,
          6.407,
          5.492,
          5.703,
          5.342,
          1.093,
          1.188,
          1.036,
          3.36,
          3.326,
          2.999,
          3.129,
          2.847,
          3.072,
          2.188,
          1.998,
          1.997,
          2.129,
          2.179,
          1.952,
          3.762,
          3.399,
          3.316,
          6.221,
          6.262,
          6.878,
          5.061,
          5.334,
          4.947,
          4.047,
          4.096,
          4.116,
          2.061,
          2.078,
          1.983,
          5.738,
          5.692,
          6.088
         ],
         "xaxis": "x",
         "y": [
          41.1,
          44.5,
          45.7,
          7.2,
          9.5,
          8.5,
          30.6,
          26.1,
          27.5,
          44.6,
          37.5,
          40.1,
          45.1,
          49.1,
          44.2,
          23.5,
          22.6,
          25.4,
          63.9,
          61.7,
          76.3,
          40.5,
          38.7,
          42.7,
          5.7,
          7.4,
          6.5,
          42.5,
          43.7,
          46.5,
          12.7,
          9.1,
          11.4,
          74,
          83.3,
          75.1,
          77.5,
          68.5,
          67.5,
          8.8,
          12.5,
          10.7,
          38.1,
          37.9,
          38.4,
          35.1,
          33.7,
          31.7,
          23.7,
          24.5,
          25.5,
          19.4,
          21.1,
          18.7,
          45.3,
          46.6,
          35.4,
          71.1,
          81.5,
          89.2,
          61.6,
          70.5,
          67.1,
          49.2,
          47.6,
          44.6,
          13.9,
          15,
          12.2,
          54.1,
          61.1,
          64.3
         ],
         "yaxis": "y"
        },
        {
         "hovertemplate": "Chalk=Metolius<br>Pinch=%{x}<br>Pull=%{y}<extra></extra>",
         "legendgroup": "Metolius",
         "marker": {
          "color": "#00cc96",
          "symbol": "circle"
         },
         "mode": "markers",
         "name": "Metolius",
         "orientation": "v",
         "showlegend": true,
         "type": "scatter",
         "x": [
          4.158,
          4.389,
          4.388,
          1.002,
          0.938,
          1.088,
          6.007,
          6.038,
          6.308,
          5.16,
          4.887,
          5.108,
          7.243,
          7.389,
          6.914,
          6.091,
          5.988,
          6.074,
          4.304,
          4.239,
          4.224,
          6.033,
          5.337,
          4.987,
          1.157,
          1.073,
          1.097,
          4.889,
          4.582,
          4.718,
          2.829,
          3.138,
          3.191,
          5.587,
          5.934,
          7.216,
          4.766,
          3.788,
          4.012,
          3.638,
          3.889,
          3.762,
          2.006,
          2.088,
          2.023,
          1.988,
          2.049,
          2.114,
          1.082,
          1.093,
          0.979,
          2.096,
          2.015,
          2.022,
          3.08,
          3.1,
          3.098,
          3.218,
          3.363,
          3.388,
          1.217,
          1.1,
          1.176,
          2.139,
          2.022,
          2.019,
          3.013,
          3.176,
          3.315,
          5.581,
          5.039,
          4.893
         ],
         "xaxis": "x",
         "y": [
          36.4,
          42.8,
          46.3,
          8.9,
          11,
          7.2,
          71.5,
          75.2,
          64.3,
          69,
          65.4,
          54.4,
          70.7,
          75.4,
          66.3,
          66.7,
          74.1,
          69.5,
          52.7,
          43.2,
          46.6,
          61.8,
          47.3,
          46.6,
          6.2,
          5.4,
          4.9,
          51.5,
          55.3,
          56.7,
          34.1,
          36.3,
          30.1,
          59.3,
          54.1,
          64.7,
          49.3,
          30.5,
          35.5,
          42.5,
          46.7,
          44,
          17.2,
          16.5,
          17.2,
          20.9,
          25.5,
          26.1,
          5.4,
          8.3,
          6.2,
          15.5,
          16.3,
          15.7,
          25.7,
          26.1,
          25.4,
          24.4,
          24.8,
          31.8,
          10.6,
          11.5,
          10.5,
          25.7,
          21.5,
          22.2,
          34.1,
          37.3,
          36.5,
          48.1,
          35.4,
          35.5
         ],
         "yaxis": "y"
        },
        {
         "hovertemplate": "Chalk=Magdust<br>Pinch=%{x}<br>Pull=%{y}<extra></extra>",
         "legendgroup": "Magdust",
         "marker": {
          "color": "#ab63fa",
          "symbol": "circle"
         },
         "mode": "markers",
         "name": "Magdust",
         "orientation": "v",
         "showlegend": true,
         "type": "scatter",
         "x": [
          6,
          5.859,
          6.143,
          4.919,
          4.909,
          5.048,
          3.22,
          3.214,
          3.215,
          4.387,
          4.095,
          4.247,
          2.218,
          2.138,
          2.079,
          4.997,
          4.589,
          5.384,
          3.209,
          3.284,
          2.88,
          1.042,
          1.221,
          1.033,
          6.087,
          6.636,
          5.872,
          4.496,
          4.491,
          4.019,
          3.648,
          3.189,
          3.573,
          1.089,
          1.102,
          1.02,
          6.493,
          5.989,
          5.998,
          6.685,
          6.172,
          6.276,
          1.207,
          1.063,
          1.184,
          5.061,
          5.191,
          5.094,
          2.178,
          2.089,
          2.183,
          1.97,
          2.188,
          2.048,
          1.038,
          1,
          1.192,
          4.988,
          4.964,
          5.069,
          2.868,
          2.898,
          3.092,
          4.332,
          4.089,
          3.988,
          4.106,
          3.838,
          4.188,
          2.298,
          1.898,
          2.183
         ],
         "xaxis": "x",
         "y": [
          65.5,
          73.3,
          77.3,
          51.4,
          54.9,
          52.6,
          22.1,
          28.2,
          29.4,
          30.1,
          33.5,
          34.9,
          17.7,
          15.3,
          17.1,
          44.7,
          41.1,
          51,
          31.4,
          33.5,
          34.4,
          5.1,
          7.1,
          6.4,
          53.2,
          57.4,
          54.6,
          35.7,
          42.5,
          37.1,
          37.4,
          29.7,
          35.2,
          10.7,
          10.7,
          9.2,
          56.7,
          57.7,
          60.7,
          61.2,
          59.6,
          67.4,
          11.2,
          11.1,
          11,
          42.2,
          35.2,
          32.2,
          12.2,
          19.6,
          20,
          24.6,
          17.5,
          15.2,
          3.7,
          5.7,
          7.5,
          45.1,
          54.5,
          50.1,
          33.3,
          31.1,
          32.7,
          39.5,
          41.5,
          32.6,
          35.9,
          34.2,
          36.6,
          14.4,
          15.7,
          19.7
         ],
         "yaxis": "y"
        },
        {
         "hovertemplate": "Chalk=Ethan<br>Pinch=%{x}<br>Pull=%{y}<extra></extra>",
         "legendgroup": "Ethan",
         "marker": {
          "color": "#FFA15A",
          "symbol": "circle"
         },
         "mode": "markers",
         "name": "Ethan",
         "orientation": "v",
         "showlegend": true,
         "type": "scatter",
         "x": [
          3.048,
          2.888,
          2.688,
          5.336,
          5.599,
          5.579,
          4.282,
          4.094,
          3.899,
          5.998,
          6.203,
          6.387,
          2.041,
          2.22,
          2.212,
          1.139,
          1.098,
          1.231,
          1.147,
          1.115,
          1.279,
          0.988,
          1.219,
          0.972,
          5.097,
          4.964,
          4.787,
          1.268,
          1.061,
          1.279,
          2.077,
          1.992,
          2.164,
          4.463,
          4.066,
          3.676,
          4.06,
          3.962,
          4.099,
          2.947,
          3.278,
          3.298,
          5.744,
          5.826,
          6.173,
          3.276,
          3.127,
          3.326,
          2.381,
          2.442,
          2.075,
          3.103,
          3.155,
          3.048,
          4.24,
          4.979,
          4.612,
          6.888,
          6.32,
          6.549,
          6.028,
          6.484,
          6.203,
          5.026,
          4.899,
          5.306,
          2.015,
          2.372,
          2.625,
          5.117,
          5.098,
          4.878
         ],
         "xaxis": "x",
         "y": [
          22.7,
          16.8,
          22.5,
          55.5,
          65.1,
          54.5,
          37,
          34.5,
          41.6,
          50.9,
          57.3,
          57.7,
          14,
          17.4,
          22.2,
          11.4,
          10.3,
          10.5,
          4.7,
          2.4,
          5.1,
          3.1,
          5,
          5.7,
          59,
          59.1,
          55.3,
          9.7,
          7.6,
          6.6,
          13.6,
          15.3,
          17.4,
          49.6,
          57.7,
          55.4,
          27.4,
          25.1,
          29.2,
          42.7,
          39.5,
          43.1,
          71.5,
          82.3,
          77.2,
          35.3,
          42.8,
          44.3,
          17.7,
          21.6,
          15.7,
          24.1,
          21.4,
          22.7,
          42.5,
          64.5,
          57.7,
          82,
          70.1,
          71.3,
          57.5,
          64.1,
          63.1,
          49.5,
          45.1,
          45,
          21.2,
          25.4,
          29.6,
          51.2,
          45.3,
          45.4
         ],
         "yaxis": "y"
        }
       ],
       "layout": {
        "legend": {
         "title": {
          "text": "Chalk"
         },
         "tracegroupgap": 0
        },
        "template": {
         "data": {
          "bar": [
           {
            "error_x": {
             "color": "#2a3f5f"
            },
            "error_y": {
             "color": "#2a3f5f"
            },
            "marker": {
             "line": {
              "color": "#E5ECF6",
              "width": 0.5
             },
             "pattern": {
              "fillmode": "overlay",
              "size": 10,
              "solidity": 0.2
             }
            },
            "type": "bar"
           }
          ],
          "barpolar": [
           {
            "marker": {
             "line": {
              "color": "#E5ECF6",
              "width": 0.5
             },
             "pattern": {
              "fillmode": "overlay",
              "size": 10,
              "solidity": 0.2
             }
            },
            "type": "barpolar"
           }
          ],
          "carpet": [
           {
            "aaxis": {
             "endlinecolor": "#2a3f5f",
             "gridcolor": "white",
             "linecolor": "white",
             "minorgridcolor": "white",
             "startlinecolor": "#2a3f5f"
            },
            "baxis": {
             "endlinecolor": "#2a3f5f",
             "gridcolor": "white",
             "linecolor": "white",
             "minorgridcolor": "white",
             "startlinecolor": "#2a3f5f"
            },
            "type": "carpet"
           }
          ],
          "choropleth": [
           {
            "colorbar": {
             "outlinewidth": 0,
             "ticks": ""
            },
            "type": "choropleth"
           }
          ],
          "contour": [
           {
            "colorbar": {
             "outlinewidth": 0,
             "ticks": ""
            },
            "colorscale": [
             [
              0,
              "#0d0887"
             ],
             [
              0.1111111111111111,
              "#46039f"
             ],
             [
              0.2222222222222222,
              "#7201a8"
             ],
             [
              0.3333333333333333,
              "#9c179e"
             ],
             [
              0.4444444444444444,
              "#bd3786"
             ],
             [
              0.5555555555555556,
              "#d8576b"
             ],
             [
              0.6666666666666666,
              "#ed7953"
             ],
             [
              0.7777777777777778,
              "#fb9f3a"
             ],
             [
              0.8888888888888888,
              "#fdca26"
             ],
             [
              1,
              "#f0f921"
             ]
            ],
            "type": "contour"
           }
          ],
          "contourcarpet": [
           {
            "colorbar": {
             "outlinewidth": 0,
             "ticks": ""
            },
            "type": "contourcarpet"
           }
          ],
          "heatmap": [
           {
            "colorbar": {
             "outlinewidth": 0,
             "ticks": ""
            },
            "colorscale": [
             [
              0,
              "#0d0887"
             ],
             [
              0.1111111111111111,
              "#46039f"
             ],
             [
              0.2222222222222222,
              "#7201a8"
             ],
             [
              0.3333333333333333,
              "#9c179e"
             ],
             [
              0.4444444444444444,
              "#bd3786"
             ],
             [
              0.5555555555555556,
              "#d8576b"
             ],
             [
              0.6666666666666666,
              "#ed7953"
             ],
             [
              0.7777777777777778,
              "#fb9f3a"
             ],
             [
              0.8888888888888888,
              "#fdca26"
             ],
             [
              1,
              "#f0f921"
             ]
            ],
            "type": "heatmap"
           }
          ],
          "heatmapgl": [
           {
            "colorbar": {
             "outlinewidth": 0,
             "ticks": ""
            },
            "colorscale": [
             [
              0,
              "#0d0887"
             ],
             [
              0.1111111111111111,
              "#46039f"
             ],
             [
              0.2222222222222222,
              "#7201a8"
             ],
             [
              0.3333333333333333,
              "#9c179e"
             ],
             [
              0.4444444444444444,
              "#bd3786"
             ],
             [
              0.5555555555555556,
              "#d8576b"
             ],
             [
              0.6666666666666666,
              "#ed7953"
             ],
             [
              0.7777777777777778,
              "#fb9f3a"
             ],
             [
              0.8888888888888888,
              "#fdca26"
             ],
             [
              1,
              "#f0f921"
             ]
            ],
            "type": "heatmapgl"
           }
          ],
          "histogram": [
           {
            "marker": {
             "pattern": {
              "fillmode": "overlay",
              "size": 10,
              "solidity": 0.2
             }
            },
            "type": "histogram"
           }
          ],
          "histogram2d": [
           {
            "colorbar": {
             "outlinewidth": 0,
             "ticks": ""
            },
            "colorscale": [
             [
              0,
              "#0d0887"
             ],
             [
              0.1111111111111111,
              "#46039f"
             ],
             [
              0.2222222222222222,
              "#7201a8"
             ],
             [
              0.3333333333333333,
              "#9c179e"
             ],
             [
              0.4444444444444444,
              "#bd3786"
             ],
             [
              0.5555555555555556,
              "#d8576b"
             ],
             [
              0.6666666666666666,
              "#ed7953"
             ],
             [
              0.7777777777777778,
              "#fb9f3a"
             ],
             [
              0.8888888888888888,
              "#fdca26"
             ],
             [
              1,
              "#f0f921"
             ]
            ],
            "type": "histogram2d"
           }
          ],
          "histogram2dcontour": [
           {
            "colorbar": {
             "outlinewidth": 0,
             "ticks": ""
            },
            "colorscale": [
             [
              0,
              "#0d0887"
             ],
             [
              0.1111111111111111,
              "#46039f"
             ],
             [
              0.2222222222222222,
              "#7201a8"
             ],
             [
              0.3333333333333333,
              "#9c179e"
             ],
             [
              0.4444444444444444,
              "#bd3786"
             ],
             [
              0.5555555555555556,
              "#d8576b"
             ],
             [
              0.6666666666666666,
              "#ed7953"
             ],
             [
              0.7777777777777778,
              "#fb9f3a"
             ],
             [
              0.8888888888888888,
              "#fdca26"
             ],
             [
              1,
              "#f0f921"
             ]
            ],
            "type": "histogram2dcontour"
           }
          ],
          "mesh3d": [
           {
            "colorbar": {
             "outlinewidth": 0,
             "ticks": ""
            },
            "type": "mesh3d"
           }
          ],
          "parcoords": [
           {
            "line": {
             "colorbar": {
              "outlinewidth": 0,
              "ticks": ""
             }
            },
            "type": "parcoords"
           }
          ],
          "pie": [
           {
            "automargin": true,
            "type": "pie"
           }
          ],
          "scatter": [
           {
            "fillpattern": {
             "fillmode": "overlay",
             "size": 10,
             "solidity": 0.2
            },
            "type": "scatter"
           }
          ],
          "scatter3d": [
           {
            "line": {
             "colorbar": {
              "outlinewidth": 0,
              "ticks": ""
             }
            },
            "marker": {
             "colorbar": {
              "outlinewidth": 0,
              "ticks": ""
             }
            },
            "type": "scatter3d"
           }
          ],
          "scattercarpet": [
           {
            "marker": {
             "colorbar": {
              "outlinewidth": 0,
              "ticks": ""
             }
            },
            "type": "scattercarpet"
           }
          ],
          "scattergeo": [
           {
            "marker": {
             "colorbar": {
              "outlinewidth": 0,
              "ticks": ""
             }
            },
            "type": "scattergeo"
           }
          ],
          "scattergl": [
           {
            "marker": {
             "colorbar": {
              "outlinewidth": 0,
              "ticks": ""
             }
            },
            "type": "scattergl"
           }
          ],
          "scattermapbox": [
           {
            "marker": {
             "colorbar": {
              "outlinewidth": 0,
              "ticks": ""
             }
            },
            "type": "scattermapbox"
           }
          ],
          "scatterpolar": [
           {
            "marker": {
             "colorbar": {
              "outlinewidth": 0,
              "ticks": ""
             }
            },
            "type": "scatterpolar"
           }
          ],
          "scatterpolargl": [
           {
            "marker": {
             "colorbar": {
              "outlinewidth": 0,
              "ticks": ""
             }
            },
            "type": "scatterpolargl"
           }
          ],
          "scatterternary": [
           {
            "marker": {
             "colorbar": {
              "outlinewidth": 0,
              "ticks": ""
             }
            },
            "type": "scatterternary"
           }
          ],
          "surface": [
           {
            "colorbar": {
             "outlinewidth": 0,
             "ticks": ""
            },
            "colorscale": [
             [
              0,
              "#0d0887"
             ],
             [
              0.1111111111111111,
              "#46039f"
             ],
             [
              0.2222222222222222,
              "#7201a8"
             ],
             [
              0.3333333333333333,
              "#9c179e"
             ],
             [
              0.4444444444444444,
              "#bd3786"
             ],
             [
              0.5555555555555556,
              "#d8576b"
             ],
             [
              0.6666666666666666,
              "#ed7953"
             ],
             [
              0.7777777777777778,
              "#fb9f3a"
             ],
             [
              0.8888888888888888,
              "#fdca26"
             ],
             [
              1,
              "#f0f921"
             ]
            ],
            "type": "surface"
           }
          ],
          "table": [
           {
            "cells": {
             "fill": {
              "color": "#EBF0F8"
             },
             "line": {
              "color": "white"
             }
            },
            "header": {
             "fill": {
              "color": "#C8D4E3"
             },
             "line": {
              "color": "white"
             }
            },
            "type": "table"
           }
          ]
         },
         "layout": {
          "annotationdefaults": {
           "arrowcolor": "#2a3f5f",
           "arrowhead": 0,
           "arrowwidth": 1
          },
          "autotypenumbers": "strict",
          "coloraxis": {
           "colorbar": {
            "outlinewidth": 0,
            "ticks": ""
           }
          },
          "colorscale": {
           "diverging": [
            [
             0,
             "#8e0152"
            ],
            [
             0.1,
             "#c51b7d"
            ],
            [
             0.2,
             "#de77ae"
            ],
            [
             0.3,
             "#f1b6da"
            ],
            [
             0.4,
             "#fde0ef"
            ],
            [
             0.5,
             "#f7f7f7"
            ],
            [
             0.6,
             "#e6f5d0"
            ],
            [
             0.7,
             "#b8e186"
            ],
            [
             0.8,
             "#7fbc41"
            ],
            [
             0.9,
             "#4d9221"
            ],
            [
             1,
             "#276419"
            ]
           ],
           "sequential": [
            [
             0,
             "#0d0887"
            ],
            [
             0.1111111111111111,
             "#46039f"
            ],
            [
             0.2222222222222222,
             "#7201a8"
            ],
            [
             0.3333333333333333,
             "#9c179e"
            ],
            [
             0.4444444444444444,
             "#bd3786"
            ],
            [
             0.5555555555555556,
             "#d8576b"
            ],
            [
             0.6666666666666666,
             "#ed7953"
            ],
            [
             0.7777777777777778,
             "#fb9f3a"
            ],
            [
             0.8888888888888888,
             "#fdca26"
            ],
            [
             1,
             "#f0f921"
            ]
           ],
           "sequentialminus": [
            [
             0,
             "#0d0887"
            ],
            [
             0.1111111111111111,
             "#46039f"
            ],
            [
             0.2222222222222222,
             "#7201a8"
            ],
            [
             0.3333333333333333,
             "#9c179e"
            ],
            [
             0.4444444444444444,
             "#bd3786"
            ],
            [
             0.5555555555555556,
             "#d8576b"
            ],
            [
             0.6666666666666666,
             "#ed7953"
            ],
            [
             0.7777777777777778,
             "#fb9f3a"
            ],
            [
             0.8888888888888888,
             "#fdca26"
            ],
            [
             1,
             "#f0f921"
            ]
           ]
          },
          "colorway": [
           "#636efa",
           "#EF553B",
           "#00cc96",
           "#ab63fa",
           "#FFA15A",
           "#19d3f3",
           "#FF6692",
           "#B6E880",
           "#FF97FF",
           "#FECB52"
          ],
          "font": {
           "color": "#2a3f5f"
          },
          "geo": {
           "bgcolor": "white",
           "lakecolor": "white",
           "landcolor": "#E5ECF6",
           "showlakes": true,
           "showland": true,
           "subunitcolor": "white"
          },
          "hoverlabel": {
           "align": "left"
          },
          "hovermode": "closest",
          "mapbox": {
           "style": "light"
          },
          "paper_bgcolor": "white",
          "plot_bgcolor": "#E5ECF6",
          "polar": {
           "angularaxis": {
            "gridcolor": "white",
            "linecolor": "white",
            "ticks": ""
           },
           "bgcolor": "#E5ECF6",
           "radialaxis": {
            "gridcolor": "white",
            "linecolor": "white",
            "ticks": ""
           }
          },
          "scene": {
           "xaxis": {
            "backgroundcolor": "#E5ECF6",
            "gridcolor": "white",
            "gridwidth": 2,
            "linecolor": "white",
            "showbackground": true,
            "ticks": "",
            "zerolinecolor": "white"
           },
           "yaxis": {
            "backgroundcolor": "#E5ECF6",
            "gridcolor": "white",
            "gridwidth": 2,
            "linecolor": "white",
            "showbackground": true,
            "ticks": "",
            "zerolinecolor": "white"
           },
           "zaxis": {
            "backgroundcolor": "#E5ECF6",
            "gridcolor": "white",
            "gridwidth": 2,
            "linecolor": "white",
            "showbackground": true,
            "ticks": "",
            "zerolinecolor": "white"
           }
          },
          "shapedefaults": {
           "line": {
            "color": "#2a3f5f"
           }
          },
          "ternary": {
           "aaxis": {
            "gridcolor": "white",
            "linecolor": "white",
            "ticks": ""
           },
           "baxis": {
            "gridcolor": "white",
            "linecolor": "white",
            "ticks": ""
           },
           "bgcolor": "#E5ECF6",
           "caxis": {
            "gridcolor": "white",
            "linecolor": "white",
            "ticks": ""
           }
          },
          "title": {
           "x": 0.05
          },
          "xaxis": {
           "automargin": true,
           "gridcolor": "white",
           "linecolor": "white",
           "ticks": "",
           "title": {
            "standoff": 15
           },
           "zerolinecolor": "white",
           "zerolinewidth": 2
          },
          "yaxis": {
           "automargin": true,
           "gridcolor": "white",
           "linecolor": "white",
           "ticks": "",
           "title": {
            "standoff": 15
           },
           "zerolinecolor": "white",
           "zerolinewidth": 2
          }
         }
        },
        "title": {
         "text": "Kilograms Pulled by pinch Strength<br><sup>by Jerry Yu</sub>",
         "x": 0.5,
         "xanchor": "center",
         "yanchor": "top"
        },
        "xaxis": {
         "anchor": "y",
         "domain": [
          0,
          1
         ],
         "title": {
          "text": "Pinch"
         }
        },
        "yaxis": {
         "anchor": "x",
         "domain": [
          0,
          1
         ],
         "title": {
          "text": "Pull"
         }
        }
       }
      }
     },
     "metadata": {},
     "output_type": "display_data"
    },
    {
     "data": {
      "application/vnd.plotly.v1+json": {
       "config": {
        "plotlyServerURL": "https://plot.ly"
       },
       "data": [
        {
         "hovertemplate": "Day=2024-10-30 00:00:00<br>Pinch=%{x}<br>Pull=%{y}<extra></extra>",
         "legendgroup": "2024-10-30 00:00:00",
         "marker": {
          "color": "#636efa",
          "symbol": "circle"
         },
         "mode": "markers",
         "name": "2024-10-30 00:00:00",
         "orientation": "v",
         "showlegend": true,
         "type": "scatter",
         "x": [
          4.202,
          4.117,
          4.154,
          4.088,
          4.088,
          4.086,
          1.099,
          1.319,
          1.198,
          3.124,
          2.808,
          3.077,
          4.088,
          4.223,
          4.125,
          4.888,
          5.356,
          4.838,
          2.086,
          2.054,
          2.08,
          5.989,
          6.064,
          5.883,
          4.483,
          4.088,
          4.528,
          5.233,
          5.382,
          5.1,
          1.284,
          1.322,
          1.408,
          3.938,
          3.298,
          3.238,
          5.105,
          5.372,
          5.201,
          5.587,
          5.055,
          4.991,
          5.898,
          5.899,
          5.881,
          1.176,
          1.292,
          1.044,
          3.121,
          3.289,
          2.966,
          4.104,
          4.18,
          4.453,
          4.212,
          4.349,
          3.792,
          1.167,
          1.018,
          1.018
         ],
         "xaxis": "x",
         "y": [
          34.6,
          31.9,
          31.9,
          41.1,
          44.5,
          45.7,
          7.2,
          9.5,
          8.5,
          30.6,
          26.1,
          27.5,
          44.6,
          37.5,
          40.1,
          45.1,
          49.1,
          44.2,
          23.5,
          22.6,
          25.4,
          63.9,
          61.7,
          76.3,
          40.5,
          38.7,
          42.7,
          41.5,
          42.5,
          44.5,
          8.4,
          8.3,
          9.5,
          35.5,
          26.4,
          27.1,
          50.6,
          43.6,
          41.7,
          51.7,
          39.1,
          47,
          56.5,
          52.6,
          49.6,
          5.7,
          7.4,
          6.5,
          29.4,
          33.8,
          23.6,
          42.5,
          43.7,
          46.5,
          46.2,
          56.5,
          47.5,
          12.7,
          9.1,
          11.4
         ],
         "yaxis": "y"
        },
        {
         "hovertemplate": "Day=2024-10-31 00:00:00<br>Pinch=%{x}<br>Pull=%{y}<extra></extra>",
         "legendgroup": "2024-10-31 00:00:00",
         "marker": {
          "color": "#EF553B",
          "symbol": "circle"
         },
         "mode": "markers",
         "name": "2024-10-31 00:00:00",
         "orientation": "v",
         "showlegend": true,
         "type": "scatter",
         "x": [
          6.039,
          7.126,
          6.407,
          5.492,
          5.703,
          5.342,
          6.309,
          5.813,
          6.138,
          1.093,
          1.188,
          1.036,
          2.597,
          2.419,
          2.058,
          1.949,
          1.908,
          2.209,
          3.36,
          3.326,
          2.999,
          3.886,
          4.549,
          4.078,
          5.96,
          5.5,
          6.198,
          5.289,
          5.472,
          5.066,
          3.129,
          2.847,
          3.072,
          6.683,
          6.046,
          5.699,
          1.275,
          1.135,
          1.288,
          2.188,
          1.998,
          1.997,
          2.129,
          2.179,
          1.952,
          3.762,
          3.399,
          3.316,
          2.347,
          2.129,
          2.104,
          6.221,
          6.262,
          6.878,
          3.572,
          3.189,
          3.258,
          5.061,
          5.334,
          4.947
         ],
         "xaxis": "x",
         "y": [
          74,
          83.3,
          75.1,
          77.5,
          68.5,
          67.5,
          55.4,
          46.3,
          48.5,
          8.8,
          12.5,
          10.7,
          24.2,
          25.1,
          19.6,
          14.8,
          15.7,
          17,
          38.1,
          37.9,
          38.4,
          36.5,
          36.1,
          35.5,
          51.6,
          46.4,
          47.1,
          39.6,
          39.7,
          37.1,
          35.1,
          33.7,
          31.7,
          51.1,
          53.3,
          46.5,
          3.6,
          5.3,
          5.2,
          23.7,
          24.5,
          25.5,
          19.4,
          21.1,
          18.7,
          45.3,
          46.6,
          35.4,
          15.4,
          14.6,
          16.7,
          71.1,
          81.5,
          89.2,
          25.1,
          22.6,
          22.4,
          61.6,
          70.5,
          67.1
         ],
         "yaxis": "y"
        },
        {
         "hovertemplate": "Day=2024-11-04 00:00:00<br>Pinch=%{x}<br>Pull=%{y}<extra></extra>",
         "legendgroup": "2024-11-04 00:00:00",
         "marker": {
          "color": "#00cc96",
          "symbol": "circle"
         },
         "mode": "markers",
         "name": "2024-11-04 00:00:00",
         "orientation": "v",
         "showlegend": true,
         "type": "scatter",
         "x": [
          1.198,
          1.098,
          1.303,
          4.047,
          4.096,
          4.116,
          2.998,
          3.089,
          3.088,
          2.342,
          2.078,
          2.217,
          1.098,
          1.054,
          1.141,
          2.061,
          2.078,
          1.983,
          5.738,
          5.692,
          6.088,
          4.989,
          4.294,
          4.288,
          2.198,
          2.101,
          2.192,
          4.158,
          4.389,
          4.388,
          1.002,
          0.938,
          1.088,
          5.309,
          5.069,
          5.22,
          6.007,
          6.038,
          6.308,
          5.16,
          4.887,
          5.108,
          3.053,
          2.83,
          2.899,
          6.498,
          6.602,
          6.225,
          6.398,
          5.969,
          5.608,
          7.243,
          7.389,
          6.914,
          2.098,
          2.198,
          2.278,
          6.091,
          5.988,
          6.074,
          1.278,
          1.238,
          1.068,
          3.946,
          4.473,
          3.938
         ],
         "xaxis": "x",
         "y": [
          6.1,
          5.3,
          9.1,
          49.2,
          47.6,
          44.6,
          21.5,
          25.1,
          26.6,
          17,
          12.5,
          18,
          7.5,
          5.1,
          8.5,
          13.9,
          15,
          12.2,
          54.1,
          61.1,
          64.3,
          45.7,
          29,
          34,
          15.4,
          14.7,
          15.1,
          36.4,
          42.8,
          46.3,
          8.9,
          11,
          7.2,
          36.2,
          45.7,
          47.6,
          71.5,
          75.2,
          64.3,
          69,
          65.4,
          54.4,
          30.7,
          32.1,
          31.4,
          52.7,
          55.7,
          47.6,
          51.1,
          55.5,
          50.7,
          70.7,
          75.4,
          66.3,
          13.6,
          13.2,
          13.6,
          66.7,
          74.1,
          69.5,
          7.1,
          7.7,
          4.2,
          34.2,
          37.6,
          29.3
         ],
         "yaxis": "y"
        },
        {
         "hovertemplate": "Day=2024-11-06 00:00:00<br>Pinch=%{x}<br>Pull=%{y}<extra></extra>",
         "legendgroup": "2024-11-06 00:00:00",
         "marker": {
          "color": "#ab63fa",
          "symbol": "circle"
         },
         "mode": "markers",
         "name": "2024-11-06 00:00:00",
         "orientation": "v",
         "showlegend": true,
         "type": "scatter",
         "x": [
          3.915,
          4.057,
          3.99,
          4.304,
          4.239,
          4.224,
          6.033,
          5.337,
          4.987,
          1.157,
          1.073,
          1.097,
          2.288,
          2.234,
          2.169,
          4.889,
          4.582,
          4.718,
          2.829,
          3.138,
          3.191,
          5.587,
          5.934,
          7.216,
          4.766,
          3.788,
          4.012,
          3.546,
          3.148,
          2.798,
          5.928,
          6.093,
          5.843,
          3.564,
          3.055,
          4.039,
          1.034,
          1.037,
          1.019,
          2.098,
          2.048,
          2.033,
          3.638,
          3.889,
          3.762,
          5.492,
          5.447,
          5.139,
          2.006,
          2.088,
          2.023,
          1.988,
          2.049,
          2.114,
          1.082,
          1.093,
          0.979,
          4.072,
          4.208,
          4.196,
          2.096,
          2.015,
          2.022,
          3.08,
          3.1,
          3.098,
          3.218,
          3.363,
          3.388,
          1.085,
          1.053,
          0.947,
          1.217,
          1.1,
          1.176
         ],
         "xaxis": "x",
         "y": [
          35.4,
          37.4,
          35.7,
          52.7,
          43.2,
          46.6,
          61.8,
          47.3,
          46.6,
          6.2,
          5.4,
          4.9,
          14.2,
          14.2,
          15.1,
          51.5,
          55.3,
          56.7,
          34.1,
          36.3,
          30.1,
          59.3,
          54.1,
          64.7,
          49.3,
          30.5,
          35.5,
          26.6,
          24.5,
          19.2,
          52.2,
          45.2,
          46,
          27.4,
          26.6,
          44.6,
          4.4,
          3.2,
          7.1,
          16.7,
          14.2,
          16.4,
          42.5,
          46.7,
          44,
          44.4,
          47.2,
          45.1,
          17.2,
          16.5,
          17.2,
          20.9,
          25.5,
          26.1,
          5.4,
          8.3,
          6.2,
          28,
          31,
          27.2,
          15.5,
          16.3,
          15.7,
          25.7,
          26.1,
          25.4,
          24.4,
          24.8,
          31.8,
          2.5,
          5.7,
          5.7,
          10.6,
          11.5,
          10.5
         ],
         "yaxis": "y"
        },
        {
         "hovertemplate": "Day=2024-11-08 00:00:00<br>Pinch=%{x}<br>Pull=%{y}<extra></extra>",
         "legendgroup": "2024-11-08 00:00:00",
         "marker": {
          "color": "#FFA15A",
          "symbol": "circle"
         },
         "mode": "markers",
         "name": "2024-11-08 00:00:00",
         "orientation": "v",
         "showlegend": true,
         "type": "scatter",
         "x": [
          4.149,
          4.162,
          4.449,
          2.139,
          2.022,
          2.019,
          6.309,
          6.009,
          6.087,
          5.66,
          5.291,
          4.898,
          3.013,
          3.176,
          3.315,
          3.218,
          3.044,
          3.306,
          5.581,
          5.039,
          4.893,
          1.309,
          1.463,
          1.19,
          5.29,
          5.038,
          5.275,
          6,
          5.859,
          6.143,
          4.919,
          4.909,
          5.048,
          2.194,
          2.199,
          2.065,
          3.22,
          3.214,
          3.215,
          2.351,
          2.096,
          2.206,
          4.387,
          4.095,
          4.247,
          2.218,
          2.138,
          2.079,
          3.247,
          3.152,
          3.253,
          5.998,
          5.993,
          6.048,
          4.997,
          4.589,
          5.384,
          1.219,
          1.308,
          1.249,
          3.211,
          3.458,
          3.187,
          4.446,
          4.258,
          4.172,
          3.209,
          3.284,
          2.88,
          1.042,
          1.221,
          1.033,
          2.29,
          1.96,
          2.059,
          4.793,
          4.767,
          4.958,
          6.087,
          6.636,
          5.872,
          1.149,
          0.989,
          1.059,
          4.496,
          4.491,
          4.019,
          3.648,
          3.189,
          3.573,
          1.089,
          1.102,
          1.02,
          6.493,
          5.989,
          5.998,
          6.685,
          6.172,
          6.276,
          1.207,
          1.063,
          1.184,
          5.287,
          4.886,
          4.949
         ],
         "xaxis": "x",
         "y": [
          23.5,
          27.2,
          31.1,
          25.7,
          21.5,
          22.2,
          55.9,
          50.5,
          51.7,
          39.1,
          37.9,
          35.6,
          34.1,
          37.3,
          36.5,
          25.9,
          27.3,
          24.1,
          48.1,
          35.4,
          35.5,
          7.1,
          9.1,
          7.7,
          35.5,
          28.3,
          33.7,
          65.5,
          73.3,
          77.3,
          51.4,
          54.9,
          52.6,
          8.9,
          14.4,
          13.5,
          22.1,
          28.2,
          29.4,
          10.4,
          6.6,
          12.2,
          30.1,
          33.5,
          34.9,
          17.7,
          15.3,
          17.1,
          19,
          19.2,
          26.1,
          44.7,
          50.7,
          47.5,
          44.7,
          41.1,
          51,
          5.5,
          8.1,
          6.7,
          22.4,
          26.2,
          22.2,
          37.7,
          33.6,
          33.6,
          31.4,
          33.5,
          34.4,
          5.1,
          7.1,
          6.4,
          13.8,
          14.3,
          15.6,
          37.1,
          36.4,
          40.5,
          53.2,
          57.4,
          54.6,
          3.3,
          3.2,
          3.2,
          35.7,
          42.5,
          37.1,
          37.4,
          29.7,
          35.2,
          10.7,
          10.7,
          9.2,
          56.7,
          57.7,
          60.7,
          61.2,
          59.6,
          67.4,
          11.2,
          11.1,
          11,
          35.3,
          33.5,
          28.9
         ],
         "yaxis": "y"
        },
        {
         "hovertemplate": "Day=2024-11-10 00:00:00<br>Pinch=%{x}<br>Pull=%{y}<extra></extra>",
         "legendgroup": "2024-11-10 00:00:00",
         "marker": {
          "color": "#19d3f3",
          "symbol": "circle"
         },
         "mode": "markers",
         "name": "2024-11-10 00:00:00",
         "orientation": "v",
         "showlegend": true,
         "type": "scatter",
         "x": [
          6.935,
          6.741,
          6.158,
          3.988,
          4.123,
          4.333,
          5.061,
          5.191,
          5.094,
          2.178,
          2.089,
          2.183,
          1.97,
          2.188,
          2.048,
          5.267,
          5.326,
          5.636,
          1.038,
          1,
          1.192,
          3.209,
          3.138,
          3.406,
          5.783,
          6.108,
          5.898,
          2.413,
          2.199,
          2.28,
          1.033,
          1.082,
          1.048,
          4.109,
          3.899,
          4.251,
          4.988,
          4.964,
          5.069,
          1.523,
          1.238,
          1.369,
          5.189,
          5.086,
          5.098,
          4.088,
          3.898,
          3.859,
          2.868,
          2.898,
          3.092,
          5.999,
          5.966,
          6.031,
          4.332,
          4.089,
          3.988,
          3.098,
          2.892,
          3.21,
          4.106,
          3.838,
          4.188,
          2.298,
          1.898,
          2.183,
          3.048,
          2.888,
          2.688,
          1.289,
          1.389,
          1.208,
          2.089,
          2.008,
          2.133,
          5.336,
          5.599,
          5.579,
          2.208,
          2.098,
          2.08,
          4.282,
          4.094,
          3.899,
          3.322,
          3.092,
          3.298,
          6.558,
          6.199,
          6.343,
          1.196,
          1.36,
          1.198,
          4.888,
          4.979,
          5.217,
          2.098,
          1.983,
          2.207,
          5.998,
          6.203,
          6.387,
          5.972,
          5.666,
          5.869,
          2.041,
          2.22,
          2.212,
          3.292,
          3.088,
          3.088,
          1.139,
          1.098,
          1.231
         ],
         "xaxis": "x",
         "y": [
          52.5,
          57.2,
          47.9,
          34,
          25.4,
          25.9,
          42.2,
          35.2,
          32.2,
          12.2,
          19.6,
          20,
          24.6,
          17.5,
          15.2,
          35.1,
          33.5,
          31.2,
          3.7,
          5.7,
          7.5,
          26.7,
          30.2,
          28.1,
          44.5,
          46.1,
          44.7,
          15.5,
          16.5,
          17.8,
          1.5,
          2.7,
          5.8,
          24.2,
          20.5,
          25.2,
          45.1,
          54.5,
          50.1,
          7,
          7.4,
          8.4,
          30.9,
          30.3,
          28.7,
          34.6,
          35.7,
          33.7,
          33.3,
          31.1,
          32.7,
          32.3,
          39.2,
          31.7,
          39.5,
          41.5,
          32.6,
          15.7,
          15.5,
          17.7,
          35.9,
          34.2,
          36.6,
          14.4,
          15.7,
          19.7,
          22.7,
          16.8,
          22.5,
          7.9,
          9.3,
          10,
          13.5,
          14.5,
          16,
          55.5,
          65.1,
          54.5,
          11.1,
          9.4,
          12.7,
          37,
          34.5,
          41.6,
          29.4,
          22.3,
          27.3,
          46.1,
          36.7,
          37.2,
          6.2,
          7.4,
          6.2,
          31.9,
          35.4,
          39.6,
          18.7,
          15.2,
          17.1,
          50.9,
          57.3,
          57.7,
          47.9,
          45.7,
          51.5,
          14,
          17.4,
          22.2,
          22.3,
          21.1,
          23.5,
          11.4,
          10.3,
          10.5
         ],
         "yaxis": "y"
        },
        {
         "hovertemplate": "Day=2024-11-14 00:00:00<br>Pinch=%{x}<br>Pull=%{y}<extra></extra>",
         "legendgroup": "2024-11-14 00:00:00",
         "marker": {
          "color": "#FF6692",
          "symbol": "circle"
         },
         "mode": "markers",
         "name": "2024-11-14 00:00:00",
         "orientation": "v",
         "showlegend": true,
         "type": "scatter",
         "x": [
          1.147,
          1.115,
          1.279,
          0.988,
          1.219,
          0.972,
          5.097,
          4.964,
          4.787,
          1.268,
          1.061,
          1.279,
          2.077,
          1.992,
          2.164,
          2.217,
          2.187,
          1.898,
          4.463,
          4.066,
          3.676,
          3.077,
          3.161,
          3.186,
          4.06,
          3.962,
          4.099,
          4.28,
          4.335,
          4.388,
          2.947,
          3.278,
          3.298,
          5.744,
          5.826,
          6.173,
          3.276,
          3.127,
          3.326,
          6.168,
          6.75,
          6.096,
          1.359,
          1.1,
          1.081,
          2.381,
          2.442,
          2.075,
          4.996,
          4.988,
          4.979,
          5.978,
          6.124,
          6.493,
          1.311,
          1.218,
          1.446,
          4.153,
          4.088,
          4.304,
          2.992,
          3.31,
          3.338,
          3.103,
          3.155,
          3.048,
          4.24,
          4.979,
          4.612,
          6.888,
          6.32,
          6.549,
          6.028,
          6.484,
          6.203,
          4.877,
          4.938,
          5.168,
          5.026,
          4.899,
          5.306,
          2.015,
          2.372,
          2.625,
          4.083,
          4.143,
          4.252,
          4.288,
          3.91,
          4.38,
          5.117,
          5.098,
          4.878,
          5.198,
          5.624,
          5.274
         ],
         "xaxis": "x",
         "y": [
          4.7,
          2.4,
          5.1,
          3.1,
          5,
          5.7,
          59,
          59.1,
          55.3,
          9.7,
          7.6,
          6.6,
          13.6,
          15.3,
          17.4,
          8.9,
          8.1,
          9.4,
          49.6,
          57.7,
          55.4,
          9.7,
          16.5,
          14.4,
          27.4,
          25.1,
          29.2,
          27.7,
          28.6,
          27.1,
          42.7,
          39.5,
          43.1,
          71.5,
          82.3,
          77.2,
          35.3,
          42.8,
          44.3,
          51.9,
          55.7,
          48.7,
          3.5,
          2.5,
          2.2,
          17.7,
          21.6,
          15.7,
          31.2,
          25.2,
          23.4,
          43.1,
          41.2,
          46.7,
          7.6,
          3.4,
          7.5,
          25.3,
          30.6,
          25.2,
          16,
          14.7,
          22.7,
          24.1,
          21.4,
          22.7,
          42.5,
          64.5,
          57.7,
          82,
          70.1,
          71.3,
          57.5,
          64.1,
          63.1,
          30.4,
          30.7,
          31.1,
          49.5,
          45.1,
          45,
          21.2,
          25.4,
          29.6,
          25.3,
          24.7,
          25.1,
          27.1,
          23.6,
          24.4,
          51.2,
          45.3,
          45.4,
          31.4,
          32.8,
          31.1
         ],
         "yaxis": "y"
        }
       ],
       "layout": {
        "legend": {
         "title": {
          "text": "Day"
         },
         "tracegroupgap": 0
        },
        "template": {
         "data": {
          "bar": [
           {
            "error_x": {
             "color": "#2a3f5f"
            },
            "error_y": {
             "color": "#2a3f5f"
            },
            "marker": {
             "line": {
              "color": "#E5ECF6",
              "width": 0.5
             },
             "pattern": {
              "fillmode": "overlay",
              "size": 10,
              "solidity": 0.2
             }
            },
            "type": "bar"
           }
          ],
          "barpolar": [
           {
            "marker": {
             "line": {
              "color": "#E5ECF6",
              "width": 0.5
             },
             "pattern": {
              "fillmode": "overlay",
              "size": 10,
              "solidity": 0.2
             }
            },
            "type": "barpolar"
           }
          ],
          "carpet": [
           {
            "aaxis": {
             "endlinecolor": "#2a3f5f",
             "gridcolor": "white",
             "linecolor": "white",
             "minorgridcolor": "white",
             "startlinecolor": "#2a3f5f"
            },
            "baxis": {
             "endlinecolor": "#2a3f5f",
             "gridcolor": "white",
             "linecolor": "white",
             "minorgridcolor": "white",
             "startlinecolor": "#2a3f5f"
            },
            "type": "carpet"
           }
          ],
          "choropleth": [
           {
            "colorbar": {
             "outlinewidth": 0,
             "ticks": ""
            },
            "type": "choropleth"
           }
          ],
          "contour": [
           {
            "colorbar": {
             "outlinewidth": 0,
             "ticks": ""
            },
            "colorscale": [
             [
              0,
              "#0d0887"
             ],
             [
              0.1111111111111111,
              "#46039f"
             ],
             [
              0.2222222222222222,
              "#7201a8"
             ],
             [
              0.3333333333333333,
              "#9c179e"
             ],
             [
              0.4444444444444444,
              "#bd3786"
             ],
             [
              0.5555555555555556,
              "#d8576b"
             ],
             [
              0.6666666666666666,
              "#ed7953"
             ],
             [
              0.7777777777777778,
              "#fb9f3a"
             ],
             [
              0.8888888888888888,
              "#fdca26"
             ],
             [
              1,
              "#f0f921"
             ]
            ],
            "type": "contour"
           }
          ],
          "contourcarpet": [
           {
            "colorbar": {
             "outlinewidth": 0,
             "ticks": ""
            },
            "type": "contourcarpet"
           }
          ],
          "heatmap": [
           {
            "colorbar": {
             "outlinewidth": 0,
             "ticks": ""
            },
            "colorscale": [
             [
              0,
              "#0d0887"
             ],
             [
              0.1111111111111111,
              "#46039f"
             ],
             [
              0.2222222222222222,
              "#7201a8"
             ],
             [
              0.3333333333333333,
              "#9c179e"
             ],
             [
              0.4444444444444444,
              "#bd3786"
             ],
             [
              0.5555555555555556,
              "#d8576b"
             ],
             [
              0.6666666666666666,
              "#ed7953"
             ],
             [
              0.7777777777777778,
              "#fb9f3a"
             ],
             [
              0.8888888888888888,
              "#fdca26"
             ],
             [
              1,
              "#f0f921"
             ]
            ],
            "type": "heatmap"
           }
          ],
          "heatmapgl": [
           {
            "colorbar": {
             "outlinewidth": 0,
             "ticks": ""
            },
            "colorscale": [
             [
              0,
              "#0d0887"
             ],
             [
              0.1111111111111111,
              "#46039f"
             ],
             [
              0.2222222222222222,
              "#7201a8"
             ],
             [
              0.3333333333333333,
              "#9c179e"
             ],
             [
              0.4444444444444444,
              "#bd3786"
             ],
             [
              0.5555555555555556,
              "#d8576b"
             ],
             [
              0.6666666666666666,
              "#ed7953"
             ],
             [
              0.7777777777777778,
              "#fb9f3a"
             ],
             [
              0.8888888888888888,
              "#fdca26"
             ],
             [
              1,
              "#f0f921"
             ]
            ],
            "type": "heatmapgl"
           }
          ],
          "histogram": [
           {
            "marker": {
             "pattern": {
              "fillmode": "overlay",
              "size": 10,
              "solidity": 0.2
             }
            },
            "type": "histogram"
           }
          ],
          "histogram2d": [
           {
            "colorbar": {
             "outlinewidth": 0,
             "ticks": ""
            },
            "colorscale": [
             [
              0,
              "#0d0887"
             ],
             [
              0.1111111111111111,
              "#46039f"
             ],
             [
              0.2222222222222222,
              "#7201a8"
             ],
             [
              0.3333333333333333,
              "#9c179e"
             ],
             [
              0.4444444444444444,
              "#bd3786"
             ],
             [
              0.5555555555555556,
              "#d8576b"
             ],
             [
              0.6666666666666666,
              "#ed7953"
             ],
             [
              0.7777777777777778,
              "#fb9f3a"
             ],
             [
              0.8888888888888888,
              "#fdca26"
             ],
             [
              1,
              "#f0f921"
             ]
            ],
            "type": "histogram2d"
           }
          ],
          "histogram2dcontour": [
           {
            "colorbar": {
             "outlinewidth": 0,
             "ticks": ""
            },
            "colorscale": [
             [
              0,
              "#0d0887"
             ],
             [
              0.1111111111111111,
              "#46039f"
             ],
             [
              0.2222222222222222,
              "#7201a8"
             ],
             [
              0.3333333333333333,
              "#9c179e"
             ],
             [
              0.4444444444444444,
              "#bd3786"
             ],
             [
              0.5555555555555556,
              "#d8576b"
             ],
             [
              0.6666666666666666,
              "#ed7953"
             ],
             [
              0.7777777777777778,
              "#fb9f3a"
             ],
             [
              0.8888888888888888,
              "#fdca26"
             ],
             [
              1,
              "#f0f921"
             ]
            ],
            "type": "histogram2dcontour"
           }
          ],
          "mesh3d": [
           {
            "colorbar": {
             "outlinewidth": 0,
             "ticks": ""
            },
            "type": "mesh3d"
           }
          ],
          "parcoords": [
           {
            "line": {
             "colorbar": {
              "outlinewidth": 0,
              "ticks": ""
             }
            },
            "type": "parcoords"
           }
          ],
          "pie": [
           {
            "automargin": true,
            "type": "pie"
           }
          ],
          "scatter": [
           {
            "fillpattern": {
             "fillmode": "overlay",
             "size": 10,
             "solidity": 0.2
            },
            "type": "scatter"
           }
          ],
          "scatter3d": [
           {
            "line": {
             "colorbar": {
              "outlinewidth": 0,
              "ticks": ""
             }
            },
            "marker": {
             "colorbar": {
              "outlinewidth": 0,
              "ticks": ""
             }
            },
            "type": "scatter3d"
           }
          ],
          "scattercarpet": [
           {
            "marker": {
             "colorbar": {
              "outlinewidth": 0,
              "ticks": ""
             }
            },
            "type": "scattercarpet"
           }
          ],
          "scattergeo": [
           {
            "marker": {
             "colorbar": {
              "outlinewidth": 0,
              "ticks": ""
             }
            },
            "type": "scattergeo"
           }
          ],
          "scattergl": [
           {
            "marker": {
             "colorbar": {
              "outlinewidth": 0,
              "ticks": ""
             }
            },
            "type": "scattergl"
           }
          ],
          "scattermapbox": [
           {
            "marker": {
             "colorbar": {
              "outlinewidth": 0,
              "ticks": ""
             }
            },
            "type": "scattermapbox"
           }
          ],
          "scatterpolar": [
           {
            "marker": {
             "colorbar": {
              "outlinewidth": 0,
              "ticks": ""
             }
            },
            "type": "scatterpolar"
           }
          ],
          "scatterpolargl": [
           {
            "marker": {
             "colorbar": {
              "outlinewidth": 0,
              "ticks": ""
             }
            },
            "type": "scatterpolargl"
           }
          ],
          "scatterternary": [
           {
            "marker": {
             "colorbar": {
              "outlinewidth": 0,
              "ticks": ""
             }
            },
            "type": "scatterternary"
           }
          ],
          "surface": [
           {
            "colorbar": {
             "outlinewidth": 0,
             "ticks": ""
            },
            "colorscale": [
             [
              0,
              "#0d0887"
             ],
             [
              0.1111111111111111,
              "#46039f"
             ],
             [
              0.2222222222222222,
              "#7201a8"
             ],
             [
              0.3333333333333333,
              "#9c179e"
             ],
             [
              0.4444444444444444,
              "#bd3786"
             ],
             [
              0.5555555555555556,
              "#d8576b"
             ],
             [
              0.6666666666666666,
              "#ed7953"
             ],
             [
              0.7777777777777778,
              "#fb9f3a"
             ],
             [
              0.8888888888888888,
              "#fdca26"
             ],
             [
              1,
              "#f0f921"
             ]
            ],
            "type": "surface"
           }
          ],
          "table": [
           {
            "cells": {
             "fill": {
              "color": "#EBF0F8"
             },
             "line": {
              "color": "white"
             }
            },
            "header": {
             "fill": {
              "color": "#C8D4E3"
             },
             "line": {
              "color": "white"
             }
            },
            "type": "table"
           }
          ]
         },
         "layout": {
          "annotationdefaults": {
           "arrowcolor": "#2a3f5f",
           "arrowhead": 0,
           "arrowwidth": 1
          },
          "autotypenumbers": "strict",
          "coloraxis": {
           "colorbar": {
            "outlinewidth": 0,
            "ticks": ""
           }
          },
          "colorscale": {
           "diverging": [
            [
             0,
             "#8e0152"
            ],
            [
             0.1,
             "#c51b7d"
            ],
            [
             0.2,
             "#de77ae"
            ],
            [
             0.3,
             "#f1b6da"
            ],
            [
             0.4,
             "#fde0ef"
            ],
            [
             0.5,
             "#f7f7f7"
            ],
            [
             0.6,
             "#e6f5d0"
            ],
            [
             0.7,
             "#b8e186"
            ],
            [
             0.8,
             "#7fbc41"
            ],
            [
             0.9,
             "#4d9221"
            ],
            [
             1,
             "#276419"
            ]
           ],
           "sequential": [
            [
             0,
             "#0d0887"
            ],
            [
             0.1111111111111111,
             "#46039f"
            ],
            [
             0.2222222222222222,
             "#7201a8"
            ],
            [
             0.3333333333333333,
             "#9c179e"
            ],
            [
             0.4444444444444444,
             "#bd3786"
            ],
            [
             0.5555555555555556,
             "#d8576b"
            ],
            [
             0.6666666666666666,
             "#ed7953"
            ],
            [
             0.7777777777777778,
             "#fb9f3a"
            ],
            [
             0.8888888888888888,
             "#fdca26"
            ],
            [
             1,
             "#f0f921"
            ]
           ],
           "sequentialminus": [
            [
             0,
             "#0d0887"
            ],
            [
             0.1111111111111111,
             "#46039f"
            ],
            [
             0.2222222222222222,
             "#7201a8"
            ],
            [
             0.3333333333333333,
             "#9c179e"
            ],
            [
             0.4444444444444444,
             "#bd3786"
            ],
            [
             0.5555555555555556,
             "#d8576b"
            ],
            [
             0.6666666666666666,
             "#ed7953"
            ],
            [
             0.7777777777777778,
             "#fb9f3a"
            ],
            [
             0.8888888888888888,
             "#fdca26"
            ],
            [
             1,
             "#f0f921"
            ]
           ]
          },
          "colorway": [
           "#636efa",
           "#EF553B",
           "#00cc96",
           "#ab63fa",
           "#FFA15A",
           "#19d3f3",
           "#FF6692",
           "#B6E880",
           "#FF97FF",
           "#FECB52"
          ],
          "font": {
           "color": "#2a3f5f"
          },
          "geo": {
           "bgcolor": "white",
           "lakecolor": "white",
           "landcolor": "#E5ECF6",
           "showlakes": true,
           "showland": true,
           "subunitcolor": "white"
          },
          "hoverlabel": {
           "align": "left"
          },
          "hovermode": "closest",
          "mapbox": {
           "style": "light"
          },
          "paper_bgcolor": "white",
          "plot_bgcolor": "#E5ECF6",
          "polar": {
           "angularaxis": {
            "gridcolor": "white",
            "linecolor": "white",
            "ticks": ""
           },
           "bgcolor": "#E5ECF6",
           "radialaxis": {
            "gridcolor": "white",
            "linecolor": "white",
            "ticks": ""
           }
          },
          "scene": {
           "xaxis": {
            "backgroundcolor": "#E5ECF6",
            "gridcolor": "white",
            "gridwidth": 2,
            "linecolor": "white",
            "showbackground": true,
            "ticks": "",
            "zerolinecolor": "white"
           },
           "yaxis": {
            "backgroundcolor": "#E5ECF6",
            "gridcolor": "white",
            "gridwidth": 2,
            "linecolor": "white",
            "showbackground": true,
            "ticks": "",
            "zerolinecolor": "white"
           },
           "zaxis": {
            "backgroundcolor": "#E5ECF6",
            "gridcolor": "white",
            "gridwidth": 2,
            "linecolor": "white",
            "showbackground": true,
            "ticks": "",
            "zerolinecolor": "white"
           }
          },
          "shapedefaults": {
           "line": {
            "color": "#2a3f5f"
           }
          },
          "ternary": {
           "aaxis": {
            "gridcolor": "white",
            "linecolor": "white",
            "ticks": ""
           },
           "baxis": {
            "gridcolor": "white",
            "linecolor": "white",
            "ticks": ""
           },
           "bgcolor": "#E5ECF6",
           "caxis": {
            "gridcolor": "white",
            "linecolor": "white",
            "ticks": ""
           }
          },
          "title": {
           "x": 0.05
          },
          "xaxis": {
           "automargin": true,
           "gridcolor": "white",
           "linecolor": "white",
           "ticks": "",
           "title": {
            "standoff": 15
           },
           "zerolinecolor": "white",
           "zerolinewidth": 2
          },
          "yaxis": {
           "automargin": true,
           "gridcolor": "white",
           "linecolor": "white",
           "ticks": "",
           "title": {
            "standoff": 15
           },
           "zerolinecolor": "white",
           "zerolinewidth": 2
          }
         }
        },
        "title": {
         "text": "Kilograms Pulled by pinch Strength<br><sup>by Jerry Yu</sub>",
         "x": 0.5,
         "xanchor": "center",
         "yanchor": "top"
        },
        "xaxis": {
         "anchor": "y",
         "domain": [
          0,
          1
         ],
         "title": {
          "text": "Pinch"
         }
        },
        "yaxis": {
         "anchor": "x",
         "domain": [
          0,
          1
         ],
         "title": {
          "text": "Pull"
         }
        }
       }
      }
     },
     "metadata": {},
     "output_type": "display_data"
    }
   ],
   "source": [
    "# Type of Chalk\n",
    "byChalk = px.scatter(Chalk, x = \"Pinch\", y = \"Pull\", color = \"Chalk\", title = \"Kilograms Pulled by pinch Strength\")\n",
    "byChalk.update_layout(\n",
    "    title = {\n",
    "        \"text\":\"Kilograms Pulled by pinch Strength<br><sup>by Jerry Yu</sub>\",\n",
    "        \"x\":0.5,\n",
    "        \"xanchor\":\"center\",\n",
    "        \"yanchor\":\"top\"\n",
    "    }\n",
    ")\n",
    "byChalk.show()\n",
    "\n",
    "# Very Nice Separation\n",
    "\n",
    "byDate = px.scatter(Chalk, x = \"Pinch\", y = \"Pull\", color = \"Day\", title = \"Kilograms Pulled by pinch Strength\")\n",
    "byDate.update_layout(\n",
    "    title = {\n",
    "        \"text\":\"Kilograms Pulled by pinch Strength<br><sup>by Jerry Yu</sub>\",\n",
    "        \"x\":0.5,\n",
    "        \"xanchor\":\"center\",\n",
    "        \"yanchor\":\"top\"\n",
    "    }\n",
    ")\n",
    "byDate.show()\n",
    "# There are still clear patterns in the date, but very confounded with chalk. "
   ]
  },
  {
   "cell_type": "markdown",
   "metadata": {},
   "source": [
    "- The patterns found in both date and chalk are not a good sign. This indicates two seemingly significant effects that are nonetheless highly confounded. "
   ]
  },
  {
   "cell_type": "code",
   "execution_count": 14,
   "metadata": {},
   "outputs": [
    {
     "data": {
      "application/vnd.plotly.v1+json": {
       "config": {
        "plotlyServerURL": "https://plot.ly"
       },
       "data": [
        {
         "hovertemplate": "Person=1<br>Pinch=%{x}<br>Pull=%{y}<extra></extra>",
         "legendgroup": "1",
         "marker": {
          "color": "#636efa",
          "symbol": "circle"
         },
         "mode": "markers",
         "name": "1",
         "orientation": "v",
         "showlegend": true,
         "type": "scatter",
         "x": [
          4.202,
          4.117,
          4.154,
          4.088,
          4.223,
          4.125,
          2.086,
          2.054,
          2.08,
          5.989,
          6.064,
          5.883,
          1.284,
          1.322,
          1.408,
          5.105,
          5.372,
          5.201,
          1.167,
          1.018,
          1.018,
          5.492,
          5.703,
          5.342,
          6.309,
          5.813,
          6.138,
          1.093,
          1.188,
          1.036,
          1.949,
          1.908,
          2.209,
          3.36,
          3.326,
          2.999,
          3.886,
          4.549,
          4.078,
          5.96,
          5.5,
          6.198,
          5.289,
          5.472,
          5.066,
          3.129,
          2.847,
          3.072,
          1.275,
          1.135,
          1.288,
          2.188,
          1.998,
          1.997,
          2.347,
          2.129,
          2.104,
          6.221,
          6.262,
          6.878,
          3.572,
          3.189,
          3.258,
          5.061,
          5.334,
          4.947,
          4.047,
          4.096,
          4.116,
          2.998,
          3.089,
          3.088,
          2.198,
          2.101,
          2.192,
          1.002,
          0.938,
          1.088,
          6.007,
          6.038,
          6.308,
          5.16,
          4.887,
          5.108,
          3.053,
          2.83,
          2.899,
          6.398,
          5.969,
          5.608,
          2.098,
          2.198,
          2.278,
          6.091,
          5.988,
          6.074,
          1.278,
          1.238,
          1.068,
          3.946,
          4.473,
          3.938,
          4.304,
          4.239,
          4.224,
          4.889,
          4.582,
          4.718,
          2.829,
          3.138,
          3.191,
          3.638,
          3.889,
          3.762,
          5.492,
          5.447,
          5.139,
          1.988,
          2.049,
          2.114,
          4.072,
          4.208,
          4.196,
          1.217,
          1.1,
          1.176,
          2.139,
          2.022,
          2.019,
          6.309,
          6.009,
          6.087,
          5.66,
          5.291,
          4.898,
          3.013,
          3.176,
          3.315,
          3.218,
          3.044,
          3.306,
          1.309,
          1.463,
          1.19,
          6,
          5.859,
          6.143,
          4.919,
          4.909,
          5.048,
          5.998,
          5.993,
          6.048,
          1.219,
          1.308,
          1.249,
          3.211,
          3.458,
          3.187,
          4.446,
          4.258,
          4.172,
          3.209,
          3.284,
          2.88,
          2.29,
          1.96,
          2.059,
          4.793,
          4.767,
          4.958,
          1.089,
          1.102,
          1.02,
          6.493,
          5.989,
          5.998,
          1.207,
          1.063,
          1.184,
          5.287,
          4.886,
          4.949,
          1.97,
          2.188,
          2.048,
          3.209,
          3.138,
          3.406,
          5.783,
          6.108,
          5.898,
          2.413,
          2.199,
          2.28,
          4.988,
          4.964,
          5.069,
          1.523,
          1.238,
          1.369,
          4.088,
          3.898,
          3.859,
          2.868,
          2.898,
          3.092,
          4.332,
          4.089,
          3.988,
          4.106,
          3.838,
          4.188,
          2.298,
          1.898,
          2.183,
          1.289,
          1.389,
          1.208,
          2.089,
          2.008,
          2.133,
          5.336,
          5.599,
          5.579,
          1.196,
          1.36,
          1.198,
          2.098,
          1.983,
          2.207,
          5.972,
          5.666,
          5.869,
          3.292,
          3.088,
          3.088,
          1.139,
          1.098,
          1.231,
          5.097,
          4.964,
          4.787,
          1.268,
          1.061,
          1.279,
          4.463,
          4.066,
          3.676,
          2.947,
          3.278,
          3.298,
          5.744,
          5.826,
          6.173,
          3.276,
          3.127,
          3.326,
          6.168,
          6.75,
          6.096,
          2.381,
          2.442,
          2.075,
          4.153,
          4.088,
          4.304,
          2.992,
          3.31,
          3.338,
          4.24,
          4.979,
          4.612,
          6.888,
          6.32,
          6.549,
          4.877,
          4.938,
          5.168,
          2.015,
          2.372,
          2.625,
          4.083,
          4.143,
          4.252,
          5.198,
          5.624,
          5.274
         ],
         "xaxis": "x",
         "y": [
          34.6,
          31.9,
          31.9,
          44.6,
          37.5,
          40.1,
          23.5,
          22.6,
          25.4,
          63.9,
          61.7,
          76.3,
          8.4,
          8.3,
          9.5,
          50.6,
          43.6,
          41.7,
          12.7,
          9.1,
          11.4,
          77.5,
          68.5,
          67.5,
          55.4,
          46.3,
          48.5,
          8.8,
          12.5,
          10.7,
          14.8,
          15.7,
          17,
          38.1,
          37.9,
          38.4,
          36.5,
          36.1,
          35.5,
          51.6,
          46.4,
          47.1,
          39.6,
          39.7,
          37.1,
          35.1,
          33.7,
          31.7,
          3.6,
          5.3,
          5.2,
          23.7,
          24.5,
          25.5,
          15.4,
          14.6,
          16.7,
          71.1,
          81.5,
          89.2,
          25.1,
          22.6,
          22.4,
          61.6,
          70.5,
          67.1,
          49.2,
          47.6,
          44.6,
          21.5,
          25.1,
          26.6,
          15.4,
          14.7,
          15.1,
          8.9,
          11,
          7.2,
          71.5,
          75.2,
          64.3,
          69,
          65.4,
          54.4,
          30.7,
          32.1,
          31.4,
          51.1,
          55.5,
          50.7,
          13.6,
          13.2,
          13.6,
          66.7,
          74.1,
          69.5,
          7.1,
          7.7,
          4.2,
          34.2,
          37.6,
          29.3,
          52.7,
          43.2,
          46.6,
          51.5,
          55.3,
          56.7,
          34.1,
          36.3,
          30.1,
          42.5,
          46.7,
          44,
          44.4,
          47.2,
          45.1,
          20.9,
          25.5,
          26.1,
          28,
          31,
          27.2,
          10.6,
          11.5,
          10.5,
          25.7,
          21.5,
          22.2,
          55.9,
          50.5,
          51.7,
          39.1,
          37.9,
          35.6,
          34.1,
          37.3,
          36.5,
          25.9,
          27.3,
          24.1,
          7.1,
          9.1,
          7.7,
          65.5,
          73.3,
          77.3,
          51.4,
          54.9,
          52.6,
          44.7,
          50.7,
          47.5,
          5.5,
          8.1,
          6.7,
          22.4,
          26.2,
          22.2,
          37.7,
          33.6,
          33.6,
          31.4,
          33.5,
          34.4,
          13.8,
          14.3,
          15.6,
          37.1,
          36.4,
          40.5,
          10.7,
          10.7,
          9.2,
          56.7,
          57.7,
          60.7,
          11.2,
          11.1,
          11,
          35.3,
          33.5,
          28.9,
          24.6,
          17.5,
          15.2,
          26.7,
          30.2,
          28.1,
          44.5,
          46.1,
          44.7,
          15.5,
          16.5,
          17.8,
          45.1,
          54.5,
          50.1,
          7,
          7.4,
          8.4,
          34.6,
          35.7,
          33.7,
          33.3,
          31.1,
          32.7,
          39.5,
          41.5,
          32.6,
          35.9,
          34.2,
          36.6,
          14.4,
          15.7,
          19.7,
          7.9,
          9.3,
          10,
          13.5,
          14.5,
          16,
          55.5,
          65.1,
          54.5,
          6.2,
          7.4,
          6.2,
          18.7,
          15.2,
          17.1,
          47.9,
          45.7,
          51.5,
          22.3,
          21.1,
          23.5,
          11.4,
          10.3,
          10.5,
          59,
          59.1,
          55.3,
          9.7,
          7.6,
          6.6,
          49.6,
          57.7,
          55.4,
          42.7,
          39.5,
          43.1,
          71.5,
          82.3,
          77.2,
          35.3,
          42.8,
          44.3,
          51.9,
          55.7,
          48.7,
          17.7,
          21.6,
          15.7,
          25.3,
          30.6,
          25.2,
          16,
          14.7,
          22.7,
          42.5,
          64.5,
          57.7,
          82,
          70.1,
          71.3,
          30.4,
          30.7,
          31.1,
          21.2,
          25.4,
          29.6,
          25.3,
          24.7,
          25.1,
          31.4,
          32.8,
          31.1
         ],
         "yaxis": "y"
        },
        {
         "hovertemplate": "Person=2<br>Pinch=%{x}<br>Pull=%{y}<extra></extra>",
         "legendgroup": "2",
         "marker": {
          "color": "#EF553B",
          "symbol": "circle"
         },
         "mode": "markers",
         "name": "2",
         "orientation": "v",
         "showlegend": true,
         "type": "scatter",
         "x": [
          4.088,
          4.088,
          4.086,
          1.099,
          1.319,
          1.198,
          3.124,
          2.808,
          3.077,
          4.888,
          5.356,
          4.838,
          4.483,
          4.088,
          4.528,
          5.233,
          5.382,
          5.1,
          3.938,
          3.298,
          3.238,
          5.587,
          5.055,
          4.991,
          5.898,
          5.899,
          5.881,
          1.176,
          1.292,
          1.044,
          3.121,
          3.289,
          2.966,
          4.104,
          4.18,
          4.453,
          4.212,
          4.349,
          3.792,
          6.039,
          7.126,
          6.407,
          2.597,
          2.419,
          2.058,
          6.683,
          6.046,
          5.699,
          2.129,
          2.179,
          1.952,
          3.762,
          3.399,
          3.316,
          1.198,
          1.098,
          1.303,
          2.342,
          2.078,
          2.217,
          1.098,
          1.054,
          1.141,
          2.061,
          2.078,
          1.983,
          5.738,
          5.692,
          6.088,
          4.989,
          4.294,
          4.288,
          4.158,
          4.389,
          4.388,
          5.309,
          5.069,
          5.22,
          6.498,
          6.602,
          6.225,
          7.243,
          7.389,
          6.914,
          3.915,
          4.057,
          3.99,
          6.033,
          5.337,
          4.987,
          1.157,
          1.073,
          1.097,
          2.288,
          2.234,
          2.169,
          5.587,
          5.934,
          7.216,
          4.766,
          3.788,
          4.012,
          3.546,
          3.148,
          2.798,
          5.928,
          6.093,
          5.843,
          3.564,
          3.055,
          4.039,
          1.034,
          1.037,
          1.019,
          2.098,
          2.048,
          2.033,
          2.006,
          2.088,
          2.023,
          1.082,
          1.093,
          0.979,
          2.096,
          2.015,
          2.022,
          3.08,
          3.1,
          3.098,
          3.218,
          3.363,
          3.388,
          1.085,
          1.053,
          0.947,
          4.149,
          4.162,
          4.449,
          5.581,
          5.039,
          4.893,
          5.29,
          5.038,
          5.275,
          2.194,
          2.199,
          2.065,
          3.22,
          3.214,
          3.215,
          2.351,
          2.096,
          2.206,
          4.387,
          4.095,
          4.247,
          2.218,
          2.138,
          2.079,
          3.247,
          3.152,
          3.253,
          4.997,
          4.589,
          5.384,
          1.042,
          1.221,
          1.033,
          6.087,
          6.636,
          5.872,
          1.149,
          0.989,
          1.059,
          4.496,
          4.491,
          4.019,
          3.648,
          3.189,
          3.573,
          6.685,
          6.172,
          6.276,
          6.935,
          6.741,
          6.158,
          3.988,
          4.123,
          4.333,
          5.061,
          5.191,
          5.094,
          2.178,
          2.089,
          2.183,
          5.267,
          5.326,
          5.636,
          1.038,
          1,
          1.192,
          1.033,
          1.082,
          1.048,
          4.109,
          3.899,
          4.251,
          5.189,
          5.086,
          5.098,
          5.999,
          5.966,
          6.031,
          3.098,
          2.892,
          3.21,
          3.048,
          2.888,
          2.688,
          2.208,
          2.098,
          2.08,
          4.282,
          4.094,
          3.899,
          3.322,
          3.092,
          3.298,
          6.558,
          6.199,
          6.343,
          4.888,
          4.979,
          5.217,
          5.998,
          6.203,
          6.387,
          2.041,
          2.22,
          2.212,
          1.147,
          1.115,
          1.279,
          0.988,
          1.219,
          0.972,
          2.077,
          1.992,
          2.164,
          2.217,
          2.187,
          1.898,
          3.077,
          3.161,
          3.186,
          4.06,
          3.962,
          4.099,
          4.28,
          4.335,
          4.388,
          1.359,
          1.1,
          1.081,
          4.996,
          4.988,
          4.979,
          5.978,
          6.124,
          6.493,
          1.311,
          1.218,
          1.446,
          3.103,
          3.155,
          3.048,
          6.028,
          6.484,
          6.203,
          5.026,
          4.899,
          5.306,
          4.288,
          3.91,
          4.38,
          5.117,
          5.098,
          4.878
         ],
         "xaxis": "x",
         "y": [
          41.1,
          44.5,
          45.7,
          7.2,
          9.5,
          8.5,
          30.6,
          26.1,
          27.5,
          45.1,
          49.1,
          44.2,
          40.5,
          38.7,
          42.7,
          41.5,
          42.5,
          44.5,
          35.5,
          26.4,
          27.1,
          51.7,
          39.1,
          47,
          56.5,
          52.6,
          49.6,
          5.7,
          7.4,
          6.5,
          29.4,
          33.8,
          23.6,
          42.5,
          43.7,
          46.5,
          46.2,
          56.5,
          47.5,
          74,
          83.3,
          75.1,
          24.2,
          25.1,
          19.6,
          51.1,
          53.3,
          46.5,
          19.4,
          21.1,
          18.7,
          45.3,
          46.6,
          35.4,
          6.1,
          5.3,
          9.1,
          17,
          12.5,
          18,
          7.5,
          5.1,
          8.5,
          13.9,
          15,
          12.2,
          54.1,
          61.1,
          64.3,
          45.7,
          29,
          34,
          36.4,
          42.8,
          46.3,
          36.2,
          45.7,
          47.6,
          52.7,
          55.7,
          47.6,
          70.7,
          75.4,
          66.3,
          35.4,
          37.4,
          35.7,
          61.8,
          47.3,
          46.6,
          6.2,
          5.4,
          4.9,
          14.2,
          14.2,
          15.1,
          59.3,
          54.1,
          64.7,
          49.3,
          30.5,
          35.5,
          26.6,
          24.5,
          19.2,
          52.2,
          45.2,
          46,
          27.4,
          26.6,
          44.6,
          4.4,
          3.2,
          7.1,
          16.7,
          14.2,
          16.4,
          17.2,
          16.5,
          17.2,
          5.4,
          8.3,
          6.2,
          15.5,
          16.3,
          15.7,
          25.7,
          26.1,
          25.4,
          24.4,
          24.8,
          31.8,
          2.5,
          5.7,
          5.7,
          23.5,
          27.2,
          31.1,
          48.1,
          35.4,
          35.5,
          35.5,
          28.3,
          33.7,
          8.9,
          14.4,
          13.5,
          22.1,
          28.2,
          29.4,
          10.4,
          6.6,
          12.2,
          30.1,
          33.5,
          34.9,
          17.7,
          15.3,
          17.1,
          19,
          19.2,
          26.1,
          44.7,
          41.1,
          51,
          5.1,
          7.1,
          6.4,
          53.2,
          57.4,
          54.6,
          3.3,
          3.2,
          3.2,
          35.7,
          42.5,
          37.1,
          37.4,
          29.7,
          35.2,
          61.2,
          59.6,
          67.4,
          52.5,
          57.2,
          47.9,
          34,
          25.4,
          25.9,
          42.2,
          35.2,
          32.2,
          12.2,
          19.6,
          20,
          35.1,
          33.5,
          31.2,
          3.7,
          5.7,
          7.5,
          1.5,
          2.7,
          5.8,
          24.2,
          20.5,
          25.2,
          30.9,
          30.3,
          28.7,
          32.3,
          39.2,
          31.7,
          15.7,
          15.5,
          17.7,
          22.7,
          16.8,
          22.5,
          11.1,
          9.4,
          12.7,
          37,
          34.5,
          41.6,
          29.4,
          22.3,
          27.3,
          46.1,
          36.7,
          37.2,
          31.9,
          35.4,
          39.6,
          50.9,
          57.3,
          57.7,
          14,
          17.4,
          22.2,
          4.7,
          2.4,
          5.1,
          3.1,
          5,
          5.7,
          13.6,
          15.3,
          17.4,
          8.9,
          8.1,
          9.4,
          9.7,
          16.5,
          14.4,
          27.4,
          25.1,
          29.2,
          27.7,
          28.6,
          27.1,
          3.5,
          2.5,
          2.2,
          31.2,
          25.2,
          23.4,
          43.1,
          41.2,
          46.7,
          7.6,
          3.4,
          7.5,
          24.1,
          21.4,
          22.7,
          57.5,
          64.1,
          63.1,
          49.5,
          45.1,
          45,
          27.1,
          23.6,
          24.4,
          51.2,
          45.3,
          45.4
         ],
         "yaxis": "y"
        }
       ],
       "layout": {
        "legend": {
         "title": {
          "text": "Person"
         },
         "tracegroupgap": 0
        },
        "template": {
         "data": {
          "bar": [
           {
            "error_x": {
             "color": "#2a3f5f"
            },
            "error_y": {
             "color": "#2a3f5f"
            },
            "marker": {
             "line": {
              "color": "#E5ECF6",
              "width": 0.5
             },
             "pattern": {
              "fillmode": "overlay",
              "size": 10,
              "solidity": 0.2
             }
            },
            "type": "bar"
           }
          ],
          "barpolar": [
           {
            "marker": {
             "line": {
              "color": "#E5ECF6",
              "width": 0.5
             },
             "pattern": {
              "fillmode": "overlay",
              "size": 10,
              "solidity": 0.2
             }
            },
            "type": "barpolar"
           }
          ],
          "carpet": [
           {
            "aaxis": {
             "endlinecolor": "#2a3f5f",
             "gridcolor": "white",
             "linecolor": "white",
             "minorgridcolor": "white",
             "startlinecolor": "#2a3f5f"
            },
            "baxis": {
             "endlinecolor": "#2a3f5f",
             "gridcolor": "white",
             "linecolor": "white",
             "minorgridcolor": "white",
             "startlinecolor": "#2a3f5f"
            },
            "type": "carpet"
           }
          ],
          "choropleth": [
           {
            "colorbar": {
             "outlinewidth": 0,
             "ticks": ""
            },
            "type": "choropleth"
           }
          ],
          "contour": [
           {
            "colorbar": {
             "outlinewidth": 0,
             "ticks": ""
            },
            "colorscale": [
             [
              0,
              "#0d0887"
             ],
             [
              0.1111111111111111,
              "#46039f"
             ],
             [
              0.2222222222222222,
              "#7201a8"
             ],
             [
              0.3333333333333333,
              "#9c179e"
             ],
             [
              0.4444444444444444,
              "#bd3786"
             ],
             [
              0.5555555555555556,
              "#d8576b"
             ],
             [
              0.6666666666666666,
              "#ed7953"
             ],
             [
              0.7777777777777778,
              "#fb9f3a"
             ],
             [
              0.8888888888888888,
              "#fdca26"
             ],
             [
              1,
              "#f0f921"
             ]
            ],
            "type": "contour"
           }
          ],
          "contourcarpet": [
           {
            "colorbar": {
             "outlinewidth": 0,
             "ticks": ""
            },
            "type": "contourcarpet"
           }
          ],
          "heatmap": [
           {
            "colorbar": {
             "outlinewidth": 0,
             "ticks": ""
            },
            "colorscale": [
             [
              0,
              "#0d0887"
             ],
             [
              0.1111111111111111,
              "#46039f"
             ],
             [
              0.2222222222222222,
              "#7201a8"
             ],
             [
              0.3333333333333333,
              "#9c179e"
             ],
             [
              0.4444444444444444,
              "#bd3786"
             ],
             [
              0.5555555555555556,
              "#d8576b"
             ],
             [
              0.6666666666666666,
              "#ed7953"
             ],
             [
              0.7777777777777778,
              "#fb9f3a"
             ],
             [
              0.8888888888888888,
              "#fdca26"
             ],
             [
              1,
              "#f0f921"
             ]
            ],
            "type": "heatmap"
           }
          ],
          "heatmapgl": [
           {
            "colorbar": {
             "outlinewidth": 0,
             "ticks": ""
            },
            "colorscale": [
             [
              0,
              "#0d0887"
             ],
             [
              0.1111111111111111,
              "#46039f"
             ],
             [
              0.2222222222222222,
              "#7201a8"
             ],
             [
              0.3333333333333333,
              "#9c179e"
             ],
             [
              0.4444444444444444,
              "#bd3786"
             ],
             [
              0.5555555555555556,
              "#d8576b"
             ],
             [
              0.6666666666666666,
              "#ed7953"
             ],
             [
              0.7777777777777778,
              "#fb9f3a"
             ],
             [
              0.8888888888888888,
              "#fdca26"
             ],
             [
              1,
              "#f0f921"
             ]
            ],
            "type": "heatmapgl"
           }
          ],
          "histogram": [
           {
            "marker": {
             "pattern": {
              "fillmode": "overlay",
              "size": 10,
              "solidity": 0.2
             }
            },
            "type": "histogram"
           }
          ],
          "histogram2d": [
           {
            "colorbar": {
             "outlinewidth": 0,
             "ticks": ""
            },
            "colorscale": [
             [
              0,
              "#0d0887"
             ],
             [
              0.1111111111111111,
              "#46039f"
             ],
             [
              0.2222222222222222,
              "#7201a8"
             ],
             [
              0.3333333333333333,
              "#9c179e"
             ],
             [
              0.4444444444444444,
              "#bd3786"
             ],
             [
              0.5555555555555556,
              "#d8576b"
             ],
             [
              0.6666666666666666,
              "#ed7953"
             ],
             [
              0.7777777777777778,
              "#fb9f3a"
             ],
             [
              0.8888888888888888,
              "#fdca26"
             ],
             [
              1,
              "#f0f921"
             ]
            ],
            "type": "histogram2d"
           }
          ],
          "histogram2dcontour": [
           {
            "colorbar": {
             "outlinewidth": 0,
             "ticks": ""
            },
            "colorscale": [
             [
              0,
              "#0d0887"
             ],
             [
              0.1111111111111111,
              "#46039f"
             ],
             [
              0.2222222222222222,
              "#7201a8"
             ],
             [
              0.3333333333333333,
              "#9c179e"
             ],
             [
              0.4444444444444444,
              "#bd3786"
             ],
             [
              0.5555555555555556,
              "#d8576b"
             ],
             [
              0.6666666666666666,
              "#ed7953"
             ],
             [
              0.7777777777777778,
              "#fb9f3a"
             ],
             [
              0.8888888888888888,
              "#fdca26"
             ],
             [
              1,
              "#f0f921"
             ]
            ],
            "type": "histogram2dcontour"
           }
          ],
          "mesh3d": [
           {
            "colorbar": {
             "outlinewidth": 0,
             "ticks": ""
            },
            "type": "mesh3d"
           }
          ],
          "parcoords": [
           {
            "line": {
             "colorbar": {
              "outlinewidth": 0,
              "ticks": ""
             }
            },
            "type": "parcoords"
           }
          ],
          "pie": [
           {
            "automargin": true,
            "type": "pie"
           }
          ],
          "scatter": [
           {
            "fillpattern": {
             "fillmode": "overlay",
             "size": 10,
             "solidity": 0.2
            },
            "type": "scatter"
           }
          ],
          "scatter3d": [
           {
            "line": {
             "colorbar": {
              "outlinewidth": 0,
              "ticks": ""
             }
            },
            "marker": {
             "colorbar": {
              "outlinewidth": 0,
              "ticks": ""
             }
            },
            "type": "scatter3d"
           }
          ],
          "scattercarpet": [
           {
            "marker": {
             "colorbar": {
              "outlinewidth": 0,
              "ticks": ""
             }
            },
            "type": "scattercarpet"
           }
          ],
          "scattergeo": [
           {
            "marker": {
             "colorbar": {
              "outlinewidth": 0,
              "ticks": ""
             }
            },
            "type": "scattergeo"
           }
          ],
          "scattergl": [
           {
            "marker": {
             "colorbar": {
              "outlinewidth": 0,
              "ticks": ""
             }
            },
            "type": "scattergl"
           }
          ],
          "scattermapbox": [
           {
            "marker": {
             "colorbar": {
              "outlinewidth": 0,
              "ticks": ""
             }
            },
            "type": "scattermapbox"
           }
          ],
          "scatterpolar": [
           {
            "marker": {
             "colorbar": {
              "outlinewidth": 0,
              "ticks": ""
             }
            },
            "type": "scatterpolar"
           }
          ],
          "scatterpolargl": [
           {
            "marker": {
             "colorbar": {
              "outlinewidth": 0,
              "ticks": ""
             }
            },
            "type": "scatterpolargl"
           }
          ],
          "scatterternary": [
           {
            "marker": {
             "colorbar": {
              "outlinewidth": 0,
              "ticks": ""
             }
            },
            "type": "scatterternary"
           }
          ],
          "surface": [
           {
            "colorbar": {
             "outlinewidth": 0,
             "ticks": ""
            },
            "colorscale": [
             [
              0,
              "#0d0887"
             ],
             [
              0.1111111111111111,
              "#46039f"
             ],
             [
              0.2222222222222222,
              "#7201a8"
             ],
             [
              0.3333333333333333,
              "#9c179e"
             ],
             [
              0.4444444444444444,
              "#bd3786"
             ],
             [
              0.5555555555555556,
              "#d8576b"
             ],
             [
              0.6666666666666666,
              "#ed7953"
             ],
             [
              0.7777777777777778,
              "#fb9f3a"
             ],
             [
              0.8888888888888888,
              "#fdca26"
             ],
             [
              1,
              "#f0f921"
             ]
            ],
            "type": "surface"
           }
          ],
          "table": [
           {
            "cells": {
             "fill": {
              "color": "#EBF0F8"
             },
             "line": {
              "color": "white"
             }
            },
            "header": {
             "fill": {
              "color": "#C8D4E3"
             },
             "line": {
              "color": "white"
             }
            },
            "type": "table"
           }
          ]
         },
         "layout": {
          "annotationdefaults": {
           "arrowcolor": "#2a3f5f",
           "arrowhead": 0,
           "arrowwidth": 1
          },
          "autotypenumbers": "strict",
          "coloraxis": {
           "colorbar": {
            "outlinewidth": 0,
            "ticks": ""
           }
          },
          "colorscale": {
           "diverging": [
            [
             0,
             "#8e0152"
            ],
            [
             0.1,
             "#c51b7d"
            ],
            [
             0.2,
             "#de77ae"
            ],
            [
             0.3,
             "#f1b6da"
            ],
            [
             0.4,
             "#fde0ef"
            ],
            [
             0.5,
             "#f7f7f7"
            ],
            [
             0.6,
             "#e6f5d0"
            ],
            [
             0.7,
             "#b8e186"
            ],
            [
             0.8,
             "#7fbc41"
            ],
            [
             0.9,
             "#4d9221"
            ],
            [
             1,
             "#276419"
            ]
           ],
           "sequential": [
            [
             0,
             "#0d0887"
            ],
            [
             0.1111111111111111,
             "#46039f"
            ],
            [
             0.2222222222222222,
             "#7201a8"
            ],
            [
             0.3333333333333333,
             "#9c179e"
            ],
            [
             0.4444444444444444,
             "#bd3786"
            ],
            [
             0.5555555555555556,
             "#d8576b"
            ],
            [
             0.6666666666666666,
             "#ed7953"
            ],
            [
             0.7777777777777778,
             "#fb9f3a"
            ],
            [
             0.8888888888888888,
             "#fdca26"
            ],
            [
             1,
             "#f0f921"
            ]
           ],
           "sequentialminus": [
            [
             0,
             "#0d0887"
            ],
            [
             0.1111111111111111,
             "#46039f"
            ],
            [
             0.2222222222222222,
             "#7201a8"
            ],
            [
             0.3333333333333333,
             "#9c179e"
            ],
            [
             0.4444444444444444,
             "#bd3786"
            ],
            [
             0.5555555555555556,
             "#d8576b"
            ],
            [
             0.6666666666666666,
             "#ed7953"
            ],
            [
             0.7777777777777778,
             "#fb9f3a"
            ],
            [
             0.8888888888888888,
             "#fdca26"
            ],
            [
             1,
             "#f0f921"
            ]
           ]
          },
          "colorway": [
           "#636efa",
           "#EF553B",
           "#00cc96",
           "#ab63fa",
           "#FFA15A",
           "#19d3f3",
           "#FF6692",
           "#B6E880",
           "#FF97FF",
           "#FECB52"
          ],
          "font": {
           "color": "#2a3f5f"
          },
          "geo": {
           "bgcolor": "white",
           "lakecolor": "white",
           "landcolor": "#E5ECF6",
           "showlakes": true,
           "showland": true,
           "subunitcolor": "white"
          },
          "hoverlabel": {
           "align": "left"
          },
          "hovermode": "closest",
          "mapbox": {
           "style": "light"
          },
          "paper_bgcolor": "white",
          "plot_bgcolor": "#E5ECF6",
          "polar": {
           "angularaxis": {
            "gridcolor": "white",
            "linecolor": "white",
            "ticks": ""
           },
           "bgcolor": "#E5ECF6",
           "radialaxis": {
            "gridcolor": "white",
            "linecolor": "white",
            "ticks": ""
           }
          },
          "scene": {
           "xaxis": {
            "backgroundcolor": "#E5ECF6",
            "gridcolor": "white",
            "gridwidth": 2,
            "linecolor": "white",
            "showbackground": true,
            "ticks": "",
            "zerolinecolor": "white"
           },
           "yaxis": {
            "backgroundcolor": "#E5ECF6",
            "gridcolor": "white",
            "gridwidth": 2,
            "linecolor": "white",
            "showbackground": true,
            "ticks": "",
            "zerolinecolor": "white"
           },
           "zaxis": {
            "backgroundcolor": "#E5ECF6",
            "gridcolor": "white",
            "gridwidth": 2,
            "linecolor": "white",
            "showbackground": true,
            "ticks": "",
            "zerolinecolor": "white"
           }
          },
          "shapedefaults": {
           "line": {
            "color": "#2a3f5f"
           }
          },
          "ternary": {
           "aaxis": {
            "gridcolor": "white",
            "linecolor": "white",
            "ticks": ""
           },
           "baxis": {
            "gridcolor": "white",
            "linecolor": "white",
            "ticks": ""
           },
           "bgcolor": "#E5ECF6",
           "caxis": {
            "gridcolor": "white",
            "linecolor": "white",
            "ticks": ""
           }
          },
          "title": {
           "x": 0.05
          },
          "xaxis": {
           "automargin": true,
           "gridcolor": "white",
           "linecolor": "white",
           "ticks": "",
           "title": {
            "standoff": 15
           },
           "zerolinecolor": "white",
           "zerolinewidth": 2
          },
          "yaxis": {
           "automargin": true,
           "gridcolor": "white",
           "linecolor": "white",
           "ticks": "",
           "title": {
            "standoff": 15
           },
           "zerolinecolor": "white",
           "zerolinewidth": 2
          }
         }
        },
        "title": {
         "text": "Kilograms Pulled by pinch Strength<br><sup>by Jerry Yu</sub>",
         "x": 0.5,
         "xanchor": "center",
         "yanchor": "top"
        },
        "xaxis": {
         "anchor": "y",
         "domain": [
          0,
          1
         ],
         "title": {
          "text": "Pinch"
         }
        },
        "yaxis": {
         "anchor": "x",
         "domain": [
          0,
          1
         ],
         "title": {
          "text": "Pull"
         }
        }
       }
      }
     },
     "metadata": {},
     "output_type": "display_data"
    }
   ],
   "source": [
    "# Person\n",
    "byPerson = px.scatter(Chalk, x = \"Pinch\", y = \"Pull\", color = \"Person\", title = \"Kilograms Pulled by pinch Strength\")\n",
    "byPerson.update_layout(\n",
    "    title = {\n",
    "        \"text\":\"Kilograms Pulled by pinch Strength<br><sup>by Jerry Yu</sub>\",\n",
    "        \"x\":0.5,\n",
    "        \"xanchor\":\"center\",\n",
    "        \"yanchor\":\"top\"\n",
    "    }\n",
    ")\n",
    "byPerson.show()\n",
    "\n",
    "# Clear Difference by person, as expected"
   ]
  },
  {
   "cell_type": "code",
   "execution_count": 15,
   "metadata": {},
   "outputs": [
    {
     "data": {
      "application/vnd.plotly.v1+json": {
       "config": {
        "plotlyServerURL": "https://plot.ly"
       },
       "data": [
        {
         "hovertemplate": "Pinch=%{x}<br>Pull=%{y}<br>Pinch_Order=%{marker.color}<extra></extra>",
         "legendgroup": "",
         "marker": {
          "color": [
           1,
           2,
           3,
           1,
           2,
           3,
           1,
           2,
           3,
           1,
           2,
           3,
           1,
           2,
           3,
           1,
           2,
           3,
           1,
           2,
           3,
           1,
           2,
           3,
           1,
           2,
           3,
           1,
           2,
           3,
           1,
           2,
           3,
           1,
           2,
           3,
           1,
           2,
           3,
           1,
           2,
           3,
           1,
           2,
           3,
           1,
           2,
           3,
           1,
           2,
           3,
           1,
           2,
           3,
           1,
           2,
           3,
           1,
           2,
           3,
           1,
           2,
           3,
           1,
           2,
           3,
           1,
           2,
           3,
           1,
           2,
           3,
           1,
           2,
           3,
           1,
           2,
           3,
           1,
           2,
           3,
           1,
           2,
           3,
           1,
           2,
           3,
           1,
           2,
           3,
           1,
           2,
           3,
           1,
           2,
           3,
           1,
           2,
           3,
           1,
           2,
           3,
           1,
           2,
           3,
           1,
           2,
           3,
           1,
           2,
           3,
           1,
           2,
           3,
           1,
           2,
           3,
           1,
           2,
           3,
           1,
           2,
           3,
           1,
           2,
           3,
           1,
           2,
           3,
           1,
           2,
           3,
           1,
           2,
           3,
           1,
           2,
           3,
           1,
           2,
           3,
           1,
           2,
           3,
           1,
           2,
           3,
           1,
           2,
           3,
           1,
           2,
           3,
           1,
           2,
           3,
           1,
           2,
           3,
           1,
           2,
           3,
           1,
           2,
           3,
           1,
           2,
           3,
           1,
           2,
           3,
           1,
           2,
           3,
           1,
           2,
           3,
           1,
           2,
           3,
           1,
           2,
           3,
           1,
           2,
           3,
           1,
           2,
           3,
           1,
           2,
           3,
           1,
           2,
           3,
           1,
           2,
           3,
           1,
           2,
           3,
           1,
           2,
           3,
           1,
           2,
           3,
           1,
           2,
           3,
           1,
           2,
           3,
           1,
           2,
           3,
           1,
           2,
           3,
           1,
           2,
           3,
           1,
           2,
           3,
           1,
           2,
           3,
           1,
           2,
           3,
           1,
           2,
           3,
           1,
           2,
           3,
           1,
           2,
           3,
           1,
           2,
           3,
           1,
           2,
           3,
           1,
           2,
           3,
           1,
           2,
           3,
           1,
           2,
           3,
           1,
           2,
           3,
           1,
           2,
           3,
           1,
           2,
           3,
           1,
           2,
           3,
           1,
           2,
           3,
           1,
           2,
           3,
           1,
           2,
           3,
           1,
           2,
           3,
           1,
           2,
           3,
           1,
           2,
           3,
           1,
           2,
           3,
           1,
           2,
           3,
           1,
           2,
           3,
           1,
           2,
           3,
           1,
           2,
           3,
           1,
           2,
           3,
           1,
           2,
           3,
           1,
           2,
           3,
           1,
           2,
           3,
           1,
           2,
           3,
           1,
           2,
           3,
           1,
           2,
           3,
           1,
           2,
           3,
           1,
           2,
           3,
           1,
           2,
           3,
           1,
           2,
           3,
           1,
           2,
           3,
           1,
           2,
           3,
           1,
           2,
           3,
           1,
           2,
           3,
           1,
           2,
           3,
           1,
           2,
           3,
           1,
           2,
           3,
           1,
           2,
           3,
           1,
           2,
           3,
           1,
           2,
           3,
           1,
           2,
           3,
           1,
           2,
           3,
           1,
           2,
           3,
           1,
           2,
           3,
           1,
           2,
           3,
           1,
           2,
           3,
           1,
           2,
           3,
           1,
           2,
           3,
           1,
           2,
           3,
           1,
           2,
           3,
           1,
           2,
           3,
           1,
           2,
           3,
           1,
           2,
           3,
           1,
           2,
           3,
           1,
           2,
           3,
           1,
           2,
           3,
           1,
           2,
           3,
           1,
           2,
           3,
           1,
           2,
           3,
           1,
           2,
           3,
           1,
           2,
           3,
           1,
           2,
           3,
           1,
           2,
           3,
           1,
           2,
           3,
           1,
           2,
           3,
           1,
           2,
           3,
           1,
           2,
           3,
           1,
           2,
           3,
           1,
           2,
           3,
           1,
           2,
           3,
           1,
           2,
           3,
           1,
           2,
           3,
           1,
           2,
           3,
           1,
           2,
           3,
           1,
           2,
           3,
           1,
           2,
           3,
           1,
           2,
           3,
           1,
           2,
           3,
           1,
           2,
           3,
           1,
           2,
           3,
           1,
           2,
           3,
           1,
           2,
           3,
           1,
           2,
           3,
           1,
           2,
           3,
           1,
           2,
           3,
           1,
           2,
           3,
           1,
           2,
           3,
           1,
           2,
           3,
           1,
           2,
           3,
           1,
           2,
           3,
           1,
           2,
           3,
           1,
           2,
           3,
           1,
           2,
           3,
           1,
           2,
           3,
           1,
           2,
           3,
           1,
           2,
           3,
           1,
           2,
           3,
           1,
           2,
           3,
           1,
           2,
           3,
           1,
           2,
           3,
           1,
           2,
           3,
           1,
           2,
           3,
           1,
           2,
           3,
           1,
           2,
           3,
           1,
           2,
           3,
           1,
           2,
           3,
           1,
           2,
           3,
           1,
           2,
           3,
           1,
           2,
           3,
           1,
           2,
           3,
           1,
           2,
           3
          ],
          "coloraxis": "coloraxis",
          "symbol": "circle"
         },
         "mode": "markers",
         "name": "",
         "orientation": "v",
         "showlegend": false,
         "type": "scatter",
         "x": [
          4.202,
          4.117,
          4.154,
          4.088,
          4.088,
          4.086,
          1.099,
          1.319,
          1.198,
          3.124,
          2.808,
          3.077,
          4.088,
          4.223,
          4.125,
          4.888,
          5.356,
          4.838,
          2.086,
          2.054,
          2.08,
          5.989,
          6.064,
          5.883,
          4.483,
          4.088,
          4.528,
          5.233,
          5.382,
          5.1,
          1.284,
          1.322,
          1.408,
          3.938,
          3.298,
          3.238,
          5.105,
          5.372,
          5.201,
          5.587,
          5.055,
          4.991,
          5.898,
          5.899,
          5.881,
          1.176,
          1.292,
          1.044,
          3.121,
          3.289,
          2.966,
          4.104,
          4.18,
          4.453,
          4.212,
          4.349,
          3.792,
          1.167,
          1.018,
          1.018,
          6.039,
          7.126,
          6.407,
          5.492,
          5.703,
          5.342,
          6.309,
          5.813,
          6.138,
          1.093,
          1.188,
          1.036,
          2.597,
          2.419,
          2.058,
          1.949,
          1.908,
          2.209,
          3.36,
          3.326,
          2.999,
          3.886,
          4.549,
          4.078,
          5.96,
          5.5,
          6.198,
          5.289,
          5.472,
          5.066,
          3.129,
          2.847,
          3.072,
          6.683,
          6.046,
          5.699,
          1.275,
          1.135,
          1.288,
          2.188,
          1.998,
          1.997,
          2.129,
          2.179,
          1.952,
          3.762,
          3.399,
          3.316,
          2.347,
          2.129,
          2.104,
          6.221,
          6.262,
          6.878,
          3.572,
          3.189,
          3.258,
          5.061,
          5.334,
          4.947,
          1.198,
          1.098,
          1.303,
          4.047,
          4.096,
          4.116,
          2.998,
          3.089,
          3.088,
          2.342,
          2.078,
          2.217,
          1.098,
          1.054,
          1.141,
          2.061,
          2.078,
          1.983,
          5.738,
          5.692,
          6.088,
          4.989,
          4.294,
          4.288,
          2.198,
          2.101,
          2.192,
          4.158,
          4.389,
          4.388,
          1.002,
          0.938,
          1.088,
          5.309,
          5.069,
          5.22,
          6.007,
          6.038,
          6.308,
          5.16,
          4.887,
          5.108,
          3.053,
          2.83,
          2.899,
          6.498,
          6.602,
          6.225,
          6.398,
          5.969,
          5.608,
          7.243,
          7.389,
          6.914,
          2.098,
          2.198,
          2.278,
          6.091,
          5.988,
          6.074,
          1.278,
          1.238,
          1.068,
          3.946,
          4.473,
          3.938,
          3.915,
          4.057,
          3.99,
          4.304,
          4.239,
          4.224,
          6.033,
          5.337,
          4.987,
          1.157,
          1.073,
          1.097,
          2.288,
          2.234,
          2.169,
          4.889,
          4.582,
          4.718,
          2.829,
          3.138,
          3.191,
          5.587,
          5.934,
          7.216,
          4.766,
          3.788,
          4.012,
          3.546,
          3.148,
          2.798,
          5.928,
          6.093,
          5.843,
          3.564,
          3.055,
          4.039,
          1.034,
          1.037,
          1.019,
          2.098,
          2.048,
          2.033,
          3.638,
          3.889,
          3.762,
          5.492,
          5.447,
          5.139,
          2.006,
          2.088,
          2.023,
          1.988,
          2.049,
          2.114,
          1.082,
          1.093,
          0.979,
          4.072,
          4.208,
          4.196,
          2.096,
          2.015,
          2.022,
          3.08,
          3.1,
          3.098,
          3.218,
          3.363,
          3.388,
          1.085,
          1.053,
          0.947,
          1.217,
          1.1,
          1.176,
          4.149,
          4.162,
          4.449,
          2.139,
          2.022,
          2.019,
          6.309,
          6.009,
          6.087,
          5.66,
          5.291,
          4.898,
          3.013,
          3.176,
          3.315,
          3.218,
          3.044,
          3.306,
          5.581,
          5.039,
          4.893,
          1.309,
          1.463,
          1.19,
          5.29,
          5.038,
          5.275,
          6,
          5.859,
          6.143,
          4.919,
          4.909,
          5.048,
          2.194,
          2.199,
          2.065,
          3.22,
          3.214,
          3.215,
          2.351,
          2.096,
          2.206,
          4.387,
          4.095,
          4.247,
          2.218,
          2.138,
          2.079,
          3.247,
          3.152,
          3.253,
          5.998,
          5.993,
          6.048,
          4.997,
          4.589,
          5.384,
          1.219,
          1.308,
          1.249,
          3.211,
          3.458,
          3.187,
          4.446,
          4.258,
          4.172,
          3.209,
          3.284,
          2.88,
          1.042,
          1.221,
          1.033,
          2.29,
          1.96,
          2.059,
          4.793,
          4.767,
          4.958,
          6.087,
          6.636,
          5.872,
          1.149,
          0.989,
          1.059,
          4.496,
          4.491,
          4.019,
          3.648,
          3.189,
          3.573,
          1.089,
          1.102,
          1.02,
          6.493,
          5.989,
          5.998,
          6.685,
          6.172,
          6.276,
          1.207,
          1.063,
          1.184,
          5.287,
          4.886,
          4.949,
          6.935,
          6.741,
          6.158,
          3.988,
          4.123,
          4.333,
          5.061,
          5.191,
          5.094,
          2.178,
          2.089,
          2.183,
          1.97,
          2.188,
          2.048,
          5.267,
          5.326,
          5.636,
          1.038,
          1,
          1.192,
          3.209,
          3.138,
          3.406,
          5.783,
          6.108,
          5.898,
          2.413,
          2.199,
          2.28,
          1.033,
          1.082,
          1.048,
          4.109,
          3.899,
          4.251,
          4.988,
          4.964,
          5.069,
          1.523,
          1.238,
          1.369,
          5.189,
          5.086,
          5.098,
          4.088,
          3.898,
          3.859,
          2.868,
          2.898,
          3.092,
          5.999,
          5.966,
          6.031,
          4.332,
          4.089,
          3.988,
          3.098,
          2.892,
          3.21,
          4.106,
          3.838,
          4.188,
          2.298,
          1.898,
          2.183,
          3.048,
          2.888,
          2.688,
          1.289,
          1.389,
          1.208,
          2.089,
          2.008,
          2.133,
          5.336,
          5.599,
          5.579,
          2.208,
          2.098,
          2.08,
          4.282,
          4.094,
          3.899,
          3.322,
          3.092,
          3.298,
          6.558,
          6.199,
          6.343,
          1.196,
          1.36,
          1.198,
          4.888,
          4.979,
          5.217,
          2.098,
          1.983,
          2.207,
          5.998,
          6.203,
          6.387,
          5.972,
          5.666,
          5.869,
          2.041,
          2.22,
          2.212,
          3.292,
          3.088,
          3.088,
          1.139,
          1.098,
          1.231,
          1.147,
          1.115,
          1.279,
          0.988,
          1.219,
          0.972,
          5.097,
          4.964,
          4.787,
          1.268,
          1.061,
          1.279,
          2.077,
          1.992,
          2.164,
          2.217,
          2.187,
          1.898,
          4.463,
          4.066,
          3.676,
          3.077,
          3.161,
          3.186,
          4.06,
          3.962,
          4.099,
          4.28,
          4.335,
          4.388,
          2.947,
          3.278,
          3.298,
          5.744,
          5.826,
          6.173,
          3.276,
          3.127,
          3.326,
          6.168,
          6.75,
          6.096,
          1.359,
          1.1,
          1.081,
          2.381,
          2.442,
          2.075,
          4.996,
          4.988,
          4.979,
          5.978,
          6.124,
          6.493,
          1.311,
          1.218,
          1.446,
          4.153,
          4.088,
          4.304,
          2.992,
          3.31,
          3.338,
          3.103,
          3.155,
          3.048,
          4.24,
          4.979,
          4.612,
          6.888,
          6.32,
          6.549,
          6.028,
          6.484,
          6.203,
          4.877,
          4.938,
          5.168,
          5.026,
          4.899,
          5.306,
          2.015,
          2.372,
          2.625,
          4.083,
          4.143,
          4.252,
          4.288,
          3.91,
          4.38,
          5.117,
          5.098,
          4.878,
          5.198,
          5.624,
          5.274
         ],
         "xaxis": "x",
         "y": [
          34.6,
          31.9,
          31.9,
          41.1,
          44.5,
          45.7,
          7.2,
          9.5,
          8.5,
          30.6,
          26.1,
          27.5,
          44.6,
          37.5,
          40.1,
          45.1,
          49.1,
          44.2,
          23.5,
          22.6,
          25.4,
          63.9,
          61.7,
          76.3,
          40.5,
          38.7,
          42.7,
          41.5,
          42.5,
          44.5,
          8.4,
          8.3,
          9.5,
          35.5,
          26.4,
          27.1,
          50.6,
          43.6,
          41.7,
          51.7,
          39.1,
          47,
          56.5,
          52.6,
          49.6,
          5.7,
          7.4,
          6.5,
          29.4,
          33.8,
          23.6,
          42.5,
          43.7,
          46.5,
          46.2,
          56.5,
          47.5,
          12.7,
          9.1,
          11.4,
          74,
          83.3,
          75.1,
          77.5,
          68.5,
          67.5,
          55.4,
          46.3,
          48.5,
          8.8,
          12.5,
          10.7,
          24.2,
          25.1,
          19.6,
          14.8,
          15.7,
          17,
          38.1,
          37.9,
          38.4,
          36.5,
          36.1,
          35.5,
          51.6,
          46.4,
          47.1,
          39.6,
          39.7,
          37.1,
          35.1,
          33.7,
          31.7,
          51.1,
          53.3,
          46.5,
          3.6,
          5.3,
          5.2,
          23.7,
          24.5,
          25.5,
          19.4,
          21.1,
          18.7,
          45.3,
          46.6,
          35.4,
          15.4,
          14.6,
          16.7,
          71.1,
          81.5,
          89.2,
          25.1,
          22.6,
          22.4,
          61.6,
          70.5,
          67.1,
          6.1,
          5.3,
          9.1,
          49.2,
          47.6,
          44.6,
          21.5,
          25.1,
          26.6,
          17,
          12.5,
          18,
          7.5,
          5.1,
          8.5,
          13.9,
          15,
          12.2,
          54.1,
          61.1,
          64.3,
          45.7,
          29,
          34,
          15.4,
          14.7,
          15.1,
          36.4,
          42.8,
          46.3,
          8.9,
          11,
          7.2,
          36.2,
          45.7,
          47.6,
          71.5,
          75.2,
          64.3,
          69,
          65.4,
          54.4,
          30.7,
          32.1,
          31.4,
          52.7,
          55.7,
          47.6,
          51.1,
          55.5,
          50.7,
          70.7,
          75.4,
          66.3,
          13.6,
          13.2,
          13.6,
          66.7,
          74.1,
          69.5,
          7.1,
          7.7,
          4.2,
          34.2,
          37.6,
          29.3,
          35.4,
          37.4,
          35.7,
          52.7,
          43.2,
          46.6,
          61.8,
          47.3,
          46.6,
          6.2,
          5.4,
          4.9,
          14.2,
          14.2,
          15.1,
          51.5,
          55.3,
          56.7,
          34.1,
          36.3,
          30.1,
          59.3,
          54.1,
          64.7,
          49.3,
          30.5,
          35.5,
          26.6,
          24.5,
          19.2,
          52.2,
          45.2,
          46,
          27.4,
          26.6,
          44.6,
          4.4,
          3.2,
          7.1,
          16.7,
          14.2,
          16.4,
          42.5,
          46.7,
          44,
          44.4,
          47.2,
          45.1,
          17.2,
          16.5,
          17.2,
          20.9,
          25.5,
          26.1,
          5.4,
          8.3,
          6.2,
          28,
          31,
          27.2,
          15.5,
          16.3,
          15.7,
          25.7,
          26.1,
          25.4,
          24.4,
          24.8,
          31.8,
          2.5,
          5.7,
          5.7,
          10.6,
          11.5,
          10.5,
          23.5,
          27.2,
          31.1,
          25.7,
          21.5,
          22.2,
          55.9,
          50.5,
          51.7,
          39.1,
          37.9,
          35.6,
          34.1,
          37.3,
          36.5,
          25.9,
          27.3,
          24.1,
          48.1,
          35.4,
          35.5,
          7.1,
          9.1,
          7.7,
          35.5,
          28.3,
          33.7,
          65.5,
          73.3,
          77.3,
          51.4,
          54.9,
          52.6,
          8.9,
          14.4,
          13.5,
          22.1,
          28.2,
          29.4,
          10.4,
          6.6,
          12.2,
          30.1,
          33.5,
          34.9,
          17.7,
          15.3,
          17.1,
          19,
          19.2,
          26.1,
          44.7,
          50.7,
          47.5,
          44.7,
          41.1,
          51,
          5.5,
          8.1,
          6.7,
          22.4,
          26.2,
          22.2,
          37.7,
          33.6,
          33.6,
          31.4,
          33.5,
          34.4,
          5.1,
          7.1,
          6.4,
          13.8,
          14.3,
          15.6,
          37.1,
          36.4,
          40.5,
          53.2,
          57.4,
          54.6,
          3.3,
          3.2,
          3.2,
          35.7,
          42.5,
          37.1,
          37.4,
          29.7,
          35.2,
          10.7,
          10.7,
          9.2,
          56.7,
          57.7,
          60.7,
          61.2,
          59.6,
          67.4,
          11.2,
          11.1,
          11,
          35.3,
          33.5,
          28.9,
          52.5,
          57.2,
          47.9,
          34,
          25.4,
          25.9,
          42.2,
          35.2,
          32.2,
          12.2,
          19.6,
          20,
          24.6,
          17.5,
          15.2,
          35.1,
          33.5,
          31.2,
          3.7,
          5.7,
          7.5,
          26.7,
          30.2,
          28.1,
          44.5,
          46.1,
          44.7,
          15.5,
          16.5,
          17.8,
          1.5,
          2.7,
          5.8,
          24.2,
          20.5,
          25.2,
          45.1,
          54.5,
          50.1,
          7,
          7.4,
          8.4,
          30.9,
          30.3,
          28.7,
          34.6,
          35.7,
          33.7,
          33.3,
          31.1,
          32.7,
          32.3,
          39.2,
          31.7,
          39.5,
          41.5,
          32.6,
          15.7,
          15.5,
          17.7,
          35.9,
          34.2,
          36.6,
          14.4,
          15.7,
          19.7,
          22.7,
          16.8,
          22.5,
          7.9,
          9.3,
          10,
          13.5,
          14.5,
          16,
          55.5,
          65.1,
          54.5,
          11.1,
          9.4,
          12.7,
          37,
          34.5,
          41.6,
          29.4,
          22.3,
          27.3,
          46.1,
          36.7,
          37.2,
          6.2,
          7.4,
          6.2,
          31.9,
          35.4,
          39.6,
          18.7,
          15.2,
          17.1,
          50.9,
          57.3,
          57.7,
          47.9,
          45.7,
          51.5,
          14,
          17.4,
          22.2,
          22.3,
          21.1,
          23.5,
          11.4,
          10.3,
          10.5,
          4.7,
          2.4,
          5.1,
          3.1,
          5,
          5.7,
          59,
          59.1,
          55.3,
          9.7,
          7.6,
          6.6,
          13.6,
          15.3,
          17.4,
          8.9,
          8.1,
          9.4,
          49.6,
          57.7,
          55.4,
          9.7,
          16.5,
          14.4,
          27.4,
          25.1,
          29.2,
          27.7,
          28.6,
          27.1,
          42.7,
          39.5,
          43.1,
          71.5,
          82.3,
          77.2,
          35.3,
          42.8,
          44.3,
          51.9,
          55.7,
          48.7,
          3.5,
          2.5,
          2.2,
          17.7,
          21.6,
          15.7,
          31.2,
          25.2,
          23.4,
          43.1,
          41.2,
          46.7,
          7.6,
          3.4,
          7.5,
          25.3,
          30.6,
          25.2,
          16,
          14.7,
          22.7,
          24.1,
          21.4,
          22.7,
          42.5,
          64.5,
          57.7,
          82,
          70.1,
          71.3,
          57.5,
          64.1,
          63.1,
          30.4,
          30.7,
          31.1,
          49.5,
          45.1,
          45,
          21.2,
          25.4,
          29.6,
          25.3,
          24.7,
          25.1,
          27.1,
          23.6,
          24.4,
          51.2,
          45.3,
          45.4,
          31.4,
          32.8,
          31.1
         ],
         "yaxis": "y"
        }
       ],
       "layout": {
        "coloraxis": {
         "colorbar": {
          "title": {
           "text": "Pinch_Order"
          }
         },
         "colorscale": [
          [
           0,
           "#0d0887"
          ],
          [
           0.1111111111111111,
           "#46039f"
          ],
          [
           0.2222222222222222,
           "#7201a8"
          ],
          [
           0.3333333333333333,
           "#9c179e"
          ],
          [
           0.4444444444444444,
           "#bd3786"
          ],
          [
           0.5555555555555556,
           "#d8576b"
          ],
          [
           0.6666666666666666,
           "#ed7953"
          ],
          [
           0.7777777777777778,
           "#fb9f3a"
          ],
          [
           0.8888888888888888,
           "#fdca26"
          ],
          [
           1,
           "#f0f921"
          ]
         ]
        },
        "legend": {
         "tracegroupgap": 0
        },
        "template": {
         "data": {
          "bar": [
           {
            "error_x": {
             "color": "#2a3f5f"
            },
            "error_y": {
             "color": "#2a3f5f"
            },
            "marker": {
             "line": {
              "color": "#E5ECF6",
              "width": 0.5
             },
             "pattern": {
              "fillmode": "overlay",
              "size": 10,
              "solidity": 0.2
             }
            },
            "type": "bar"
           }
          ],
          "barpolar": [
           {
            "marker": {
             "line": {
              "color": "#E5ECF6",
              "width": 0.5
             },
             "pattern": {
              "fillmode": "overlay",
              "size": 10,
              "solidity": 0.2
             }
            },
            "type": "barpolar"
           }
          ],
          "carpet": [
           {
            "aaxis": {
             "endlinecolor": "#2a3f5f",
             "gridcolor": "white",
             "linecolor": "white",
             "minorgridcolor": "white",
             "startlinecolor": "#2a3f5f"
            },
            "baxis": {
             "endlinecolor": "#2a3f5f",
             "gridcolor": "white",
             "linecolor": "white",
             "minorgridcolor": "white",
             "startlinecolor": "#2a3f5f"
            },
            "type": "carpet"
           }
          ],
          "choropleth": [
           {
            "colorbar": {
             "outlinewidth": 0,
             "ticks": ""
            },
            "type": "choropleth"
           }
          ],
          "contour": [
           {
            "colorbar": {
             "outlinewidth": 0,
             "ticks": ""
            },
            "colorscale": [
             [
              0,
              "#0d0887"
             ],
             [
              0.1111111111111111,
              "#46039f"
             ],
             [
              0.2222222222222222,
              "#7201a8"
             ],
             [
              0.3333333333333333,
              "#9c179e"
             ],
             [
              0.4444444444444444,
              "#bd3786"
             ],
             [
              0.5555555555555556,
              "#d8576b"
             ],
             [
              0.6666666666666666,
              "#ed7953"
             ],
             [
              0.7777777777777778,
              "#fb9f3a"
             ],
             [
              0.8888888888888888,
              "#fdca26"
             ],
             [
              1,
              "#f0f921"
             ]
            ],
            "type": "contour"
           }
          ],
          "contourcarpet": [
           {
            "colorbar": {
             "outlinewidth": 0,
             "ticks": ""
            },
            "type": "contourcarpet"
           }
          ],
          "heatmap": [
           {
            "colorbar": {
             "outlinewidth": 0,
             "ticks": ""
            },
            "colorscale": [
             [
              0,
              "#0d0887"
             ],
             [
              0.1111111111111111,
              "#46039f"
             ],
             [
              0.2222222222222222,
              "#7201a8"
             ],
             [
              0.3333333333333333,
              "#9c179e"
             ],
             [
              0.4444444444444444,
              "#bd3786"
             ],
             [
              0.5555555555555556,
              "#d8576b"
             ],
             [
              0.6666666666666666,
              "#ed7953"
             ],
             [
              0.7777777777777778,
              "#fb9f3a"
             ],
             [
              0.8888888888888888,
              "#fdca26"
             ],
             [
              1,
              "#f0f921"
             ]
            ],
            "type": "heatmap"
           }
          ],
          "heatmapgl": [
           {
            "colorbar": {
             "outlinewidth": 0,
             "ticks": ""
            },
            "colorscale": [
             [
              0,
              "#0d0887"
             ],
             [
              0.1111111111111111,
              "#46039f"
             ],
             [
              0.2222222222222222,
              "#7201a8"
             ],
             [
              0.3333333333333333,
              "#9c179e"
             ],
             [
              0.4444444444444444,
              "#bd3786"
             ],
             [
              0.5555555555555556,
              "#d8576b"
             ],
             [
              0.6666666666666666,
              "#ed7953"
             ],
             [
              0.7777777777777778,
              "#fb9f3a"
             ],
             [
              0.8888888888888888,
              "#fdca26"
             ],
             [
              1,
              "#f0f921"
             ]
            ],
            "type": "heatmapgl"
           }
          ],
          "histogram": [
           {
            "marker": {
             "pattern": {
              "fillmode": "overlay",
              "size": 10,
              "solidity": 0.2
             }
            },
            "type": "histogram"
           }
          ],
          "histogram2d": [
           {
            "colorbar": {
             "outlinewidth": 0,
             "ticks": ""
            },
            "colorscale": [
             [
              0,
              "#0d0887"
             ],
             [
              0.1111111111111111,
              "#46039f"
             ],
             [
              0.2222222222222222,
              "#7201a8"
             ],
             [
              0.3333333333333333,
              "#9c179e"
             ],
             [
              0.4444444444444444,
              "#bd3786"
             ],
             [
              0.5555555555555556,
              "#d8576b"
             ],
             [
              0.6666666666666666,
              "#ed7953"
             ],
             [
              0.7777777777777778,
              "#fb9f3a"
             ],
             [
              0.8888888888888888,
              "#fdca26"
             ],
             [
              1,
              "#f0f921"
             ]
            ],
            "type": "histogram2d"
           }
          ],
          "histogram2dcontour": [
           {
            "colorbar": {
             "outlinewidth": 0,
             "ticks": ""
            },
            "colorscale": [
             [
              0,
              "#0d0887"
             ],
             [
              0.1111111111111111,
              "#46039f"
             ],
             [
              0.2222222222222222,
              "#7201a8"
             ],
             [
              0.3333333333333333,
              "#9c179e"
             ],
             [
              0.4444444444444444,
              "#bd3786"
             ],
             [
              0.5555555555555556,
              "#d8576b"
             ],
             [
              0.6666666666666666,
              "#ed7953"
             ],
             [
              0.7777777777777778,
              "#fb9f3a"
             ],
             [
              0.8888888888888888,
              "#fdca26"
             ],
             [
              1,
              "#f0f921"
             ]
            ],
            "type": "histogram2dcontour"
           }
          ],
          "mesh3d": [
           {
            "colorbar": {
             "outlinewidth": 0,
             "ticks": ""
            },
            "type": "mesh3d"
           }
          ],
          "parcoords": [
           {
            "line": {
             "colorbar": {
              "outlinewidth": 0,
              "ticks": ""
             }
            },
            "type": "parcoords"
           }
          ],
          "pie": [
           {
            "automargin": true,
            "type": "pie"
           }
          ],
          "scatter": [
           {
            "fillpattern": {
             "fillmode": "overlay",
             "size": 10,
             "solidity": 0.2
            },
            "type": "scatter"
           }
          ],
          "scatter3d": [
           {
            "line": {
             "colorbar": {
              "outlinewidth": 0,
              "ticks": ""
             }
            },
            "marker": {
             "colorbar": {
              "outlinewidth": 0,
              "ticks": ""
             }
            },
            "type": "scatter3d"
           }
          ],
          "scattercarpet": [
           {
            "marker": {
             "colorbar": {
              "outlinewidth": 0,
              "ticks": ""
             }
            },
            "type": "scattercarpet"
           }
          ],
          "scattergeo": [
           {
            "marker": {
             "colorbar": {
              "outlinewidth": 0,
              "ticks": ""
             }
            },
            "type": "scattergeo"
           }
          ],
          "scattergl": [
           {
            "marker": {
             "colorbar": {
              "outlinewidth": 0,
              "ticks": ""
             }
            },
            "type": "scattergl"
           }
          ],
          "scattermapbox": [
           {
            "marker": {
             "colorbar": {
              "outlinewidth": 0,
              "ticks": ""
             }
            },
            "type": "scattermapbox"
           }
          ],
          "scatterpolar": [
           {
            "marker": {
             "colorbar": {
              "outlinewidth": 0,
              "ticks": ""
             }
            },
            "type": "scatterpolar"
           }
          ],
          "scatterpolargl": [
           {
            "marker": {
             "colorbar": {
              "outlinewidth": 0,
              "ticks": ""
             }
            },
            "type": "scatterpolargl"
           }
          ],
          "scatterternary": [
           {
            "marker": {
             "colorbar": {
              "outlinewidth": 0,
              "ticks": ""
             }
            },
            "type": "scatterternary"
           }
          ],
          "surface": [
           {
            "colorbar": {
             "outlinewidth": 0,
             "ticks": ""
            },
            "colorscale": [
             [
              0,
              "#0d0887"
             ],
             [
              0.1111111111111111,
              "#46039f"
             ],
             [
              0.2222222222222222,
              "#7201a8"
             ],
             [
              0.3333333333333333,
              "#9c179e"
             ],
             [
              0.4444444444444444,
              "#bd3786"
             ],
             [
              0.5555555555555556,
              "#d8576b"
             ],
             [
              0.6666666666666666,
              "#ed7953"
             ],
             [
              0.7777777777777778,
              "#fb9f3a"
             ],
             [
              0.8888888888888888,
              "#fdca26"
             ],
             [
              1,
              "#f0f921"
             ]
            ],
            "type": "surface"
           }
          ],
          "table": [
           {
            "cells": {
             "fill": {
              "color": "#EBF0F8"
             },
             "line": {
              "color": "white"
             }
            },
            "header": {
             "fill": {
              "color": "#C8D4E3"
             },
             "line": {
              "color": "white"
             }
            },
            "type": "table"
           }
          ]
         },
         "layout": {
          "annotationdefaults": {
           "arrowcolor": "#2a3f5f",
           "arrowhead": 0,
           "arrowwidth": 1
          },
          "autotypenumbers": "strict",
          "coloraxis": {
           "colorbar": {
            "outlinewidth": 0,
            "ticks": ""
           }
          },
          "colorscale": {
           "diverging": [
            [
             0,
             "#8e0152"
            ],
            [
             0.1,
             "#c51b7d"
            ],
            [
             0.2,
             "#de77ae"
            ],
            [
             0.3,
             "#f1b6da"
            ],
            [
             0.4,
             "#fde0ef"
            ],
            [
             0.5,
             "#f7f7f7"
            ],
            [
             0.6,
             "#e6f5d0"
            ],
            [
             0.7,
             "#b8e186"
            ],
            [
             0.8,
             "#7fbc41"
            ],
            [
             0.9,
             "#4d9221"
            ],
            [
             1,
             "#276419"
            ]
           ],
           "sequential": [
            [
             0,
             "#0d0887"
            ],
            [
             0.1111111111111111,
             "#46039f"
            ],
            [
             0.2222222222222222,
             "#7201a8"
            ],
            [
             0.3333333333333333,
             "#9c179e"
            ],
            [
             0.4444444444444444,
             "#bd3786"
            ],
            [
             0.5555555555555556,
             "#d8576b"
            ],
            [
             0.6666666666666666,
             "#ed7953"
            ],
            [
             0.7777777777777778,
             "#fb9f3a"
            ],
            [
             0.8888888888888888,
             "#fdca26"
            ],
            [
             1,
             "#f0f921"
            ]
           ],
           "sequentialminus": [
            [
             0,
             "#0d0887"
            ],
            [
             0.1111111111111111,
             "#46039f"
            ],
            [
             0.2222222222222222,
             "#7201a8"
            ],
            [
             0.3333333333333333,
             "#9c179e"
            ],
            [
             0.4444444444444444,
             "#bd3786"
            ],
            [
             0.5555555555555556,
             "#d8576b"
            ],
            [
             0.6666666666666666,
             "#ed7953"
            ],
            [
             0.7777777777777778,
             "#fb9f3a"
            ],
            [
             0.8888888888888888,
             "#fdca26"
            ],
            [
             1,
             "#f0f921"
            ]
           ]
          },
          "colorway": [
           "#636efa",
           "#EF553B",
           "#00cc96",
           "#ab63fa",
           "#FFA15A",
           "#19d3f3",
           "#FF6692",
           "#B6E880",
           "#FF97FF",
           "#FECB52"
          ],
          "font": {
           "color": "#2a3f5f"
          },
          "geo": {
           "bgcolor": "white",
           "lakecolor": "white",
           "landcolor": "#E5ECF6",
           "showlakes": true,
           "showland": true,
           "subunitcolor": "white"
          },
          "hoverlabel": {
           "align": "left"
          },
          "hovermode": "closest",
          "mapbox": {
           "style": "light"
          },
          "paper_bgcolor": "white",
          "plot_bgcolor": "#E5ECF6",
          "polar": {
           "angularaxis": {
            "gridcolor": "white",
            "linecolor": "white",
            "ticks": ""
           },
           "bgcolor": "#E5ECF6",
           "radialaxis": {
            "gridcolor": "white",
            "linecolor": "white",
            "ticks": ""
           }
          },
          "scene": {
           "xaxis": {
            "backgroundcolor": "#E5ECF6",
            "gridcolor": "white",
            "gridwidth": 2,
            "linecolor": "white",
            "showbackground": true,
            "ticks": "",
            "zerolinecolor": "white"
           },
           "yaxis": {
            "backgroundcolor": "#E5ECF6",
            "gridcolor": "white",
            "gridwidth": 2,
            "linecolor": "white",
            "showbackground": true,
            "ticks": "",
            "zerolinecolor": "white"
           },
           "zaxis": {
            "backgroundcolor": "#E5ECF6",
            "gridcolor": "white",
            "gridwidth": 2,
            "linecolor": "white",
            "showbackground": true,
            "ticks": "",
            "zerolinecolor": "white"
           }
          },
          "shapedefaults": {
           "line": {
            "color": "#2a3f5f"
           }
          },
          "ternary": {
           "aaxis": {
            "gridcolor": "white",
            "linecolor": "white",
            "ticks": ""
           },
           "baxis": {
            "gridcolor": "white",
            "linecolor": "white",
            "ticks": ""
           },
           "bgcolor": "#E5ECF6",
           "caxis": {
            "gridcolor": "white",
            "linecolor": "white",
            "ticks": ""
           }
          },
          "title": {
           "x": 0.05
          },
          "xaxis": {
           "automargin": true,
           "gridcolor": "white",
           "linecolor": "white",
           "ticks": "",
           "title": {
            "standoff": 15
           },
           "zerolinecolor": "white",
           "zerolinewidth": 2
          },
          "yaxis": {
           "automargin": true,
           "gridcolor": "white",
           "linecolor": "white",
           "ticks": "",
           "title": {
            "standoff": 15
           },
           "zerolinecolor": "white",
           "zerolinewidth": 2
          }
         }
        },
        "title": {
         "text": "Kilograms Pulled by pinch Order<br><sup>by Jerry Yu</sub>",
         "x": 0.5,
         "xanchor": "center",
         "yanchor": "top"
        },
        "xaxis": {
         "anchor": "y",
         "domain": [
          0,
          1
         ],
         "title": {
          "text": "Pinch"
         }
        },
        "yaxis": {
         "anchor": "x",
         "domain": [
          0,
          1
         ],
         "title": {
          "text": "Pull"
         }
        }
       }
      }
     },
     "metadata": {},
     "output_type": "display_data"
    },
    {
     "data": {
      "application/vnd.plotly.v1+json": {
       "config": {
        "plotlyServerURL": "https://plot.ly"
       },
       "data": [
        {
         "hovertemplate": "Pinch=%{x}<br>Pull=%{y}<br>Day_Order=%{marker.color}<extra></extra>",
         "legendgroup": "",
         "marker": {
          "color": [
           1,
           1,
           1,
           2,
           2,
           2,
           3,
           3,
           3,
           4,
           4,
           4,
           5,
           5,
           5,
           6,
           6,
           6,
           7,
           7,
           7,
           8,
           8,
           8,
           9,
           9,
           9,
           10,
           10,
           10,
           11,
           11,
           11,
           12,
           12,
           12,
           13,
           13,
           13,
           14,
           14,
           14,
           15,
           15,
           15,
           16,
           16,
           16,
           17,
           17,
           17,
           18,
           18,
           18,
           19,
           19,
           19,
           20,
           20,
           20,
           1,
           1,
           1,
           2,
           2,
           2,
           3,
           3,
           3,
           4,
           4,
           4,
           5,
           5,
           5,
           6,
           6,
           6,
           7,
           7,
           7,
           8,
           8,
           8,
           9,
           9,
           9,
           10,
           10,
           10,
           11,
           11,
           11,
           12,
           12,
           12,
           13,
           13,
           13,
           14,
           14,
           14,
           15,
           15,
           15,
           16,
           16,
           16,
           17,
           17,
           17,
           18,
           18,
           18,
           19,
           19,
           19,
           20,
           20,
           20,
           1,
           1,
           1,
           2,
           2,
           2,
           3,
           3,
           3,
           4,
           4,
           4,
           5,
           5,
           5,
           6,
           6,
           6,
           7,
           7,
           7,
           8,
           8,
           8,
           9,
           9,
           9,
           10,
           10,
           10,
           11,
           11,
           11,
           12,
           12,
           12,
           13,
           13,
           13,
           14,
           14,
           14,
           15,
           15,
           15,
           16,
           16,
           16,
           17,
           17,
           17,
           18,
           18,
           18,
           19,
           19,
           19,
           20,
           20,
           20,
           21,
           21,
           21,
           22,
           22,
           22,
           1,
           1,
           1,
           2,
           2,
           2,
           3,
           3,
           3,
           4,
           4,
           4,
           5,
           5,
           5,
           6,
           6,
           6,
           7,
           7,
           7,
           8,
           8,
           8,
           9,
           9,
           9,
           10,
           10,
           10,
           11,
           11,
           11,
           12,
           12,
           12,
           13,
           13,
           13,
           14,
           14,
           14,
           15,
           15,
           15,
           16,
           16,
           16,
           17,
           17,
           17,
           18,
           18,
           18,
           19,
           19,
           19,
           20,
           20,
           20,
           21,
           21,
           21,
           22,
           22,
           22,
           23,
           23,
           23,
           24,
           24,
           24,
           25,
           25,
           25,
           1,
           1,
           1,
           2,
           2,
           2,
           3,
           3,
           3,
           4,
           4,
           4,
           5,
           5,
           5,
           6,
           6,
           6,
           7,
           7,
           7,
           8,
           8,
           8,
           9,
           9,
           9,
           10,
           10,
           10,
           11,
           11,
           11,
           12,
           12,
           12,
           13,
           13,
           13,
           14,
           14,
           14,
           15,
           15,
           15,
           16,
           16,
           16,
           17,
           17,
           17,
           18,
           18,
           18,
           19,
           19,
           19,
           20,
           20,
           20,
           21,
           21,
           21,
           22,
           22,
           22,
           23,
           23,
           23,
           24,
           24,
           24,
           25,
           25,
           25,
           26,
           26,
           26,
           27,
           27,
           27,
           28,
           28,
           28,
           29,
           29,
           29,
           30,
           30,
           30,
           31,
           31,
           31,
           32,
           32,
           32,
           33,
           33,
           33,
           34,
           34,
           34,
           35,
           35,
           35,
           1,
           1,
           1,
           2,
           2,
           2,
           3,
           3,
           3,
           4,
           4,
           4,
           5,
           5,
           5,
           6,
           6,
           6,
           7,
           7,
           7,
           8,
           8,
           8,
           9,
           9,
           9,
           10,
           10,
           10,
           11,
           11,
           11,
           12,
           12,
           12,
           13,
           13,
           13,
           14,
           14,
           14,
           15,
           15,
           15,
           16,
           16,
           16,
           17,
           17,
           17,
           18,
           18,
           18,
           19,
           19,
           19,
           20,
           20,
           20,
           21,
           21,
           21,
           22,
           22,
           22,
           23,
           23,
           23,
           24,
           24,
           24,
           25,
           25,
           25,
           26,
           26,
           26,
           27,
           27,
           27,
           28,
           28,
           28,
           29,
           29,
           29,
           30,
           30,
           30,
           31,
           31,
           31,
           32,
           32,
           32,
           33,
           33,
           33,
           34,
           34,
           34,
           35,
           35,
           35,
           36,
           36,
           36,
           37,
           37,
           37,
           38,
           38,
           38,
           1,
           1,
           1,
           2,
           2,
           2,
           3,
           3,
           3,
           4,
           4,
           4,
           5,
           5,
           5,
           6,
           6,
           6,
           7,
           7,
           7,
           8,
           8,
           8,
           9,
           9,
           9,
           10,
           10,
           10,
           11,
           11,
           11,
           12,
           12,
           12,
           13,
           13,
           13,
           14,
           14,
           14,
           15,
           15,
           15,
           16,
           16,
           16,
           17,
           17,
           17,
           18,
           18,
           18,
           19,
           19,
           19,
           20,
           20,
           20,
           21,
           21,
           21,
           22,
           22,
           22,
           23,
           23,
           23,
           24,
           24,
           24,
           25,
           25,
           25,
           26,
           26,
           26,
           27,
           27,
           27,
           28,
           28,
           28,
           29,
           29,
           29,
           30,
           30,
           30,
           31,
           31,
           31,
           32,
           32,
           32
          ],
          "coloraxis": "coloraxis",
          "symbol": "circle"
         },
         "mode": "markers",
         "name": "",
         "orientation": "v",
         "showlegend": false,
         "type": "scatter",
         "x": [
          4.202,
          4.117,
          4.154,
          4.088,
          4.088,
          4.086,
          1.099,
          1.319,
          1.198,
          3.124,
          2.808,
          3.077,
          4.088,
          4.223,
          4.125,
          4.888,
          5.356,
          4.838,
          2.086,
          2.054,
          2.08,
          5.989,
          6.064,
          5.883,
          4.483,
          4.088,
          4.528,
          5.233,
          5.382,
          5.1,
          1.284,
          1.322,
          1.408,
          3.938,
          3.298,
          3.238,
          5.105,
          5.372,
          5.201,
          5.587,
          5.055,
          4.991,
          5.898,
          5.899,
          5.881,
          1.176,
          1.292,
          1.044,
          3.121,
          3.289,
          2.966,
          4.104,
          4.18,
          4.453,
          4.212,
          4.349,
          3.792,
          1.167,
          1.018,
          1.018,
          6.039,
          7.126,
          6.407,
          5.492,
          5.703,
          5.342,
          6.309,
          5.813,
          6.138,
          1.093,
          1.188,
          1.036,
          2.597,
          2.419,
          2.058,
          1.949,
          1.908,
          2.209,
          3.36,
          3.326,
          2.999,
          3.886,
          4.549,
          4.078,
          5.96,
          5.5,
          6.198,
          5.289,
          5.472,
          5.066,
          3.129,
          2.847,
          3.072,
          6.683,
          6.046,
          5.699,
          1.275,
          1.135,
          1.288,
          2.188,
          1.998,
          1.997,
          2.129,
          2.179,
          1.952,
          3.762,
          3.399,
          3.316,
          2.347,
          2.129,
          2.104,
          6.221,
          6.262,
          6.878,
          3.572,
          3.189,
          3.258,
          5.061,
          5.334,
          4.947,
          1.198,
          1.098,
          1.303,
          4.047,
          4.096,
          4.116,
          2.998,
          3.089,
          3.088,
          2.342,
          2.078,
          2.217,
          1.098,
          1.054,
          1.141,
          2.061,
          2.078,
          1.983,
          5.738,
          5.692,
          6.088,
          4.989,
          4.294,
          4.288,
          2.198,
          2.101,
          2.192,
          4.158,
          4.389,
          4.388,
          1.002,
          0.938,
          1.088,
          5.309,
          5.069,
          5.22,
          6.007,
          6.038,
          6.308,
          5.16,
          4.887,
          5.108,
          3.053,
          2.83,
          2.899,
          6.498,
          6.602,
          6.225,
          6.398,
          5.969,
          5.608,
          7.243,
          7.389,
          6.914,
          2.098,
          2.198,
          2.278,
          6.091,
          5.988,
          6.074,
          1.278,
          1.238,
          1.068,
          3.946,
          4.473,
          3.938,
          3.915,
          4.057,
          3.99,
          4.304,
          4.239,
          4.224,
          6.033,
          5.337,
          4.987,
          1.157,
          1.073,
          1.097,
          2.288,
          2.234,
          2.169,
          4.889,
          4.582,
          4.718,
          2.829,
          3.138,
          3.191,
          5.587,
          5.934,
          7.216,
          4.766,
          3.788,
          4.012,
          3.546,
          3.148,
          2.798,
          5.928,
          6.093,
          5.843,
          3.564,
          3.055,
          4.039,
          1.034,
          1.037,
          1.019,
          2.098,
          2.048,
          2.033,
          3.638,
          3.889,
          3.762,
          5.492,
          5.447,
          5.139,
          2.006,
          2.088,
          2.023,
          1.988,
          2.049,
          2.114,
          1.082,
          1.093,
          0.979,
          4.072,
          4.208,
          4.196,
          2.096,
          2.015,
          2.022,
          3.08,
          3.1,
          3.098,
          3.218,
          3.363,
          3.388,
          1.085,
          1.053,
          0.947,
          1.217,
          1.1,
          1.176,
          4.149,
          4.162,
          4.449,
          2.139,
          2.022,
          2.019,
          6.309,
          6.009,
          6.087,
          5.66,
          5.291,
          4.898,
          3.013,
          3.176,
          3.315,
          3.218,
          3.044,
          3.306,
          5.581,
          5.039,
          4.893,
          1.309,
          1.463,
          1.19,
          5.29,
          5.038,
          5.275,
          6,
          5.859,
          6.143,
          4.919,
          4.909,
          5.048,
          2.194,
          2.199,
          2.065,
          3.22,
          3.214,
          3.215,
          2.351,
          2.096,
          2.206,
          4.387,
          4.095,
          4.247,
          2.218,
          2.138,
          2.079,
          3.247,
          3.152,
          3.253,
          5.998,
          5.993,
          6.048,
          4.997,
          4.589,
          5.384,
          1.219,
          1.308,
          1.249,
          3.211,
          3.458,
          3.187,
          4.446,
          4.258,
          4.172,
          3.209,
          3.284,
          2.88,
          1.042,
          1.221,
          1.033,
          2.29,
          1.96,
          2.059,
          4.793,
          4.767,
          4.958,
          6.087,
          6.636,
          5.872,
          1.149,
          0.989,
          1.059,
          4.496,
          4.491,
          4.019,
          3.648,
          3.189,
          3.573,
          1.089,
          1.102,
          1.02,
          6.493,
          5.989,
          5.998,
          6.685,
          6.172,
          6.276,
          1.207,
          1.063,
          1.184,
          5.287,
          4.886,
          4.949,
          6.935,
          6.741,
          6.158,
          3.988,
          4.123,
          4.333,
          5.061,
          5.191,
          5.094,
          2.178,
          2.089,
          2.183,
          1.97,
          2.188,
          2.048,
          5.267,
          5.326,
          5.636,
          1.038,
          1,
          1.192,
          3.209,
          3.138,
          3.406,
          5.783,
          6.108,
          5.898,
          2.413,
          2.199,
          2.28,
          1.033,
          1.082,
          1.048,
          4.109,
          3.899,
          4.251,
          4.988,
          4.964,
          5.069,
          1.523,
          1.238,
          1.369,
          5.189,
          5.086,
          5.098,
          4.088,
          3.898,
          3.859,
          2.868,
          2.898,
          3.092,
          5.999,
          5.966,
          6.031,
          4.332,
          4.089,
          3.988,
          3.098,
          2.892,
          3.21,
          4.106,
          3.838,
          4.188,
          2.298,
          1.898,
          2.183,
          3.048,
          2.888,
          2.688,
          1.289,
          1.389,
          1.208,
          2.089,
          2.008,
          2.133,
          5.336,
          5.599,
          5.579,
          2.208,
          2.098,
          2.08,
          4.282,
          4.094,
          3.899,
          3.322,
          3.092,
          3.298,
          6.558,
          6.199,
          6.343,
          1.196,
          1.36,
          1.198,
          4.888,
          4.979,
          5.217,
          2.098,
          1.983,
          2.207,
          5.998,
          6.203,
          6.387,
          5.972,
          5.666,
          5.869,
          2.041,
          2.22,
          2.212,
          3.292,
          3.088,
          3.088,
          1.139,
          1.098,
          1.231,
          1.147,
          1.115,
          1.279,
          0.988,
          1.219,
          0.972,
          5.097,
          4.964,
          4.787,
          1.268,
          1.061,
          1.279,
          2.077,
          1.992,
          2.164,
          2.217,
          2.187,
          1.898,
          4.463,
          4.066,
          3.676,
          3.077,
          3.161,
          3.186,
          4.06,
          3.962,
          4.099,
          4.28,
          4.335,
          4.388,
          2.947,
          3.278,
          3.298,
          5.744,
          5.826,
          6.173,
          3.276,
          3.127,
          3.326,
          6.168,
          6.75,
          6.096,
          1.359,
          1.1,
          1.081,
          2.381,
          2.442,
          2.075,
          4.996,
          4.988,
          4.979,
          5.978,
          6.124,
          6.493,
          1.311,
          1.218,
          1.446,
          4.153,
          4.088,
          4.304,
          2.992,
          3.31,
          3.338,
          3.103,
          3.155,
          3.048,
          4.24,
          4.979,
          4.612,
          6.888,
          6.32,
          6.549,
          6.028,
          6.484,
          6.203,
          4.877,
          4.938,
          5.168,
          5.026,
          4.899,
          5.306,
          2.015,
          2.372,
          2.625,
          4.083,
          4.143,
          4.252,
          4.288,
          3.91,
          4.38,
          5.117,
          5.098,
          4.878,
          5.198,
          5.624,
          5.274
         ],
         "xaxis": "x",
         "y": [
          34.6,
          31.9,
          31.9,
          41.1,
          44.5,
          45.7,
          7.2,
          9.5,
          8.5,
          30.6,
          26.1,
          27.5,
          44.6,
          37.5,
          40.1,
          45.1,
          49.1,
          44.2,
          23.5,
          22.6,
          25.4,
          63.9,
          61.7,
          76.3,
          40.5,
          38.7,
          42.7,
          41.5,
          42.5,
          44.5,
          8.4,
          8.3,
          9.5,
          35.5,
          26.4,
          27.1,
          50.6,
          43.6,
          41.7,
          51.7,
          39.1,
          47,
          56.5,
          52.6,
          49.6,
          5.7,
          7.4,
          6.5,
          29.4,
          33.8,
          23.6,
          42.5,
          43.7,
          46.5,
          46.2,
          56.5,
          47.5,
          12.7,
          9.1,
          11.4,
          74,
          83.3,
          75.1,
          77.5,
          68.5,
          67.5,
          55.4,
          46.3,
          48.5,
          8.8,
          12.5,
          10.7,
          24.2,
          25.1,
          19.6,
          14.8,
          15.7,
          17,
          38.1,
          37.9,
          38.4,
          36.5,
          36.1,
          35.5,
          51.6,
          46.4,
          47.1,
          39.6,
          39.7,
          37.1,
          35.1,
          33.7,
          31.7,
          51.1,
          53.3,
          46.5,
          3.6,
          5.3,
          5.2,
          23.7,
          24.5,
          25.5,
          19.4,
          21.1,
          18.7,
          45.3,
          46.6,
          35.4,
          15.4,
          14.6,
          16.7,
          71.1,
          81.5,
          89.2,
          25.1,
          22.6,
          22.4,
          61.6,
          70.5,
          67.1,
          6.1,
          5.3,
          9.1,
          49.2,
          47.6,
          44.6,
          21.5,
          25.1,
          26.6,
          17,
          12.5,
          18,
          7.5,
          5.1,
          8.5,
          13.9,
          15,
          12.2,
          54.1,
          61.1,
          64.3,
          45.7,
          29,
          34,
          15.4,
          14.7,
          15.1,
          36.4,
          42.8,
          46.3,
          8.9,
          11,
          7.2,
          36.2,
          45.7,
          47.6,
          71.5,
          75.2,
          64.3,
          69,
          65.4,
          54.4,
          30.7,
          32.1,
          31.4,
          52.7,
          55.7,
          47.6,
          51.1,
          55.5,
          50.7,
          70.7,
          75.4,
          66.3,
          13.6,
          13.2,
          13.6,
          66.7,
          74.1,
          69.5,
          7.1,
          7.7,
          4.2,
          34.2,
          37.6,
          29.3,
          35.4,
          37.4,
          35.7,
          52.7,
          43.2,
          46.6,
          61.8,
          47.3,
          46.6,
          6.2,
          5.4,
          4.9,
          14.2,
          14.2,
          15.1,
          51.5,
          55.3,
          56.7,
          34.1,
          36.3,
          30.1,
          59.3,
          54.1,
          64.7,
          49.3,
          30.5,
          35.5,
          26.6,
          24.5,
          19.2,
          52.2,
          45.2,
          46,
          27.4,
          26.6,
          44.6,
          4.4,
          3.2,
          7.1,
          16.7,
          14.2,
          16.4,
          42.5,
          46.7,
          44,
          44.4,
          47.2,
          45.1,
          17.2,
          16.5,
          17.2,
          20.9,
          25.5,
          26.1,
          5.4,
          8.3,
          6.2,
          28,
          31,
          27.2,
          15.5,
          16.3,
          15.7,
          25.7,
          26.1,
          25.4,
          24.4,
          24.8,
          31.8,
          2.5,
          5.7,
          5.7,
          10.6,
          11.5,
          10.5,
          23.5,
          27.2,
          31.1,
          25.7,
          21.5,
          22.2,
          55.9,
          50.5,
          51.7,
          39.1,
          37.9,
          35.6,
          34.1,
          37.3,
          36.5,
          25.9,
          27.3,
          24.1,
          48.1,
          35.4,
          35.5,
          7.1,
          9.1,
          7.7,
          35.5,
          28.3,
          33.7,
          65.5,
          73.3,
          77.3,
          51.4,
          54.9,
          52.6,
          8.9,
          14.4,
          13.5,
          22.1,
          28.2,
          29.4,
          10.4,
          6.6,
          12.2,
          30.1,
          33.5,
          34.9,
          17.7,
          15.3,
          17.1,
          19,
          19.2,
          26.1,
          44.7,
          50.7,
          47.5,
          44.7,
          41.1,
          51,
          5.5,
          8.1,
          6.7,
          22.4,
          26.2,
          22.2,
          37.7,
          33.6,
          33.6,
          31.4,
          33.5,
          34.4,
          5.1,
          7.1,
          6.4,
          13.8,
          14.3,
          15.6,
          37.1,
          36.4,
          40.5,
          53.2,
          57.4,
          54.6,
          3.3,
          3.2,
          3.2,
          35.7,
          42.5,
          37.1,
          37.4,
          29.7,
          35.2,
          10.7,
          10.7,
          9.2,
          56.7,
          57.7,
          60.7,
          61.2,
          59.6,
          67.4,
          11.2,
          11.1,
          11,
          35.3,
          33.5,
          28.9,
          52.5,
          57.2,
          47.9,
          34,
          25.4,
          25.9,
          42.2,
          35.2,
          32.2,
          12.2,
          19.6,
          20,
          24.6,
          17.5,
          15.2,
          35.1,
          33.5,
          31.2,
          3.7,
          5.7,
          7.5,
          26.7,
          30.2,
          28.1,
          44.5,
          46.1,
          44.7,
          15.5,
          16.5,
          17.8,
          1.5,
          2.7,
          5.8,
          24.2,
          20.5,
          25.2,
          45.1,
          54.5,
          50.1,
          7,
          7.4,
          8.4,
          30.9,
          30.3,
          28.7,
          34.6,
          35.7,
          33.7,
          33.3,
          31.1,
          32.7,
          32.3,
          39.2,
          31.7,
          39.5,
          41.5,
          32.6,
          15.7,
          15.5,
          17.7,
          35.9,
          34.2,
          36.6,
          14.4,
          15.7,
          19.7,
          22.7,
          16.8,
          22.5,
          7.9,
          9.3,
          10,
          13.5,
          14.5,
          16,
          55.5,
          65.1,
          54.5,
          11.1,
          9.4,
          12.7,
          37,
          34.5,
          41.6,
          29.4,
          22.3,
          27.3,
          46.1,
          36.7,
          37.2,
          6.2,
          7.4,
          6.2,
          31.9,
          35.4,
          39.6,
          18.7,
          15.2,
          17.1,
          50.9,
          57.3,
          57.7,
          47.9,
          45.7,
          51.5,
          14,
          17.4,
          22.2,
          22.3,
          21.1,
          23.5,
          11.4,
          10.3,
          10.5,
          4.7,
          2.4,
          5.1,
          3.1,
          5,
          5.7,
          59,
          59.1,
          55.3,
          9.7,
          7.6,
          6.6,
          13.6,
          15.3,
          17.4,
          8.9,
          8.1,
          9.4,
          49.6,
          57.7,
          55.4,
          9.7,
          16.5,
          14.4,
          27.4,
          25.1,
          29.2,
          27.7,
          28.6,
          27.1,
          42.7,
          39.5,
          43.1,
          71.5,
          82.3,
          77.2,
          35.3,
          42.8,
          44.3,
          51.9,
          55.7,
          48.7,
          3.5,
          2.5,
          2.2,
          17.7,
          21.6,
          15.7,
          31.2,
          25.2,
          23.4,
          43.1,
          41.2,
          46.7,
          7.6,
          3.4,
          7.5,
          25.3,
          30.6,
          25.2,
          16,
          14.7,
          22.7,
          24.1,
          21.4,
          22.7,
          42.5,
          64.5,
          57.7,
          82,
          70.1,
          71.3,
          57.5,
          64.1,
          63.1,
          30.4,
          30.7,
          31.1,
          49.5,
          45.1,
          45,
          21.2,
          25.4,
          29.6,
          25.3,
          24.7,
          25.1,
          27.1,
          23.6,
          24.4,
          51.2,
          45.3,
          45.4,
          31.4,
          32.8,
          31.1
         ],
         "yaxis": "y"
        }
       ],
       "layout": {
        "coloraxis": {
         "colorbar": {
          "title": {
           "text": "Day_Order"
          }
         },
         "colorscale": [
          [
           0,
           "#0d0887"
          ],
          [
           0.1111111111111111,
           "#46039f"
          ],
          [
           0.2222222222222222,
           "#7201a8"
          ],
          [
           0.3333333333333333,
           "#9c179e"
          ],
          [
           0.4444444444444444,
           "#bd3786"
          ],
          [
           0.5555555555555556,
           "#d8576b"
          ],
          [
           0.6666666666666666,
           "#ed7953"
          ],
          [
           0.7777777777777778,
           "#fb9f3a"
          ],
          [
           0.8888888888888888,
           "#fdca26"
          ],
          [
           1,
           "#f0f921"
          ]
         ]
        },
        "legend": {
         "tracegroupgap": 0
        },
        "template": {
         "data": {
          "bar": [
           {
            "error_x": {
             "color": "#2a3f5f"
            },
            "error_y": {
             "color": "#2a3f5f"
            },
            "marker": {
             "line": {
              "color": "#E5ECF6",
              "width": 0.5
             },
             "pattern": {
              "fillmode": "overlay",
              "size": 10,
              "solidity": 0.2
             }
            },
            "type": "bar"
           }
          ],
          "barpolar": [
           {
            "marker": {
             "line": {
              "color": "#E5ECF6",
              "width": 0.5
             },
             "pattern": {
              "fillmode": "overlay",
              "size": 10,
              "solidity": 0.2
             }
            },
            "type": "barpolar"
           }
          ],
          "carpet": [
           {
            "aaxis": {
             "endlinecolor": "#2a3f5f",
             "gridcolor": "white",
             "linecolor": "white",
             "minorgridcolor": "white",
             "startlinecolor": "#2a3f5f"
            },
            "baxis": {
             "endlinecolor": "#2a3f5f",
             "gridcolor": "white",
             "linecolor": "white",
             "minorgridcolor": "white",
             "startlinecolor": "#2a3f5f"
            },
            "type": "carpet"
           }
          ],
          "choropleth": [
           {
            "colorbar": {
             "outlinewidth": 0,
             "ticks": ""
            },
            "type": "choropleth"
           }
          ],
          "contour": [
           {
            "colorbar": {
             "outlinewidth": 0,
             "ticks": ""
            },
            "colorscale": [
             [
              0,
              "#0d0887"
             ],
             [
              0.1111111111111111,
              "#46039f"
             ],
             [
              0.2222222222222222,
              "#7201a8"
             ],
             [
              0.3333333333333333,
              "#9c179e"
             ],
             [
              0.4444444444444444,
              "#bd3786"
             ],
             [
              0.5555555555555556,
              "#d8576b"
             ],
             [
              0.6666666666666666,
              "#ed7953"
             ],
             [
              0.7777777777777778,
              "#fb9f3a"
             ],
             [
              0.8888888888888888,
              "#fdca26"
             ],
             [
              1,
              "#f0f921"
             ]
            ],
            "type": "contour"
           }
          ],
          "contourcarpet": [
           {
            "colorbar": {
             "outlinewidth": 0,
             "ticks": ""
            },
            "type": "contourcarpet"
           }
          ],
          "heatmap": [
           {
            "colorbar": {
             "outlinewidth": 0,
             "ticks": ""
            },
            "colorscale": [
             [
              0,
              "#0d0887"
             ],
             [
              0.1111111111111111,
              "#46039f"
             ],
             [
              0.2222222222222222,
              "#7201a8"
             ],
             [
              0.3333333333333333,
              "#9c179e"
             ],
             [
              0.4444444444444444,
              "#bd3786"
             ],
             [
              0.5555555555555556,
              "#d8576b"
             ],
             [
              0.6666666666666666,
              "#ed7953"
             ],
             [
              0.7777777777777778,
              "#fb9f3a"
             ],
             [
              0.8888888888888888,
              "#fdca26"
             ],
             [
              1,
              "#f0f921"
             ]
            ],
            "type": "heatmap"
           }
          ],
          "heatmapgl": [
           {
            "colorbar": {
             "outlinewidth": 0,
             "ticks": ""
            },
            "colorscale": [
             [
              0,
              "#0d0887"
             ],
             [
              0.1111111111111111,
              "#46039f"
             ],
             [
              0.2222222222222222,
              "#7201a8"
             ],
             [
              0.3333333333333333,
              "#9c179e"
             ],
             [
              0.4444444444444444,
              "#bd3786"
             ],
             [
              0.5555555555555556,
              "#d8576b"
             ],
             [
              0.6666666666666666,
              "#ed7953"
             ],
             [
              0.7777777777777778,
              "#fb9f3a"
             ],
             [
              0.8888888888888888,
              "#fdca26"
             ],
             [
              1,
              "#f0f921"
             ]
            ],
            "type": "heatmapgl"
           }
          ],
          "histogram": [
           {
            "marker": {
             "pattern": {
              "fillmode": "overlay",
              "size": 10,
              "solidity": 0.2
             }
            },
            "type": "histogram"
           }
          ],
          "histogram2d": [
           {
            "colorbar": {
             "outlinewidth": 0,
             "ticks": ""
            },
            "colorscale": [
             [
              0,
              "#0d0887"
             ],
             [
              0.1111111111111111,
              "#46039f"
             ],
             [
              0.2222222222222222,
              "#7201a8"
             ],
             [
              0.3333333333333333,
              "#9c179e"
             ],
             [
              0.4444444444444444,
              "#bd3786"
             ],
             [
              0.5555555555555556,
              "#d8576b"
             ],
             [
              0.6666666666666666,
              "#ed7953"
             ],
             [
              0.7777777777777778,
              "#fb9f3a"
             ],
             [
              0.8888888888888888,
              "#fdca26"
             ],
             [
              1,
              "#f0f921"
             ]
            ],
            "type": "histogram2d"
           }
          ],
          "histogram2dcontour": [
           {
            "colorbar": {
             "outlinewidth": 0,
             "ticks": ""
            },
            "colorscale": [
             [
              0,
              "#0d0887"
             ],
             [
              0.1111111111111111,
              "#46039f"
             ],
             [
              0.2222222222222222,
              "#7201a8"
             ],
             [
              0.3333333333333333,
              "#9c179e"
             ],
             [
              0.4444444444444444,
              "#bd3786"
             ],
             [
              0.5555555555555556,
              "#d8576b"
             ],
             [
              0.6666666666666666,
              "#ed7953"
             ],
             [
              0.7777777777777778,
              "#fb9f3a"
             ],
             [
              0.8888888888888888,
              "#fdca26"
             ],
             [
              1,
              "#f0f921"
             ]
            ],
            "type": "histogram2dcontour"
           }
          ],
          "mesh3d": [
           {
            "colorbar": {
             "outlinewidth": 0,
             "ticks": ""
            },
            "type": "mesh3d"
           }
          ],
          "parcoords": [
           {
            "line": {
             "colorbar": {
              "outlinewidth": 0,
              "ticks": ""
             }
            },
            "type": "parcoords"
           }
          ],
          "pie": [
           {
            "automargin": true,
            "type": "pie"
           }
          ],
          "scatter": [
           {
            "fillpattern": {
             "fillmode": "overlay",
             "size": 10,
             "solidity": 0.2
            },
            "type": "scatter"
           }
          ],
          "scatter3d": [
           {
            "line": {
             "colorbar": {
              "outlinewidth": 0,
              "ticks": ""
             }
            },
            "marker": {
             "colorbar": {
              "outlinewidth": 0,
              "ticks": ""
             }
            },
            "type": "scatter3d"
           }
          ],
          "scattercarpet": [
           {
            "marker": {
             "colorbar": {
              "outlinewidth": 0,
              "ticks": ""
             }
            },
            "type": "scattercarpet"
           }
          ],
          "scattergeo": [
           {
            "marker": {
             "colorbar": {
              "outlinewidth": 0,
              "ticks": ""
             }
            },
            "type": "scattergeo"
           }
          ],
          "scattergl": [
           {
            "marker": {
             "colorbar": {
              "outlinewidth": 0,
              "ticks": ""
             }
            },
            "type": "scattergl"
           }
          ],
          "scattermapbox": [
           {
            "marker": {
             "colorbar": {
              "outlinewidth": 0,
              "ticks": ""
             }
            },
            "type": "scattermapbox"
           }
          ],
          "scatterpolar": [
           {
            "marker": {
             "colorbar": {
              "outlinewidth": 0,
              "ticks": ""
             }
            },
            "type": "scatterpolar"
           }
          ],
          "scatterpolargl": [
           {
            "marker": {
             "colorbar": {
              "outlinewidth": 0,
              "ticks": ""
             }
            },
            "type": "scatterpolargl"
           }
          ],
          "scatterternary": [
           {
            "marker": {
             "colorbar": {
              "outlinewidth": 0,
              "ticks": ""
             }
            },
            "type": "scatterternary"
           }
          ],
          "surface": [
           {
            "colorbar": {
             "outlinewidth": 0,
             "ticks": ""
            },
            "colorscale": [
             [
              0,
              "#0d0887"
             ],
             [
              0.1111111111111111,
              "#46039f"
             ],
             [
              0.2222222222222222,
              "#7201a8"
             ],
             [
              0.3333333333333333,
              "#9c179e"
             ],
             [
              0.4444444444444444,
              "#bd3786"
             ],
             [
              0.5555555555555556,
              "#d8576b"
             ],
             [
              0.6666666666666666,
              "#ed7953"
             ],
             [
              0.7777777777777778,
              "#fb9f3a"
             ],
             [
              0.8888888888888888,
              "#fdca26"
             ],
             [
              1,
              "#f0f921"
             ]
            ],
            "type": "surface"
           }
          ],
          "table": [
           {
            "cells": {
             "fill": {
              "color": "#EBF0F8"
             },
             "line": {
              "color": "white"
             }
            },
            "header": {
             "fill": {
              "color": "#C8D4E3"
             },
             "line": {
              "color": "white"
             }
            },
            "type": "table"
           }
          ]
         },
         "layout": {
          "annotationdefaults": {
           "arrowcolor": "#2a3f5f",
           "arrowhead": 0,
           "arrowwidth": 1
          },
          "autotypenumbers": "strict",
          "coloraxis": {
           "colorbar": {
            "outlinewidth": 0,
            "ticks": ""
           }
          },
          "colorscale": {
           "diverging": [
            [
             0,
             "#8e0152"
            ],
            [
             0.1,
             "#c51b7d"
            ],
            [
             0.2,
             "#de77ae"
            ],
            [
             0.3,
             "#f1b6da"
            ],
            [
             0.4,
             "#fde0ef"
            ],
            [
             0.5,
             "#f7f7f7"
            ],
            [
             0.6,
             "#e6f5d0"
            ],
            [
             0.7,
             "#b8e186"
            ],
            [
             0.8,
             "#7fbc41"
            ],
            [
             0.9,
             "#4d9221"
            ],
            [
             1,
             "#276419"
            ]
           ],
           "sequential": [
            [
             0,
             "#0d0887"
            ],
            [
             0.1111111111111111,
             "#46039f"
            ],
            [
             0.2222222222222222,
             "#7201a8"
            ],
            [
             0.3333333333333333,
             "#9c179e"
            ],
            [
             0.4444444444444444,
             "#bd3786"
            ],
            [
             0.5555555555555556,
             "#d8576b"
            ],
            [
             0.6666666666666666,
             "#ed7953"
            ],
            [
             0.7777777777777778,
             "#fb9f3a"
            ],
            [
             0.8888888888888888,
             "#fdca26"
            ],
            [
             1,
             "#f0f921"
            ]
           ],
           "sequentialminus": [
            [
             0,
             "#0d0887"
            ],
            [
             0.1111111111111111,
             "#46039f"
            ],
            [
             0.2222222222222222,
             "#7201a8"
            ],
            [
             0.3333333333333333,
             "#9c179e"
            ],
            [
             0.4444444444444444,
             "#bd3786"
            ],
            [
             0.5555555555555556,
             "#d8576b"
            ],
            [
             0.6666666666666666,
             "#ed7953"
            ],
            [
             0.7777777777777778,
             "#fb9f3a"
            ],
            [
             0.8888888888888888,
             "#fdca26"
            ],
            [
             1,
             "#f0f921"
            ]
           ]
          },
          "colorway": [
           "#636efa",
           "#EF553B",
           "#00cc96",
           "#ab63fa",
           "#FFA15A",
           "#19d3f3",
           "#FF6692",
           "#B6E880",
           "#FF97FF",
           "#FECB52"
          ],
          "font": {
           "color": "#2a3f5f"
          },
          "geo": {
           "bgcolor": "white",
           "lakecolor": "white",
           "landcolor": "#E5ECF6",
           "showlakes": true,
           "showland": true,
           "subunitcolor": "white"
          },
          "hoverlabel": {
           "align": "left"
          },
          "hovermode": "closest",
          "mapbox": {
           "style": "light"
          },
          "paper_bgcolor": "white",
          "plot_bgcolor": "#E5ECF6",
          "polar": {
           "angularaxis": {
            "gridcolor": "white",
            "linecolor": "white",
            "ticks": ""
           },
           "bgcolor": "#E5ECF6",
           "radialaxis": {
            "gridcolor": "white",
            "linecolor": "white",
            "ticks": ""
           }
          },
          "scene": {
           "xaxis": {
            "backgroundcolor": "#E5ECF6",
            "gridcolor": "white",
            "gridwidth": 2,
            "linecolor": "white",
            "showbackground": true,
            "ticks": "",
            "zerolinecolor": "white"
           },
           "yaxis": {
            "backgroundcolor": "#E5ECF6",
            "gridcolor": "white",
            "gridwidth": 2,
            "linecolor": "white",
            "showbackground": true,
            "ticks": "",
            "zerolinecolor": "white"
           },
           "zaxis": {
            "backgroundcolor": "#E5ECF6",
            "gridcolor": "white",
            "gridwidth": 2,
            "linecolor": "white",
            "showbackground": true,
            "ticks": "",
            "zerolinecolor": "white"
           }
          },
          "shapedefaults": {
           "line": {
            "color": "#2a3f5f"
           }
          },
          "ternary": {
           "aaxis": {
            "gridcolor": "white",
            "linecolor": "white",
            "ticks": ""
           },
           "baxis": {
            "gridcolor": "white",
            "linecolor": "white",
            "ticks": ""
           },
           "bgcolor": "#E5ECF6",
           "caxis": {
            "gridcolor": "white",
            "linecolor": "white",
            "ticks": ""
           }
          },
          "title": {
           "x": 0.05
          },
          "xaxis": {
           "automargin": true,
           "gridcolor": "white",
           "linecolor": "white",
           "ticks": "",
           "title": {
            "standoff": 15
           },
           "zerolinecolor": "white",
           "zerolinewidth": 2
          },
          "yaxis": {
           "automargin": true,
           "gridcolor": "white",
           "linecolor": "white",
           "ticks": "",
           "title": {
            "standoff": 15
           },
           "zerolinecolor": "white",
           "zerolinewidth": 2
          }
         }
        },
        "title": {
         "text": "Kilograms Pulled by Day_Order<br><sup>by Jerry Yu</sub>",
         "x": 0.5,
         "xanchor": "center",
         "yanchor": "top"
        },
        "xaxis": {
         "anchor": "y",
         "domain": [
          0,
          1
         ],
         "title": {
          "text": "Pinch"
         }
        },
        "yaxis": {
         "anchor": "x",
         "domain": [
          0,
          1
         ],
         "title": {
          "text": "Pull"
         }
        }
       }
      }
     },
     "metadata": {},
     "output_type": "display_data"
    },
    {
     "name": "stderr",
     "output_type": "stream",
     "text": [
      "c:\\Users\\yujer\\anaconda3\\envs\\main\\Lib\\site-packages\\rpy2\\robjects\\pandas2ri.py:65: UserWarning:\n",
      "\n",
      "Error while trying to convert the column \"Person\". Fall back to string conversion. The error is: Converting pandas \"Category\" series to R factor is only possible when categories are strings.\n",
      "\n"
     ]
    }
   ],
   "source": [
    "# Test Pinch Order\n",
    "byOrder = px.scatter(Chalk, x = \"Pinch\", y = \"Pull\", color = \"Pinch_Order\", title = \"Kilograms Pulled by pinch Order\")\n",
    "byOrder.update_layout(\n",
    "    title = {\n",
    "        \"text\":\"Kilograms Pulled by pinch Order<br><sup>by Jerry Yu</sub>\",\n",
    "        \"x\":0.5,\n",
    "        \"xanchor\":\"center\",\n",
    "        \"yanchor\":\"top\"\n",
    "    }\n",
    ")\n",
    "byOrder.show()\n",
    "\n",
    "# Very random, quite nice\n",
    "\n",
    "# Test Day Order\n",
    "byDay = px.scatter(Chalk, x = \"Pinch\", y = \"Pull\", color = \"Day_Order\", title = \"Kilograms Pulled by Day_Order\")\n",
    "byDay.update_layout(\n",
    "    title = {\n",
    "        \"text\":\"Kilograms Pulled by Day_Order<br><sup>by Jerry Yu</sub>\",\n",
    "        \"x\":0.5,\n",
    "        \"xanchor\":\"center\",\n",
    "        \"yanchor\":\"top\"\n",
    "    }\n",
    ")\n",
    "byDay.show()\n",
    "%R -i Chalk\n",
    "\n",
    "# Generally Also Pretty Random"
   ]
  },
  {
   "cell_type": "markdown",
   "metadata": {},
   "source": [
    "### Graph Summary\n",
    "- From our EDA we have generally shown that there appears to be good separation from chalk and person, and negligible for day order and pinch order.\n",
    "- However, we cannot avoid confonding of chalk and day, and both seem to have potentially saignificant effects. \n",
    "- The data is also somewhat group unbalanced, with control being overrepresented. Linearity looks fine, but not homoscedasticity or normality.\n",
    "\n",
    "Now we will test assumptions needed for Linear Mixed Models. I will increase power using chalk instead of bChalk initially for testing. So instead of each individual chalk, we are testing whether using chalk at all is significant. This results in control and treatment groups of roughly equal size and removes confounding from type of chalk by ignoring it. "
   ]
  },
  {
   "cell_type": "code",
   "execution_count": 33,
   "metadata": {},
   "outputs": [
    {
     "name": "stdout",
     "output_type": "stream",
     "text": [
      "          df      AIC\n",
      "fullmodel 13 3544.087\n",
      "nodate    21 3523.575\n"
     ]
    }
   ],
   "source": [
    "%%R -o resid -o predict\n",
    "Chalk$Person = as.factor(Chalk$Person)\n",
    "# Now we will test assumptions needed for Linear Mixed Models\n",
    "# First Fit a Full Model of All Relevant Variables and a model without Date to Test Significance of Date\n",
    "fullmodel = lmer(Pull~Pinch*Chalk + (1 | Day) + (1|Person),\n",
    "                data = Chalk,\n",
    "                REML = FALSE,\n",
    "                na.action=na.fail) \n",
    "nodate = lm(Pull~Pinch*Chalk*Person, \n",
    "            data = Chalk)\n",
    "print(AIC(fullmodel, nodate))\n",
    "# Very Very Siginificant Effect on Fit\n",
    "resid = summary(fullmodel)$residuals\n",
    "predict = predict(fullmodel)"
   ]
  },
  {
   "cell_type": "markdown",
   "metadata": {},
   "source": [
    "- Clearly Date is very significant to model fit, so we will try to keep it. \n",
    "\n",
    "Now Test Heteroscedasticity by plotting residuals."
   ]
  },
  {
   "cell_type": "code",
   "execution_count": 31,
   "metadata": {},
   "outputs": [
    {
     "data": {
      "application/vnd.plotly.v1+json": {
       "config": {
        "plotlyServerURL": "https://plot.ly"
       },
       "data": [
        {
         "hovertemplate": "Predicted Values=%{x}<br>Residuals=%{y}<extra></extra>",
         "legendgroup": "",
         "marker": {
          "color": "#636efa",
          "symbol": "circle"
         },
         "mode": "markers",
         "name": "",
         "orientation": "v",
         "showlegend": false,
         "type": "scatter",
         "x": [
          37.60441813732054,
          36.90006123412689,
          37.20666365081119,
          42.991770450253206,
          42.991770450253206,
          42.96705127944643,
          6.048969679513961,
          8.76807846826024,
          7.272568634449788,
          31.077130121383142,
          27.171501133911207,
          30.496229607423707,
          47.97632269368419,
          49.64486672314214,
          48.43362735360971,
          52.87943877296696,
          58.6637247417545,
          52.26145950279735,
          23.232432716093033,
          22.83692598318448,
          23.15827520367268,
          71.47189454553273,
          72.39886345078715,
          70.16177849277317,
          47.87380668459312,
          42.991770450253206,
          48.429988027745765,
          41.163300802038435,
          42.3979970205779,
          40.06118941233543,
          13.424259978272582,
          13.739148946759155,
          14.451792401755085,
          30.4322162180881,
          25.128823064630012,
          24.631629956493317,
          45.08717441477781,
          47.2996837459861,
          45.88268338779652,
          44.09674014004494,
          39.68829458123291,
          39.1579552658871,
          46.67385775055348,
          46.68214430235576,
          46.53298636991475,
          7.000657755575158,
          8.434369662368654,
          5.369192482327392,
          23.66210339562676,
          25.05424409840951,
          22.377687866273632,
          43.189523816707485,
          44.128852307365285,
          47.50301912249137,
          32.70273141191234,
          33.837989008824465,
          29.22237965495547,
          11.873973730375612,
          10.032395505270177,
          10.032395505270177,
          66.75077813311275,
          80.18564746660006,
          71.29910556156106,
          64.97463716088821,
          67.58250968100396,
          63.120699350379375,
          54.709639345562216,
          50.5995096516322,
          53.292638987372634,
          10.604820971365978,
          11.778981584688237,
          9.900324603372624,
          18.96540681207434,
          17.490400591268813,
          14.49895539064636,
          18.58027348762901,
          18.2405248637356,
          20.73477695622136,
          38.62400108085607,
          38.203775177140734,
          34.16219075023149,
          34.631324328642,
          40.12530817355249,
          36.22234227467943,
          51.81763276656711,
          48.00581893751911,
          53.78983209550933,
          46.25735650723839,
          47.77379548705532,
          44.409455455330345,
          35.768936852672475,
          32.28353376891587,
          35.06444048467912,
          52.8242574761833,
          47.54572397813205,
          44.670290502741494,
          12.995137572893466,
          11.835020320574511,
          13.102862746323083,
          24.138566988080424,
          21.79024576143591,
          21.77788617603252,
          18.424799205849304,
          19.04277847601891,
          16.237152589448886,
          38.608002169588744,
          34.12147266815738,
          33.09562707967583,
          21.878321104935758,
          20.071852812039097,
          19.864689016982144,
          73.98477491996111,
          74.49151792150018,
          82.10502252998977,
          32.02934706272663,
          28.85559772245405,
          29.427369796811252,
          59.647655852026176,
          63.021822667152236,
          58.23866311603947,
          6.4451224108451,
          5.616467230617275,
          7.315210350084315,
          46.18763782314454,
          46.79325750791075,
          47.0404492159786,
          26.34546789837695,
          27.09954411238427,
          27.09125756058199,
          15.924937672651428,
          13.737287996849965,
          14.889118697366644,
          5.616467230617275,
          5.251858951317031,
          5.97278895811524,
          16.656948968576675,
          16.86706192043434,
          15.692901307112084,
          62.103144496849744,
          61.53460356829371,
          66.428999388037,
          37.85944029328198,
          32.10028679069858,
          32.05056747988492,
          19.716226456554338,
          18.91243093173335,
          19.66650714574067,
          40.51099229230309,
          43.03388447797849,
          43.022962866785086,
          11.02693960936368,
          10.327956492986079,
          11.96619817199608,
          40.51113687001102,
          38.52236443746424,
          39.77363375960825,
          65.68960363233064,
          66.02817357932607,
          68.97700860154406,
          56.43899895152086,
          53.457399095722664,
          55.87107516946406,
          26.801228247502248,
          24.9533271955942,
          25.525099269951397,
          50.36384696291987,
          51.225648350356806,
          48.1016183208979,
          54.51974402612302,
          50.96481330294566,
          47.97336810232319,
          74.20416282394207,
          75.79871805817847,
          70.61095274131347,
          18.887571276326515,
          19.716226456554338,
          20.3791506007366,
          66.60701897257626,
          65.48209301965606,
          66.42135158228845,
          12.092598798458344,
          11.761136726367212,
          10.352422919979908,
          34.201119006936736,
          38.56813180673737,
          34.13482659251851,
          28.74637904451762,
          29.923069400441133,
          29.36787042968849,
          46.87679515685296,
          46.16689042928195,
          46.00306626138096,
          60.775708666810566,
          53.17426727620416,
          49.351703358514165,
          7.521932487792187,
          6.604517147546586,
          6.866635816188186,
          15.26415926221089,
          14.816685464887867,
          14.278059597739778,
          53.26593770499195,
          49.91300306861815,
          51.39834219092055,
          30.767418646587963,
          34.14219650534856,
          34.721041898598756,
          55.90467007455417,
          59.69446915866397,
          73.69597470860276,
          46.938027284772765,
          36.25669153762757,
          38.70313244494917,
          25.688641429476938,
          22.390593812170195,
          19.490300681372805,
          45.427207822503746,
          46.79448886987966,
          44.72285091931009,
          25.83779936191795,
          21.619944494558318,
          29.77391146800012,
          4.872823302153955,
          4.8976829575607885,
          4.74852502511978,
          13.689714419778023,
          13.275386829664109,
          13.151088552629934,
          39.603002102048556,
          42.34432651159195,
          40.95728189003015,
          46.79882348014141,
          46.42592864903889,
          43.873670693937186,
          16.79438039098878,
          17.689952508847586,
          16.980047781276586,
          21.582343632938564,
          22.248561915735962,
          22.958466643306963,
          6.702811648287188,
          6.822949371414586,
          5.577885695366986,
          35.03191992090628,
          36.15889096601613,
          36.05945234438879,
          17.777325398394783,
          16.89267489172939,
          16.969126170083182,
          28.52419081270038,
          28.74262303656838,
          28.72077981418158,
          30.031373157389577,
          31.615006780432577,
          31.888047060267578,
          5.295437444070147,
          5.030267786397242,
          4.151893295355746,
          13.161781402827167,
          11.88395289319937,
          12.713995343897764,
          27.385401976036178,
          27.493127149465792,
          29.87136751671965,
          19.931476732927408,
          18.653648223299612,
          18.620883389719417,
          50.268906112388194,
          47.78294057170472,
          48.42929161228242,
          44.890933992709606,
          41.83319637766893,
          38.57658151937357,
          29.47696491595901,
          31.25718754048321,
          32.77529149636581,
          24.6551744915461,
          23.21331447794968,
          25.38439105014659,
          52.53911021717922,
          46.61959695035642,
          45.02504171612002,
          8.836147100996905,
          10.11227607854776,
          7.850047436525792,
          36.84035758243567,
          34.75214652826155,
          36.7160593054015,
          60.61012060661909,
          59.18504504196952,
          62.05541000906511,
          49.68454127763905,
          49.58347208865682,
          50.98833381550995,
          11.185193202582184,
          11.226625961593573,
          10.116228020088286,
          27.528333826125667,
          27.467692312736318,
          27.477799231634542,
          12.48618183553987,
          10.373111125958914,
          11.284631824209523,
          39.323108180352946,
          36.371887862071574,
          37.90813953460162,
          17.401201090105314,
          16.5926475782474,
          15.996339363252194,
          19.910932250381187,
          19.123709829164756,
          19.960651561194858,
          47.69178850187966,
          47.65035574286827,
          48.10611609199357,
          45.488328708269535,
          41.36470579779419,
          49.39970632188219,
          8.090357438791862,
          8.827860549194627,
          8.338953992860212,
          24.59716862893015,
          26.64394692409288,
          24.39829138567547,
          34.8310601047438,
          33.27318836591549,
          32.56054491091956,
          32.40170996167618,
          33.15972887904297,
          29.07653364416052,
          5.515464465794004,
          7.324602948576084,
          5.424502195709987,
          16.96525441903188,
          14.230692324280051,
          15.0510609527056,
          37.70649358013436,
          37.49104323327513,
          39.07377462751027,
          56.50487030733359,
          62.05356878245851,
          54.33188274421545,
          2.525746569201403,
          1.1998982808368828,
          1.77995690699636,
          40.42476234025937,
          40.37422774576824,
          35.60376202580656,
          31.854095114565496,
          27.215019340280723,
          31.0960761971987,
          10.975041897441507,
          11.106431843118418,
          10.277664493464059,
          65.59283162344349,
          60.498944498738624,
          60.589906768822644,
          62.54880780847148,
          57.363958413682624,
          58.4150779790979,
          12.16765832743193,
          10.712262006087686,
          11.935199192772778,
          41.80005017045981,
          38.47714289774623,
          38.99919566128976,
          48.906136460123506,
          47.29854541048152,
          42.467485709753305,
          24.485668298809482,
          25.60435279211705,
          27.344528670595484,
          44.56957268069597,
          45.88347213746508,
          44.90310100433737,
          15.431325497116465,
          14.531809715174543,
          15.481860091607583,
          18.313638609716875,
          20.516946929529688,
          19.101978283778344,
          35.08416805392338,
          35.57307461025779,
          38.14190566896406,
          3.909437953141218,
          3.525375035008709,
          5.465903463467697,
          23.014996688265704,
          22.426651510303948,
          24.647447393314522,
          44.34458102732994,
          47.03771036307037,
          45.297534484591935,
          16.41890145365221,
          14.645579367964663,
          15.3167900639492,
          -0.0010922769227663665,
          0.40494876138887026,
          0.12320600011140836,
          25.48834106688515,
          23.74816518840672,
          26.66503142280867,
          48.81631984455662,
          48.573753790999234,
          49.63498027531275,
          9.04387034962456,
          6.6822030859752575,
          7.76774137207371,
          34.43781701334568,
          33.58430217771101,
          33.68374079933835,
          30.29887572246829,
          28.72443088003542,
          28.40125535974657,
          27.38965178032194,
          27.69285934726866,
          29.653601613524096,
          41.149923973191065,
          40.87646776371588,
          41.415093630863964,
          42.18618104732173,
          39.73019975505333,
          38.70940094633271,
          17.110637194781837,
          15.403607523512516,
          18.038730996637,
          39.90201737632312,
          37.193363111599126,
          40.730784725977486,
          21.628708008334314,
          17.58594044904475,
          20.466412335038562,
          27.568985788829938,
          25.698616291637098,
          23.360654420146044,
          7.104817227891449,
          7.933472408119274,
          6.43360653190691,
          13.734058669714058,
          13.062847973729516,
          14.0986669490143,
          59.29982184211857,
          62.3742417031293,
          62.14044551598019,
          9.735606090754189,
          8.82408539250358,
          8.674927460062573,
          41.99421053592974,
          39.79652637672814,
          37.517013552024366,
          18.966824798492166,
          17.06091788396817,
          18.767947555237487,
          45.78210643066461,
          42.80723433364672,
          44.00049779317479,
          6.334167910279571,
          7.693162405853206,
          6.350741013884128,
          31.943564920859917,
          32.69764113486724,
          34.669840463809464,
          13.808637635934561,
          12.855684178672563,
          14.711871782382888,
          62.05392339332296,
          64.4503343116013,
          66.60125923337306,
          45.910739317960534,
          43.37505446646338,
          45.057224482325864,
          15.797347765872484,
          17.88982364085698,
          17.796305165997342,
          23.702780487854795,
          22.012323920190035,
          22.012323920190035,
          10.237691968878819,
          9.758409785223153,
          11.313154429764703,
          4.553288248514005,
          4.179214349075434,
          6.096343083698099,
          2.694608560678616,
          5.394954522250782,
          2.5075716109593325,
          55.712587453893285,
          54.157842809351735,
          52.08874655308215,
          10.952307424197073,
          8.532516887203833,
          11.080895327129081,
          15.4248109509474,
          14.431177155563702,
          16.44182436504601,
          9.016815105181216,
          8.768218551112867,
          6.373405080254451,
          48.30124832126665,
          43.6603940063569,
          39.10136835694935,
          16.14324965514052,
          16.839320006531892,
          17.046483801588845,
          38.60570290678118,
          37.46010158975058,
          39.06160547172195,
          26.111971473281265,
          26.567731822406564,
          27.006919067927313,
          30.579497335364465,
          34.448824232682156,
          34.68262041983126,
          63.27589410816683,
          64.23445847547816,
          68.29082232251514,
          34.425444613967244,
          32.68366301970641,
          35.009935081840005,
          46.74153351941359,
          51.56430666833954,
          46.14490178964956,
          1.9069536588264713,
          -0.2392632579635965,
          -0.3967077422068854,
          23.96306523904478,
          24.67614360984956,
          20.385983575663474,
          32.045142563712496,
          31.978850149294274,
          31.90427118307376,
          40.18253643354974,
          41.39237299668236,
          44.45011061172305,
          1.509199172317115,
          0.7385498547052372,
          2.6278836656246805,
          30.0441316378229,
          29.505505770674816,
          31.295400959966926,
          20.42344499537785,
          23.058568468502333,
          23.290591918966125,
          27.418555351696504,
          28.02642543828417,
          26.77561583703646,
          45.69442083455412,
          54.333189949713564,
          50.043029915527484,
          76.64903601309565,
          70.00922429806107,
          72.68619064091833,
          61.61124772225315,
          66.94180078925277,
          63.65696435980782,
          36.04359514267236,
          36.54907480261134,
          38.45498171713534,
          49.898058746082974,
          48.41345295768616,
          53.17120536617045,
          19.684595014216157,
          23.85785695482769,
          26.81537872226387,
          29.46407301166343,
          29.961266119800122,
          30.86450026624845,
          26.178263887699487,
          23.045947306438308,
          26.940626653509085,
          50.96183139761141,
          50.73972501981975,
          48.1679669611796,
          38.70357827120369,
          42.23364933897422,
          39.33335620817683
         ],
         "xaxis": "x",
         "y": [
          -0.6008201416344707,
          -0.9999065914135213,
          -1.0612205959888033,
          -0.3783141153829918,
          0.30161403981681617,
          0.5465319946534315,
          0.23018174187856372,
          0.14636884024318608,
          0.2454603364743932,
          -0.09541594212420572,
          -0.21427758508080838,
          -0.5991826086854845,
          -0.6751931942576286,
          -2.4287167135922276,
          -1.6665493743125024,
          -1.5557233686450829,
          -1.9125428589705584,
          -1.6121215552808719,
          0.05350780286431982,
          -0.047380190195741884,
          0.4482975897742646,
          -1.5142189087386952,
          -2.1395466143612816,
          1.2275145957695663,
          -1.4746055223104162,
          -0.8582634014063856,
          -1.1458765261829893,
          0.06733272486095936,
          0.02039844047745723,
          0.8876683218094552,
          -1.0047458289032662,
          -1.08771485565498,
          -0.9902538448993421,
          1.0134496699373132,
          0.25420852605842964,
          0.4936218500094031,
          1.102448626499537,
          -0.7398585718326602,
          -0.8364482940145204,
          1.5204913088482341,
          -0.11764648509756916,
          1.568243237958752,
          1.965020815410902,
          1.1834460903640953,
          0.6133379174930973,
          -0.2601040671454531,
          -0.2068520753908728,
          0.22613760864035612,
          1.1474580743937468,
          1.7489663752930167,
          0.24443659828320927,
          -0.13789019313536796,
          -0.08576139947060521,
          -0.20058262987814274,
          2.6991685092161077,
          4.531923331278753,
          3.6551378478378265,
          0.1651877993094968,
          -0.18645939876910142,
          0.2734920003366514,
          1.4496911913490473,
          0.6228046978460203,
          0.7600985716579393,
          2.504807896589857,
          0.18347867647313654,
          0.8757675916946687,
          0.13805754299835696,
          -0.8598110781464858,
          -0.9584265250655741,
          -0.3609260569196456,
          0.14418844734941647,
          0.15991818152574297,
          1.046808026319934,
          1.5217590846435733,
          1.0201011325969846,
          -0.7559748172336289,
          -0.5080512893644095,
          -0.7468764723312777,
          -0.10478914359681504,
          -0.06074861640846925,
          0.847472301554055,
          0.3736956476156491,
          -0.8049765766336039,
          -0.1444531912487106,
          -0.04352195455382453,
          -0.32112985522714266,
          -1.3378250574400374,
          -1.3313306260217759,
          -1.614588491462958,
          -1.4617366362523339,
          -0.13377323534787083,
          0.2832633151187816,
          -0.672817003537477,
          -0.3448150602561137,
          1.1507336117821068,
          0.36590323618310133,
          -1.878828987584076,
          -1.3068659737533785,
          -1.5804055552661014,
          -0.0877041303344292,
          0.5418935883740423,
          0.7443441134629154,
          0.195019552034197,
          0.41140083401111815,
          0.4925174401160715,
          1.3382581586566598,
          2.4954417848088646,
          0.46082589076717867,
          -1.2955273287267508,
          -1.0942549376513608,
          -0.6328709309111071,
          -0.576894026322305,
          1.4015483207015598,
          1.418845571284783,
          -1.3857229897349783,
          -1.2509873585589129,
          -1.405325465250802,
          0.39042757495499547,
          1.4954774465235892,
          1.7720801294456758,
          -0.06901718944824095,
          -0.06328675891023412,
          0.35692021590790685,
          0.6024087816773566,
          0.16133145128457033,
          -0.4880382744938663,
          -0.9689911909480385,
          -0.3998665704629627,
          -0.09824113143954993,
          0.2149897485173315,
          -0.24743145445560666,
          0.6221105250426688,
          0.3766667532778772,
          -0.030368581358696037,
          0.5053888063262618,
          -0.5513315371130448,
          -0.37337293153080386,
          -0.6985064535410938,
          -1.600459786335454,
          -0.08691153012741061,
          -0.4257548900969175,
          1.5679462638596284,
          -0.6199918465264769,
          0.38984531090834135,
          -0.8631540858910578,
          -0.8423971742117844,
          -0.9132049350912342,
          -0.8221115898077264,
          -0.0467719534240548,
          0.6553381801494361,
          -0.4253429778870728,
          0.13439450056999552,
          -0.9531389207064686,
          -0.8621362761295494,
          1.4353754431563175,
          1.5651078705140062,
          1.1619564950732624,
          1.8341714758887326,
          -0.9353028912651434,
          2.511934785398612,
          2.3882678238626043,
          -0.2941839488629256,
          0.779671966241447,
          1.4291835457989053,
          1.1748560045188094,
          0.4671812425783301,
          0.8947757831932699,
          -0.10031306457133315,
          -0.6838765432168794,
          0.9069415071808444,
          0.5452687635577489,
          -0.7007585189419648,
          -0.07973518639474415,
          -0.8620994542808309,
          -1.0574025245294656,
          -1.3031075980791693,
          -1.3556868711119145,
          0.018594240719062044,
          1.7233992925967059,
          0.6156646291657123,
          -0.9984142619672239,
          -0.8121415301097197,
          -1.2303545782326342,
          -0.0002237777418084402,
          -0.19360590392505767,
          -0.9668631546359069,
          1.3305835946058584,
          1.4952281262103106,
          1.2662921109494296,
          1.1645179195151647,
          -0.5933153930181297,
          0.11937413402228547,
          0.2048366225184242,
          -1.1747293271353236,
          -0.5502825259446035,
          -0.2643585640362454,
          -0.24087797706996625,
          -0.39328560660314776,
          -0.21280936588054128,
          -0.12332406190580697,
          0.16437071217440605,
          -0.353150225280282,
          1.0772855545945546,
          1.0602195334200142,
          0.6664458504937434,
          0.4315151027653096,
          -0.924110733298609,
          0.6789942389714956,
          -1.118775615991946,
          -1.799004849366002,
          0.4723446326166864,
          -1.151216663892194,
          -0.6405588041632176,
          0.18225245634743553,
          0.4218366640759352,
          -0.05805400198207618,
          1.3544153208225653,
          -0.318864081112912,
          0.2554028289260651,
          0.3124071170303211,
          0.9959058684140036,
          2.9649044189387395,
          -0.09455466928500579,
          -0.33950071807307686,
          0.47024530637318335,
          0.6019935062308568,
          0.18490309622939055,
          0.6497136372993726,
          0.5793383636387787,
          0.8710426587135294,
          0.6084793268543663,
          -0.47971400691250954,
          0.15479791342706312,
          0.24523994786433864,
          0.08111535072584265,
          -0.2379653570929773,
          0.0439857959731516,
          -0.1364543081047805,
          0.6502189112882488,
          0.6282402881514585,
          -0.26053480017433206,
          0.2953789144208231,
          0.12440971513898134,
          -1.4062353939219385,
          -1.0316691815883248,
          -1.7717032613532018,
          -0.4554169579177157,
          -0.1185224546372967,
          -0.2537984163354285,
          -0.5647784850622402,
          -0.528468766512486,
          -0.6640857920238954,
          -1.1261556359251812,
          -1.3628573493805018,
          -0.017607551546617667,
          -0.5590284189185536,
          0.13393229072729632,
          0.3095886281591829,
          -0.5123021480145449,
          -0.07678246539902243,
          -0.44275228523452115,
          -0.7769982934635201,
          -0.05861923587507498,
          0.24570053463981406,
          1.1535827597670112,
          0.569210209582821,
          0.7157476923744317,
          1.1260997878708268,
          0.5433544719556044,
          0.6540725647815752,
          -1.1580644313373238,
          -0.7865561638550022,
          -0.5952534062557389,
          0.9245093282694067,
          1.2084348022993137,
          0.7448629945685392,
          0.24893879750256576,
          0.817250749379247,
          -0.2568510697886219,
          -0.8877282413809668,
          -2.243682310747422,
          -1.9048070712478538,
          -0.347192733981271,
          -0.20243382548231614,
          -0.030006316679247715,
          -0.2680431936275181,
          -1.290292966482271,
          -0.6031481292631928,
          0.9778725514973644,
          2.822692730982955,
          3.0485958674452407,
          0.343055495416559,
          1.0631932396552524,
          0.3222991810641873,
          -0.4569903525020135,
          0.6346077516743082,
          0.6766828940935807,
          -1.0855520600606885,
          0.14644606318818612,
          0.38439953598775856,
          -0.41719228436763933,
          -0.7545424962462106,
          0.1830542926746566,
          -1.8444267441987172,
          -0.5743168870585432,
          -0.6015643424544964,
          0.059753468111884485,
          -0.2585022009415456,
          0.22070880609134788,
          -0.18216720132755593,
          0.015256422092907356,
          1.2277399582722366,
          -0.5982944814208916,
          0.6098644099315494,
          -0.12121041066650161,
          -0.1576490836190443,
          -0.05293556610732179,
          0.3200249201001638,
          -0.5180167513723092,
          -0.14555672954606536,
          -0.327756166124354,
          -0.43938729780334385,
          -0.08878000385444171,
          -0.4396118254276334,
          0.5737273559884359,
          0.06535542101791716,
          0.20786905327397548,
          -0.20032082537875248,
          0.06804703398237713,
          1.0645807819394655,
          -0.083084114052468,
          -0.044915843669933654,
          0.19507894778599183,
          -0.632983999373643,
          0.01386007061572113,
          0.10977620992471232,
          -0.12128590031802329,
          -0.21818559201293916,
          0.2852149371812067,
          -0.6609042268352793,
          -0.9306154227507163,
          0.05361778561847827,
          0.15483432554706242,
          0.3999780800360422,
          0.2839786119206455,
          -0.9448526299323766,
          0.4251095315278647,
          0.2992159780980132,
          1.109063787549143,
          0.4969436222559207,
          0.8206980412703744,
          -0.05500256762648799,
          -0.08127778038410723,
          -0.2155101267545158,
          -1.7783784118324837,
          -0.5597297557452948,
          0.022016319874825805,
          -0.2697330602744435,
          0.44716106786318444,
          1.796794545378265,
          -0.19351121806897784,
          0.07753940555931589,
          -0.18702007702539555,
          -1.299872682678512,
          -0.9953234084207131,
          -2.0196257279360754,
          0.7186967666788463,
          1.980081692013522,
          1.0863880645482442,
          1.9026652945733888,
          -0.040866240280611095,
          -0.288875210038594,
          -0.4738644651169039,
          -2.1364686769279944,
          -2.5403517738811585,
          -0.6461968188542652,
          1.013530961930284,
          0.9035325096611432,
          1.2571394420630906,
          -0.603325635332602,
          -0.7803132047409188,
          0.0031660546732651625,
          -0.41457111627768867,
          -1.3882344456087714,
          -0.04188316503180357,
          0.4348790413817577,
          0.4067763251713906,
          0.7369227951919657,
          1.5545054406836036,
          0.6904375660570433,
          0.031080510403119176,
          -0.18752225802181655,
          -0.11949427052260612,
          -0.18376087358593232,
          0.370844940971838,
          0.4965895149390748,
          0.30018673606846363,
          0.4589617513993825,
          1.1352388446451738,
          -0.2576409896692278,
          -0.6495644012757702,
          -0.29297532724119124,
          -0.7431854400122994,
          1.1851240153369849,
          0.09299411868768417,
          -0.40873088126112195,
          0.1435442151649879,
          0.12643836543973083,
          -0.7074886456819482,
          -0.6567910355322821,
          -0.9966428493200424,
          0.8601339692080134,
          1.394966424472432,
          1.059636961212467,
          1.1819447534100507,
          0.6813561348582037,
          0.6092153043883047,
          -1.7697977884559883,
          -0.335258127598613,
          -1.9428134382431597,
          -0.5371794482465159,
          0.35392265165257647,
          -1.2217510925929291,
          -0.2820976310306611,
          0.019276458445081135,
          -0.06773904166246711,
          -0.8003189093414584,
          -0.5986093700919852,
          -0.8260696583121814,
          -1.4455888531131853,
          -0.37714823833402783,
          -0.15326627208386692,
          -0.9736942720862422,
          -1.7795352232364032,
          -0.17211269769248844,
          0.1590197515548343,
          0.27327664252267625,
          0.7132033327874062,
          -0.046806788090353074,
          0.28740003704816364,
          0.3802264334638618,
          -0.7598840750587104,
          0.5450940618564302,
          -1.5279276542897229,
          0.27284995108216437,
          0.11517075194931257,
          0.8049294548897238,
          -0.9987365754041626,
          -1.0591933553811435,
          0.8165110127287917,
          2.0864145787169437,
          1.0477057170864208,
          1.7062301996574676,
          0.06357199651414516,
          -1.2213178158380418,
          -1.3599558585157938,
          -0.026830746977471114,
          -0.058626286407561096,
          -0.030145017495053997,
          -0.008712063609326387,
          0.540414669958107,
          0.9859277289066983,
          0.9781691142978783,
          0.46881362694143736,
          0.477575180407356,
          -2.2305489870770785,
          -1.4299157698673417,
          -1.7800637557360588,
          0.3978101016913546,
          0.46493997869340836,
          1.2884189623819602,
          -0.3594315737359338,
          -0.09795437779445348,
          0.8806459131018683,
          -0.28052645566394047,
          -0.18244550588219602,
          0.29750378014119777,
          0.23243704569827833,
          0.10830659870808537,
          -0.1626137033301372,
          0.02933925015706039,
          -0.35580527355055525,
          -0.19924756318968737,
          0.08106972160928931,
          -0.0789825587358224,
          0.6384182191670345,
          0.6574130434867775,
          0.9883270062779245,
          0.6421828329534928,
          -0.2504350225521589,
          -0.18648367259093243,
          -0.8960843804171523,
          -0.36492363043119813,
          0.17374620994500659,
          0.1916148799504913,
          -0.023360552636863385,
          -0.13362959021425305,
          0.605255029505795,
          0.25972289205406557,
          2.807624530291154,
          3.2593819251001905,
          -1.2885137798563218,
          -0.06785683119518128,
          -0.529240837935435,
          -2.2409037956249587,
          -2.47175913882392,
          -1.9721127104988938,
          0.3175721489930995,
          0.4064106920183477,
          0.018614219537782764,
          2.42384441672353,
          1.0101284179595287,
          1.6832980498707852,
          1.6446473962358825,
          3.61272656513343,
          1.781647277235175,
          0.17489259713097238,
          2.0230536295266526,
          1.857816676909112,
          1.0315842934721065,
          0.8270512757258962,
          0.5109656507405614,
          0.3185756058535064,
          0.5477947687040602,
          0.5192866778681726,
          -1.2524807040822836,
          -0.6151637205219675,
          -0.9370976964404316,
          -0.1690106541840806,
          -1.3556267871722356,
          -1.700674534360657,
          0.5834310648821112,
          -0.03847053433661616,
          0.44993033563963974,
          1.2180314618987909,
          0.5322337904254499,
          0.9743203150443127,
          -0.9487260801558733,
          0.21887571830056157,
          -1.2189513911510157,
          -0.8845955280397311,
          -1.671537070264729,
          -0.11810590409957436,
          -0.6636409465316042,
          -1.3251450658298938,
          -0.8150370462880365,
          -0.6388166661677108,
          2.0331471769876845,
          1.531232218810447,
          1.070079727104848,
          0.01815322222244119,
          -0.2772088368337763,
          -0.8221626704002929,
          -0.5683001082594108,
          -0.11138110284593364,
          -1.1285997747211227,
          -1.1696913647544733,
          -1.4708409266059261,
          -0.07960333790745451,
          -0.6626205755473232,
          -1.6340684089350135,
          0.30304897540135284,
          0.30839602228183033,
          0.5568654142062534,
          -0.832726612040478,
          -1.0521420490738091,
          -1.1527782446115031,
          0.18432774541692126,
          0.11079883112261388,
          -0.5080716451682046,
          0.04762868777899735,
          -1.0878300580942017,
          -0.5535349028143726,
          -1.4605613236167443,
          -1.886530527014892,
          -1.6464972640378117
         ],
         "yaxis": "y"
        }
       ],
       "layout": {
        "legend": {
         "tracegroupgap": 0
        },
        "template": {
         "data": {
          "bar": [
           {
            "error_x": {
             "color": "#2a3f5f"
            },
            "error_y": {
             "color": "#2a3f5f"
            },
            "marker": {
             "line": {
              "color": "#E5ECF6",
              "width": 0.5
             },
             "pattern": {
              "fillmode": "overlay",
              "size": 10,
              "solidity": 0.2
             }
            },
            "type": "bar"
           }
          ],
          "barpolar": [
           {
            "marker": {
             "line": {
              "color": "#E5ECF6",
              "width": 0.5
             },
             "pattern": {
              "fillmode": "overlay",
              "size": 10,
              "solidity": 0.2
             }
            },
            "type": "barpolar"
           }
          ],
          "carpet": [
           {
            "aaxis": {
             "endlinecolor": "#2a3f5f",
             "gridcolor": "white",
             "linecolor": "white",
             "minorgridcolor": "white",
             "startlinecolor": "#2a3f5f"
            },
            "baxis": {
             "endlinecolor": "#2a3f5f",
             "gridcolor": "white",
             "linecolor": "white",
             "minorgridcolor": "white",
             "startlinecolor": "#2a3f5f"
            },
            "type": "carpet"
           }
          ],
          "choropleth": [
           {
            "colorbar": {
             "outlinewidth": 0,
             "ticks": ""
            },
            "type": "choropleth"
           }
          ],
          "contour": [
           {
            "colorbar": {
             "outlinewidth": 0,
             "ticks": ""
            },
            "colorscale": [
             [
              0,
              "#0d0887"
             ],
             [
              0.1111111111111111,
              "#46039f"
             ],
             [
              0.2222222222222222,
              "#7201a8"
             ],
             [
              0.3333333333333333,
              "#9c179e"
             ],
             [
              0.4444444444444444,
              "#bd3786"
             ],
             [
              0.5555555555555556,
              "#d8576b"
             ],
             [
              0.6666666666666666,
              "#ed7953"
             ],
             [
              0.7777777777777778,
              "#fb9f3a"
             ],
             [
              0.8888888888888888,
              "#fdca26"
             ],
             [
              1,
              "#f0f921"
             ]
            ],
            "type": "contour"
           }
          ],
          "contourcarpet": [
           {
            "colorbar": {
             "outlinewidth": 0,
             "ticks": ""
            },
            "type": "contourcarpet"
           }
          ],
          "heatmap": [
           {
            "colorbar": {
             "outlinewidth": 0,
             "ticks": ""
            },
            "colorscale": [
             [
              0,
              "#0d0887"
             ],
             [
              0.1111111111111111,
              "#46039f"
             ],
             [
              0.2222222222222222,
              "#7201a8"
             ],
             [
              0.3333333333333333,
              "#9c179e"
             ],
             [
              0.4444444444444444,
              "#bd3786"
             ],
             [
              0.5555555555555556,
              "#d8576b"
             ],
             [
              0.6666666666666666,
              "#ed7953"
             ],
             [
              0.7777777777777778,
              "#fb9f3a"
             ],
             [
              0.8888888888888888,
              "#fdca26"
             ],
             [
              1,
              "#f0f921"
             ]
            ],
            "type": "heatmap"
           }
          ],
          "heatmapgl": [
           {
            "colorbar": {
             "outlinewidth": 0,
             "ticks": ""
            },
            "colorscale": [
             [
              0,
              "#0d0887"
             ],
             [
              0.1111111111111111,
              "#46039f"
             ],
             [
              0.2222222222222222,
              "#7201a8"
             ],
             [
              0.3333333333333333,
              "#9c179e"
             ],
             [
              0.4444444444444444,
              "#bd3786"
             ],
             [
              0.5555555555555556,
              "#d8576b"
             ],
             [
              0.6666666666666666,
              "#ed7953"
             ],
             [
              0.7777777777777778,
              "#fb9f3a"
             ],
             [
              0.8888888888888888,
              "#fdca26"
             ],
             [
              1,
              "#f0f921"
             ]
            ],
            "type": "heatmapgl"
           }
          ],
          "histogram": [
           {
            "marker": {
             "pattern": {
              "fillmode": "overlay",
              "size": 10,
              "solidity": 0.2
             }
            },
            "type": "histogram"
           }
          ],
          "histogram2d": [
           {
            "colorbar": {
             "outlinewidth": 0,
             "ticks": ""
            },
            "colorscale": [
             [
              0,
              "#0d0887"
             ],
             [
              0.1111111111111111,
              "#46039f"
             ],
             [
              0.2222222222222222,
              "#7201a8"
             ],
             [
              0.3333333333333333,
              "#9c179e"
             ],
             [
              0.4444444444444444,
              "#bd3786"
             ],
             [
              0.5555555555555556,
              "#d8576b"
             ],
             [
              0.6666666666666666,
              "#ed7953"
             ],
             [
              0.7777777777777778,
              "#fb9f3a"
             ],
             [
              0.8888888888888888,
              "#fdca26"
             ],
             [
              1,
              "#f0f921"
             ]
            ],
            "type": "histogram2d"
           }
          ],
          "histogram2dcontour": [
           {
            "colorbar": {
             "outlinewidth": 0,
             "ticks": ""
            },
            "colorscale": [
             [
              0,
              "#0d0887"
             ],
             [
              0.1111111111111111,
              "#46039f"
             ],
             [
              0.2222222222222222,
              "#7201a8"
             ],
             [
              0.3333333333333333,
              "#9c179e"
             ],
             [
              0.4444444444444444,
              "#bd3786"
             ],
             [
              0.5555555555555556,
              "#d8576b"
             ],
             [
              0.6666666666666666,
              "#ed7953"
             ],
             [
              0.7777777777777778,
              "#fb9f3a"
             ],
             [
              0.8888888888888888,
              "#fdca26"
             ],
             [
              1,
              "#f0f921"
             ]
            ],
            "type": "histogram2dcontour"
           }
          ],
          "mesh3d": [
           {
            "colorbar": {
             "outlinewidth": 0,
             "ticks": ""
            },
            "type": "mesh3d"
           }
          ],
          "parcoords": [
           {
            "line": {
             "colorbar": {
              "outlinewidth": 0,
              "ticks": ""
             }
            },
            "type": "parcoords"
           }
          ],
          "pie": [
           {
            "automargin": true,
            "type": "pie"
           }
          ],
          "scatter": [
           {
            "fillpattern": {
             "fillmode": "overlay",
             "size": 10,
             "solidity": 0.2
            },
            "type": "scatter"
           }
          ],
          "scatter3d": [
           {
            "line": {
             "colorbar": {
              "outlinewidth": 0,
              "ticks": ""
             }
            },
            "marker": {
             "colorbar": {
              "outlinewidth": 0,
              "ticks": ""
             }
            },
            "type": "scatter3d"
           }
          ],
          "scattercarpet": [
           {
            "marker": {
             "colorbar": {
              "outlinewidth": 0,
              "ticks": ""
             }
            },
            "type": "scattercarpet"
           }
          ],
          "scattergeo": [
           {
            "marker": {
             "colorbar": {
              "outlinewidth": 0,
              "ticks": ""
             }
            },
            "type": "scattergeo"
           }
          ],
          "scattergl": [
           {
            "marker": {
             "colorbar": {
              "outlinewidth": 0,
              "ticks": ""
             }
            },
            "type": "scattergl"
           }
          ],
          "scattermapbox": [
           {
            "marker": {
             "colorbar": {
              "outlinewidth": 0,
              "ticks": ""
             }
            },
            "type": "scattermapbox"
           }
          ],
          "scatterpolar": [
           {
            "marker": {
             "colorbar": {
              "outlinewidth": 0,
              "ticks": ""
             }
            },
            "type": "scatterpolar"
           }
          ],
          "scatterpolargl": [
           {
            "marker": {
             "colorbar": {
              "outlinewidth": 0,
              "ticks": ""
             }
            },
            "type": "scatterpolargl"
           }
          ],
          "scatterternary": [
           {
            "marker": {
             "colorbar": {
              "outlinewidth": 0,
              "ticks": ""
             }
            },
            "type": "scatterternary"
           }
          ],
          "surface": [
           {
            "colorbar": {
             "outlinewidth": 0,
             "ticks": ""
            },
            "colorscale": [
             [
              0,
              "#0d0887"
             ],
             [
              0.1111111111111111,
              "#46039f"
             ],
             [
              0.2222222222222222,
              "#7201a8"
             ],
             [
              0.3333333333333333,
              "#9c179e"
             ],
             [
              0.4444444444444444,
              "#bd3786"
             ],
             [
              0.5555555555555556,
              "#d8576b"
             ],
             [
              0.6666666666666666,
              "#ed7953"
             ],
             [
              0.7777777777777778,
              "#fb9f3a"
             ],
             [
              0.8888888888888888,
              "#fdca26"
             ],
             [
              1,
              "#f0f921"
             ]
            ],
            "type": "surface"
           }
          ],
          "table": [
           {
            "cells": {
             "fill": {
              "color": "#EBF0F8"
             },
             "line": {
              "color": "white"
             }
            },
            "header": {
             "fill": {
              "color": "#C8D4E3"
             },
             "line": {
              "color": "white"
             }
            },
            "type": "table"
           }
          ]
         },
         "layout": {
          "annotationdefaults": {
           "arrowcolor": "#2a3f5f",
           "arrowhead": 0,
           "arrowwidth": 1
          },
          "autotypenumbers": "strict",
          "coloraxis": {
           "colorbar": {
            "outlinewidth": 0,
            "ticks": ""
           }
          },
          "colorscale": {
           "diverging": [
            [
             0,
             "#8e0152"
            ],
            [
             0.1,
             "#c51b7d"
            ],
            [
             0.2,
             "#de77ae"
            ],
            [
             0.3,
             "#f1b6da"
            ],
            [
             0.4,
             "#fde0ef"
            ],
            [
             0.5,
             "#f7f7f7"
            ],
            [
             0.6,
             "#e6f5d0"
            ],
            [
             0.7,
             "#b8e186"
            ],
            [
             0.8,
             "#7fbc41"
            ],
            [
             0.9,
             "#4d9221"
            ],
            [
             1,
             "#276419"
            ]
           ],
           "sequential": [
            [
             0,
             "#0d0887"
            ],
            [
             0.1111111111111111,
             "#46039f"
            ],
            [
             0.2222222222222222,
             "#7201a8"
            ],
            [
             0.3333333333333333,
             "#9c179e"
            ],
            [
             0.4444444444444444,
             "#bd3786"
            ],
            [
             0.5555555555555556,
             "#d8576b"
            ],
            [
             0.6666666666666666,
             "#ed7953"
            ],
            [
             0.7777777777777778,
             "#fb9f3a"
            ],
            [
             0.8888888888888888,
             "#fdca26"
            ],
            [
             1,
             "#f0f921"
            ]
           ],
           "sequentialminus": [
            [
             0,
             "#0d0887"
            ],
            [
             0.1111111111111111,
             "#46039f"
            ],
            [
             0.2222222222222222,
             "#7201a8"
            ],
            [
             0.3333333333333333,
             "#9c179e"
            ],
            [
             0.4444444444444444,
             "#bd3786"
            ],
            [
             0.5555555555555556,
             "#d8576b"
            ],
            [
             0.6666666666666666,
             "#ed7953"
            ],
            [
             0.7777777777777778,
             "#fb9f3a"
            ],
            [
             0.8888888888888888,
             "#fdca26"
            ],
            [
             1,
             "#f0f921"
            ]
           ]
          },
          "colorway": [
           "#636efa",
           "#EF553B",
           "#00cc96",
           "#ab63fa",
           "#FFA15A",
           "#19d3f3",
           "#FF6692",
           "#B6E880",
           "#FF97FF",
           "#FECB52"
          ],
          "font": {
           "color": "#2a3f5f"
          },
          "geo": {
           "bgcolor": "white",
           "lakecolor": "white",
           "landcolor": "#E5ECF6",
           "showlakes": true,
           "showland": true,
           "subunitcolor": "white"
          },
          "hoverlabel": {
           "align": "left"
          },
          "hovermode": "closest",
          "mapbox": {
           "style": "light"
          },
          "paper_bgcolor": "white",
          "plot_bgcolor": "#E5ECF6",
          "polar": {
           "angularaxis": {
            "gridcolor": "white",
            "linecolor": "white",
            "ticks": ""
           },
           "bgcolor": "#E5ECF6",
           "radialaxis": {
            "gridcolor": "white",
            "linecolor": "white",
            "ticks": ""
           }
          },
          "scene": {
           "xaxis": {
            "backgroundcolor": "#E5ECF6",
            "gridcolor": "white",
            "gridwidth": 2,
            "linecolor": "white",
            "showbackground": true,
            "ticks": "",
            "zerolinecolor": "white"
           },
           "yaxis": {
            "backgroundcolor": "#E5ECF6",
            "gridcolor": "white",
            "gridwidth": 2,
            "linecolor": "white",
            "showbackground": true,
            "ticks": "",
            "zerolinecolor": "white"
           },
           "zaxis": {
            "backgroundcolor": "#E5ECF6",
            "gridcolor": "white",
            "gridwidth": 2,
            "linecolor": "white",
            "showbackground": true,
            "ticks": "",
            "zerolinecolor": "white"
           }
          },
          "shapedefaults": {
           "line": {
            "color": "#2a3f5f"
           }
          },
          "ternary": {
           "aaxis": {
            "gridcolor": "white",
            "linecolor": "white",
            "ticks": ""
           },
           "baxis": {
            "gridcolor": "white",
            "linecolor": "white",
            "ticks": ""
           },
           "bgcolor": "#E5ECF6",
           "caxis": {
            "gridcolor": "white",
            "linecolor": "white",
            "ticks": ""
           }
          },
          "title": {
           "x": 0.05
          },
          "xaxis": {
           "automargin": true,
           "gridcolor": "white",
           "linecolor": "white",
           "ticks": "",
           "title": {
            "standoff": 15
           },
           "zerolinecolor": "white",
           "zerolinewidth": 2
          },
          "yaxis": {
           "automargin": true,
           "gridcolor": "white",
           "linecolor": "white",
           "ticks": "",
           "title": {
            "standoff": 15
           },
           "zerolinecolor": "white",
           "zerolinewidth": 2
          }
         }
        },
        "title": {
         "text": "Residuals"
        },
        "xaxis": {
         "anchor": "y",
         "domain": [
          0,
          1
         ],
         "title": {
          "text": "Predicted Values"
         }
        },
        "yaxis": {
         "anchor": "x",
         "domain": [
          0,
          1
         ],
         "title": {
          "text": "Residuals"
         }
        }
       }
      }
     },
     "metadata": {},
     "output_type": "display_data"
    }
   ],
   "source": [
    "testrelresid = px.scatter(x = predict,\n",
    "                          y = resid,\n",
    "                          title = \"Residuals\",\n",
    "                          labels = {\"x\": \"Predicted Values\", \"y\": \"Residuals\"})\n",
    "testrelresid.show()\n",
    "# Very Heteroscedastic"
   ]
  },
  {
   "cell_type": "markdown",
   "metadata": {},
   "source": [
    "- Very heteroscedastic. Now Test Normality"
   ]
  },
  {
   "cell_type": "code",
   "execution_count": 18,
   "metadata": {},
   "outputs": [
    {
     "name": "stdout",
     "output_type": "stream",
     "text": [
      "\n",
      "\tShapiro-Wilk normality test\n",
      "\n",
      "data:  residuals(fullmodel)\n",
      "W = 0.98712, p-value = 5.752e-05\n",
      "\n"
     ]
    },
    {
     "data": {
      "image/png": "[encoded data removed]",
      "text/plain": [
       "<IPython.core.display.Image object>"
      ]
     },
     "metadata": {},
     "output_type": "display_data"
    }
   ],
   "source": [
    "%%R\n",
    "qqnorm(residuals(fullmodel))\n",
    "qqline(residuals(fullmodel),col=\"turquoise\",lwd=2)\n",
    "# Towards the Top seems nonormal\n",
    "shapiro.test(residuals(fullmodel))\n",
    "# Also Nonnormal"
   ]
  },
  {
   "cell_type": "markdown",
   "metadata": {},
   "source": [
    "# Data Analysis Plan\n",
    "\n",
    "### Summary\n",
    "- Use linear mixed models to model the effect of chalk, person, and pinch strength on pull strength. \n",
    "- Model Day and as a random effect.\n",
    "- Perform pairwise contrasts between types of chalk\n",
    "- To address heteroscedasticity, I tried a variety of different transforms. The one that worked the best was a log transform of the dependent variable (Pull). Even this was not enough, so I also ended up using robust (sandwhich) estimators. \n",
    "- To address confounding, I used three approaches. \n",
    "\n",
    "### Confounding\n",
    "\n",
    "The next sections will contain three approaches to deal with confounding.\n",
    "\n",
    "1. Ignore: Fit model with random effects as if there is no confounding. \n",
    "2. Controlmodel: Use the covariance matrix from only the no chalk group (our control) to model the effects of day. This assumes the effects of day are the same across all types of chalk and control.\n",
    "3. Give Up: Fit model on the interaction term of BChalk and Date\n",
    "\n",
    "### Model Fitting\n",
    "\n",
    "I used a 5 Fold Cross Validation Method with best subsets model to select the top 3 models per fold on AIC and BIC. Generally, the simpler model that appeared across all five folds was selected. \n"
   ]
  },
  {
   "cell_type": "markdown",
   "metadata": {},
   "source": [
    "## Approach Number One: Ignore Confounding"
   ]
  },
  {
   "cell_type": "code",
   "execution_count": 27,
   "metadata": {},
   "outputs": [
    {
     "name": "stderr",
     "output_type": "stream",
     "text": [
      "R[write to console]: Fixed term is \"(Intercept)\"\n",
      "\n",
      "R[write to console]: boundary (singular) fit: see help('isSingular')\n",
      "\n",
      "R[write to console]: Fixed term is \"(Intercept)\"\n",
      "\n",
      "R[write to console]: boundary (singular) fit: see help('isSingular')\n",
      "\n",
      "R[write to console]: Fixed term is \"(Intercept)\"\n",
      "\n",
      "R[write to console]: boundary (singular) fit: see help('isSingular')\n",
      "\n",
      "R[write to console]: Fixed term is \"(Intercept)\"\n",
      "\n",
      "R[write to console]: boundary (singular) fit: see help('isSingular')\n",
      "\n",
      "R[write to console]: Fixed term is \"(Intercept)\"\n",
      "\n",
      "R[write to console]: boundary (singular) fit: see help('isSingular')\n",
      "\n",
      "R[write to console]: Fixed term is \"(Intercept)\"\n",
      "\n",
      "R[write to console]: boundary (singular) fit: see help('isSingular')\n",
      "\n",
      "R[write to console]: boundary (singular) fit: see help('isSingular')\n",
      "\n",
      "R[write to console]: Fixed term is \"(Intercept)\"\n",
      "\n",
      "R[write to console]: boundary (singular) fit: see help('isSingular')\n",
      "\n",
      "R[write to console]: boundary (singular) fit: see help('isSingular')\n",
      "\n",
      "R[write to console]: boundary (singular) fit: see help('isSingular')\n",
      "\n",
      "R[write to console]: Fixed term is \"(Intercept)\"\n",
      "\n",
      "R[write to console]: boundary (singular) fit: see help('isSingular')\n",
      "\n",
      "R[write to console]: boundary (singular) fit: see help('isSingular')\n",
      "\n",
      "R[write to console]: boundary (singular) fit: see help('isSingular')\n",
      "\n",
      "R[write to console]: boundary (singular) fit: see help('isSingular')\n",
      "\n",
      "R[write to console]: boundary (singular) fit: see help('isSingular')\n",
      "\n",
      "R[write to console]: boundary (singular) fit: see help('isSingular')\n",
      "\n",
      "R[write to console]: boundary (singular) fit: see help('isSingular')\n",
      "\n",
      "R[write to console]: boundary (singular) fit: see help('isSingular')\n",
      "\n",
      "R[write to console]: Fixed term is \"(Intercept)\"\n",
      "\n",
      "R[write to console]: boundary (singular) fit: see help('isSingular')\n",
      "\n",
      "R[write to console]: boundary (singular) fit: see help('isSingular')\n",
      "\n",
      "R[write to console]: boundary (singular) fit: see help('isSingular')\n",
      "\n",
      "R[write to console]: Fixed term is \"(Intercept)\"\n",
      "\n",
      "R[write to console]: boundary (singular) fit: see help('isSingular')\n",
      "\n",
      "R[write to console]: boundary (singular) fit: see help('isSingular')\n",
      "\n",
      "R[write to console]: boundary (singular) fit: see help('isSingular')\n",
      "\n",
      "R[write to console]: boundary (singular) fit: see help('isSingular')\n",
      "\n",
      "R[write to console]: boundary (singular) fit: see help('isSingular')\n",
      "\n",
      "R[write to console]: boundary (singular) fit: see help('isSingular')\n",
      "\n",
      "R[write to console]: boundary (singular) fit: see help('isSingular')\n",
      "\n"
     ]
    }
   ],
   "source": [
    "%%R -o validation_df \n",
    "# Set Seed\n",
    "set.seed(123)\n",
    "\n",
    "# Split chalk for 5 fold cross validation to check stability of models\n",
    "chalkfolds = createFolds(y=Chalk$Pull,\n",
    "                         k=5,\n",
    "                         list=TRUE,\n",
    "                         returnTrain = TRUE)\n",
    "\n",
    "# Create the Testing Function\n",
    "Validation = function(train_indices){\n",
    "  # Subset the Data\n",
    "  train = Chalk[train_indices,]\n",
    "  test = Chalk[-train_indices,]\n",
    "  \n",
    "  # Get the Full Model\n",
    "  fullmodel = lmer(log(Pull)~Pinch*bChalk + (1|Day) + (1|Person),\n",
    "                    data = train,\n",
    "                    REML = FALSE,\n",
    "                    na.action=na.fail) \n",
    "  \n",
    "  # Best Subsets with Dredge\n",
    "  table = dredge(fullmodel)\n",
    "  tableBIC = dredge(fullmodel,rank=BIC)\n",
    "  \n",
    "  # Select the Top 3 Models From AIC and BIC\n",
    "  table\n",
    "  tableBIC\n",
    "  \n",
    "  top3AIC = get.models(table,1:3)\n",
    "  top3BIC = get.models(table,1:3)\n",
    "  \n",
    "  # Keep the Common Models\n",
    "  top = c(top3AIC,top3BIC)\n",
    "  top = top[unique(names(top))]\n",
    "  \n",
    "  testLL = vector(\"list\",length(top))\n",
    "  for(i in 1:length(top)){\n",
    "    testLL[i] = logLik(top[[i]],newdata=test)\n",
    "  }\n",
    "  names(testLL) = names(top)\n",
    "  \n",
    "  return(c(testLL,top))\n",
    "}\n",
    "\n",
    "# Run the Function\n",
    "crossvalresults = lapply(chalkfolds,Validation)\n",
    "cvalnames = lapply(crossvalresults,function(x) x[1:3])\n",
    "cvalformulas = lapply(crossvalresults,function(x) x[4:length(x)])\n",
    "\n",
    "# Makre a DF with the LLs\n",
    "validation_df <- bind_rows(\n",
    "  purrr::imap(cvalnames, ~ tibble(\n",
    "    crossvalresults = .y,\n",
    "    model = names(.x),\n",
    "    value = unlist(.x)\n",
    "  ))\n",
    ")\n",
    "\n"
   ]
  },
  {
   "cell_type": "code",
   "execution_count": 28,
   "metadata": {},
   "outputs": [
    {
     "name": "stdout",
     "output_type": "stream",
     "text": [
      "[[1]]\n",
      "[1] \"4\"\n",
      "\n",
      "[[2]]\n",
      "log(Pull) ~ bChalk + Pinch + (1 | Day) + (1 | Person)\n",
      "<environment: 0x000001cb992d3b58>\n",
      "\n",
      "[[1]]\n",
      "[1] \"8\"\n",
      "\n",
      "[[2]]\n",
      "log(Pull) ~ bChalk + Pinch + (1 | Day) + (1 | Person) + bChalk:Pinch\n",
      "<environment: 0x000001cba27c9238>\n",
      "\n",
      "[[1]]\n",
      "[1] \"4\"\n",
      "\n",
      "[[2]]\n",
      "log(Pull) ~ bChalk + Pinch + (1 | Day) + (1 | Person)\n",
      "<environment: 0x000001cb99d85770>\n",
      "\n",
      "[[1]]\n",
      "[1] \"8\"\n",
      "\n",
      "[[2]]\n",
      "log(Pull) ~ bChalk + Pinch + (1 | Day) + (1 | Person) + bChalk:Pinch\n",
      "<environment: 0x000001cb96873ec0>\n",
      "\n",
      "[[1]]\n",
      "[1] \"8\"\n",
      "\n",
      "[[2]]\n",
      "log(Pull) ~ bChalk + Pinch + (1 | Day) + (1 | Person) + bChalk:Pinch\n",
      "<environment: 0x000001cb9ae6b830>\n",
      "\n",
      "# A tibble: 15 x 3\n",
      "   crossvalresults model value\n",
      "   <chr>           <chr> <dbl>\n",
      " 1 Fold1           4     -172.\n",
      " 2 Fold1           8     -171.\n",
      " 3 Fold1           3     -176.\n",
      " 4 Fold2           4     -169.\n",
      " 5 Fold2           8     -169.\n",
      " 6 Fold2           3     -173.\n",
      " 7 Fold3           4     -158.\n",
      " 8 Fold3           8     -157.\n",
      " 9 Fold3           3     -160.\n",
      "10 Fold4           8     -155.\n",
      "11 Fold4           4     -157.\n",
      "12 Fold4           3     -160.\n",
      "13 Fold5           4     -152.\n",
      "14 Fold5           8     -152.\n",
      "15 Fold5           3     -156.\n",
      "log(Pull) ~ bChalk + Pinch + (1 | Day) + (1 | Person)\n",
      "<environment: 0x000001cb992d3b58>\n",
      "log(Pull) ~ bChalk + Pinch + (1 | Day) + (1 | Person) + bChalk:Pinch\n",
      "<environment: 0x000001cb992d3b58>\n",
      "log(Pull) ~ Pinch + (1 | Day) + (1 | Person)\n",
      "<environment: 0x000001cb992d3b58>\n"
     ]
    }
   ],
   "source": [
    "%%R\n",
    "# Show that Name is consistent across folds\n",
    "print(c(names(cvalformulas[[1]][1]),formula(cvalformulas[[1]][[1]])))\n",
    "print(c(names(cvalformulas[[2]][2]),formula(cvalformulas[[2]][[2]])))\n",
    "print(c(names(cvalformulas[[3]][1]),formula(cvalformulas[[3]][[1]])))\n",
    "print(c(names(cvalformulas[[4]][1]),formula(cvalformulas[[4]][[1]])))\n",
    "print(c(names(cvalformulas[[5]][2]),formula(cvalformulas[[5]][[2]])))\n",
    "# Look at Table of LLs\n",
    "print(validation_df)\n",
    "# Very Little Differences \n",
    "\n",
    "# Look at Formulas\n",
    "print(formula(cvalformulas[[1]][[1]]))\n",
    "print(formula(cvalformulas[[1]][[2]]))\n",
    "print(formula(cvalformulas[[1]][[3]]))"
   ]
  },
  {
   "cell_type": "markdown",
   "metadata": {},
   "source": [
    "Thus our top models are 48, 64, and 128. I will choose model 48 (log(Pull) ~ bChalk + Person + Pinch + (1 | Day) + bChalk:Person + Person:Pinch) for simplcity. "
   ]
  },
  {
   "cell_type": "code",
   "execution_count": 235,
   "metadata": {},
   "outputs": [
    {
     "name": "stdout",
     "output_type": "stream",
     "text": [
      "Linear mixed model fit by REML ['lmerMod']\n",
      "Formula: log(Pull) ~ Pinch * bChalk * Person + bChalk:Person + Person:Pinch +  \n",
      "    (1 | Day)"
     ]
    },
    {
     "name": "stdout",
     "output_type": "stream",
     "text": [
      "\n",
      "   Data: Chalk\n",
      "\n",
      "REML criterion at convergence: 420.4\n",
      "\n",
      "Scaled residuals: \n",
      "    Min      1Q  Median      3Q     Max \n",
      "-4.4610 -0.6768  0.0644  0.7591  2.4809 \n",
      "\n",
      "Random effects:\n",
      " Groups   Name        Variance Std.Dev.\n",
      " Day      (Intercept) 0.001394 0.03734 \n",
      " Residual             0.111605 0.33407 \n",
      "Number of obs: 576, groups:  Day, 7\n",
      "\n",
      "Fixed effects:\n",
      "                      Estimate Std. Error t value\n",
      "(Intercept)           2.013967   0.117073  17.203\n",
      "Pinch                 0.376335   0.028121  13.383\n",
      "bChalk               -0.008150   0.043275  -0.188\n",
      "Person2              -0.007891   0.161613  -0.049\n",
      "Pinch:bChalk         -0.003698   0.010336  -0.358\n",
      "Pinch:Person2        -0.001171   0.039799  -0.029\n",
      "bChalk:Person2       -0.171369   0.059276  -2.891\n",
      "Pinch:bChalk:Person2  0.023307   0.014633   1.593\n",
      "\n",
      "Correlation of Fixed Effects:\n",
      "            (Intr) Pinch  bChalk Persn2 Pnch:C Pnc:P2 bCh:P2\n",
      "Pinch       -0.873                                          \n",
      "bChalk      -0.908  0.792                                   \n",
      "Person2     -0.687  0.634  0.625                            \n",
      "Pinch:bChlk  0.795 -0.910 -0.872 -0.580                     \n",
      "Pinch:Prsn2  0.621 -0.708 -0.564 -0.902  0.645              \n",
      "bChlk:Prsn2  0.628 -0.581 -0.689 -0.913  0.643  0.825       \n",
      "Pnch:bCh:P2 -0.566  0.645  0.622  0.823 -0.711 -0.913 -0.904\n"
     ]
    }
   ],
   "source": [
    "%%R\n",
    "# Fit a full model with the best formula\n",
    "finalmodel1 = lmer(log(Pull)~Pinch*bChalk*Person + bChalk:Person + Person:Pinch + (1|Day),\n",
    "                   data = Chalk,\n",
    "                   REML = TRUE,\n",
    "                   na.action=na.fail)\n",
    "summary(finalmodel1)"
   ]
  },
  {
   "cell_type": "code",
   "execution_count": 226,
   "metadata": {},
   "outputs": [
    {
     "name": "stdout",
     "output_type": "stream",
     "text": [
      "[[1]]\n",
      "[1] \"48\"\n",
      "\n",
      "[[2]]\n",
      "log(Pull) ~ bChalk + Person + Pinch + (1 | Day) + bChalk:Person + \n",
      "    Person:Pinch\n",
      "<environment: 0x000002704c38e8a8>\n",
      "\n",
      "[[1]]\n",
      "[1] \"48\"\n",
      "\n",
      "[[2]]\n",
      "log(Pull) ~ bChalk + Person + Pinch + (1 | Day) + bChalk:Person + \n",
      "    Person:Pinch\n",
      "<environment: 0x000002706284c2a0>\n",
      "\n",
      "[[1]]\n",
      "[1] \"48\"\n",
      "\n",
      "[[2]]\n",
      "log(Pull) ~ bChalk + Person + Pinch + (1 | Day) + bChalk:Person + \n",
      "    Person:Pinch\n",
      "<environment: 0x0000027053a8bd30>\n",
      "\n",
      "[[1]]\n",
      "[1] \"48\"\n",
      "\n",
      "[[2]]\n",
      "log(Pull) ~ bChalk + Person + Pinch + (1 | Day) + bChalk:Person + \n",
      "    Person:Pinch\n",
      "<environment: 0x000002705b8c2668>\n",
      "\n",
      "[[1]]\n",
      "[1] \"48\"\n",
      "\n",
      "[[2]]\n",
      "log(Pull) ~ bChalk + Person + Pinch + (1 | Day) + bChalk:Person + \n",
      "    Person:Pinch\n",
      "<environment: 0x00000270613f9a28>\n",
      "\n"
     ]
    }
   ],
   "source": [
    "%%R\n",
    "\n",
    "print(c(names(cvalformulas[[1]][1]),formula(cvalformulas[[1]][[1]])))\n",
    "print(c(names(cvalformulas[[2]][2]),formula(cvalformulas[[2]][[2]])))\n",
    "print(c(names(cvalformulas[[3]][1]),formula(cvalformulas[[3]][[1]])))\n",
    "print(c(names(cvalformulas[[4]][1]),formula(cvalformulas[[4]][[1]])))\n",
    "print(c(names(cvalformulas[[5]][2]),formula(cvalformulas[[5]][[2]])))"
   ]
  },
  {
   "cell_type": "markdown",
   "metadata": {},
   "source": [
    "# Conclusions\n",
    "- "
   ]
  }
 ],
 "metadata": {
  "kernelspec": {
   "display_name": "main",
   "language": "python",
   "name": "python3"
  },
  "language_info": {
   "codemirror_mode": {
    "name": "ipython",
    "version": 3
   },
   "file_extension": ".py",
   "mimetype": "text/x-python",
   "name": "python",
   "nbconvert_exporter": "python",
   "pygments_lexer": "ipython3",
   "version": "3.12.3"
  }
 },
 "nbformat": 4,
 "nbformat_minor": 2
}
