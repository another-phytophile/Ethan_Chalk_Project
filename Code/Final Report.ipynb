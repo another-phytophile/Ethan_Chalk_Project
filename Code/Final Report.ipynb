{
 "cells": [
  {
   "cell_type": "markdown",
   "metadata": {},
   "source": [
    "# An Analysis of Four Different Formulations of Chalk on Grip Strength\n",
    "\n",
    "Ethan Basingr and Jerry H. Yu\n",
    "\n",
    "## Introduction\n",
    "\n",
    "Climbing Chalk is commonly used to enhance grip strength in sports like rock climbing or powelifting. Most commercial brands of climbing chalk are made with Magnesium Carbonate (MgCO3). However, Magnesium carbonate has a wide variety of crystal structures that can affect its ability to absorb water and other fluids. My friend Ethan spent month designing a new way to crystallize MgCO3 to hopefull make suprior chalk to commercial brands. This report analyzes an experiment he conducted with a third friend analyze and chalk to other brands. \n",
    "\n",
    "## Methods\n",
    "\n",
    "The experiment was conducted as an unbalanced block design. Testing constraints prevented the easy swapping between chalks during a single test, so chalks were testred sequentially across days, resulting in confounding. While such bias is impossible to correct completley for the final analysis, I did try two approaches to correct it. I decided to use mixed models to evaluate the data. "
   ]
  },
  {
   "cell_type": "code",
   "execution_count": 213,
   "metadata": {},
   "outputs": [
    {
     "name": "stdout",
     "output_type": "stream",
     "text": [
      "The rpy2.ipython extension is already loaded. To reload it, use:\n",
      "  %reload_ext rpy2.ipython\n",
      "c:\\Users\\Public\\Documents\\Personal_Projects\\Ethan_Chalk_Project\n"
     ]
    }
   ],
   "source": [
    "# Set Up Python Enviroment\n",
    "import math\n",
    "import numpy as np\n",
    "import pandas as pd\n",
    "import plotly.express as px\n",
    "import os\n",
    "import git\n",
    "import rpy2\n",
    "%load_ext rpy2.ipython\n",
    "import statsmodels\n",
    "import statsmodels.formula.api as smf\n",
    "repo = git.Repo('.', search_parent_directories=True)\n",
    "os.chdir(repo.working_tree_dir)\n",
    "print(os.getcwd())"
   ]
  },
  {
   "cell_type": "code",
   "execution_count": 214,
   "metadata": {},
   "outputs": [],
   "source": [
    "%%R\n",
    "# Set Up R Enviroment in Python\n",
    "library(tidyverse)\n",
    "library(lmtest)\n",
    "library(here)\n",
    "library(lme4) \n",
    "library(MASS)\n",
    "library(MuMIn)\n",
    "library(caret)\n",
    "library(clubSandwich)\n",
    "library(emmeans)\n",
    "library(pbkrtest)"
   ]
  },
  {
   "cell_type": "markdown",
   "metadata": {},
   "source": [
    "# Data\n",
    "\n",
    "The original data was not formatted in the way of a long table, so I used excel to clean the data. Multiple explanatory variables were encoded in color or order of the tables, so they needed to be made explicit. I used a series of formulas for that. Thus, I created long formats of the `Chalk_Results.xlsx` and `Randomized tests.xlsx` (`Chalk_Long.xlsm` and `Metadata.slsx`) and merged and created labels for them in python. \n",
    "\n",
    "Variables are:\n",
    "- **Code:** a number from 1-24. In excel, this column's color is indicative of date, and its value is also indicative of control (or chalk) and treatment. Code + bChalk form the key for merging metadata with chalk_long. \n",
    "- **bChalk:** a number from 1-4 (1=FL. 2=Metolius, 3=Magdust, 4=Ethan's Chalk), not directly indicative of whether chalk was used. Code + bChalk form the key for merging metadata with chalk_long.\n",
    "- **Pinch_Order:** Order in which test was conducted, for each attempt (code number), the test was performed three times sequentially. Pinch_Order + bChalk + Code forms the primary key. \n",
    "- **Pinch:** The weight at which the board was pinched. \n",
    "- **Pull:** The weight just before the hand slipped. **Our dependent variable**. \n",
    "- **Chalk:** The actual chalk used, 0 is added for control. \n",
    "- **Used:** A Dummy variable for is chalk is used or not. Used in testing the random effects. \n",
    "- **Person:** The person conducting the test, one intermediate and one advanced climber. \n",
    "- **Day:** The day when the test was conducted. Dates were, 10/30/2024,10/31/2024,11/4/2024,11/6/2024,11/8/2024,11/10/2024, and 11/14/2024. Last two were apparently \"noticeably slippery\". \n",
    "- **Day_Order:** The order in which the tests were conducted in the day. This was randomized. \n",
    "\n",
    "# Wrangling\n",
    "\n",
    "The wrangling section is below. Mostly easy to clean, but some variables needed to be converted into factors. "
   ]
  },
  {
   "cell_type": "code",
   "execution_count": 234,
   "metadata": {},
   "outputs": [
    {
     "name": "stderr",
     "output_type": "stream",
     "text": [
      "c:\\Users\\yujer\\anaconda3\\envs\\main\\Lib\\site-packages\\rpy2\\robjects\\pandas2ri.py:65: UserWarning:\n",
      "\n",
      "Error while trying to convert the column \"Day\". Fall back to string conversion. The error is: Converting pandas \"Category\" series to R factor is only possible when categories are strings.\n",
      "\n",
      "c:\\Users\\yujer\\anaconda3\\envs\\main\\Lib\\site-packages\\rpy2\\robjects\\pandas2ri.py:65: UserWarning:\n",
      "\n",
      "Error while trying to convert the column \"Person\". Fall back to string conversion. The error is: Converting pandas \"Category\" series to R factor is only possible when categories are strings.\n",
      "\n"
     ]
    }
   ],
   "source": [
    "# Read in and Merge Data and Metadata\n",
    "%R -i Chalk\n",
    "Chalk_Long = pd.read_excel('data/Raw/Chalk_Long.xlsm', sheet_name=1, header=0)\n",
    "metadata = pd.read_excel('data/Raw/Metadata.xlsx', sheet_name=1, header=0)\n",
    "Chalk = pd.merge(metadata, Chalk_Long, on=[\"Code\",\"bChalk\"], how='left')\n",
    "#Chalk.to_csv('data/Processed/Chalk.csv', index=False)\n",
    "# Convert Labels into factor variables for further analysis\n",
    "Chalk[\"Chalk\"] = Chalk[\"Chalk\"].astype(\"category\")\n",
    "Chalk[\"Chalk\"] = Chalk[\"Chalk\"].cat.rename_categories([\"None\", \"FL\", \"Metolius\", \"Magdust\", \"Ethan\"])\n",
    "Chalk[\"Pinch_Order\"] = Chalk[\"Pinch_Order\"].rank(method='dense')\n",
    "Chalk[\"Day_Chalk\"] = Chalk[\"Day\"].astype(\"str\") + \"_\" + Chalk[\"Chalk\"].astype(\"str\")\n",
    "Chalk[\"Used\"] = [0 if c== \"None\" else 1 for c in Chalk[\"Chalk\"]]\n",
    "Chalk[\"Used\"] = Chalk[\"Used\"].astype(\"category\")\n",
    "Chalk[\"Used\"] = Chalk[\"Used\"].cat.rename_categories([\"None\", \"Chalk\"])\n",
    "Chalk[\"Person\"] = Chalk[\"Person\"].astype(\"category\")\n",
    "Chalk[\"Day\"] = Chalk[\"Day\"].astype(\"category\")"
   ]
  },
  {
   "cell_type": "code",
   "execution_count": 216,
   "metadata": {},
   "outputs": [
    {
     "name": "stdout",
     "output_type": "stream",
     "text": [
      "<class 'pandas.core.frame.DataFrame'>\n",
      "RangeIndex: 576 entries, 0 to 575\n",
      "Data columns (total 11 columns):\n",
      " #   Column       Non-Null Count  Dtype   \n",
      "---  ------       --------------  -----   \n",
      " 0   Code         576 non-null    int64   \n",
      " 1   bChalk       576 non-null    int64   \n",
      " 2   Day_Order    576 non-null    int64   \n",
      " 3   Day          576 non-null    category\n",
      " 4   Pinch        576 non-null    float64 \n",
      " 5   Pull         576 non-null    float64 \n",
      " 6   Pinch_Order  576 non-null    float64 \n",
      " 7   Chalk        576 non-null    category\n",
      " 8   Person       576 non-null    category\n",
      " 9   Day_Chalk    576 non-null    object  \n",
      " 10  Used         576 non-null    category\n",
      "dtypes: category(4), float64(3), int64(3), object(1)\n",
      "memory usage: 34.7+ KB\n"
     ]
    },
    {
     "data": {
      "application/vnd.microsoft.datawrangler.viewer.v0+json": {
       "columns": [
        {
         "name": "index",
         "rawType": "int64",
         "type": "integer"
        },
        {
         "name": "Code",
         "rawType": "int64",
         "type": "integer"
        },
        {
         "name": "bChalk",
         "rawType": "int64",
         "type": "integer"
        },
        {
         "name": "Day_Order",
         "rawType": "int64",
         "type": "integer"
        },
        {
         "name": "Day",
         "rawType": "category",
         "type": "unknown"
        },
        {
         "name": "Pinch",
         "rawType": "float64",
         "type": "float"
        },
        {
         "name": "Pull",
         "rawType": "float64",
         "type": "float"
        },
        {
         "name": "Pinch_Order",
         "rawType": "float64",
         "type": "float"
        },
        {
         "name": "Chalk",
         "rawType": "category",
         "type": "unknown"
        },
        {
         "name": "Person",
         "rawType": "category",
         "type": "unknown"
        },
        {
         "name": "Day_Chalk",
         "rawType": "object",
         "type": "string"
        },
        {
         "name": "Used",
         "rawType": "category",
         "type": "unknown"
        }
       ],
       "conversionMethod": "pd.DataFrame",
       "ref": "47844326-c6c6-4f0e-8a4c-9fc84c2a4a4b",
       "rows": [
        [
         "0",
         "16",
         "1",
         "1",
         "2024-10-30 00:00:00",
         "4.202",
         "34.6",
         "1.0",
         "None",
         "1",
         "2024-10-30_None",
         "None"
        ],
        [
         "1",
         "16",
         "1",
         "1",
         "2024-10-30 00:00:00",
         "4.117",
         "31.9",
         "2.0",
         "None",
         "1",
         "2024-10-30_None",
         "None"
        ],
        [
         "2",
         "16",
         "1",
         "1",
         "2024-10-30 00:00:00",
         "4.154",
         "31.9",
         "3.0",
         "None",
         "1",
         "2024-10-30_None",
         "None"
        ],
        [
         "3",
         "34",
         "1",
         "2",
         "2024-10-30 00:00:00",
         "4.088",
         "41.1",
         "1.0",
         "FL",
         "2",
         "2024-10-30_FL",
         "Chalk"
        ],
        [
         "4",
         "34",
         "1",
         "2",
         "2024-10-30 00:00:00",
         "4.088",
         "44.5",
         "2.0",
         "FL",
         "2",
         "2024-10-30_FL",
         "Chalk"
        ]
       ],
       "shape": {
        "columns": 11,
        "rows": 5
       }
      },
      "text/html": [
       "<div>\n",
       "<style scoped>\n",
       "    .dataframe tbody tr th:only-of-type {\n",
       "        vertical-align: middle;\n",
       "    }\n",
       "\n",
       "    .dataframe tbody tr th {\n",
       "        vertical-align: top;\n",
       "    }\n",
       "\n",
       "    .dataframe thead th {\n",
       "        text-align: right;\n",
       "    }\n",
       "</style>\n",
       "<table border=\"1\" class=\"dataframe\">\n",
       "  <thead>\n",
       "    <tr style=\"text-align: right;\">\n",
       "      <th></th>\n",
       "      <th>Code</th>\n",
       "      <th>bChalk</th>\n",
       "      <th>Day_Order</th>\n",
       "      <th>Day</th>\n",
       "      <th>Pinch</th>\n",
       "      <th>Pull</th>\n",
       "      <th>Pinch_Order</th>\n",
       "      <th>Chalk</th>\n",
       "      <th>Person</th>\n",
       "      <th>Day_Chalk</th>\n",
       "      <th>Used</th>\n",
       "    </tr>\n",
       "  </thead>\n",
       "  <tbody>\n",
       "    <tr>\n",
       "      <th>0</th>\n",
       "      <td>16</td>\n",
       "      <td>1</td>\n",
       "      <td>1</td>\n",
       "      <td>2024-10-30</td>\n",
       "      <td>4.202</td>\n",
       "      <td>34.6</td>\n",
       "      <td>1.0</td>\n",
       "      <td>None</td>\n",
       "      <td>1</td>\n",
       "      <td>2024-10-30_None</td>\n",
       "      <td>None</td>\n",
       "    </tr>\n",
       "    <tr>\n",
       "      <th>1</th>\n",
       "      <td>16</td>\n",
       "      <td>1</td>\n",
       "      <td>1</td>\n",
       "      <td>2024-10-30</td>\n",
       "      <td>4.117</td>\n",
       "      <td>31.9</td>\n",
       "      <td>2.0</td>\n",
       "      <td>None</td>\n",
       "      <td>1</td>\n",
       "      <td>2024-10-30_None</td>\n",
       "      <td>None</td>\n",
       "    </tr>\n",
       "    <tr>\n",
       "      <th>2</th>\n",
       "      <td>16</td>\n",
       "      <td>1</td>\n",
       "      <td>1</td>\n",
       "      <td>2024-10-30</td>\n",
       "      <td>4.154</td>\n",
       "      <td>31.9</td>\n",
       "      <td>3.0</td>\n",
       "      <td>None</td>\n",
       "      <td>1</td>\n",
       "      <td>2024-10-30_None</td>\n",
       "      <td>None</td>\n",
       "    </tr>\n",
       "    <tr>\n",
       "      <th>3</th>\n",
       "      <td>34</td>\n",
       "      <td>1</td>\n",
       "      <td>2</td>\n",
       "      <td>2024-10-30</td>\n",
       "      <td>4.088</td>\n",
       "      <td>41.1</td>\n",
       "      <td>1.0</td>\n",
       "      <td>FL</td>\n",
       "      <td>2</td>\n",
       "      <td>2024-10-30_FL</td>\n",
       "      <td>Chalk</td>\n",
       "    </tr>\n",
       "    <tr>\n",
       "      <th>4</th>\n",
       "      <td>34</td>\n",
       "      <td>1</td>\n",
       "      <td>2</td>\n",
       "      <td>2024-10-30</td>\n",
       "      <td>4.088</td>\n",
       "      <td>44.5</td>\n",
       "      <td>2.0</td>\n",
       "      <td>FL</td>\n",
       "      <td>2</td>\n",
       "      <td>2024-10-30_FL</td>\n",
       "      <td>Chalk</td>\n",
       "    </tr>\n",
       "  </tbody>\n",
       "</table>\n",
       "</div>"
      ],
      "text/plain": [
       "   Code  bChalk  Day_Order        Day  Pinch  Pull  Pinch_Order Chalk Person  \\\n",
       "0    16       1          1 2024-10-30  4.202  34.6          1.0  None      1   \n",
       "1    16       1          1 2024-10-30  4.117  31.9          2.0  None      1   \n",
       "2    16       1          1 2024-10-30  4.154  31.9          3.0  None      1   \n",
       "3    34       1          2 2024-10-30  4.088  41.1          1.0    FL      2   \n",
       "4    34       1          2 2024-10-30  4.088  44.5          2.0    FL      2   \n",
       "\n",
       "         Day_Chalk   Used  \n",
       "0  2024-10-30_None   None  \n",
       "1  2024-10-30_None   None  \n",
       "2  2024-10-30_None   None  \n",
       "3    2024-10-30_FL  Chalk  \n",
       "4    2024-10-30_FL  Chalk  "
      ]
     },
     "execution_count": 216,
     "metadata": {},
     "output_type": "execute_result"
    }
   ],
   "source": [
    "# Now let us check that our wrangling worked as expected\n",
    "Chalk.info()\n",
    "Chalk.head()"
   ]
  },
  {
   "cell_type": "markdown",
   "metadata": {},
   "source": [
    "# EDA\n",
    "\n",
    "Next Graphs to Visualize Key Variables\n",
    "\n",
    "- First I will check the distributions of the numeric variables. "
   ]
  },
  {
   "cell_type": "code",
   "execution_count": 217,
   "metadata": {},
   "outputs": [
    {
     "data": {
      "application/vnd.plotly.v1+json": {
       "config": {
        "plotlyServerURL": "https://plot.ly"
       },
       "data": [
        {
         "alignmentgroup": "True",
         "bingroup": "x",
         "hovertemplate": "Pinch=%{x}<br>count=%{y}<extra></extra>",
         "legendgroup": "",
         "marker": {
          "color": "#636efa",
          "pattern": {
           "shape": ""
          }
         },
         "name": "",
         "nbinsx": 20,
         "offsetgroup": "",
         "orientation": "v",
         "showlegend": false,
         "type": "histogram",
         "x": [
          4.202,
          4.117,
          4.154,
          4.088,
          4.088,
          4.086,
          1.099,
          1.319,
          1.198,
          3.124,
          2.808,
          3.077,
          4.088,
          4.223,
          4.125,
          4.888,
          5.356,
          4.838,
          2.086,
          2.054,
          2.08,
          5.989,
          6.064,
          5.883,
          4.483,
          4.088,
          4.528,
          5.233,
          5.382,
          5.1,
          1.284,
          1.322,
          1.408,
          3.938,
          3.298,
          3.238,
          5.105,
          5.372,
          5.201,
          5.587,
          5.055,
          4.991,
          5.898,
          5.899,
          5.881,
          1.176,
          1.292,
          1.044,
          3.121,
          3.289,
          2.966,
          4.104,
          4.18,
          4.453,
          4.212,
          4.349,
          3.792,
          1.167,
          1.018,
          1.018,
          6.039,
          7.126,
          6.407,
          5.492,
          5.703,
          5.342,
          6.309,
          5.813,
          6.138,
          1.093,
          1.188,
          1.036,
          2.597,
          2.419,
          2.058,
          1.949,
          1.908,
          2.209,
          3.36,
          3.326,
          2.999,
          3.886,
          4.549,
          4.078,
          5.96,
          5.5,
          6.198,
          5.289,
          5.472,
          5.066,
          3.129,
          2.847,
          3.072,
          6.683,
          6.046,
          5.699,
          1.275,
          1.135,
          1.288,
          2.188,
          1.998,
          1.997,
          2.129,
          2.179,
          1.952,
          3.762,
          3.399,
          3.316,
          2.347,
          2.129,
          2.104,
          6.221,
          6.262,
          6.878,
          3.572,
          3.189,
          3.258,
          5.061,
          5.334,
          4.947,
          1.198,
          1.098,
          1.303,
          4.047,
          4.096,
          4.116,
          2.998,
          3.089,
          3.088,
          2.342,
          2.078,
          2.217,
          1.098,
          1.054,
          1.141,
          2.061,
          2.078,
          1.983,
          5.738,
          5.692,
          6.088,
          4.989,
          4.294,
          4.288,
          2.198,
          2.101,
          2.192,
          4.158,
          4.389,
          4.388,
          1.002,
          0.938,
          1.088,
          5.309,
          5.069,
          5.22,
          6.007,
          6.038,
          6.308,
          5.16,
          4.887,
          5.108,
          3.053,
          2.83,
          2.899,
          6.498,
          6.602,
          6.225,
          6.398,
          5.969,
          5.608,
          7.243,
          7.389,
          6.914,
          2.098,
          2.198,
          2.278,
          6.091,
          5.988,
          6.074,
          1.278,
          1.238,
          1.068,
          3.946,
          4.473,
          3.938,
          3.915,
          4.057,
          3.99,
          4.304,
          4.239,
          4.224,
          6.033,
          5.337,
          4.987,
          1.157,
          1.073,
          1.097,
          2.288,
          2.234,
          2.169,
          4.889,
          4.582,
          4.718,
          2.829,
          3.138,
          3.191,
          5.587,
          5.934,
          7.216,
          4.766,
          3.788,
          4.012,
          3.546,
          3.148,
          2.798,
          5.928,
          6.093,
          5.843,
          3.564,
          3.055,
          4.039,
          1.034,
          1.037,
          1.019,
          2.098,
          2.048,
          2.033,
          3.638,
          3.889,
          3.762,
          5.492,
          5.447,
          5.139,
          2.006,
          2.088,
          2.023,
          1.988,
          2.049,
          2.114,
          1.082,
          1.093,
          0.979,
          4.072,
          4.208,
          4.196,
          2.096,
          2.015,
          2.022,
          3.08,
          3.1,
          3.098,
          3.218,
          3.363,
          3.388,
          1.085,
          1.053,
          0.947,
          1.217,
          1.1,
          1.176,
          4.149,
          4.162,
          4.449,
          2.139,
          2.022,
          2.019,
          6.309,
          6.009,
          6.087,
          5.66,
          5.291,
          4.898,
          3.013,
          3.176,
          3.315,
          3.218,
          3.044,
          3.306,
          5.581,
          5.039,
          4.893,
          1.309,
          1.463,
          1.19,
          5.29,
          5.038,
          5.275,
          6,
          5.859,
          6.143,
          4.919,
          4.909,
          5.048,
          2.194,
          2.199,
          2.065,
          3.22,
          3.214,
          3.215,
          2.351,
          2.096,
          2.206,
          4.387,
          4.095,
          4.247,
          2.218,
          2.138,
          2.079,
          3.247,
          3.152,
          3.253,
          5.998,
          5.993,
          6.048,
          4.997,
          4.589,
          5.384,
          1.219,
          1.308,
          1.249,
          3.211,
          3.458,
          3.187,
          4.446,
          4.258,
          4.172,
          3.209,
          3.284,
          2.88,
          1.042,
          1.221,
          1.033,
          2.29,
          1.96,
          2.059,
          4.793,
          4.767,
          4.958,
          6.087,
          6.636,
          5.872,
          1.149,
          0.989,
          1.059,
          4.496,
          4.491,
          4.019,
          3.648,
          3.189,
          3.573,
          1.089,
          1.102,
          1.02,
          6.493,
          5.989,
          5.998,
          6.685,
          6.172,
          6.276,
          1.207,
          1.063,
          1.184,
          5.287,
          4.886,
          4.949,
          6.935,
          6.741,
          6.158,
          3.988,
          4.123,
          4.333,
          5.061,
          5.191,
          5.094,
          2.178,
          2.089,
          2.183,
          1.97,
          2.188,
          2.048,
          5.267,
          5.326,
          5.636,
          1.038,
          1,
          1.192,
          3.209,
          3.138,
          3.406,
          5.783,
          6.108,
          5.898,
          2.413,
          2.199,
          2.28,
          1.033,
          1.082,
          1.048,
          4.109,
          3.899,
          4.251,
          4.988,
          4.964,
          5.069,
          1.523,
          1.238,
          1.369,
          5.189,
          5.086,
          5.098,
          4.088,
          3.898,
          3.859,
          2.868,
          2.898,
          3.092,
          5.999,
          5.966,
          6.031,
          4.332,
          4.089,
          3.988,
          3.098,
          2.892,
          3.21,
          4.106,
          3.838,
          4.188,
          2.298,
          1.898,
          2.183,
          3.048,
          2.888,
          2.688,
          1.289,
          1.389,
          1.208,
          2.089,
          2.008,
          2.133,
          5.336,
          5.599,
          5.579,
          2.208,
          2.098,
          2.08,
          4.282,
          4.094,
          3.899,
          3.322,
          3.092,
          3.298,
          6.558,
          6.199,
          6.343,
          1.196,
          1.36,
          1.198,
          4.888,
          4.979,
          5.217,
          2.098,
          1.983,
          2.207,
          5.998,
          6.203,
          6.387,
          5.972,
          5.666,
          5.869,
          2.041,
          2.22,
          2.212,
          3.292,
          3.088,
          3.088,
          1.139,
          1.098,
          1.231,
          1.147,
          1.115,
          1.279,
          0.988,
          1.219,
          0.972,
          5.097,
          4.964,
          4.787,
          1.268,
          1.061,
          1.279,
          2.077,
          1.992,
          2.164,
          2.217,
          2.187,
          1.898,
          4.463,
          4.066,
          3.676,
          3.077,
          3.161,
          3.186,
          4.06,
          3.962,
          4.099,
          4.28,
          4.335,
          4.388,
          2.947,
          3.278,
          3.298,
          5.744,
          5.826,
          6.173,
          3.276,
          3.127,
          3.326,
          6.168,
          6.75,
          6.096,
          1.359,
          1.1,
          1.081,
          2.381,
          2.442,
          2.075,
          4.996,
          4.988,
          4.979,
          5.978,
          6.124,
          6.493,
          1.311,
          1.218,
          1.446,
          4.153,
          4.088,
          4.304,
          2.992,
          3.31,
          3.338,
          3.103,
          3.155,
          3.048,
          4.24,
          4.979,
          4.612,
          6.888,
          6.32,
          6.549,
          6.028,
          6.484,
          6.203,
          4.877,
          4.938,
          5.168,
          5.026,
          4.899,
          5.306,
          2.015,
          2.372,
          2.625,
          4.083,
          4.143,
          4.252,
          4.288,
          3.91,
          4.38,
          5.117,
          5.098,
          4.878,
          5.198,
          5.624,
          5.274
         ],
         "xaxis": "x",
         "yaxis": "y"
        }
       ],
       "layout": {
        "barmode": "relative",
        "legend": {
         "tracegroupgap": 0
        },
        "template": {
         "data": {
          "bar": [
           {
            "error_x": {
             "color": "#2a3f5f"
            },
            "error_y": {
             "color": "#2a3f5f"
            },
            "marker": {
             "line": {
              "color": "#E5ECF6",
              "width": 0.5
             },
             "pattern": {
              "fillmode": "overlay",
              "size": 10,
              "solidity": 0.2
             }
            },
            "type": "bar"
           }
          ],
          "barpolar": [
           {
            "marker": {
             "line": {
              "color": "#E5ECF6",
              "width": 0.5
             },
             "pattern": {
              "fillmode": "overlay",
              "size": 10,
              "solidity": 0.2
             }
            },
            "type": "barpolar"
           }
          ],
          "carpet": [
           {
            "aaxis": {
             "endlinecolor": "#2a3f5f",
             "gridcolor": "white",
             "linecolor": "white",
             "minorgridcolor": "white",
             "startlinecolor": "#2a3f5f"
            },
            "baxis": {
             "endlinecolor": "#2a3f5f",
             "gridcolor": "white",
             "linecolor": "white",
             "minorgridcolor": "white",
             "startlinecolor": "#2a3f5f"
            },
            "type": "carpet"
           }
          ],
          "choropleth": [
           {
            "colorbar": {
             "outlinewidth": 0,
             "ticks": ""
            },
            "type": "choropleth"
           }
          ],
          "contour": [
           {
            "colorbar": {
             "outlinewidth": 0,
             "ticks": ""
            },
            "colorscale": [
             [
              0,
              "#0d0887"
             ],
             [
              0.1111111111111111,
              "#46039f"
             ],
             [
              0.2222222222222222,
              "#7201a8"
             ],
             [
              0.3333333333333333,
              "#9c179e"
             ],
             [
              0.4444444444444444,
              "#bd3786"
             ],
             [
              0.5555555555555556,
              "#d8576b"
             ],
             [
              0.6666666666666666,
              "#ed7953"
             ],
             [
              0.7777777777777778,
              "#fb9f3a"
             ],
             [
              0.8888888888888888,
              "#fdca26"
             ],
             [
              1,
              "#f0f921"
             ]
            ],
            "type": "contour"
           }
          ],
          "contourcarpet": [
           {
            "colorbar": {
             "outlinewidth": 0,
             "ticks": ""
            },
            "type": "contourcarpet"
           }
          ],
          "heatmap": [
           {
            "colorbar": {
             "outlinewidth": 0,
             "ticks": ""
            },
            "colorscale": [
             [
              0,
              "#0d0887"
             ],
             [
              0.1111111111111111,
              "#46039f"
             ],
             [
              0.2222222222222222,
              "#7201a8"
             ],
             [
              0.3333333333333333,
              "#9c179e"
             ],
             [
              0.4444444444444444,
              "#bd3786"
             ],
             [
              0.5555555555555556,
              "#d8576b"
             ],
             [
              0.6666666666666666,
              "#ed7953"
             ],
             [
              0.7777777777777778,
              "#fb9f3a"
             ],
             [
              0.8888888888888888,
              "#fdca26"
             ],
             [
              1,
              "#f0f921"
             ]
            ],
            "type": "heatmap"
           }
          ],
          "heatmapgl": [
           {
            "colorbar": {
             "outlinewidth": 0,
             "ticks": ""
            },
            "colorscale": [
             [
              0,
              "#0d0887"
             ],
             [
              0.1111111111111111,
              "#46039f"
             ],
             [
              0.2222222222222222,
              "#7201a8"
             ],
             [
              0.3333333333333333,
              "#9c179e"
             ],
             [
              0.4444444444444444,
              "#bd3786"
             ],
             [
              0.5555555555555556,
              "#d8576b"
             ],
             [
              0.6666666666666666,
              "#ed7953"
             ],
             [
              0.7777777777777778,
              "#fb9f3a"
             ],
             [
              0.8888888888888888,
              "#fdca26"
             ],
             [
              1,
              "#f0f921"
             ]
            ],
            "type": "heatmapgl"
           }
          ],
          "histogram": [
           {
            "marker": {
             "pattern": {
              "fillmode": "overlay",
              "size": 10,
              "solidity": 0.2
             }
            },
            "type": "histogram"
           }
          ],
          "histogram2d": [
           {
            "colorbar": {
             "outlinewidth": 0,
             "ticks": ""
            },
            "colorscale": [
             [
              0,
              "#0d0887"
             ],
             [
              0.1111111111111111,
              "#46039f"
             ],
             [
              0.2222222222222222,
              "#7201a8"
             ],
             [
              0.3333333333333333,
              "#9c179e"
             ],
             [
              0.4444444444444444,
              "#bd3786"
             ],
             [
              0.5555555555555556,
              "#d8576b"
             ],
             [
              0.6666666666666666,
              "#ed7953"
             ],
             [
              0.7777777777777778,
              "#fb9f3a"
             ],
             [
              0.8888888888888888,
              "#fdca26"
             ],
             [
              1,
              "#f0f921"
             ]
            ],
            "type": "histogram2d"
           }
          ],
          "histogram2dcontour": [
           {
            "colorbar": {
             "outlinewidth": 0,
             "ticks": ""
            },
            "colorscale": [
             [
              0,
              "#0d0887"
             ],
             [
              0.1111111111111111,
              "#46039f"
             ],
             [
              0.2222222222222222,
              "#7201a8"
             ],
             [
              0.3333333333333333,
              "#9c179e"
             ],
             [
              0.4444444444444444,
              "#bd3786"
             ],
             [
              0.5555555555555556,
              "#d8576b"
             ],
             [
              0.6666666666666666,
              "#ed7953"
             ],
             [
              0.7777777777777778,
              "#fb9f3a"
             ],
             [
              0.8888888888888888,
              "#fdca26"
             ],
             [
              1,
              "#f0f921"
             ]
            ],
            "type": "histogram2dcontour"
           }
          ],
          "mesh3d": [
           {
            "colorbar": {
             "outlinewidth": 0,
             "ticks": ""
            },
            "type": "mesh3d"
           }
          ],
          "parcoords": [
           {
            "line": {
             "colorbar": {
              "outlinewidth": 0,
              "ticks": ""
             }
            },
            "type": "parcoords"
           }
          ],
          "pie": [
           {
            "automargin": true,
            "type": "pie"
           }
          ],
          "scatter": [
           {
            "fillpattern": {
             "fillmode": "overlay",
             "size": 10,
             "solidity": 0.2
            },
            "type": "scatter"
           }
          ],
          "scatter3d": [
           {
            "line": {
             "colorbar": {
              "outlinewidth": 0,
              "ticks": ""
             }
            },
            "marker": {
             "colorbar": {
              "outlinewidth": 0,
              "ticks": ""
             }
            },
            "type": "scatter3d"
           }
          ],
          "scattercarpet": [
           {
            "marker": {
             "colorbar": {
              "outlinewidth": 0,
              "ticks": ""
             }
            },
            "type": "scattercarpet"
           }
          ],
          "scattergeo": [
           {
            "marker": {
             "colorbar": {
              "outlinewidth": 0,
              "ticks": ""
             }
            },
            "type": "scattergeo"
           }
          ],
          "scattergl": [
           {
            "marker": {
             "colorbar": {
              "outlinewidth": 0,
              "ticks": ""
             }
            },
            "type": "scattergl"
           }
          ],
          "scattermapbox": [
           {
            "marker": {
             "colorbar": {
              "outlinewidth": 0,
              "ticks": ""
             }
            },
            "type": "scattermapbox"
           }
          ],
          "scatterpolar": [
           {
            "marker": {
             "colorbar": {
              "outlinewidth": 0,
              "ticks": ""
             }
            },
            "type": "scatterpolar"
           }
          ],
          "scatterpolargl": [
           {
            "marker": {
             "colorbar": {
              "outlinewidth": 0,
              "ticks": ""
             }
            },
            "type": "scatterpolargl"
           }
          ],
          "scatterternary": [
           {
            "marker": {
             "colorbar": {
              "outlinewidth": 0,
              "ticks": ""
             }
            },
            "type": "scatterternary"
           }
          ],
          "surface": [
           {
            "colorbar": {
             "outlinewidth": 0,
             "ticks": ""
            },
            "colorscale": [
             [
              0,
              "#0d0887"
             ],
             [
              0.1111111111111111,
              "#46039f"
             ],
             [
              0.2222222222222222,
              "#7201a8"
             ],
             [
              0.3333333333333333,
              "#9c179e"
             ],
             [
              0.4444444444444444,
              "#bd3786"
             ],
             [
              0.5555555555555556,
              "#d8576b"
             ],
             [
              0.6666666666666666,
              "#ed7953"
             ],
             [
              0.7777777777777778,
              "#fb9f3a"
             ],
             [
              0.8888888888888888,
              "#fdca26"
             ],
             [
              1,
              "#f0f921"
             ]
            ],
            "type": "surface"
           }
          ],
          "table": [
           {
            "cells": {
             "fill": {
              "color": "#EBF0F8"
             },
             "line": {
              "color": "white"
             }
            },
            "header": {
             "fill": {
              "color": "#C8D4E3"
             },
             "line": {
              "color": "white"
             }
            },
            "type": "table"
           }
          ]
         },
         "layout": {
          "annotationdefaults": {
           "arrowcolor": "#2a3f5f",
           "arrowhead": 0,
           "arrowwidth": 1
          },
          "autotypenumbers": "strict",
          "coloraxis": {
           "colorbar": {
            "outlinewidth": 0,
            "ticks": ""
           }
          },
          "colorscale": {
           "diverging": [
            [
             0,
             "#8e0152"
            ],
            [
             0.1,
             "#c51b7d"
            ],
            [
             0.2,
             "#de77ae"
            ],
            [
             0.3,
             "#f1b6da"
            ],
            [
             0.4,
             "#fde0ef"
            ],
            [
             0.5,
             "#f7f7f7"
            ],
            [
             0.6,
             "#e6f5d0"
            ],
            [
             0.7,
             "#b8e186"
            ],
            [
             0.8,
             "#7fbc41"
            ],
            [
             0.9,
             "#4d9221"
            ],
            [
             1,
             "#276419"
            ]
           ],
           "sequential": [
            [
             0,
             "#0d0887"
            ],
            [
             0.1111111111111111,
             "#46039f"
            ],
            [
             0.2222222222222222,
             "#7201a8"
            ],
            [
             0.3333333333333333,
             "#9c179e"
            ],
            [
             0.4444444444444444,
             "#bd3786"
            ],
            [
             0.5555555555555556,
             "#d8576b"
            ],
            [
             0.6666666666666666,
             "#ed7953"
            ],
            [
             0.7777777777777778,
             "#fb9f3a"
            ],
            [
             0.8888888888888888,
             "#fdca26"
            ],
            [
             1,
             "#f0f921"
            ]
           ],
           "sequentialminus": [
            [
             0,
             "#0d0887"
            ],
            [
             0.1111111111111111,
             "#46039f"
            ],
            [
             0.2222222222222222,
             "#7201a8"
            ],
            [
             0.3333333333333333,
             "#9c179e"
            ],
            [
             0.4444444444444444,
             "#bd3786"
            ],
            [
             0.5555555555555556,
             "#d8576b"
            ],
            [
             0.6666666666666666,
             "#ed7953"
            ],
            [
             0.7777777777777778,
             "#fb9f3a"
            ],
            [
             0.8888888888888888,
             "#fdca26"
            ],
            [
             1,
             "#f0f921"
            ]
           ]
          },
          "colorway": [
           "#636efa",
           "#EF553B",
           "#00cc96",
           "#ab63fa",
           "#FFA15A",
           "#19d3f3",
           "#FF6692",
           "#B6E880",
           "#FF97FF",
           "#FECB52"
          ],
          "font": {
           "color": "#2a3f5f"
          },
          "geo": {
           "bgcolor": "white",
           "lakecolor": "white",
           "landcolor": "#E5ECF6",
           "showlakes": true,
           "showland": true,
           "subunitcolor": "white"
          },
          "hoverlabel": {
           "align": "left"
          },
          "hovermode": "closest",
          "mapbox": {
           "style": "light"
          },
          "paper_bgcolor": "white",
          "plot_bgcolor": "#E5ECF6",
          "polar": {
           "angularaxis": {
            "gridcolor": "white",
            "linecolor": "white",
            "ticks": ""
           },
           "bgcolor": "#E5ECF6",
           "radialaxis": {
            "gridcolor": "white",
            "linecolor": "white",
            "ticks": ""
           }
          },
          "scene": {
           "xaxis": {
            "backgroundcolor": "#E5ECF6",
            "gridcolor": "white",
            "gridwidth": 2,
            "linecolor": "white",
            "showbackground": true,
            "ticks": "",
            "zerolinecolor": "white"
           },
           "yaxis": {
            "backgroundcolor": "#E5ECF6",
            "gridcolor": "white",
            "gridwidth": 2,
            "linecolor": "white",
            "showbackground": true,
            "ticks": "",
            "zerolinecolor": "white"
           },
           "zaxis": {
            "backgroundcolor": "#E5ECF6",
            "gridcolor": "white",
            "gridwidth": 2,
            "linecolor": "white",
            "showbackground": true,
            "ticks": "",
            "zerolinecolor": "white"
           }
          },
          "shapedefaults": {
           "line": {
            "color": "#2a3f5f"
           }
          },
          "ternary": {
           "aaxis": {
            "gridcolor": "white",
            "linecolor": "white",
            "ticks": ""
           },
           "baxis": {
            "gridcolor": "white",
            "linecolor": "white",
            "ticks": ""
           },
           "bgcolor": "#E5ECF6",
           "caxis": {
            "gridcolor": "white",
            "linecolor": "white",
            "ticks": ""
           }
          },
          "title": {
           "x": 0.05
          },
          "xaxis": {
           "automargin": true,
           "gridcolor": "white",
           "linecolor": "white",
           "ticks": "",
           "title": {
            "standoff": 15
           },
           "zerolinecolor": "white",
           "zerolinewidth": 2
          },
          "yaxis": {
           "automargin": true,
           "gridcolor": "white",
           "linecolor": "white",
           "ticks": "",
           "title": {
            "standoff": 15
           },
           "zerolinecolor": "white",
           "zerolinewidth": 2
          }
         }
        },
        "title": {
         "text": "Distribution of Pinch Strength<br><sup>by Jerry Yu</sub>",
         "x": 0.5,
         "xanchor": "center",
         "yanchor": "top"
        },
        "xaxis": {
         "anchor": "y",
         "domain": [
          0,
          1
         ],
         "title": {
          "text": "Pinch"
         }
        },
        "yaxis": {
         "anchor": "x",
         "domain": [
          0,
          1
         ],
         "title": {
          "text": "count"
         }
        }
       }
      }
     },
     "metadata": {},
     "output_type": "display_data"
    }
   ],
   "source": [
    "# Graph Pinch\n",
    "pinchist = px.histogram(Chalk,x=\"Pinch\",\n",
    "                        title = \"Distribution of Pinch Strength\",\n",
    "                        nbins = 20)\n",
    "pinchist.update_layout(\n",
    "    title = {\n",
    "        \"text\":\"Distribution of Pinch Strength<br><sup>by Jerry Yu</sub>\",\n",
    "        \"x\":0.5,\n",
    "        \"xanchor\":\"center\",\n",
    "        \"yanchor\":\"top\"\n",
    "    }\n",
    ")\n",
    "pinchist.show()\n",
    "# weird shape, good coverage, no noticable outliers"
   ]
  },
  {
   "cell_type": "markdown",
   "metadata": {},
   "source": [
    "Notes:\n",
    "- at lower weights, obviously had more control so more centered around 1 lb, 2lb etc. However the distirbution is pretty uniform"
   ]
  },
  {
   "cell_type": "code",
   "execution_count": 218,
   "metadata": {},
   "outputs": [
    {
     "data": {
      "application/vnd.plotly.v1+json": {
       "config": {
        "plotlyServerURL": "https://plot.ly"
       },
       "data": [
        {
         "alignmentgroup": "True",
         "bingroup": "x",
         "hovertemplate": "Pull=%{x}<br>count=%{y}<extra></extra>",
         "legendgroup": "",
         "marker": {
          "color": "#636efa",
          "pattern": {
           "shape": ""
          }
         },
         "name": "",
         "offsetgroup": "",
         "orientation": "v",
         "showlegend": false,
         "type": "histogram",
         "x": [
          34.6,
          31.9,
          31.9,
          41.1,
          44.5,
          45.7,
          7.2,
          9.5,
          8.5,
          30.6,
          26.1,
          27.5,
          44.6,
          37.5,
          40.1,
          45.1,
          49.1,
          44.2,
          23.5,
          22.6,
          25.4,
          63.9,
          61.7,
          76.3,
          40.5,
          38.7,
          42.7,
          41.5,
          42.5,
          44.5,
          8.4,
          8.3,
          9.5,
          35.5,
          26.4,
          27.1,
          50.6,
          43.6,
          41.7,
          51.7,
          39.1,
          47,
          56.5,
          52.6,
          49.6,
          5.7,
          7.4,
          6.5,
          29.4,
          33.8,
          23.6,
          42.5,
          43.7,
          46.5,
          46.2,
          56.5,
          47.5,
          12.7,
          9.1,
          11.4,
          74,
          83.3,
          75.1,
          77.5,
          68.5,
          67.5,
          55.4,
          46.3,
          48.5,
          8.8,
          12.5,
          10.7,
          24.2,
          25.1,
          19.6,
          14.8,
          15.7,
          17,
          38.1,
          37.9,
          38.4,
          36.5,
          36.1,
          35.5,
          51.6,
          46.4,
          47.1,
          39.6,
          39.7,
          37.1,
          35.1,
          33.7,
          31.7,
          51.1,
          53.3,
          46.5,
          3.6,
          5.3,
          5.2,
          23.7,
          24.5,
          25.5,
          19.4,
          21.1,
          18.7,
          45.3,
          46.6,
          35.4,
          15.4,
          14.6,
          16.7,
          71.1,
          81.5,
          89.2,
          25.1,
          22.6,
          22.4,
          61.6,
          70.5,
          67.1,
          6.1,
          5.3,
          9.1,
          49.2,
          47.6,
          44.6,
          21.5,
          25.1,
          26.6,
          17,
          12.5,
          18,
          7.5,
          5.1,
          8.5,
          13.9,
          15,
          12.2,
          54.1,
          61.1,
          64.3,
          45.7,
          29,
          34,
          15.4,
          14.7,
          15.1,
          36.4,
          42.8,
          46.3,
          8.9,
          11,
          7.2,
          36.2,
          45.7,
          47.6,
          71.5,
          75.2,
          64.3,
          69,
          65.4,
          54.4,
          30.7,
          32.1,
          31.4,
          52.7,
          55.7,
          47.6,
          51.1,
          55.5,
          50.7,
          70.7,
          75.4,
          66.3,
          13.6,
          13.2,
          13.6,
          66.7,
          74.1,
          69.5,
          7.1,
          7.7,
          4.2,
          34.2,
          37.6,
          29.3,
          35.4,
          37.4,
          35.7,
          52.7,
          43.2,
          46.6,
          61.8,
          47.3,
          46.6,
          6.2,
          5.4,
          4.9,
          14.2,
          14.2,
          15.1,
          51.5,
          55.3,
          56.7,
          34.1,
          36.3,
          30.1,
          59.3,
          54.1,
          64.7,
          49.3,
          30.5,
          35.5,
          26.6,
          24.5,
          19.2,
          52.2,
          45.2,
          46,
          27.4,
          26.6,
          44.6,
          4.4,
          3.2,
          7.1,
          16.7,
          14.2,
          16.4,
          42.5,
          46.7,
          44,
          44.4,
          47.2,
          45.1,
          17.2,
          16.5,
          17.2,
          20.9,
          25.5,
          26.1,
          5.4,
          8.3,
          6.2,
          28,
          31,
          27.2,
          15.5,
          16.3,
          15.7,
          25.7,
          26.1,
          25.4,
          24.4,
          24.8,
          31.8,
          2.5,
          5.7,
          5.7,
          10.6,
          11.5,
          10.5,
          23.5,
          27.2,
          31.1,
          25.7,
          21.5,
          22.2,
          55.9,
          50.5,
          51.7,
          39.1,
          37.9,
          35.6,
          34.1,
          37.3,
          36.5,
          25.9,
          27.3,
          24.1,
          48.1,
          35.4,
          35.5,
          7.1,
          9.1,
          7.7,
          35.5,
          28.3,
          33.7,
          65.5,
          73.3,
          77.3,
          51.4,
          54.9,
          52.6,
          8.9,
          14.4,
          13.5,
          22.1,
          28.2,
          29.4,
          10.4,
          6.6,
          12.2,
          30.1,
          33.5,
          34.9,
          17.7,
          15.3,
          17.1,
          19,
          19.2,
          26.1,
          44.7,
          50.7,
          47.5,
          44.7,
          41.1,
          51,
          5.5,
          8.1,
          6.7,
          22.4,
          26.2,
          22.2,
          37.7,
          33.6,
          33.6,
          31.4,
          33.5,
          34.4,
          5.1,
          7.1,
          6.4,
          13.8,
          14.3,
          15.6,
          37.1,
          36.4,
          40.5,
          53.2,
          57.4,
          54.6,
          3.3,
          3.2,
          3.2,
          35.7,
          42.5,
          37.1,
          37.4,
          29.7,
          35.2,
          10.7,
          10.7,
          9.2,
          56.7,
          57.7,
          60.7,
          61.2,
          59.6,
          67.4,
          11.2,
          11.1,
          11,
          35.3,
          33.5,
          28.9,
          52.5,
          57.2,
          47.9,
          34,
          25.4,
          25.9,
          42.2,
          35.2,
          32.2,
          12.2,
          19.6,
          20,
          24.6,
          17.5,
          15.2,
          35.1,
          33.5,
          31.2,
          3.7,
          5.7,
          7.5,
          26.7,
          30.2,
          28.1,
          44.5,
          46.1,
          44.7,
          15.5,
          16.5,
          17.8,
          1.5,
          2.7,
          5.8,
          24.2,
          20.5,
          25.2,
          45.1,
          54.5,
          50.1,
          7,
          7.4,
          8.4,
          30.9,
          30.3,
          28.7,
          34.6,
          35.7,
          33.7,
          33.3,
          31.1,
          32.7,
          32.3,
          39.2,
          31.7,
          39.5,
          41.5,
          32.6,
          15.7,
          15.5,
          17.7,
          35.9,
          34.2,
          36.6,
          14.4,
          15.7,
          19.7,
          22.7,
          16.8,
          22.5,
          7.9,
          9.3,
          10,
          13.5,
          14.5,
          16,
          55.5,
          65.1,
          54.5,
          11.1,
          9.4,
          12.7,
          37,
          34.5,
          41.6,
          29.4,
          22.3,
          27.3,
          46.1,
          36.7,
          37.2,
          6.2,
          7.4,
          6.2,
          31.9,
          35.4,
          39.6,
          18.7,
          15.2,
          17.1,
          50.9,
          57.3,
          57.7,
          47.9,
          45.7,
          51.5,
          14,
          17.4,
          22.2,
          22.3,
          21.1,
          23.5,
          11.4,
          10.3,
          10.5,
          4.7,
          2.4,
          5.1,
          3.1,
          5,
          5.7,
          59,
          59.1,
          55.3,
          9.7,
          7.6,
          6.6,
          13.6,
          15.3,
          17.4,
          8.9,
          8.1,
          9.4,
          49.6,
          57.7,
          55.4,
          9.7,
          16.5,
          14.4,
          27.4,
          25.1,
          29.2,
          27.7,
          28.6,
          27.1,
          42.7,
          39.5,
          43.1,
          71.5,
          82.3,
          77.2,
          35.3,
          42.8,
          44.3,
          51.9,
          55.7,
          48.7,
          3.5,
          2.5,
          2.2,
          17.7,
          21.6,
          15.7,
          31.2,
          25.2,
          23.4,
          43.1,
          41.2,
          46.7,
          7.6,
          3.4,
          7.5,
          25.3,
          30.6,
          25.2,
          16,
          14.7,
          22.7,
          24.1,
          21.4,
          22.7,
          42.5,
          64.5,
          57.7,
          82,
          70.1,
          71.3,
          57.5,
          64.1,
          63.1,
          30.4,
          30.7,
          31.1,
          49.5,
          45.1,
          45,
          21.2,
          25.4,
          29.6,
          25.3,
          24.7,
          25.1,
          27.1,
          23.6,
          24.4,
          51.2,
          45.3,
          45.4,
          31.4,
          32.8,
          31.1
         ],
         "xaxis": "x",
         "yaxis": "y"
        }
       ],
       "layout": {
        "barmode": "relative",
        "legend": {
         "tracegroupgap": 0
        },
        "template": {
         "data": {
          "bar": [
           {
            "error_x": {
             "color": "#2a3f5f"
            },
            "error_y": {
             "color": "#2a3f5f"
            },
            "marker": {
             "line": {
              "color": "#E5ECF6",
              "width": 0.5
             },
             "pattern": {
              "fillmode": "overlay",
              "size": 10,
              "solidity": 0.2
             }
            },
            "type": "bar"
           }
          ],
          "barpolar": [
           {
            "marker": {
             "line": {
              "color": "#E5ECF6",
              "width": 0.5
             },
             "pattern": {
              "fillmode": "overlay",
              "size": 10,
              "solidity": 0.2
             }
            },
            "type": "barpolar"
           }
          ],
          "carpet": [
           {
            "aaxis": {
             "endlinecolor": "#2a3f5f",
             "gridcolor": "white",
             "linecolor": "white",
             "minorgridcolor": "white",
             "startlinecolor": "#2a3f5f"
            },
            "baxis": {
             "endlinecolor": "#2a3f5f",
             "gridcolor": "white",
             "linecolor": "white",
             "minorgridcolor": "white",
             "startlinecolor": "#2a3f5f"
            },
            "type": "carpet"
           }
          ],
          "choropleth": [
           {
            "colorbar": {
             "outlinewidth": 0,
             "ticks": ""
            },
            "type": "choropleth"
           }
          ],
          "contour": [
           {
            "colorbar": {
             "outlinewidth": 0,
             "ticks": ""
            },
            "colorscale": [
             [
              0,
              "#0d0887"
             ],
             [
              0.1111111111111111,
              "#46039f"
             ],
             [
              0.2222222222222222,
              "#7201a8"
             ],
             [
              0.3333333333333333,
              "#9c179e"
             ],
             [
              0.4444444444444444,
              "#bd3786"
             ],
             [
              0.5555555555555556,
              "#d8576b"
             ],
             [
              0.6666666666666666,
              "#ed7953"
             ],
             [
              0.7777777777777778,
              "#fb9f3a"
             ],
             [
              0.8888888888888888,
              "#fdca26"
             ],
             [
              1,
              "#f0f921"
             ]
            ],
            "type": "contour"
           }
          ],
          "contourcarpet": [
           {
            "colorbar": {
             "outlinewidth": 0,
             "ticks": ""
            },
            "type": "contourcarpet"
           }
          ],
          "heatmap": [
           {
            "colorbar": {
             "outlinewidth": 0,
             "ticks": ""
            },
            "colorscale": [
             [
              0,
              "#0d0887"
             ],
             [
              0.1111111111111111,
              "#46039f"
             ],
             [
              0.2222222222222222,
              "#7201a8"
             ],
             [
              0.3333333333333333,
              "#9c179e"
             ],
             [
              0.4444444444444444,
              "#bd3786"
             ],
             [
              0.5555555555555556,
              "#d8576b"
             ],
             [
              0.6666666666666666,
              "#ed7953"
             ],
             [
              0.7777777777777778,
              "#fb9f3a"
             ],
             [
              0.8888888888888888,
              "#fdca26"
             ],
             [
              1,
              "#f0f921"
             ]
            ],
            "type": "heatmap"
           }
          ],
          "heatmapgl": [
           {
            "colorbar": {
             "outlinewidth": 0,
             "ticks": ""
            },
            "colorscale": [
             [
              0,
              "#0d0887"
             ],
             [
              0.1111111111111111,
              "#46039f"
             ],
             [
              0.2222222222222222,
              "#7201a8"
             ],
             [
              0.3333333333333333,
              "#9c179e"
             ],
             [
              0.4444444444444444,
              "#bd3786"
             ],
             [
              0.5555555555555556,
              "#d8576b"
             ],
             [
              0.6666666666666666,
              "#ed7953"
             ],
             [
              0.7777777777777778,
              "#fb9f3a"
             ],
             [
              0.8888888888888888,
              "#fdca26"
             ],
             [
              1,
              "#f0f921"
             ]
            ],
            "type": "heatmapgl"
           }
          ],
          "histogram": [
           {
            "marker": {
             "pattern": {
              "fillmode": "overlay",
              "size": 10,
              "solidity": 0.2
             }
            },
            "type": "histogram"
           }
          ],
          "histogram2d": [
           {
            "colorbar": {
             "outlinewidth": 0,
             "ticks": ""
            },
            "colorscale": [
             [
              0,
              "#0d0887"
             ],
             [
              0.1111111111111111,
              "#46039f"
             ],
             [
              0.2222222222222222,
              "#7201a8"
             ],
             [
              0.3333333333333333,
              "#9c179e"
             ],
             [
              0.4444444444444444,
              "#bd3786"
             ],
             [
              0.5555555555555556,
              "#d8576b"
             ],
             [
              0.6666666666666666,
              "#ed7953"
             ],
             [
              0.7777777777777778,
              "#fb9f3a"
             ],
             [
              0.8888888888888888,
              "#fdca26"
             ],
             [
              1,
              "#f0f921"
             ]
            ],
            "type": "histogram2d"
           }
          ],
          "histogram2dcontour": [
           {
            "colorbar": {
             "outlinewidth": 0,
             "ticks": ""
            },
            "colorscale": [
             [
              0,
              "#0d0887"
             ],
             [
              0.1111111111111111,
              "#46039f"
             ],
             [
              0.2222222222222222,
              "#7201a8"
             ],
             [
              0.3333333333333333,
              "#9c179e"
             ],
             [
              0.4444444444444444,
              "#bd3786"
             ],
             [
              0.5555555555555556,
              "#d8576b"
             ],
             [
              0.6666666666666666,
              "#ed7953"
             ],
             [
              0.7777777777777778,
              "#fb9f3a"
             ],
             [
              0.8888888888888888,
              "#fdca26"
             ],
             [
              1,
              "#f0f921"
             ]
            ],
            "type": "histogram2dcontour"
           }
          ],
          "mesh3d": [
           {
            "colorbar": {
             "outlinewidth": 0,
             "ticks": ""
            },
            "type": "mesh3d"
           }
          ],
          "parcoords": [
           {
            "line": {
             "colorbar": {
              "outlinewidth": 0,
              "ticks": ""
             }
            },
            "type": "parcoords"
           }
          ],
          "pie": [
           {
            "automargin": true,
            "type": "pie"
           }
          ],
          "scatter": [
           {
            "fillpattern": {
             "fillmode": "overlay",
             "size": 10,
             "solidity": 0.2
            },
            "type": "scatter"
           }
          ],
          "scatter3d": [
           {
            "line": {
             "colorbar": {
              "outlinewidth": 0,
              "ticks": ""
             }
            },
            "marker": {
             "colorbar": {
              "outlinewidth": 0,
              "ticks": ""
             }
            },
            "type": "scatter3d"
           }
          ],
          "scattercarpet": [
           {
            "marker": {
             "colorbar": {
              "outlinewidth": 0,
              "ticks": ""
             }
            },
            "type": "scattercarpet"
           }
          ],
          "scattergeo": [
           {
            "marker": {
             "colorbar": {
              "outlinewidth": 0,
              "ticks": ""
             }
            },
            "type": "scattergeo"
           }
          ],
          "scattergl": [
           {
            "marker": {
             "colorbar": {
              "outlinewidth": 0,
              "ticks": ""
             }
            },
            "type": "scattergl"
           }
          ],
          "scattermapbox": [
           {
            "marker": {
             "colorbar": {
              "outlinewidth": 0,
              "ticks": ""
             }
            },
            "type": "scattermapbox"
           }
          ],
          "scatterpolar": [
           {
            "marker": {
             "colorbar": {
              "outlinewidth": 0,
              "ticks": ""
             }
            },
            "type": "scatterpolar"
           }
          ],
          "scatterpolargl": [
           {
            "marker": {
             "colorbar": {
              "outlinewidth": 0,
              "ticks": ""
             }
            },
            "type": "scatterpolargl"
           }
          ],
          "scatterternary": [
           {
            "marker": {
             "colorbar": {
              "outlinewidth": 0,
              "ticks": ""
             }
            },
            "type": "scatterternary"
           }
          ],
          "surface": [
           {
            "colorbar": {
             "outlinewidth": 0,
             "ticks": ""
            },
            "colorscale": [
             [
              0,
              "#0d0887"
             ],
             [
              0.1111111111111111,
              "#46039f"
             ],
             [
              0.2222222222222222,
              "#7201a8"
             ],
             [
              0.3333333333333333,
              "#9c179e"
             ],
             [
              0.4444444444444444,
              "#bd3786"
             ],
             [
              0.5555555555555556,
              "#d8576b"
             ],
             [
              0.6666666666666666,
              "#ed7953"
             ],
             [
              0.7777777777777778,
              "#fb9f3a"
             ],
             [
              0.8888888888888888,
              "#fdca26"
             ],
             [
              1,
              "#f0f921"
             ]
            ],
            "type": "surface"
           }
          ],
          "table": [
           {
            "cells": {
             "fill": {
              "color": "#EBF0F8"
             },
             "line": {
              "color": "white"
             }
            },
            "header": {
             "fill": {
              "color": "#C8D4E3"
             },
             "line": {
              "color": "white"
             }
            },
            "type": "table"
           }
          ]
         },
         "layout": {
          "annotationdefaults": {
           "arrowcolor": "#2a3f5f",
           "arrowhead": 0,
           "arrowwidth": 1
          },
          "autotypenumbers": "strict",
          "coloraxis": {
           "colorbar": {
            "outlinewidth": 0,
            "ticks": ""
           }
          },
          "colorscale": {
           "diverging": [
            [
             0,
             "#8e0152"
            ],
            [
             0.1,
             "#c51b7d"
            ],
            [
             0.2,
             "#de77ae"
            ],
            [
             0.3,
             "#f1b6da"
            ],
            [
             0.4,
             "#fde0ef"
            ],
            [
             0.5,
             "#f7f7f7"
            ],
            [
             0.6,
             "#e6f5d0"
            ],
            [
             0.7,
             "#b8e186"
            ],
            [
             0.8,
             "#7fbc41"
            ],
            [
             0.9,
             "#4d9221"
            ],
            [
             1,
             "#276419"
            ]
           ],
           "sequential": [
            [
             0,
             "#0d0887"
            ],
            [
             0.1111111111111111,
             "#46039f"
            ],
            [
             0.2222222222222222,
             "#7201a8"
            ],
            [
             0.3333333333333333,
             "#9c179e"
            ],
            [
             0.4444444444444444,
             "#bd3786"
            ],
            [
             0.5555555555555556,
             "#d8576b"
            ],
            [
             0.6666666666666666,
             "#ed7953"
            ],
            [
             0.7777777777777778,
             "#fb9f3a"
            ],
            [
             0.8888888888888888,
             "#fdca26"
            ],
            [
             1,
             "#f0f921"
            ]
           ],
           "sequentialminus": [
            [
             0,
             "#0d0887"
            ],
            [
             0.1111111111111111,
             "#46039f"
            ],
            [
             0.2222222222222222,
             "#7201a8"
            ],
            [
             0.3333333333333333,
             "#9c179e"
            ],
            [
             0.4444444444444444,
             "#bd3786"
            ],
            [
             0.5555555555555556,
             "#d8576b"
            ],
            [
             0.6666666666666666,
             "#ed7953"
            ],
            [
             0.7777777777777778,
             "#fb9f3a"
            ],
            [
             0.8888888888888888,
             "#fdca26"
            ],
            [
             1,
             "#f0f921"
            ]
           ]
          },
          "colorway": [
           "#636efa",
           "#EF553B",
           "#00cc96",
           "#ab63fa",
           "#FFA15A",
           "#19d3f3",
           "#FF6692",
           "#B6E880",
           "#FF97FF",
           "#FECB52"
          ],
          "font": {
           "color": "#2a3f5f"
          },
          "geo": {
           "bgcolor": "white",
           "lakecolor": "white",
           "landcolor": "#E5ECF6",
           "showlakes": true,
           "showland": true,
           "subunitcolor": "white"
          },
          "hoverlabel": {
           "align": "left"
          },
          "hovermode": "closest",
          "mapbox": {
           "style": "light"
          },
          "paper_bgcolor": "white",
          "plot_bgcolor": "#E5ECF6",
          "polar": {
           "angularaxis": {
            "gridcolor": "white",
            "linecolor": "white",
            "ticks": ""
           },
           "bgcolor": "#E5ECF6",
           "radialaxis": {
            "gridcolor": "white",
            "linecolor": "white",
            "ticks": ""
           }
          },
          "scene": {
           "xaxis": {
            "backgroundcolor": "#E5ECF6",
            "gridcolor": "white",
            "gridwidth": 2,
            "linecolor": "white",
            "showbackground": true,
            "ticks": "",
            "zerolinecolor": "white"
           },
           "yaxis": {
            "backgroundcolor": "#E5ECF6",
            "gridcolor": "white",
            "gridwidth": 2,
            "linecolor": "white",
            "showbackground": true,
            "ticks": "",
            "zerolinecolor": "white"
           },
           "zaxis": {
            "backgroundcolor": "#E5ECF6",
            "gridcolor": "white",
            "gridwidth": 2,
            "linecolor": "white",
            "showbackground": true,
            "ticks": "",
            "zerolinecolor": "white"
           }
          },
          "shapedefaults": {
           "line": {
            "color": "#2a3f5f"
           }
          },
          "ternary": {
           "aaxis": {
            "gridcolor": "white",
            "linecolor": "white",
            "ticks": ""
           },
           "baxis": {
            "gridcolor": "white",
            "linecolor": "white",
            "ticks": ""
           },
           "bgcolor": "#E5ECF6",
           "caxis": {
            "gridcolor": "white",
            "linecolor": "white",
            "ticks": ""
           }
          },
          "title": {
           "x": 0.05
          },
          "xaxis": {
           "automargin": true,
           "gridcolor": "white",
           "linecolor": "white",
           "ticks": "",
           "title": {
            "standoff": 15
           },
           "zerolinecolor": "white",
           "zerolinewidth": 2
          },
          "yaxis": {
           "automargin": true,
           "gridcolor": "white",
           "linecolor": "white",
           "ticks": "",
           "title": {
            "standoff": 15
           },
           "zerolinecolor": "white",
           "zerolinewidth": 2
          }
         }
        },
        "title": {
         "text": "Distribution of Pull Strength<br><sup>by Jerry Yu</sub>",
         "x": 0.5,
         "xanchor": "center",
         "yanchor": "top"
        },
        "xaxis": {
         "anchor": "y",
         "domain": [
          0,
          1
         ],
         "title": {
          "text": "Pull"
         }
        },
        "yaxis": {
         "anchor": "x",
         "domain": [
          0,
          1
         ],
         "title": {
          "text": "count"
         }
        }
       }
      }
     },
     "metadata": {},
     "output_type": "display_data"
    }
   ],
   "source": [
    "# Graph Pull\n",
    "pullhist = px.histogram(Chalk,x=\"Pull\",\n",
    "                        title = \"Distribution of Pull Strength\")\n",
    "pullhist.update_layout(\n",
    "    title = {\n",
    "        \"text\":\"Distribution of Pull Strength<br><sup>by Jerry Yu</sub>\",\n",
    "        \"x\":0.5,\n",
    "        \"xanchor\":\"center\",\n",
    "        \"yanchor\":\"top\"\n",
    "    }\n",
    ")\n",
    "pullhist.show()\n",
    "#right tail, might need normalization"
   ]
  },
  {
   "cell_type": "markdown",
   "metadata": {},
   "source": [
    "- Very significant right skew. This is a sign of nonnormality. "
   ]
  },
  {
   "cell_type": "code",
   "execution_count": 219,
   "metadata": {},
   "outputs": [
    {
     "data": {
      "application/vnd.plotly.v1+json": {
       "config": {
        "plotlyServerURL": "https://plot.ly"
       },
       "data": [
        {
         "hovertemplate": "Pinch=%{x}<br>Pull=%{y}<extra></extra>",
         "legendgroup": "",
         "marker": {
          "color": "#636efa",
          "symbol": "circle"
         },
         "mode": "markers",
         "name": "",
         "orientation": "v",
         "showlegend": false,
         "type": "scatter",
         "x": [
          4.202,
          4.117,
          4.154,
          4.088,
          4.088,
          4.086,
          1.099,
          1.319,
          1.198,
          3.124,
          2.808,
          3.077,
          4.088,
          4.223,
          4.125,
          4.888,
          5.356,
          4.838,
          2.086,
          2.054,
          2.08,
          5.989,
          6.064,
          5.883,
          4.483,
          4.088,
          4.528,
          5.233,
          5.382,
          5.1,
          1.284,
          1.322,
          1.408,
          3.938,
          3.298,
          3.238,
          5.105,
          5.372,
          5.201,
          5.587,
          5.055,
          4.991,
          5.898,
          5.899,
          5.881,
          1.176,
          1.292,
          1.044,
          3.121,
          3.289,
          2.966,
          4.104,
          4.18,
          4.453,
          4.212,
          4.349,
          3.792,
          1.167,
          1.018,
          1.018,
          6.039,
          7.126,
          6.407,
          5.492,
          5.703,
          5.342,
          6.309,
          5.813,
          6.138,
          1.093,
          1.188,
          1.036,
          2.597,
          2.419,
          2.058,
          1.949,
          1.908,
          2.209,
          3.36,
          3.326,
          2.999,
          3.886,
          4.549,
          4.078,
          5.96,
          5.5,
          6.198,
          5.289,
          5.472,
          5.066,
          3.129,
          2.847,
          3.072,
          6.683,
          6.046,
          5.699,
          1.275,
          1.135,
          1.288,
          2.188,
          1.998,
          1.997,
          2.129,
          2.179,
          1.952,
          3.762,
          3.399,
          3.316,
          2.347,
          2.129,
          2.104,
          6.221,
          6.262,
          6.878,
          3.572,
          3.189,
          3.258,
          5.061,
          5.334,
          4.947,
          1.198,
          1.098,
          1.303,
          4.047,
          4.096,
          4.116,
          2.998,
          3.089,
          3.088,
          2.342,
          2.078,
          2.217,
          1.098,
          1.054,
          1.141,
          2.061,
          2.078,
          1.983,
          5.738,
          5.692,
          6.088,
          4.989,
          4.294,
          4.288,
          2.198,
          2.101,
          2.192,
          4.158,
          4.389,
          4.388,
          1.002,
          0.938,
          1.088,
          5.309,
          5.069,
          5.22,
          6.007,
          6.038,
          6.308,
          5.16,
          4.887,
          5.108,
          3.053,
          2.83,
          2.899,
          6.498,
          6.602,
          6.225,
          6.398,
          5.969,
          5.608,
          7.243,
          7.389,
          6.914,
          2.098,
          2.198,
          2.278,
          6.091,
          5.988,
          6.074,
          1.278,
          1.238,
          1.068,
          3.946,
          4.473,
          3.938,
          3.915,
          4.057,
          3.99,
          4.304,
          4.239,
          4.224,
          6.033,
          5.337,
          4.987,
          1.157,
          1.073,
          1.097,
          2.288,
          2.234,
          2.169,
          4.889,
          4.582,
          4.718,
          2.829,
          3.138,
          3.191,
          5.587,
          5.934,
          7.216,
          4.766,
          3.788,
          4.012,
          3.546,
          3.148,
          2.798,
          5.928,
          6.093,
          5.843,
          3.564,
          3.055,
          4.039,
          1.034,
          1.037,
          1.019,
          2.098,
          2.048,
          2.033,
          3.638,
          3.889,
          3.762,
          5.492,
          5.447,
          5.139,
          2.006,
          2.088,
          2.023,
          1.988,
          2.049,
          2.114,
          1.082,
          1.093,
          0.979,
          4.072,
          4.208,
          4.196,
          2.096,
          2.015,
          2.022,
          3.08,
          3.1,
          3.098,
          3.218,
          3.363,
          3.388,
          1.085,
          1.053,
          0.947,
          1.217,
          1.1,
          1.176,
          4.149,
          4.162,
          4.449,
          2.139,
          2.022,
          2.019,
          6.309,
          6.009,
          6.087,
          5.66,
          5.291,
          4.898,
          3.013,
          3.176,
          3.315,
          3.218,
          3.044,
          3.306,
          5.581,
          5.039,
          4.893,
          1.309,
          1.463,
          1.19,
          5.29,
          5.038,
          5.275,
          6,
          5.859,
          6.143,
          4.919,
          4.909,
          5.048,
          2.194,
          2.199,
          2.065,
          3.22,
          3.214,
          3.215,
          2.351,
          2.096,
          2.206,
          4.387,
          4.095,
          4.247,
          2.218,
          2.138,
          2.079,
          3.247,
          3.152,
          3.253,
          5.998,
          5.993,
          6.048,
          4.997,
          4.589,
          5.384,
          1.219,
          1.308,
          1.249,
          3.211,
          3.458,
          3.187,
          4.446,
          4.258,
          4.172,
          3.209,
          3.284,
          2.88,
          1.042,
          1.221,
          1.033,
          2.29,
          1.96,
          2.059,
          4.793,
          4.767,
          4.958,
          6.087,
          6.636,
          5.872,
          1.149,
          0.989,
          1.059,
          4.496,
          4.491,
          4.019,
          3.648,
          3.189,
          3.573,
          1.089,
          1.102,
          1.02,
          6.493,
          5.989,
          5.998,
          6.685,
          6.172,
          6.276,
          1.207,
          1.063,
          1.184,
          5.287,
          4.886,
          4.949,
          6.935,
          6.741,
          6.158,
          3.988,
          4.123,
          4.333,
          5.061,
          5.191,
          5.094,
          2.178,
          2.089,
          2.183,
          1.97,
          2.188,
          2.048,
          5.267,
          5.326,
          5.636,
          1.038,
          1,
          1.192,
          3.209,
          3.138,
          3.406,
          5.783,
          6.108,
          5.898,
          2.413,
          2.199,
          2.28,
          1.033,
          1.082,
          1.048,
          4.109,
          3.899,
          4.251,
          4.988,
          4.964,
          5.069,
          1.523,
          1.238,
          1.369,
          5.189,
          5.086,
          5.098,
          4.088,
          3.898,
          3.859,
          2.868,
          2.898,
          3.092,
          5.999,
          5.966,
          6.031,
          4.332,
          4.089,
          3.988,
          3.098,
          2.892,
          3.21,
          4.106,
          3.838,
          4.188,
          2.298,
          1.898,
          2.183,
          3.048,
          2.888,
          2.688,
          1.289,
          1.389,
          1.208,
          2.089,
          2.008,
          2.133,
          5.336,
          5.599,
          5.579,
          2.208,
          2.098,
          2.08,
          4.282,
          4.094,
          3.899,
          3.322,
          3.092,
          3.298,
          6.558,
          6.199,
          6.343,
          1.196,
          1.36,
          1.198,
          4.888,
          4.979,
          5.217,
          2.098,
          1.983,
          2.207,
          5.998,
          6.203,
          6.387,
          5.972,
          5.666,
          5.869,
          2.041,
          2.22,
          2.212,
          3.292,
          3.088,
          3.088,
          1.139,
          1.098,
          1.231,
          1.147,
          1.115,
          1.279,
          0.988,
          1.219,
          0.972,
          5.097,
          4.964,
          4.787,
          1.268,
          1.061,
          1.279,
          2.077,
          1.992,
          2.164,
          2.217,
          2.187,
          1.898,
          4.463,
          4.066,
          3.676,
          3.077,
          3.161,
          3.186,
          4.06,
          3.962,
          4.099,
          4.28,
          4.335,
          4.388,
          2.947,
          3.278,
          3.298,
          5.744,
          5.826,
          6.173,
          3.276,
          3.127,
          3.326,
          6.168,
          6.75,
          6.096,
          1.359,
          1.1,
          1.081,
          2.381,
          2.442,
          2.075,
          4.996,
          4.988,
          4.979,
          5.978,
          6.124,
          6.493,
          1.311,
          1.218,
          1.446,
          4.153,
          4.088,
          4.304,
          2.992,
          3.31,
          3.338,
          3.103,
          3.155,
          3.048,
          4.24,
          4.979,
          4.612,
          6.888,
          6.32,
          6.549,
          6.028,
          6.484,
          6.203,
          4.877,
          4.938,
          5.168,
          5.026,
          4.899,
          5.306,
          2.015,
          2.372,
          2.625,
          4.083,
          4.143,
          4.252,
          4.288,
          3.91,
          4.38,
          5.117,
          5.098,
          4.878,
          5.198,
          5.624,
          5.274
         ],
         "xaxis": "x",
         "y": [
          34.6,
          31.9,
          31.9,
          41.1,
          44.5,
          45.7,
          7.2,
          9.5,
          8.5,
          30.6,
          26.1,
          27.5,
          44.6,
          37.5,
          40.1,
          45.1,
          49.1,
          44.2,
          23.5,
          22.6,
          25.4,
          63.9,
          61.7,
          76.3,
          40.5,
          38.7,
          42.7,
          41.5,
          42.5,
          44.5,
          8.4,
          8.3,
          9.5,
          35.5,
          26.4,
          27.1,
          50.6,
          43.6,
          41.7,
          51.7,
          39.1,
          47,
          56.5,
          52.6,
          49.6,
          5.7,
          7.4,
          6.5,
          29.4,
          33.8,
          23.6,
          42.5,
          43.7,
          46.5,
          46.2,
          56.5,
          47.5,
          12.7,
          9.1,
          11.4,
          74,
          83.3,
          75.1,
          77.5,
          68.5,
          67.5,
          55.4,
          46.3,
          48.5,
          8.8,
          12.5,
          10.7,
          24.2,
          25.1,
          19.6,
          14.8,
          15.7,
          17,
          38.1,
          37.9,
          38.4,
          36.5,
          36.1,
          35.5,
          51.6,
          46.4,
          47.1,
          39.6,
          39.7,
          37.1,
          35.1,
          33.7,
          31.7,
          51.1,
          53.3,
          46.5,
          3.6,
          5.3,
          5.2,
          23.7,
          24.5,
          25.5,
          19.4,
          21.1,
          18.7,
          45.3,
          46.6,
          35.4,
          15.4,
          14.6,
          16.7,
          71.1,
          81.5,
          89.2,
          25.1,
          22.6,
          22.4,
          61.6,
          70.5,
          67.1,
          6.1,
          5.3,
          9.1,
          49.2,
          47.6,
          44.6,
          21.5,
          25.1,
          26.6,
          17,
          12.5,
          18,
          7.5,
          5.1,
          8.5,
          13.9,
          15,
          12.2,
          54.1,
          61.1,
          64.3,
          45.7,
          29,
          34,
          15.4,
          14.7,
          15.1,
          36.4,
          42.8,
          46.3,
          8.9,
          11,
          7.2,
          36.2,
          45.7,
          47.6,
          71.5,
          75.2,
          64.3,
          69,
          65.4,
          54.4,
          30.7,
          32.1,
          31.4,
          52.7,
          55.7,
          47.6,
          51.1,
          55.5,
          50.7,
          70.7,
          75.4,
          66.3,
          13.6,
          13.2,
          13.6,
          66.7,
          74.1,
          69.5,
          7.1,
          7.7,
          4.2,
          34.2,
          37.6,
          29.3,
          35.4,
          37.4,
          35.7,
          52.7,
          43.2,
          46.6,
          61.8,
          47.3,
          46.6,
          6.2,
          5.4,
          4.9,
          14.2,
          14.2,
          15.1,
          51.5,
          55.3,
          56.7,
          34.1,
          36.3,
          30.1,
          59.3,
          54.1,
          64.7,
          49.3,
          30.5,
          35.5,
          26.6,
          24.5,
          19.2,
          52.2,
          45.2,
          46,
          27.4,
          26.6,
          44.6,
          4.4,
          3.2,
          7.1,
          16.7,
          14.2,
          16.4,
          42.5,
          46.7,
          44,
          44.4,
          47.2,
          45.1,
          17.2,
          16.5,
          17.2,
          20.9,
          25.5,
          26.1,
          5.4,
          8.3,
          6.2,
          28,
          31,
          27.2,
          15.5,
          16.3,
          15.7,
          25.7,
          26.1,
          25.4,
          24.4,
          24.8,
          31.8,
          2.5,
          5.7,
          5.7,
          10.6,
          11.5,
          10.5,
          23.5,
          27.2,
          31.1,
          25.7,
          21.5,
          22.2,
          55.9,
          50.5,
          51.7,
          39.1,
          37.9,
          35.6,
          34.1,
          37.3,
          36.5,
          25.9,
          27.3,
          24.1,
          48.1,
          35.4,
          35.5,
          7.1,
          9.1,
          7.7,
          35.5,
          28.3,
          33.7,
          65.5,
          73.3,
          77.3,
          51.4,
          54.9,
          52.6,
          8.9,
          14.4,
          13.5,
          22.1,
          28.2,
          29.4,
          10.4,
          6.6,
          12.2,
          30.1,
          33.5,
          34.9,
          17.7,
          15.3,
          17.1,
          19,
          19.2,
          26.1,
          44.7,
          50.7,
          47.5,
          44.7,
          41.1,
          51,
          5.5,
          8.1,
          6.7,
          22.4,
          26.2,
          22.2,
          37.7,
          33.6,
          33.6,
          31.4,
          33.5,
          34.4,
          5.1,
          7.1,
          6.4,
          13.8,
          14.3,
          15.6,
          37.1,
          36.4,
          40.5,
          53.2,
          57.4,
          54.6,
          3.3,
          3.2,
          3.2,
          35.7,
          42.5,
          37.1,
          37.4,
          29.7,
          35.2,
          10.7,
          10.7,
          9.2,
          56.7,
          57.7,
          60.7,
          61.2,
          59.6,
          67.4,
          11.2,
          11.1,
          11,
          35.3,
          33.5,
          28.9,
          52.5,
          57.2,
          47.9,
          34,
          25.4,
          25.9,
          42.2,
          35.2,
          32.2,
          12.2,
          19.6,
          20,
          24.6,
          17.5,
          15.2,
          35.1,
          33.5,
          31.2,
          3.7,
          5.7,
          7.5,
          26.7,
          30.2,
          28.1,
          44.5,
          46.1,
          44.7,
          15.5,
          16.5,
          17.8,
          1.5,
          2.7,
          5.8,
          24.2,
          20.5,
          25.2,
          45.1,
          54.5,
          50.1,
          7,
          7.4,
          8.4,
          30.9,
          30.3,
          28.7,
          34.6,
          35.7,
          33.7,
          33.3,
          31.1,
          32.7,
          32.3,
          39.2,
          31.7,
          39.5,
          41.5,
          32.6,
          15.7,
          15.5,
          17.7,
          35.9,
          34.2,
          36.6,
          14.4,
          15.7,
          19.7,
          22.7,
          16.8,
          22.5,
          7.9,
          9.3,
          10,
          13.5,
          14.5,
          16,
          55.5,
          65.1,
          54.5,
          11.1,
          9.4,
          12.7,
          37,
          34.5,
          41.6,
          29.4,
          22.3,
          27.3,
          46.1,
          36.7,
          37.2,
          6.2,
          7.4,
          6.2,
          31.9,
          35.4,
          39.6,
          18.7,
          15.2,
          17.1,
          50.9,
          57.3,
          57.7,
          47.9,
          45.7,
          51.5,
          14,
          17.4,
          22.2,
          22.3,
          21.1,
          23.5,
          11.4,
          10.3,
          10.5,
          4.7,
          2.4,
          5.1,
          3.1,
          5,
          5.7,
          59,
          59.1,
          55.3,
          9.7,
          7.6,
          6.6,
          13.6,
          15.3,
          17.4,
          8.9,
          8.1,
          9.4,
          49.6,
          57.7,
          55.4,
          9.7,
          16.5,
          14.4,
          27.4,
          25.1,
          29.2,
          27.7,
          28.6,
          27.1,
          42.7,
          39.5,
          43.1,
          71.5,
          82.3,
          77.2,
          35.3,
          42.8,
          44.3,
          51.9,
          55.7,
          48.7,
          3.5,
          2.5,
          2.2,
          17.7,
          21.6,
          15.7,
          31.2,
          25.2,
          23.4,
          43.1,
          41.2,
          46.7,
          7.6,
          3.4,
          7.5,
          25.3,
          30.6,
          25.2,
          16,
          14.7,
          22.7,
          24.1,
          21.4,
          22.7,
          42.5,
          64.5,
          57.7,
          82,
          70.1,
          71.3,
          57.5,
          64.1,
          63.1,
          30.4,
          30.7,
          31.1,
          49.5,
          45.1,
          45,
          21.2,
          25.4,
          29.6,
          25.3,
          24.7,
          25.1,
          27.1,
          23.6,
          24.4,
          51.2,
          45.3,
          45.4,
          31.4,
          32.8,
          31.1
         ],
         "yaxis": "y"
        }
       ],
       "layout": {
        "legend": {
         "tracegroupgap": 0
        },
        "template": {
         "data": {
          "bar": [
           {
            "error_x": {
             "color": "#2a3f5f"
            },
            "error_y": {
             "color": "#2a3f5f"
            },
            "marker": {
             "line": {
              "color": "#E5ECF6",
              "width": 0.5
             },
             "pattern": {
              "fillmode": "overlay",
              "size": 10,
              "solidity": 0.2
             }
            },
            "type": "bar"
           }
          ],
          "barpolar": [
           {
            "marker": {
             "line": {
              "color": "#E5ECF6",
              "width": 0.5
             },
             "pattern": {
              "fillmode": "overlay",
              "size": 10,
              "solidity": 0.2
             }
            },
            "type": "barpolar"
           }
          ],
          "carpet": [
           {
            "aaxis": {
             "endlinecolor": "#2a3f5f",
             "gridcolor": "white",
             "linecolor": "white",
             "minorgridcolor": "white",
             "startlinecolor": "#2a3f5f"
            },
            "baxis": {
             "endlinecolor": "#2a3f5f",
             "gridcolor": "white",
             "linecolor": "white",
             "minorgridcolor": "white",
             "startlinecolor": "#2a3f5f"
            },
            "type": "carpet"
           }
          ],
          "choropleth": [
           {
            "colorbar": {
             "outlinewidth": 0,
             "ticks": ""
            },
            "type": "choropleth"
           }
          ],
          "contour": [
           {
            "colorbar": {
             "outlinewidth": 0,
             "ticks": ""
            },
            "colorscale": [
             [
              0,
              "#0d0887"
             ],
             [
              0.1111111111111111,
              "#46039f"
             ],
             [
              0.2222222222222222,
              "#7201a8"
             ],
             [
              0.3333333333333333,
              "#9c179e"
             ],
             [
              0.4444444444444444,
              "#bd3786"
             ],
             [
              0.5555555555555556,
              "#d8576b"
             ],
             [
              0.6666666666666666,
              "#ed7953"
             ],
             [
              0.7777777777777778,
              "#fb9f3a"
             ],
             [
              0.8888888888888888,
              "#fdca26"
             ],
             [
              1,
              "#f0f921"
             ]
            ],
            "type": "contour"
           }
          ],
          "contourcarpet": [
           {
            "colorbar": {
             "outlinewidth": 0,
             "ticks": ""
            },
            "type": "contourcarpet"
           }
          ],
          "heatmap": [
           {
            "colorbar": {
             "outlinewidth": 0,
             "ticks": ""
            },
            "colorscale": [
             [
              0,
              "#0d0887"
             ],
             [
              0.1111111111111111,
              "#46039f"
             ],
             [
              0.2222222222222222,
              "#7201a8"
             ],
             [
              0.3333333333333333,
              "#9c179e"
             ],
             [
              0.4444444444444444,
              "#bd3786"
             ],
             [
              0.5555555555555556,
              "#d8576b"
             ],
             [
              0.6666666666666666,
              "#ed7953"
             ],
             [
              0.7777777777777778,
              "#fb9f3a"
             ],
             [
              0.8888888888888888,
              "#fdca26"
             ],
             [
              1,
              "#f0f921"
             ]
            ],
            "type": "heatmap"
           }
          ],
          "heatmapgl": [
           {
            "colorbar": {
             "outlinewidth": 0,
             "ticks": ""
            },
            "colorscale": [
             [
              0,
              "#0d0887"
             ],
             [
              0.1111111111111111,
              "#46039f"
             ],
             [
              0.2222222222222222,
              "#7201a8"
             ],
             [
              0.3333333333333333,
              "#9c179e"
             ],
             [
              0.4444444444444444,
              "#bd3786"
             ],
             [
              0.5555555555555556,
              "#d8576b"
             ],
             [
              0.6666666666666666,
              "#ed7953"
             ],
             [
              0.7777777777777778,
              "#fb9f3a"
             ],
             [
              0.8888888888888888,
              "#fdca26"
             ],
             [
              1,
              "#f0f921"
             ]
            ],
            "type": "heatmapgl"
           }
          ],
          "histogram": [
           {
            "marker": {
             "pattern": {
              "fillmode": "overlay",
              "size": 10,
              "solidity": 0.2
             }
            },
            "type": "histogram"
           }
          ],
          "histogram2d": [
           {
            "colorbar": {
             "outlinewidth": 0,
             "ticks": ""
            },
            "colorscale": [
             [
              0,
              "#0d0887"
             ],
             [
              0.1111111111111111,
              "#46039f"
             ],
             [
              0.2222222222222222,
              "#7201a8"
             ],
             [
              0.3333333333333333,
              "#9c179e"
             ],
             [
              0.4444444444444444,
              "#bd3786"
             ],
             [
              0.5555555555555556,
              "#d8576b"
             ],
             [
              0.6666666666666666,
              "#ed7953"
             ],
             [
              0.7777777777777778,
              "#fb9f3a"
             ],
             [
              0.8888888888888888,
              "#fdca26"
             ],
             [
              1,
              "#f0f921"
             ]
            ],
            "type": "histogram2d"
           }
          ],
          "histogram2dcontour": [
           {
            "colorbar": {
             "outlinewidth": 0,
             "ticks": ""
            },
            "colorscale": [
             [
              0,
              "#0d0887"
             ],
             [
              0.1111111111111111,
              "#46039f"
             ],
             [
              0.2222222222222222,
              "#7201a8"
             ],
             [
              0.3333333333333333,
              "#9c179e"
             ],
             [
              0.4444444444444444,
              "#bd3786"
             ],
             [
              0.5555555555555556,
              "#d8576b"
             ],
             [
              0.6666666666666666,
              "#ed7953"
             ],
             [
              0.7777777777777778,
              "#fb9f3a"
             ],
             [
              0.8888888888888888,
              "#fdca26"
             ],
             [
              1,
              "#f0f921"
             ]
            ],
            "type": "histogram2dcontour"
           }
          ],
          "mesh3d": [
           {
            "colorbar": {
             "outlinewidth": 0,
             "ticks": ""
            },
            "type": "mesh3d"
           }
          ],
          "parcoords": [
           {
            "line": {
             "colorbar": {
              "outlinewidth": 0,
              "ticks": ""
             }
            },
            "type": "parcoords"
           }
          ],
          "pie": [
           {
            "automargin": true,
            "type": "pie"
           }
          ],
          "scatter": [
           {
            "fillpattern": {
             "fillmode": "overlay",
             "size": 10,
             "solidity": 0.2
            },
            "type": "scatter"
           }
          ],
          "scatter3d": [
           {
            "line": {
             "colorbar": {
              "outlinewidth": 0,
              "ticks": ""
             }
            },
            "marker": {
             "colorbar": {
              "outlinewidth": 0,
              "ticks": ""
             }
            },
            "type": "scatter3d"
           }
          ],
          "scattercarpet": [
           {
            "marker": {
             "colorbar": {
              "outlinewidth": 0,
              "ticks": ""
             }
            },
            "type": "scattercarpet"
           }
          ],
          "scattergeo": [
           {
            "marker": {
             "colorbar": {
              "outlinewidth": 0,
              "ticks": ""
             }
            },
            "type": "scattergeo"
           }
          ],
          "scattergl": [
           {
            "marker": {
             "colorbar": {
              "outlinewidth": 0,
              "ticks": ""
             }
            },
            "type": "scattergl"
           }
          ],
          "scattermapbox": [
           {
            "marker": {
             "colorbar": {
              "outlinewidth": 0,
              "ticks": ""
             }
            },
            "type": "scattermapbox"
           }
          ],
          "scatterpolar": [
           {
            "marker": {
             "colorbar": {
              "outlinewidth": 0,
              "ticks": ""
             }
            },
            "type": "scatterpolar"
           }
          ],
          "scatterpolargl": [
           {
            "marker": {
             "colorbar": {
              "outlinewidth": 0,
              "ticks": ""
             }
            },
            "type": "scatterpolargl"
           }
          ],
          "scatterternary": [
           {
            "marker": {
             "colorbar": {
              "outlinewidth": 0,
              "ticks": ""
             }
            },
            "type": "scatterternary"
           }
          ],
          "surface": [
           {
            "colorbar": {
             "outlinewidth": 0,
             "ticks": ""
            },
            "colorscale": [
             [
              0,
              "#0d0887"
             ],
             [
              0.1111111111111111,
              "#46039f"
             ],
             [
              0.2222222222222222,
              "#7201a8"
             ],
             [
              0.3333333333333333,
              "#9c179e"
             ],
             [
              0.4444444444444444,
              "#bd3786"
             ],
             [
              0.5555555555555556,
              "#d8576b"
             ],
             [
              0.6666666666666666,
              "#ed7953"
             ],
             [
              0.7777777777777778,
              "#fb9f3a"
             ],
             [
              0.8888888888888888,
              "#fdca26"
             ],
             [
              1,
              "#f0f921"
             ]
            ],
            "type": "surface"
           }
          ],
          "table": [
           {
            "cells": {
             "fill": {
              "color": "#EBF0F8"
             },
             "line": {
              "color": "white"
             }
            },
            "header": {
             "fill": {
              "color": "#C8D4E3"
             },
             "line": {
              "color": "white"
             }
            },
            "type": "table"
           }
          ]
         },
         "layout": {
          "annotationdefaults": {
           "arrowcolor": "#2a3f5f",
           "arrowhead": 0,
           "arrowwidth": 1
          },
          "autotypenumbers": "strict",
          "coloraxis": {
           "colorbar": {
            "outlinewidth": 0,
            "ticks": ""
           }
          },
          "colorscale": {
           "diverging": [
            [
             0,
             "#8e0152"
            ],
            [
             0.1,
             "#c51b7d"
            ],
            [
             0.2,
             "#de77ae"
            ],
            [
             0.3,
             "#f1b6da"
            ],
            [
             0.4,
             "#fde0ef"
            ],
            [
             0.5,
             "#f7f7f7"
            ],
            [
             0.6,
             "#e6f5d0"
            ],
            [
             0.7,
             "#b8e186"
            ],
            [
             0.8,
             "#7fbc41"
            ],
            [
             0.9,
             "#4d9221"
            ],
            [
             1,
             "#276419"
            ]
           ],
           "sequential": [
            [
             0,
             "#0d0887"
            ],
            [
             0.1111111111111111,
             "#46039f"
            ],
            [
             0.2222222222222222,
             "#7201a8"
            ],
            [
             0.3333333333333333,
             "#9c179e"
            ],
            [
             0.4444444444444444,
             "#bd3786"
            ],
            [
             0.5555555555555556,
             "#d8576b"
            ],
            [
             0.6666666666666666,
             "#ed7953"
            ],
            [
             0.7777777777777778,
             "#fb9f3a"
            ],
            [
             0.8888888888888888,
             "#fdca26"
            ],
            [
             1,
             "#f0f921"
            ]
           ],
           "sequentialminus": [
            [
             0,
             "#0d0887"
            ],
            [
             0.1111111111111111,
             "#46039f"
            ],
            [
             0.2222222222222222,
             "#7201a8"
            ],
            [
             0.3333333333333333,
             "#9c179e"
            ],
            [
             0.4444444444444444,
             "#bd3786"
            ],
            [
             0.5555555555555556,
             "#d8576b"
            ],
            [
             0.6666666666666666,
             "#ed7953"
            ],
            [
             0.7777777777777778,
             "#fb9f3a"
            ],
            [
             0.8888888888888888,
             "#fdca26"
            ],
            [
             1,
             "#f0f921"
            ]
           ]
          },
          "colorway": [
           "#636efa",
           "#EF553B",
           "#00cc96",
           "#ab63fa",
           "#FFA15A",
           "#19d3f3",
           "#FF6692",
           "#B6E880",
           "#FF97FF",
           "#FECB52"
          ],
          "font": {
           "color": "#2a3f5f"
          },
          "geo": {
           "bgcolor": "white",
           "lakecolor": "white",
           "landcolor": "#E5ECF6",
           "showlakes": true,
           "showland": true,
           "subunitcolor": "white"
          },
          "hoverlabel": {
           "align": "left"
          },
          "hovermode": "closest",
          "mapbox": {
           "style": "light"
          },
          "paper_bgcolor": "white",
          "plot_bgcolor": "#E5ECF6",
          "polar": {
           "angularaxis": {
            "gridcolor": "white",
            "linecolor": "white",
            "ticks": ""
           },
           "bgcolor": "#E5ECF6",
           "radialaxis": {
            "gridcolor": "white",
            "linecolor": "white",
            "ticks": ""
           }
          },
          "scene": {
           "xaxis": {
            "backgroundcolor": "#E5ECF6",
            "gridcolor": "white",
            "gridwidth": 2,
            "linecolor": "white",
            "showbackground": true,
            "ticks": "",
            "zerolinecolor": "white"
           },
           "yaxis": {
            "backgroundcolor": "#E5ECF6",
            "gridcolor": "white",
            "gridwidth": 2,
            "linecolor": "white",
            "showbackground": true,
            "ticks": "",
            "zerolinecolor": "white"
           },
           "zaxis": {
            "backgroundcolor": "#E5ECF6",
            "gridcolor": "white",
            "gridwidth": 2,
            "linecolor": "white",
            "showbackground": true,
            "ticks": "",
            "zerolinecolor": "white"
           }
          },
          "shapedefaults": {
           "line": {
            "color": "#2a3f5f"
           }
          },
          "ternary": {
           "aaxis": {
            "gridcolor": "white",
            "linecolor": "white",
            "ticks": ""
           },
           "baxis": {
            "gridcolor": "white",
            "linecolor": "white",
            "ticks": ""
           },
           "bgcolor": "#E5ECF6",
           "caxis": {
            "gridcolor": "white",
            "linecolor": "white",
            "ticks": ""
           }
          },
          "title": {
           "x": 0.05
          },
          "xaxis": {
           "automargin": true,
           "gridcolor": "white",
           "linecolor": "white",
           "ticks": "",
           "title": {
            "standoff": 15
           },
           "zerolinecolor": "white",
           "zerolinewidth": 2
          },
          "yaxis": {
           "automargin": true,
           "gridcolor": "white",
           "linecolor": "white",
           "ticks": "",
           "title": {
            "standoff": 15
           },
           "zerolinecolor": "white",
           "zerolinewidth": 2
          }
         }
        },
        "title": {
         "text": "Kilograms Pulled by pinch Strength<br><sup>by Jerry Yu</sub>",
         "x": 0.5,
         "xanchor": "center",
         "yanchor": "top"
        },
        "xaxis": {
         "anchor": "y",
         "domain": [
          0,
          1
         ],
         "title": {
          "text": "Pinch"
         }
        },
        "yaxis": {
         "anchor": "x",
         "domain": [
          0,
          1
         ],
         "title": {
          "text": "Pull"
         }
        }
       }
      }
     },
     "metadata": {},
     "output_type": "display_data"
    }
   ],
   "source": [
    "# Now Graph Relation Between Pinch and Pull\n",
    "pinchpull = px.scatter(Chalk, x = \"Pinch\", y = \"Pull\",title = \"Kilograms Pulled by pinch Strength\")\n",
    "pinchpull.update_layout(\n",
    "    title = {\n",
    "        \"text\":\"Kilograms Pulled by pinch Strength<br><sup>by Jerry Yu</sub>\",\n",
    "        \"x\":0.5,\n",
    "        \"xanchor\":\"center\",\n",
    "        \"yanchor\":\"top\"\n",
    "    }\n",
    ")\n",
    "pinchpull.show()\n",
    "\n",
    "#nice and Linear, but maybe not homoscedastic"
   ]
  },
  {
   "cell_type": "markdown",
   "metadata": {},
   "source": [
    "- This shows a mostly linear relationship by very homoscedastic data. "
   ]
  },
  {
   "cell_type": "markdown",
   "metadata": {},
   "source": [
    "Now we will split this relationship by some of the categorical variables to evaluate impact. "
   ]
  },
  {
   "cell_type": "code",
   "execution_count": 220,
   "metadata": {},
   "outputs": [
    {
     "data": {
      "application/vnd.plotly.v1+json": {
       "config": {
        "plotlyServerURL": "https://plot.ly"
       },
       "data": [
        {
         "hovertemplate": "Chalk=None<br>Pinch=%{x}<br>Pull=%{y}<extra></extra>",
         "legendgroup": "None",
         "marker": {
          "color": "#636efa",
          "symbol": "circle"
         },
         "mode": "markers",
         "name": "None",
         "orientation": "v",
         "showlegend": true,
         "type": "scatter",
         "x": [
          4.202,
          4.117,
          4.154,
          5.233,
          5.382,
          5.1,
          1.284,
          1.322,
          1.408,
          3.938,
          3.298,
          3.238,
          5.105,
          5.372,
          5.201,
          5.587,
          5.055,
          4.991,
          5.898,
          5.899,
          5.881,
          3.121,
          3.289,
          2.966,
          4.212,
          4.349,
          3.792,
          6.309,
          5.813,
          6.138,
          2.597,
          2.419,
          2.058,
          1.949,
          1.908,
          2.209,
          3.886,
          4.549,
          4.078,
          5.96,
          5.5,
          6.198,
          5.289,
          5.472,
          5.066,
          6.683,
          6.046,
          5.699,
          1.275,
          1.135,
          1.288,
          2.347,
          2.129,
          2.104,
          3.572,
          3.189,
          3.258,
          1.198,
          1.098,
          1.303,
          2.998,
          3.089,
          3.088,
          2.342,
          2.078,
          2.217,
          1.098,
          1.054,
          1.141,
          4.989,
          4.294,
          4.288,
          2.198,
          2.101,
          2.192,
          5.309,
          5.069,
          5.22,
          3.053,
          2.83,
          2.899,
          6.498,
          6.602,
          6.225,
          6.398,
          5.969,
          5.608,
          2.098,
          2.198,
          2.278,
          1.278,
          1.238,
          1.068,
          3.946,
          4.473,
          3.938,
          3.915,
          4.057,
          3.99,
          2.288,
          2.234,
          2.169,
          3.546,
          3.148,
          2.798,
          5.928,
          6.093,
          5.843,
          3.564,
          3.055,
          4.039,
          1.034,
          1.037,
          1.019,
          2.098,
          2.048,
          2.033,
          5.492,
          5.447,
          5.139,
          4.072,
          4.208,
          4.196,
          1.085,
          1.053,
          0.947,
          4.149,
          4.162,
          4.449,
          6.309,
          6.009,
          6.087,
          5.66,
          5.291,
          4.898,
          3.218,
          3.044,
          3.306,
          1.309,
          1.463,
          1.19,
          5.29,
          5.038,
          5.275,
          2.194,
          2.199,
          2.065,
          2.351,
          2.096,
          2.206,
          3.247,
          3.152,
          3.253,
          5.998,
          5.993,
          6.048,
          1.219,
          1.308,
          1.249,
          3.211,
          3.458,
          3.187,
          4.446,
          4.258,
          4.172,
          2.29,
          1.96,
          2.059,
          4.793,
          4.767,
          4.958,
          1.149,
          0.989,
          1.059,
          5.287,
          4.886,
          4.949,
          6.935,
          6.741,
          6.158,
          3.988,
          4.123,
          4.333,
          5.267,
          5.326,
          5.636,
          3.209,
          3.138,
          3.406,
          5.783,
          6.108,
          5.898,
          2.413,
          2.199,
          2.28,
          1.033,
          1.082,
          1.048,
          4.109,
          3.899,
          4.251,
          1.523,
          1.238,
          1.369,
          5.189,
          5.086,
          5.098,
          4.088,
          3.898,
          3.859,
          5.999,
          5.966,
          6.031,
          3.098,
          2.892,
          3.21,
          1.289,
          1.389,
          1.208,
          2.089,
          2.008,
          2.133,
          2.208,
          2.098,
          2.08,
          3.322,
          3.092,
          3.298,
          6.558,
          6.199,
          6.343,
          1.196,
          1.36,
          1.198,
          4.888,
          4.979,
          5.217,
          2.098,
          1.983,
          2.207,
          5.972,
          5.666,
          5.869,
          3.292,
          3.088,
          3.088,
          2.217,
          2.187,
          1.898,
          3.077,
          3.161,
          3.186,
          4.28,
          4.335,
          4.388,
          6.168,
          6.75,
          6.096,
          1.359,
          1.1,
          1.081,
          4.996,
          4.988,
          4.979,
          5.978,
          6.124,
          6.493,
          1.311,
          1.218,
          1.446,
          4.153,
          4.088,
          4.304,
          2.992,
          3.31,
          3.338,
          4.877,
          4.938,
          5.168,
          4.083,
          4.143,
          4.252,
          4.288,
          3.91,
          4.38,
          5.198,
          5.624,
          5.274
         ],
         "xaxis": "x",
         "y": [
          34.6,
          31.9,
          31.9,
          41.5,
          42.5,
          44.5,
          8.4,
          8.3,
          9.5,
          35.5,
          26.4,
          27.1,
          50.6,
          43.6,
          41.7,
          51.7,
          39.1,
          47,
          56.5,
          52.6,
          49.6,
          29.4,
          33.8,
          23.6,
          46.2,
          56.5,
          47.5,
          55.4,
          46.3,
          48.5,
          24.2,
          25.1,
          19.6,
          14.8,
          15.7,
          17,
          36.5,
          36.1,
          35.5,
          51.6,
          46.4,
          47.1,
          39.6,
          39.7,
          37.1,
          51.1,
          53.3,
          46.5,
          3.6,
          5.3,
          5.2,
          15.4,
          14.6,
          16.7,
          25.1,
          22.6,
          22.4,
          6.1,
          5.3,
          9.1,
          21.5,
          25.1,
          26.6,
          17,
          12.5,
          18,
          7.5,
          5.1,
          8.5,
          45.7,
          29,
          34,
          15.4,
          14.7,
          15.1,
          36.2,
          45.7,
          47.6,
          30.7,
          32.1,
          31.4,
          52.7,
          55.7,
          47.6,
          51.1,
          55.5,
          50.7,
          13.6,
          13.2,
          13.6,
          7.1,
          7.7,
          4.2,
          34.2,
          37.6,
          29.3,
          35.4,
          37.4,
          35.7,
          14.2,
          14.2,
          15.1,
          26.6,
          24.5,
          19.2,
          52.2,
          45.2,
          46,
          27.4,
          26.6,
          44.6,
          4.4,
          3.2,
          7.1,
          16.7,
          14.2,
          16.4,
          44.4,
          47.2,
          45.1,
          28,
          31,
          27.2,
          2.5,
          5.7,
          5.7,
          23.5,
          27.2,
          31.1,
          55.9,
          50.5,
          51.7,
          39.1,
          37.9,
          35.6,
          25.9,
          27.3,
          24.1,
          7.1,
          9.1,
          7.7,
          35.5,
          28.3,
          33.7,
          8.9,
          14.4,
          13.5,
          10.4,
          6.6,
          12.2,
          19,
          19.2,
          26.1,
          44.7,
          50.7,
          47.5,
          5.5,
          8.1,
          6.7,
          22.4,
          26.2,
          22.2,
          37.7,
          33.6,
          33.6,
          13.8,
          14.3,
          15.6,
          37.1,
          36.4,
          40.5,
          3.3,
          3.2,
          3.2,
          35.3,
          33.5,
          28.9,
          52.5,
          57.2,
          47.9,
          34,
          25.4,
          25.9,
          35.1,
          33.5,
          31.2,
          26.7,
          30.2,
          28.1,
          44.5,
          46.1,
          44.7,
          15.5,
          16.5,
          17.8,
          1.5,
          2.7,
          5.8,
          24.2,
          20.5,
          25.2,
          7,
          7.4,
          8.4,
          30.9,
          30.3,
          28.7,
          34.6,
          35.7,
          33.7,
          32.3,
          39.2,
          31.7,
          15.7,
          15.5,
          17.7,
          7.9,
          9.3,
          10,
          13.5,
          14.5,
          16,
          11.1,
          9.4,
          12.7,
          29.4,
          22.3,
          27.3,
          46.1,
          36.7,
          37.2,
          6.2,
          7.4,
          6.2,
          31.9,
          35.4,
          39.6,
          18.7,
          15.2,
          17.1,
          47.9,
          45.7,
          51.5,
          22.3,
          21.1,
          23.5,
          8.9,
          8.1,
          9.4,
          9.7,
          16.5,
          14.4,
          27.7,
          28.6,
          27.1,
          51.9,
          55.7,
          48.7,
          3.5,
          2.5,
          2.2,
          31.2,
          25.2,
          23.4,
          43.1,
          41.2,
          46.7,
          7.6,
          3.4,
          7.5,
          25.3,
          30.6,
          25.2,
          16,
          14.7,
          22.7,
          30.4,
          30.7,
          31.1,
          25.3,
          24.7,
          25.1,
          27.1,
          23.6,
          24.4,
          31.4,
          32.8,
          31.1
         ],
         "yaxis": "y"
        },
        {
         "hovertemplate": "Chalk=FL<br>Pinch=%{x}<br>Pull=%{y}<extra></extra>",
         "legendgroup": "FL",
         "marker": {
          "color": "#EF553B",
          "symbol": "circle"
         },
         "mode": "markers",
         "name": "FL",
         "orientation": "v",
         "showlegend": true,
         "type": "scatter",
         "x": [
          4.088,
          4.088,
          4.086,
          1.099,
          1.319,
          1.198,
          3.124,
          2.808,
          3.077,
          4.088,
          4.223,
          4.125,
          4.888,
          5.356,
          4.838,
          2.086,
          2.054,
          2.08,
          5.989,
          6.064,
          5.883,
          4.483,
          4.088,
          4.528,
          1.176,
          1.292,
          1.044,
          4.104,
          4.18,
          4.453,
          1.167,
          1.018,
          1.018,
          6.039,
          7.126,
          6.407,
          5.492,
          5.703,
          5.342,
          1.093,
          1.188,
          1.036,
          3.36,
          3.326,
          2.999,
          3.129,
          2.847,
          3.072,
          2.188,
          1.998,
          1.997,
          2.129,
          2.179,
          1.952,
          3.762,
          3.399,
          3.316,
          6.221,
          6.262,
          6.878,
          5.061,
          5.334,
          4.947,
          4.047,
          4.096,
          4.116,
          2.061,
          2.078,
          1.983,
          5.738,
          5.692,
          6.088
         ],
         "xaxis": "x",
         "y": [
          41.1,
          44.5,
          45.7,
          7.2,
          9.5,
          8.5,
          30.6,
          26.1,
          27.5,
          44.6,
          37.5,
          40.1,
          45.1,
          49.1,
          44.2,
          23.5,
          22.6,
          25.4,
          63.9,
          61.7,
          76.3,
          40.5,
          38.7,
          42.7,
          5.7,
          7.4,
          6.5,
          42.5,
          43.7,
          46.5,
          12.7,
          9.1,
          11.4,
          74,
          83.3,
          75.1,
          77.5,
          68.5,
          67.5,
          8.8,
          12.5,
          10.7,
          38.1,
          37.9,
          38.4,
          35.1,
          33.7,
          31.7,
          23.7,
          24.5,
          25.5,
          19.4,
          21.1,
          18.7,
          45.3,
          46.6,
          35.4,
          71.1,
          81.5,
          89.2,
          61.6,
          70.5,
          67.1,
          49.2,
          47.6,
          44.6,
          13.9,
          15,
          12.2,
          54.1,
          61.1,
          64.3
         ],
         "yaxis": "y"
        },
        {
         "hovertemplate": "Chalk=Metolius<br>Pinch=%{x}<br>Pull=%{y}<extra></extra>",
         "legendgroup": "Metolius",
         "marker": {
          "color": "#00cc96",
          "symbol": "circle"
         },
         "mode": "markers",
         "name": "Metolius",
         "orientation": "v",
         "showlegend": true,
         "type": "scatter",
         "x": [
          4.158,
          4.389,
          4.388,
          1.002,
          0.938,
          1.088,
          6.007,
          6.038,
          6.308,
          5.16,
          4.887,
          5.108,
          7.243,
          7.389,
          6.914,
          6.091,
          5.988,
          6.074,
          4.304,
          4.239,
          4.224,
          6.033,
          5.337,
          4.987,
          1.157,
          1.073,
          1.097,
          4.889,
          4.582,
          4.718,
          2.829,
          3.138,
          3.191,
          5.587,
          5.934,
          7.216,
          4.766,
          3.788,
          4.012,
          3.638,
          3.889,
          3.762,
          2.006,
          2.088,
          2.023,
          1.988,
          2.049,
          2.114,
          1.082,
          1.093,
          0.979,
          2.096,
          2.015,
          2.022,
          3.08,
          3.1,
          3.098,
          3.218,
          3.363,
          3.388,
          1.217,
          1.1,
          1.176,
          2.139,
          2.022,
          2.019,
          3.013,
          3.176,
          3.315,
          5.581,
          5.039,
          4.893
         ],
         "xaxis": "x",
         "y": [
          36.4,
          42.8,
          46.3,
          8.9,
          11,
          7.2,
          71.5,
          75.2,
          64.3,
          69,
          65.4,
          54.4,
          70.7,
          75.4,
          66.3,
          66.7,
          74.1,
          69.5,
          52.7,
          43.2,
          46.6,
          61.8,
          47.3,
          46.6,
          6.2,
          5.4,
          4.9,
          51.5,
          55.3,
          56.7,
          34.1,
          36.3,
          30.1,
          59.3,
          54.1,
          64.7,
          49.3,
          30.5,
          35.5,
          42.5,
          46.7,
          44,
          17.2,
          16.5,
          17.2,
          20.9,
          25.5,
          26.1,
          5.4,
          8.3,
          6.2,
          15.5,
          16.3,
          15.7,
          25.7,
          26.1,
          25.4,
          24.4,
          24.8,
          31.8,
          10.6,
          11.5,
          10.5,
          25.7,
          21.5,
          22.2,
          34.1,
          37.3,
          36.5,
          48.1,
          35.4,
          35.5
         ],
         "yaxis": "y"
        },
        {
         "hovertemplate": "Chalk=Magdust<br>Pinch=%{x}<br>Pull=%{y}<extra></extra>",
         "legendgroup": "Magdust",
         "marker": {
          "color": "#ab63fa",
          "symbol": "circle"
         },
         "mode": "markers",
         "name": "Magdust",
         "orientation": "v",
         "showlegend": true,
         "type": "scatter",
         "x": [
          6,
          5.859,
          6.143,
          4.919,
          4.909,
          5.048,
          3.22,
          3.214,
          3.215,
          4.387,
          4.095,
          4.247,
          2.218,
          2.138,
          2.079,
          4.997,
          4.589,
          5.384,
          3.209,
          3.284,
          2.88,
          1.042,
          1.221,
          1.033,
          6.087,
          6.636,
          5.872,
          4.496,
          4.491,
          4.019,
          3.648,
          3.189,
          3.573,
          1.089,
          1.102,
          1.02,
          6.493,
          5.989,
          5.998,
          6.685,
          6.172,
          6.276,
          1.207,
          1.063,
          1.184,
          5.061,
          5.191,
          5.094,
          2.178,
          2.089,
          2.183,
          1.97,
          2.188,
          2.048,
          1.038,
          1,
          1.192,
          4.988,
          4.964,
          5.069,
          2.868,
          2.898,
          3.092,
          4.332,
          4.089,
          3.988,
          4.106,
          3.838,
          4.188,
          2.298,
          1.898,
          2.183
         ],
         "xaxis": "x",
         "y": [
          65.5,
          73.3,
          77.3,
          51.4,
          54.9,
          52.6,
          22.1,
          28.2,
          29.4,
          30.1,
          33.5,
          34.9,
          17.7,
          15.3,
          17.1,
          44.7,
          41.1,
          51,
          31.4,
          33.5,
          34.4,
          5.1,
          7.1,
          6.4,
          53.2,
          57.4,
          54.6,
          35.7,
          42.5,
          37.1,
          37.4,
          29.7,
          35.2,
          10.7,
          10.7,
          9.2,
          56.7,
          57.7,
          60.7,
          61.2,
          59.6,
          67.4,
          11.2,
          11.1,
          11,
          42.2,
          35.2,
          32.2,
          12.2,
          19.6,
          20,
          24.6,
          17.5,
          15.2,
          3.7,
          5.7,
          7.5,
          45.1,
          54.5,
          50.1,
          33.3,
          31.1,
          32.7,
          39.5,
          41.5,
          32.6,
          35.9,
          34.2,
          36.6,
          14.4,
          15.7,
          19.7
         ],
         "yaxis": "y"
        },
        {
         "hovertemplate": "Chalk=Ethan<br>Pinch=%{x}<br>Pull=%{y}<extra></extra>",
         "legendgroup": "Ethan",
         "marker": {
          "color": "#FFA15A",
          "symbol": "circle"
         },
         "mode": "markers",
         "name": "Ethan",
         "orientation": "v",
         "showlegend": true,
         "type": "scatter",
         "x": [
          3.048,
          2.888,
          2.688,
          5.336,
          5.599,
          5.579,
          4.282,
          4.094,
          3.899,
          5.998,
          6.203,
          6.387,
          2.041,
          2.22,
          2.212,
          1.139,
          1.098,
          1.231,
          1.147,
          1.115,
          1.279,
          0.988,
          1.219,
          0.972,
          5.097,
          4.964,
          4.787,
          1.268,
          1.061,
          1.279,
          2.077,
          1.992,
          2.164,
          4.463,
          4.066,
          3.676,
          4.06,
          3.962,
          4.099,
          2.947,
          3.278,
          3.298,
          5.744,
          5.826,
          6.173,
          3.276,
          3.127,
          3.326,
          2.381,
          2.442,
          2.075,
          3.103,
          3.155,
          3.048,
          4.24,
          4.979,
          4.612,
          6.888,
          6.32,
          6.549,
          6.028,
          6.484,
          6.203,
          5.026,
          4.899,
          5.306,
          2.015,
          2.372,
          2.625,
          5.117,
          5.098,
          4.878
         ],
         "xaxis": "x",
         "y": [
          22.7,
          16.8,
          22.5,
          55.5,
          65.1,
          54.5,
          37,
          34.5,
          41.6,
          50.9,
          57.3,
          57.7,
          14,
          17.4,
          22.2,
          11.4,
          10.3,
          10.5,
          4.7,
          2.4,
          5.1,
          3.1,
          5,
          5.7,
          59,
          59.1,
          55.3,
          9.7,
          7.6,
          6.6,
          13.6,
          15.3,
          17.4,
          49.6,
          57.7,
          55.4,
          27.4,
          25.1,
          29.2,
          42.7,
          39.5,
          43.1,
          71.5,
          82.3,
          77.2,
          35.3,
          42.8,
          44.3,
          17.7,
          21.6,
          15.7,
          24.1,
          21.4,
          22.7,
          42.5,
          64.5,
          57.7,
          82,
          70.1,
          71.3,
          57.5,
          64.1,
          63.1,
          49.5,
          45.1,
          45,
          21.2,
          25.4,
          29.6,
          51.2,
          45.3,
          45.4
         ],
         "yaxis": "y"
        }
       ],
       "layout": {
        "legend": {
         "title": {
          "text": "Chalk"
         },
         "tracegroupgap": 0
        },
        "template": {
         "data": {
          "bar": [
           {
            "error_x": {
             "color": "#2a3f5f"
            },
            "error_y": {
             "color": "#2a3f5f"
            },
            "marker": {
             "line": {
              "color": "#E5ECF6",
              "width": 0.5
             },
             "pattern": {
              "fillmode": "overlay",
              "size": 10,
              "solidity": 0.2
             }
            },
            "type": "bar"
           }
          ],
          "barpolar": [
           {
            "marker": {
             "line": {
              "color": "#E5ECF6",
              "width": 0.5
             },
             "pattern": {
              "fillmode": "overlay",
              "size": 10,
              "solidity": 0.2
             }
            },
            "type": "barpolar"
           }
          ],
          "carpet": [
           {
            "aaxis": {
             "endlinecolor": "#2a3f5f",
             "gridcolor": "white",
             "linecolor": "white",
             "minorgridcolor": "white",
             "startlinecolor": "#2a3f5f"
            },
            "baxis": {
             "endlinecolor": "#2a3f5f",
             "gridcolor": "white",
             "linecolor": "white",
             "minorgridcolor": "white",
             "startlinecolor": "#2a3f5f"
            },
            "type": "carpet"
           }
          ],
          "choropleth": [
           {
            "colorbar": {
             "outlinewidth": 0,
             "ticks": ""
            },
            "type": "choropleth"
           }
          ],
          "contour": [
           {
            "colorbar": {
             "outlinewidth": 0,
             "ticks": ""
            },
            "colorscale": [
             [
              0,
              "#0d0887"
             ],
             [
              0.1111111111111111,
              "#46039f"
             ],
             [
              0.2222222222222222,
              "#7201a8"
             ],
             [
              0.3333333333333333,
              "#9c179e"
             ],
             [
              0.4444444444444444,
              "#bd3786"
             ],
             [
              0.5555555555555556,
              "#d8576b"
             ],
             [
              0.6666666666666666,
              "#ed7953"
             ],
             [
              0.7777777777777778,
              "#fb9f3a"
             ],
             [
              0.8888888888888888,
              "#fdca26"
             ],
             [
              1,
              "#f0f921"
             ]
            ],
            "type": "contour"
           }
          ],
          "contourcarpet": [
           {
            "colorbar": {
             "outlinewidth": 0,
             "ticks": ""
            },
            "type": "contourcarpet"
           }
          ],
          "heatmap": [
           {
            "colorbar": {
             "outlinewidth": 0,
             "ticks": ""
            },
            "colorscale": [
             [
              0,
              "#0d0887"
             ],
             [
              0.1111111111111111,
              "#46039f"
             ],
             [
              0.2222222222222222,
              "#7201a8"
             ],
             [
              0.3333333333333333,
              "#9c179e"
             ],
             [
              0.4444444444444444,
              "#bd3786"
             ],
             [
              0.5555555555555556,
              "#d8576b"
             ],
             [
              0.6666666666666666,
              "#ed7953"
             ],
             [
              0.7777777777777778,
              "#fb9f3a"
             ],
             [
              0.8888888888888888,
              "#fdca26"
             ],
             [
              1,
              "#f0f921"
             ]
            ],
            "type": "heatmap"
           }
          ],
          "heatmapgl": [
           {
            "colorbar": {
             "outlinewidth": 0,
             "ticks": ""
            },
            "colorscale": [
             [
              0,
              "#0d0887"
             ],
             [
              0.1111111111111111,
              "#46039f"
             ],
             [
              0.2222222222222222,
              "#7201a8"
             ],
             [
              0.3333333333333333,
              "#9c179e"
             ],
             [
              0.4444444444444444,
              "#bd3786"
             ],
             [
              0.5555555555555556,
              "#d8576b"
             ],
             [
              0.6666666666666666,
              "#ed7953"
             ],
             [
              0.7777777777777778,
              "#fb9f3a"
             ],
             [
              0.8888888888888888,
              "#fdca26"
             ],
             [
              1,
              "#f0f921"
             ]
            ],
            "type": "heatmapgl"
           }
          ],
          "histogram": [
           {
            "marker": {
             "pattern": {
              "fillmode": "overlay",
              "size": 10,
              "solidity": 0.2
             }
            },
            "type": "histogram"
           }
          ],
          "histogram2d": [
           {
            "colorbar": {
             "outlinewidth": 0,
             "ticks": ""
            },
            "colorscale": [
             [
              0,
              "#0d0887"
             ],
             [
              0.1111111111111111,
              "#46039f"
             ],
             [
              0.2222222222222222,
              "#7201a8"
             ],
             [
              0.3333333333333333,
              "#9c179e"
             ],
             [
              0.4444444444444444,
              "#bd3786"
             ],
             [
              0.5555555555555556,
              "#d8576b"
             ],
             [
              0.6666666666666666,
              "#ed7953"
             ],
             [
              0.7777777777777778,
              "#fb9f3a"
             ],
             [
              0.8888888888888888,
              "#fdca26"
             ],
             [
              1,
              "#f0f921"
             ]
            ],
            "type": "histogram2d"
           }
          ],
          "histogram2dcontour": [
           {
            "colorbar": {
             "outlinewidth": 0,
             "ticks": ""
            },
            "colorscale": [
             [
              0,
              "#0d0887"
             ],
             [
              0.1111111111111111,
              "#46039f"
             ],
             [
              0.2222222222222222,
              "#7201a8"
             ],
             [
              0.3333333333333333,
              "#9c179e"
             ],
             [
              0.4444444444444444,
              "#bd3786"
             ],
             [
              0.5555555555555556,
              "#d8576b"
             ],
             [
              0.6666666666666666,
              "#ed7953"
             ],
             [
              0.7777777777777778,
              "#fb9f3a"
             ],
             [
              0.8888888888888888,
              "#fdca26"
             ],
             [
              1,
              "#f0f921"
             ]
            ],
            "type": "histogram2dcontour"
           }
          ],
          "mesh3d": [
           {
            "colorbar": {
             "outlinewidth": 0,
             "ticks": ""
            },
            "type": "mesh3d"
           }
          ],
          "parcoords": [
           {
            "line": {
             "colorbar": {
              "outlinewidth": 0,
              "ticks": ""
             }
            },
            "type": "parcoords"
           }
          ],
          "pie": [
           {
            "automargin": true,
            "type": "pie"
           }
          ],
          "scatter": [
           {
            "fillpattern": {
             "fillmode": "overlay",
             "size": 10,
             "solidity": 0.2
            },
            "type": "scatter"
           }
          ],
          "scatter3d": [
           {
            "line": {
             "colorbar": {
              "outlinewidth": 0,
              "ticks": ""
             }
            },
            "marker": {
             "colorbar": {
              "outlinewidth": 0,
              "ticks": ""
             }
            },
            "type": "scatter3d"
           }
          ],
          "scattercarpet": [
           {
            "marker": {
             "colorbar": {
              "outlinewidth": 0,
              "ticks": ""
             }
            },
            "type": "scattercarpet"
           }
          ],
          "scattergeo": [
           {
            "marker": {
             "colorbar": {
              "outlinewidth": 0,
              "ticks": ""
             }
            },
            "type": "scattergeo"
           }
          ],
          "scattergl": [
           {
            "marker": {
             "colorbar": {
              "outlinewidth": 0,
              "ticks": ""
             }
            },
            "type": "scattergl"
           }
          ],
          "scattermapbox": [
           {
            "marker": {
             "colorbar": {
              "outlinewidth": 0,
              "ticks": ""
             }
            },
            "type": "scattermapbox"
           }
          ],
          "scatterpolar": [
           {
            "marker": {
             "colorbar": {
              "outlinewidth": 0,
              "ticks": ""
             }
            },
            "type": "scatterpolar"
           }
          ],
          "scatterpolargl": [
           {
            "marker": {
             "colorbar": {
              "outlinewidth": 0,
              "ticks": ""
             }
            },
            "type": "scatterpolargl"
           }
          ],
          "scatterternary": [
           {
            "marker": {
             "colorbar": {
              "outlinewidth": 0,
              "ticks": ""
             }
            },
            "type": "scatterternary"
           }
          ],
          "surface": [
           {
            "colorbar": {
             "outlinewidth": 0,
             "ticks": ""
            },
            "colorscale": [
             [
              0,
              "#0d0887"
             ],
             [
              0.1111111111111111,
              "#46039f"
             ],
             [
              0.2222222222222222,
              "#7201a8"
             ],
             [
              0.3333333333333333,
              "#9c179e"
             ],
             [
              0.4444444444444444,
              "#bd3786"
             ],
             [
              0.5555555555555556,
              "#d8576b"
             ],
             [
              0.6666666666666666,
              "#ed7953"
             ],
             [
              0.7777777777777778,
              "#fb9f3a"
             ],
             [
              0.8888888888888888,
              "#fdca26"
             ],
             [
              1,
              "#f0f921"
             ]
            ],
            "type": "surface"
           }
          ],
          "table": [
           {
            "cells": {
             "fill": {
              "color": "#EBF0F8"
             },
             "line": {
              "color": "white"
             }
            },
            "header": {
             "fill": {
              "color": "#C8D4E3"
             },
             "line": {
              "color": "white"
             }
            },
            "type": "table"
           }
          ]
         },
         "layout": {
          "annotationdefaults": {
           "arrowcolor": "#2a3f5f",
           "arrowhead": 0,
           "arrowwidth": 1
          },
          "autotypenumbers": "strict",
          "coloraxis": {
           "colorbar": {
            "outlinewidth": 0,
            "ticks": ""
           }
          },
          "colorscale": {
           "diverging": [
            [
             0,
             "#8e0152"
            ],
            [
             0.1,
             "#c51b7d"
            ],
            [
             0.2,
             "#de77ae"
            ],
            [
             0.3,
             "#f1b6da"
            ],
            [
             0.4,
             "#fde0ef"
            ],
            [
             0.5,
             "#f7f7f7"
            ],
            [
             0.6,
             "#e6f5d0"
            ],
            [
             0.7,
             "#b8e186"
            ],
            [
             0.8,
             "#7fbc41"
            ],
            [
             0.9,
             "#4d9221"
            ],
            [
             1,
             "#276419"
            ]
           ],
           "sequential": [
            [
             0,
             "#0d0887"
            ],
            [
             0.1111111111111111,
             "#46039f"
            ],
            [
             0.2222222222222222,
             "#7201a8"
            ],
            [
             0.3333333333333333,
             "#9c179e"
            ],
            [
             0.4444444444444444,
             "#bd3786"
            ],
            [
             0.5555555555555556,
             "#d8576b"
            ],
            [
             0.6666666666666666,
             "#ed7953"
            ],
            [
             0.7777777777777778,
             "#fb9f3a"
            ],
            [
             0.8888888888888888,
             "#fdca26"
            ],
            [
             1,
             "#f0f921"
            ]
           ],
           "sequentialminus": [
            [
             0,
             "#0d0887"
            ],
            [
             0.1111111111111111,
             "#46039f"
            ],
            [
             0.2222222222222222,
             "#7201a8"
            ],
            [
             0.3333333333333333,
             "#9c179e"
            ],
            [
             0.4444444444444444,
             "#bd3786"
            ],
            [
             0.5555555555555556,
             "#d8576b"
            ],
            [
             0.6666666666666666,
             "#ed7953"
            ],
            [
             0.7777777777777778,
             "#fb9f3a"
            ],
            [
             0.8888888888888888,
             "#fdca26"
            ],
            [
             1,
             "#f0f921"
            ]
           ]
          },
          "colorway": [
           "#636efa",
           "#EF553B",
           "#00cc96",
           "#ab63fa",
           "#FFA15A",
           "#19d3f3",
           "#FF6692",
           "#B6E880",
           "#FF97FF",
           "#FECB52"
          ],
          "font": {
           "color": "#2a3f5f"
          },
          "geo": {
           "bgcolor": "white",
           "lakecolor": "white",
           "landcolor": "#E5ECF6",
           "showlakes": true,
           "showland": true,
           "subunitcolor": "white"
          },
          "hoverlabel": {
           "align": "left"
          },
          "hovermode": "closest",
          "mapbox": {
           "style": "light"
          },
          "paper_bgcolor": "white",
          "plot_bgcolor": "#E5ECF6",
          "polar": {
           "angularaxis": {
            "gridcolor": "white",
            "linecolor": "white",
            "ticks": ""
           },
           "bgcolor": "#E5ECF6",
           "radialaxis": {
            "gridcolor": "white",
            "linecolor": "white",
            "ticks": ""
           }
          },
          "scene": {
           "xaxis": {
            "backgroundcolor": "#E5ECF6",
            "gridcolor": "white",
            "gridwidth": 2,
            "linecolor": "white",
            "showbackground": true,
            "ticks": "",
            "zerolinecolor": "white"
           },
           "yaxis": {
            "backgroundcolor": "#E5ECF6",
            "gridcolor": "white",
            "gridwidth": 2,
            "linecolor": "white",
            "showbackground": true,
            "ticks": "",
            "zerolinecolor": "white"
           },
           "zaxis": {
            "backgroundcolor": "#E5ECF6",
            "gridcolor": "white",
            "gridwidth": 2,
            "linecolor": "white",
            "showbackground": true,
            "ticks": "",
            "zerolinecolor": "white"
           }
          },
          "shapedefaults": {
           "line": {
            "color": "#2a3f5f"
           }
          },
          "ternary": {
           "aaxis": {
            "gridcolor": "white",
            "linecolor": "white",
            "ticks": ""
           },
           "baxis": {
            "gridcolor": "white",
            "linecolor": "white",
            "ticks": ""
           },
           "bgcolor": "#E5ECF6",
           "caxis": {
            "gridcolor": "white",
            "linecolor": "white",
            "ticks": ""
           }
          },
          "title": {
           "x": 0.05
          },
          "xaxis": {
           "automargin": true,
           "gridcolor": "white",
           "linecolor": "white",
           "ticks": "",
           "title": {
            "standoff": 15
           },
           "zerolinecolor": "white",
           "zerolinewidth": 2
          },
          "yaxis": {
           "automargin": true,
           "gridcolor": "white",
           "linecolor": "white",
           "ticks": "",
           "title": {
            "standoff": 15
           },
           "zerolinecolor": "white",
           "zerolinewidth": 2
          }
         }
        },
        "title": {
         "text": "Kilograms Pulled by pinch Strength<br><sup>by Jerry Yu</sub>",
         "x": 0.5,
         "xanchor": "center",
         "yanchor": "top"
        },
        "xaxis": {
         "anchor": "y",
         "domain": [
          0,
          1
         ],
         "title": {
          "text": "Pinch"
         }
        },
        "yaxis": {
         "anchor": "x",
         "domain": [
          0,
          1
         ],
         "title": {
          "text": "Pull"
         }
        }
       }
      }
     },
     "metadata": {},
     "output_type": "display_data"
    },
    {
     "data": {
      "application/vnd.plotly.v1+json": {
       "config": {
        "plotlyServerURL": "https://plot.ly"
       },
       "data": [
        {
         "hovertemplate": "Day=2024-10-30 00:00:00<br>Pinch=%{x}<br>Pull=%{y}<extra></extra>",
         "legendgroup": "2024-10-30 00:00:00",
         "marker": {
          "color": "#636efa",
          "symbol": "circle"
         },
         "mode": "markers",
         "name": "2024-10-30 00:00:00",
         "orientation": "v",
         "showlegend": true,
         "type": "scatter",
         "x": [
          4.202,
          4.117,
          4.154,
          4.088,
          4.088,
          4.086,
          1.099,
          1.319,
          1.198,
          3.124,
          2.808,
          3.077,
          4.088,
          4.223,
          4.125,
          4.888,
          5.356,
          4.838,
          2.086,
          2.054,
          2.08,
          5.989,
          6.064,
          5.883,
          4.483,
          4.088,
          4.528,
          5.233,
          5.382,
          5.1,
          1.284,
          1.322,
          1.408,
          3.938,
          3.298,
          3.238,
          5.105,
          5.372,
          5.201,
          5.587,
          5.055,
          4.991,
          5.898,
          5.899,
          5.881,
          1.176,
          1.292,
          1.044,
          3.121,
          3.289,
          2.966,
          4.104,
          4.18,
          4.453,
          4.212,
          4.349,
          3.792,
          1.167,
          1.018,
          1.018
         ],
         "xaxis": "x",
         "y": [
          34.6,
          31.9,
          31.9,
          41.1,
          44.5,
          45.7,
          7.2,
          9.5,
          8.5,
          30.6,
          26.1,
          27.5,
          44.6,
          37.5,
          40.1,
          45.1,
          49.1,
          44.2,
          23.5,
          22.6,
          25.4,
          63.9,
          61.7,
          76.3,
          40.5,
          38.7,
          42.7,
          41.5,
          42.5,
          44.5,
          8.4,
          8.3,
          9.5,
          35.5,
          26.4,
          27.1,
          50.6,
          43.6,
          41.7,
          51.7,
          39.1,
          47,
          56.5,
          52.6,
          49.6,
          5.7,
          7.4,
          6.5,
          29.4,
          33.8,
          23.6,
          42.5,
          43.7,
          46.5,
          46.2,
          56.5,
          47.5,
          12.7,
          9.1,
          11.4
         ],
         "yaxis": "y"
        },
        {
         "hovertemplate": "Day=2024-10-31 00:00:00<br>Pinch=%{x}<br>Pull=%{y}<extra></extra>",
         "legendgroup": "2024-10-31 00:00:00",
         "marker": {
          "color": "#EF553B",
          "symbol": "circle"
         },
         "mode": "markers",
         "name": "2024-10-31 00:00:00",
         "orientation": "v",
         "showlegend": true,
         "type": "scatter",
         "x": [
          6.039,
          7.126,
          6.407,
          5.492,
          5.703,
          5.342,
          6.309,
          5.813,
          6.138,
          1.093,
          1.188,
          1.036,
          2.597,
          2.419,
          2.058,
          1.949,
          1.908,
          2.209,
          3.36,
          3.326,
          2.999,
          3.886,
          4.549,
          4.078,
          5.96,
          5.5,
          6.198,
          5.289,
          5.472,
          5.066,
          3.129,
          2.847,
          3.072,
          6.683,
          6.046,
          5.699,
          1.275,
          1.135,
          1.288,
          2.188,
          1.998,
          1.997,
          2.129,
          2.179,
          1.952,
          3.762,
          3.399,
          3.316,
          2.347,
          2.129,
          2.104,
          6.221,
          6.262,
          6.878,
          3.572,
          3.189,
          3.258,
          5.061,
          5.334,
          4.947
         ],
         "xaxis": "x",
         "y": [
          74,
          83.3,
          75.1,
          77.5,
          68.5,
          67.5,
          55.4,
          46.3,
          48.5,
          8.8,
          12.5,
          10.7,
          24.2,
          25.1,
          19.6,
          14.8,
          15.7,
          17,
          38.1,
          37.9,
          38.4,
          36.5,
          36.1,
          35.5,
          51.6,
          46.4,
          47.1,
          39.6,
          39.7,
          37.1,
          35.1,
          33.7,
          31.7,
          51.1,
          53.3,
          46.5,
          3.6,
          5.3,
          5.2,
          23.7,
          24.5,
          25.5,
          19.4,
          21.1,
          18.7,
          45.3,
          46.6,
          35.4,
          15.4,
          14.6,
          16.7,
          71.1,
          81.5,
          89.2,
          25.1,
          22.6,
          22.4,
          61.6,
          70.5,
          67.1
         ],
         "yaxis": "y"
        },
        {
         "hovertemplate": "Day=2024-11-04 00:00:00<br>Pinch=%{x}<br>Pull=%{y}<extra></extra>",
         "legendgroup": "2024-11-04 00:00:00",
         "marker": {
          "color": "#00cc96",
          "symbol": "circle"
         },
         "mode": "markers",
         "name": "2024-11-04 00:00:00",
         "orientation": "v",
         "showlegend": true,
         "type": "scatter",
         "x": [
          1.198,
          1.098,
          1.303,
          4.047,
          4.096,
          4.116,
          2.998,
          3.089,
          3.088,
          2.342,
          2.078,
          2.217,
          1.098,
          1.054,
          1.141,
          2.061,
          2.078,
          1.983,
          5.738,
          5.692,
          6.088,
          4.989,
          4.294,
          4.288,
          2.198,
          2.101,
          2.192,
          4.158,
          4.389,
          4.388,
          1.002,
          0.938,
          1.088,
          5.309,
          5.069,
          5.22,
          6.007,
          6.038,
          6.308,
          5.16,
          4.887,
          5.108,
          3.053,
          2.83,
          2.899,
          6.498,
          6.602,
          6.225,
          6.398,
          5.969,
          5.608,
          7.243,
          7.389,
          6.914,
          2.098,
          2.198,
          2.278,
          6.091,
          5.988,
          6.074,
          1.278,
          1.238,
          1.068,
          3.946,
          4.473,
          3.938
         ],
         "xaxis": "x",
         "y": [
          6.1,
          5.3,
          9.1,
          49.2,
          47.6,
          44.6,
          21.5,
          25.1,
          26.6,
          17,
          12.5,
          18,
          7.5,
          5.1,
          8.5,
          13.9,
          15,
          12.2,
          54.1,
          61.1,
          64.3,
          45.7,
          29,
          34,
          15.4,
          14.7,
          15.1,
          36.4,
          42.8,
          46.3,
          8.9,
          11,
          7.2,
          36.2,
          45.7,
          47.6,
          71.5,
          75.2,
          64.3,
          69,
          65.4,
          54.4,
          30.7,
          32.1,
          31.4,
          52.7,
          55.7,
          47.6,
          51.1,
          55.5,
          50.7,
          70.7,
          75.4,
          66.3,
          13.6,
          13.2,
          13.6,
          66.7,
          74.1,
          69.5,
          7.1,
          7.7,
          4.2,
          34.2,
          37.6,
          29.3
         ],
         "yaxis": "y"
        },
        {
         "hovertemplate": "Day=2024-11-06 00:00:00<br>Pinch=%{x}<br>Pull=%{y}<extra></extra>",
         "legendgroup": "2024-11-06 00:00:00",
         "marker": {
          "color": "#ab63fa",
          "symbol": "circle"
         },
         "mode": "markers",
         "name": "2024-11-06 00:00:00",
         "orientation": "v",
         "showlegend": true,
         "type": "scatter",
         "x": [
          3.915,
          4.057,
          3.99,
          4.304,
          4.239,
          4.224,
          6.033,
          5.337,
          4.987,
          1.157,
          1.073,
          1.097,
          2.288,
          2.234,
          2.169,
          4.889,
          4.582,
          4.718,
          2.829,
          3.138,
          3.191,
          5.587,
          5.934,
          7.216,
          4.766,
          3.788,
          4.012,
          3.546,
          3.148,
          2.798,
          5.928,
          6.093,
          5.843,
          3.564,
          3.055,
          4.039,
          1.034,
          1.037,
          1.019,
          2.098,
          2.048,
          2.033,
          3.638,
          3.889,
          3.762,
          5.492,
          5.447,
          5.139,
          2.006,
          2.088,
          2.023,
          1.988,
          2.049,
          2.114,
          1.082,
          1.093,
          0.979,
          4.072,
          4.208,
          4.196,
          2.096,
          2.015,
          2.022,
          3.08,
          3.1,
          3.098,
          3.218,
          3.363,
          3.388,
          1.085,
          1.053,
          0.947,
          1.217,
          1.1,
          1.176
         ],
         "xaxis": "x",
         "y": [
          35.4,
          37.4,
          35.7,
          52.7,
          43.2,
          46.6,
          61.8,
          47.3,
          46.6,
          6.2,
          5.4,
          4.9,
          14.2,
          14.2,
          15.1,
          51.5,
          55.3,
          56.7,
          34.1,
          36.3,
          30.1,
          59.3,
          54.1,
          64.7,
          49.3,
          30.5,
          35.5,
          26.6,
          24.5,
          19.2,
          52.2,
          45.2,
          46,
          27.4,
          26.6,
          44.6,
          4.4,
          3.2,
          7.1,
          16.7,
          14.2,
          16.4,
          42.5,
          46.7,
          44,
          44.4,
          47.2,
          45.1,
          17.2,
          16.5,
          17.2,
          20.9,
          25.5,
          26.1,
          5.4,
          8.3,
          6.2,
          28,
          31,
          27.2,
          15.5,
          16.3,
          15.7,
          25.7,
          26.1,
          25.4,
          24.4,
          24.8,
          31.8,
          2.5,
          5.7,
          5.7,
          10.6,
          11.5,
          10.5
         ],
         "yaxis": "y"
        },
        {
         "hovertemplate": "Day=2024-11-08 00:00:00<br>Pinch=%{x}<br>Pull=%{y}<extra></extra>",
         "legendgroup": "2024-11-08 00:00:00",
         "marker": {
          "color": "#FFA15A",
          "symbol": "circle"
         },
         "mode": "markers",
         "name": "2024-11-08 00:00:00",
         "orientation": "v",
         "showlegend": true,
         "type": "scatter",
         "x": [
          4.149,
          4.162,
          4.449,
          2.139,
          2.022,
          2.019,
          6.309,
          6.009,
          6.087,
          5.66,
          5.291,
          4.898,
          3.013,
          3.176,
          3.315,
          3.218,
          3.044,
          3.306,
          5.581,
          5.039,
          4.893,
          1.309,
          1.463,
          1.19,
          5.29,
          5.038,
          5.275,
          6,
          5.859,
          6.143,
          4.919,
          4.909,
          5.048,
          2.194,
          2.199,
          2.065,
          3.22,
          3.214,
          3.215,
          2.351,
          2.096,
          2.206,
          4.387,
          4.095,
          4.247,
          2.218,
          2.138,
          2.079,
          3.247,
          3.152,
          3.253,
          5.998,
          5.993,
          6.048,
          4.997,
          4.589,
          5.384,
          1.219,
          1.308,
          1.249,
          3.211,
          3.458,
          3.187,
          4.446,
          4.258,
          4.172,
          3.209,
          3.284,
          2.88,
          1.042,
          1.221,
          1.033,
          2.29,
          1.96,
          2.059,
          4.793,
          4.767,
          4.958,
          6.087,
          6.636,
          5.872,
          1.149,
          0.989,
          1.059,
          4.496,
          4.491,
          4.019,
          3.648,
          3.189,
          3.573,
          1.089,
          1.102,
          1.02,
          6.493,
          5.989,
          5.998,
          6.685,
          6.172,
          6.276,
          1.207,
          1.063,
          1.184,
          5.287,
          4.886,
          4.949
         ],
         "xaxis": "x",
         "y": [
          23.5,
          27.2,
          31.1,
          25.7,
          21.5,
          22.2,
          55.9,
          50.5,
          51.7,
          39.1,
          37.9,
          35.6,
          34.1,
          37.3,
          36.5,
          25.9,
          27.3,
          24.1,
          48.1,
          35.4,
          35.5,
          7.1,
          9.1,
          7.7,
          35.5,
          28.3,
          33.7,
          65.5,
          73.3,
          77.3,
          51.4,
          54.9,
          52.6,
          8.9,
          14.4,
          13.5,
          22.1,
          28.2,
          29.4,
          10.4,
          6.6,
          12.2,
          30.1,
          33.5,
          34.9,
          17.7,
          15.3,
          17.1,
          19,
          19.2,
          26.1,
          44.7,
          50.7,
          47.5,
          44.7,
          41.1,
          51,
          5.5,
          8.1,
          6.7,
          22.4,
          26.2,
          22.2,
          37.7,
          33.6,
          33.6,
          31.4,
          33.5,
          34.4,
          5.1,
          7.1,
          6.4,
          13.8,
          14.3,
          15.6,
          37.1,
          36.4,
          40.5,
          53.2,
          57.4,
          54.6,
          3.3,
          3.2,
          3.2,
          35.7,
          42.5,
          37.1,
          37.4,
          29.7,
          35.2,
          10.7,
          10.7,
          9.2,
          56.7,
          57.7,
          60.7,
          61.2,
          59.6,
          67.4,
          11.2,
          11.1,
          11,
          35.3,
          33.5,
          28.9
         ],
         "yaxis": "y"
        },
        {
         "hovertemplate": "Day=2024-11-10 00:00:00<br>Pinch=%{x}<br>Pull=%{y}<extra></extra>",
         "legendgroup": "2024-11-10 00:00:00",
         "marker": {
          "color": "#19d3f3",
          "symbol": "circle"
         },
         "mode": "markers",
         "name": "2024-11-10 00:00:00",
         "orientation": "v",
         "showlegend": true,
         "type": "scatter",
         "x": [
          6.935,
          6.741,
          6.158,
          3.988,
          4.123,
          4.333,
          5.061,
          5.191,
          5.094,
          2.178,
          2.089,
          2.183,
          1.97,
          2.188,
          2.048,
          5.267,
          5.326,
          5.636,
          1.038,
          1,
          1.192,
          3.209,
          3.138,
          3.406,
          5.783,
          6.108,
          5.898,
          2.413,
          2.199,
          2.28,
          1.033,
          1.082,
          1.048,
          4.109,
          3.899,
          4.251,
          4.988,
          4.964,
          5.069,
          1.523,
          1.238,
          1.369,
          5.189,
          5.086,
          5.098,
          4.088,
          3.898,
          3.859,
          2.868,
          2.898,
          3.092,
          5.999,
          5.966,
          6.031,
          4.332,
          4.089,
          3.988,
          3.098,
          2.892,
          3.21,
          4.106,
          3.838,
          4.188,
          2.298,
          1.898,
          2.183,
          3.048,
          2.888,
          2.688,
          1.289,
          1.389,
          1.208,
          2.089,
          2.008,
          2.133,
          5.336,
          5.599,
          5.579,
          2.208,
          2.098,
          2.08,
          4.282,
          4.094,
          3.899,
          3.322,
          3.092,
          3.298,
          6.558,
          6.199,
          6.343,
          1.196,
          1.36,
          1.198,
          4.888,
          4.979,
          5.217,
          2.098,
          1.983,
          2.207,
          5.998,
          6.203,
          6.387,
          5.972,
          5.666,
          5.869,
          2.041,
          2.22,
          2.212,
          3.292,
          3.088,
          3.088,
          1.139,
          1.098,
          1.231
         ],
         "xaxis": "x",
         "y": [
          52.5,
          57.2,
          47.9,
          34,
          25.4,
          25.9,
          42.2,
          35.2,
          32.2,
          12.2,
          19.6,
          20,
          24.6,
          17.5,
          15.2,
          35.1,
          33.5,
          31.2,
          3.7,
          5.7,
          7.5,
          26.7,
          30.2,
          28.1,
          44.5,
          46.1,
          44.7,
          15.5,
          16.5,
          17.8,
          1.5,
          2.7,
          5.8,
          24.2,
          20.5,
          25.2,
          45.1,
          54.5,
          50.1,
          7,
          7.4,
          8.4,
          30.9,
          30.3,
          28.7,
          34.6,
          35.7,
          33.7,
          33.3,
          31.1,
          32.7,
          32.3,
          39.2,
          31.7,
          39.5,
          41.5,
          32.6,
          15.7,
          15.5,
          17.7,
          35.9,
          34.2,
          36.6,
          14.4,
          15.7,
          19.7,
          22.7,
          16.8,
          22.5,
          7.9,
          9.3,
          10,
          13.5,
          14.5,
          16,
          55.5,
          65.1,
          54.5,
          11.1,
          9.4,
          12.7,
          37,
          34.5,
          41.6,
          29.4,
          22.3,
          27.3,
          46.1,
          36.7,
          37.2,
          6.2,
          7.4,
          6.2,
          31.9,
          35.4,
          39.6,
          18.7,
          15.2,
          17.1,
          50.9,
          57.3,
          57.7,
          47.9,
          45.7,
          51.5,
          14,
          17.4,
          22.2,
          22.3,
          21.1,
          23.5,
          11.4,
          10.3,
          10.5
         ],
         "yaxis": "y"
        },
        {
         "hovertemplate": "Day=2024-11-14 00:00:00<br>Pinch=%{x}<br>Pull=%{y}<extra></extra>",
         "legendgroup": "2024-11-14 00:00:00",
         "marker": {
          "color": "#FF6692",
          "symbol": "circle"
         },
         "mode": "markers",
         "name": "2024-11-14 00:00:00",
         "orientation": "v",
         "showlegend": true,
         "type": "scatter",
         "x": [
          1.147,
          1.115,
          1.279,
          0.988,
          1.219,
          0.972,
          5.097,
          4.964,
          4.787,
          1.268,
          1.061,
          1.279,
          2.077,
          1.992,
          2.164,
          2.217,
          2.187,
          1.898,
          4.463,
          4.066,
          3.676,
          3.077,
          3.161,
          3.186,
          4.06,
          3.962,
          4.099,
          4.28,
          4.335,
          4.388,
          2.947,
          3.278,
          3.298,
          5.744,
          5.826,
          6.173,
          3.276,
          3.127,
          3.326,
          6.168,
          6.75,
          6.096,
          1.359,
          1.1,
          1.081,
          2.381,
          2.442,
          2.075,
          4.996,
          4.988,
          4.979,
          5.978,
          6.124,
          6.493,
          1.311,
          1.218,
          1.446,
          4.153,
          4.088,
          4.304,
          2.992,
          3.31,
          3.338,
          3.103,
          3.155,
          3.048,
          4.24,
          4.979,
          4.612,
          6.888,
          6.32,
          6.549,
          6.028,
          6.484,
          6.203,
          4.877,
          4.938,
          5.168,
          5.026,
          4.899,
          5.306,
          2.015,
          2.372,
          2.625,
          4.083,
          4.143,
          4.252,
          4.288,
          3.91,
          4.38,
          5.117,
          5.098,
          4.878,
          5.198,
          5.624,
          5.274
         ],
         "xaxis": "x",
         "y": [
          4.7,
          2.4,
          5.1,
          3.1,
          5,
          5.7,
          59,
          59.1,
          55.3,
          9.7,
          7.6,
          6.6,
          13.6,
          15.3,
          17.4,
          8.9,
          8.1,
          9.4,
          49.6,
          57.7,
          55.4,
          9.7,
          16.5,
          14.4,
          27.4,
          25.1,
          29.2,
          27.7,
          28.6,
          27.1,
          42.7,
          39.5,
          43.1,
          71.5,
          82.3,
          77.2,
          35.3,
          42.8,
          44.3,
          51.9,
          55.7,
          48.7,
          3.5,
          2.5,
          2.2,
          17.7,
          21.6,
          15.7,
          31.2,
          25.2,
          23.4,
          43.1,
          41.2,
          46.7,
          7.6,
          3.4,
          7.5,
          25.3,
          30.6,
          25.2,
          16,
          14.7,
          22.7,
          24.1,
          21.4,
          22.7,
          42.5,
          64.5,
          57.7,
          82,
          70.1,
          71.3,
          57.5,
          64.1,
          63.1,
          30.4,
          30.7,
          31.1,
          49.5,
          45.1,
          45,
          21.2,
          25.4,
          29.6,
          25.3,
          24.7,
          25.1,
          27.1,
          23.6,
          24.4,
          51.2,
          45.3,
          45.4,
          31.4,
          32.8,
          31.1
         ],
         "yaxis": "y"
        }
       ],
       "layout": {
        "legend": {
         "title": {
          "text": "Day"
         },
         "tracegroupgap": 0
        },
        "template": {
         "data": {
          "bar": [
           {
            "error_x": {
             "color": "#2a3f5f"
            },
            "error_y": {
             "color": "#2a3f5f"
            },
            "marker": {
             "line": {
              "color": "#E5ECF6",
              "width": 0.5
             },
             "pattern": {
              "fillmode": "overlay",
              "size": 10,
              "solidity": 0.2
             }
            },
            "type": "bar"
           }
          ],
          "barpolar": [
           {
            "marker": {
             "line": {
              "color": "#E5ECF6",
              "width": 0.5
             },
             "pattern": {
              "fillmode": "overlay",
              "size": 10,
              "solidity": 0.2
             }
            },
            "type": "barpolar"
           }
          ],
          "carpet": [
           {
            "aaxis": {
             "endlinecolor": "#2a3f5f",
             "gridcolor": "white",
             "linecolor": "white",
             "minorgridcolor": "white",
             "startlinecolor": "#2a3f5f"
            },
            "baxis": {
             "endlinecolor": "#2a3f5f",
             "gridcolor": "white",
             "linecolor": "white",
             "minorgridcolor": "white",
             "startlinecolor": "#2a3f5f"
            },
            "type": "carpet"
           }
          ],
          "choropleth": [
           {
            "colorbar": {
             "outlinewidth": 0,
             "ticks": ""
            },
            "type": "choropleth"
           }
          ],
          "contour": [
           {
            "colorbar": {
             "outlinewidth": 0,
             "ticks": ""
            },
            "colorscale": [
             [
              0,
              "#0d0887"
             ],
             [
              0.1111111111111111,
              "#46039f"
             ],
             [
              0.2222222222222222,
              "#7201a8"
             ],
             [
              0.3333333333333333,
              "#9c179e"
             ],
             [
              0.4444444444444444,
              "#bd3786"
             ],
             [
              0.5555555555555556,
              "#d8576b"
             ],
             [
              0.6666666666666666,
              "#ed7953"
             ],
             [
              0.7777777777777778,
              "#fb9f3a"
             ],
             [
              0.8888888888888888,
              "#fdca26"
             ],
             [
              1,
              "#f0f921"
             ]
            ],
            "type": "contour"
           }
          ],
          "contourcarpet": [
           {
            "colorbar": {
             "outlinewidth": 0,
             "ticks": ""
            },
            "type": "contourcarpet"
           }
          ],
          "heatmap": [
           {
            "colorbar": {
             "outlinewidth": 0,
             "ticks": ""
            },
            "colorscale": [
             [
              0,
              "#0d0887"
             ],
             [
              0.1111111111111111,
              "#46039f"
             ],
             [
              0.2222222222222222,
              "#7201a8"
             ],
             [
              0.3333333333333333,
              "#9c179e"
             ],
             [
              0.4444444444444444,
              "#bd3786"
             ],
             [
              0.5555555555555556,
              "#d8576b"
             ],
             [
              0.6666666666666666,
              "#ed7953"
             ],
             [
              0.7777777777777778,
              "#fb9f3a"
             ],
             [
              0.8888888888888888,
              "#fdca26"
             ],
             [
              1,
              "#f0f921"
             ]
            ],
            "type": "heatmap"
           }
          ],
          "heatmapgl": [
           {
            "colorbar": {
             "outlinewidth": 0,
             "ticks": ""
            },
            "colorscale": [
             [
              0,
              "#0d0887"
             ],
             [
              0.1111111111111111,
              "#46039f"
             ],
             [
              0.2222222222222222,
              "#7201a8"
             ],
             [
              0.3333333333333333,
              "#9c179e"
             ],
             [
              0.4444444444444444,
              "#bd3786"
             ],
             [
              0.5555555555555556,
              "#d8576b"
             ],
             [
              0.6666666666666666,
              "#ed7953"
             ],
             [
              0.7777777777777778,
              "#fb9f3a"
             ],
             [
              0.8888888888888888,
              "#fdca26"
             ],
             [
              1,
              "#f0f921"
             ]
            ],
            "type": "heatmapgl"
           }
          ],
          "histogram": [
           {
            "marker": {
             "pattern": {
              "fillmode": "overlay",
              "size": 10,
              "solidity": 0.2
             }
            },
            "type": "histogram"
           }
          ],
          "histogram2d": [
           {
            "colorbar": {
             "outlinewidth": 0,
             "ticks": ""
            },
            "colorscale": [
             [
              0,
              "#0d0887"
             ],
             [
              0.1111111111111111,
              "#46039f"
             ],
             [
              0.2222222222222222,
              "#7201a8"
             ],
             [
              0.3333333333333333,
              "#9c179e"
             ],
             [
              0.4444444444444444,
              "#bd3786"
             ],
             [
              0.5555555555555556,
              "#d8576b"
             ],
             [
              0.6666666666666666,
              "#ed7953"
             ],
             [
              0.7777777777777778,
              "#fb9f3a"
             ],
             [
              0.8888888888888888,
              "#fdca26"
             ],
             [
              1,
              "#f0f921"
             ]
            ],
            "type": "histogram2d"
           }
          ],
          "histogram2dcontour": [
           {
            "colorbar": {
             "outlinewidth": 0,
             "ticks": ""
            },
            "colorscale": [
             [
              0,
              "#0d0887"
             ],
             [
              0.1111111111111111,
              "#46039f"
             ],
             [
              0.2222222222222222,
              "#7201a8"
             ],
             [
              0.3333333333333333,
              "#9c179e"
             ],
             [
              0.4444444444444444,
              "#bd3786"
             ],
             [
              0.5555555555555556,
              "#d8576b"
             ],
             [
              0.6666666666666666,
              "#ed7953"
             ],
             [
              0.7777777777777778,
              "#fb9f3a"
             ],
             [
              0.8888888888888888,
              "#fdca26"
             ],
             [
              1,
              "#f0f921"
             ]
            ],
            "type": "histogram2dcontour"
           }
          ],
          "mesh3d": [
           {
            "colorbar": {
             "outlinewidth": 0,
             "ticks": ""
            },
            "type": "mesh3d"
           }
          ],
          "parcoords": [
           {
            "line": {
             "colorbar": {
              "outlinewidth": 0,
              "ticks": ""
             }
            },
            "type": "parcoords"
           }
          ],
          "pie": [
           {
            "automargin": true,
            "type": "pie"
           }
          ],
          "scatter": [
           {
            "fillpattern": {
             "fillmode": "overlay",
             "size": 10,
             "solidity": 0.2
            },
            "type": "scatter"
           }
          ],
          "scatter3d": [
           {
            "line": {
             "colorbar": {
              "outlinewidth": 0,
              "ticks": ""
             }
            },
            "marker": {
             "colorbar": {
              "outlinewidth": 0,
              "ticks": ""
             }
            },
            "type": "scatter3d"
           }
          ],
          "scattercarpet": [
           {
            "marker": {
             "colorbar": {
              "outlinewidth": 0,
              "ticks": ""
             }
            },
            "type": "scattercarpet"
           }
          ],
          "scattergeo": [
           {
            "marker": {
             "colorbar": {
              "outlinewidth": 0,
              "ticks": ""
             }
            },
            "type": "scattergeo"
           }
          ],
          "scattergl": [
           {
            "marker": {
             "colorbar": {
              "outlinewidth": 0,
              "ticks": ""
             }
            },
            "type": "scattergl"
           }
          ],
          "scattermapbox": [
           {
            "marker": {
             "colorbar": {
              "outlinewidth": 0,
              "ticks": ""
             }
            },
            "type": "scattermapbox"
           }
          ],
          "scatterpolar": [
           {
            "marker": {
             "colorbar": {
              "outlinewidth": 0,
              "ticks": ""
             }
            },
            "type": "scatterpolar"
           }
          ],
          "scatterpolargl": [
           {
            "marker": {
             "colorbar": {
              "outlinewidth": 0,
              "ticks": ""
             }
            },
            "type": "scatterpolargl"
           }
          ],
          "scatterternary": [
           {
            "marker": {
             "colorbar": {
              "outlinewidth": 0,
              "ticks": ""
             }
            },
            "type": "scatterternary"
           }
          ],
          "surface": [
           {
            "colorbar": {
             "outlinewidth": 0,
             "ticks": ""
            },
            "colorscale": [
             [
              0,
              "#0d0887"
             ],
             [
              0.1111111111111111,
              "#46039f"
             ],
             [
              0.2222222222222222,
              "#7201a8"
             ],
             [
              0.3333333333333333,
              "#9c179e"
             ],
             [
              0.4444444444444444,
              "#bd3786"
             ],
             [
              0.5555555555555556,
              "#d8576b"
             ],
             [
              0.6666666666666666,
              "#ed7953"
             ],
             [
              0.7777777777777778,
              "#fb9f3a"
             ],
             [
              0.8888888888888888,
              "#fdca26"
             ],
             [
              1,
              "#f0f921"
             ]
            ],
            "type": "surface"
           }
          ],
          "table": [
           {
            "cells": {
             "fill": {
              "color": "#EBF0F8"
             },
             "line": {
              "color": "white"
             }
            },
            "header": {
             "fill": {
              "color": "#C8D4E3"
             },
             "line": {
              "color": "white"
             }
            },
            "type": "table"
           }
          ]
         },
         "layout": {
          "annotationdefaults": {
           "arrowcolor": "#2a3f5f",
           "arrowhead": 0,
           "arrowwidth": 1
          },
          "autotypenumbers": "strict",
          "coloraxis": {
           "colorbar": {
            "outlinewidth": 0,
            "ticks": ""
           }
          },
          "colorscale": {
           "diverging": [
            [
             0,
             "#8e0152"
            ],
            [
             0.1,
             "#c51b7d"
            ],
            [
             0.2,
             "#de77ae"
            ],
            [
             0.3,
             "#f1b6da"
            ],
            [
             0.4,
             "#fde0ef"
            ],
            [
             0.5,
             "#f7f7f7"
            ],
            [
             0.6,
             "#e6f5d0"
            ],
            [
             0.7,
             "#b8e186"
            ],
            [
             0.8,
             "#7fbc41"
            ],
            [
             0.9,
             "#4d9221"
            ],
            [
             1,
             "#276419"
            ]
           ],
           "sequential": [
            [
             0,
             "#0d0887"
            ],
            [
             0.1111111111111111,
             "#46039f"
            ],
            [
             0.2222222222222222,
             "#7201a8"
            ],
            [
             0.3333333333333333,
             "#9c179e"
            ],
            [
             0.4444444444444444,
             "#bd3786"
            ],
            [
             0.5555555555555556,
             "#d8576b"
            ],
            [
             0.6666666666666666,
             "#ed7953"
            ],
            [
             0.7777777777777778,
             "#fb9f3a"
            ],
            [
             0.8888888888888888,
             "#fdca26"
            ],
            [
             1,
             "#f0f921"
            ]
           ],
           "sequentialminus": [
            [
             0,
             "#0d0887"
            ],
            [
             0.1111111111111111,
             "#46039f"
            ],
            [
             0.2222222222222222,
             "#7201a8"
            ],
            [
             0.3333333333333333,
             "#9c179e"
            ],
            [
             0.4444444444444444,
             "#bd3786"
            ],
            [
             0.5555555555555556,
             "#d8576b"
            ],
            [
             0.6666666666666666,
             "#ed7953"
            ],
            [
             0.7777777777777778,
             "#fb9f3a"
            ],
            [
             0.8888888888888888,
             "#fdca26"
            ],
            [
             1,
             "#f0f921"
            ]
           ]
          },
          "colorway": [
           "#636efa",
           "#EF553B",
           "#00cc96",
           "#ab63fa",
           "#FFA15A",
           "#19d3f3",
           "#FF6692",
           "#B6E880",
           "#FF97FF",
           "#FECB52"
          ],
          "font": {
           "color": "#2a3f5f"
          },
          "geo": {
           "bgcolor": "white",
           "lakecolor": "white",
           "landcolor": "#E5ECF6",
           "showlakes": true,
           "showland": true,
           "subunitcolor": "white"
          },
          "hoverlabel": {
           "align": "left"
          },
          "hovermode": "closest",
          "mapbox": {
           "style": "light"
          },
          "paper_bgcolor": "white",
          "plot_bgcolor": "#E5ECF6",
          "polar": {
           "angularaxis": {
            "gridcolor": "white",
            "linecolor": "white",
            "ticks": ""
           },
           "bgcolor": "#E5ECF6",
           "radialaxis": {
            "gridcolor": "white",
            "linecolor": "white",
            "ticks": ""
           }
          },
          "scene": {
           "xaxis": {
            "backgroundcolor": "#E5ECF6",
            "gridcolor": "white",
            "gridwidth": 2,
            "linecolor": "white",
            "showbackground": true,
            "ticks": "",
            "zerolinecolor": "white"
           },
           "yaxis": {
            "backgroundcolor": "#E5ECF6",
            "gridcolor": "white",
            "gridwidth": 2,
            "linecolor": "white",
            "showbackground": true,
            "ticks": "",
            "zerolinecolor": "white"
           },
           "zaxis": {
            "backgroundcolor": "#E5ECF6",
            "gridcolor": "white",
            "gridwidth": 2,
            "linecolor": "white",
            "showbackground": true,
            "ticks": "",
            "zerolinecolor": "white"
           }
          },
          "shapedefaults": {
           "line": {
            "color": "#2a3f5f"
           }
          },
          "ternary": {
           "aaxis": {
            "gridcolor": "white",
            "linecolor": "white",
            "ticks": ""
           },
           "baxis": {
            "gridcolor": "white",
            "linecolor": "white",
            "ticks": ""
           },
           "bgcolor": "#E5ECF6",
           "caxis": {
            "gridcolor": "white",
            "linecolor": "white",
            "ticks": ""
           }
          },
          "title": {
           "x": 0.05
          },
          "xaxis": {
           "automargin": true,
           "gridcolor": "white",
           "linecolor": "white",
           "ticks": "",
           "title": {
            "standoff": 15
           },
           "zerolinecolor": "white",
           "zerolinewidth": 2
          },
          "yaxis": {
           "automargin": true,
           "gridcolor": "white",
           "linecolor": "white",
           "ticks": "",
           "title": {
            "standoff": 15
           },
           "zerolinecolor": "white",
           "zerolinewidth": 2
          }
         }
        },
        "title": {
         "text": "Kilograms Pulled by pinch Strength<br><sup>by Jerry Yu</sub>",
         "x": 0.5,
         "xanchor": "center",
         "yanchor": "top"
        },
        "xaxis": {
         "anchor": "y",
         "domain": [
          0,
          1
         ],
         "title": {
          "text": "Pinch"
         }
        },
        "yaxis": {
         "anchor": "x",
         "domain": [
          0,
          1
         ],
         "title": {
          "text": "Pull"
         }
        }
       }
      }
     },
     "metadata": {},
     "output_type": "display_data"
    }
   ],
   "source": [
    "# Type of Chalk\n",
    "byChalk = px.scatter(Chalk, x = \"Pinch\", y = \"Pull\", color = \"Chalk\", title = \"Kilograms Pulled by pinch Strength\")\n",
    "byChalk.update_layout(\n",
    "    title = {\n",
    "        \"text\":\"Kilograms Pulled by pinch Strength<br><sup>by Jerry Yu</sub>\",\n",
    "        \"x\":0.5,\n",
    "        \"xanchor\":\"center\",\n",
    "        \"yanchor\":\"top\"\n",
    "    }\n",
    ")\n",
    "byChalk.show()\n",
    "\n",
    "# Very Nice Separation for Control and using Chalk, between chalks is less clear. \n",
    "\n",
    "byDate = px.scatter(Chalk, x = \"Pinch\", y = \"Pull\", color = \"Day\", title = \"Kilograms Pulled by pinch Strength\")\n",
    "byDate.update_layout(\n",
    "    title = {\n",
    "        \"text\":\"Kilograms Pulled by pinch Strength<br><sup>by Jerry Yu</sub>\",\n",
    "        \"x\":0.5,\n",
    "        \"xanchor\":\"center\",\n",
    "        \"yanchor\":\"top\"\n",
    "    }\n",
    ")\n",
    "byDate.show()\n",
    "# There are not that clear of patterns (seperation) in date. "
   ]
  },
  {
   "cell_type": "markdown",
   "metadata": {},
   "source": [
    "- The patterns found in chalk are a good sign, likewise the lack of a clear pattern in date. "
   ]
  },
  {
   "cell_type": "code",
   "execution_count": 221,
   "metadata": {},
   "outputs": [
    {
     "data": {
      "application/vnd.plotly.v1+json": {
       "config": {
        "plotlyServerURL": "https://plot.ly"
       },
       "data": [
        {
         "hovertemplate": "Person=1<br>Pinch=%{x}<br>Pull=%{y}<extra></extra>",
         "legendgroup": "1",
         "marker": {
          "color": "#636efa",
          "symbol": "circle"
         },
         "mode": "markers",
         "name": "1",
         "orientation": "v",
         "showlegend": true,
         "type": "scatter",
         "x": [
          4.202,
          4.117,
          4.154,
          4.088,
          4.223,
          4.125,
          2.086,
          2.054,
          2.08,
          5.989,
          6.064,
          5.883,
          1.284,
          1.322,
          1.408,
          5.105,
          5.372,
          5.201,
          1.167,
          1.018,
          1.018,
          5.492,
          5.703,
          5.342,
          6.309,
          5.813,
          6.138,
          1.093,
          1.188,
          1.036,
          1.949,
          1.908,
          2.209,
          3.36,
          3.326,
          2.999,
          3.886,
          4.549,
          4.078,
          5.96,
          5.5,
          6.198,
          5.289,
          5.472,
          5.066,
          3.129,
          2.847,
          3.072,
          1.275,
          1.135,
          1.288,
          2.188,
          1.998,
          1.997,
          2.347,
          2.129,
          2.104,
          6.221,
          6.262,
          6.878,
          3.572,
          3.189,
          3.258,
          5.061,
          5.334,
          4.947,
          4.047,
          4.096,
          4.116,
          2.998,
          3.089,
          3.088,
          2.198,
          2.101,
          2.192,
          1.002,
          0.938,
          1.088,
          6.007,
          6.038,
          6.308,
          5.16,
          4.887,
          5.108,
          3.053,
          2.83,
          2.899,
          6.398,
          5.969,
          5.608,
          2.098,
          2.198,
          2.278,
          6.091,
          5.988,
          6.074,
          1.278,
          1.238,
          1.068,
          3.946,
          4.473,
          3.938,
          4.304,
          4.239,
          4.224,
          4.889,
          4.582,
          4.718,
          2.829,
          3.138,
          3.191,
          3.638,
          3.889,
          3.762,
          5.492,
          5.447,
          5.139,
          1.988,
          2.049,
          2.114,
          4.072,
          4.208,
          4.196,
          1.217,
          1.1,
          1.176,
          2.139,
          2.022,
          2.019,
          6.309,
          6.009,
          6.087,
          5.66,
          5.291,
          4.898,
          3.013,
          3.176,
          3.315,
          3.218,
          3.044,
          3.306,
          1.309,
          1.463,
          1.19,
          6,
          5.859,
          6.143,
          4.919,
          4.909,
          5.048,
          5.998,
          5.993,
          6.048,
          1.219,
          1.308,
          1.249,
          3.211,
          3.458,
          3.187,
          4.446,
          4.258,
          4.172,
          3.209,
          3.284,
          2.88,
          2.29,
          1.96,
          2.059,
          4.793,
          4.767,
          4.958,
          1.089,
          1.102,
          1.02,
          6.493,
          5.989,
          5.998,
          1.207,
          1.063,
          1.184,
          5.287,
          4.886,
          4.949,
          1.97,
          2.188,
          2.048,
          3.209,
          3.138,
          3.406,
          5.783,
          6.108,
          5.898,
          2.413,
          2.199,
          2.28,
          4.988,
          4.964,
          5.069,
          1.523,
          1.238,
          1.369,
          4.088,
          3.898,
          3.859,
          2.868,
          2.898,
          3.092,
          4.332,
          4.089,
          3.988,
          4.106,
          3.838,
          4.188,
          2.298,
          1.898,
          2.183,
          1.289,
          1.389,
          1.208,
          2.089,
          2.008,
          2.133,
          5.336,
          5.599,
          5.579,
          1.196,
          1.36,
          1.198,
          2.098,
          1.983,
          2.207,
          5.972,
          5.666,
          5.869,
          3.292,
          3.088,
          3.088,
          1.139,
          1.098,
          1.231,
          5.097,
          4.964,
          4.787,
          1.268,
          1.061,
          1.279,
          4.463,
          4.066,
          3.676,
          2.947,
          3.278,
          3.298,
          5.744,
          5.826,
          6.173,
          3.276,
          3.127,
          3.326,
          6.168,
          6.75,
          6.096,
          2.381,
          2.442,
          2.075,
          4.153,
          4.088,
          4.304,
          2.992,
          3.31,
          3.338,
          4.24,
          4.979,
          4.612,
          6.888,
          6.32,
          6.549,
          4.877,
          4.938,
          5.168,
          2.015,
          2.372,
          2.625,
          4.083,
          4.143,
          4.252,
          5.198,
          5.624,
          5.274
         ],
         "xaxis": "x",
         "y": [
          34.6,
          31.9,
          31.9,
          44.6,
          37.5,
          40.1,
          23.5,
          22.6,
          25.4,
          63.9,
          61.7,
          76.3,
          8.4,
          8.3,
          9.5,
          50.6,
          43.6,
          41.7,
          12.7,
          9.1,
          11.4,
          77.5,
          68.5,
          67.5,
          55.4,
          46.3,
          48.5,
          8.8,
          12.5,
          10.7,
          14.8,
          15.7,
          17,
          38.1,
          37.9,
          38.4,
          36.5,
          36.1,
          35.5,
          51.6,
          46.4,
          47.1,
          39.6,
          39.7,
          37.1,
          35.1,
          33.7,
          31.7,
          3.6,
          5.3,
          5.2,
          23.7,
          24.5,
          25.5,
          15.4,
          14.6,
          16.7,
          71.1,
          81.5,
          89.2,
          25.1,
          22.6,
          22.4,
          61.6,
          70.5,
          67.1,
          49.2,
          47.6,
          44.6,
          21.5,
          25.1,
          26.6,
          15.4,
          14.7,
          15.1,
          8.9,
          11,
          7.2,
          71.5,
          75.2,
          64.3,
          69,
          65.4,
          54.4,
          30.7,
          32.1,
          31.4,
          51.1,
          55.5,
          50.7,
          13.6,
          13.2,
          13.6,
          66.7,
          74.1,
          69.5,
          7.1,
          7.7,
          4.2,
          34.2,
          37.6,
          29.3,
          52.7,
          43.2,
          46.6,
          51.5,
          55.3,
          56.7,
          34.1,
          36.3,
          30.1,
          42.5,
          46.7,
          44,
          44.4,
          47.2,
          45.1,
          20.9,
          25.5,
          26.1,
          28,
          31,
          27.2,
          10.6,
          11.5,
          10.5,
          25.7,
          21.5,
          22.2,
          55.9,
          50.5,
          51.7,
          39.1,
          37.9,
          35.6,
          34.1,
          37.3,
          36.5,
          25.9,
          27.3,
          24.1,
          7.1,
          9.1,
          7.7,
          65.5,
          73.3,
          77.3,
          51.4,
          54.9,
          52.6,
          44.7,
          50.7,
          47.5,
          5.5,
          8.1,
          6.7,
          22.4,
          26.2,
          22.2,
          37.7,
          33.6,
          33.6,
          31.4,
          33.5,
          34.4,
          13.8,
          14.3,
          15.6,
          37.1,
          36.4,
          40.5,
          10.7,
          10.7,
          9.2,
          56.7,
          57.7,
          60.7,
          11.2,
          11.1,
          11,
          35.3,
          33.5,
          28.9,
          24.6,
          17.5,
          15.2,
          26.7,
          30.2,
          28.1,
          44.5,
          46.1,
          44.7,
          15.5,
          16.5,
          17.8,
          45.1,
          54.5,
          50.1,
          7,
          7.4,
          8.4,
          34.6,
          35.7,
          33.7,
          33.3,
          31.1,
          32.7,
          39.5,
          41.5,
          32.6,
          35.9,
          34.2,
          36.6,
          14.4,
          15.7,
          19.7,
          7.9,
          9.3,
          10,
          13.5,
          14.5,
          16,
          55.5,
          65.1,
          54.5,
          6.2,
          7.4,
          6.2,
          18.7,
          15.2,
          17.1,
          47.9,
          45.7,
          51.5,
          22.3,
          21.1,
          23.5,
          11.4,
          10.3,
          10.5,
          59,
          59.1,
          55.3,
          9.7,
          7.6,
          6.6,
          49.6,
          57.7,
          55.4,
          42.7,
          39.5,
          43.1,
          71.5,
          82.3,
          77.2,
          35.3,
          42.8,
          44.3,
          51.9,
          55.7,
          48.7,
          17.7,
          21.6,
          15.7,
          25.3,
          30.6,
          25.2,
          16,
          14.7,
          22.7,
          42.5,
          64.5,
          57.7,
          82,
          70.1,
          71.3,
          30.4,
          30.7,
          31.1,
          21.2,
          25.4,
          29.6,
          25.3,
          24.7,
          25.1,
          31.4,
          32.8,
          31.1
         ],
         "yaxis": "y"
        },
        {
         "hovertemplate": "Person=2<br>Pinch=%{x}<br>Pull=%{y}<extra></extra>",
         "legendgroup": "2",
         "marker": {
          "color": "#EF553B",
          "symbol": "circle"
         },
         "mode": "markers",
         "name": "2",
         "orientation": "v",
         "showlegend": true,
         "type": "scatter",
         "x": [
          4.088,
          4.088,
          4.086,
          1.099,
          1.319,
          1.198,
          3.124,
          2.808,
          3.077,
          4.888,
          5.356,
          4.838,
          4.483,
          4.088,
          4.528,
          5.233,
          5.382,
          5.1,
          3.938,
          3.298,
          3.238,
          5.587,
          5.055,
          4.991,
          5.898,
          5.899,
          5.881,
          1.176,
          1.292,
          1.044,
          3.121,
          3.289,
          2.966,
          4.104,
          4.18,
          4.453,
          4.212,
          4.349,
          3.792,
          6.039,
          7.126,
          6.407,
          2.597,
          2.419,
          2.058,
          6.683,
          6.046,
          5.699,
          2.129,
          2.179,
          1.952,
          3.762,
          3.399,
          3.316,
          1.198,
          1.098,
          1.303,
          2.342,
          2.078,
          2.217,
          1.098,
          1.054,
          1.141,
          2.061,
          2.078,
          1.983,
          5.738,
          5.692,
          6.088,
          4.989,
          4.294,
          4.288,
          4.158,
          4.389,
          4.388,
          5.309,
          5.069,
          5.22,
          6.498,
          6.602,
          6.225,
          7.243,
          7.389,
          6.914,
          3.915,
          4.057,
          3.99,
          6.033,
          5.337,
          4.987,
          1.157,
          1.073,
          1.097,
          2.288,
          2.234,
          2.169,
          5.587,
          5.934,
          7.216,
          4.766,
          3.788,
          4.012,
          3.546,
          3.148,
          2.798,
          5.928,
          6.093,
          5.843,
          3.564,
          3.055,
          4.039,
          1.034,
          1.037,
          1.019,
          2.098,
          2.048,
          2.033,
          2.006,
          2.088,
          2.023,
          1.082,
          1.093,
          0.979,
          2.096,
          2.015,
          2.022,
          3.08,
          3.1,
          3.098,
          3.218,
          3.363,
          3.388,
          1.085,
          1.053,
          0.947,
          4.149,
          4.162,
          4.449,
          5.581,
          5.039,
          4.893,
          5.29,
          5.038,
          5.275,
          2.194,
          2.199,
          2.065,
          3.22,
          3.214,
          3.215,
          2.351,
          2.096,
          2.206,
          4.387,
          4.095,
          4.247,
          2.218,
          2.138,
          2.079,
          3.247,
          3.152,
          3.253,
          4.997,
          4.589,
          5.384,
          1.042,
          1.221,
          1.033,
          6.087,
          6.636,
          5.872,
          1.149,
          0.989,
          1.059,
          4.496,
          4.491,
          4.019,
          3.648,
          3.189,
          3.573,
          6.685,
          6.172,
          6.276,
          6.935,
          6.741,
          6.158,
          3.988,
          4.123,
          4.333,
          5.061,
          5.191,
          5.094,
          2.178,
          2.089,
          2.183,
          5.267,
          5.326,
          5.636,
          1.038,
          1,
          1.192,
          1.033,
          1.082,
          1.048,
          4.109,
          3.899,
          4.251,
          5.189,
          5.086,
          5.098,
          5.999,
          5.966,
          6.031,
          3.098,
          2.892,
          3.21,
          3.048,
          2.888,
          2.688,
          2.208,
          2.098,
          2.08,
          4.282,
          4.094,
          3.899,
          3.322,
          3.092,
          3.298,
          6.558,
          6.199,
          6.343,
          4.888,
          4.979,
          5.217,
          5.998,
          6.203,
          6.387,
          2.041,
          2.22,
          2.212,
          1.147,
          1.115,
          1.279,
          0.988,
          1.219,
          0.972,
          2.077,
          1.992,
          2.164,
          2.217,
          2.187,
          1.898,
          3.077,
          3.161,
          3.186,
          4.06,
          3.962,
          4.099,
          4.28,
          4.335,
          4.388,
          1.359,
          1.1,
          1.081,
          4.996,
          4.988,
          4.979,
          5.978,
          6.124,
          6.493,
          1.311,
          1.218,
          1.446,
          3.103,
          3.155,
          3.048,
          6.028,
          6.484,
          6.203,
          5.026,
          4.899,
          5.306,
          4.288,
          3.91,
          4.38,
          5.117,
          5.098,
          4.878
         ],
         "xaxis": "x",
         "y": [
          41.1,
          44.5,
          45.7,
          7.2,
          9.5,
          8.5,
          30.6,
          26.1,
          27.5,
          45.1,
          49.1,
          44.2,
          40.5,
          38.7,
          42.7,
          41.5,
          42.5,
          44.5,
          35.5,
          26.4,
          27.1,
          51.7,
          39.1,
          47,
          56.5,
          52.6,
          49.6,
          5.7,
          7.4,
          6.5,
          29.4,
          33.8,
          23.6,
          42.5,
          43.7,
          46.5,
          46.2,
          56.5,
          47.5,
          74,
          83.3,
          75.1,
          24.2,
          25.1,
          19.6,
          51.1,
          53.3,
          46.5,
          19.4,
          21.1,
          18.7,
          45.3,
          46.6,
          35.4,
          6.1,
          5.3,
          9.1,
          17,
          12.5,
          18,
          7.5,
          5.1,
          8.5,
          13.9,
          15,
          12.2,
          54.1,
          61.1,
          64.3,
          45.7,
          29,
          34,
          36.4,
          42.8,
          46.3,
          36.2,
          45.7,
          47.6,
          52.7,
          55.7,
          47.6,
          70.7,
          75.4,
          66.3,
          35.4,
          37.4,
          35.7,
          61.8,
          47.3,
          46.6,
          6.2,
          5.4,
          4.9,
          14.2,
          14.2,
          15.1,
          59.3,
          54.1,
          64.7,
          49.3,
          30.5,
          35.5,
          26.6,
          24.5,
          19.2,
          52.2,
          45.2,
          46,
          27.4,
          26.6,
          44.6,
          4.4,
          3.2,
          7.1,
          16.7,
          14.2,
          16.4,
          17.2,
          16.5,
          17.2,
          5.4,
          8.3,
          6.2,
          15.5,
          16.3,
          15.7,
          25.7,
          26.1,
          25.4,
          24.4,
          24.8,
          31.8,
          2.5,
          5.7,
          5.7,
          23.5,
          27.2,
          31.1,
          48.1,
          35.4,
          35.5,
          35.5,
          28.3,
          33.7,
          8.9,
          14.4,
          13.5,
          22.1,
          28.2,
          29.4,
          10.4,
          6.6,
          12.2,
          30.1,
          33.5,
          34.9,
          17.7,
          15.3,
          17.1,
          19,
          19.2,
          26.1,
          44.7,
          41.1,
          51,
          5.1,
          7.1,
          6.4,
          53.2,
          57.4,
          54.6,
          3.3,
          3.2,
          3.2,
          35.7,
          42.5,
          37.1,
          37.4,
          29.7,
          35.2,
          61.2,
          59.6,
          67.4,
          52.5,
          57.2,
          47.9,
          34,
          25.4,
          25.9,
          42.2,
          35.2,
          32.2,
          12.2,
          19.6,
          20,
          35.1,
          33.5,
          31.2,
          3.7,
          5.7,
          7.5,
          1.5,
          2.7,
          5.8,
          24.2,
          20.5,
          25.2,
          30.9,
          30.3,
          28.7,
          32.3,
          39.2,
          31.7,
          15.7,
          15.5,
          17.7,
          22.7,
          16.8,
          22.5,
          11.1,
          9.4,
          12.7,
          37,
          34.5,
          41.6,
          29.4,
          22.3,
          27.3,
          46.1,
          36.7,
          37.2,
          31.9,
          35.4,
          39.6,
          50.9,
          57.3,
          57.7,
          14,
          17.4,
          22.2,
          4.7,
          2.4,
          5.1,
          3.1,
          5,
          5.7,
          13.6,
          15.3,
          17.4,
          8.9,
          8.1,
          9.4,
          9.7,
          16.5,
          14.4,
          27.4,
          25.1,
          29.2,
          27.7,
          28.6,
          27.1,
          3.5,
          2.5,
          2.2,
          31.2,
          25.2,
          23.4,
          43.1,
          41.2,
          46.7,
          7.6,
          3.4,
          7.5,
          24.1,
          21.4,
          22.7,
          57.5,
          64.1,
          63.1,
          49.5,
          45.1,
          45,
          27.1,
          23.6,
          24.4,
          51.2,
          45.3,
          45.4
         ],
         "yaxis": "y"
        }
       ],
       "layout": {
        "legend": {
         "title": {
          "text": "Person"
         },
         "tracegroupgap": 0
        },
        "template": {
         "data": {
          "bar": [
           {
            "error_x": {
             "color": "#2a3f5f"
            },
            "error_y": {
             "color": "#2a3f5f"
            },
            "marker": {
             "line": {
              "color": "#E5ECF6",
              "width": 0.5
             },
             "pattern": {
              "fillmode": "overlay",
              "size": 10,
              "solidity": 0.2
             }
            },
            "type": "bar"
           }
          ],
          "barpolar": [
           {
            "marker": {
             "line": {
              "color": "#E5ECF6",
              "width": 0.5
             },
             "pattern": {
              "fillmode": "overlay",
              "size": 10,
              "solidity": 0.2
             }
            },
            "type": "barpolar"
           }
          ],
          "carpet": [
           {
            "aaxis": {
             "endlinecolor": "#2a3f5f",
             "gridcolor": "white",
             "linecolor": "white",
             "minorgridcolor": "white",
             "startlinecolor": "#2a3f5f"
            },
            "baxis": {
             "endlinecolor": "#2a3f5f",
             "gridcolor": "white",
             "linecolor": "white",
             "minorgridcolor": "white",
             "startlinecolor": "#2a3f5f"
            },
            "type": "carpet"
           }
          ],
          "choropleth": [
           {
            "colorbar": {
             "outlinewidth": 0,
             "ticks": ""
            },
            "type": "choropleth"
           }
          ],
          "contour": [
           {
            "colorbar": {
             "outlinewidth": 0,
             "ticks": ""
            },
            "colorscale": [
             [
              0,
              "#0d0887"
             ],
             [
              0.1111111111111111,
              "#46039f"
             ],
             [
              0.2222222222222222,
              "#7201a8"
             ],
             [
              0.3333333333333333,
              "#9c179e"
             ],
             [
              0.4444444444444444,
              "#bd3786"
             ],
             [
              0.5555555555555556,
              "#d8576b"
             ],
             [
              0.6666666666666666,
              "#ed7953"
             ],
             [
              0.7777777777777778,
              "#fb9f3a"
             ],
             [
              0.8888888888888888,
              "#fdca26"
             ],
             [
              1,
              "#f0f921"
             ]
            ],
            "type": "contour"
           }
          ],
          "contourcarpet": [
           {
            "colorbar": {
             "outlinewidth": 0,
             "ticks": ""
            },
            "type": "contourcarpet"
           }
          ],
          "heatmap": [
           {
            "colorbar": {
             "outlinewidth": 0,
             "ticks": ""
            },
            "colorscale": [
             [
              0,
              "#0d0887"
             ],
             [
              0.1111111111111111,
              "#46039f"
             ],
             [
              0.2222222222222222,
              "#7201a8"
             ],
             [
              0.3333333333333333,
              "#9c179e"
             ],
             [
              0.4444444444444444,
              "#bd3786"
             ],
             [
              0.5555555555555556,
              "#d8576b"
             ],
             [
              0.6666666666666666,
              "#ed7953"
             ],
             [
              0.7777777777777778,
              "#fb9f3a"
             ],
             [
              0.8888888888888888,
              "#fdca26"
             ],
             [
              1,
              "#f0f921"
             ]
            ],
            "type": "heatmap"
           }
          ],
          "heatmapgl": [
           {
            "colorbar": {
             "outlinewidth": 0,
             "ticks": ""
            },
            "colorscale": [
             [
              0,
              "#0d0887"
             ],
             [
              0.1111111111111111,
              "#46039f"
             ],
             [
              0.2222222222222222,
              "#7201a8"
             ],
             [
              0.3333333333333333,
              "#9c179e"
             ],
             [
              0.4444444444444444,
              "#bd3786"
             ],
             [
              0.5555555555555556,
              "#d8576b"
             ],
             [
              0.6666666666666666,
              "#ed7953"
             ],
             [
              0.7777777777777778,
              "#fb9f3a"
             ],
             [
              0.8888888888888888,
              "#fdca26"
             ],
             [
              1,
              "#f0f921"
             ]
            ],
            "type": "heatmapgl"
           }
          ],
          "histogram": [
           {
            "marker": {
             "pattern": {
              "fillmode": "overlay",
              "size": 10,
              "solidity": 0.2
             }
            },
            "type": "histogram"
           }
          ],
          "histogram2d": [
           {
            "colorbar": {
             "outlinewidth": 0,
             "ticks": ""
            },
            "colorscale": [
             [
              0,
              "#0d0887"
             ],
             [
              0.1111111111111111,
              "#46039f"
             ],
             [
              0.2222222222222222,
              "#7201a8"
             ],
             [
              0.3333333333333333,
              "#9c179e"
             ],
             [
              0.4444444444444444,
              "#bd3786"
             ],
             [
              0.5555555555555556,
              "#d8576b"
             ],
             [
              0.6666666666666666,
              "#ed7953"
             ],
             [
              0.7777777777777778,
              "#fb9f3a"
             ],
             [
              0.8888888888888888,
              "#fdca26"
             ],
             [
              1,
              "#f0f921"
             ]
            ],
            "type": "histogram2d"
           }
          ],
          "histogram2dcontour": [
           {
            "colorbar": {
             "outlinewidth": 0,
             "ticks": ""
            },
            "colorscale": [
             [
              0,
              "#0d0887"
             ],
             [
              0.1111111111111111,
              "#46039f"
             ],
             [
              0.2222222222222222,
              "#7201a8"
             ],
             [
              0.3333333333333333,
              "#9c179e"
             ],
             [
              0.4444444444444444,
              "#bd3786"
             ],
             [
              0.5555555555555556,
              "#d8576b"
             ],
             [
              0.6666666666666666,
              "#ed7953"
             ],
             [
              0.7777777777777778,
              "#fb9f3a"
             ],
             [
              0.8888888888888888,
              "#fdca26"
             ],
             [
              1,
              "#f0f921"
             ]
            ],
            "type": "histogram2dcontour"
           }
          ],
          "mesh3d": [
           {
            "colorbar": {
             "outlinewidth": 0,
             "ticks": ""
            },
            "type": "mesh3d"
           }
          ],
          "parcoords": [
           {
            "line": {
             "colorbar": {
              "outlinewidth": 0,
              "ticks": ""
             }
            },
            "type": "parcoords"
           }
          ],
          "pie": [
           {
            "automargin": true,
            "type": "pie"
           }
          ],
          "scatter": [
           {
            "fillpattern": {
             "fillmode": "overlay",
             "size": 10,
             "solidity": 0.2
            },
            "type": "scatter"
           }
          ],
          "scatter3d": [
           {
            "line": {
             "colorbar": {
              "outlinewidth": 0,
              "ticks": ""
             }
            },
            "marker": {
             "colorbar": {
              "outlinewidth": 0,
              "ticks": ""
             }
            },
            "type": "scatter3d"
           }
          ],
          "scattercarpet": [
           {
            "marker": {
             "colorbar": {
              "outlinewidth": 0,
              "ticks": ""
             }
            },
            "type": "scattercarpet"
           }
          ],
          "scattergeo": [
           {
            "marker": {
             "colorbar": {
              "outlinewidth": 0,
              "ticks": ""
             }
            },
            "type": "scattergeo"
           }
          ],
          "scattergl": [
           {
            "marker": {
             "colorbar": {
              "outlinewidth": 0,
              "ticks": ""
             }
            },
            "type": "scattergl"
           }
          ],
          "scattermapbox": [
           {
            "marker": {
             "colorbar": {
              "outlinewidth": 0,
              "ticks": ""
             }
            },
            "type": "scattermapbox"
           }
          ],
          "scatterpolar": [
           {
            "marker": {
             "colorbar": {
              "outlinewidth": 0,
              "ticks": ""
             }
            },
            "type": "scatterpolar"
           }
          ],
          "scatterpolargl": [
           {
            "marker": {
             "colorbar": {
              "outlinewidth": 0,
              "ticks": ""
             }
            },
            "type": "scatterpolargl"
           }
          ],
          "scatterternary": [
           {
            "marker": {
             "colorbar": {
              "outlinewidth": 0,
              "ticks": ""
             }
            },
            "type": "scatterternary"
           }
          ],
          "surface": [
           {
            "colorbar": {
             "outlinewidth": 0,
             "ticks": ""
            },
            "colorscale": [
             [
              0,
              "#0d0887"
             ],
             [
              0.1111111111111111,
              "#46039f"
             ],
             [
              0.2222222222222222,
              "#7201a8"
             ],
             [
              0.3333333333333333,
              "#9c179e"
             ],
             [
              0.4444444444444444,
              "#bd3786"
             ],
             [
              0.5555555555555556,
              "#d8576b"
             ],
             [
              0.6666666666666666,
              "#ed7953"
             ],
             [
              0.7777777777777778,
              "#fb9f3a"
             ],
             [
              0.8888888888888888,
              "#fdca26"
             ],
             [
              1,
              "#f0f921"
             ]
            ],
            "type": "surface"
           }
          ],
          "table": [
           {
            "cells": {
             "fill": {
              "color": "#EBF0F8"
             },
             "line": {
              "color": "white"
             }
            },
            "header": {
             "fill": {
              "color": "#C8D4E3"
             },
             "line": {
              "color": "white"
             }
            },
            "type": "table"
           }
          ]
         },
         "layout": {
          "annotationdefaults": {
           "arrowcolor": "#2a3f5f",
           "arrowhead": 0,
           "arrowwidth": 1
          },
          "autotypenumbers": "strict",
          "coloraxis": {
           "colorbar": {
            "outlinewidth": 0,
            "ticks": ""
           }
          },
          "colorscale": {
           "diverging": [
            [
             0,
             "#8e0152"
            ],
            [
             0.1,
             "#c51b7d"
            ],
            [
             0.2,
             "#de77ae"
            ],
            [
             0.3,
             "#f1b6da"
            ],
            [
             0.4,
             "#fde0ef"
            ],
            [
             0.5,
             "#f7f7f7"
            ],
            [
             0.6,
             "#e6f5d0"
            ],
            [
             0.7,
             "#b8e186"
            ],
            [
             0.8,
             "#7fbc41"
            ],
            [
             0.9,
             "#4d9221"
            ],
            [
             1,
             "#276419"
            ]
           ],
           "sequential": [
            [
             0,
             "#0d0887"
            ],
            [
             0.1111111111111111,
             "#46039f"
            ],
            [
             0.2222222222222222,
             "#7201a8"
            ],
            [
             0.3333333333333333,
             "#9c179e"
            ],
            [
             0.4444444444444444,
             "#bd3786"
            ],
            [
             0.5555555555555556,
             "#d8576b"
            ],
            [
             0.6666666666666666,
             "#ed7953"
            ],
            [
             0.7777777777777778,
             "#fb9f3a"
            ],
            [
             0.8888888888888888,
             "#fdca26"
            ],
            [
             1,
             "#f0f921"
            ]
           ],
           "sequentialminus": [
            [
             0,
             "#0d0887"
            ],
            [
             0.1111111111111111,
             "#46039f"
            ],
            [
             0.2222222222222222,
             "#7201a8"
            ],
            [
             0.3333333333333333,
             "#9c179e"
            ],
            [
             0.4444444444444444,
             "#bd3786"
            ],
            [
             0.5555555555555556,
             "#d8576b"
            ],
            [
             0.6666666666666666,
             "#ed7953"
            ],
            [
             0.7777777777777778,
             "#fb9f3a"
            ],
            [
             0.8888888888888888,
             "#fdca26"
            ],
            [
             1,
             "#f0f921"
            ]
           ]
          },
          "colorway": [
           "#636efa",
           "#EF553B",
           "#00cc96",
           "#ab63fa",
           "#FFA15A",
           "#19d3f3",
           "#FF6692",
           "#B6E880",
           "#FF97FF",
           "#FECB52"
          ],
          "font": {
           "color": "#2a3f5f"
          },
          "geo": {
           "bgcolor": "white",
           "lakecolor": "white",
           "landcolor": "#E5ECF6",
           "showlakes": true,
           "showland": true,
           "subunitcolor": "white"
          },
          "hoverlabel": {
           "align": "left"
          },
          "hovermode": "closest",
          "mapbox": {
           "style": "light"
          },
          "paper_bgcolor": "white",
          "plot_bgcolor": "#E5ECF6",
          "polar": {
           "angularaxis": {
            "gridcolor": "white",
            "linecolor": "white",
            "ticks": ""
           },
           "bgcolor": "#E5ECF6",
           "radialaxis": {
            "gridcolor": "white",
            "linecolor": "white",
            "ticks": ""
           }
          },
          "scene": {
           "xaxis": {
            "backgroundcolor": "#E5ECF6",
            "gridcolor": "white",
            "gridwidth": 2,
            "linecolor": "white",
            "showbackground": true,
            "ticks": "",
            "zerolinecolor": "white"
           },
           "yaxis": {
            "backgroundcolor": "#E5ECF6",
            "gridcolor": "white",
            "gridwidth": 2,
            "linecolor": "white",
            "showbackground": true,
            "ticks": "",
            "zerolinecolor": "white"
           },
           "zaxis": {
            "backgroundcolor": "#E5ECF6",
            "gridcolor": "white",
            "gridwidth": 2,
            "linecolor": "white",
            "showbackground": true,
            "ticks": "",
            "zerolinecolor": "white"
           }
          },
          "shapedefaults": {
           "line": {
            "color": "#2a3f5f"
           }
          },
          "ternary": {
           "aaxis": {
            "gridcolor": "white",
            "linecolor": "white",
            "ticks": ""
           },
           "baxis": {
            "gridcolor": "white",
            "linecolor": "white",
            "ticks": ""
           },
           "bgcolor": "#E5ECF6",
           "caxis": {
            "gridcolor": "white",
            "linecolor": "white",
            "ticks": ""
           }
          },
          "title": {
           "x": 0.05
          },
          "xaxis": {
           "automargin": true,
           "gridcolor": "white",
           "linecolor": "white",
           "ticks": "",
           "title": {
            "standoff": 15
           },
           "zerolinecolor": "white",
           "zerolinewidth": 2
          },
          "yaxis": {
           "automargin": true,
           "gridcolor": "white",
           "linecolor": "white",
           "ticks": "",
           "title": {
            "standoff": 15
           },
           "zerolinecolor": "white",
           "zerolinewidth": 2
          }
         }
        },
        "title": {
         "text": "Kilograms Pulled by pinch Strength<br><sup>by Jerry Yu</sub>",
         "x": 0.5,
         "xanchor": "center",
         "yanchor": "top"
        },
        "xaxis": {
         "anchor": "y",
         "domain": [
          0,
          1
         ],
         "title": {
          "text": "Pinch"
         }
        },
        "yaxis": {
         "anchor": "x",
         "domain": [
          0,
          1
         ],
         "title": {
          "text": "Pull"
         }
        }
       }
      }
     },
     "metadata": {},
     "output_type": "display_data"
    }
   ],
   "source": [
    "# Person\n",
    "byPerson = px.scatter(Chalk, x = \"Pinch\", y = \"Pull\", color = \"Person\", title = \"Kilograms Pulled by pinch Strength\")\n",
    "byPerson.update_layout(\n",
    "    title = {\n",
    "        \"text\":\"Kilograms Pulled by pinch Strength<br><sup>by Jerry Yu</sub>\",\n",
    "        \"x\":0.5,\n",
    "        \"xanchor\":\"center\",\n",
    "        \"yanchor\":\"top\"\n",
    "    }\n",
    ")\n",
    "byPerson.show()\n",
    "\n",
    "# Clear Difference by person, as expected"
   ]
  },
  {
   "cell_type": "code",
   "execution_count": 222,
   "metadata": {},
   "outputs": [
    {
     "data": {
      "application/vnd.plotly.v1+json": {
       "config": {
        "plotlyServerURL": "https://plot.ly"
       },
       "data": [
        {
         "hovertemplate": "Pinch=%{x}<br>Pull=%{y}<br>Pinch_Order=%{marker.color}<extra></extra>",
         "legendgroup": "",
         "marker": {
          "color": [
           1,
           2,
           3,
           1,
           2,
           3,
           1,
           2,
           3,
           1,
           2,
           3,
           1,
           2,
           3,
           1,
           2,
           3,
           1,
           2,
           3,
           1,
           2,
           3,
           1,
           2,
           3,
           1,
           2,
           3,
           1,
           2,
           3,
           1,
           2,
           3,
           1,
           2,
           3,
           1,
           2,
           3,
           1,
           2,
           3,
           1,
           2,
           3,
           1,
           2,
           3,
           1,
           2,
           3,
           1,
           2,
           3,
           1,
           2,
           3,
           1,
           2,
           3,
           1,
           2,
           3,
           1,
           2,
           3,
           1,
           2,
           3,
           1,
           2,
           3,
           1,
           2,
           3,
           1,
           2,
           3,
           1,
           2,
           3,
           1,
           2,
           3,
           1,
           2,
           3,
           1,
           2,
           3,
           1,
           2,
           3,
           1,
           2,
           3,
           1,
           2,
           3,
           1,
           2,
           3,
           1,
           2,
           3,
           1,
           2,
           3,
           1,
           2,
           3,
           1,
           2,
           3,
           1,
           2,
           3,
           1,
           2,
           3,
           1,
           2,
           3,
           1,
           2,
           3,
           1,
           2,
           3,
           1,
           2,
           3,
           1,
           2,
           3,
           1,
           2,
           3,
           1,
           2,
           3,
           1,
           2,
           3,
           1,
           2,
           3,
           1,
           2,
           3,
           1,
           2,
           3,
           1,
           2,
           3,
           1,
           2,
           3,
           1,
           2,
           3,
           1,
           2,
           3,
           1,
           2,
           3,
           1,
           2,
           3,
           1,
           2,
           3,
           1,
           2,
           3,
           1,
           2,
           3,
           1,
           2,
           3,
           1,
           2,
           3,
           1,
           2,
           3,
           1,
           2,
           3,
           1,
           2,
           3,
           1,
           2,
           3,
           1,
           2,
           3,
           1,
           2,
           3,
           1,
           2,
           3,
           1,
           2,
           3,
           1,
           2,
           3,
           1,
           2,
           3,
           1,
           2,
           3,
           1,
           2,
           3,
           1,
           2,
           3,
           1,
           2,
           3,
           1,
           2,
           3,
           1,
           2,
           3,
           1,
           2,
           3,
           1,
           2,
           3,
           1,
           2,
           3,
           1,
           2,
           3,
           1,
           2,
           3,
           1,
           2,
           3,
           1,
           2,
           3,
           1,
           2,
           3,
           1,
           2,
           3,
           1,
           2,
           3,
           1,
           2,
           3,
           1,
           2,
           3,
           1,
           2,
           3,
           1,
           2,
           3,
           1,
           2,
           3,
           1,
           2,
           3,
           1,
           2,
           3,
           1,
           2,
           3,
           1,
           2,
           3,
           1,
           2,
           3,
           1,
           2,
           3,
           1,
           2,
           3,
           1,
           2,
           3,
           1,
           2,
           3,
           1,
           2,
           3,
           1,
           2,
           3,
           1,
           2,
           3,
           1,
           2,
           3,
           1,
           2,
           3,
           1,
           2,
           3,
           1,
           2,
           3,
           1,
           2,
           3,
           1,
           2,
           3,
           1,
           2,
           3,
           1,
           2,
           3,
           1,
           2,
           3,
           1,
           2,
           3,
           1,
           2,
           3,
           1,
           2,
           3,
           1,
           2,
           3,
           1,
           2,
           3,
           1,
           2,
           3,
           1,
           2,
           3,
           1,
           2,
           3,
           1,
           2,
           3,
           1,
           2,
           3,
           1,
           2,
           3,
           1,
           2,
           3,
           1,
           2,
           3,
           1,
           2,
           3,
           1,
           2,
           3,
           1,
           2,
           3,
           1,
           2,
           3,
           1,
           2,
           3,
           1,
           2,
           3,
           1,
           2,
           3,
           1,
           2,
           3,
           1,
           2,
           3,
           1,
           2,
           3,
           1,
           2,
           3,
           1,
           2,
           3,
           1,
           2,
           3,
           1,
           2,
           3,
           1,
           2,
           3,
           1,
           2,
           3,
           1,
           2,
           3,
           1,
           2,
           3,
           1,
           2,
           3,
           1,
           2,
           3,
           1,
           2,
           3,
           1,
           2,
           3,
           1,
           2,
           3,
           1,
           2,
           3,
           1,
           2,
           3,
           1,
           2,
           3,
           1,
           2,
           3,
           1,
           2,
           3,
           1,
           2,
           3,
           1,
           2,
           3,
           1,
           2,
           3,
           1,
           2,
           3,
           1,
           2,
           3,
           1,
           2,
           3,
           1,
           2,
           3,
           1,
           2,
           3,
           1,
           2,
           3,
           1,
           2,
           3,
           1,
           2,
           3,
           1,
           2,
           3,
           1,
           2,
           3,
           1,
           2,
           3,
           1,
           2,
           3,
           1,
           2,
           3,
           1,
           2,
           3,
           1,
           2,
           3,
           1,
           2,
           3,
           1,
           2,
           3,
           1,
           2,
           3,
           1,
           2,
           3,
           1,
           2,
           3,
           1,
           2,
           3,
           1,
           2,
           3,
           1,
           2,
           3,
           1,
           2,
           3,
           1,
           2,
           3,
           1,
           2,
           3,
           1,
           2,
           3,
           1,
           2,
           3,
           1,
           2,
           3,
           1,
           2,
           3,
           1,
           2,
           3,
           1,
           2,
           3,
           1,
           2,
           3
          ],
          "coloraxis": "coloraxis",
          "symbol": "circle"
         },
         "mode": "markers",
         "name": "",
         "orientation": "v",
         "showlegend": false,
         "type": "scatter",
         "x": [
          4.202,
          4.117,
          4.154,
          4.088,
          4.088,
          4.086,
          1.099,
          1.319,
          1.198,
          3.124,
          2.808,
          3.077,
          4.088,
          4.223,
          4.125,
          4.888,
          5.356,
          4.838,
          2.086,
          2.054,
          2.08,
          5.989,
          6.064,
          5.883,
          4.483,
          4.088,
          4.528,
          5.233,
          5.382,
          5.1,
          1.284,
          1.322,
          1.408,
          3.938,
          3.298,
          3.238,
          5.105,
          5.372,
          5.201,
          5.587,
          5.055,
          4.991,
          5.898,
          5.899,
          5.881,
          1.176,
          1.292,
          1.044,
          3.121,
          3.289,
          2.966,
          4.104,
          4.18,
          4.453,
          4.212,
          4.349,
          3.792,
          1.167,
          1.018,
          1.018,
          6.039,
          7.126,
          6.407,
          5.492,
          5.703,
          5.342,
          6.309,
          5.813,
          6.138,
          1.093,
          1.188,
          1.036,
          2.597,
          2.419,
          2.058,
          1.949,
          1.908,
          2.209,
          3.36,
          3.326,
          2.999,
          3.886,
          4.549,
          4.078,
          5.96,
          5.5,
          6.198,
          5.289,
          5.472,
          5.066,
          3.129,
          2.847,
          3.072,
          6.683,
          6.046,
          5.699,
          1.275,
          1.135,
          1.288,
          2.188,
          1.998,
          1.997,
          2.129,
          2.179,
          1.952,
          3.762,
          3.399,
          3.316,
          2.347,
          2.129,
          2.104,
          6.221,
          6.262,
          6.878,
          3.572,
          3.189,
          3.258,
          5.061,
          5.334,
          4.947,
          1.198,
          1.098,
          1.303,
          4.047,
          4.096,
          4.116,
          2.998,
          3.089,
          3.088,
          2.342,
          2.078,
          2.217,
          1.098,
          1.054,
          1.141,
          2.061,
          2.078,
          1.983,
          5.738,
          5.692,
          6.088,
          4.989,
          4.294,
          4.288,
          2.198,
          2.101,
          2.192,
          4.158,
          4.389,
          4.388,
          1.002,
          0.938,
          1.088,
          5.309,
          5.069,
          5.22,
          6.007,
          6.038,
          6.308,
          5.16,
          4.887,
          5.108,
          3.053,
          2.83,
          2.899,
          6.498,
          6.602,
          6.225,
          6.398,
          5.969,
          5.608,
          7.243,
          7.389,
          6.914,
          2.098,
          2.198,
          2.278,
          6.091,
          5.988,
          6.074,
          1.278,
          1.238,
          1.068,
          3.946,
          4.473,
          3.938,
          3.915,
          4.057,
          3.99,
          4.304,
          4.239,
          4.224,
          6.033,
          5.337,
          4.987,
          1.157,
          1.073,
          1.097,
          2.288,
          2.234,
          2.169,
          4.889,
          4.582,
          4.718,
          2.829,
          3.138,
          3.191,
          5.587,
          5.934,
          7.216,
          4.766,
          3.788,
          4.012,
          3.546,
          3.148,
          2.798,
          5.928,
          6.093,
          5.843,
          3.564,
          3.055,
          4.039,
          1.034,
          1.037,
          1.019,
          2.098,
          2.048,
          2.033,
          3.638,
          3.889,
          3.762,
          5.492,
          5.447,
          5.139,
          2.006,
          2.088,
          2.023,
          1.988,
          2.049,
          2.114,
          1.082,
          1.093,
          0.979,
          4.072,
          4.208,
          4.196,
          2.096,
          2.015,
          2.022,
          3.08,
          3.1,
          3.098,
          3.218,
          3.363,
          3.388,
          1.085,
          1.053,
          0.947,
          1.217,
          1.1,
          1.176,
          4.149,
          4.162,
          4.449,
          2.139,
          2.022,
          2.019,
          6.309,
          6.009,
          6.087,
          5.66,
          5.291,
          4.898,
          3.013,
          3.176,
          3.315,
          3.218,
          3.044,
          3.306,
          5.581,
          5.039,
          4.893,
          1.309,
          1.463,
          1.19,
          5.29,
          5.038,
          5.275,
          6,
          5.859,
          6.143,
          4.919,
          4.909,
          5.048,
          2.194,
          2.199,
          2.065,
          3.22,
          3.214,
          3.215,
          2.351,
          2.096,
          2.206,
          4.387,
          4.095,
          4.247,
          2.218,
          2.138,
          2.079,
          3.247,
          3.152,
          3.253,
          5.998,
          5.993,
          6.048,
          4.997,
          4.589,
          5.384,
          1.219,
          1.308,
          1.249,
          3.211,
          3.458,
          3.187,
          4.446,
          4.258,
          4.172,
          3.209,
          3.284,
          2.88,
          1.042,
          1.221,
          1.033,
          2.29,
          1.96,
          2.059,
          4.793,
          4.767,
          4.958,
          6.087,
          6.636,
          5.872,
          1.149,
          0.989,
          1.059,
          4.496,
          4.491,
          4.019,
          3.648,
          3.189,
          3.573,
          1.089,
          1.102,
          1.02,
          6.493,
          5.989,
          5.998,
          6.685,
          6.172,
          6.276,
          1.207,
          1.063,
          1.184,
          5.287,
          4.886,
          4.949,
          6.935,
          6.741,
          6.158,
          3.988,
          4.123,
          4.333,
          5.061,
          5.191,
          5.094,
          2.178,
          2.089,
          2.183,
          1.97,
          2.188,
          2.048,
          5.267,
          5.326,
          5.636,
          1.038,
          1,
          1.192,
          3.209,
          3.138,
          3.406,
          5.783,
          6.108,
          5.898,
          2.413,
          2.199,
          2.28,
          1.033,
          1.082,
          1.048,
          4.109,
          3.899,
          4.251,
          4.988,
          4.964,
          5.069,
          1.523,
          1.238,
          1.369,
          5.189,
          5.086,
          5.098,
          4.088,
          3.898,
          3.859,
          2.868,
          2.898,
          3.092,
          5.999,
          5.966,
          6.031,
          4.332,
          4.089,
          3.988,
          3.098,
          2.892,
          3.21,
          4.106,
          3.838,
          4.188,
          2.298,
          1.898,
          2.183,
          3.048,
          2.888,
          2.688,
          1.289,
          1.389,
          1.208,
          2.089,
          2.008,
          2.133,
          5.336,
          5.599,
          5.579,
          2.208,
          2.098,
          2.08,
          4.282,
          4.094,
          3.899,
          3.322,
          3.092,
          3.298,
          6.558,
          6.199,
          6.343,
          1.196,
          1.36,
          1.198,
          4.888,
          4.979,
          5.217,
          2.098,
          1.983,
          2.207,
          5.998,
          6.203,
          6.387,
          5.972,
          5.666,
          5.869,
          2.041,
          2.22,
          2.212,
          3.292,
          3.088,
          3.088,
          1.139,
          1.098,
          1.231,
          1.147,
          1.115,
          1.279,
          0.988,
          1.219,
          0.972,
          5.097,
          4.964,
          4.787,
          1.268,
          1.061,
          1.279,
          2.077,
          1.992,
          2.164,
          2.217,
          2.187,
          1.898,
          4.463,
          4.066,
          3.676,
          3.077,
          3.161,
          3.186,
          4.06,
          3.962,
          4.099,
          4.28,
          4.335,
          4.388,
          2.947,
          3.278,
          3.298,
          5.744,
          5.826,
          6.173,
          3.276,
          3.127,
          3.326,
          6.168,
          6.75,
          6.096,
          1.359,
          1.1,
          1.081,
          2.381,
          2.442,
          2.075,
          4.996,
          4.988,
          4.979,
          5.978,
          6.124,
          6.493,
          1.311,
          1.218,
          1.446,
          4.153,
          4.088,
          4.304,
          2.992,
          3.31,
          3.338,
          3.103,
          3.155,
          3.048,
          4.24,
          4.979,
          4.612,
          6.888,
          6.32,
          6.549,
          6.028,
          6.484,
          6.203,
          4.877,
          4.938,
          5.168,
          5.026,
          4.899,
          5.306,
          2.015,
          2.372,
          2.625,
          4.083,
          4.143,
          4.252,
          4.288,
          3.91,
          4.38,
          5.117,
          5.098,
          4.878,
          5.198,
          5.624,
          5.274
         ],
         "xaxis": "x",
         "y": [
          34.6,
          31.9,
          31.9,
          41.1,
          44.5,
          45.7,
          7.2,
          9.5,
          8.5,
          30.6,
          26.1,
          27.5,
          44.6,
          37.5,
          40.1,
          45.1,
          49.1,
          44.2,
          23.5,
          22.6,
          25.4,
          63.9,
          61.7,
          76.3,
          40.5,
          38.7,
          42.7,
          41.5,
          42.5,
          44.5,
          8.4,
          8.3,
          9.5,
          35.5,
          26.4,
          27.1,
          50.6,
          43.6,
          41.7,
          51.7,
          39.1,
          47,
          56.5,
          52.6,
          49.6,
          5.7,
          7.4,
          6.5,
          29.4,
          33.8,
          23.6,
          42.5,
          43.7,
          46.5,
          46.2,
          56.5,
          47.5,
          12.7,
          9.1,
          11.4,
          74,
          83.3,
          75.1,
          77.5,
          68.5,
          67.5,
          55.4,
          46.3,
          48.5,
          8.8,
          12.5,
          10.7,
          24.2,
          25.1,
          19.6,
          14.8,
          15.7,
          17,
          38.1,
          37.9,
          38.4,
          36.5,
          36.1,
          35.5,
          51.6,
          46.4,
          47.1,
          39.6,
          39.7,
          37.1,
          35.1,
          33.7,
          31.7,
          51.1,
          53.3,
          46.5,
          3.6,
          5.3,
          5.2,
          23.7,
          24.5,
          25.5,
          19.4,
          21.1,
          18.7,
          45.3,
          46.6,
          35.4,
          15.4,
          14.6,
          16.7,
          71.1,
          81.5,
          89.2,
          25.1,
          22.6,
          22.4,
          61.6,
          70.5,
          67.1,
          6.1,
          5.3,
          9.1,
          49.2,
          47.6,
          44.6,
          21.5,
          25.1,
          26.6,
          17,
          12.5,
          18,
          7.5,
          5.1,
          8.5,
          13.9,
          15,
          12.2,
          54.1,
          61.1,
          64.3,
          45.7,
          29,
          34,
          15.4,
          14.7,
          15.1,
          36.4,
          42.8,
          46.3,
          8.9,
          11,
          7.2,
          36.2,
          45.7,
          47.6,
          71.5,
          75.2,
          64.3,
          69,
          65.4,
          54.4,
          30.7,
          32.1,
          31.4,
          52.7,
          55.7,
          47.6,
          51.1,
          55.5,
          50.7,
          70.7,
          75.4,
          66.3,
          13.6,
          13.2,
          13.6,
          66.7,
          74.1,
          69.5,
          7.1,
          7.7,
          4.2,
          34.2,
          37.6,
          29.3,
          35.4,
          37.4,
          35.7,
          52.7,
          43.2,
          46.6,
          61.8,
          47.3,
          46.6,
          6.2,
          5.4,
          4.9,
          14.2,
          14.2,
          15.1,
          51.5,
          55.3,
          56.7,
          34.1,
          36.3,
          30.1,
          59.3,
          54.1,
          64.7,
          49.3,
          30.5,
          35.5,
          26.6,
          24.5,
          19.2,
          52.2,
          45.2,
          46,
          27.4,
          26.6,
          44.6,
          4.4,
          3.2,
          7.1,
          16.7,
          14.2,
          16.4,
          42.5,
          46.7,
          44,
          44.4,
          47.2,
          45.1,
          17.2,
          16.5,
          17.2,
          20.9,
          25.5,
          26.1,
          5.4,
          8.3,
          6.2,
          28,
          31,
          27.2,
          15.5,
          16.3,
          15.7,
          25.7,
          26.1,
          25.4,
          24.4,
          24.8,
          31.8,
          2.5,
          5.7,
          5.7,
          10.6,
          11.5,
          10.5,
          23.5,
          27.2,
          31.1,
          25.7,
          21.5,
          22.2,
          55.9,
          50.5,
          51.7,
          39.1,
          37.9,
          35.6,
          34.1,
          37.3,
          36.5,
          25.9,
          27.3,
          24.1,
          48.1,
          35.4,
          35.5,
          7.1,
          9.1,
          7.7,
          35.5,
          28.3,
          33.7,
          65.5,
          73.3,
          77.3,
          51.4,
          54.9,
          52.6,
          8.9,
          14.4,
          13.5,
          22.1,
          28.2,
          29.4,
          10.4,
          6.6,
          12.2,
          30.1,
          33.5,
          34.9,
          17.7,
          15.3,
          17.1,
          19,
          19.2,
          26.1,
          44.7,
          50.7,
          47.5,
          44.7,
          41.1,
          51,
          5.5,
          8.1,
          6.7,
          22.4,
          26.2,
          22.2,
          37.7,
          33.6,
          33.6,
          31.4,
          33.5,
          34.4,
          5.1,
          7.1,
          6.4,
          13.8,
          14.3,
          15.6,
          37.1,
          36.4,
          40.5,
          53.2,
          57.4,
          54.6,
          3.3,
          3.2,
          3.2,
          35.7,
          42.5,
          37.1,
          37.4,
          29.7,
          35.2,
          10.7,
          10.7,
          9.2,
          56.7,
          57.7,
          60.7,
          61.2,
          59.6,
          67.4,
          11.2,
          11.1,
          11,
          35.3,
          33.5,
          28.9,
          52.5,
          57.2,
          47.9,
          34,
          25.4,
          25.9,
          42.2,
          35.2,
          32.2,
          12.2,
          19.6,
          20,
          24.6,
          17.5,
          15.2,
          35.1,
          33.5,
          31.2,
          3.7,
          5.7,
          7.5,
          26.7,
          30.2,
          28.1,
          44.5,
          46.1,
          44.7,
          15.5,
          16.5,
          17.8,
          1.5,
          2.7,
          5.8,
          24.2,
          20.5,
          25.2,
          45.1,
          54.5,
          50.1,
          7,
          7.4,
          8.4,
          30.9,
          30.3,
          28.7,
          34.6,
          35.7,
          33.7,
          33.3,
          31.1,
          32.7,
          32.3,
          39.2,
          31.7,
          39.5,
          41.5,
          32.6,
          15.7,
          15.5,
          17.7,
          35.9,
          34.2,
          36.6,
          14.4,
          15.7,
          19.7,
          22.7,
          16.8,
          22.5,
          7.9,
          9.3,
          10,
          13.5,
          14.5,
          16,
          55.5,
          65.1,
          54.5,
          11.1,
          9.4,
          12.7,
          37,
          34.5,
          41.6,
          29.4,
          22.3,
          27.3,
          46.1,
          36.7,
          37.2,
          6.2,
          7.4,
          6.2,
          31.9,
          35.4,
          39.6,
          18.7,
          15.2,
          17.1,
          50.9,
          57.3,
          57.7,
          47.9,
          45.7,
          51.5,
          14,
          17.4,
          22.2,
          22.3,
          21.1,
          23.5,
          11.4,
          10.3,
          10.5,
          4.7,
          2.4,
          5.1,
          3.1,
          5,
          5.7,
          59,
          59.1,
          55.3,
          9.7,
          7.6,
          6.6,
          13.6,
          15.3,
          17.4,
          8.9,
          8.1,
          9.4,
          49.6,
          57.7,
          55.4,
          9.7,
          16.5,
          14.4,
          27.4,
          25.1,
          29.2,
          27.7,
          28.6,
          27.1,
          42.7,
          39.5,
          43.1,
          71.5,
          82.3,
          77.2,
          35.3,
          42.8,
          44.3,
          51.9,
          55.7,
          48.7,
          3.5,
          2.5,
          2.2,
          17.7,
          21.6,
          15.7,
          31.2,
          25.2,
          23.4,
          43.1,
          41.2,
          46.7,
          7.6,
          3.4,
          7.5,
          25.3,
          30.6,
          25.2,
          16,
          14.7,
          22.7,
          24.1,
          21.4,
          22.7,
          42.5,
          64.5,
          57.7,
          82,
          70.1,
          71.3,
          57.5,
          64.1,
          63.1,
          30.4,
          30.7,
          31.1,
          49.5,
          45.1,
          45,
          21.2,
          25.4,
          29.6,
          25.3,
          24.7,
          25.1,
          27.1,
          23.6,
          24.4,
          51.2,
          45.3,
          45.4,
          31.4,
          32.8,
          31.1
         ],
         "yaxis": "y"
        }
       ],
       "layout": {
        "coloraxis": {
         "colorbar": {
          "title": {
           "text": "Pinch_Order"
          }
         },
         "colorscale": [
          [
           0,
           "#0d0887"
          ],
          [
           0.1111111111111111,
           "#46039f"
          ],
          [
           0.2222222222222222,
           "#7201a8"
          ],
          [
           0.3333333333333333,
           "#9c179e"
          ],
          [
           0.4444444444444444,
           "#bd3786"
          ],
          [
           0.5555555555555556,
           "#d8576b"
          ],
          [
           0.6666666666666666,
           "#ed7953"
          ],
          [
           0.7777777777777778,
           "#fb9f3a"
          ],
          [
           0.8888888888888888,
           "#fdca26"
          ],
          [
           1,
           "#f0f921"
          ]
         ]
        },
        "legend": {
         "tracegroupgap": 0
        },
        "template": {
         "data": {
          "bar": [
           {
            "error_x": {
             "color": "#2a3f5f"
            },
            "error_y": {
             "color": "#2a3f5f"
            },
            "marker": {
             "line": {
              "color": "#E5ECF6",
              "width": 0.5
             },
             "pattern": {
              "fillmode": "overlay",
              "size": 10,
              "solidity": 0.2
             }
            },
            "type": "bar"
           }
          ],
          "barpolar": [
           {
            "marker": {
             "line": {
              "color": "#E5ECF6",
              "width": 0.5
             },
             "pattern": {
              "fillmode": "overlay",
              "size": 10,
              "solidity": 0.2
             }
            },
            "type": "barpolar"
           }
          ],
          "carpet": [
           {
            "aaxis": {
             "endlinecolor": "#2a3f5f",
             "gridcolor": "white",
             "linecolor": "white",
             "minorgridcolor": "white",
             "startlinecolor": "#2a3f5f"
            },
            "baxis": {
             "endlinecolor": "#2a3f5f",
             "gridcolor": "white",
             "linecolor": "white",
             "minorgridcolor": "white",
             "startlinecolor": "#2a3f5f"
            },
            "type": "carpet"
           }
          ],
          "choropleth": [
           {
            "colorbar": {
             "outlinewidth": 0,
             "ticks": ""
            },
            "type": "choropleth"
           }
          ],
          "contour": [
           {
            "colorbar": {
             "outlinewidth": 0,
             "ticks": ""
            },
            "colorscale": [
             [
              0,
              "#0d0887"
             ],
             [
              0.1111111111111111,
              "#46039f"
             ],
             [
              0.2222222222222222,
              "#7201a8"
             ],
             [
              0.3333333333333333,
              "#9c179e"
             ],
             [
              0.4444444444444444,
              "#bd3786"
             ],
             [
              0.5555555555555556,
              "#d8576b"
             ],
             [
              0.6666666666666666,
              "#ed7953"
             ],
             [
              0.7777777777777778,
              "#fb9f3a"
             ],
             [
              0.8888888888888888,
              "#fdca26"
             ],
             [
              1,
              "#f0f921"
             ]
            ],
            "type": "contour"
           }
          ],
          "contourcarpet": [
           {
            "colorbar": {
             "outlinewidth": 0,
             "ticks": ""
            },
            "type": "contourcarpet"
           }
          ],
          "heatmap": [
           {
            "colorbar": {
             "outlinewidth": 0,
             "ticks": ""
            },
            "colorscale": [
             [
              0,
              "#0d0887"
             ],
             [
              0.1111111111111111,
              "#46039f"
             ],
             [
              0.2222222222222222,
              "#7201a8"
             ],
             [
              0.3333333333333333,
              "#9c179e"
             ],
             [
              0.4444444444444444,
              "#bd3786"
             ],
             [
              0.5555555555555556,
              "#d8576b"
             ],
             [
              0.6666666666666666,
              "#ed7953"
             ],
             [
              0.7777777777777778,
              "#fb9f3a"
             ],
             [
              0.8888888888888888,
              "#fdca26"
             ],
             [
              1,
              "#f0f921"
             ]
            ],
            "type": "heatmap"
           }
          ],
          "heatmapgl": [
           {
            "colorbar": {
             "outlinewidth": 0,
             "ticks": ""
            },
            "colorscale": [
             [
              0,
              "#0d0887"
             ],
             [
              0.1111111111111111,
              "#46039f"
             ],
             [
              0.2222222222222222,
              "#7201a8"
             ],
             [
              0.3333333333333333,
              "#9c179e"
             ],
             [
              0.4444444444444444,
              "#bd3786"
             ],
             [
              0.5555555555555556,
              "#d8576b"
             ],
             [
              0.6666666666666666,
              "#ed7953"
             ],
             [
              0.7777777777777778,
              "#fb9f3a"
             ],
             [
              0.8888888888888888,
              "#fdca26"
             ],
             [
              1,
              "#f0f921"
             ]
            ],
            "type": "heatmapgl"
           }
          ],
          "histogram": [
           {
            "marker": {
             "pattern": {
              "fillmode": "overlay",
              "size": 10,
              "solidity": 0.2
             }
            },
            "type": "histogram"
           }
          ],
          "histogram2d": [
           {
            "colorbar": {
             "outlinewidth": 0,
             "ticks": ""
            },
            "colorscale": [
             [
              0,
              "#0d0887"
             ],
             [
              0.1111111111111111,
              "#46039f"
             ],
             [
              0.2222222222222222,
              "#7201a8"
             ],
             [
              0.3333333333333333,
              "#9c179e"
             ],
             [
              0.4444444444444444,
              "#bd3786"
             ],
             [
              0.5555555555555556,
              "#d8576b"
             ],
             [
              0.6666666666666666,
              "#ed7953"
             ],
             [
              0.7777777777777778,
              "#fb9f3a"
             ],
             [
              0.8888888888888888,
              "#fdca26"
             ],
             [
              1,
              "#f0f921"
             ]
            ],
            "type": "histogram2d"
           }
          ],
          "histogram2dcontour": [
           {
            "colorbar": {
             "outlinewidth": 0,
             "ticks": ""
            },
            "colorscale": [
             [
              0,
              "#0d0887"
             ],
             [
              0.1111111111111111,
              "#46039f"
             ],
             [
              0.2222222222222222,
              "#7201a8"
             ],
             [
              0.3333333333333333,
              "#9c179e"
             ],
             [
              0.4444444444444444,
              "#bd3786"
             ],
             [
              0.5555555555555556,
              "#d8576b"
             ],
             [
              0.6666666666666666,
              "#ed7953"
             ],
             [
              0.7777777777777778,
              "#fb9f3a"
             ],
             [
              0.8888888888888888,
              "#fdca26"
             ],
             [
              1,
              "#f0f921"
             ]
            ],
            "type": "histogram2dcontour"
           }
          ],
          "mesh3d": [
           {
            "colorbar": {
             "outlinewidth": 0,
             "ticks": ""
            },
            "type": "mesh3d"
           }
          ],
          "parcoords": [
           {
            "line": {
             "colorbar": {
              "outlinewidth": 0,
              "ticks": ""
             }
            },
            "type": "parcoords"
           }
          ],
          "pie": [
           {
            "automargin": true,
            "type": "pie"
           }
          ],
          "scatter": [
           {
            "fillpattern": {
             "fillmode": "overlay",
             "size": 10,
             "solidity": 0.2
            },
            "type": "scatter"
           }
          ],
          "scatter3d": [
           {
            "line": {
             "colorbar": {
              "outlinewidth": 0,
              "ticks": ""
             }
            },
            "marker": {
             "colorbar": {
              "outlinewidth": 0,
              "ticks": ""
             }
            },
            "type": "scatter3d"
           }
          ],
          "scattercarpet": [
           {
            "marker": {
             "colorbar": {
              "outlinewidth": 0,
              "ticks": ""
             }
            },
            "type": "scattercarpet"
           }
          ],
          "scattergeo": [
           {
            "marker": {
             "colorbar": {
              "outlinewidth": 0,
              "ticks": ""
             }
            },
            "type": "scattergeo"
           }
          ],
          "scattergl": [
           {
            "marker": {
             "colorbar": {
              "outlinewidth": 0,
              "ticks": ""
             }
            },
            "type": "scattergl"
           }
          ],
          "scattermapbox": [
           {
            "marker": {
             "colorbar": {
              "outlinewidth": 0,
              "ticks": ""
             }
            },
            "type": "scattermapbox"
           }
          ],
          "scatterpolar": [
           {
            "marker": {
             "colorbar": {
              "outlinewidth": 0,
              "ticks": ""
             }
            },
            "type": "scatterpolar"
           }
          ],
          "scatterpolargl": [
           {
            "marker": {
             "colorbar": {
              "outlinewidth": 0,
              "ticks": ""
             }
            },
            "type": "scatterpolargl"
           }
          ],
          "scatterternary": [
           {
            "marker": {
             "colorbar": {
              "outlinewidth": 0,
              "ticks": ""
             }
            },
            "type": "scatterternary"
           }
          ],
          "surface": [
           {
            "colorbar": {
             "outlinewidth": 0,
             "ticks": ""
            },
            "colorscale": [
             [
              0,
              "#0d0887"
             ],
             [
              0.1111111111111111,
              "#46039f"
             ],
             [
              0.2222222222222222,
              "#7201a8"
             ],
             [
              0.3333333333333333,
              "#9c179e"
             ],
             [
              0.4444444444444444,
              "#bd3786"
             ],
             [
              0.5555555555555556,
              "#d8576b"
             ],
             [
              0.6666666666666666,
              "#ed7953"
             ],
             [
              0.7777777777777778,
              "#fb9f3a"
             ],
             [
              0.8888888888888888,
              "#fdca26"
             ],
             [
              1,
              "#f0f921"
             ]
            ],
            "type": "surface"
           }
          ],
          "table": [
           {
            "cells": {
             "fill": {
              "color": "#EBF0F8"
             },
             "line": {
              "color": "white"
             }
            },
            "header": {
             "fill": {
              "color": "#C8D4E3"
             },
             "line": {
              "color": "white"
             }
            },
            "type": "table"
           }
          ]
         },
         "layout": {
          "annotationdefaults": {
           "arrowcolor": "#2a3f5f",
           "arrowhead": 0,
           "arrowwidth": 1
          },
          "autotypenumbers": "strict",
          "coloraxis": {
           "colorbar": {
            "outlinewidth": 0,
            "ticks": ""
           }
          },
          "colorscale": {
           "diverging": [
            [
             0,
             "#8e0152"
            ],
            [
             0.1,
             "#c51b7d"
            ],
            [
             0.2,
             "#de77ae"
            ],
            [
             0.3,
             "#f1b6da"
            ],
            [
             0.4,
             "#fde0ef"
            ],
            [
             0.5,
             "#f7f7f7"
            ],
            [
             0.6,
             "#e6f5d0"
            ],
            [
             0.7,
             "#b8e186"
            ],
            [
             0.8,
             "#7fbc41"
            ],
            [
             0.9,
             "#4d9221"
            ],
            [
             1,
             "#276419"
            ]
           ],
           "sequential": [
            [
             0,
             "#0d0887"
            ],
            [
             0.1111111111111111,
             "#46039f"
            ],
            [
             0.2222222222222222,
             "#7201a8"
            ],
            [
             0.3333333333333333,
             "#9c179e"
            ],
            [
             0.4444444444444444,
             "#bd3786"
            ],
            [
             0.5555555555555556,
             "#d8576b"
            ],
            [
             0.6666666666666666,
             "#ed7953"
            ],
            [
             0.7777777777777778,
             "#fb9f3a"
            ],
            [
             0.8888888888888888,
             "#fdca26"
            ],
            [
             1,
             "#f0f921"
            ]
           ],
           "sequentialminus": [
            [
             0,
             "#0d0887"
            ],
            [
             0.1111111111111111,
             "#46039f"
            ],
            [
             0.2222222222222222,
             "#7201a8"
            ],
            [
             0.3333333333333333,
             "#9c179e"
            ],
            [
             0.4444444444444444,
             "#bd3786"
            ],
            [
             0.5555555555555556,
             "#d8576b"
            ],
            [
             0.6666666666666666,
             "#ed7953"
            ],
            [
             0.7777777777777778,
             "#fb9f3a"
            ],
            [
             0.8888888888888888,
             "#fdca26"
            ],
            [
             1,
             "#f0f921"
            ]
           ]
          },
          "colorway": [
           "#636efa",
           "#EF553B",
           "#00cc96",
           "#ab63fa",
           "#FFA15A",
           "#19d3f3",
           "#FF6692",
           "#B6E880",
           "#FF97FF",
           "#FECB52"
          ],
          "font": {
           "color": "#2a3f5f"
          },
          "geo": {
           "bgcolor": "white",
           "lakecolor": "white",
           "landcolor": "#E5ECF6",
           "showlakes": true,
           "showland": true,
           "subunitcolor": "white"
          },
          "hoverlabel": {
           "align": "left"
          },
          "hovermode": "closest",
          "mapbox": {
           "style": "light"
          },
          "paper_bgcolor": "white",
          "plot_bgcolor": "#E5ECF6",
          "polar": {
           "angularaxis": {
            "gridcolor": "white",
            "linecolor": "white",
            "ticks": ""
           },
           "bgcolor": "#E5ECF6",
           "radialaxis": {
            "gridcolor": "white",
            "linecolor": "white",
            "ticks": ""
           }
          },
          "scene": {
           "xaxis": {
            "backgroundcolor": "#E5ECF6",
            "gridcolor": "white",
            "gridwidth": 2,
            "linecolor": "white",
            "showbackground": true,
            "ticks": "",
            "zerolinecolor": "white"
           },
           "yaxis": {
            "backgroundcolor": "#E5ECF6",
            "gridcolor": "white",
            "gridwidth": 2,
            "linecolor": "white",
            "showbackground": true,
            "ticks": "",
            "zerolinecolor": "white"
           },
           "zaxis": {
            "backgroundcolor": "#E5ECF6",
            "gridcolor": "white",
            "gridwidth": 2,
            "linecolor": "white",
            "showbackground": true,
            "ticks": "",
            "zerolinecolor": "white"
           }
          },
          "shapedefaults": {
           "line": {
            "color": "#2a3f5f"
           }
          },
          "ternary": {
           "aaxis": {
            "gridcolor": "white",
            "linecolor": "white",
            "ticks": ""
           },
           "baxis": {
            "gridcolor": "white",
            "linecolor": "white",
            "ticks": ""
           },
           "bgcolor": "#E5ECF6",
           "caxis": {
            "gridcolor": "white",
            "linecolor": "white",
            "ticks": ""
           }
          },
          "title": {
           "x": 0.05
          },
          "xaxis": {
           "automargin": true,
           "gridcolor": "white",
           "linecolor": "white",
           "ticks": "",
           "title": {
            "standoff": 15
           },
           "zerolinecolor": "white",
           "zerolinewidth": 2
          },
          "yaxis": {
           "automargin": true,
           "gridcolor": "white",
           "linecolor": "white",
           "ticks": "",
           "title": {
            "standoff": 15
           },
           "zerolinecolor": "white",
           "zerolinewidth": 2
          }
         }
        },
        "title": {
         "text": "Kilograms Pulled by pinch Order<br><sup>by Jerry Yu</sub>",
         "x": 0.5,
         "xanchor": "center",
         "yanchor": "top"
        },
        "xaxis": {
         "anchor": "y",
         "domain": [
          0,
          1
         ],
         "title": {
          "text": "Pinch"
         }
        },
        "yaxis": {
         "anchor": "x",
         "domain": [
          0,
          1
         ],
         "title": {
          "text": "Pull"
         }
        }
       }
      }
     },
     "metadata": {},
     "output_type": "display_data"
    },
    {
     "data": {
      "application/vnd.plotly.v1+json": {
       "config": {
        "plotlyServerURL": "https://plot.ly"
       },
       "data": [
        {
         "hovertemplate": "Pinch=%{x}<br>Pull=%{y}<br>Day_Order=%{marker.color}<extra></extra>",
         "legendgroup": "",
         "marker": {
          "color": [
           1,
           1,
           1,
           2,
           2,
           2,
           3,
           3,
           3,
           4,
           4,
           4,
           5,
           5,
           5,
           6,
           6,
           6,
           7,
           7,
           7,
           8,
           8,
           8,
           9,
           9,
           9,
           10,
           10,
           10,
           11,
           11,
           11,
           12,
           12,
           12,
           13,
           13,
           13,
           14,
           14,
           14,
           15,
           15,
           15,
           16,
           16,
           16,
           17,
           17,
           17,
           18,
           18,
           18,
           19,
           19,
           19,
           20,
           20,
           20,
           1,
           1,
           1,
           2,
           2,
           2,
           3,
           3,
           3,
           4,
           4,
           4,
           5,
           5,
           5,
           6,
           6,
           6,
           7,
           7,
           7,
           8,
           8,
           8,
           9,
           9,
           9,
           10,
           10,
           10,
           11,
           11,
           11,
           12,
           12,
           12,
           13,
           13,
           13,
           14,
           14,
           14,
           15,
           15,
           15,
           16,
           16,
           16,
           17,
           17,
           17,
           18,
           18,
           18,
           19,
           19,
           19,
           20,
           20,
           20,
           1,
           1,
           1,
           2,
           2,
           2,
           3,
           3,
           3,
           4,
           4,
           4,
           5,
           5,
           5,
           6,
           6,
           6,
           7,
           7,
           7,
           8,
           8,
           8,
           9,
           9,
           9,
           10,
           10,
           10,
           11,
           11,
           11,
           12,
           12,
           12,
           13,
           13,
           13,
           14,
           14,
           14,
           15,
           15,
           15,
           16,
           16,
           16,
           17,
           17,
           17,
           18,
           18,
           18,
           19,
           19,
           19,
           20,
           20,
           20,
           21,
           21,
           21,
           22,
           22,
           22,
           1,
           1,
           1,
           2,
           2,
           2,
           3,
           3,
           3,
           4,
           4,
           4,
           5,
           5,
           5,
           6,
           6,
           6,
           7,
           7,
           7,
           8,
           8,
           8,
           9,
           9,
           9,
           10,
           10,
           10,
           11,
           11,
           11,
           12,
           12,
           12,
           13,
           13,
           13,
           14,
           14,
           14,
           15,
           15,
           15,
           16,
           16,
           16,
           17,
           17,
           17,
           18,
           18,
           18,
           19,
           19,
           19,
           20,
           20,
           20,
           21,
           21,
           21,
           22,
           22,
           22,
           23,
           23,
           23,
           24,
           24,
           24,
           25,
           25,
           25,
           1,
           1,
           1,
           2,
           2,
           2,
           3,
           3,
           3,
           4,
           4,
           4,
           5,
           5,
           5,
           6,
           6,
           6,
           7,
           7,
           7,
           8,
           8,
           8,
           9,
           9,
           9,
           10,
           10,
           10,
           11,
           11,
           11,
           12,
           12,
           12,
           13,
           13,
           13,
           14,
           14,
           14,
           15,
           15,
           15,
           16,
           16,
           16,
           17,
           17,
           17,
           18,
           18,
           18,
           19,
           19,
           19,
           20,
           20,
           20,
           21,
           21,
           21,
           22,
           22,
           22,
           23,
           23,
           23,
           24,
           24,
           24,
           25,
           25,
           25,
           26,
           26,
           26,
           27,
           27,
           27,
           28,
           28,
           28,
           29,
           29,
           29,
           30,
           30,
           30,
           31,
           31,
           31,
           32,
           32,
           32,
           33,
           33,
           33,
           34,
           34,
           34,
           35,
           35,
           35,
           1,
           1,
           1,
           2,
           2,
           2,
           3,
           3,
           3,
           4,
           4,
           4,
           5,
           5,
           5,
           6,
           6,
           6,
           7,
           7,
           7,
           8,
           8,
           8,
           9,
           9,
           9,
           10,
           10,
           10,
           11,
           11,
           11,
           12,
           12,
           12,
           13,
           13,
           13,
           14,
           14,
           14,
           15,
           15,
           15,
           16,
           16,
           16,
           17,
           17,
           17,
           18,
           18,
           18,
           19,
           19,
           19,
           20,
           20,
           20,
           21,
           21,
           21,
           22,
           22,
           22,
           23,
           23,
           23,
           24,
           24,
           24,
           25,
           25,
           25,
           26,
           26,
           26,
           27,
           27,
           27,
           28,
           28,
           28,
           29,
           29,
           29,
           30,
           30,
           30,
           31,
           31,
           31,
           32,
           32,
           32,
           33,
           33,
           33,
           34,
           34,
           34,
           35,
           35,
           35,
           36,
           36,
           36,
           37,
           37,
           37,
           38,
           38,
           38,
           1,
           1,
           1,
           2,
           2,
           2,
           3,
           3,
           3,
           4,
           4,
           4,
           5,
           5,
           5,
           6,
           6,
           6,
           7,
           7,
           7,
           8,
           8,
           8,
           9,
           9,
           9,
           10,
           10,
           10,
           11,
           11,
           11,
           12,
           12,
           12,
           13,
           13,
           13,
           14,
           14,
           14,
           15,
           15,
           15,
           16,
           16,
           16,
           17,
           17,
           17,
           18,
           18,
           18,
           19,
           19,
           19,
           20,
           20,
           20,
           21,
           21,
           21,
           22,
           22,
           22,
           23,
           23,
           23,
           24,
           24,
           24,
           25,
           25,
           25,
           26,
           26,
           26,
           27,
           27,
           27,
           28,
           28,
           28,
           29,
           29,
           29,
           30,
           30,
           30,
           31,
           31,
           31,
           32,
           32,
           32
          ],
          "coloraxis": "coloraxis",
          "symbol": "circle"
         },
         "mode": "markers",
         "name": "",
         "orientation": "v",
         "showlegend": false,
         "type": "scatter",
         "x": [
          4.202,
          4.117,
          4.154,
          4.088,
          4.088,
          4.086,
          1.099,
          1.319,
          1.198,
          3.124,
          2.808,
          3.077,
          4.088,
          4.223,
          4.125,
          4.888,
          5.356,
          4.838,
          2.086,
          2.054,
          2.08,
          5.989,
          6.064,
          5.883,
          4.483,
          4.088,
          4.528,
          5.233,
          5.382,
          5.1,
          1.284,
          1.322,
          1.408,
          3.938,
          3.298,
          3.238,
          5.105,
          5.372,
          5.201,
          5.587,
          5.055,
          4.991,
          5.898,
          5.899,
          5.881,
          1.176,
          1.292,
          1.044,
          3.121,
          3.289,
          2.966,
          4.104,
          4.18,
          4.453,
          4.212,
          4.349,
          3.792,
          1.167,
          1.018,
          1.018,
          6.039,
          7.126,
          6.407,
          5.492,
          5.703,
          5.342,
          6.309,
          5.813,
          6.138,
          1.093,
          1.188,
          1.036,
          2.597,
          2.419,
          2.058,
          1.949,
          1.908,
          2.209,
          3.36,
          3.326,
          2.999,
          3.886,
          4.549,
          4.078,
          5.96,
          5.5,
          6.198,
          5.289,
          5.472,
          5.066,
          3.129,
          2.847,
          3.072,
          6.683,
          6.046,
          5.699,
          1.275,
          1.135,
          1.288,
          2.188,
          1.998,
          1.997,
          2.129,
          2.179,
          1.952,
          3.762,
          3.399,
          3.316,
          2.347,
          2.129,
          2.104,
          6.221,
          6.262,
          6.878,
          3.572,
          3.189,
          3.258,
          5.061,
          5.334,
          4.947,
          1.198,
          1.098,
          1.303,
          4.047,
          4.096,
          4.116,
          2.998,
          3.089,
          3.088,
          2.342,
          2.078,
          2.217,
          1.098,
          1.054,
          1.141,
          2.061,
          2.078,
          1.983,
          5.738,
          5.692,
          6.088,
          4.989,
          4.294,
          4.288,
          2.198,
          2.101,
          2.192,
          4.158,
          4.389,
          4.388,
          1.002,
          0.938,
          1.088,
          5.309,
          5.069,
          5.22,
          6.007,
          6.038,
          6.308,
          5.16,
          4.887,
          5.108,
          3.053,
          2.83,
          2.899,
          6.498,
          6.602,
          6.225,
          6.398,
          5.969,
          5.608,
          7.243,
          7.389,
          6.914,
          2.098,
          2.198,
          2.278,
          6.091,
          5.988,
          6.074,
          1.278,
          1.238,
          1.068,
          3.946,
          4.473,
          3.938,
          3.915,
          4.057,
          3.99,
          4.304,
          4.239,
          4.224,
          6.033,
          5.337,
          4.987,
          1.157,
          1.073,
          1.097,
          2.288,
          2.234,
          2.169,
          4.889,
          4.582,
          4.718,
          2.829,
          3.138,
          3.191,
          5.587,
          5.934,
          7.216,
          4.766,
          3.788,
          4.012,
          3.546,
          3.148,
          2.798,
          5.928,
          6.093,
          5.843,
          3.564,
          3.055,
          4.039,
          1.034,
          1.037,
          1.019,
          2.098,
          2.048,
          2.033,
          3.638,
          3.889,
          3.762,
          5.492,
          5.447,
          5.139,
          2.006,
          2.088,
          2.023,
          1.988,
          2.049,
          2.114,
          1.082,
          1.093,
          0.979,
          4.072,
          4.208,
          4.196,
          2.096,
          2.015,
          2.022,
          3.08,
          3.1,
          3.098,
          3.218,
          3.363,
          3.388,
          1.085,
          1.053,
          0.947,
          1.217,
          1.1,
          1.176,
          4.149,
          4.162,
          4.449,
          2.139,
          2.022,
          2.019,
          6.309,
          6.009,
          6.087,
          5.66,
          5.291,
          4.898,
          3.013,
          3.176,
          3.315,
          3.218,
          3.044,
          3.306,
          5.581,
          5.039,
          4.893,
          1.309,
          1.463,
          1.19,
          5.29,
          5.038,
          5.275,
          6,
          5.859,
          6.143,
          4.919,
          4.909,
          5.048,
          2.194,
          2.199,
          2.065,
          3.22,
          3.214,
          3.215,
          2.351,
          2.096,
          2.206,
          4.387,
          4.095,
          4.247,
          2.218,
          2.138,
          2.079,
          3.247,
          3.152,
          3.253,
          5.998,
          5.993,
          6.048,
          4.997,
          4.589,
          5.384,
          1.219,
          1.308,
          1.249,
          3.211,
          3.458,
          3.187,
          4.446,
          4.258,
          4.172,
          3.209,
          3.284,
          2.88,
          1.042,
          1.221,
          1.033,
          2.29,
          1.96,
          2.059,
          4.793,
          4.767,
          4.958,
          6.087,
          6.636,
          5.872,
          1.149,
          0.989,
          1.059,
          4.496,
          4.491,
          4.019,
          3.648,
          3.189,
          3.573,
          1.089,
          1.102,
          1.02,
          6.493,
          5.989,
          5.998,
          6.685,
          6.172,
          6.276,
          1.207,
          1.063,
          1.184,
          5.287,
          4.886,
          4.949,
          6.935,
          6.741,
          6.158,
          3.988,
          4.123,
          4.333,
          5.061,
          5.191,
          5.094,
          2.178,
          2.089,
          2.183,
          1.97,
          2.188,
          2.048,
          5.267,
          5.326,
          5.636,
          1.038,
          1,
          1.192,
          3.209,
          3.138,
          3.406,
          5.783,
          6.108,
          5.898,
          2.413,
          2.199,
          2.28,
          1.033,
          1.082,
          1.048,
          4.109,
          3.899,
          4.251,
          4.988,
          4.964,
          5.069,
          1.523,
          1.238,
          1.369,
          5.189,
          5.086,
          5.098,
          4.088,
          3.898,
          3.859,
          2.868,
          2.898,
          3.092,
          5.999,
          5.966,
          6.031,
          4.332,
          4.089,
          3.988,
          3.098,
          2.892,
          3.21,
          4.106,
          3.838,
          4.188,
          2.298,
          1.898,
          2.183,
          3.048,
          2.888,
          2.688,
          1.289,
          1.389,
          1.208,
          2.089,
          2.008,
          2.133,
          5.336,
          5.599,
          5.579,
          2.208,
          2.098,
          2.08,
          4.282,
          4.094,
          3.899,
          3.322,
          3.092,
          3.298,
          6.558,
          6.199,
          6.343,
          1.196,
          1.36,
          1.198,
          4.888,
          4.979,
          5.217,
          2.098,
          1.983,
          2.207,
          5.998,
          6.203,
          6.387,
          5.972,
          5.666,
          5.869,
          2.041,
          2.22,
          2.212,
          3.292,
          3.088,
          3.088,
          1.139,
          1.098,
          1.231,
          1.147,
          1.115,
          1.279,
          0.988,
          1.219,
          0.972,
          5.097,
          4.964,
          4.787,
          1.268,
          1.061,
          1.279,
          2.077,
          1.992,
          2.164,
          2.217,
          2.187,
          1.898,
          4.463,
          4.066,
          3.676,
          3.077,
          3.161,
          3.186,
          4.06,
          3.962,
          4.099,
          4.28,
          4.335,
          4.388,
          2.947,
          3.278,
          3.298,
          5.744,
          5.826,
          6.173,
          3.276,
          3.127,
          3.326,
          6.168,
          6.75,
          6.096,
          1.359,
          1.1,
          1.081,
          2.381,
          2.442,
          2.075,
          4.996,
          4.988,
          4.979,
          5.978,
          6.124,
          6.493,
          1.311,
          1.218,
          1.446,
          4.153,
          4.088,
          4.304,
          2.992,
          3.31,
          3.338,
          3.103,
          3.155,
          3.048,
          4.24,
          4.979,
          4.612,
          6.888,
          6.32,
          6.549,
          6.028,
          6.484,
          6.203,
          4.877,
          4.938,
          5.168,
          5.026,
          4.899,
          5.306,
          2.015,
          2.372,
          2.625,
          4.083,
          4.143,
          4.252,
          4.288,
          3.91,
          4.38,
          5.117,
          5.098,
          4.878,
          5.198,
          5.624,
          5.274
         ],
         "xaxis": "x",
         "y": [
          34.6,
          31.9,
          31.9,
          41.1,
          44.5,
          45.7,
          7.2,
          9.5,
          8.5,
          30.6,
          26.1,
          27.5,
          44.6,
          37.5,
          40.1,
          45.1,
          49.1,
          44.2,
          23.5,
          22.6,
          25.4,
          63.9,
          61.7,
          76.3,
          40.5,
          38.7,
          42.7,
          41.5,
          42.5,
          44.5,
          8.4,
          8.3,
          9.5,
          35.5,
          26.4,
          27.1,
          50.6,
          43.6,
          41.7,
          51.7,
          39.1,
          47,
          56.5,
          52.6,
          49.6,
          5.7,
          7.4,
          6.5,
          29.4,
          33.8,
          23.6,
          42.5,
          43.7,
          46.5,
          46.2,
          56.5,
          47.5,
          12.7,
          9.1,
          11.4,
          74,
          83.3,
          75.1,
          77.5,
          68.5,
          67.5,
          55.4,
          46.3,
          48.5,
          8.8,
          12.5,
          10.7,
          24.2,
          25.1,
          19.6,
          14.8,
          15.7,
          17,
          38.1,
          37.9,
          38.4,
          36.5,
          36.1,
          35.5,
          51.6,
          46.4,
          47.1,
          39.6,
          39.7,
          37.1,
          35.1,
          33.7,
          31.7,
          51.1,
          53.3,
          46.5,
          3.6,
          5.3,
          5.2,
          23.7,
          24.5,
          25.5,
          19.4,
          21.1,
          18.7,
          45.3,
          46.6,
          35.4,
          15.4,
          14.6,
          16.7,
          71.1,
          81.5,
          89.2,
          25.1,
          22.6,
          22.4,
          61.6,
          70.5,
          67.1,
          6.1,
          5.3,
          9.1,
          49.2,
          47.6,
          44.6,
          21.5,
          25.1,
          26.6,
          17,
          12.5,
          18,
          7.5,
          5.1,
          8.5,
          13.9,
          15,
          12.2,
          54.1,
          61.1,
          64.3,
          45.7,
          29,
          34,
          15.4,
          14.7,
          15.1,
          36.4,
          42.8,
          46.3,
          8.9,
          11,
          7.2,
          36.2,
          45.7,
          47.6,
          71.5,
          75.2,
          64.3,
          69,
          65.4,
          54.4,
          30.7,
          32.1,
          31.4,
          52.7,
          55.7,
          47.6,
          51.1,
          55.5,
          50.7,
          70.7,
          75.4,
          66.3,
          13.6,
          13.2,
          13.6,
          66.7,
          74.1,
          69.5,
          7.1,
          7.7,
          4.2,
          34.2,
          37.6,
          29.3,
          35.4,
          37.4,
          35.7,
          52.7,
          43.2,
          46.6,
          61.8,
          47.3,
          46.6,
          6.2,
          5.4,
          4.9,
          14.2,
          14.2,
          15.1,
          51.5,
          55.3,
          56.7,
          34.1,
          36.3,
          30.1,
          59.3,
          54.1,
          64.7,
          49.3,
          30.5,
          35.5,
          26.6,
          24.5,
          19.2,
          52.2,
          45.2,
          46,
          27.4,
          26.6,
          44.6,
          4.4,
          3.2,
          7.1,
          16.7,
          14.2,
          16.4,
          42.5,
          46.7,
          44,
          44.4,
          47.2,
          45.1,
          17.2,
          16.5,
          17.2,
          20.9,
          25.5,
          26.1,
          5.4,
          8.3,
          6.2,
          28,
          31,
          27.2,
          15.5,
          16.3,
          15.7,
          25.7,
          26.1,
          25.4,
          24.4,
          24.8,
          31.8,
          2.5,
          5.7,
          5.7,
          10.6,
          11.5,
          10.5,
          23.5,
          27.2,
          31.1,
          25.7,
          21.5,
          22.2,
          55.9,
          50.5,
          51.7,
          39.1,
          37.9,
          35.6,
          34.1,
          37.3,
          36.5,
          25.9,
          27.3,
          24.1,
          48.1,
          35.4,
          35.5,
          7.1,
          9.1,
          7.7,
          35.5,
          28.3,
          33.7,
          65.5,
          73.3,
          77.3,
          51.4,
          54.9,
          52.6,
          8.9,
          14.4,
          13.5,
          22.1,
          28.2,
          29.4,
          10.4,
          6.6,
          12.2,
          30.1,
          33.5,
          34.9,
          17.7,
          15.3,
          17.1,
          19,
          19.2,
          26.1,
          44.7,
          50.7,
          47.5,
          44.7,
          41.1,
          51,
          5.5,
          8.1,
          6.7,
          22.4,
          26.2,
          22.2,
          37.7,
          33.6,
          33.6,
          31.4,
          33.5,
          34.4,
          5.1,
          7.1,
          6.4,
          13.8,
          14.3,
          15.6,
          37.1,
          36.4,
          40.5,
          53.2,
          57.4,
          54.6,
          3.3,
          3.2,
          3.2,
          35.7,
          42.5,
          37.1,
          37.4,
          29.7,
          35.2,
          10.7,
          10.7,
          9.2,
          56.7,
          57.7,
          60.7,
          61.2,
          59.6,
          67.4,
          11.2,
          11.1,
          11,
          35.3,
          33.5,
          28.9,
          52.5,
          57.2,
          47.9,
          34,
          25.4,
          25.9,
          42.2,
          35.2,
          32.2,
          12.2,
          19.6,
          20,
          24.6,
          17.5,
          15.2,
          35.1,
          33.5,
          31.2,
          3.7,
          5.7,
          7.5,
          26.7,
          30.2,
          28.1,
          44.5,
          46.1,
          44.7,
          15.5,
          16.5,
          17.8,
          1.5,
          2.7,
          5.8,
          24.2,
          20.5,
          25.2,
          45.1,
          54.5,
          50.1,
          7,
          7.4,
          8.4,
          30.9,
          30.3,
          28.7,
          34.6,
          35.7,
          33.7,
          33.3,
          31.1,
          32.7,
          32.3,
          39.2,
          31.7,
          39.5,
          41.5,
          32.6,
          15.7,
          15.5,
          17.7,
          35.9,
          34.2,
          36.6,
          14.4,
          15.7,
          19.7,
          22.7,
          16.8,
          22.5,
          7.9,
          9.3,
          10,
          13.5,
          14.5,
          16,
          55.5,
          65.1,
          54.5,
          11.1,
          9.4,
          12.7,
          37,
          34.5,
          41.6,
          29.4,
          22.3,
          27.3,
          46.1,
          36.7,
          37.2,
          6.2,
          7.4,
          6.2,
          31.9,
          35.4,
          39.6,
          18.7,
          15.2,
          17.1,
          50.9,
          57.3,
          57.7,
          47.9,
          45.7,
          51.5,
          14,
          17.4,
          22.2,
          22.3,
          21.1,
          23.5,
          11.4,
          10.3,
          10.5,
          4.7,
          2.4,
          5.1,
          3.1,
          5,
          5.7,
          59,
          59.1,
          55.3,
          9.7,
          7.6,
          6.6,
          13.6,
          15.3,
          17.4,
          8.9,
          8.1,
          9.4,
          49.6,
          57.7,
          55.4,
          9.7,
          16.5,
          14.4,
          27.4,
          25.1,
          29.2,
          27.7,
          28.6,
          27.1,
          42.7,
          39.5,
          43.1,
          71.5,
          82.3,
          77.2,
          35.3,
          42.8,
          44.3,
          51.9,
          55.7,
          48.7,
          3.5,
          2.5,
          2.2,
          17.7,
          21.6,
          15.7,
          31.2,
          25.2,
          23.4,
          43.1,
          41.2,
          46.7,
          7.6,
          3.4,
          7.5,
          25.3,
          30.6,
          25.2,
          16,
          14.7,
          22.7,
          24.1,
          21.4,
          22.7,
          42.5,
          64.5,
          57.7,
          82,
          70.1,
          71.3,
          57.5,
          64.1,
          63.1,
          30.4,
          30.7,
          31.1,
          49.5,
          45.1,
          45,
          21.2,
          25.4,
          29.6,
          25.3,
          24.7,
          25.1,
          27.1,
          23.6,
          24.4,
          51.2,
          45.3,
          45.4,
          31.4,
          32.8,
          31.1
         ],
         "yaxis": "y"
        }
       ],
       "layout": {
        "coloraxis": {
         "colorbar": {
          "title": {
           "text": "Day_Order"
          }
         },
         "colorscale": [
          [
           0,
           "#0d0887"
          ],
          [
           0.1111111111111111,
           "#46039f"
          ],
          [
           0.2222222222222222,
           "#7201a8"
          ],
          [
           0.3333333333333333,
           "#9c179e"
          ],
          [
           0.4444444444444444,
           "#bd3786"
          ],
          [
           0.5555555555555556,
           "#d8576b"
          ],
          [
           0.6666666666666666,
           "#ed7953"
          ],
          [
           0.7777777777777778,
           "#fb9f3a"
          ],
          [
           0.8888888888888888,
           "#fdca26"
          ],
          [
           1,
           "#f0f921"
          ]
         ]
        },
        "legend": {
         "tracegroupgap": 0
        },
        "template": {
         "data": {
          "bar": [
           {
            "error_x": {
             "color": "#2a3f5f"
            },
            "error_y": {
             "color": "#2a3f5f"
            },
            "marker": {
             "line": {
              "color": "#E5ECF6",
              "width": 0.5
             },
             "pattern": {
              "fillmode": "overlay",
              "size": 10,
              "solidity": 0.2
             }
            },
            "type": "bar"
           }
          ],
          "barpolar": [
           {
            "marker": {
             "line": {
              "color": "#E5ECF6",
              "width": 0.5
             },
             "pattern": {
              "fillmode": "overlay",
              "size": 10,
              "solidity": 0.2
             }
            },
            "type": "barpolar"
           }
          ],
          "carpet": [
           {
            "aaxis": {
             "endlinecolor": "#2a3f5f",
             "gridcolor": "white",
             "linecolor": "white",
             "minorgridcolor": "white",
             "startlinecolor": "#2a3f5f"
            },
            "baxis": {
             "endlinecolor": "#2a3f5f",
             "gridcolor": "white",
             "linecolor": "white",
             "minorgridcolor": "white",
             "startlinecolor": "#2a3f5f"
            },
            "type": "carpet"
           }
          ],
          "choropleth": [
           {
            "colorbar": {
             "outlinewidth": 0,
             "ticks": ""
            },
            "type": "choropleth"
           }
          ],
          "contour": [
           {
            "colorbar": {
             "outlinewidth": 0,
             "ticks": ""
            },
            "colorscale": [
             [
              0,
              "#0d0887"
             ],
             [
              0.1111111111111111,
              "#46039f"
             ],
             [
              0.2222222222222222,
              "#7201a8"
             ],
             [
              0.3333333333333333,
              "#9c179e"
             ],
             [
              0.4444444444444444,
              "#bd3786"
             ],
             [
              0.5555555555555556,
              "#d8576b"
             ],
             [
              0.6666666666666666,
              "#ed7953"
             ],
             [
              0.7777777777777778,
              "#fb9f3a"
             ],
             [
              0.8888888888888888,
              "#fdca26"
             ],
             [
              1,
              "#f0f921"
             ]
            ],
            "type": "contour"
           }
          ],
          "contourcarpet": [
           {
            "colorbar": {
             "outlinewidth": 0,
             "ticks": ""
            },
            "type": "contourcarpet"
           }
          ],
          "heatmap": [
           {
            "colorbar": {
             "outlinewidth": 0,
             "ticks": ""
            },
            "colorscale": [
             [
              0,
              "#0d0887"
             ],
             [
              0.1111111111111111,
              "#46039f"
             ],
             [
              0.2222222222222222,
              "#7201a8"
             ],
             [
              0.3333333333333333,
              "#9c179e"
             ],
             [
              0.4444444444444444,
              "#bd3786"
             ],
             [
              0.5555555555555556,
              "#d8576b"
             ],
             [
              0.6666666666666666,
              "#ed7953"
             ],
             [
              0.7777777777777778,
              "#fb9f3a"
             ],
             [
              0.8888888888888888,
              "#fdca26"
             ],
             [
              1,
              "#f0f921"
             ]
            ],
            "type": "heatmap"
           }
          ],
          "heatmapgl": [
           {
            "colorbar": {
             "outlinewidth": 0,
             "ticks": ""
            },
            "colorscale": [
             [
              0,
              "#0d0887"
             ],
             [
              0.1111111111111111,
              "#46039f"
             ],
             [
              0.2222222222222222,
              "#7201a8"
             ],
             [
              0.3333333333333333,
              "#9c179e"
             ],
             [
              0.4444444444444444,
              "#bd3786"
             ],
             [
              0.5555555555555556,
              "#d8576b"
             ],
             [
              0.6666666666666666,
              "#ed7953"
             ],
             [
              0.7777777777777778,
              "#fb9f3a"
             ],
             [
              0.8888888888888888,
              "#fdca26"
             ],
             [
              1,
              "#f0f921"
             ]
            ],
            "type": "heatmapgl"
           }
          ],
          "histogram": [
           {
            "marker": {
             "pattern": {
              "fillmode": "overlay",
              "size": 10,
              "solidity": 0.2
             }
            },
            "type": "histogram"
           }
          ],
          "histogram2d": [
           {
            "colorbar": {
             "outlinewidth": 0,
             "ticks": ""
            },
            "colorscale": [
             [
              0,
              "#0d0887"
             ],
             [
              0.1111111111111111,
              "#46039f"
             ],
             [
              0.2222222222222222,
              "#7201a8"
             ],
             [
              0.3333333333333333,
              "#9c179e"
             ],
             [
              0.4444444444444444,
              "#bd3786"
             ],
             [
              0.5555555555555556,
              "#d8576b"
             ],
             [
              0.6666666666666666,
              "#ed7953"
             ],
             [
              0.7777777777777778,
              "#fb9f3a"
             ],
             [
              0.8888888888888888,
              "#fdca26"
             ],
             [
              1,
              "#f0f921"
             ]
            ],
            "type": "histogram2d"
           }
          ],
          "histogram2dcontour": [
           {
            "colorbar": {
             "outlinewidth": 0,
             "ticks": ""
            },
            "colorscale": [
             [
              0,
              "#0d0887"
             ],
             [
              0.1111111111111111,
              "#46039f"
             ],
             [
              0.2222222222222222,
              "#7201a8"
             ],
             [
              0.3333333333333333,
              "#9c179e"
             ],
             [
              0.4444444444444444,
              "#bd3786"
             ],
             [
              0.5555555555555556,
              "#d8576b"
             ],
             [
              0.6666666666666666,
              "#ed7953"
             ],
             [
              0.7777777777777778,
              "#fb9f3a"
             ],
             [
              0.8888888888888888,
              "#fdca26"
             ],
             [
              1,
              "#f0f921"
             ]
            ],
            "type": "histogram2dcontour"
           }
          ],
          "mesh3d": [
           {
            "colorbar": {
             "outlinewidth": 0,
             "ticks": ""
            },
            "type": "mesh3d"
           }
          ],
          "parcoords": [
           {
            "line": {
             "colorbar": {
              "outlinewidth": 0,
              "ticks": ""
             }
            },
            "type": "parcoords"
           }
          ],
          "pie": [
           {
            "automargin": true,
            "type": "pie"
           }
          ],
          "scatter": [
           {
            "fillpattern": {
             "fillmode": "overlay",
             "size": 10,
             "solidity": 0.2
            },
            "type": "scatter"
           }
          ],
          "scatter3d": [
           {
            "line": {
             "colorbar": {
              "outlinewidth": 0,
              "ticks": ""
             }
            },
            "marker": {
             "colorbar": {
              "outlinewidth": 0,
              "ticks": ""
             }
            },
            "type": "scatter3d"
           }
          ],
          "scattercarpet": [
           {
            "marker": {
             "colorbar": {
              "outlinewidth": 0,
              "ticks": ""
             }
            },
            "type": "scattercarpet"
           }
          ],
          "scattergeo": [
           {
            "marker": {
             "colorbar": {
              "outlinewidth": 0,
              "ticks": ""
             }
            },
            "type": "scattergeo"
           }
          ],
          "scattergl": [
           {
            "marker": {
             "colorbar": {
              "outlinewidth": 0,
              "ticks": ""
             }
            },
            "type": "scattergl"
           }
          ],
          "scattermapbox": [
           {
            "marker": {
             "colorbar": {
              "outlinewidth": 0,
              "ticks": ""
             }
            },
            "type": "scattermapbox"
           }
          ],
          "scatterpolar": [
           {
            "marker": {
             "colorbar": {
              "outlinewidth": 0,
              "ticks": ""
             }
            },
            "type": "scatterpolar"
           }
          ],
          "scatterpolargl": [
           {
            "marker": {
             "colorbar": {
              "outlinewidth": 0,
              "ticks": ""
             }
            },
            "type": "scatterpolargl"
           }
          ],
          "scatterternary": [
           {
            "marker": {
             "colorbar": {
              "outlinewidth": 0,
              "ticks": ""
             }
            },
            "type": "scatterternary"
           }
          ],
          "surface": [
           {
            "colorbar": {
             "outlinewidth": 0,
             "ticks": ""
            },
            "colorscale": [
             [
              0,
              "#0d0887"
             ],
             [
              0.1111111111111111,
              "#46039f"
             ],
             [
              0.2222222222222222,
              "#7201a8"
             ],
             [
              0.3333333333333333,
              "#9c179e"
             ],
             [
              0.4444444444444444,
              "#bd3786"
             ],
             [
              0.5555555555555556,
              "#d8576b"
             ],
             [
              0.6666666666666666,
              "#ed7953"
             ],
             [
              0.7777777777777778,
              "#fb9f3a"
             ],
             [
              0.8888888888888888,
              "#fdca26"
             ],
             [
              1,
              "#f0f921"
             ]
            ],
            "type": "surface"
           }
          ],
          "table": [
           {
            "cells": {
             "fill": {
              "color": "#EBF0F8"
             },
             "line": {
              "color": "white"
             }
            },
            "header": {
             "fill": {
              "color": "#C8D4E3"
             },
             "line": {
              "color": "white"
             }
            },
            "type": "table"
           }
          ]
         },
         "layout": {
          "annotationdefaults": {
           "arrowcolor": "#2a3f5f",
           "arrowhead": 0,
           "arrowwidth": 1
          },
          "autotypenumbers": "strict",
          "coloraxis": {
           "colorbar": {
            "outlinewidth": 0,
            "ticks": ""
           }
          },
          "colorscale": {
           "diverging": [
            [
             0,
             "#8e0152"
            ],
            [
             0.1,
             "#c51b7d"
            ],
            [
             0.2,
             "#de77ae"
            ],
            [
             0.3,
             "#f1b6da"
            ],
            [
             0.4,
             "#fde0ef"
            ],
            [
             0.5,
             "#f7f7f7"
            ],
            [
             0.6,
             "#e6f5d0"
            ],
            [
             0.7,
             "#b8e186"
            ],
            [
             0.8,
             "#7fbc41"
            ],
            [
             0.9,
             "#4d9221"
            ],
            [
             1,
             "#276419"
            ]
           ],
           "sequential": [
            [
             0,
             "#0d0887"
            ],
            [
             0.1111111111111111,
             "#46039f"
            ],
            [
             0.2222222222222222,
             "#7201a8"
            ],
            [
             0.3333333333333333,
             "#9c179e"
            ],
            [
             0.4444444444444444,
             "#bd3786"
            ],
            [
             0.5555555555555556,
             "#d8576b"
            ],
            [
             0.6666666666666666,
             "#ed7953"
            ],
            [
             0.7777777777777778,
             "#fb9f3a"
            ],
            [
             0.8888888888888888,
             "#fdca26"
            ],
            [
             1,
             "#f0f921"
            ]
           ],
           "sequentialminus": [
            [
             0,
             "#0d0887"
            ],
            [
             0.1111111111111111,
             "#46039f"
            ],
            [
             0.2222222222222222,
             "#7201a8"
            ],
            [
             0.3333333333333333,
             "#9c179e"
            ],
            [
             0.4444444444444444,
             "#bd3786"
            ],
            [
             0.5555555555555556,
             "#d8576b"
            ],
            [
             0.6666666666666666,
             "#ed7953"
            ],
            [
             0.7777777777777778,
             "#fb9f3a"
            ],
            [
             0.8888888888888888,
             "#fdca26"
            ],
            [
             1,
             "#f0f921"
            ]
           ]
          },
          "colorway": [
           "#636efa",
           "#EF553B",
           "#00cc96",
           "#ab63fa",
           "#FFA15A",
           "#19d3f3",
           "#FF6692",
           "#B6E880",
           "#FF97FF",
           "#FECB52"
          ],
          "font": {
           "color": "#2a3f5f"
          },
          "geo": {
           "bgcolor": "white",
           "lakecolor": "white",
           "landcolor": "#E5ECF6",
           "showlakes": true,
           "showland": true,
           "subunitcolor": "white"
          },
          "hoverlabel": {
           "align": "left"
          },
          "hovermode": "closest",
          "mapbox": {
           "style": "light"
          },
          "paper_bgcolor": "white",
          "plot_bgcolor": "#E5ECF6",
          "polar": {
           "angularaxis": {
            "gridcolor": "white",
            "linecolor": "white",
            "ticks": ""
           },
           "bgcolor": "#E5ECF6",
           "radialaxis": {
            "gridcolor": "white",
            "linecolor": "white",
            "ticks": ""
           }
          },
          "scene": {
           "xaxis": {
            "backgroundcolor": "#E5ECF6",
            "gridcolor": "white",
            "gridwidth": 2,
            "linecolor": "white",
            "showbackground": true,
            "ticks": "",
            "zerolinecolor": "white"
           },
           "yaxis": {
            "backgroundcolor": "#E5ECF6",
            "gridcolor": "white",
            "gridwidth": 2,
            "linecolor": "white",
            "showbackground": true,
            "ticks": "",
            "zerolinecolor": "white"
           },
           "zaxis": {
            "backgroundcolor": "#E5ECF6",
            "gridcolor": "white",
            "gridwidth": 2,
            "linecolor": "white",
            "showbackground": true,
            "ticks": "",
            "zerolinecolor": "white"
           }
          },
          "shapedefaults": {
           "line": {
            "color": "#2a3f5f"
           }
          },
          "ternary": {
           "aaxis": {
            "gridcolor": "white",
            "linecolor": "white",
            "ticks": ""
           },
           "baxis": {
            "gridcolor": "white",
            "linecolor": "white",
            "ticks": ""
           },
           "bgcolor": "#E5ECF6",
           "caxis": {
            "gridcolor": "white",
            "linecolor": "white",
            "ticks": ""
           }
          },
          "title": {
           "x": 0.05
          },
          "xaxis": {
           "automargin": true,
           "gridcolor": "white",
           "linecolor": "white",
           "ticks": "",
           "title": {
            "standoff": 15
           },
           "zerolinecolor": "white",
           "zerolinewidth": 2
          },
          "yaxis": {
           "automargin": true,
           "gridcolor": "white",
           "linecolor": "white",
           "ticks": "",
           "title": {
            "standoff": 15
           },
           "zerolinecolor": "white",
           "zerolinewidth": 2
          }
         }
        },
        "title": {
         "text": "Kilograms Pulled by Day_Order<br><sup>by Jerry Yu</sub>",
         "x": 0.5,
         "xanchor": "center",
         "yanchor": "top"
        },
        "xaxis": {
         "anchor": "y",
         "domain": [
          0,
          1
         ],
         "title": {
          "text": "Pinch"
         }
        },
        "yaxis": {
         "anchor": "x",
         "domain": [
          0,
          1
         ],
         "title": {
          "text": "Pull"
         }
        }
       }
      }
     },
     "metadata": {},
     "output_type": "display_data"
    },
    {
     "name": "stderr",
     "output_type": "stream",
     "text": [
      "c:\\Users\\yujer\\anaconda3\\envs\\main\\Lib\\site-packages\\rpy2\\robjects\\pandas2ri.py:65: UserWarning:\n",
      "\n",
      "Error while trying to convert the column \"Day\". Fall back to string conversion. The error is: Converting pandas \"Category\" series to R factor is only possible when categories are strings.\n",
      "\n",
      "c:\\Users\\yujer\\anaconda3\\envs\\main\\Lib\\site-packages\\rpy2\\robjects\\pandas2ri.py:65: UserWarning:\n",
      "\n",
      "Error while trying to convert the column \"Person\". Fall back to string conversion. The error is: Converting pandas \"Category\" series to R factor is only possible when categories are strings.\n",
      "\n"
     ]
    }
   ],
   "source": [
    "# Test Pinch Order\n",
    "byOrder = px.scatter(Chalk, x = \"Pinch\", y = \"Pull\", color = \"Pinch_Order\", title = \"Kilograms Pulled by pinch Order\")\n",
    "byOrder.update_layout(\n",
    "    title = {\n",
    "        \"text\":\"Kilograms Pulled by pinch Order<br><sup>by Jerry Yu</sub>\",\n",
    "        \"x\":0.5,\n",
    "        \"xanchor\":\"center\",\n",
    "        \"yanchor\":\"top\"\n",
    "    }\n",
    ")\n",
    "byOrder.show()\n",
    "\n",
    "# Very random, quite nice\n",
    "\n",
    "# Test Day Order\n",
    "byDay = px.scatter(Chalk, x = \"Pinch\", y = \"Pull\", color = \"Day_Order\", title = \"Kilograms Pulled by Day_Order\")\n",
    "byDay.update_layout(\n",
    "    title = {\n",
    "        \"text\":\"Kilograms Pulled by Day_Order<br><sup>by Jerry Yu</sub>\",\n",
    "        \"x\":0.5,\n",
    "        \"xanchor\":\"center\",\n",
    "        \"yanchor\":\"top\"\n",
    "    }\n",
    ")\n",
    "byDay.show()\n",
    "%R -i Chalk\n",
    "\n",
    "# Generally Also Pretty Random"
   ]
  },
  {
   "cell_type": "markdown",
   "metadata": {},
   "source": [
    "### Graph Summary\n",
    "- From our EDA we have generally shown that there appears to be good separation from chalk and person, and negligible for day order and pinch order.\n",
    "- However, we cannot avoid confonding of chalk and day. \n",
    "- The data is also somewhat group unbalanced, with control being overrepresented. Linearity looks fine, but not homoscedasticity or normality.\n",
    "\n",
    "Now we will test assumptions needed for Linear Mixed Models. I will increase power using chalk instead of bChalk initially for testing. So instead of each individual chalk, we are testing whether using chalk at all is significant. This results in control and treatment groups of roughly equal size and removes confounding from type of chalk by ignoring it. "
   ]
  },
  {
   "cell_type": "code",
   "execution_count": 223,
   "metadata": {},
   "outputs": [
    {
     "name": "stdout",
     "output_type": "stream",
     "text": [
      "           df      AIC\n",
      "twoeffects  7 3556.291\n",
      "nested      6 3555.706\n",
      "indep       7 3576.381\n",
      "nodate      6 3657.689\n",
      "           df      BIC\n",
      "twoeffects  7 3586.784\n",
      "nested      6 3581.843\n",
      "indep       7 3606.874\n",
      "nodate      6 3683.826\n",
      "[1] \"Random Intercepts for Person and For Each Person by Day Group\"\n",
      "           R2m       R2c\n",
      "[1,] 0.8914495 0.9276219\n",
      "[1] \"Random Intercept for Person by Day Group\"\n",
      "           R2m       R2c\n",
      "[1,] 0.8911071 0.9276359\n",
      "[1] \"Random Intercept for Person and Day\"\n",
      "           R2m       R2c\n",
      "[1,] 0.8876317 0.9241147\n",
      "[1] \"Random Intercept for Person Only\"\n",
      "           R2m       R2c\n",
      "[1,] 0.8761392 0.9104231\n"
     ]
    }
   ],
   "source": [
    "%%R \n",
    "# -o resid -o predict\n",
    "Chalk$Day = as.factor(Chalk$Day)\n",
    "Chalk$Person = as.factor(Chalk$Person)\n",
    "# Now we will test assumptions needed for Linear Mixed Models and the random effects structure\n",
    "# First Fit a Full Model of All Relevant Variables and a model without Date to Test Significance of Date\n",
    "twoeffects = lmer(Pull~Pinch*Used + (1|Person) + (1 | Person:Day),\n",
    "                data = Chalk,\n",
    "                REML = FALSE,\n",
    "                na.action=na.fail) \n",
    "nested = lmer(Pull~Pinch*Used + (1 | Person:Day),\n",
    "                data = Chalk,\n",
    "                REML = FALSE,\n",
    "                na.action=na.fail) \n",
    "indep = lmer(Pull~Pinch*Used + (1 | Day) + (1|Person),\n",
    "                data = Chalk,\n",
    "                REML = FALSE,\n",
    "                na.action=na.fail) \n",
    "nodate = lmer(Pull~Pinch*Used + (1|Person), \n",
    "            data = Chalk)\n",
    "print(AIC(twoeffects, nested, indep, nodate))\n",
    "print(BIC(twoeffects, nested, indep, nodate))\n",
    "\n",
    "# Very Very Siginificant Effect on Fit, nested random better than crossed random\n",
    "resid = summary(nested)$residuals\n",
    "predict = predict(nested)\n",
    "\n",
    "# Test Practical Significance with Effect Size/Fit\n",
    "print(\"Random Intercepts for Person and For Each Person by Day Group\")\n",
    "r.squaredGLMM(twoeffects) |> print()\n",
    "print(\"Random Intercept for Person by Day Group\")\n",
    "r.squaredGLMM(nested) |> print()\n",
    "print(\"Random Intercept for Person and Day\")\n",
    "r.squaredGLMM(indep) |> print()\n",
    "print(\"Random Intercept for Person Only\")\n",
    "r.squaredGLMM(nodate) |> print()"
   ]
  },
  {
   "cell_type": "markdown",
   "metadata": {},
   "source": [
    "- From AIC and BIC (Basically comparing how likley our data would be assuming that our model was correct while accounting for increasing number of variables) we see that the model that includes the only nested Person Date conponent is the best model. \n",
    "- However we see from the conditional coefficient of determination (basically an approximation of how much of the variability of the data can be explained by our model) that the effects are very small, indicating that Date probably does not have  much of an effect on explaining the variation in our data. This is good because it might indicate that confounding does not have much of an effect. "
   ]
  },
  {
   "cell_type": "code",
   "execution_count": 224,
   "metadata": {},
   "outputs": [
    {
     "data": {
      "application/vnd.plotly.v1+json": {
       "config": {
        "plotlyServerURL": "https://plot.ly"
       },
       "data": [
        {
         "hovertemplate": "Predicted Values=%{x}<br>Residuals=%{y}<extra></extra>",
         "legendgroup": "",
         "marker": {
          "color": "#636efa",
          "symbol": "circle"
         },
         "mode": "markers",
         "name": "",
         "orientation": "v",
         "showlegend": false,
         "type": "scatter",
         "x": [
          36.594190512790135,
          36.09827381927087,
          36.31539011092737,
          47.04890886633834,
          47.04890886633834,
          47.03290058766677,
          4.075416325079157,
          10.044646882032577,
          6.896997790328052,
          38.25104399362384,
          34.762481434070814,
          37.75514445056319,
          48.29674717880149,
          49.35958732879506,
          48.591496018585445,
          52.895602419508556,
          55.88668199288638,
          52.55925443471667,
          26.28725152074166,
          25.78153452270969,
          26.19302317864573,
          60.78878293638254,
          61.195901567022354,
          60.20460818390601,
          50.0662374906592,
          47.04890886633834,
          50.392970038469464,
          40.67111408827496,
          41.35241756900915,
          40.04638027968629,
          7.823729129789195,
          8.531488750198724,
          10.060903724438727,
          33.77172526369018,
          29.4678115737837,
          29.022260782657458,
          41.31799809892317,
          42.555124782876,
          41.77010326411485,
          42.25957613962158,
          39.831309583415226,
          39.52211029340745,
          43.57413908417597,
          43.57825317839974,
          43.504092556170654,
          6.2906753196356675,
          9.368063014610883,
          2.3958963796787494,
          28.12917769911146,
          29.401498229804474,
          26.893036436048106,
          47.176693860124495,
          47.776947706958914,
          49.8465886116483,
          35.404034625206116,
          36.18078050699853,
          32.85493324246556,
          7.287196773911017,
          2.818728953106543,
          2.818728953106543,
          62.50978706801755,
          67.92415531249165,
          64.44484466217685,
          59.29650041807466,
          60.52977294173984,
          58.39060211665395,
          47.7983972802521,
          45.81140694534408,
          47.13158351231729,
          6.48587063762616,
          9.21232907361467,
          4.733797388041782,
          26.365857940246812,
          24.642836478667316,
          20.72081625525047,
          19.29292244723243,
          18.776985785815675,
          22.331719303359208,
          43.22295921714842,
          42.89024944771949,
          39.50474123883383,
          36.03869330332466,
          39.86140048934233,
          37.20900070295138,
          46.41744315621787,
          44.46826097353049,
          47.36764553646359,
          43.51896322118607,
          44.34440442099598,
          42.473598777260136,
          40.89289963103384,
          37.80324130438106,
          40.29148412454083,
          49.30325592343234,
          46.87242982722479,
          45.438101169356514,
          8.99473627073255,
          6.172157671775839,
          9.240911461357841,
          29.1906524866224,
          26.218971726114084,
          26.20259479620382,
          28.40375636361194,
          29.163143220908577,
          25.56434394943745,
          47.027165764048654,
          43.707803754662564,
          42.899073931272646,
          23.8022498597891,
          21.436569969546625,
          21.149926136858653,
          63.3737787544581,
          63.58866851049156,
          66.65806552667425,
          33.99408607840762,
          31.24176653225867,
          31.761228571450474,
          56.62292620917607,
          58.34157563042616,
          55.87763567698197,
          4.708405152062122,
          2.5932181624925685,
          6.747215249337886,
          49.46218055929332,
          49.855881227696095,
          50.015223563260115,
          29.89646670328732,
          30.622098426358736,
          30.614241218998277,
          20.975821202558787,
          18.073505057524734,
          19.644768972314917,
          2.5932181624925685,
          1.600749618722507,
          3.5254277748879663,
          24.459856221499923,
          24.728579445965885,
          23.197777092508375,
          57.955246888427766,
          57.6919393997792,
          59.89214280683526,
          39.327248486549976,
          35.686793349780395,
          35.65286141502214,
          22.364054252980985,
          21.26877762984532,
          22.29772076824958,
          47.4191842166578,
          49.187880728357364,
          49.180426491840535,
          3.7956728472725945,
          1.6365113173163364,
          6.489357324964477,
          40.83587850727464,
          39.71328939301155,
          40.42561863813332,
          62.38213364126808,
          62.55051930507496,
          63.98157325844924,
          57.410134171996354,
          55.63192670898323,
          57.07879677096718,
          30.33762384011467,
          28.497021532111724,
          29.081592282795004,
          45.740016348922104,
          46.12533229311481,
          44.69845322157747,
          48.291812816515296,
          46.60753769017179,
          45.09363555219512,
          65.5748954362731,
          66.22774458490267,
          64.05416537111253,
          21.23410224687351,
          22.364054252980985,
          23.231599176208316,
          62.83641189741968,
          62.27849947048603,
          62.74498239510591,
          9.205245387035538,
          8.433575130760133,
          4.849112559457103,
          36.56399081640575,
          39.606025202253996,
          36.51474273309869,
          30.86469272535371,
          31.729287893161935,
          31.32518063612216,
          48.640615703223425,
          48.142809165536754,
          48.02684691432008,
          57.01551639775675,
          53.00554408691406,
          50.786654065468674,
          2.992949187547746,
          0.5273117265432155,
          1.2509449226824043,
          17.82999114286238,
          17.250389431347852,
          16.533846797080233,
          52.80964667615716,
          50.688142066670565,
          51.64497515604951,
          34.913571481917195,
          38.304669706333314,
          38.85256830667903,
          54.50310128393886,
          56.47425248056483,
          62.87297296945893,
          49.30387084727743,
          41.7907213035983,
          43.67013381554018,
          28.462379617427214,
          25.573325267954505,
          22.713158890016448,
          40.93237449779164,
          41.59859261029589,
          40.58189797832617,
          28.585250688643356,
          24.845613289758077,
          31.62138116274979,
          -1.4438988204740613,
          -1.3735936489786478,
          -1.7985127983266624,
          15.726199760964827,
          15.140860608041207,
          14.962469816550458,
          43.14122295990551,
          45.323762528522565,
          44.23765036880163,
          41.750750220485955,
          41.551093858397586,
          40.138597845418985,
          20.995267759038097,
          22.30587741968066,
          21.271327767042198,
          23.372644685996143,
          24.361319353166454,
          25.382944340311923,
          0.8005534555863032,
          1.1314455502993845,
          -2.471877187232931,
          34.49108254190263,
          35.28833055180543,
          35.219029263238376,
          22.43097476835327,
          21.141707322811214,
          21.255153271378916,
          35.02213819261559,
          35.233873021205795,
          35.212761102555945,
          36.455960109162085,
          37.89772905974919,
          38.14001217594242,
          -0.2755597230356064,
          -1.0020344710744,
          -3.576747449565165,
          7.319098264323172,
          4.012521312178864,
          6.198027765518869,
          27.974709439661332,
          28.050625949986788,
          29.668836431139795,
          25.877094605903057,
          24.03695019756822,
          23.98837867147709,
          45.225769119114624,
          44.04350977232619,
          44.35648117522047,
          42.59150801228252,
          40.95550972356838,
          39.08257643187621,
          37.084468920415574,
          38.80799092110033,
          40.20925133807298,
          28.888819146182765,
          27.53987549833241,
          29.543516933723694,
          50.1692207266359,
          46.82725860798028,
          45.86543220467387,
          7.060749828424465,
          9.75986061620177,
          4.747859151379462,
          33.870395327531746,
          32.68594642160205,
          33.80148761046662,
          59.617885257590856,
          58.839954801601365,
          60.388397218589446,
          53.11932656511665,
          53.05275568985848,
          53.96616150575105,
          12.513219025216994,
          12.568459169081297,
          11.04273353235602,
          32.17755443209325,
          32.11654182476583,
          32.12671849830024,
          14.190417300976442,
          11.404324709978603,
          12.645584724601242,
          42.29449052852577,
          40.04126064307895,
          41.23351999361338,
          19.982981471680507,
          18.78126997574805,
          17.865838132329074,
          22.02600155615139,
          21.305409919115654,
          22.07080215605263,
          43.99904622496076,
          43.978808558271396,
          44.20050001946221,
          46.55345419842705,
          43.76711198096408,
          48.993636934690564,
          5.332148528591069,
          7.0422041762258685,
          5.922136698211892,
          28.83597454821322,
          30.634351576154533,
          28.6539144153391,
          36.7329949673553,
          35.68453384829933,
          35.18938958023914,
          39.14613841274081,
          39.901899351080566,
          35.607612690225814,
          -4.730447735505165,
          0.45547377797986055,
          -5.014224215099106,
          20.632991202528846,
          16.85687015538611,
          18.052648997697165,
          38.556700235484236,
          38.424703758841986,
          39.378038499683996,
          53.008288993893856,
          55.83318095871502,
          51.831930601437236,
          -3.183500578240816,
          -6.822406433142051,
          -5.162884076806991,
          43.09734697559269,
          43.0609467083313,
          39.42842988455429,
          36.26005162459629,
          31.861090606237966,
          35.58049007059371,
          3.793304975271142,
          4.181504801067451,
          1.652008492067569,
          62.20106741688597,
          59.55785653360852,
          59.60697913419844,
          56.073844595595915,
          53.46193814803395,
          54.00856772877935,
          7.158747642360775,
          3.002805695669143,
          6.529370565692538,
          40.93715692653496,
          39.02304986550929,
          39.333947872336054,
          40.916548183768704,
          40.22802656169499,
          38.03292655289859,
          27.489839046776467,
          28.29771612795043,
          29.50327782245604,
          47.44532648423542,
          48.275000136702985,
          47.65793703171079,
          19.86319946797005,
          18.49836613731578,
          19.938211921871666,
          20.984553974942212,
          24.41791662768201,
          22.25480191367171,
          34.24021259877839,
          34.51053581296612,
          35.883418794503875,
          -4.380710867366364,
          -5.600764771145211,
          0.1446888364506176,
          26.620747233272734,
          26.077804807533653,
          28.066555257424636,
          40.91310862247847,
          42.23994989117018,
          41.39094329606219,
          19.70250712791756,
          17.44887896914036,
          18.32668208918026,
          -5.290553851521938,
          -4.165924947333119,
          -4.940711395852766,
          28.215175284016027,
          26.94213946010521,
          29.03963539969984,
          51.37490227469157,
          51.217122627285335,
          51.90185933126364,
          8.535114667432865,
          3.507361873237839,
          5.948217025790456,
          33.87815063995718,
          33.39161377302546,
          33.44880229451444,
          32.49569907582877,
          31.34077862818221,
          31.096761513658056,
          33.27091641481041,
          33.61132444811184,
          35.73103270175128,
          37.39812016999762,
          37.26426099300943,
          37.52722164008888,
          46.762194583710276,
          44.87371428086015,
          44.05554495421567,
          21.361621922372997,
          19.691848616092006,
          22.223444353381552,
          45.009436156034894,
          42.80138228097521,
          45.65630053601312,
          26.022527556207816,
          19.766559093511948,
          24.343075787871925,
          30.85731118777167,
          29.09338436578129,
          26.745683060811942,
          4.487009118862012,
          6.300173662532689,
          2.912066657100932,
          16.203564557129106,
          15.243895566528384,
          16.70938454110049,
          53.58110328308678,
          55.15497738025645,
          55.03791546678,
          13.143131584243612,
          11.903025123350954,
          11.693925828203508,
          41.977561920278234,
          40.50882709930771,
          38.9123589924461,
          23.055706658315227,
          21.3145776723165,
          22.87975191966966,
          39.560135964326165,
          38.193960788496945,
          38.75122428099416,
          2.6697985744761352,
          5.788155718138433,
          2.710344924294545,
          32.428009541755,
          32.87563459972077,
          34.00874399225908,
          16.307888989351213,
          14.93987023288632,
          17.53700247849494,
          53.002007570395264,
          54.10138944248882,
          55.05764127679847,
          41.69351787636343,
          40.417111407883304,
          41.271330143734886,
          17.73793479925668,
          20.48802178521392,
          20.369924484343024,
          27.240427030417365,
          25.68802796147598,
          25.68802796147598,
          3.0617076088548263,
          1.8624409110467157,
          5.6027214587962755,
          -1.4604960198822186,
          -2.3861221734784284,
          2.1028789730124524,
          -6.341996611674839,
          0.5310994726485543,
          -6.876096913593665,
          54.03055268497183,
          53.165614527729815,
          51.97787535298049,
          8.519973966016929,
          2.6895836337517283,
          8.802537234357574,
          17.963606567312514,
          16.596684719895936,
          19.305942379574134,
          12.8955423836467,
          12.564924398817961,
          9.12556364709663,
          49.68526500780472,
          46.637681575135375,
          43.33909061435748,
          20.850263996292195,
          21.503854871167846,
          21.69502479570037,
          39.88971478892074,
          39.09040655066681,
          40.202452495135645,
          28.858318315106818,
          29.168173751714132,
          29.463064504265585,
          36.10830924026802,
          39.59046107412011,
          39.78944536655734,
          57.93986729455541,
          58.403567224211976,
          60.29614963256084,
          39.57049591218665,
          38.04773948460507,
          40.066005489223585,
          44.42565760742529,
          46.61375989761362,
          44.140719092417804,
          1.019139422839177,
          -4.111846476370263,
          -4.534665709870778,
          29.131719153246543,
          29.959251534985487,
          24.631749492104007,
          32.61204671928868,
          32.57315731237468,
          32.529332104820384,
          36.96672003773221,
          37.55226815698213,
          38.97210991580849,
          0.14652460855198957,
          -1.6390409885308639,
          2.5249540813014493,
          34.82700537201124,
          34.44419097627325,
          35.69367302353395,
          26.870130335518088,
          29.321244531380465,
          29.52566077386201,
          31.096038241775307,
          31.639697821941237,
          30.51100869287129,
          48.00846905252069,
          53.264315950729,
          50.75957082935317,
          63.88134869670764,
          61.06602407747392,
          62.230380096747226,
          52.818916374365664,
          55.20441826401323,
          53.75508694758844,
          38.72669312287719,
          39.02833451412638,
          40.133098107182825,
          46.87200769442206,
          46.03477500768846,
          48.645499766756544,
          23.671888451642083,
          29.007832511887482,
          32.3232020649421,
          34.414492056006864,
          34.76850248755126,
          35.39869903038841,
          28.90363482635392,
          26.664203467569887,
          29.418781673143737,
          47.45900469823526,
          47.33731186686699,
          45.8942467659976,
          40.27355953380029,
          42.18505095048771,
          40.625798498610045
         ],
         "xaxis": "x",
         "y": [
          -0.3028413420735971,
          -0.6375573796314813,
          -0.6705290484512774,
          -0.9034119525695579,
          -0.3870818645231557,
          -0.20241666993737695,
          0.47450487175889133,
          -0.08271105075119971,
          0.24343478589955725,
          -1.1619012408454983,
          -1.3154999416335615,
          -1.5573645991434908,
          -0.5613946459752535,
          -1.8010181675502208,
          -1.2895337902711463,
          -1.183854142246941,
          -1.0306376796852816,
          -1.269451346552805,
          -0.42327700679764996,
          -0.4831535294804009,
          -0.12042991989793796,
          0.47247499423208017,
          0.07655329067158916,
          2.4442750216309275,
          -1.4527459546543704,
          -1.2678802500140771,
          -1.1682682050886095,
          0.1258760987592387,
          0.17427392283353266,
          0.6763346653866977,
          0.08751352622191831,
          -0.03515429610937013,
          -0.08517984394853034,
          0.2624588961080067,
          -0.46588335882397364,
          -0.29191796445813856,
          1.4095814290676103,
          0.15867662142798225,
          -0.010646007215517655,
          1.4336396714778088,
          -0.11105798282175323,
          1.1356057207665344,
          1.9629443837479335,
          1.3700586266850627,
          0.9257354197632726,
          -0.08970101170421206,
          -0.2988735734161485,
          0.6232565245976559,
          0.19298935014973864,
          0.6679643547874444,
          -0.5000864096955087,
          -0.7102111036953381,
          -0.6191325789690215,
          -0.5082189389727808,
          1.6394946330921294,
          3.0857130558398898,
          2.2240260612832934,
          0.8219979900895221,
          0.9538850684370049,
          1.3031671868213361,
          1.7449243102477674,
          2.335003306261469,
          1.6181109687430353,
          2.7644160417318124,
          1.2103729525709663,
          1.3833694738699345,
          1.1543930004650607,
          0.074198616155691,
          0.20781017810863575,
          0.35142782865448535,
          0.49927159379062785,
          0.9060382117456066,
          -0.32891106499518724,
          0.06942567094744372,
          -0.17020916345803322,
          -0.6823032478721114,
          -0.4672765710905108,
          -0.8096844403947538,
          -0.7779817598965801,
          -0.7578282166807401,
          -0.16776798268104823,
          0.07005486097375634,
          -0.5712130134823252,
          -0.2595319068900732,
          0.7870323621927978,
          0.2933573475351978,
          -0.040645130413962345,
          -0.5951407720722398,
          -0.7053075716517508,
          -0.8160443322908134,
          -0.8797201107457867,
          -0.6231255717549137,
          -1.304718163080422,
          0.27285677272089215,
          0.9761023156568975,
          0.1612618578595655,
          -0.8192543098983702,
          -0.13244742572304832,
          -0.6136600501854738,
          -0.8338203181911598,
          -0.26104612432169455,
          -0.10669730381907704,
          -1.3673265635212088,
          -1.224483367406611,
          -1.042431563468773,
          -0.2622904855946985,
          0.43921410058898636,
          -1.1388227950589669,
          -1.2759807087919937,
          -1.0382137571504115,
          -0.6757737511894754,
          1.173317792934303,
          2.720046872060645,
          3.4232585327495646,
          -1.350671837634261,
          -1.312354139552227,
          -1.4216129330939768,
          0.755827337832224,
          1.846400095661054,
          1.7042483408802067,
          0.2113300854002013,
          0.4110567366125338,
          0.3572981051363535,
          -0.03981520919528674,
          -0.34258216262310304,
          -0.8223655468261903,
          -1.2751024682903025,
          -0.8385957549066781,
          -0.6096098594249639,
          -0.6037753269335094,
          -0.8464024579643574,
          -0.24977756126216238,
          0.7451526759366764,
          0.5314024286651221,
          0.7554474455839072,
          -1.6036386742954132,
          -1.4773994946770548,
          -1.6701421219086932,
          -0.5854646956889784,
          0.517554185229259,
          0.6693850860713874,
          0.9677774558933813,
          -1.0154684114824144,
          -0.2510064941020239,
          -1.0575737487063515,
          -0.9975463329339039,
          -1.0930587641187426,
          -1.6733930461136615,
          -0.9700750055596107,
          -0.4374267247480044,
          0.7751522612309952,
          1.4219561576328084,
          0.1079194691090067,
          -0.7040128111275116,
          0.9091525925925527,
          1.0895144000738504,
          1.3846555117057013,
          1.9209727885152696,
          0.048356855147421315,
          1.7600577774762096,
          1.4833971007042364,
          -0.4068068742976187,
          0.05503109251162036,
          0.547154761633543,
          0.3520775472799746,
          1.0569555798125214,
          1.454026182385611,
          0.4406340892863703,
          0.42645633402924604,
          1.350425249230269,
          0.8513925438103873,
          0.7783075560694508,
          1.3929151311945,
          0.341056468138566,
          -1.1593284368480699,
          -1.3916696880304944,
          -1.4626718972586168,
          0.5867314074059797,
          1.795234238013099,
          1.0258290690264604,
          -0.3197063341315711,
          -0.11140203289824424,
          -0.09857539558132687,
          -0.35899987834578395,
          -0.30463857920679616,
          -1.0956437501802911,
          0.6887398836575317,
          0.8611644945322051,
          0.6643679021582803,
          0.616465368049657,
          -0.7506238504818105,
          -0.21668352732341903,
          0.7265802469420074,
          -0.866454141396755,
          -0.635792783012726,
          0.48702847893022316,
          0.7399751662519453,
          0.5541520380463429,
          -0.5512569548240569,
          -0.46323760107754475,
          -0.21774654205337918,
          -0.19888528929703045,
          0.7003650037569074,
          0.7676651243393261,
          -0.12355042202657257,
          -0.3044327311691286,
          -1.3291806954175691,
          0.728465628356918,
          -0.3605582330395372,
          0.2774555963360089,
          -0.0005878337986974211,
          -1.7146291543512657,
          -1.2407311506849272,
          -0.2828243034829464,
          -0.1629970970898171,
          -0.5335145997068219,
          1.7111217845968036,
          0.5469161748873205,
          0.8228026746750707,
          -0.17999429188949523,
          0.2664243072254856,
          1.970956296164147,
          0.8874649389734234,
          0.6945541210192976,
          1.35134408724766,
          0.14788304798842308,
          -0.14288077664391421,
          0.21830590770290068,
          -0.09737726686629057,
          0.20899788671197173,
          -0.036090010543413625,
          0.4023198152686466,
          0.8578530016057174,
          0.7534474150907137,
          -0.5763561577011215,
          -0.8816909409677454,
          -0.6182791248301945,
          -0.37550024953760536,
          0.17292208195185269,
          0.10889335644144611,
          0.6984801880123075,
          1.088629514758632,
          1.316926797532814,
          -0.9857474177579557,
          -0.6512335562899338,
          -1.217784142804279,
          -1.0525502389385992,
          -0.7352703436123604,
          -0.8436155228595107,
          -1.415676598168806,
          -1.3870863121305432,
          -1.4901834717826543,
          -1.830839689602228,
          -1.98904458783183,
          -0.9628056014763562,
          0.4215014694626538,
          1.0177829554529028,
          1.408783478652418,
          0.4982436123687091,
          1.1370619206259556,
          0.6533052066478885,
          -0.6795373879301188,
          -0.12917757989742157,
          0.21733906221129234,
          -0.02689390395837317,
          -0.38526579967051094,
          -0.27158638732472773,
          1.6210078148691687,
          0.9804941669781045,
          1.1151999180496552,
          -0.5302266586460443,
          -0.46401517782255963,
          -0.5288702928526382,
          -0.4532267942499777,
          -0.22900620148967904,
          -0.5632935499921936,
          -0.4538874273245062,
          -0.03642792269827874,
          -0.826662228726952,
          -0.314235564697457,
          -1.7353639538786678,
          -1.5741130949641988,
          0.005960601336891762,
          -0.10020761472406281,
          0.44831739538047755,
          0.24747468353422422,
          -0.6660576770684082,
          -0.015412090249367327,
          0.8932684773079866,
          2.1959283560129776,
          2.568226280332792,
          -0.261100010808,
          0.28052582861723135,
          -0.20746773251471948,
          -0.5487099110062431,
          0.278141070143775,
          0.37316488576237883,
          -1.5303954609456238,
          -0.594773054476106,
          -0.41408435361915263,
          -0.5756195584546392,
          -0.7295933530902232,
          -0.06766729414279173,
          -1.8518771671396266,
          -0.9933675540515944,
          -0.9618196870429547,
          -0.34669765420032406,
          -0.5286718920856727,
          -0.11630155008669484,
          -0.4595340146812345,
          -0.3197313202678691,
          0.6118811992710945,
          0.10644809540660932,
          1.0206921673189582,
          0.501067975135347,
          -0.2814688733717089,
          -0.40503240116494066,
          0.30468988769537386,
          0.02549022500332107,
          0.16063876788953352,
          0.11812771385303507,
          -0.9773786191598051,
          -0.6734085705131099,
          -0.9801029995047008,
          0.14685111577845647,
          -0.3165610427729703,
          -0.24136754761909043,
          -1.1763424496088482,
          -0.972203898708128,
          -0.18339022549124945,
          1.4928693955320407,
          1.0090496497771435,
          1.7333845276363238,
          -1.0376702791829446,
          -0.3882908801334498,
          -0.37246366850820534,
          -0.22121710613082055,
          -0.3074751382561074,
          0.17038308242436362,
          0.029113576665367936,
          0.23793994515866274,
          0.4203639753760191,
          0.9845960071799946,
          1.522020587076784,
          1.2700025504998855,
          -1.1233743574169301,
          -0.08518637155942356,
          -0.3535995315593502,
          0.1731146014825153,
          -0.32818708911620653,
          -0.05778190342659749,
          1.0488630735964413,
          0.9899103529396748,
          1.1462515058424263,
          -0.8354019481499784,
          -0.28213741987519725,
          0.1659881058458459,
          0.7784671386163248,
          0.9321370636646749,
          2.0336468834314108,
          0.613711819305174,
          1.2296544259070525,
          0.6789177910114147,
          -0.8560687447674074,
          -0.8387402421597306,
          -1.5845180069396614,
          1.759083734163519,
          2.5773942763885973,
          1.498431441677115,
          0.9886446994629876,
          -0.4400523598465078,
          -0.5472002221542288,
          -0.7965646721874708,
          -1.9855929328795807,
          -2.347469996646757,
          -1.1637471929453294,
          0.1672960909748947,
          0.009383248182417845,
          0.5490481071897364,
          -1.0505672063143305,
          -1.0713548509517772,
          0.1305688542864533,
          -0.15346177802436434,
          -0.7112323642718712,
          1.2271512216543516,
          1.716154373316791,
          1.1169907237306291,
          0.012035467065355819,
          0.6260039431384133,
          0.005078978493714099,
          0.5447117472848747,
          0.5861941213398907,
          0.5025192762631615,
          -0.6382002574627375,
          -0.14409845931812396,
          -0.07998288514085476,
          1.0312256670706352,
          1.042671656640147,
          1.631103664912252,
          -0.6097517082110984,
          -0.9783148337186254,
          -0.5830939070567948,
          -0.9529178952864908,
          0.49854363614685454,
          -0.27363358445840724,
          -0.23312526217556903,
          0.5911429960952617,
          0.37233215263067193,
          -0.452267288866041,
          -0.4694980034210902,
          -0.7211616196592933,
          0.31956290630984097,
          0.661999163154247,
          0.39533245789962385,
          0.004416685324013423,
          -0.3813742274725491,
          -0.4602980534608126,
          -0.7742096577194152,
          0.2939647917394995,
          -0.8849323124979396,
          -1.1028498731815393,
          -0.5123382916705664,
          -1.7396595690675578,
          -0.8597840428424388,
          -0.6365816367717575,
          -0.6869383591924997,
          -1.3833752860289938,
          -1.3062213148402044,
          -1.3753060156277455,
          -1.7650178460054469,
          -0.6175549455290948,
          -0.7051058030464796,
          -1.2387838834717797,
          -1.866895362344741,
          -0.6447570319429851,
          0.5183029065175135,
          0.45555899910247466,
          1.0763862491194434,
          -0.41056815465341295,
          -0.11296931275380255,
          -0.10772840663681561,
          0.29140709141051585,
          1.510268942610485,
          -0.08168880597765846,
          -0.3102736208184971,
          -0.38011387715357503,
          0.15278422520732174,
          -0.7559014660452,
          -0.9125112427179877,
          0.4081499759021844,
          0.9634557469718538,
          0.1496479991810921,
          0.6712667883835021,
          0.9931554627502861,
          -0.2268755604301467,
          -0.23557169693689103,
          0.5361027096653742,
          0.24477755881490393,
          0.5299452683795802,
          -0.0801844744657947,
          0.38335464981984313,
          0.8490981490490729,
          0.3632702613956049,
          0.03950377222273404,
          -0.06636397888170238,
          -0.3192146334989388,
          0.4857467267017343,
          0.40127332711789016,
          0.9425274886340271,
          0.8022689211491029,
          1.553344119847926,
          -0.5676494717682099,
          -0.4689525177202097,
          0.2779185447443328,
          -0.7502620951771247,
          -0.6967461415612497,
          -0.33227784411673056,
          1.2662680130813633,
          1.2813428315576392,
          0.7437094883433754,
          0.9355439565750875,
          0.7268290833038106,
          0.4551481658088836,
          1.4338785123058537,
          0.67865523610529,
          1.9098285960811492,
          0.7546691675618978,
          0.9012064039407519,
          0.5045037974990311,
          0.17920086647750758,
          0.7457046219792545,
          -0.33448124827686065,
          -0.6626651067942148,
          -0.196916863409498,
          -0.28943982254614203,
          -0.6067702208063037,
          -0.6780514141065319,
          0.04167639595815609,
          -0.012948496760908602,
          1.679943484208145,
          1.83159129559073,
          -1.6932990561606414,
          -0.7598943606475039,
          -1.1078355279601944,
          -1.896710451952324,
          -2.1246081900325766,
          -1.6708521369234552,
          -0.17590429341907765,
          -0.08628388330829763,
          -0.35885920692552264,
          1.0010259618667858,
          -0.013737580695649088,
          0.5027467545199635,
          2.059266033447972,
          3.6289550703286957,
          2.56704898486561,
          -0.6485251559826872,
          0.7216867912745017,
          0.6429819878050499,
          1.1350670193079575,
          1.3798526917870335,
          0.6923805624824113,
          0.3767479294812637,
          1.0040868450863392,
          1.0227383938060781,
          -1.7360413402698625,
          -1.2694509061944355,
          -1.3563914710783742,
          -0.21443594320469325,
          -1.119700871846587,
          -1.3863967204372816,
          0.9314108773326367,
          0.5539510893162012,
          1.1735712257598603,
          1.131898119152366,
          0.7652377874345799,
          0.7555193815401523,
          -1.4467880948673864,
          -0.5837857250724562,
          -1.5935879753445414,
          -1.6507574568276246,
          -2.2204083753634283,
          -1.03655706715972,
          -1.0624308945152476,
          -1.5550188464621983,
          -1.1861937665063083,
          -0.8365259737908499,
          1.7062710983593103,
          1.0539860013999698,
          2.75153083020912,
          1.371915759849108,
          1.3773287185864433,
          0.7108777413459851,
          1.3508989708723578,
          1.4191352291581287,
          -1.2645065274325153,
          -1.2647557920466956,
          -1.3717824532392642,
          0.3990916172130371,
          -0.14195660647745822,
          -0.5536121222183957,
          -0.37538540643448304,
          -0.5478919054469228,
          -0.41355034175285277,
          -1.384143084051841,
          -1.5290208164390482,
          -1.5639788756246602,
          -0.27390321432202236,
          -0.465335425353662,
          -0.7621611715235228,
          0.5681142451592255,
          -0.30938982811688676,
          -0.0750571988835857,
          -1.3475546398153226,
          -1.4252306422309682,
          -1.4466048169116505
         ],
         "yaxis": "y"
        }
       ],
       "layout": {
        "legend": {
         "tracegroupgap": 0
        },
        "template": {
         "data": {
          "bar": [
           {
            "error_x": {
             "color": "#2a3f5f"
            },
            "error_y": {
             "color": "#2a3f5f"
            },
            "marker": {
             "line": {
              "color": "#E5ECF6",
              "width": 0.5
             },
             "pattern": {
              "fillmode": "overlay",
              "size": 10,
              "solidity": 0.2
             }
            },
            "type": "bar"
           }
          ],
          "barpolar": [
           {
            "marker": {
             "line": {
              "color": "#E5ECF6",
              "width": 0.5
             },
             "pattern": {
              "fillmode": "overlay",
              "size": 10,
              "solidity": 0.2
             }
            },
            "type": "barpolar"
           }
          ],
          "carpet": [
           {
            "aaxis": {
             "endlinecolor": "#2a3f5f",
             "gridcolor": "white",
             "linecolor": "white",
             "minorgridcolor": "white",
             "startlinecolor": "#2a3f5f"
            },
            "baxis": {
             "endlinecolor": "#2a3f5f",
             "gridcolor": "white",
             "linecolor": "white",
             "minorgridcolor": "white",
             "startlinecolor": "#2a3f5f"
            },
            "type": "carpet"
           }
          ],
          "choropleth": [
           {
            "colorbar": {
             "outlinewidth": 0,
             "ticks": ""
            },
            "type": "choropleth"
           }
          ],
          "contour": [
           {
            "colorbar": {
             "outlinewidth": 0,
             "ticks": ""
            },
            "colorscale": [
             [
              0,
              "#0d0887"
             ],
             [
              0.1111111111111111,
              "#46039f"
             ],
             [
              0.2222222222222222,
              "#7201a8"
             ],
             [
              0.3333333333333333,
              "#9c179e"
             ],
             [
              0.4444444444444444,
              "#bd3786"
             ],
             [
              0.5555555555555556,
              "#d8576b"
             ],
             [
              0.6666666666666666,
              "#ed7953"
             ],
             [
              0.7777777777777778,
              "#fb9f3a"
             ],
             [
              0.8888888888888888,
              "#fdca26"
             ],
             [
              1,
              "#f0f921"
             ]
            ],
            "type": "contour"
           }
          ],
          "contourcarpet": [
           {
            "colorbar": {
             "outlinewidth": 0,
             "ticks": ""
            },
            "type": "contourcarpet"
           }
          ],
          "heatmap": [
           {
            "colorbar": {
             "outlinewidth": 0,
             "ticks": ""
            },
            "colorscale": [
             [
              0,
              "#0d0887"
             ],
             [
              0.1111111111111111,
              "#46039f"
             ],
             [
              0.2222222222222222,
              "#7201a8"
             ],
             [
              0.3333333333333333,
              "#9c179e"
             ],
             [
              0.4444444444444444,
              "#bd3786"
             ],
             [
              0.5555555555555556,
              "#d8576b"
             ],
             [
              0.6666666666666666,
              "#ed7953"
             ],
             [
              0.7777777777777778,
              "#fb9f3a"
             ],
             [
              0.8888888888888888,
              "#fdca26"
             ],
             [
              1,
              "#f0f921"
             ]
            ],
            "type": "heatmap"
           }
          ],
          "heatmapgl": [
           {
            "colorbar": {
             "outlinewidth": 0,
             "ticks": ""
            },
            "colorscale": [
             [
              0,
              "#0d0887"
             ],
             [
              0.1111111111111111,
              "#46039f"
             ],
             [
              0.2222222222222222,
              "#7201a8"
             ],
             [
              0.3333333333333333,
              "#9c179e"
             ],
             [
              0.4444444444444444,
              "#bd3786"
             ],
             [
              0.5555555555555556,
              "#d8576b"
             ],
             [
              0.6666666666666666,
              "#ed7953"
             ],
             [
              0.7777777777777778,
              "#fb9f3a"
             ],
             [
              0.8888888888888888,
              "#fdca26"
             ],
             [
              1,
              "#f0f921"
             ]
            ],
            "type": "heatmapgl"
           }
          ],
          "histogram": [
           {
            "marker": {
             "pattern": {
              "fillmode": "overlay",
              "size": 10,
              "solidity": 0.2
             }
            },
            "type": "histogram"
           }
          ],
          "histogram2d": [
           {
            "colorbar": {
             "outlinewidth": 0,
             "ticks": ""
            },
            "colorscale": [
             [
              0,
              "#0d0887"
             ],
             [
              0.1111111111111111,
              "#46039f"
             ],
             [
              0.2222222222222222,
              "#7201a8"
             ],
             [
              0.3333333333333333,
              "#9c179e"
             ],
             [
              0.4444444444444444,
              "#bd3786"
             ],
             [
              0.5555555555555556,
              "#d8576b"
             ],
             [
              0.6666666666666666,
              "#ed7953"
             ],
             [
              0.7777777777777778,
              "#fb9f3a"
             ],
             [
              0.8888888888888888,
              "#fdca26"
             ],
             [
              1,
              "#f0f921"
             ]
            ],
            "type": "histogram2d"
           }
          ],
          "histogram2dcontour": [
           {
            "colorbar": {
             "outlinewidth": 0,
             "ticks": ""
            },
            "colorscale": [
             [
              0,
              "#0d0887"
             ],
             [
              0.1111111111111111,
              "#46039f"
             ],
             [
              0.2222222222222222,
              "#7201a8"
             ],
             [
              0.3333333333333333,
              "#9c179e"
             ],
             [
              0.4444444444444444,
              "#bd3786"
             ],
             [
              0.5555555555555556,
              "#d8576b"
             ],
             [
              0.6666666666666666,
              "#ed7953"
             ],
             [
              0.7777777777777778,
              "#fb9f3a"
             ],
             [
              0.8888888888888888,
              "#fdca26"
             ],
             [
              1,
              "#f0f921"
             ]
            ],
            "type": "histogram2dcontour"
           }
          ],
          "mesh3d": [
           {
            "colorbar": {
             "outlinewidth": 0,
             "ticks": ""
            },
            "type": "mesh3d"
           }
          ],
          "parcoords": [
           {
            "line": {
             "colorbar": {
              "outlinewidth": 0,
              "ticks": ""
             }
            },
            "type": "parcoords"
           }
          ],
          "pie": [
           {
            "automargin": true,
            "type": "pie"
           }
          ],
          "scatter": [
           {
            "fillpattern": {
             "fillmode": "overlay",
             "size": 10,
             "solidity": 0.2
            },
            "type": "scatter"
           }
          ],
          "scatter3d": [
           {
            "line": {
             "colorbar": {
              "outlinewidth": 0,
              "ticks": ""
             }
            },
            "marker": {
             "colorbar": {
              "outlinewidth": 0,
              "ticks": ""
             }
            },
            "type": "scatter3d"
           }
          ],
          "scattercarpet": [
           {
            "marker": {
             "colorbar": {
              "outlinewidth": 0,
              "ticks": ""
             }
            },
            "type": "scattercarpet"
           }
          ],
          "scattergeo": [
           {
            "marker": {
             "colorbar": {
              "outlinewidth": 0,
              "ticks": ""
             }
            },
            "type": "scattergeo"
           }
          ],
          "scattergl": [
           {
            "marker": {
             "colorbar": {
              "outlinewidth": 0,
              "ticks": ""
             }
            },
            "type": "scattergl"
           }
          ],
          "scattermapbox": [
           {
            "marker": {
             "colorbar": {
              "outlinewidth": 0,
              "ticks": ""
             }
            },
            "type": "scattermapbox"
           }
          ],
          "scatterpolar": [
           {
            "marker": {
             "colorbar": {
              "outlinewidth": 0,
              "ticks": ""
             }
            },
            "type": "scatterpolar"
           }
          ],
          "scatterpolargl": [
           {
            "marker": {
             "colorbar": {
              "outlinewidth": 0,
              "ticks": ""
             }
            },
            "type": "scatterpolargl"
           }
          ],
          "scatterternary": [
           {
            "marker": {
             "colorbar": {
              "outlinewidth": 0,
              "ticks": ""
             }
            },
            "type": "scatterternary"
           }
          ],
          "surface": [
           {
            "colorbar": {
             "outlinewidth": 0,
             "ticks": ""
            },
            "colorscale": [
             [
              0,
              "#0d0887"
             ],
             [
              0.1111111111111111,
              "#46039f"
             ],
             [
              0.2222222222222222,
              "#7201a8"
             ],
             [
              0.3333333333333333,
              "#9c179e"
             ],
             [
              0.4444444444444444,
              "#bd3786"
             ],
             [
              0.5555555555555556,
              "#d8576b"
             ],
             [
              0.6666666666666666,
              "#ed7953"
             ],
             [
              0.7777777777777778,
              "#fb9f3a"
             ],
             [
              0.8888888888888888,
              "#fdca26"
             ],
             [
              1,
              "#f0f921"
             ]
            ],
            "type": "surface"
           }
          ],
          "table": [
           {
            "cells": {
             "fill": {
              "color": "#EBF0F8"
             },
             "line": {
              "color": "white"
             }
            },
            "header": {
             "fill": {
              "color": "#C8D4E3"
             },
             "line": {
              "color": "white"
             }
            },
            "type": "table"
           }
          ]
         },
         "layout": {
          "annotationdefaults": {
           "arrowcolor": "#2a3f5f",
           "arrowhead": 0,
           "arrowwidth": 1
          },
          "autotypenumbers": "strict",
          "coloraxis": {
           "colorbar": {
            "outlinewidth": 0,
            "ticks": ""
           }
          },
          "colorscale": {
           "diverging": [
            [
             0,
             "#8e0152"
            ],
            [
             0.1,
             "#c51b7d"
            ],
            [
             0.2,
             "#de77ae"
            ],
            [
             0.3,
             "#f1b6da"
            ],
            [
             0.4,
             "#fde0ef"
            ],
            [
             0.5,
             "#f7f7f7"
            ],
            [
             0.6,
             "#e6f5d0"
            ],
            [
             0.7,
             "#b8e186"
            ],
            [
             0.8,
             "#7fbc41"
            ],
            [
             0.9,
             "#4d9221"
            ],
            [
             1,
             "#276419"
            ]
           ],
           "sequential": [
            [
             0,
             "#0d0887"
            ],
            [
             0.1111111111111111,
             "#46039f"
            ],
            [
             0.2222222222222222,
             "#7201a8"
            ],
            [
             0.3333333333333333,
             "#9c179e"
            ],
            [
             0.4444444444444444,
             "#bd3786"
            ],
            [
             0.5555555555555556,
             "#d8576b"
            ],
            [
             0.6666666666666666,
             "#ed7953"
            ],
            [
             0.7777777777777778,
             "#fb9f3a"
            ],
            [
             0.8888888888888888,
             "#fdca26"
            ],
            [
             1,
             "#f0f921"
            ]
           ],
           "sequentialminus": [
            [
             0,
             "#0d0887"
            ],
            [
             0.1111111111111111,
             "#46039f"
            ],
            [
             0.2222222222222222,
             "#7201a8"
            ],
            [
             0.3333333333333333,
             "#9c179e"
            ],
            [
             0.4444444444444444,
             "#bd3786"
            ],
            [
             0.5555555555555556,
             "#d8576b"
            ],
            [
             0.6666666666666666,
             "#ed7953"
            ],
            [
             0.7777777777777778,
             "#fb9f3a"
            ],
            [
             0.8888888888888888,
             "#fdca26"
            ],
            [
             1,
             "#f0f921"
            ]
           ]
          },
          "colorway": [
           "#636efa",
           "#EF553B",
           "#00cc96",
           "#ab63fa",
           "#FFA15A",
           "#19d3f3",
           "#FF6692",
           "#B6E880",
           "#FF97FF",
           "#FECB52"
          ],
          "font": {
           "color": "#2a3f5f"
          },
          "geo": {
           "bgcolor": "white",
           "lakecolor": "white",
           "landcolor": "#E5ECF6",
           "showlakes": true,
           "showland": true,
           "subunitcolor": "white"
          },
          "hoverlabel": {
           "align": "left"
          },
          "hovermode": "closest",
          "mapbox": {
           "style": "light"
          },
          "paper_bgcolor": "white",
          "plot_bgcolor": "#E5ECF6",
          "polar": {
           "angularaxis": {
            "gridcolor": "white",
            "linecolor": "white",
            "ticks": ""
           },
           "bgcolor": "#E5ECF6",
           "radialaxis": {
            "gridcolor": "white",
            "linecolor": "white",
            "ticks": ""
           }
          },
          "scene": {
           "xaxis": {
            "backgroundcolor": "#E5ECF6",
            "gridcolor": "white",
            "gridwidth": 2,
            "linecolor": "white",
            "showbackground": true,
            "ticks": "",
            "zerolinecolor": "white"
           },
           "yaxis": {
            "backgroundcolor": "#E5ECF6",
            "gridcolor": "white",
            "gridwidth": 2,
            "linecolor": "white",
            "showbackground": true,
            "ticks": "",
            "zerolinecolor": "white"
           },
           "zaxis": {
            "backgroundcolor": "#E5ECF6",
            "gridcolor": "white",
            "gridwidth": 2,
            "linecolor": "white",
            "showbackground": true,
            "ticks": "",
            "zerolinecolor": "white"
           }
          },
          "shapedefaults": {
           "line": {
            "color": "#2a3f5f"
           }
          },
          "ternary": {
           "aaxis": {
            "gridcolor": "white",
            "linecolor": "white",
            "ticks": ""
           },
           "baxis": {
            "gridcolor": "white",
            "linecolor": "white",
            "ticks": ""
           },
           "bgcolor": "#E5ECF6",
           "caxis": {
            "gridcolor": "white",
            "linecolor": "white",
            "ticks": ""
           }
          },
          "title": {
           "x": 0.05
          },
          "xaxis": {
           "automargin": true,
           "gridcolor": "white",
           "linecolor": "white",
           "ticks": "",
           "title": {
            "standoff": 15
           },
           "zerolinecolor": "white",
           "zerolinewidth": 2
          },
          "yaxis": {
           "automargin": true,
           "gridcolor": "white",
           "linecolor": "white",
           "ticks": "",
           "title": {
            "standoff": 15
           },
           "zerolinecolor": "white",
           "zerolinewidth": 2
          }
         }
        },
        "title": {
         "text": "Residuals"
        },
        "xaxis": {
         "anchor": "y",
         "domain": [
          0,
          1
         ],
         "title": {
          "text": "Predicted Values"
         }
        },
        "yaxis": {
         "anchor": "x",
         "domain": [
          0,
          1
         ],
         "title": {
          "text": "Residuals"
         }
        }
       }
      }
     },
     "metadata": {},
     "output_type": "display_data"
    }
   ],
   "source": [
    "# Test Residuals\n",
    "testrelresid = px.scatter(x = predict,\n",
    "                          y = resid,\n",
    "                          title = \"Residuals\",\n",
    "                          labels = {\"x\": \"Predicted Values\", \"y\": \"Residuals\"})\n",
    "testrelresid.show()\n",
    "# Very Heteroscedastic"
   ]
  },
  {
   "cell_type": "markdown",
   "metadata": {},
   "source": [
    "- Very heteroscedastic. Now Test Normality"
   ]
  },
  {
   "cell_type": "code",
   "execution_count": 225,
   "metadata": {},
   "outputs": [
    {
     "name": "stdout",
     "output_type": "stream",
     "text": [
      "\n",
      "\tShapiro-Wilk normality test\n",
      "\n",
      "data:  residuals(nested)\n",
      "W = 0.98422, p-value = 6.904e-06\n",
      "\n"
     ]
    },
    {
     "data": {
      "image/png": "[encoded data removed]",
      "text/plain": [
       "<IPython.core.display.Image object>"
      ]
     },
     "metadata": {},
     "output_type": "display_data"
    }
   ],
   "source": [
    "%%R\n",
    "qqnorm(residuals(nested))\n",
    "qqline(residuals(nested),col=\"turquoise\",lwd=2)\n",
    "# Towards the Top seems nonormal\n",
    "shapiro.test(residuals(nested))\n",
    "# Also Nonnormal"
   ]
  },
  {
   "cell_type": "markdown",
   "metadata": {},
   "source": [
    "- Also not very normal. "
   ]
  },
  {
   "cell_type": "markdown",
   "metadata": {},
   "source": [
    "# Data Analysis Plan\n",
    "\n",
    "### Summary\n",
    "- Use linear mixed models to model the effect of chalk and pinch strength on pull strength, with Person and Date as random effects. Day Order and Pinch Order were not used for this model because Day Order was randomized and Pinch Order was not very significant in the EDA. \n",
    "- Perform pairwise contrasts between types of chalk or combinations of Chalk and day. \n",
    "\n",
    "### Addressing Data Abnormalities\n",
    "- For model selection, I used bootstrapped Likleyhood Ratio Tests. Basically, I compared how likley the data was with a larger model and a smaller model with one or more explnatory variables removed. Instead of assuming a specific distirbution, which would require our assumptions be met, I resampled out data repeatedly and used the values of my subsamples to get a distribution. This reduced the impact of heteroscedasticity and nonnormality for model selection. \n",
    "- To address nonnormality, I tried a variety of different transforms. The one that worked the best was a log transform of the independent variable (Pinch). This did not entirely correct nonormality, but the sample size was large enough that felt that the CLT would apply.\n",
    "- To address heteroscedasticity, I used robust sandwhich estimators for means comparison. \n",
    "- I tried two approaches to address confounding. \n",
    "\n",
    "1. Incorporate: Fit on the model with the interaction of Date and Chalk Type. This Removes the Confounding, but makes interpreting the final results very difficult. Additionally, since the number of observations for certain groups is small (9 observations per subgroup), the ability to make statistically significant inferences is impaired. \n",
    "\n",
    "1. Ignore: Fit model with the same random effects structure from above. While This does not address confounding, we saw from the conditional coefficient of detemrination the effect of Date on overall model fit was negligible, so I felt confident in that.  \n"
   ]
  },
  {
   "cell_type": "markdown",
   "metadata": {},
   "source": [
    "## Approach Number One: Analyze Confounding by Using Date-Chalk Combinations"
   ]
  },
  {
   "cell_type": "code",
   "execution_count": 226,
   "metadata": {},
   "outputs": [
    {
     "name": "stdout",
     "output_type": "stream",
     "text": [
      "Bootstrap test; time: 13.06 sec; samples: 1000; extremes: 0;\n",
      "large : Pull ~ log(Pinch) + Day_Chalk + log(Pinch):Day_Chalk + (1 | Person)\n",
      "Pull ~ log(Pinch) + Day_Chalk + (1 | Person)\n",
      "         stat df   p.value    \n",
      "LRT    146.58 16 < 2.2e-16 ***\n",
      "PBtest 146.58     0.000999 ***\n",
      "---\n",
      "Signif. codes:  0 '***' 0.001 '**' 0.01 '*' 0.05 '.' 0.1 ' ' 1\n",
      "Bootstrap test; time: 10.42 sec; samples: 1000; extremes: 0;\n",
      "large : Pull ~ log(Pinch) + Day_Chalk + (1 | Person)\n",
      "Pull ~ log(Pinch) + (1 | Person)\n",
      "         stat df   p.value    \n",
      "LRT    376.16 16 < 2.2e-16 ***\n",
      "PBtest 376.16     0.000999 ***\n",
      "---\n",
      "Signif. codes:  0 '***' 0.001 '**' 0.01 '*' 0.05 '.' 0.1 ' ' 1\n",
      "           R2m      R2c\n",
      "[1,] 0.8899425 0.906717\n",
      "          R2m       R2c\n",
      "[1,] 0.864733 0.8792501\n",
      "           R2m       R2c\n",
      "[1,] 0.7531656 0.7674678\n"
     ]
    }
   ],
   "source": [
    "%%R\n",
    "# Fit a full model with the Confounded Chalk and Day Variables\n",
    "# All interaction Terms\n",
    "fullnest = lmer(Pull~log(Pinch) + Day_Chalk + log(Pinch):Day_Chalk + (1 | Person),\n",
    "                data = Chalk,\n",
    "                REML = FALSE,\n",
    "                na.action=na.fail)\n",
    "# No Interaction Terms\n",
    "partial = lmer(Pull~log(Pinch) + Day_Chalk + (1 | Person),\n",
    "                data = Chalk,\n",
    "                REML = FALSE,\n",
    "                na.action=na.fail)\n",
    "# No Day*Chalk Variable\n",
    "partial1 = lmer(Pull~log(Pinch) + (1 | Person),\n",
    "                data = Chalk,\n",
    "                REML = FALSE,\n",
    "                na.action=na.fail)\n",
    "\n",
    "# Test Statistical Significance with Boostrapped Model Comparison\n",
    "boot1 = PBmodcomp(\n",
    "  fullnest,\n",
    "  partial,\n",
    "  nsim = 1000,\n",
    "  seed=42\n",
    ")\n",
    "boot2 = PBmodcomp(\n",
    "  partial,\n",
    "  partial1,\n",
    "  nsim = 1000,\n",
    "  seed=42\n",
    ")\n",
    "\n",
    "boot1 |> print()\n",
    "boot2|> print()\n",
    "\n",
    "# Test Practical Significance with Effect Size/Fit\n",
    "r.squaredGLMM(fullnest) |> print()\n",
    "r.squaredGLMM(partial) |> print()\n",
    "r.squaredGLMM(partial1) |> print()\n"
   ]
  },
  {
   "cell_type": "markdown",
   "metadata": {},
   "source": [
    "- For our boostrapped LRTs, the interaction of Day_Chalk and Pinch as well as the Day_Chalk variable are significant. \n",
    "- However, we see that for the marginal coefficient of determination (the amount of variability in our model explained by our fixed effects only) between the model with the interaction term and the model without is very small. That means the practical difference in how well the model explains the data for the model with the interaction between Pinch and Day_Chalk is negligible. \n",
    "\n",
    "Thus for ease of interpretaion of an already harder to interpret model, I will use the model without the interaction term. "
   ]
  },
  {
   "cell_type": "code",
   "execution_count": 227,
   "metadata": {},
   "outputs": [
    {
     "name": "stderr",
     "output_type": "stream",
     "text": [
      "R[write to console]: Kenward-Roger method can't be used with user-supplied covariances\n",
      "\n"
     ]
    },
    {
     "name": "stdout",
     "output_type": "stream",
     "text": [
      "# A tibble: 17 x 2\n",
      "   Day_Chalk           `n()`\n",
      "   <chr>               <int>\n",
      " 1 2024-10-30_FL          33\n",
      " 2 2024-10-30_None        27\n",
      " 3 2024-10-31_FL          30\n",
      " 4 2024-10-31_None        30\n",
      " 5 2024-11-04_FL           9\n",
      " 6 2024-11-04_Metolius    18\n",
      " 7 2024-11-04_None        39\n",
      " 8 2024-11-06_Metolius    45\n",
      " 9 2024-11-06_None        30\n",
      "10 2024-11-08_Magdust     45\n",
      "11 2024-11-08_Metolius     9\n",
      "12 2024-11-08_None        51\n",
      "13 2024-11-10_Ethan       18\n",
      "14 2024-11-10_Magdust     27\n",
      "15 2024-11-10_None        69\n",
      "16 2024-11-14_Ethan       54\n",
      "17 2024-11-14_None        42\n"
     ]
    }
   ],
   "source": [
    "%%R -o emmplot -o contrasts\n",
    "finalmodel = lmer(Pull~log(Pinch) + Day_Chalk + (1 | Person),\n",
    "                data = Chalk,\n",
    "                REML = TRUE,\n",
    "                na.action=na.fail)\n",
    "# Now we do Mean Comparisons\n",
    "corCov = vcovCR(finalmodel,type=\"CR2\")\n",
    "robustemm = emmeans(finalmodel, specs = ~Day_Chalk, vcov = corCov, type = \"response\")\n",
    "contrasts = summary(pairs(robustemm))\n",
    "emmplot = summary(robustemm, infer = TRUE)\n",
    "Chalk |> group_by(Day_Chalk) |> summarise(n()) |> print()"
   ]
  },
  {
   "cell_type": "code",
   "execution_count": 228,
   "metadata": {},
   "outputs": [
    {
     "data": {
      "application/vnd.plotly.v1+json": {
       "config": {
        "plotlyServerURL": "https://plot.ly"
       },
       "data": [
        {
         "error_x": {
          "array": [
           46.56796004499062,
           32.593426365835526,
           34.09125633773194,
           19.170752195550417,
           26.015721279891345,
           24.317548435624474,
           21.139615304130217,
           4.556476413217048,
           14.633991425600321,
           7.040020596703371,
           9.46882299042447,
           8.085167916816893,
           5.8590458744701195,
           1.8069194625572678,
           7.995635859275502,
           15.637057554330006,
           9.38716578371237
          ]
         },
         "hovertemplate": "emmean=%{x}<br>Day_Chalk=%{y}<extra></extra>",
         "legendgroup": "",
         "marker": {
          "color": "#636efa",
          "symbol": "circle"
         },
         "mode": "markers",
         "name": "",
         "orientation": "h",
         "showlegend": false,
         "type": "scatter",
         "x": [
          41.50641240631072,
          29.377099414790315,
          40.28227776839311,
          28.99011042462922,
          39.443842305545324,
          38.384176839883665,
          40.912447808385394,
          25.252485474973405,
          35.739255580569285,
          31.356649413481676,
          34.154325788985446,
          34.546316774725156,
          36.41815638566278,
          33.844933546532566,
          41.052313805393254,
          49.20442540976102,
          47.89782228766323
         ],
         "xaxis": "x",
         "y": [
          "2024-11-14_Ethan",
          "2024-11-10_None",
          "2024-11-08_Magdust",
          "2024-11-08_None",
          "2024-11-06_Metolius",
          "2024-11-10_Ethan",
          "2024-10-30_FL",
          "2024-11-14_None",
          "2024-11-08_Metolius",
          "2024-10-31_None",
          "2024-11-10_Magdust",
          "2024-11-06_None",
          "2024-10-30_None",
          "2024-11-04_None",
          "2024-11-04_FL",
          "2024-11-04_Metolius",
          "2024-10-31_FL"
         ],
         "yaxis": "y"
        }
       ],
       "layout": {
        "legend": {
         "tracegroupgap": 0
        },
        "margin": {
         "t": 60
        },
        "template": {
         "data": {
          "bar": [
           {
            "error_x": {
             "color": "#2a3f5f"
            },
            "error_y": {
             "color": "#2a3f5f"
            },
            "marker": {
             "line": {
              "color": "#E5ECF6",
              "width": 0.5
             },
             "pattern": {
              "fillmode": "overlay",
              "size": 10,
              "solidity": 0.2
             }
            },
            "type": "bar"
           }
          ],
          "barpolar": [
           {
            "marker": {
             "line": {
              "color": "#E5ECF6",
              "width": 0.5
             },
             "pattern": {
              "fillmode": "overlay",
              "size": 10,
              "solidity": 0.2
             }
            },
            "type": "barpolar"
           }
          ],
          "carpet": [
           {
            "aaxis": {
             "endlinecolor": "#2a3f5f",
             "gridcolor": "white",
             "linecolor": "white",
             "minorgridcolor": "white",
             "startlinecolor": "#2a3f5f"
            },
            "baxis": {
             "endlinecolor": "#2a3f5f",
             "gridcolor": "white",
             "linecolor": "white",
             "minorgridcolor": "white",
             "startlinecolor": "#2a3f5f"
            },
            "type": "carpet"
           }
          ],
          "choropleth": [
           {
            "colorbar": {
             "outlinewidth": 0,
             "ticks": ""
            },
            "type": "choropleth"
           }
          ],
          "contour": [
           {
            "colorbar": {
             "outlinewidth": 0,
             "ticks": ""
            },
            "colorscale": [
             [
              0,
              "#0d0887"
             ],
             [
              0.1111111111111111,
              "#46039f"
             ],
             [
              0.2222222222222222,
              "#7201a8"
             ],
             [
              0.3333333333333333,
              "#9c179e"
             ],
             [
              0.4444444444444444,
              "#bd3786"
             ],
             [
              0.5555555555555556,
              "#d8576b"
             ],
             [
              0.6666666666666666,
              "#ed7953"
             ],
             [
              0.7777777777777778,
              "#fb9f3a"
             ],
             [
              0.8888888888888888,
              "#fdca26"
             ],
             [
              1,
              "#f0f921"
             ]
            ],
            "type": "contour"
           }
          ],
          "contourcarpet": [
           {
            "colorbar": {
             "outlinewidth": 0,
             "ticks": ""
            },
            "type": "contourcarpet"
           }
          ],
          "heatmap": [
           {
            "colorbar": {
             "outlinewidth": 0,
             "ticks": ""
            },
            "colorscale": [
             [
              0,
              "#0d0887"
             ],
             [
              0.1111111111111111,
              "#46039f"
             ],
             [
              0.2222222222222222,
              "#7201a8"
             ],
             [
              0.3333333333333333,
              "#9c179e"
             ],
             [
              0.4444444444444444,
              "#bd3786"
             ],
             [
              0.5555555555555556,
              "#d8576b"
             ],
             [
              0.6666666666666666,
              "#ed7953"
             ],
             [
              0.7777777777777778,
              "#fb9f3a"
             ],
             [
              0.8888888888888888,
              "#fdca26"
             ],
             [
              1,
              "#f0f921"
             ]
            ],
            "type": "heatmap"
           }
          ],
          "heatmapgl": [
           {
            "colorbar": {
             "outlinewidth": 0,
             "ticks": ""
            },
            "colorscale": [
             [
              0,
              "#0d0887"
             ],
             [
              0.1111111111111111,
              "#46039f"
             ],
             [
              0.2222222222222222,
              "#7201a8"
             ],
             [
              0.3333333333333333,
              "#9c179e"
             ],
             [
              0.4444444444444444,
              "#bd3786"
             ],
             [
              0.5555555555555556,
              "#d8576b"
             ],
             [
              0.6666666666666666,
              "#ed7953"
             ],
             [
              0.7777777777777778,
              "#fb9f3a"
             ],
             [
              0.8888888888888888,
              "#fdca26"
             ],
             [
              1,
              "#f0f921"
             ]
            ],
            "type": "heatmapgl"
           }
          ],
          "histogram": [
           {
            "marker": {
             "pattern": {
              "fillmode": "overlay",
              "size": 10,
              "solidity": 0.2
             }
            },
            "type": "histogram"
           }
          ],
          "histogram2d": [
           {
            "colorbar": {
             "outlinewidth": 0,
             "ticks": ""
            },
            "colorscale": [
             [
              0,
              "#0d0887"
             ],
             [
              0.1111111111111111,
              "#46039f"
             ],
             [
              0.2222222222222222,
              "#7201a8"
             ],
             [
              0.3333333333333333,
              "#9c179e"
             ],
             [
              0.4444444444444444,
              "#bd3786"
             ],
             [
              0.5555555555555556,
              "#d8576b"
             ],
             [
              0.6666666666666666,
              "#ed7953"
             ],
             [
              0.7777777777777778,
              "#fb9f3a"
             ],
             [
              0.8888888888888888,
              "#fdca26"
             ],
             [
              1,
              "#f0f921"
             ]
            ],
            "type": "histogram2d"
           }
          ],
          "histogram2dcontour": [
           {
            "colorbar": {
             "outlinewidth": 0,
             "ticks": ""
            },
            "colorscale": [
             [
              0,
              "#0d0887"
             ],
             [
              0.1111111111111111,
              "#46039f"
             ],
             [
              0.2222222222222222,
              "#7201a8"
             ],
             [
              0.3333333333333333,
              "#9c179e"
             ],
             [
              0.4444444444444444,
              "#bd3786"
             ],
             [
              0.5555555555555556,
              "#d8576b"
             ],
             [
              0.6666666666666666,
              "#ed7953"
             ],
             [
              0.7777777777777778,
              "#fb9f3a"
             ],
             [
              0.8888888888888888,
              "#fdca26"
             ],
             [
              1,
              "#f0f921"
             ]
            ],
            "type": "histogram2dcontour"
           }
          ],
          "mesh3d": [
           {
            "colorbar": {
             "outlinewidth": 0,
             "ticks": ""
            },
            "type": "mesh3d"
           }
          ],
          "parcoords": [
           {
            "line": {
             "colorbar": {
              "outlinewidth": 0,
              "ticks": ""
             }
            },
            "type": "parcoords"
           }
          ],
          "pie": [
           {
            "automargin": true,
            "type": "pie"
           }
          ],
          "scatter": [
           {
            "fillpattern": {
             "fillmode": "overlay",
             "size": 10,
             "solidity": 0.2
            },
            "type": "scatter"
           }
          ],
          "scatter3d": [
           {
            "line": {
             "colorbar": {
              "outlinewidth": 0,
              "ticks": ""
             }
            },
            "marker": {
             "colorbar": {
              "outlinewidth": 0,
              "ticks": ""
             }
            },
            "type": "scatter3d"
           }
          ],
          "scattercarpet": [
           {
            "marker": {
             "colorbar": {
              "outlinewidth": 0,
              "ticks": ""
             }
            },
            "type": "scattercarpet"
           }
          ],
          "scattergeo": [
           {
            "marker": {
             "colorbar": {
              "outlinewidth": 0,
              "ticks": ""
             }
            },
            "type": "scattergeo"
           }
          ],
          "scattergl": [
           {
            "marker": {
             "colorbar": {
              "outlinewidth": 0,
              "ticks": ""
             }
            },
            "type": "scattergl"
           }
          ],
          "scattermapbox": [
           {
            "marker": {
             "colorbar": {
              "outlinewidth": 0,
              "ticks": ""
             }
            },
            "type": "scattermapbox"
           }
          ],
          "scatterpolar": [
           {
            "marker": {
             "colorbar": {
              "outlinewidth": 0,
              "ticks": ""
             }
            },
            "type": "scatterpolar"
           }
          ],
          "scatterpolargl": [
           {
            "marker": {
             "colorbar": {
              "outlinewidth": 0,
              "ticks": ""
             }
            },
            "type": "scatterpolargl"
           }
          ],
          "scatterternary": [
           {
            "marker": {
             "colorbar": {
              "outlinewidth": 0,
              "ticks": ""
             }
            },
            "type": "scatterternary"
           }
          ],
          "surface": [
           {
            "colorbar": {
             "outlinewidth": 0,
             "ticks": ""
            },
            "colorscale": [
             [
              0,
              "#0d0887"
             ],
             [
              0.1111111111111111,
              "#46039f"
             ],
             [
              0.2222222222222222,
              "#7201a8"
             ],
             [
              0.3333333333333333,
              "#9c179e"
             ],
             [
              0.4444444444444444,
              "#bd3786"
             ],
             [
              0.5555555555555556,
              "#d8576b"
             ],
             [
              0.6666666666666666,
              "#ed7953"
             ],
             [
              0.7777777777777778,
              "#fb9f3a"
             ],
             [
              0.8888888888888888,
              "#fdca26"
             ],
             [
              1,
              "#f0f921"
             ]
            ],
            "type": "surface"
           }
          ],
          "table": [
           {
            "cells": {
             "fill": {
              "color": "#EBF0F8"
             },
             "line": {
              "color": "white"
             }
            },
            "header": {
             "fill": {
              "color": "#C8D4E3"
             },
             "line": {
              "color": "white"
             }
            },
            "type": "table"
           }
          ]
         },
         "layout": {
          "annotationdefaults": {
           "arrowcolor": "#2a3f5f",
           "arrowhead": 0,
           "arrowwidth": 1
          },
          "autotypenumbers": "strict",
          "coloraxis": {
           "colorbar": {
            "outlinewidth": 0,
            "ticks": ""
           }
          },
          "colorscale": {
           "diverging": [
            [
             0,
             "#8e0152"
            ],
            [
             0.1,
             "#c51b7d"
            ],
            [
             0.2,
             "#de77ae"
            ],
            [
             0.3,
             "#f1b6da"
            ],
            [
             0.4,
             "#fde0ef"
            ],
            [
             0.5,
             "#f7f7f7"
            ],
            [
             0.6,
             "#e6f5d0"
            ],
            [
             0.7,
             "#b8e186"
            ],
            [
             0.8,
             "#7fbc41"
            ],
            [
             0.9,
             "#4d9221"
            ],
            [
             1,
             "#276419"
            ]
           ],
           "sequential": [
            [
             0,
             "#0d0887"
            ],
            [
             0.1111111111111111,
             "#46039f"
            ],
            [
             0.2222222222222222,
             "#7201a8"
            ],
            [
             0.3333333333333333,
             "#9c179e"
            ],
            [
             0.4444444444444444,
             "#bd3786"
            ],
            [
             0.5555555555555556,
             "#d8576b"
            ],
            [
             0.6666666666666666,
             "#ed7953"
            ],
            [
             0.7777777777777778,
             "#fb9f3a"
            ],
            [
             0.8888888888888888,
             "#fdca26"
            ],
            [
             1,
             "#f0f921"
            ]
           ],
           "sequentialminus": [
            [
             0,
             "#0d0887"
            ],
            [
             0.1111111111111111,
             "#46039f"
            ],
            [
             0.2222222222222222,
             "#7201a8"
            ],
            [
             0.3333333333333333,
             "#9c179e"
            ],
            [
             0.4444444444444444,
             "#bd3786"
            ],
            [
             0.5555555555555556,
             "#d8576b"
            ],
            [
             0.6666666666666666,
             "#ed7953"
            ],
            [
             0.7777777777777778,
             "#fb9f3a"
            ],
            [
             0.8888888888888888,
             "#fdca26"
            ],
            [
             1,
             "#f0f921"
            ]
           ]
          },
          "colorway": [
           "#636efa",
           "#EF553B",
           "#00cc96",
           "#ab63fa",
           "#FFA15A",
           "#19d3f3",
           "#FF6692",
           "#B6E880",
           "#FF97FF",
           "#FECB52"
          ],
          "font": {
           "color": "#2a3f5f"
          },
          "geo": {
           "bgcolor": "white",
           "lakecolor": "white",
           "landcolor": "#E5ECF6",
           "showlakes": true,
           "showland": true,
           "subunitcolor": "white"
          },
          "hoverlabel": {
           "align": "left"
          },
          "hovermode": "closest",
          "mapbox": {
           "style": "light"
          },
          "paper_bgcolor": "white",
          "plot_bgcolor": "#E5ECF6",
          "polar": {
           "angularaxis": {
            "gridcolor": "white",
            "linecolor": "white",
            "ticks": ""
           },
           "bgcolor": "#E5ECF6",
           "radialaxis": {
            "gridcolor": "white",
            "linecolor": "white",
            "ticks": ""
           }
          },
          "scene": {
           "xaxis": {
            "backgroundcolor": "#E5ECF6",
            "gridcolor": "white",
            "gridwidth": 2,
            "linecolor": "white",
            "showbackground": true,
            "ticks": "",
            "zerolinecolor": "white"
           },
           "yaxis": {
            "backgroundcolor": "#E5ECF6",
            "gridcolor": "white",
            "gridwidth": 2,
            "linecolor": "white",
            "showbackground": true,
            "ticks": "",
            "zerolinecolor": "white"
           },
           "zaxis": {
            "backgroundcolor": "#E5ECF6",
            "gridcolor": "white",
            "gridwidth": 2,
            "linecolor": "white",
            "showbackground": true,
            "ticks": "",
            "zerolinecolor": "white"
           }
          },
          "shapedefaults": {
           "line": {
            "color": "#2a3f5f"
           }
          },
          "ternary": {
           "aaxis": {
            "gridcolor": "white",
            "linecolor": "white",
            "ticks": ""
           },
           "baxis": {
            "gridcolor": "white",
            "linecolor": "white",
            "ticks": ""
           },
           "bgcolor": "#E5ECF6",
           "caxis": {
            "gridcolor": "white",
            "linecolor": "white",
            "ticks": ""
           }
          },
          "title": {
           "x": 0.05
          },
          "xaxis": {
           "automargin": true,
           "gridcolor": "white",
           "linecolor": "white",
           "ticks": "",
           "title": {
            "standoff": 15
           },
           "zerolinecolor": "white",
           "zerolinewidth": 2
          },
          "yaxis": {
           "automargin": true,
           "gridcolor": "white",
           "linecolor": "white",
           "ticks": "",
           "title": {
            "standoff": 15
           },
           "zerolinecolor": "white",
           "zerolinewidth": 2
          }
         }
        },
        "title": {
         "text": "Chalk_Date Effects with 95% CI"
        },
        "xaxis": {
         "anchor": "y",
         "domain": [
          0,
          1
         ],
         "title": {
          "text": "Estimated Marginal Mean"
         }
        },
        "yaxis": {
         "anchor": "x",
         "domain": [
          0,
          1
         ],
         "title": {
          "text": "Treatment"
         }
        }
       }
      }
     },
     "metadata": {},
     "output_type": "display_data"
    }
   ],
   "source": [
    "# type(emmplot)\n",
    "# type(contrasts)\n",
    "\n",
    "emmplot = emmplot.sort_values(\"lower.CL\").reset_index(drop=True)\n",
    "emmplot[\"mag\"] = emmplot[\"upper.CL\"] - emmplot[\"emmean\"]\n",
    "# Create basic plot\n",
    "arrow1 = px.scatter(\n",
    "        emmplot,\n",
    "        y='Day_Chalk',\n",
    "        x='emmean',\n",
    "        error_x = \"mag\"\n",
    "        )\n",
    "# Update layout\n",
    "arrow1.update_layout(\n",
    "        title='Chalk_Date Effects with 95% CI',\n",
    "        xaxis_title='Estimated Marginal Mean',\n",
    "        yaxis_title='Treatment'\n",
    "    )\n",
    "arrow1.show()\n"
   ]
  },
  {
   "cell_type": "code",
   "execution_count": 229,
   "metadata": {},
   "outputs": [
    {
     "data": {
      "application/vnd.microsoft.datawrangler.viewer.v0+json": {
       "columns": [
        {
         "name": "index",
         "rawType": "object",
         "type": "string"
        },
        {
         "name": "contrast",
         "rawType": "object",
         "type": "string"
        },
        {
         "name": "estimate",
         "rawType": "float64",
         "type": "float"
        },
        {
         "name": "SE",
         "rawType": "float64",
         "type": "float"
        },
        {
         "name": "df",
         "rawType": "float64",
         "type": "float"
        },
        {
         "name": "t.ratio",
         "rawType": "float64",
         "type": "float"
        },
        {
         "name": "p.value",
         "rawType": "float64",
         "type": "float"
        }
       ],
       "conversionMethod": "pd.DataFrame",
       "ref": "9234ea77-6ea7-4ad3-ada9-d68986c9618d",
       "rows": [
        [
         "2",
         "(2024-10-30_FL) - (2024-10-31_FL)",
         "-6.985374479277835",
         "1.9490903724201272",
         "557.2223783125004",
         "-3.5839151319619442",
         "0.03516041718293739"
        ],
        [
         "5",
         "(2024-10-30_FL) - (2024-11-04_Metolius)",
         "-8.291977601375628",
         "0.3661847048370745",
         "557.1385351459711",
         "-22.64424890456567",
         "4.494762340101488e-10"
        ],
        [
         "7",
         "(2024-10-30_FL) - (2024-11-06_Metolius)",
         "1.468605502840066",
         "0.18682250196137024",
         "557.0033302041334",
         "7.860966893290688",
         "4.5185644115264267e-10"
        ],
        [
         "10",
         "(2024-10-30_FL) - (2024-11-08_Metolius)",
         "5.173192227816107",
         "1.456721113316775",
         "557.0851993203179",
         "3.551257808049053",
         "0.0391322890117477"
        ],
        [
         "11",
         "(2024-10-30_FL) - (2024-11-08_None)",
         "11.922337383756174",
         "1.0402569644855983",
         "557.2025305476966",
         "11.460954159198259",
         "4.498204031477826e-10"
        ]
       ],
       "shape": {
        "columns": 6,
        "rows": 5
       }
      },
      "text/html": [
       "<div>\n",
       "<style scoped>\n",
       "    .dataframe tbody tr th:only-of-type {\n",
       "        vertical-align: middle;\n",
       "    }\n",
       "\n",
       "    .dataframe tbody tr th {\n",
       "        vertical-align: top;\n",
       "    }\n",
       "\n",
       "    .dataframe thead th {\n",
       "        text-align: right;\n",
       "    }\n",
       "</style>\n",
       "<table border=\"1\" class=\"dataframe\">\n",
       "  <thead>\n",
       "    <tr style=\"text-align: right;\">\n",
       "      <th></th>\n",
       "      <th>contrast</th>\n",
       "      <th>estimate</th>\n",
       "      <th>SE</th>\n",
       "      <th>df</th>\n",
       "      <th>t.ratio</th>\n",
       "      <th>p.value</th>\n",
       "    </tr>\n",
       "  </thead>\n",
       "  <tbody>\n",
       "    <tr>\n",
       "      <th>2</th>\n",
       "      <td>(2024-10-30_FL) - (2024-10-31_FL)</td>\n",
       "      <td>-6.985374</td>\n",
       "      <td>1.949090</td>\n",
       "      <td>557.222378</td>\n",
       "      <td>-3.583915</td>\n",
       "      <td>3.516042e-02</td>\n",
       "    </tr>\n",
       "    <tr>\n",
       "      <th>5</th>\n",
       "      <td>(2024-10-30_FL) - (2024-11-04_Metolius)</td>\n",
       "      <td>-8.291978</td>\n",
       "      <td>0.366185</td>\n",
       "      <td>557.138535</td>\n",
       "      <td>-22.644249</td>\n",
       "      <td>4.494762e-10</td>\n",
       "    </tr>\n",
       "    <tr>\n",
       "      <th>7</th>\n",
       "      <td>(2024-10-30_FL) - (2024-11-06_Metolius)</td>\n",
       "      <td>1.468606</td>\n",
       "      <td>0.186823</td>\n",
       "      <td>557.003330</td>\n",
       "      <td>7.860967</td>\n",
       "      <td>4.518564e-10</td>\n",
       "    </tr>\n",
       "    <tr>\n",
       "      <th>10</th>\n",
       "      <td>(2024-10-30_FL) - (2024-11-08_Metolius)</td>\n",
       "      <td>5.173192</td>\n",
       "      <td>1.456721</td>\n",
       "      <td>557.085199</td>\n",
       "      <td>3.551258</td>\n",
       "      <td>3.913229e-02</td>\n",
       "    </tr>\n",
       "    <tr>\n",
       "      <th>11</th>\n",
       "      <td>(2024-10-30_FL) - (2024-11-08_None)</td>\n",
       "      <td>11.922337</td>\n",
       "      <td>1.040257</td>\n",
       "      <td>557.202531</td>\n",
       "      <td>11.460954</td>\n",
       "      <td>4.498204e-10</td>\n",
       "    </tr>\n",
       "  </tbody>\n",
       "</table>\n",
       "</div>"
      ],
      "text/plain": [
       "                                   contrast   estimate        SE          df  \\\n",
       "2         (2024-10-30_FL) - (2024-10-31_FL)  -6.985374  1.949090  557.222378   \n",
       "5   (2024-10-30_FL) - (2024-11-04_Metolius)  -8.291978  0.366185  557.138535   \n",
       "7   (2024-10-30_FL) - (2024-11-06_Metolius)   1.468606  0.186823  557.003330   \n",
       "10  (2024-10-30_FL) - (2024-11-08_Metolius)   5.173192  1.456721  557.085199   \n",
       "11      (2024-10-30_FL) - (2024-11-08_None)  11.922337  1.040257  557.202531   \n",
       "\n",
       "      t.ratio       p.value  \n",
       "2   -3.583915  3.516042e-02  \n",
       "5  -22.644249  4.494762e-10  \n",
       "7    7.860967  4.518564e-10  \n",
       "10   3.551258  3.913229e-02  \n",
       "11  11.460954  4.498204e-10  "
      ]
     },
     "execution_count": 229,
     "metadata": {},
     "output_type": "execute_result"
    }
   ],
   "source": [
    "sigcontrasts = contrasts[contrasts[\"p.value\"] < 0.05]\n",
    "sigcontrasts.head()"
   ]
  },
  {
   "cell_type": "markdown",
   "metadata": {},
   "source": [
    "- As seen above, when looking at combinations of Date and Chalk, the ability to make meaningful contrasts is very difficult. \n",
    "- Out of the 136 possible contrasts produced by pairs, 50 were significant. \n",
    "- Trends among these contrasts showed that FL and Metolius Chalk_Day combinations outperformed the no chalk option on most days and Mag Dust on 11/10. \n",
    "- However for the Ethan Chalk, the incredibly high variability essentially prevented most comparisons from being significant. \n",
    "\n",
    "Therefore, due to the differences in variability of chalk across days, it is almost impossible to draw very good conclusions from this data. "
   ]
  },
  {
   "cell_type": "markdown",
   "metadata": {},
   "source": [
    "## Approach Number Two: Ignore Confounding"
   ]
  },
  {
   "cell_type": "code",
   "execution_count": 230,
   "metadata": {},
   "outputs": [
    {
     "name": "stdout",
     "output_type": "stream",
     "text": [
      "Bootstrap test; time: 10.37 sec; samples: 1000; extremes: 0;\n",
      "large : Pull ~ log(Pinch) + Chalk + log(Pinch):Chalk + (1 | Person:Day)\n",
      "Pull ~ log(Pinch) + Chalk + (1 | Person:Day)\n",
      "         stat df   p.value    \n",
      "LRT    81.821  4 < 2.2e-16 ***\n",
      "PBtest 81.821     0.000999 ***\n",
      "---\n",
      "Signif. codes:  0 '***' 0.001 '**' 0.01 '*' 0.05 '.' 0.1 ' ' 1\n",
      "Bootstrap test; time: 9.87 sec; samples: 1000; extremes: 0;\n",
      "large : Pull ~ log(Pinch) + Chalk + (1 | Person:Day)\n",
      "Pull ~ log(Pinch) + (1 | Person:Day)\n",
      "         stat df   p.value    \n",
      "LRT    251.59  4 < 2.2e-16 ***\n",
      "PBtest 251.59     0.000999 ***\n",
      "---\n",
      "Signif. codes:  0 '***' 0.001 '**' 0.01 '*' 0.05 '.' 0.1 ' ' 1\n",
      "          R2m      R2c\n",
      "[1,] 0.843476 0.884215\n",
      "           R2m       R2c\n",
      "[1,] 0.8259792 0.8669235\n",
      "           R2m       R2c\n",
      "[1,] 0.7515733 0.7881744\n"
     ]
    }
   ],
   "source": [
    "%%R\n",
    "# All interaction Terms\n",
    "fullnest = lmer(Pull~log(Pinch) + Chalk + log(Pinch):Chalk + (1 | Person:Day),\n",
    "                data = Chalk,\n",
    "                REML = FALSE,\n",
    "                na.action=na.fail)\n",
    "# No Interaction\n",
    "partial = lmer(Pull~log(Pinch) + Chalk + (1 | Person:Day),\n",
    "                data = Chalk,\n",
    "                REML = FALSE,\n",
    "                na.action=na.fail)\n",
    "# No Chalk\n",
    "partial2 = lmer(Pull~log(Pinch) + (1 | Person:Day),\n",
    "                data = Chalk,\n",
    "                REML = FALSE,\n",
    "                na.action=na.fail)\n",
    "\n",
    "boot1 = PBmodcomp(\n",
    "  fullnest,\n",
    "  partial,\n",
    "  nsim = 1000,\n",
    "  seed=42\n",
    ")\n",
    "boot2 = PBmodcomp(\n",
    "  partial,\n",
    "  partial2,\n",
    "  nsim = 1000,\n",
    "  seed=42\n",
    ")\n",
    "\n",
    "boot1 |> print()\n",
    "boot2|> print()\n",
    "\n",
    "r.squaredGLMM(fullnest) |> print()\n",
    "r.squaredGLMM(partial) |> print()\n",
    "r.squaredGLMM(partial2) |> print()"
   ]
  },
  {
   "cell_type": "markdown",
   "metadata": {},
   "source": [
    "- Again we are dealing with statistically significant interaction but with minimal effect on fit. Thus again I will fit a model without interaction terms. "
   ]
  },
  {
   "cell_type": "code",
   "execution_count": 231,
   "metadata": {},
   "outputs": [
    {
     "name": "stderr",
     "output_type": "stream",
     "text": [
      "R[write to console]: Kenward-Roger method can't be used with user-supplied covariances\n",
      "\n"
     ]
    }
   ],
   "source": [
    "%%R -o ccontrasts -o cemmplot \n",
    "finalmodel2 = lmer(Pull~log(Pinch) + Chalk + (1 | Person:Day),\n",
    "                data = Chalk,\n",
    "                REML = TRUE,\n",
    "                na.action=na.fail)\n",
    "\n",
    "\n",
    "# Now we do Mean Comparisons\n",
    "ccorCov = vcovCR(finalmodel2,type=\"CR2\")\n",
    "crobustemm = emmeans(finalmodel2, specs = ~Chalk, vcov = ccorCov, type = \"response\")\n",
    "ccontrasts = summary(pairs(crobustemm))\n",
    "cemmplot = summary(crobustemm, infer = TRUE)"
   ]
  },
  {
   "cell_type": "code",
   "execution_count": 232,
   "metadata": {},
   "outputs": [
    {
     "data": {
      "application/vnd.plotly.v1+json": {
       "config": {
        "plotlyServerURL": "https://plot.ly"
       },
       "data": [
        {
         "error_x": {
          "array": [
           2.4977888061308526,
           7.363729710095633,
           7.084591035363914,
           5.489289025194253,
           8.31582915008822
          ]
         },
         "hovertemplate": "emmean=%{x}<br>Chalk=%{y}<extra></extra>",
         "legendgroup": "",
         "marker": {
          "color": "#636efa",
          "symbol": "circle"
         },
         "mode": "markers",
         "name": "",
         "orientation": "h",
         "showlegend": false,
         "type": "scatter",
         "x": [
          31.457064852252554,
          40.53868411064074,
          41.22473979274194,
          40.30293259777502,
          44.897124723146234
         ],
         "xaxis": "x",
         "y": [
          "None",
          "Metolius",
          "FL",
          "Magdust",
          "Ethan"
         ],
         "yaxis": "y"
        }
       ],
       "layout": {
        "legend": {
         "tracegroupgap": 0
        },
        "margin": {
         "t": 60
        },
        "template": {
         "data": {
          "bar": [
           {
            "error_x": {
             "color": "#2a3f5f"
            },
            "error_y": {
             "color": "#2a3f5f"
            },
            "marker": {
             "line": {
              "color": "#E5ECF6",
              "width": 0.5
             },
             "pattern": {
              "fillmode": "overlay",
              "size": 10,
              "solidity": 0.2
             }
            },
            "type": "bar"
           }
          ],
          "barpolar": [
           {
            "marker": {
             "line": {
              "color": "#E5ECF6",
              "width": 0.5
             },
             "pattern": {
              "fillmode": "overlay",
              "size": 10,
              "solidity": 0.2
             }
            },
            "type": "barpolar"
           }
          ],
          "carpet": [
           {
            "aaxis": {
             "endlinecolor": "#2a3f5f",
             "gridcolor": "white",
             "linecolor": "white",
             "minorgridcolor": "white",
             "startlinecolor": "#2a3f5f"
            },
            "baxis": {
             "endlinecolor": "#2a3f5f",
             "gridcolor": "white",
             "linecolor": "white",
             "minorgridcolor": "white",
             "startlinecolor": "#2a3f5f"
            },
            "type": "carpet"
           }
          ],
          "choropleth": [
           {
            "colorbar": {
             "outlinewidth": 0,
             "ticks": ""
            },
            "type": "choropleth"
           }
          ],
          "contour": [
           {
            "colorbar": {
             "outlinewidth": 0,
             "ticks": ""
            },
            "colorscale": [
             [
              0,
              "#0d0887"
             ],
             [
              0.1111111111111111,
              "#46039f"
             ],
             [
              0.2222222222222222,
              "#7201a8"
             ],
             [
              0.3333333333333333,
              "#9c179e"
             ],
             [
              0.4444444444444444,
              "#bd3786"
             ],
             [
              0.5555555555555556,
              "#d8576b"
             ],
             [
              0.6666666666666666,
              "#ed7953"
             ],
             [
              0.7777777777777778,
              "#fb9f3a"
             ],
             [
              0.8888888888888888,
              "#fdca26"
             ],
             [
              1,
              "#f0f921"
             ]
            ],
            "type": "contour"
           }
          ],
          "contourcarpet": [
           {
            "colorbar": {
             "outlinewidth": 0,
             "ticks": ""
            },
            "type": "contourcarpet"
           }
          ],
          "heatmap": [
           {
            "colorbar": {
             "outlinewidth": 0,
             "ticks": ""
            },
            "colorscale": [
             [
              0,
              "#0d0887"
             ],
             [
              0.1111111111111111,
              "#46039f"
             ],
             [
              0.2222222222222222,
              "#7201a8"
             ],
             [
              0.3333333333333333,
              "#9c179e"
             ],
             [
              0.4444444444444444,
              "#bd3786"
             ],
             [
              0.5555555555555556,
              "#d8576b"
             ],
             [
              0.6666666666666666,
              "#ed7953"
             ],
             [
              0.7777777777777778,
              "#fb9f3a"
             ],
             [
              0.8888888888888888,
              "#fdca26"
             ],
             [
              1,
              "#f0f921"
             ]
            ],
            "type": "heatmap"
           }
          ],
          "heatmapgl": [
           {
            "colorbar": {
             "outlinewidth": 0,
             "ticks": ""
            },
            "colorscale": [
             [
              0,
              "#0d0887"
             ],
             [
              0.1111111111111111,
              "#46039f"
             ],
             [
              0.2222222222222222,
              "#7201a8"
             ],
             [
              0.3333333333333333,
              "#9c179e"
             ],
             [
              0.4444444444444444,
              "#bd3786"
             ],
             [
              0.5555555555555556,
              "#d8576b"
             ],
             [
              0.6666666666666666,
              "#ed7953"
             ],
             [
              0.7777777777777778,
              "#fb9f3a"
             ],
             [
              0.8888888888888888,
              "#fdca26"
             ],
             [
              1,
              "#f0f921"
             ]
            ],
            "type": "heatmapgl"
           }
          ],
          "histogram": [
           {
            "marker": {
             "pattern": {
              "fillmode": "overlay",
              "size": 10,
              "solidity": 0.2
             }
            },
            "type": "histogram"
           }
          ],
          "histogram2d": [
           {
            "colorbar": {
             "outlinewidth": 0,
             "ticks": ""
            },
            "colorscale": [
             [
              0,
              "#0d0887"
             ],
             [
              0.1111111111111111,
              "#46039f"
             ],
             [
              0.2222222222222222,
              "#7201a8"
             ],
             [
              0.3333333333333333,
              "#9c179e"
             ],
             [
              0.4444444444444444,
              "#bd3786"
             ],
             [
              0.5555555555555556,
              "#d8576b"
             ],
             [
              0.6666666666666666,
              "#ed7953"
             ],
             [
              0.7777777777777778,
              "#fb9f3a"
             ],
             [
              0.8888888888888888,
              "#fdca26"
             ],
             [
              1,
              "#f0f921"
             ]
            ],
            "type": "histogram2d"
           }
          ],
          "histogram2dcontour": [
           {
            "colorbar": {
             "outlinewidth": 0,
             "ticks": ""
            },
            "colorscale": [
             [
              0,
              "#0d0887"
             ],
             [
              0.1111111111111111,
              "#46039f"
             ],
             [
              0.2222222222222222,
              "#7201a8"
             ],
             [
              0.3333333333333333,
              "#9c179e"
             ],
             [
              0.4444444444444444,
              "#bd3786"
             ],
             [
              0.5555555555555556,
              "#d8576b"
             ],
             [
              0.6666666666666666,
              "#ed7953"
             ],
             [
              0.7777777777777778,
              "#fb9f3a"
             ],
             [
              0.8888888888888888,
              "#fdca26"
             ],
             [
              1,
              "#f0f921"
             ]
            ],
            "type": "histogram2dcontour"
           }
          ],
          "mesh3d": [
           {
            "colorbar": {
             "outlinewidth": 0,
             "ticks": ""
            },
            "type": "mesh3d"
           }
          ],
          "parcoords": [
           {
            "line": {
             "colorbar": {
              "outlinewidth": 0,
              "ticks": ""
             }
            },
            "type": "parcoords"
           }
          ],
          "pie": [
           {
            "automargin": true,
            "type": "pie"
           }
          ],
          "scatter": [
           {
            "fillpattern": {
             "fillmode": "overlay",
             "size": 10,
             "solidity": 0.2
            },
            "type": "scatter"
           }
          ],
          "scatter3d": [
           {
            "line": {
             "colorbar": {
              "outlinewidth": 0,
              "ticks": ""
             }
            },
            "marker": {
             "colorbar": {
              "outlinewidth": 0,
              "ticks": ""
             }
            },
            "type": "scatter3d"
           }
          ],
          "scattercarpet": [
           {
            "marker": {
             "colorbar": {
              "outlinewidth": 0,
              "ticks": ""
             }
            },
            "type": "scattercarpet"
           }
          ],
          "scattergeo": [
           {
            "marker": {
             "colorbar": {
              "outlinewidth": 0,
              "ticks": ""
             }
            },
            "type": "scattergeo"
           }
          ],
          "scattergl": [
           {
            "marker": {
             "colorbar": {
              "outlinewidth": 0,
              "ticks": ""
             }
            },
            "type": "scattergl"
           }
          ],
          "scattermapbox": [
           {
            "marker": {
             "colorbar": {
              "outlinewidth": 0,
              "ticks": ""
             }
            },
            "type": "scattermapbox"
           }
          ],
          "scatterpolar": [
           {
            "marker": {
             "colorbar": {
              "outlinewidth": 0,
              "ticks": ""
             }
            },
            "type": "scatterpolar"
           }
          ],
          "scatterpolargl": [
           {
            "marker": {
             "colorbar": {
              "outlinewidth": 0,
              "ticks": ""
             }
            },
            "type": "scatterpolargl"
           }
          ],
          "scatterternary": [
           {
            "marker": {
             "colorbar": {
              "outlinewidth": 0,
              "ticks": ""
             }
            },
            "type": "scatterternary"
           }
          ],
          "surface": [
           {
            "colorbar": {
             "outlinewidth": 0,
             "ticks": ""
            },
            "colorscale": [
             [
              0,
              "#0d0887"
             ],
             [
              0.1111111111111111,
              "#46039f"
             ],
             [
              0.2222222222222222,
              "#7201a8"
             ],
             [
              0.3333333333333333,
              "#9c179e"
             ],
             [
              0.4444444444444444,
              "#bd3786"
             ],
             [
              0.5555555555555556,
              "#d8576b"
             ],
             [
              0.6666666666666666,
              "#ed7953"
             ],
             [
              0.7777777777777778,
              "#fb9f3a"
             ],
             [
              0.8888888888888888,
              "#fdca26"
             ],
             [
              1,
              "#f0f921"
             ]
            ],
            "type": "surface"
           }
          ],
          "table": [
           {
            "cells": {
             "fill": {
              "color": "#EBF0F8"
             },
             "line": {
              "color": "white"
             }
            },
            "header": {
             "fill": {
              "color": "#C8D4E3"
             },
             "line": {
              "color": "white"
             }
            },
            "type": "table"
           }
          ]
         },
         "layout": {
          "annotationdefaults": {
           "arrowcolor": "#2a3f5f",
           "arrowhead": 0,
           "arrowwidth": 1
          },
          "autotypenumbers": "strict",
          "coloraxis": {
           "colorbar": {
            "outlinewidth": 0,
            "ticks": ""
           }
          },
          "colorscale": {
           "diverging": [
            [
             0,
             "#8e0152"
            ],
            [
             0.1,
             "#c51b7d"
            ],
            [
             0.2,
             "#de77ae"
            ],
            [
             0.3,
             "#f1b6da"
            ],
            [
             0.4,
             "#fde0ef"
            ],
            [
             0.5,
             "#f7f7f7"
            ],
            [
             0.6,
             "#e6f5d0"
            ],
            [
             0.7,
             "#b8e186"
            ],
            [
             0.8,
             "#7fbc41"
            ],
            [
             0.9,
             "#4d9221"
            ],
            [
             1,
             "#276419"
            ]
           ],
           "sequential": [
            [
             0,
             "#0d0887"
            ],
            [
             0.1111111111111111,
             "#46039f"
            ],
            [
             0.2222222222222222,
             "#7201a8"
            ],
            [
             0.3333333333333333,
             "#9c179e"
            ],
            [
             0.4444444444444444,
             "#bd3786"
            ],
            [
             0.5555555555555556,
             "#d8576b"
            ],
            [
             0.6666666666666666,
             "#ed7953"
            ],
            [
             0.7777777777777778,
             "#fb9f3a"
            ],
            [
             0.8888888888888888,
             "#fdca26"
            ],
            [
             1,
             "#f0f921"
            ]
           ],
           "sequentialminus": [
            [
             0,
             "#0d0887"
            ],
            [
             0.1111111111111111,
             "#46039f"
            ],
            [
             0.2222222222222222,
             "#7201a8"
            ],
            [
             0.3333333333333333,
             "#9c179e"
            ],
            [
             0.4444444444444444,
             "#bd3786"
            ],
            [
             0.5555555555555556,
             "#d8576b"
            ],
            [
             0.6666666666666666,
             "#ed7953"
            ],
            [
             0.7777777777777778,
             "#fb9f3a"
            ],
            [
             0.8888888888888888,
             "#fdca26"
            ],
            [
             1,
             "#f0f921"
            ]
           ]
          },
          "colorway": [
           "#636efa",
           "#EF553B",
           "#00cc96",
           "#ab63fa",
           "#FFA15A",
           "#19d3f3",
           "#FF6692",
           "#B6E880",
           "#FF97FF",
           "#FECB52"
          ],
          "font": {
           "color": "#2a3f5f"
          },
          "geo": {
           "bgcolor": "white",
           "lakecolor": "white",
           "landcolor": "#E5ECF6",
           "showlakes": true,
           "showland": true,
           "subunitcolor": "white"
          },
          "hoverlabel": {
           "align": "left"
          },
          "hovermode": "closest",
          "mapbox": {
           "style": "light"
          },
          "paper_bgcolor": "white",
          "plot_bgcolor": "#E5ECF6",
          "polar": {
           "angularaxis": {
            "gridcolor": "white",
            "linecolor": "white",
            "ticks": ""
           },
           "bgcolor": "#E5ECF6",
           "radialaxis": {
            "gridcolor": "white",
            "linecolor": "white",
            "ticks": ""
           }
          },
          "scene": {
           "xaxis": {
            "backgroundcolor": "#E5ECF6",
            "gridcolor": "white",
            "gridwidth": 2,
            "linecolor": "white",
            "showbackground": true,
            "ticks": "",
            "zerolinecolor": "white"
           },
           "yaxis": {
            "backgroundcolor": "#E5ECF6",
            "gridcolor": "white",
            "gridwidth": 2,
            "linecolor": "white",
            "showbackground": true,
            "ticks": "",
            "zerolinecolor": "white"
           },
           "zaxis": {
            "backgroundcolor": "#E5ECF6",
            "gridcolor": "white",
            "gridwidth": 2,
            "linecolor": "white",
            "showbackground": true,
            "ticks": "",
            "zerolinecolor": "white"
           }
          },
          "shapedefaults": {
           "line": {
            "color": "#2a3f5f"
           }
          },
          "ternary": {
           "aaxis": {
            "gridcolor": "white",
            "linecolor": "white",
            "ticks": ""
           },
           "baxis": {
            "gridcolor": "white",
            "linecolor": "white",
            "ticks": ""
           },
           "bgcolor": "#E5ECF6",
           "caxis": {
            "gridcolor": "white",
            "linecolor": "white",
            "ticks": ""
           }
          },
          "title": {
           "x": 0.05
          },
          "xaxis": {
           "automargin": true,
           "gridcolor": "white",
           "linecolor": "white",
           "ticks": "",
           "title": {
            "standoff": 15
           },
           "zerolinecolor": "white",
           "zerolinewidth": 2
          },
          "yaxis": {
           "automargin": true,
           "gridcolor": "white",
           "linecolor": "white",
           "ticks": "",
           "title": {
            "standoff": 15
           },
           "zerolinecolor": "white",
           "zerolinewidth": 2
          }
         }
        },
        "title": {
         "text": "Chalk Effects with 95% CI"
        },
        "xaxis": {
         "anchor": "y",
         "domain": [
          0,
          1
         ],
         "title": {
          "text": "Estimated Marginal Mean"
         }
        },
        "yaxis": {
         "anchor": "x",
         "domain": [
          0,
          1
         ],
         "title": {
          "text": "Treatment"
         }
        }
       }
      }
     },
     "metadata": {},
     "output_type": "display_data"
    }
   ],
   "source": [
    "cemmplot = cemmplot.sort_values(\"lower.CL\").reset_index(drop=True)\n",
    "cemmplot[\"mag\"] = cemmplot[\"upper.CL\"] - cemmplot[\"emmean\"]\n",
    "# Create basic plot\n",
    "arrow2 = px.scatter(\n",
    "        cemmplot,\n",
    "        y='Chalk',\n",
    "        x='emmean',\n",
    "        error_x = \"mag\"\n",
    "        )\n",
    "# Update layout\n",
    "arrow2.update_layout(\n",
    "        title='Chalk Effects with 95% CI',\n",
    "        xaxis_title='Estimated Marginal Mean',\n",
    "        yaxis_title='Treatment'\n",
    "    )\n",
    "arrow2.show()\n"
   ]
  },
  {
   "cell_type": "code",
   "execution_count": 233,
   "metadata": {},
   "outputs": [
    {
     "data": {
      "application/vnd.microsoft.datawrangler.viewer.v0+json": {
       "columns": [
        {
         "name": "index",
         "rawType": "object",
         "type": "string"
        },
        {
         "name": "contrast",
         "rawType": "object",
         "type": "string"
        },
        {
         "name": "estimate",
         "rawType": "float64",
         "type": "float"
        },
        {
         "name": "SE",
         "rawType": "float64",
         "type": "float"
        },
        {
         "name": "df",
         "rawType": "float64",
         "type": "float"
        },
        {
         "name": "t.ratio",
         "rawType": "float64",
         "type": "float"
        },
        {
         "name": "p.value",
         "rawType": "float64",
         "type": "float"
        }
       ],
       "conversionMethod": "pd.DataFrame",
       "ref": "e97e8f6b-ce0f-4dbc-a817-f89b77087414",
       "rows": [
        [
         "1",
         "None - FL",
         "-9.76767494048939",
         "3.7723301179204274",
         "549.4109847296523",
         "-2.589294848318847",
         "0.07371528939238359"
        ],
        [
         "2",
         "None - Metolius",
         "-9.08161925838818",
         "3.6224544239599856",
         "556.7388648831311",
         "-2.507034787882951",
         "0.09049485992279016"
        ],
        [
         "3",
         "None - Magdust",
         "-8.845867745522463",
         "2.689924606066077",
         "569.9886041097484",
         "-3.2885188401095165",
         "0.009411023370386018"
        ],
        [
         "4",
         "None - Ethan",
         "-13.440059870893682",
         "3.9202698897261317",
         "564.0587994039986",
         "-3.4283506618042052",
         "0.005855165371601134"
        ],
        [
         "5",
         "FL - Metolius",
         "0.6860556821012107",
         "5.02204412595836",
         "523.6027886161384",
         "0.1366088518727004",
         "0.9999214858557866"
        ],
        [
         "6",
         "FL - Magdust",
         "0.9218071949669273",
         "4.5497296044426365",
         "540.1651729227601",
         "0.20260702835324937",
         "0.999624127797843"
        ],
        [
         "7",
         "FL - Ethan",
         "-3.6723849304042915",
         "5.322729599799522",
         "527.462871122819",
         "-0.6899439209804327",
         "0.958635204763133"
        ],
        [
         "8",
         "Metolius - Magdust",
         "0.2357515128657166",
         "4.286317672138195",
         "558.5574168993654",
         "0.055000942743498024",
         "0.9999979222147878"
        ],
        [
         "9",
         "Metolius - Ethan",
         "-4.358440612505502",
         "5.309620387581024",
         "537.3036686508403",
         "-0.8208572919261251",
         "0.9241768530982282"
        ],
        [
         "10",
         "Magdust - Ethan",
         "-4.594192125371219",
         "4.402001213078167",
         "565.2693006696054",
         "-1.0436598953498832",
         "0.8348883758940506"
        ]
       ],
       "shape": {
        "columns": 6,
        "rows": 10
       }
      },
      "text/html": [
       "<div>\n",
       "<style scoped>\n",
       "    .dataframe tbody tr th:only-of-type {\n",
       "        vertical-align: middle;\n",
       "    }\n",
       "\n",
       "    .dataframe tbody tr th {\n",
       "        vertical-align: top;\n",
       "    }\n",
       "\n",
       "    .dataframe thead th {\n",
       "        text-align: right;\n",
       "    }\n",
       "</style>\n",
       "<table border=\"1\" class=\"dataframe\">\n",
       "  <thead>\n",
       "    <tr style=\"text-align: right;\">\n",
       "      <th></th>\n",
       "      <th>contrast</th>\n",
       "      <th>estimate</th>\n",
       "      <th>SE</th>\n",
       "      <th>df</th>\n",
       "      <th>t.ratio</th>\n",
       "      <th>p.value</th>\n",
       "    </tr>\n",
       "  </thead>\n",
       "  <tbody>\n",
       "    <tr>\n",
       "      <th>1</th>\n",
       "      <td>None - FL</td>\n",
       "      <td>-9.767675</td>\n",
       "      <td>3.772330</td>\n",
       "      <td>549.410985</td>\n",
       "      <td>-2.589295</td>\n",
       "      <td>0.073715</td>\n",
       "    </tr>\n",
       "    <tr>\n",
       "      <th>2</th>\n",
       "      <td>None - Metolius</td>\n",
       "      <td>-9.081619</td>\n",
       "      <td>3.622454</td>\n",
       "      <td>556.738865</td>\n",
       "      <td>-2.507035</td>\n",
       "      <td>0.090495</td>\n",
       "    </tr>\n",
       "    <tr>\n",
       "      <th>3</th>\n",
       "      <td>None - Magdust</td>\n",
       "      <td>-8.845868</td>\n",
       "      <td>2.689925</td>\n",
       "      <td>569.988604</td>\n",
       "      <td>-3.288519</td>\n",
       "      <td>0.009411</td>\n",
       "    </tr>\n",
       "    <tr>\n",
       "      <th>4</th>\n",
       "      <td>None - Ethan</td>\n",
       "      <td>-13.440060</td>\n",
       "      <td>3.920270</td>\n",
       "      <td>564.058799</td>\n",
       "      <td>-3.428351</td>\n",
       "      <td>0.005855</td>\n",
       "    </tr>\n",
       "    <tr>\n",
       "      <th>5</th>\n",
       "      <td>FL - Metolius</td>\n",
       "      <td>0.686056</td>\n",
       "      <td>5.022044</td>\n",
       "      <td>523.602789</td>\n",
       "      <td>0.136609</td>\n",
       "      <td>0.999921</td>\n",
       "    </tr>\n",
       "    <tr>\n",
       "      <th>6</th>\n",
       "      <td>FL - Magdust</td>\n",
       "      <td>0.921807</td>\n",
       "      <td>4.549730</td>\n",
       "      <td>540.165173</td>\n",
       "      <td>0.202607</td>\n",
       "      <td>0.999624</td>\n",
       "    </tr>\n",
       "    <tr>\n",
       "      <th>7</th>\n",
       "      <td>FL - Ethan</td>\n",
       "      <td>-3.672385</td>\n",
       "      <td>5.322730</td>\n",
       "      <td>527.462871</td>\n",
       "      <td>-0.689944</td>\n",
       "      <td>0.958635</td>\n",
       "    </tr>\n",
       "    <tr>\n",
       "      <th>8</th>\n",
       "      <td>Metolius - Magdust</td>\n",
       "      <td>0.235752</td>\n",
       "      <td>4.286318</td>\n",
       "      <td>558.557417</td>\n",
       "      <td>0.055001</td>\n",
       "      <td>0.999998</td>\n",
       "    </tr>\n",
       "    <tr>\n",
       "      <th>9</th>\n",
       "      <td>Metolius - Ethan</td>\n",
       "      <td>-4.358441</td>\n",
       "      <td>5.309620</td>\n",
       "      <td>537.303669</td>\n",
       "      <td>-0.820857</td>\n",
       "      <td>0.924177</td>\n",
       "    </tr>\n",
       "    <tr>\n",
       "      <th>10</th>\n",
       "      <td>Magdust - Ethan</td>\n",
       "      <td>-4.594192</td>\n",
       "      <td>4.402001</td>\n",
       "      <td>565.269301</td>\n",
       "      <td>-1.043660</td>\n",
       "      <td>0.834888</td>\n",
       "    </tr>\n",
       "  </tbody>\n",
       "</table>\n",
       "</div>"
      ],
      "text/plain": [
       "              contrast   estimate        SE          df   t.ratio   p.value\n",
       "1            None - FL  -9.767675  3.772330  549.410985 -2.589295  0.073715\n",
       "2      None - Metolius  -9.081619  3.622454  556.738865 -2.507035  0.090495\n",
       "3       None - Magdust  -8.845868  2.689925  569.988604 -3.288519  0.009411\n",
       "4         None - Ethan -13.440060  3.920270  564.058799 -3.428351  0.005855\n",
       "5        FL - Metolius   0.686056  5.022044  523.602789  0.136609  0.999921\n",
       "6         FL - Magdust   0.921807  4.549730  540.165173  0.202607  0.999624\n",
       "7           FL - Ethan  -3.672385  5.322730  527.462871 -0.689944  0.958635\n",
       "8   Metolius - Magdust   0.235752  4.286318  558.557417  0.055001  0.999998\n",
       "9     Metolius - Ethan  -4.358441  5.309620  537.303669 -0.820857  0.924177\n",
       "10     Magdust - Ethan  -4.594192  4.402001  565.269301 -1.043660  0.834888"
      ]
     },
     "execution_count": 233,
     "metadata": {},
     "output_type": "execute_result"
    }
   ],
   "source": [
    "ccontrasts"
   ]
  },
  {
   "cell_type": "markdown",
   "metadata": {},
   "source": [
    "- This Output is now a lot more interpretable. \n",
    "- Only 2 p values for contrasts are significant at p = 0.05, Magdust and Ethan Chalk compared to none. \n",
    "- Essentially, this means Magdust and Ethan's Chalk are significantly better than no chalk according to our data, but that all four chalks are not significantly different from each other, and FL and Metolius are not significantly from No Chalk. "
   ]
  },
  {
   "cell_type": "markdown",
   "metadata": {},
   "source": [
    "# Conclusions\n",
    "- Confounding is bad lol. "
   ]
  }
 ],
 "metadata": {
  "kernelspec": {
   "display_name": "main",
   "language": "python",
   "name": "python3"
  },
  "language_info": {
   "codemirror_mode": {
    "name": "ipython",
    "version": 3
   },
   "file_extension": ".py",
   "mimetype": "text/x-python",
   "name": "python",
   "nbconvert_exporter": "python",
   "pygments_lexer": "ipython3",
   "version": "3.12.3"
  }
 },
 "nbformat": 4,
 "nbformat_minor": 2
}
