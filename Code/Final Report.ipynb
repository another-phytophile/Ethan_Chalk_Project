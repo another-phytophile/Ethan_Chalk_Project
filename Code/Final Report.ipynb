{
 "cells": [
  {
   "cell_type": "markdown",
   "metadata": {},
   "source": [
    "# An Analysis of Four Different Formulations of Chalk on Grip Strength\n",
    "\n",
    "Ethan Basingr and Jerry H. Yu\n",
    "\n",
    "## Introduction\n",
    "\n",
    "Climbing Chalk is commonly used to enhance grip strength in sports like rock climbing or powelifting. Most commercial brands of climbing chalk are made with Magnesium Carbonate (MgCO3). However, Magnesium carbonate has a wide variety of crystal structures that can affect its ability to absorb water and other fluids. My friend Ethan spent month designing a new way to crystallize MgCO3 to hopefull make suprior chalk to commercial brands. This report analyzes an experiment he conducted with a third friend analyze and chalk to other brands. \n",
    "\n",
    "## Methods\n",
    "\n",
    "The experiment was conducted as an unbalanced block design. Testing constraints prevented the easy swapping between chalks during a single test, so chalks were testred sequentially across days, resulting in confounding. While such bias is impossible to correct completley for the final analysis, I did try two approaches to correct it. I decided to use mixed models to evaluate the data. "
   ]
  },
  {
   "cell_type": "code",
   "execution_count": null,
   "metadata": {},
   "outputs": [
    {
     "name": "stderr",
     "output_type": "stream",
     "text": [
      "c:\\Users\\yujer\\anaconda3\\envs\\main\\Lib\\site-packages\\rpy2\\robjects\\packages.py:367: UserWarning: The symbol 'quartz' is not in this R namespace/package.\n",
      "  warnings.warn(\n"
     ]
    },
    {
     "name": "stdout",
     "output_type": "stream",
     "text": [
      "c:\\Users\\Public\\Documents\\Personal_Projects\\Ethan_Chalk_Project\n"
     ]
    }
   ],
   "source": [
    "# Set Up Python Enviroment\n",
    "import math\n",
    "import numpy as np\n",
    "import pandas as pd\n",
    "import plotly.express as px\n",
    "import os\n",
    "import git\n",
    "import rpy2\n",
    "%load_ext rpy2.ipython\n",
    "import statsmodels\n",
    "import statsmodels.formula.api as smf\n",
    "import plotly.io as pio\n",
    "repo = git.Repo('.', search_parent_directories=True)\n",
    "os.chdir(repo.working_tree_dir)\n",
    "print(os.getcwd())"
   ]
  },
  {
   "cell_type": "code",
   "execution_count": 2,
   "metadata": {},
   "outputs": [
    {
     "name": "stdout",
     "output_type": "stream",
     "text": [
      "-- Attaching core tidyverse packages ------------------------ tidyverse 2.0.0 --\n",
      "v dplyr     1.1.4     v readr     2.1.5\n",
      "v forcats   1.0.0     v stringr   1.5.1\n",
      "v ggplot2   3.5.1     v tibble    3.2.1\n",
      "v lubridate 1.9.4     v tidyr     1.3.1\n",
      "v purrr     1.0.4     \n",
      "-- Conflicts ------------------------------------------ tidyverse_conflicts() --\n",
      "x dplyr::filter() masks stats::filter()\n",
      "x dplyr::lag()    masks stats::lag()\n",
      "i Use the conflicted package (<http://conflicted.r-lib.org/>) to force all conflicts to become errors\n"
     ]
    },
    {
     "name": "stderr",
     "output_type": "stream",
     "text": [
      "R[write to console]: Loading required package: zoo\n",
      "\n",
      "R[write to console]: \n",
      "Attaching package: 'zoo'\n",
      "\n",
      "\n",
      "R[write to console]: The following objects are masked from 'package:base':\n",
      "\n",
      "    as.Date, as.Date.numeric\n",
      "\n",
      "\n",
      "R[write to console]: here() starts at C:/Users/Public/Documents/Personal_Projects/Ethan_Chalk_Project\n",
      "\n",
      "R[write to console]: Loading required package: Matrix\n",
      "\n",
      "R[write to console]: \n",
      "Attaching package: 'Matrix'\n",
      "\n",
      "\n",
      "R[write to console]: The following objects are masked from 'package:tidyr':\n",
      "\n",
      "    expand, pack, unpack\n",
      "\n",
      "\n",
      "R[write to console]: \n",
      "Attaching package: 'MASS'\n",
      "\n",
      "\n",
      "R[write to console]: The following object is masked from 'package:dplyr':\n",
      "\n",
      "    select\n",
      "\n",
      "\n",
      "R[write to console]: Loading required package: lattice\n",
      "\n",
      "R[write to console]: \n",
      "Attaching package: 'caret'\n",
      "\n",
      "\n",
      "R[write to console]: The following object is masked from 'package:purrr':\n",
      "\n",
      "    lift\n",
      "\n",
      "\n",
      "R[write to console]: Registered S3 method overwritten by 'clubSandwich':\n",
      "  method    from    \n",
      "  bread.mlm sandwich\n",
      "\n",
      "R[write to console]: Welcome to emmeans.\n",
      "Caution: You lose important information if you filter this package's results.\n",
      "See '? untidy'\n",
      "\n",
      "R[write to console]: Registered S3 method overwritten by 'broom':\n",
      "  method        from \n",
      "  nobs.multinom MuMIn\n",
      "\n"
     ]
    }
   ],
   "source": [
    "%%R\n",
    "# Set Up R Enviroment in Python\n",
    "library(tidyverse)\n",
    "library(lmtest)\n",
    "library(here)\n",
    "library(lme4) \n",
    "library(MASS)\n",
    "library(MuMIn)\n",
    "library(caret)\n",
    "library(clubSandwich)\n",
    "library(emmeans)\n",
    "library(pbkrtest)"
   ]
  },
  {
   "cell_type": "markdown",
   "metadata": {},
   "source": [
    "# Data\n",
    "\n",
    "The original data was not formatted in the way of a long table, so I used excel to clean the data. Multiple explanatory variables were encoded in color or order of the tables, so they needed to be made explicit. I used a series of formulas for that. Thus, I created long formats of the `Chalk_Results.xlsx` and `Randomized tests.xlsx` (`Chalk_Long.xlsm` and `Metadata.slsx`) and merged and created labels for them in python. \n",
    "\n",
    "Variables are:\n",
    "- **Code:** a number from 1-24. In excel, this column's color is indicative of date, and its value is also indicative of control (or chalk) and treatment. Code + bChalk form the key for merging metadata with chalk_long. \n",
    "- **bChalk:** a number from 1-4 (1=FL. 2=Metolius, 3=Magdust, 4=Ethan's Chalk), not directly indicative of whether chalk was used. Code + bChalk form the key for merging metadata with chalk_long.\n",
    "- **Pinch_Order:** Order in which test was conducted, for each attempt (code number), the test was performed three times sequentially. Pinch_Order + bChalk + Code forms the primary key. \n",
    "- **Pinch:** The weight at which the board was pinched. \n",
    "- **Pull:** The weight just before the hand slipped. **Our dependent variable**. \n",
    "- **Chalk:** The actual chalk used, 0 is added for control. \n",
    "- **Used:** A Dummy variable for is chalk is used or not. Used in testing the random effects. \n",
    "- **Person:** The person conducting the test, one intermediate and one advanced climber. \n",
    "- **Day:** The day when the test was conducted. Dates were, 10/30/2024,10/31/2024,11/4/2024,11/6/2024,11/8/2024,11/10/2024, and 11/14/2024. Last two were apparently \"noticeably slippery\". \n",
    "- **Day_Order:** The order in which the tests were conducted in the day. This was randomized. \n",
    "\n",
    "# Wrangling\n",
    "\n",
    "The wrangling section is below. Mostly easy to clean, but some variables needed to be converted into factors. "
   ]
  },
  {
   "cell_type": "code",
   "execution_count": 3,
   "metadata": {},
   "outputs": [],
   "source": [
    "# Read in and Merge Data and Metadata\n",
    "Chalk_Long = pd.read_excel('data/Raw/Chalk_Long.xlsm', sheet_name=1, header=0)\n",
    "metadata = pd.read_excel('data/Raw/Metadata.xlsx', sheet_name=1, header=0)\n",
    "Chalk = pd.merge(metadata, Chalk_Long, on=[\"Code\",\"bChalk\"], how='left')\n",
    "#Chalk.to_csv('data/Processed/Chalk.csv', index=False)\n",
    "# Convert Labels into factor variables for further analysis\n",
    "Chalk[\"Chalk\"] = Chalk[\"Chalk\"].astype(\"category\")\n",
    "Chalk[\"Chalk\"] = Chalk[\"Chalk\"].cat.rename_categories([\"None\", \"FL\", \"Metolius\", \"Magdust\", \"Ethan\"])\n",
    "Chalk[\"Pinch_Order\"] = Chalk[\"Pinch_Order\"].rank(method='dense')\n",
    "Chalk[\"Day_Chalk\"] = Chalk[\"Day\"].astype(\"str\") + \"_\" + Chalk[\"Chalk\"].astype(\"str\")\n",
    "Chalk[\"Used\"] = [0 if c== \"None\" else 1 for c in Chalk[\"Chalk\"]]\n",
    "Chalk[\"Used\"] = Chalk[\"Used\"].astype(\"category\")\n",
    "Chalk[\"Used\"] = Chalk[\"Used\"].cat.rename_categories([\"None\", \"Chalk\"])\n",
    "Chalk[\"Person\"] = Chalk[\"Person\"].astype(\"category\")\n",
    "Chalk[\"Day\"] = Chalk[\"Day\"].astype(\"category\")"
   ]
  },
  {
   "cell_type": "code",
   "execution_count": 4,
   "metadata": {},
   "outputs": [
    {
     "name": "stdout",
     "output_type": "stream",
     "text": [
      "<class 'pandas.core.frame.DataFrame'>\n",
      "RangeIndex: 576 entries, 0 to 575\n",
      "Data columns (total 11 columns):\n",
      " #   Column       Non-Null Count  Dtype   \n",
      "---  ------       --------------  -----   \n",
      " 0   Code         576 non-null    int64   \n",
      " 1   bChalk       576 non-null    int64   \n",
      " 2   Day_Order    576 non-null    int64   \n",
      " 3   Day          576 non-null    category\n",
      " 4   Pinch        576 non-null    float64 \n",
      " 5   Pull         576 non-null    float64 \n",
      " 6   Pinch_Order  576 non-null    float64 \n",
      " 7   Chalk        576 non-null    category\n",
      " 8   Person       576 non-null    category\n",
      " 9   Day_Chalk    576 non-null    object  \n",
      " 10  Used         576 non-null    category\n",
      "dtypes: category(4), float64(3), int64(3), object(1)\n",
      "memory usage: 34.7+ KB\n"
     ]
    },
    {
     "name": "stderr",
     "output_type": "stream",
     "text": [
      "c:\\Users\\yujer\\anaconda3\\envs\\main\\Lib\\site-packages\\rpy2\\robjects\\pandas2ri.py:65: UserWarning:\n",
      "\n",
      "Error while trying to convert the column \"Day\". Fall back to string conversion. The error is: Converting pandas \"Category\" series to R factor is only possible when categories are strings.\n",
      "\n",
      "c:\\Users\\yujer\\anaconda3\\envs\\main\\Lib\\site-packages\\rpy2\\robjects\\pandas2ri.py:65: UserWarning:\n",
      "\n",
      "Error while trying to convert the column \"Person\". Fall back to string conversion. The error is: Converting pandas \"Category\" series to R factor is only possible when categories are strings.\n",
      "\n"
     ]
    },
    {
     "data": {
      "application/vnd.microsoft.datawrangler.viewer.v0+json": {
       "columns": [
        {
         "name": "index",
         "rawType": "int64",
         "type": "integer"
        },
        {
         "name": "Code",
         "rawType": "int64",
         "type": "integer"
        },
        {
         "name": "bChalk",
         "rawType": "int64",
         "type": "integer"
        },
        {
         "name": "Day_Order",
         "rawType": "int64",
         "type": "integer"
        },
        {
         "name": "Day",
         "rawType": "category",
         "type": "unknown"
        },
        {
         "name": "Pinch",
         "rawType": "float64",
         "type": "float"
        },
        {
         "name": "Pull",
         "rawType": "float64",
         "type": "float"
        },
        {
         "name": "Pinch_Order",
         "rawType": "float64",
         "type": "float"
        },
        {
         "name": "Chalk",
         "rawType": "category",
         "type": "unknown"
        },
        {
         "name": "Person",
         "rawType": "category",
         "type": "unknown"
        },
        {
         "name": "Day_Chalk",
         "rawType": "object",
         "type": "string"
        },
        {
         "name": "Used",
         "rawType": "category",
         "type": "unknown"
        }
       ],
       "conversionMethod": "pd.DataFrame",
       "ref": "e790553d-728a-4d0f-a503-3a457645cedb",
       "rows": [
        [
         "0",
         "16",
         "1",
         "1",
         "2024-10-30 00:00:00",
         "4.202",
         "34.6",
         "1.0",
         "None",
         "1",
         "2024-10-30_None",
         "None"
        ],
        [
         "1",
         "16",
         "1",
         "1",
         "2024-10-30 00:00:00",
         "4.117",
         "31.9",
         "2.0",
         "None",
         "1",
         "2024-10-30_None",
         "None"
        ],
        [
         "2",
         "16",
         "1",
         "1",
         "2024-10-30 00:00:00",
         "4.154",
         "31.9",
         "3.0",
         "None",
         "1",
         "2024-10-30_None",
         "None"
        ],
        [
         "3",
         "34",
         "1",
         "2",
         "2024-10-30 00:00:00",
         "4.088",
         "41.1",
         "1.0",
         "FL",
         "2",
         "2024-10-30_FL",
         "Chalk"
        ],
        [
         "4",
         "34",
         "1",
         "2",
         "2024-10-30 00:00:00",
         "4.088",
         "44.5",
         "2.0",
         "FL",
         "2",
         "2024-10-30_FL",
         "Chalk"
        ]
       ],
       "shape": {
        "columns": 11,
        "rows": 5
       }
      },
      "text/html": [
       "<div>\n",
       "<style scoped>\n",
       "    .dataframe tbody tr th:only-of-type {\n",
       "        vertical-align: middle;\n",
       "    }\n",
       "\n",
       "    .dataframe tbody tr th {\n",
       "        vertical-align: top;\n",
       "    }\n",
       "\n",
       "    .dataframe thead th {\n",
       "        text-align: right;\n",
       "    }\n",
       "</style>\n",
       "<table border=\"1\" class=\"dataframe\">\n",
       "  <thead>\n",
       "    <tr style=\"text-align: right;\">\n",
       "      <th></th>\n",
       "      <th>Code</th>\n",
       "      <th>bChalk</th>\n",
       "      <th>Day_Order</th>\n",
       "      <th>Day</th>\n",
       "      <th>Pinch</th>\n",
       "      <th>Pull</th>\n",
       "      <th>Pinch_Order</th>\n",
       "      <th>Chalk</th>\n",
       "      <th>Person</th>\n",
       "      <th>Day_Chalk</th>\n",
       "      <th>Used</th>\n",
       "    </tr>\n",
       "  </thead>\n",
       "  <tbody>\n",
       "    <tr>\n",
       "      <th>0</th>\n",
       "      <td>16</td>\n",
       "      <td>1</td>\n",
       "      <td>1</td>\n",
       "      <td>2024-10-30</td>\n",
       "      <td>4.202</td>\n",
       "      <td>34.6</td>\n",
       "      <td>1.0</td>\n",
       "      <td>None</td>\n",
       "      <td>1</td>\n",
       "      <td>2024-10-30_None</td>\n",
       "      <td>None</td>\n",
       "    </tr>\n",
       "    <tr>\n",
       "      <th>1</th>\n",
       "      <td>16</td>\n",
       "      <td>1</td>\n",
       "      <td>1</td>\n",
       "      <td>2024-10-30</td>\n",
       "      <td>4.117</td>\n",
       "      <td>31.9</td>\n",
       "      <td>2.0</td>\n",
       "      <td>None</td>\n",
       "      <td>1</td>\n",
       "      <td>2024-10-30_None</td>\n",
       "      <td>None</td>\n",
       "    </tr>\n",
       "    <tr>\n",
       "      <th>2</th>\n",
       "      <td>16</td>\n",
       "      <td>1</td>\n",
       "      <td>1</td>\n",
       "      <td>2024-10-30</td>\n",
       "      <td>4.154</td>\n",
       "      <td>31.9</td>\n",
       "      <td>3.0</td>\n",
       "      <td>None</td>\n",
       "      <td>1</td>\n",
       "      <td>2024-10-30_None</td>\n",
       "      <td>None</td>\n",
       "    </tr>\n",
       "    <tr>\n",
       "      <th>3</th>\n",
       "      <td>34</td>\n",
       "      <td>1</td>\n",
       "      <td>2</td>\n",
       "      <td>2024-10-30</td>\n",
       "      <td>4.088</td>\n",
       "      <td>41.1</td>\n",
       "      <td>1.0</td>\n",
       "      <td>FL</td>\n",
       "      <td>2</td>\n",
       "      <td>2024-10-30_FL</td>\n",
       "      <td>Chalk</td>\n",
       "    </tr>\n",
       "    <tr>\n",
       "      <th>4</th>\n",
       "      <td>34</td>\n",
       "      <td>1</td>\n",
       "      <td>2</td>\n",
       "      <td>2024-10-30</td>\n",
       "      <td>4.088</td>\n",
       "      <td>44.5</td>\n",
       "      <td>2.0</td>\n",
       "      <td>FL</td>\n",
       "      <td>2</td>\n",
       "      <td>2024-10-30_FL</td>\n",
       "      <td>Chalk</td>\n",
       "    </tr>\n",
       "  </tbody>\n",
       "</table>\n",
       "</div>"
      ],
      "text/plain": [
       "   Code  bChalk  Day_Order        Day  Pinch  Pull  Pinch_Order Chalk Person  \\\n",
       "0    16       1          1 2024-10-30  4.202  34.6          1.0  None      1   \n",
       "1    16       1          1 2024-10-30  4.117  31.9          2.0  None      1   \n",
       "2    16       1          1 2024-10-30  4.154  31.9          3.0  None      1   \n",
       "3    34       1          2 2024-10-30  4.088  41.1          1.0    FL      2   \n",
       "4    34       1          2 2024-10-30  4.088  44.5          2.0    FL      2   \n",
       "\n",
       "         Day_Chalk   Used  \n",
       "0  2024-10-30_None   None  \n",
       "1  2024-10-30_None   None  \n",
       "2  2024-10-30_None   None  \n",
       "3    2024-10-30_FL  Chalk  \n",
       "4    2024-10-30_FL  Chalk  "
      ]
     },
     "execution_count": 4,
     "metadata": {},
     "output_type": "execute_result"
    }
   ],
   "source": [
    "# Now let us check that our wrangling worked as expected\n",
    "%R -i Chalk\n",
    "Chalk.info()\n",
    "Chalk.head()"
   ]
  },
  {
   "cell_type": "markdown",
   "metadata": {},
   "source": [
    "# EDA\n",
    "\n",
    "Next Graphs to Visualize Key Variables\n",
    "\n",
    "- First I will check the distributions of the numeric variables. "
   ]
  },
  {
   "cell_type": "code",
   "execution_count": 5,
   "metadata": {},
   "outputs": [
    {
     "data": {
      "text/html": [
       "        <script type=\"text/javascript\">\n",
       "        window.PlotlyConfig = {MathJaxConfig: 'local'};\n",
       "        if (window.MathJax && window.MathJax.Hub && window.MathJax.Hub.Config) {window.MathJax.Hub.Config({SVG: {font: \"STIX-Web\"}});}\n",
       "        if (typeof require !== 'undefined') {\n",
       "        require.undef(\"plotly\");\n",
       "        requirejs.config({\n",
       "            paths: {\n",
       "                'plotly': ['https://cdn.plot.ly/plotly-2.35.2.min']\n",
       "            }\n",
       "        });\n",
       "        require(['plotly'], function(Plotly) {\n",
       "            window._Plotly = Plotly;\n",
       "        });\n",
       "        }\n",
       "        </script>\n",
       "        "
      ]
     },
     "metadata": {},
     "output_type": "display_data"
    },
    {
     "data": {
      "text/html": [
       "<div>                            <div id=\"52cadd66-26f9-42db-bdd3-d5024de91872\" class=\"plotly-graph-div\" style=\"height:525px; width:100%;\"></div>            <script type=\"text/javascript\">                require([\"plotly\"], function(Plotly) {                    window.PLOTLYENV=window.PLOTLYENV || {};                                    if (document.getElementById(\"52cadd66-26f9-42db-bdd3-d5024de91872\")) {                    Plotly.newPlot(                        \"52cadd66-26f9-42db-bdd3-d5024de91872\",                        [{\"alignmentgroup\":\"True\",\"bingroup\":\"x\",\"hovertemplate\":\"Pinch=%{x}\\u003cbr\\u003ecount=%{y}\\u003cextra\\u003e\\u003c\\u002fextra\\u003e\",\"legendgroup\":\"\",\"marker\":{\"color\":\"#636efa\",\"pattern\":{\"shape\":\"\"}},\"name\":\"\",\"nbinsx\":20,\"offsetgroup\":\"\",\"orientation\":\"v\",\"showlegend\":false,\"x\":[4.202,4.117,4.154,4.088,4.088,4.086,1.099,1.319,1.198,3.124,2.808,3.077,4.088,4.223,4.125,4.888,5.356,4.838,2.086,2.054,2.08,5.989,6.064,5.883,4.483,4.088,4.528,5.233,5.382,5.1,1.284,1.322,1.408,3.938,3.298,3.238,5.105,5.372,5.201,5.587,5.055,4.991,5.898,5.899,5.881,1.176,1.292,1.044,3.121,3.289,2.966,4.104,4.18,4.453,4.212,4.349,3.792,1.167,1.018,1.018,6.039,7.126,6.407,5.492,5.703,5.342,6.309,5.813,6.138,1.093,1.188,1.036,2.597,2.419,2.058,1.949,1.908,2.209,3.36,3.326,2.999,3.886,4.549,4.078,5.96,5.5,6.198,5.289,5.472,5.066,3.129,2.847,3.072,6.683,6.046,5.699,1.275,1.135,1.288,2.188,1.998,1.997,2.129,2.179,1.952,3.762,3.399,3.316,2.347,2.129,2.104,6.221,6.262,6.878,3.572,3.189,3.258,5.061,5.334,4.947,1.198,1.098,1.303,4.047,4.096,4.116,2.998,3.089,3.088,2.342,2.078,2.217,1.098,1.054,1.141,2.061,2.078,1.983,5.738,5.692,6.088,4.989,4.294,4.288,2.198,2.101,2.192,4.158,4.389,4.388,1.002,0.938,1.088,5.309,5.069,5.22,6.007,6.038,6.308,5.16,4.887,5.108,3.053,2.83,2.899,6.498,6.602,6.225,6.398,5.969,5.608,7.243,7.389,6.914,2.098,2.198,2.278,6.091,5.988,6.074,1.278,1.238,1.068,3.946,4.473,3.938,3.915,4.057,3.99,4.304,4.239,4.224,6.033,5.337,4.987,1.157,1.073,1.097,2.288,2.234,2.169,4.889,4.582,4.718,2.829,3.138,3.191,5.587,5.934,7.216,4.766,3.788,4.012,3.546,3.148,2.798,5.928,6.093,5.843,3.564,3.055,4.039,1.034,1.037,1.019,2.098,2.048,2.033,3.638,3.889,3.762,5.492,5.447,5.139,2.006,2.088,2.023,1.988,2.049,2.114,1.082,1.093,0.979,4.072,4.208,4.196,2.096,2.015,2.022,3.08,3.1,3.098,3.218,3.363,3.388,1.085,1.053,0.947,1.217,1.1,1.176,4.149,4.162,4.449,2.139,2.022,2.019,6.309,6.009,6.087,5.66,5.291,4.898,3.013,3.176,3.315,3.218,3.044,3.306,5.581,5.039,4.893,1.309,1.463,1.19,5.29,5.038,5.275,6.0,5.859,6.143,4.919,4.909,5.048,2.194,2.199,2.065,3.22,3.214,3.215,2.351,2.096,2.206,4.387,4.095,4.247,2.218,2.138,2.079,3.247,3.152,3.253,5.998,5.993,6.048,4.997,4.589,5.384,1.219,1.308,1.249,3.211,3.458,3.187,4.446,4.258,4.172,3.209,3.284,2.88,1.042,1.221,1.033,2.29,1.96,2.059,4.793,4.767,4.958,6.087,6.636,5.872,1.149,0.989,1.059,4.496,4.491,4.019,3.648,3.189,3.573,1.089,1.102,1.02,6.493,5.989,5.998,6.685,6.172,6.276,1.207,1.063,1.184,5.287,4.886,4.949,6.935,6.741,6.158,3.988,4.123,4.333,5.061,5.191,5.094,2.178,2.089,2.183,1.97,2.188,2.048,5.267,5.326,5.636,1.038,1.0,1.192,3.209,3.138,3.406,5.783,6.108,5.898,2.413,2.199,2.28,1.033,1.082,1.048,4.109,3.899,4.251,4.988,4.964,5.069,1.523,1.238,1.369,5.189,5.086,5.098,4.088,3.898,3.859,2.868,2.898,3.092,5.999,5.966,6.031,4.332,4.089,3.988,3.098,2.892,3.21,4.106,3.838,4.188,2.298,1.898,2.183,3.048,2.888,2.688,1.289,1.389,1.208,2.089,2.008,2.133,5.336,5.599,5.579,2.208,2.098,2.08,4.282,4.094,3.899,3.322,3.092,3.298,6.558,6.199,6.343,1.196,1.36,1.198,4.888,4.979,5.217,2.098,1.983,2.207,5.998,6.203,6.387,5.972,5.666,5.869,2.041,2.22,2.212,3.292,3.088,3.088,1.139,1.098,1.231,1.147,1.115,1.279,0.988,1.219,0.972,5.097,4.964,4.787,1.268,1.061,1.279,2.077,1.992,2.164,2.217,2.187,1.898,4.463,4.066,3.676,3.077,3.161,3.186,4.06,3.962,4.099,4.28,4.335,4.388,2.947,3.278,3.298,5.744,5.826,6.173,3.276,3.127,3.326,6.168,6.75,6.096,1.359,1.1,1.081,2.381,2.442,2.075,4.996,4.988,4.979,5.978,6.124,6.493,1.311,1.218,1.446,4.153,4.088,4.304,2.992,3.31,3.338,3.103,3.155,3.048,4.24,4.979,4.612,6.888,6.32,6.549,6.028,6.484,6.203,4.877,4.938,5.168,5.026,4.899,5.306,2.015,2.372,2.625,4.083,4.143,4.252,4.288,3.91,4.38,5.117,5.098,4.878,5.198,5.624,5.274],\"xaxis\":\"x\",\"yaxis\":\"y\",\"type\":\"histogram\"}],                        {\"template\":{\"data\":{\"histogram2dcontour\":[{\"type\":\"histogram2dcontour\",\"colorbar\":{\"outlinewidth\":0,\"ticks\":\"\"},\"colorscale\":[[0.0,\"#0d0887\"],[0.1111111111111111,\"#46039f\"],[0.2222222222222222,\"#7201a8\"],[0.3333333333333333,\"#9c179e\"],[0.4444444444444444,\"#bd3786\"],[0.5555555555555556,\"#d8576b\"],[0.6666666666666666,\"#ed7953\"],[0.7777777777777778,\"#fb9f3a\"],[0.8888888888888888,\"#fdca26\"],[1.0,\"#f0f921\"]]}],\"choropleth\":[{\"type\":\"choropleth\",\"colorbar\":{\"outlinewidth\":0,\"ticks\":\"\"}}],\"histogram2d\":[{\"type\":\"histogram2d\",\"colorbar\":{\"outlinewidth\":0,\"ticks\":\"\"},\"colorscale\":[[0.0,\"#0d0887\"],[0.1111111111111111,\"#46039f\"],[0.2222222222222222,\"#7201a8\"],[0.3333333333333333,\"#9c179e\"],[0.4444444444444444,\"#bd3786\"],[0.5555555555555556,\"#d8576b\"],[0.6666666666666666,\"#ed7953\"],[0.7777777777777778,\"#fb9f3a\"],[0.8888888888888888,\"#fdca26\"],[1.0,\"#f0f921\"]]}],\"heatmap\":[{\"type\":\"heatmap\",\"colorbar\":{\"outlinewidth\":0,\"ticks\":\"\"},\"colorscale\":[[0.0,\"#0d0887\"],[0.1111111111111111,\"#46039f\"],[0.2222222222222222,\"#7201a8\"],[0.3333333333333333,\"#9c179e\"],[0.4444444444444444,\"#bd3786\"],[0.5555555555555556,\"#d8576b\"],[0.6666666666666666,\"#ed7953\"],[0.7777777777777778,\"#fb9f3a\"],[0.8888888888888888,\"#fdca26\"],[1.0,\"#f0f921\"]]}],\"heatmapgl\":[{\"type\":\"heatmapgl\",\"colorbar\":{\"outlinewidth\":0,\"ticks\":\"\"},\"colorscale\":[[0.0,\"#0d0887\"],[0.1111111111111111,\"#46039f\"],[0.2222222222222222,\"#7201a8\"],[0.3333333333333333,\"#9c179e\"],[0.4444444444444444,\"#bd3786\"],[0.5555555555555556,\"#d8576b\"],[0.6666666666666666,\"#ed7953\"],[0.7777777777777778,\"#fb9f3a\"],[0.8888888888888888,\"#fdca26\"],[1.0,\"#f0f921\"]]}],\"contourcarpet\":[{\"type\":\"contourcarpet\",\"colorbar\":{\"outlinewidth\":0,\"ticks\":\"\"}}],\"contour\":[{\"type\":\"contour\",\"colorbar\":{\"outlinewidth\":0,\"ticks\":\"\"},\"colorscale\":[[0.0,\"#0d0887\"],[0.1111111111111111,\"#46039f\"],[0.2222222222222222,\"#7201a8\"],[0.3333333333333333,\"#9c179e\"],[0.4444444444444444,\"#bd3786\"],[0.5555555555555556,\"#d8576b\"],[0.6666666666666666,\"#ed7953\"],[0.7777777777777778,\"#fb9f3a\"],[0.8888888888888888,\"#fdca26\"],[1.0,\"#f0f921\"]]}],\"surface\":[{\"type\":\"surface\",\"colorbar\":{\"outlinewidth\":0,\"ticks\":\"\"},\"colorscale\":[[0.0,\"#0d0887\"],[0.1111111111111111,\"#46039f\"],[0.2222222222222222,\"#7201a8\"],[0.3333333333333333,\"#9c179e\"],[0.4444444444444444,\"#bd3786\"],[0.5555555555555556,\"#d8576b\"],[0.6666666666666666,\"#ed7953\"],[0.7777777777777778,\"#fb9f3a\"],[0.8888888888888888,\"#fdca26\"],[1.0,\"#f0f921\"]]}],\"mesh3d\":[{\"type\":\"mesh3d\",\"colorbar\":{\"outlinewidth\":0,\"ticks\":\"\"}}],\"scatter\":[{\"fillpattern\":{\"fillmode\":\"overlay\",\"size\":10,\"solidity\":0.2},\"type\":\"scatter\"}],\"parcoords\":[{\"type\":\"parcoords\",\"line\":{\"colorbar\":{\"outlinewidth\":0,\"ticks\":\"\"}}}],\"scatterpolargl\":[{\"type\":\"scatterpolargl\",\"marker\":{\"colorbar\":{\"outlinewidth\":0,\"ticks\":\"\"}}}],\"bar\":[{\"error_x\":{\"color\":\"#2a3f5f\"},\"error_y\":{\"color\":\"#2a3f5f\"},\"marker\":{\"line\":{\"color\":\"#E5ECF6\",\"width\":0.5},\"pattern\":{\"fillmode\":\"overlay\",\"size\":10,\"solidity\":0.2}},\"type\":\"bar\"}],\"scattergeo\":[{\"type\":\"scattergeo\",\"marker\":{\"colorbar\":{\"outlinewidth\":0,\"ticks\":\"\"}}}],\"scatterpolar\":[{\"type\":\"scatterpolar\",\"marker\":{\"colorbar\":{\"outlinewidth\":0,\"ticks\":\"\"}}}],\"histogram\":[{\"marker\":{\"pattern\":{\"fillmode\":\"overlay\",\"size\":10,\"solidity\":0.2}},\"type\":\"histogram\"}],\"scattergl\":[{\"type\":\"scattergl\",\"marker\":{\"colorbar\":{\"outlinewidth\":0,\"ticks\":\"\"}}}],\"scatter3d\":[{\"type\":\"scatter3d\",\"line\":{\"colorbar\":{\"outlinewidth\":0,\"ticks\":\"\"}},\"marker\":{\"colorbar\":{\"outlinewidth\":0,\"ticks\":\"\"}}}],\"scattermapbox\":[{\"type\":\"scattermapbox\",\"marker\":{\"colorbar\":{\"outlinewidth\":0,\"ticks\":\"\"}}}],\"scatterternary\":[{\"type\":\"scatterternary\",\"marker\":{\"colorbar\":{\"outlinewidth\":0,\"ticks\":\"\"}}}],\"scattercarpet\":[{\"type\":\"scattercarpet\",\"marker\":{\"colorbar\":{\"outlinewidth\":0,\"ticks\":\"\"}}}],\"carpet\":[{\"aaxis\":{\"endlinecolor\":\"#2a3f5f\",\"gridcolor\":\"white\",\"linecolor\":\"white\",\"minorgridcolor\":\"white\",\"startlinecolor\":\"#2a3f5f\"},\"baxis\":{\"endlinecolor\":\"#2a3f5f\",\"gridcolor\":\"white\",\"linecolor\":\"white\",\"minorgridcolor\":\"white\",\"startlinecolor\":\"#2a3f5f\"},\"type\":\"carpet\"}],\"table\":[{\"cells\":{\"fill\":{\"color\":\"#EBF0F8\"},\"line\":{\"color\":\"white\"}},\"header\":{\"fill\":{\"color\":\"#C8D4E3\"},\"line\":{\"color\":\"white\"}},\"type\":\"table\"}],\"barpolar\":[{\"marker\":{\"line\":{\"color\":\"#E5ECF6\",\"width\":0.5},\"pattern\":{\"fillmode\":\"overlay\",\"size\":10,\"solidity\":0.2}},\"type\":\"barpolar\"}],\"pie\":[{\"automargin\":true,\"type\":\"pie\"}]},\"layout\":{\"autotypenumbers\":\"strict\",\"colorway\":[\"#636efa\",\"#EF553B\",\"#00cc96\",\"#ab63fa\",\"#FFA15A\",\"#19d3f3\",\"#FF6692\",\"#B6E880\",\"#FF97FF\",\"#FECB52\"],\"font\":{\"color\":\"#2a3f5f\"},\"hovermode\":\"closest\",\"hoverlabel\":{\"align\":\"left\"},\"paper_bgcolor\":\"white\",\"plot_bgcolor\":\"#E5ECF6\",\"polar\":{\"bgcolor\":\"#E5ECF6\",\"angularaxis\":{\"gridcolor\":\"white\",\"linecolor\":\"white\",\"ticks\":\"\"},\"radialaxis\":{\"gridcolor\":\"white\",\"linecolor\":\"white\",\"ticks\":\"\"}},\"ternary\":{\"bgcolor\":\"#E5ECF6\",\"aaxis\":{\"gridcolor\":\"white\",\"linecolor\":\"white\",\"ticks\":\"\"},\"baxis\":{\"gridcolor\":\"white\",\"linecolor\":\"white\",\"ticks\":\"\"},\"caxis\":{\"gridcolor\":\"white\",\"linecolor\":\"white\",\"ticks\":\"\"}},\"coloraxis\":{\"colorbar\":{\"outlinewidth\":0,\"ticks\":\"\"}},\"colorscale\":{\"sequential\":[[0.0,\"#0d0887\"],[0.1111111111111111,\"#46039f\"],[0.2222222222222222,\"#7201a8\"],[0.3333333333333333,\"#9c179e\"],[0.4444444444444444,\"#bd3786\"],[0.5555555555555556,\"#d8576b\"],[0.6666666666666666,\"#ed7953\"],[0.7777777777777778,\"#fb9f3a\"],[0.8888888888888888,\"#fdca26\"],[1.0,\"#f0f921\"]],\"sequentialminus\":[[0.0,\"#0d0887\"],[0.1111111111111111,\"#46039f\"],[0.2222222222222222,\"#7201a8\"],[0.3333333333333333,\"#9c179e\"],[0.4444444444444444,\"#bd3786\"],[0.5555555555555556,\"#d8576b\"],[0.6666666666666666,\"#ed7953\"],[0.7777777777777778,\"#fb9f3a\"],[0.8888888888888888,\"#fdca26\"],[1.0,\"#f0f921\"]],\"diverging\":[[0,\"#8e0152\"],[0.1,\"#c51b7d\"],[0.2,\"#de77ae\"],[0.3,\"#f1b6da\"],[0.4,\"#fde0ef\"],[0.5,\"#f7f7f7\"],[0.6,\"#e6f5d0\"],[0.7,\"#b8e186\"],[0.8,\"#7fbc41\"],[0.9,\"#4d9221\"],[1,\"#276419\"]]},\"xaxis\":{\"gridcolor\":\"white\",\"linecolor\":\"white\",\"ticks\":\"\",\"title\":{\"standoff\":15},\"zerolinecolor\":\"white\",\"automargin\":true,\"zerolinewidth\":2},\"yaxis\":{\"gridcolor\":\"white\",\"linecolor\":\"white\",\"ticks\":\"\",\"title\":{\"standoff\":15},\"zerolinecolor\":\"white\",\"automargin\":true,\"zerolinewidth\":2},\"scene\":{\"xaxis\":{\"backgroundcolor\":\"#E5ECF6\",\"gridcolor\":\"white\",\"linecolor\":\"white\",\"showbackground\":true,\"ticks\":\"\",\"zerolinecolor\":\"white\",\"gridwidth\":2},\"yaxis\":{\"backgroundcolor\":\"#E5ECF6\",\"gridcolor\":\"white\",\"linecolor\":\"white\",\"showbackground\":true,\"ticks\":\"\",\"zerolinecolor\":\"white\",\"gridwidth\":2},\"zaxis\":{\"backgroundcolor\":\"#E5ECF6\",\"gridcolor\":\"white\",\"linecolor\":\"white\",\"showbackground\":true,\"ticks\":\"\",\"zerolinecolor\":\"white\",\"gridwidth\":2}},\"shapedefaults\":{\"line\":{\"color\":\"#2a3f5f\"}},\"annotationdefaults\":{\"arrowcolor\":\"#2a3f5f\",\"arrowhead\":0,\"arrowwidth\":1},\"geo\":{\"bgcolor\":\"white\",\"landcolor\":\"#E5ECF6\",\"subunitcolor\":\"white\",\"showland\":true,\"showlakes\":true,\"lakecolor\":\"white\"},\"title\":{\"x\":0.05},\"mapbox\":{\"style\":\"light\"}}},\"xaxis\":{\"anchor\":\"y\",\"domain\":[0.0,1.0],\"title\":{\"text\":\"Pinch\"}},\"yaxis\":{\"anchor\":\"x\",\"domain\":[0.0,1.0],\"title\":{\"text\":\"count\"}},\"legend\":{\"tracegroupgap\":0},\"title\":{\"text\":\"Distribution of Pinch Strength\\u003cbr\\u003e\\u003csup\\u003eby Jerry Yu\\u003c\\u002fsub\\u003e\",\"x\":0.5,\"xanchor\":\"center\",\"yanchor\":\"top\"},\"barmode\":\"relative\"},                        {\"responsive\": true}                    ).then(function(){\n",
       "                            \n",
       "var gd = document.getElementById('52cadd66-26f9-42db-bdd3-d5024de91872');\n",
       "var x = new MutationObserver(function (mutations, observer) {{\n",
       "        var display = window.getComputedStyle(gd).display;\n",
       "        if (!display || display === 'none') {{\n",
       "            console.log([gd, 'removed!']);\n",
       "            Plotly.purge(gd);\n",
       "            observer.disconnect();\n",
       "        }}\n",
       "}});\n",
       "\n",
       "// Listen for the removal of the full notebook cells\n",
       "var notebookContainer = gd.closest('#notebook-container');\n",
       "if (notebookContainer) {{\n",
       "    x.observe(notebookContainer, {childList: true});\n",
       "}}\n",
       "\n",
       "// Listen for the clearing of the current output cell\n",
       "var outputEl = gd.closest('.output');\n",
       "if (outputEl) {{\n",
       "    x.observe(outputEl, {childList: true});\n",
       "}}\n",
       "\n",
       "                        })                };                });            </script>        </div>"
      ]
     },
     "metadata": {},
     "output_type": "display_data"
    }
   ],
   "source": [
    "# Graph Pinch\n",
    "pinchist = px.histogram(Chalk,x=\"Pinch\",\n",
    "                        title = \"Distribution of Pinch Strength\",\n",
    "                        nbins = 20)\n",
    "pinchist.update_layout(\n",
    "    title = {\n",
    "        \"text\":\"Distribution of Pinch Strength<br><sup>by Jerry Yu</sub>\",\n",
    "        \"x\":0.5,\n",
    "        \"xanchor\":\"center\",\n",
    "        \"yanchor\":\"top\"\n",
    "    }\n",
    ")\n",
    "pinchist.show()\n",
    "# weird shape, good coverage, no noticable outliers"
   ]
  },
  {
   "cell_type": "markdown",
   "metadata": {},
   "source": [
    "Notes:\n",
    "- at lower weights, obviously had more control so more centered around 1 lb, 2lb etc. However the distirbution is pretty uniform"
   ]
  },
  {
   "cell_type": "code",
   "execution_count": 6,
   "metadata": {},
   "outputs": [
    {
     "data": {
      "text/html": [
       "<div>                            <div id=\"8e6aac87-7a2a-4d9b-9095-1224fe39680f\" class=\"plotly-graph-div\" style=\"height:525px; width:100%;\"></div>            <script type=\"text/javascript\">                require([\"plotly\"], function(Plotly) {                    window.PLOTLYENV=window.PLOTLYENV || {};                                    if (document.getElementById(\"8e6aac87-7a2a-4d9b-9095-1224fe39680f\")) {                    Plotly.newPlot(                        \"8e6aac87-7a2a-4d9b-9095-1224fe39680f\",                        [{\"alignmentgroup\":\"True\",\"bingroup\":\"x\",\"hovertemplate\":\"Pull=%{x}\\u003cbr\\u003ecount=%{y}\\u003cextra\\u003e\\u003c\\u002fextra\\u003e\",\"legendgroup\":\"\",\"marker\":{\"color\":\"#636efa\",\"pattern\":{\"shape\":\"\"}},\"name\":\"\",\"offsetgroup\":\"\",\"orientation\":\"v\",\"showlegend\":false,\"x\":[34.6,31.9,31.9,41.1,44.5,45.7,7.2,9.5,8.5,30.6,26.1,27.5,44.6,37.5,40.1,45.1,49.1,44.2,23.5,22.6,25.4,63.9,61.7,76.3,40.5,38.7,42.7,41.5,42.5,44.5,8.4,8.3,9.5,35.5,26.4,27.1,50.6,43.6,41.7,51.7,39.1,47.0,56.5,52.6,49.6,5.7,7.4,6.5,29.4,33.8,23.6,42.5,43.7,46.5,46.2,56.5,47.5,12.7,9.1,11.4,74.0,83.3,75.1,77.5,68.5,67.5,55.4,46.3,48.5,8.8,12.5,10.7,24.2,25.1,19.6,14.8,15.7,17.0,38.1,37.9,38.4,36.5,36.1,35.5,51.6,46.4,47.1,39.6,39.7,37.1,35.1,33.7,31.7,51.1,53.3,46.5,3.6,5.3,5.2,23.7,24.5,25.5,19.4,21.1,18.7,45.3,46.6,35.4,15.4,14.6,16.7,71.1,81.5,89.2,25.1,22.6,22.4,61.6,70.5,67.1,6.1,5.3,9.1,49.2,47.6,44.6,21.5,25.1,26.6,17.0,12.5,18.0,7.5,5.1,8.5,13.9,15.0,12.2,54.1,61.1,64.3,45.7,29.0,34.0,15.4,14.7,15.1,36.4,42.8,46.3,8.9,11.0,7.2,36.2,45.7,47.6,71.5,75.2,64.3,69.0,65.4,54.4,30.7,32.1,31.4,52.7,55.7,47.6,51.1,55.5,50.7,70.7,75.4,66.3,13.6,13.2,13.6,66.7,74.1,69.5,7.1,7.7,4.2,34.2,37.6,29.3,35.4,37.4,35.7,52.7,43.2,46.6,61.8,47.3,46.6,6.2,5.4,4.9,14.2,14.2,15.1,51.5,55.3,56.7,34.1,36.3,30.1,59.3,54.1,64.7,49.3,30.5,35.5,26.6,24.5,19.2,52.2,45.2,46.0,27.4,26.6,44.6,4.4,3.2,7.1,16.7,14.2,16.4,42.5,46.7,44.0,44.4,47.2,45.1,17.2,16.5,17.2,20.9,25.5,26.1,5.4,8.3,6.2,28.0,31.0,27.2,15.5,16.3,15.7,25.7,26.1,25.4,24.4,24.8,31.8,2.5,5.7,5.7,10.6,11.5,10.5,23.5,27.2,31.1,25.7,21.5,22.2,55.9,50.5,51.7,39.1,37.9,35.6,34.1,37.3,36.5,25.9,27.3,24.1,48.1,35.4,35.5,7.1,9.1,7.7,35.5,28.3,33.7,65.5,73.3,77.3,51.4,54.9,52.6,8.9,14.4,13.5,22.1,28.2,29.4,10.4,6.6,12.2,30.1,33.5,34.9,17.7,15.3,17.1,19.0,19.2,26.1,44.7,50.7,47.5,44.7,41.1,51.0,5.5,8.1,6.7,22.4,26.2,22.2,37.7,33.6,33.6,31.4,33.5,34.4,5.1,7.1,6.4,13.8,14.3,15.6,37.1,36.4,40.5,53.2,57.4,54.6,3.3,3.2,3.2,35.7,42.5,37.1,37.4,29.7,35.2,10.7,10.7,9.2,56.7,57.7,60.7,61.2,59.6,67.4,11.2,11.1,11.0,35.3,33.5,28.9,52.5,57.2,47.9,34.0,25.4,25.9,42.2,35.2,32.2,12.2,19.6,20.0,24.6,17.5,15.2,35.1,33.5,31.2,3.7,5.7,7.5,26.7,30.2,28.1,44.5,46.1,44.7,15.5,16.5,17.8,1.5,2.7,5.8,24.2,20.5,25.2,45.1,54.5,50.1,7.0,7.4,8.4,30.9,30.3,28.7,34.6,35.7,33.7,33.3,31.1,32.7,32.3,39.2,31.7,39.5,41.5,32.6,15.7,15.5,17.7,35.9,34.2,36.6,14.4,15.7,19.7,22.7,16.8,22.5,7.9,9.3,10.0,13.5,14.5,16.0,55.5,65.1,54.5,11.1,9.4,12.7,37.0,34.5,41.6,29.4,22.3,27.3,46.1,36.7,37.2,6.2,7.4,6.2,31.9,35.4,39.6,18.7,15.2,17.1,50.9,57.3,57.7,47.9,45.7,51.5,14.0,17.4,22.2,22.3,21.1,23.5,11.4,10.3,10.5,4.7,2.4,5.1,3.1,5.0,5.7,59.0,59.1,55.3,9.7,7.6,6.6,13.6,15.3,17.4,8.9,8.1,9.4,49.6,57.7,55.4,9.7,16.5,14.4,27.4,25.1,29.2,27.7,28.6,27.1,42.7,39.5,43.1,71.5,82.3,77.2,35.3,42.8,44.3,51.9,55.7,48.7,3.5,2.5,2.2,17.7,21.6,15.7,31.2,25.2,23.4,43.1,41.2,46.7,7.6,3.4,7.5,25.3,30.6,25.2,16.0,14.7,22.7,24.1,21.4,22.7,42.5,64.5,57.7,82.0,70.1,71.3,57.5,64.1,63.1,30.4,30.7,31.1,49.5,45.1,45.0,21.2,25.4,29.6,25.3,24.7,25.1,27.1,23.6,24.4,51.2,45.3,45.4,31.4,32.8,31.1],\"xaxis\":\"x\",\"yaxis\":\"y\",\"type\":\"histogram\"}],                        {\"template\":{\"data\":{\"histogram2dcontour\":[{\"type\":\"histogram2dcontour\",\"colorbar\":{\"outlinewidth\":0,\"ticks\":\"\"},\"colorscale\":[[0.0,\"#0d0887\"],[0.1111111111111111,\"#46039f\"],[0.2222222222222222,\"#7201a8\"],[0.3333333333333333,\"#9c179e\"],[0.4444444444444444,\"#bd3786\"],[0.5555555555555556,\"#d8576b\"],[0.6666666666666666,\"#ed7953\"],[0.7777777777777778,\"#fb9f3a\"],[0.8888888888888888,\"#fdca26\"],[1.0,\"#f0f921\"]]}],\"choropleth\":[{\"type\":\"choropleth\",\"colorbar\":{\"outlinewidth\":0,\"ticks\":\"\"}}],\"histogram2d\":[{\"type\":\"histogram2d\",\"colorbar\":{\"outlinewidth\":0,\"ticks\":\"\"},\"colorscale\":[[0.0,\"#0d0887\"],[0.1111111111111111,\"#46039f\"],[0.2222222222222222,\"#7201a8\"],[0.3333333333333333,\"#9c179e\"],[0.4444444444444444,\"#bd3786\"],[0.5555555555555556,\"#d8576b\"],[0.6666666666666666,\"#ed7953\"],[0.7777777777777778,\"#fb9f3a\"],[0.8888888888888888,\"#fdca26\"],[1.0,\"#f0f921\"]]}],\"heatmap\":[{\"type\":\"heatmap\",\"colorbar\":{\"outlinewidth\":0,\"ticks\":\"\"},\"colorscale\":[[0.0,\"#0d0887\"],[0.1111111111111111,\"#46039f\"],[0.2222222222222222,\"#7201a8\"],[0.3333333333333333,\"#9c179e\"],[0.4444444444444444,\"#bd3786\"],[0.5555555555555556,\"#d8576b\"],[0.6666666666666666,\"#ed7953\"],[0.7777777777777778,\"#fb9f3a\"],[0.8888888888888888,\"#fdca26\"],[1.0,\"#f0f921\"]]}],\"heatmapgl\":[{\"type\":\"heatmapgl\",\"colorbar\":{\"outlinewidth\":0,\"ticks\":\"\"},\"colorscale\":[[0.0,\"#0d0887\"],[0.1111111111111111,\"#46039f\"],[0.2222222222222222,\"#7201a8\"],[0.3333333333333333,\"#9c179e\"],[0.4444444444444444,\"#bd3786\"],[0.5555555555555556,\"#d8576b\"],[0.6666666666666666,\"#ed7953\"],[0.7777777777777778,\"#fb9f3a\"],[0.8888888888888888,\"#fdca26\"],[1.0,\"#f0f921\"]]}],\"contourcarpet\":[{\"type\":\"contourcarpet\",\"colorbar\":{\"outlinewidth\":0,\"ticks\":\"\"}}],\"contour\":[{\"type\":\"contour\",\"colorbar\":{\"outlinewidth\":0,\"ticks\":\"\"},\"colorscale\":[[0.0,\"#0d0887\"],[0.1111111111111111,\"#46039f\"],[0.2222222222222222,\"#7201a8\"],[0.3333333333333333,\"#9c179e\"],[0.4444444444444444,\"#bd3786\"],[0.5555555555555556,\"#d8576b\"],[0.6666666666666666,\"#ed7953\"],[0.7777777777777778,\"#fb9f3a\"],[0.8888888888888888,\"#fdca26\"],[1.0,\"#f0f921\"]]}],\"surface\":[{\"type\":\"surface\",\"colorbar\":{\"outlinewidth\":0,\"ticks\":\"\"},\"colorscale\":[[0.0,\"#0d0887\"],[0.1111111111111111,\"#46039f\"],[0.2222222222222222,\"#7201a8\"],[0.3333333333333333,\"#9c179e\"],[0.4444444444444444,\"#bd3786\"],[0.5555555555555556,\"#d8576b\"],[0.6666666666666666,\"#ed7953\"],[0.7777777777777778,\"#fb9f3a\"],[0.8888888888888888,\"#fdca26\"],[1.0,\"#f0f921\"]]}],\"mesh3d\":[{\"type\":\"mesh3d\",\"colorbar\":{\"outlinewidth\":0,\"ticks\":\"\"}}],\"scatter\":[{\"fillpattern\":{\"fillmode\":\"overlay\",\"size\":10,\"solidity\":0.2},\"type\":\"scatter\"}],\"parcoords\":[{\"type\":\"parcoords\",\"line\":{\"colorbar\":{\"outlinewidth\":0,\"ticks\":\"\"}}}],\"scatterpolargl\":[{\"type\":\"scatterpolargl\",\"marker\":{\"colorbar\":{\"outlinewidth\":0,\"ticks\":\"\"}}}],\"bar\":[{\"error_x\":{\"color\":\"#2a3f5f\"},\"error_y\":{\"color\":\"#2a3f5f\"},\"marker\":{\"line\":{\"color\":\"#E5ECF6\",\"width\":0.5},\"pattern\":{\"fillmode\":\"overlay\",\"size\":10,\"solidity\":0.2}},\"type\":\"bar\"}],\"scattergeo\":[{\"type\":\"scattergeo\",\"marker\":{\"colorbar\":{\"outlinewidth\":0,\"ticks\":\"\"}}}],\"scatterpolar\":[{\"type\":\"scatterpolar\",\"marker\":{\"colorbar\":{\"outlinewidth\":0,\"ticks\":\"\"}}}],\"histogram\":[{\"marker\":{\"pattern\":{\"fillmode\":\"overlay\",\"size\":10,\"solidity\":0.2}},\"type\":\"histogram\"}],\"scattergl\":[{\"type\":\"scattergl\",\"marker\":{\"colorbar\":{\"outlinewidth\":0,\"ticks\":\"\"}}}],\"scatter3d\":[{\"type\":\"scatter3d\",\"line\":{\"colorbar\":{\"outlinewidth\":0,\"ticks\":\"\"}},\"marker\":{\"colorbar\":{\"outlinewidth\":0,\"ticks\":\"\"}}}],\"scattermapbox\":[{\"type\":\"scattermapbox\",\"marker\":{\"colorbar\":{\"outlinewidth\":0,\"ticks\":\"\"}}}],\"scatterternary\":[{\"type\":\"scatterternary\",\"marker\":{\"colorbar\":{\"outlinewidth\":0,\"ticks\":\"\"}}}],\"scattercarpet\":[{\"type\":\"scattercarpet\",\"marker\":{\"colorbar\":{\"outlinewidth\":0,\"ticks\":\"\"}}}],\"carpet\":[{\"aaxis\":{\"endlinecolor\":\"#2a3f5f\",\"gridcolor\":\"white\",\"linecolor\":\"white\",\"minorgridcolor\":\"white\",\"startlinecolor\":\"#2a3f5f\"},\"baxis\":{\"endlinecolor\":\"#2a3f5f\",\"gridcolor\":\"white\",\"linecolor\":\"white\",\"minorgridcolor\":\"white\",\"startlinecolor\":\"#2a3f5f\"},\"type\":\"carpet\"}],\"table\":[{\"cells\":{\"fill\":{\"color\":\"#EBF0F8\"},\"line\":{\"color\":\"white\"}},\"header\":{\"fill\":{\"color\":\"#C8D4E3\"},\"line\":{\"color\":\"white\"}},\"type\":\"table\"}],\"barpolar\":[{\"marker\":{\"line\":{\"color\":\"#E5ECF6\",\"width\":0.5},\"pattern\":{\"fillmode\":\"overlay\",\"size\":10,\"solidity\":0.2}},\"type\":\"barpolar\"}],\"pie\":[{\"automargin\":true,\"type\":\"pie\"}]},\"layout\":{\"autotypenumbers\":\"strict\",\"colorway\":[\"#636efa\",\"#EF553B\",\"#00cc96\",\"#ab63fa\",\"#FFA15A\",\"#19d3f3\",\"#FF6692\",\"#B6E880\",\"#FF97FF\",\"#FECB52\"],\"font\":{\"color\":\"#2a3f5f\"},\"hovermode\":\"closest\",\"hoverlabel\":{\"align\":\"left\"},\"paper_bgcolor\":\"white\",\"plot_bgcolor\":\"#E5ECF6\",\"polar\":{\"bgcolor\":\"#E5ECF6\",\"angularaxis\":{\"gridcolor\":\"white\",\"linecolor\":\"white\",\"ticks\":\"\"},\"radialaxis\":{\"gridcolor\":\"white\",\"linecolor\":\"white\",\"ticks\":\"\"}},\"ternary\":{\"bgcolor\":\"#E5ECF6\",\"aaxis\":{\"gridcolor\":\"white\",\"linecolor\":\"white\",\"ticks\":\"\"},\"baxis\":{\"gridcolor\":\"white\",\"linecolor\":\"white\",\"ticks\":\"\"},\"caxis\":{\"gridcolor\":\"white\",\"linecolor\":\"white\",\"ticks\":\"\"}},\"coloraxis\":{\"colorbar\":{\"outlinewidth\":0,\"ticks\":\"\"}},\"colorscale\":{\"sequential\":[[0.0,\"#0d0887\"],[0.1111111111111111,\"#46039f\"],[0.2222222222222222,\"#7201a8\"],[0.3333333333333333,\"#9c179e\"],[0.4444444444444444,\"#bd3786\"],[0.5555555555555556,\"#d8576b\"],[0.6666666666666666,\"#ed7953\"],[0.7777777777777778,\"#fb9f3a\"],[0.8888888888888888,\"#fdca26\"],[1.0,\"#f0f921\"]],\"sequentialminus\":[[0.0,\"#0d0887\"],[0.1111111111111111,\"#46039f\"],[0.2222222222222222,\"#7201a8\"],[0.3333333333333333,\"#9c179e\"],[0.4444444444444444,\"#bd3786\"],[0.5555555555555556,\"#d8576b\"],[0.6666666666666666,\"#ed7953\"],[0.7777777777777778,\"#fb9f3a\"],[0.8888888888888888,\"#fdca26\"],[1.0,\"#f0f921\"]],\"diverging\":[[0,\"#8e0152\"],[0.1,\"#c51b7d\"],[0.2,\"#de77ae\"],[0.3,\"#f1b6da\"],[0.4,\"#fde0ef\"],[0.5,\"#f7f7f7\"],[0.6,\"#e6f5d0\"],[0.7,\"#b8e186\"],[0.8,\"#7fbc41\"],[0.9,\"#4d9221\"],[1,\"#276419\"]]},\"xaxis\":{\"gridcolor\":\"white\",\"linecolor\":\"white\",\"ticks\":\"\",\"title\":{\"standoff\":15},\"zerolinecolor\":\"white\",\"automargin\":true,\"zerolinewidth\":2},\"yaxis\":{\"gridcolor\":\"white\",\"linecolor\":\"white\",\"ticks\":\"\",\"title\":{\"standoff\":15},\"zerolinecolor\":\"white\",\"automargin\":true,\"zerolinewidth\":2},\"scene\":{\"xaxis\":{\"backgroundcolor\":\"#E5ECF6\",\"gridcolor\":\"white\",\"linecolor\":\"white\",\"showbackground\":true,\"ticks\":\"\",\"zerolinecolor\":\"white\",\"gridwidth\":2},\"yaxis\":{\"backgroundcolor\":\"#E5ECF6\",\"gridcolor\":\"white\",\"linecolor\":\"white\",\"showbackground\":true,\"ticks\":\"\",\"zerolinecolor\":\"white\",\"gridwidth\":2},\"zaxis\":{\"backgroundcolor\":\"#E5ECF6\",\"gridcolor\":\"white\",\"linecolor\":\"white\",\"showbackground\":true,\"ticks\":\"\",\"zerolinecolor\":\"white\",\"gridwidth\":2}},\"shapedefaults\":{\"line\":{\"color\":\"#2a3f5f\"}},\"annotationdefaults\":{\"arrowcolor\":\"#2a3f5f\",\"arrowhead\":0,\"arrowwidth\":1},\"geo\":{\"bgcolor\":\"white\",\"landcolor\":\"#E5ECF6\",\"subunitcolor\":\"white\",\"showland\":true,\"showlakes\":true,\"lakecolor\":\"white\"},\"title\":{\"x\":0.05},\"mapbox\":{\"style\":\"light\"}}},\"xaxis\":{\"anchor\":\"y\",\"domain\":[0.0,1.0],\"title\":{\"text\":\"Pull\"}},\"yaxis\":{\"anchor\":\"x\",\"domain\":[0.0,1.0],\"title\":{\"text\":\"count\"}},\"legend\":{\"tracegroupgap\":0},\"title\":{\"text\":\"Distribution of Pull Strength\\u003cbr\\u003e\\u003csup\\u003eby Jerry Yu\\u003c\\u002fsub\\u003e\",\"x\":0.5,\"xanchor\":\"center\",\"yanchor\":\"top\"},\"barmode\":\"relative\"},                        {\"responsive\": true}                    ).then(function(){\n",
       "                            \n",
       "var gd = document.getElementById('8e6aac87-7a2a-4d9b-9095-1224fe39680f');\n",
       "var x = new MutationObserver(function (mutations, observer) {{\n",
       "        var display = window.getComputedStyle(gd).display;\n",
       "        if (!display || display === 'none') {{\n",
       "            console.log([gd, 'removed!']);\n",
       "            Plotly.purge(gd);\n",
       "            observer.disconnect();\n",
       "        }}\n",
       "}});\n",
       "\n",
       "// Listen for the removal of the full notebook cells\n",
       "var notebookContainer = gd.closest('#notebook-container');\n",
       "if (notebookContainer) {{\n",
       "    x.observe(notebookContainer, {childList: true});\n",
       "}}\n",
       "\n",
       "// Listen for the clearing of the current output cell\n",
       "var outputEl = gd.closest('.output');\n",
       "if (outputEl) {{\n",
       "    x.observe(outputEl, {childList: true});\n",
       "}}\n",
       "\n",
       "                        })                };                });            </script>        </div>"
      ]
     },
     "metadata": {},
     "output_type": "display_data"
    }
   ],
   "source": [
    "# Graph Pull\n",
    "pullhist = px.histogram(Chalk,x=\"Pull\",\n",
    "                        title = \"Distribution of Pull Strength\")\n",
    "pullhist.update_layout(\n",
    "    title = {\n",
    "        \"text\":\"Distribution of Pull Strength<br><sup>by Jerry Yu</sub>\",\n",
    "        \"x\":0.5,\n",
    "        \"xanchor\":\"center\",\n",
    "        \"yanchor\":\"top\"\n",
    "    }\n",
    ")\n",
    "pullhist.show()\n",
    "#right tail, might need normalization"
   ]
  },
  {
   "cell_type": "markdown",
   "metadata": {},
   "source": [
    "- Very significant right skew. This is a sign of nonnormality. "
   ]
  },
  {
   "cell_type": "code",
   "execution_count": 7,
   "metadata": {},
   "outputs": [
    {
     "data": {
      "text/html": [
       "<div>                            <div id=\"3da8c4ac-05f7-46c7-a50a-fc43e2a204cc\" class=\"plotly-graph-div\" style=\"height:525px; width:100%;\"></div>            <script type=\"text/javascript\">                require([\"plotly\"], function(Plotly) {                    window.PLOTLYENV=window.PLOTLYENV || {};                                    if (document.getElementById(\"3da8c4ac-05f7-46c7-a50a-fc43e2a204cc\")) {                    Plotly.newPlot(                        \"3da8c4ac-05f7-46c7-a50a-fc43e2a204cc\",                        [{\"hovertemplate\":\"Pinch=%{x}\\u003cbr\\u003ePull=%{y}\\u003cextra\\u003e\\u003c\\u002fextra\\u003e\",\"legendgroup\":\"\",\"marker\":{\"color\":\"#636efa\",\"symbol\":\"circle\"},\"mode\":\"markers\",\"name\":\"\",\"orientation\":\"v\",\"showlegend\":false,\"x\":[4.202,4.117,4.154,4.088,4.088,4.086,1.099,1.319,1.198,3.124,2.808,3.077,4.088,4.223,4.125,4.888,5.356,4.838,2.086,2.054,2.08,5.989,6.064,5.883,4.483,4.088,4.528,5.233,5.382,5.1,1.284,1.322,1.408,3.938,3.298,3.238,5.105,5.372,5.201,5.587,5.055,4.991,5.898,5.899,5.881,1.176,1.292,1.044,3.121,3.289,2.966,4.104,4.18,4.453,4.212,4.349,3.792,1.167,1.018,1.018,6.039,7.126,6.407,5.492,5.703,5.342,6.309,5.813,6.138,1.093,1.188,1.036,2.597,2.419,2.058,1.949,1.908,2.209,3.36,3.326,2.999,3.886,4.549,4.078,5.96,5.5,6.198,5.289,5.472,5.066,3.129,2.847,3.072,6.683,6.046,5.699,1.275,1.135,1.288,2.188,1.998,1.997,2.129,2.179,1.952,3.762,3.399,3.316,2.347,2.129,2.104,6.221,6.262,6.878,3.572,3.189,3.258,5.061,5.334,4.947,1.198,1.098,1.303,4.047,4.096,4.116,2.998,3.089,3.088,2.342,2.078,2.217,1.098,1.054,1.141,2.061,2.078,1.983,5.738,5.692,6.088,4.989,4.294,4.288,2.198,2.101,2.192,4.158,4.389,4.388,1.002,0.938,1.088,5.309,5.069,5.22,6.007,6.038,6.308,5.16,4.887,5.108,3.053,2.83,2.899,6.498,6.602,6.225,6.398,5.969,5.608,7.243,7.389,6.914,2.098,2.198,2.278,6.091,5.988,6.074,1.278,1.238,1.068,3.946,4.473,3.938,3.915,4.057,3.99,4.304,4.239,4.224,6.033,5.337,4.987,1.157,1.073,1.097,2.288,2.234,2.169,4.889,4.582,4.718,2.829,3.138,3.191,5.587,5.934,7.216,4.766,3.788,4.012,3.546,3.148,2.798,5.928,6.093,5.843,3.564,3.055,4.039,1.034,1.037,1.019,2.098,2.048,2.033,3.638,3.889,3.762,5.492,5.447,5.139,2.006,2.088,2.023,1.988,2.049,2.114,1.082,1.093,0.979,4.072,4.208,4.196,2.096,2.015,2.022,3.08,3.1,3.098,3.218,3.363,3.388,1.085,1.053,0.947,1.217,1.1,1.176,4.149,4.162,4.449,2.139,2.022,2.019,6.309,6.009,6.087,5.66,5.291,4.898,3.013,3.176,3.315,3.218,3.044,3.306,5.581,5.039,4.893,1.309,1.463,1.19,5.29,5.038,5.275,6.0,5.859,6.143,4.919,4.909,5.048,2.194,2.199,2.065,3.22,3.214,3.215,2.351,2.096,2.206,4.387,4.095,4.247,2.218,2.138,2.079,3.247,3.152,3.253,5.998,5.993,6.048,4.997,4.589,5.384,1.219,1.308,1.249,3.211,3.458,3.187,4.446,4.258,4.172,3.209,3.284,2.88,1.042,1.221,1.033,2.29,1.96,2.059,4.793,4.767,4.958,6.087,6.636,5.872,1.149,0.989,1.059,4.496,4.491,4.019,3.648,3.189,3.573,1.089,1.102,1.02,6.493,5.989,5.998,6.685,6.172,6.276,1.207,1.063,1.184,5.287,4.886,4.949,6.935,6.741,6.158,3.988,4.123,4.333,5.061,5.191,5.094,2.178,2.089,2.183,1.97,2.188,2.048,5.267,5.326,5.636,1.038,1.0,1.192,3.209,3.138,3.406,5.783,6.108,5.898,2.413,2.199,2.28,1.033,1.082,1.048,4.109,3.899,4.251,4.988,4.964,5.069,1.523,1.238,1.369,5.189,5.086,5.098,4.088,3.898,3.859,2.868,2.898,3.092,5.999,5.966,6.031,4.332,4.089,3.988,3.098,2.892,3.21,4.106,3.838,4.188,2.298,1.898,2.183,3.048,2.888,2.688,1.289,1.389,1.208,2.089,2.008,2.133,5.336,5.599,5.579,2.208,2.098,2.08,4.282,4.094,3.899,3.322,3.092,3.298,6.558,6.199,6.343,1.196,1.36,1.198,4.888,4.979,5.217,2.098,1.983,2.207,5.998,6.203,6.387,5.972,5.666,5.869,2.041,2.22,2.212,3.292,3.088,3.088,1.139,1.098,1.231,1.147,1.115,1.279,0.988,1.219,0.972,5.097,4.964,4.787,1.268,1.061,1.279,2.077,1.992,2.164,2.217,2.187,1.898,4.463,4.066,3.676,3.077,3.161,3.186,4.06,3.962,4.099,4.28,4.335,4.388,2.947,3.278,3.298,5.744,5.826,6.173,3.276,3.127,3.326,6.168,6.75,6.096,1.359,1.1,1.081,2.381,2.442,2.075,4.996,4.988,4.979,5.978,6.124,6.493,1.311,1.218,1.446,4.153,4.088,4.304,2.992,3.31,3.338,3.103,3.155,3.048,4.24,4.979,4.612,6.888,6.32,6.549,6.028,6.484,6.203,4.877,4.938,5.168,5.026,4.899,5.306,2.015,2.372,2.625,4.083,4.143,4.252,4.288,3.91,4.38,5.117,5.098,4.878,5.198,5.624,5.274],\"xaxis\":\"x\",\"y\":[34.6,31.9,31.9,41.1,44.5,45.7,7.2,9.5,8.5,30.6,26.1,27.5,44.6,37.5,40.1,45.1,49.1,44.2,23.5,22.6,25.4,63.9,61.7,76.3,40.5,38.7,42.7,41.5,42.5,44.5,8.4,8.3,9.5,35.5,26.4,27.1,50.6,43.6,41.7,51.7,39.1,47.0,56.5,52.6,49.6,5.7,7.4,6.5,29.4,33.8,23.6,42.5,43.7,46.5,46.2,56.5,47.5,12.7,9.1,11.4,74.0,83.3,75.1,77.5,68.5,67.5,55.4,46.3,48.5,8.8,12.5,10.7,24.2,25.1,19.6,14.8,15.7,17.0,38.1,37.9,38.4,36.5,36.1,35.5,51.6,46.4,47.1,39.6,39.7,37.1,35.1,33.7,31.7,51.1,53.3,46.5,3.6,5.3,5.2,23.7,24.5,25.5,19.4,21.1,18.7,45.3,46.6,35.4,15.4,14.6,16.7,71.1,81.5,89.2,25.1,22.6,22.4,61.6,70.5,67.1,6.1,5.3,9.1,49.2,47.6,44.6,21.5,25.1,26.6,17.0,12.5,18.0,7.5,5.1,8.5,13.9,15.0,12.2,54.1,61.1,64.3,45.7,29.0,34.0,15.4,14.7,15.1,36.4,42.8,46.3,8.9,11.0,7.2,36.2,45.7,47.6,71.5,75.2,64.3,69.0,65.4,54.4,30.7,32.1,31.4,52.7,55.7,47.6,51.1,55.5,50.7,70.7,75.4,66.3,13.6,13.2,13.6,66.7,74.1,69.5,7.1,7.7,4.2,34.2,37.6,29.3,35.4,37.4,35.7,52.7,43.2,46.6,61.8,47.3,46.6,6.2,5.4,4.9,14.2,14.2,15.1,51.5,55.3,56.7,34.1,36.3,30.1,59.3,54.1,64.7,49.3,30.5,35.5,26.6,24.5,19.2,52.2,45.2,46.0,27.4,26.6,44.6,4.4,3.2,7.1,16.7,14.2,16.4,42.5,46.7,44.0,44.4,47.2,45.1,17.2,16.5,17.2,20.9,25.5,26.1,5.4,8.3,6.2,28.0,31.0,27.2,15.5,16.3,15.7,25.7,26.1,25.4,24.4,24.8,31.8,2.5,5.7,5.7,10.6,11.5,10.5,23.5,27.2,31.1,25.7,21.5,22.2,55.9,50.5,51.7,39.1,37.9,35.6,34.1,37.3,36.5,25.9,27.3,24.1,48.1,35.4,35.5,7.1,9.1,7.7,35.5,28.3,33.7,65.5,73.3,77.3,51.4,54.9,52.6,8.9,14.4,13.5,22.1,28.2,29.4,10.4,6.6,12.2,30.1,33.5,34.9,17.7,15.3,17.1,19.0,19.2,26.1,44.7,50.7,47.5,44.7,41.1,51.0,5.5,8.1,6.7,22.4,26.2,22.2,37.7,33.6,33.6,31.4,33.5,34.4,5.1,7.1,6.4,13.8,14.3,15.6,37.1,36.4,40.5,53.2,57.4,54.6,3.3,3.2,3.2,35.7,42.5,37.1,37.4,29.7,35.2,10.7,10.7,9.2,56.7,57.7,60.7,61.2,59.6,67.4,11.2,11.1,11.0,35.3,33.5,28.9,52.5,57.2,47.9,34.0,25.4,25.9,42.2,35.2,32.2,12.2,19.6,20.0,24.6,17.5,15.2,35.1,33.5,31.2,3.7,5.7,7.5,26.7,30.2,28.1,44.5,46.1,44.7,15.5,16.5,17.8,1.5,2.7,5.8,24.2,20.5,25.2,45.1,54.5,50.1,7.0,7.4,8.4,30.9,30.3,28.7,34.6,35.7,33.7,33.3,31.1,32.7,32.3,39.2,31.7,39.5,41.5,32.6,15.7,15.5,17.7,35.9,34.2,36.6,14.4,15.7,19.7,22.7,16.8,22.5,7.9,9.3,10.0,13.5,14.5,16.0,55.5,65.1,54.5,11.1,9.4,12.7,37.0,34.5,41.6,29.4,22.3,27.3,46.1,36.7,37.2,6.2,7.4,6.2,31.9,35.4,39.6,18.7,15.2,17.1,50.9,57.3,57.7,47.9,45.7,51.5,14.0,17.4,22.2,22.3,21.1,23.5,11.4,10.3,10.5,4.7,2.4,5.1,3.1,5.0,5.7,59.0,59.1,55.3,9.7,7.6,6.6,13.6,15.3,17.4,8.9,8.1,9.4,49.6,57.7,55.4,9.7,16.5,14.4,27.4,25.1,29.2,27.7,28.6,27.1,42.7,39.5,43.1,71.5,82.3,77.2,35.3,42.8,44.3,51.9,55.7,48.7,3.5,2.5,2.2,17.7,21.6,15.7,31.2,25.2,23.4,43.1,41.2,46.7,7.6,3.4,7.5,25.3,30.6,25.2,16.0,14.7,22.7,24.1,21.4,22.7,42.5,64.5,57.7,82.0,70.1,71.3,57.5,64.1,63.1,30.4,30.7,31.1,49.5,45.1,45.0,21.2,25.4,29.6,25.3,24.7,25.1,27.1,23.6,24.4,51.2,45.3,45.4,31.4,32.8,31.1],\"yaxis\":\"y\",\"type\":\"scatter\"}],                        {\"template\":{\"data\":{\"histogram2dcontour\":[{\"type\":\"histogram2dcontour\",\"colorbar\":{\"outlinewidth\":0,\"ticks\":\"\"},\"colorscale\":[[0.0,\"#0d0887\"],[0.1111111111111111,\"#46039f\"],[0.2222222222222222,\"#7201a8\"],[0.3333333333333333,\"#9c179e\"],[0.4444444444444444,\"#bd3786\"],[0.5555555555555556,\"#d8576b\"],[0.6666666666666666,\"#ed7953\"],[0.7777777777777778,\"#fb9f3a\"],[0.8888888888888888,\"#fdca26\"],[1.0,\"#f0f921\"]]}],\"choropleth\":[{\"type\":\"choropleth\",\"colorbar\":{\"outlinewidth\":0,\"ticks\":\"\"}}],\"histogram2d\":[{\"type\":\"histogram2d\",\"colorbar\":{\"outlinewidth\":0,\"ticks\":\"\"},\"colorscale\":[[0.0,\"#0d0887\"],[0.1111111111111111,\"#46039f\"],[0.2222222222222222,\"#7201a8\"],[0.3333333333333333,\"#9c179e\"],[0.4444444444444444,\"#bd3786\"],[0.5555555555555556,\"#d8576b\"],[0.6666666666666666,\"#ed7953\"],[0.7777777777777778,\"#fb9f3a\"],[0.8888888888888888,\"#fdca26\"],[1.0,\"#f0f921\"]]}],\"heatmap\":[{\"type\":\"heatmap\",\"colorbar\":{\"outlinewidth\":0,\"ticks\":\"\"},\"colorscale\":[[0.0,\"#0d0887\"],[0.1111111111111111,\"#46039f\"],[0.2222222222222222,\"#7201a8\"],[0.3333333333333333,\"#9c179e\"],[0.4444444444444444,\"#bd3786\"],[0.5555555555555556,\"#d8576b\"],[0.6666666666666666,\"#ed7953\"],[0.7777777777777778,\"#fb9f3a\"],[0.8888888888888888,\"#fdca26\"],[1.0,\"#f0f921\"]]}],\"heatmapgl\":[{\"type\":\"heatmapgl\",\"colorbar\":{\"outlinewidth\":0,\"ticks\":\"\"},\"colorscale\":[[0.0,\"#0d0887\"],[0.1111111111111111,\"#46039f\"],[0.2222222222222222,\"#7201a8\"],[0.3333333333333333,\"#9c179e\"],[0.4444444444444444,\"#bd3786\"],[0.5555555555555556,\"#d8576b\"],[0.6666666666666666,\"#ed7953\"],[0.7777777777777778,\"#fb9f3a\"],[0.8888888888888888,\"#fdca26\"],[1.0,\"#f0f921\"]]}],\"contourcarpet\":[{\"type\":\"contourcarpet\",\"colorbar\":{\"outlinewidth\":0,\"ticks\":\"\"}}],\"contour\":[{\"type\":\"contour\",\"colorbar\":{\"outlinewidth\":0,\"ticks\":\"\"},\"colorscale\":[[0.0,\"#0d0887\"],[0.1111111111111111,\"#46039f\"],[0.2222222222222222,\"#7201a8\"],[0.3333333333333333,\"#9c179e\"],[0.4444444444444444,\"#bd3786\"],[0.5555555555555556,\"#d8576b\"],[0.6666666666666666,\"#ed7953\"],[0.7777777777777778,\"#fb9f3a\"],[0.8888888888888888,\"#fdca26\"],[1.0,\"#f0f921\"]]}],\"surface\":[{\"type\":\"surface\",\"colorbar\":{\"outlinewidth\":0,\"ticks\":\"\"},\"colorscale\":[[0.0,\"#0d0887\"],[0.1111111111111111,\"#46039f\"],[0.2222222222222222,\"#7201a8\"],[0.3333333333333333,\"#9c179e\"],[0.4444444444444444,\"#bd3786\"],[0.5555555555555556,\"#d8576b\"],[0.6666666666666666,\"#ed7953\"],[0.7777777777777778,\"#fb9f3a\"],[0.8888888888888888,\"#fdca26\"],[1.0,\"#f0f921\"]]}],\"mesh3d\":[{\"type\":\"mesh3d\",\"colorbar\":{\"outlinewidth\":0,\"ticks\":\"\"}}],\"scatter\":[{\"fillpattern\":{\"fillmode\":\"overlay\",\"size\":10,\"solidity\":0.2},\"type\":\"scatter\"}],\"parcoords\":[{\"type\":\"parcoords\",\"line\":{\"colorbar\":{\"outlinewidth\":0,\"ticks\":\"\"}}}],\"scatterpolargl\":[{\"type\":\"scatterpolargl\",\"marker\":{\"colorbar\":{\"outlinewidth\":0,\"ticks\":\"\"}}}],\"bar\":[{\"error_x\":{\"color\":\"#2a3f5f\"},\"error_y\":{\"color\":\"#2a3f5f\"},\"marker\":{\"line\":{\"color\":\"#E5ECF6\",\"width\":0.5},\"pattern\":{\"fillmode\":\"overlay\",\"size\":10,\"solidity\":0.2}},\"type\":\"bar\"}],\"scattergeo\":[{\"type\":\"scattergeo\",\"marker\":{\"colorbar\":{\"outlinewidth\":0,\"ticks\":\"\"}}}],\"scatterpolar\":[{\"type\":\"scatterpolar\",\"marker\":{\"colorbar\":{\"outlinewidth\":0,\"ticks\":\"\"}}}],\"histogram\":[{\"marker\":{\"pattern\":{\"fillmode\":\"overlay\",\"size\":10,\"solidity\":0.2}},\"type\":\"histogram\"}],\"scattergl\":[{\"type\":\"scattergl\",\"marker\":{\"colorbar\":{\"outlinewidth\":0,\"ticks\":\"\"}}}],\"scatter3d\":[{\"type\":\"scatter3d\",\"line\":{\"colorbar\":{\"outlinewidth\":0,\"ticks\":\"\"}},\"marker\":{\"colorbar\":{\"outlinewidth\":0,\"ticks\":\"\"}}}],\"scattermapbox\":[{\"type\":\"scattermapbox\",\"marker\":{\"colorbar\":{\"outlinewidth\":0,\"ticks\":\"\"}}}],\"scatterternary\":[{\"type\":\"scatterternary\",\"marker\":{\"colorbar\":{\"outlinewidth\":0,\"ticks\":\"\"}}}],\"scattercarpet\":[{\"type\":\"scattercarpet\",\"marker\":{\"colorbar\":{\"outlinewidth\":0,\"ticks\":\"\"}}}],\"carpet\":[{\"aaxis\":{\"endlinecolor\":\"#2a3f5f\",\"gridcolor\":\"white\",\"linecolor\":\"white\",\"minorgridcolor\":\"white\",\"startlinecolor\":\"#2a3f5f\"},\"baxis\":{\"endlinecolor\":\"#2a3f5f\",\"gridcolor\":\"white\",\"linecolor\":\"white\",\"minorgridcolor\":\"white\",\"startlinecolor\":\"#2a3f5f\"},\"type\":\"carpet\"}],\"table\":[{\"cells\":{\"fill\":{\"color\":\"#EBF0F8\"},\"line\":{\"color\":\"white\"}},\"header\":{\"fill\":{\"color\":\"#C8D4E3\"},\"line\":{\"color\":\"white\"}},\"type\":\"table\"}],\"barpolar\":[{\"marker\":{\"line\":{\"color\":\"#E5ECF6\",\"width\":0.5},\"pattern\":{\"fillmode\":\"overlay\",\"size\":10,\"solidity\":0.2}},\"type\":\"barpolar\"}],\"pie\":[{\"automargin\":true,\"type\":\"pie\"}]},\"layout\":{\"autotypenumbers\":\"strict\",\"colorway\":[\"#636efa\",\"#EF553B\",\"#00cc96\",\"#ab63fa\",\"#FFA15A\",\"#19d3f3\",\"#FF6692\",\"#B6E880\",\"#FF97FF\",\"#FECB52\"],\"font\":{\"color\":\"#2a3f5f\"},\"hovermode\":\"closest\",\"hoverlabel\":{\"align\":\"left\"},\"paper_bgcolor\":\"white\",\"plot_bgcolor\":\"#E5ECF6\",\"polar\":{\"bgcolor\":\"#E5ECF6\",\"angularaxis\":{\"gridcolor\":\"white\",\"linecolor\":\"white\",\"ticks\":\"\"},\"radialaxis\":{\"gridcolor\":\"white\",\"linecolor\":\"white\",\"ticks\":\"\"}},\"ternary\":{\"bgcolor\":\"#E5ECF6\",\"aaxis\":{\"gridcolor\":\"white\",\"linecolor\":\"white\",\"ticks\":\"\"},\"baxis\":{\"gridcolor\":\"white\",\"linecolor\":\"white\",\"ticks\":\"\"},\"caxis\":{\"gridcolor\":\"white\",\"linecolor\":\"white\",\"ticks\":\"\"}},\"coloraxis\":{\"colorbar\":{\"outlinewidth\":0,\"ticks\":\"\"}},\"colorscale\":{\"sequential\":[[0.0,\"#0d0887\"],[0.1111111111111111,\"#46039f\"],[0.2222222222222222,\"#7201a8\"],[0.3333333333333333,\"#9c179e\"],[0.4444444444444444,\"#bd3786\"],[0.5555555555555556,\"#d8576b\"],[0.6666666666666666,\"#ed7953\"],[0.7777777777777778,\"#fb9f3a\"],[0.8888888888888888,\"#fdca26\"],[1.0,\"#f0f921\"]],\"sequentialminus\":[[0.0,\"#0d0887\"],[0.1111111111111111,\"#46039f\"],[0.2222222222222222,\"#7201a8\"],[0.3333333333333333,\"#9c179e\"],[0.4444444444444444,\"#bd3786\"],[0.5555555555555556,\"#d8576b\"],[0.6666666666666666,\"#ed7953\"],[0.7777777777777778,\"#fb9f3a\"],[0.8888888888888888,\"#fdca26\"],[1.0,\"#f0f921\"]],\"diverging\":[[0,\"#8e0152\"],[0.1,\"#c51b7d\"],[0.2,\"#de77ae\"],[0.3,\"#f1b6da\"],[0.4,\"#fde0ef\"],[0.5,\"#f7f7f7\"],[0.6,\"#e6f5d0\"],[0.7,\"#b8e186\"],[0.8,\"#7fbc41\"],[0.9,\"#4d9221\"],[1,\"#276419\"]]},\"xaxis\":{\"gridcolor\":\"white\",\"linecolor\":\"white\",\"ticks\":\"\",\"title\":{\"standoff\":15},\"zerolinecolor\":\"white\",\"automargin\":true,\"zerolinewidth\":2},\"yaxis\":{\"gridcolor\":\"white\",\"linecolor\":\"white\",\"ticks\":\"\",\"title\":{\"standoff\":15},\"zerolinecolor\":\"white\",\"automargin\":true,\"zerolinewidth\":2},\"scene\":{\"xaxis\":{\"backgroundcolor\":\"#E5ECF6\",\"gridcolor\":\"white\",\"linecolor\":\"white\",\"showbackground\":true,\"ticks\":\"\",\"zerolinecolor\":\"white\",\"gridwidth\":2},\"yaxis\":{\"backgroundcolor\":\"#E5ECF6\",\"gridcolor\":\"white\",\"linecolor\":\"white\",\"showbackground\":true,\"ticks\":\"\",\"zerolinecolor\":\"white\",\"gridwidth\":2},\"zaxis\":{\"backgroundcolor\":\"#E5ECF6\",\"gridcolor\":\"white\",\"linecolor\":\"white\",\"showbackground\":true,\"ticks\":\"\",\"zerolinecolor\":\"white\",\"gridwidth\":2}},\"shapedefaults\":{\"line\":{\"color\":\"#2a3f5f\"}},\"annotationdefaults\":{\"arrowcolor\":\"#2a3f5f\",\"arrowhead\":0,\"arrowwidth\":1},\"geo\":{\"bgcolor\":\"white\",\"landcolor\":\"#E5ECF6\",\"subunitcolor\":\"white\",\"showland\":true,\"showlakes\":true,\"lakecolor\":\"white\"},\"title\":{\"x\":0.05},\"mapbox\":{\"style\":\"light\"}}},\"xaxis\":{\"anchor\":\"y\",\"domain\":[0.0,1.0],\"title\":{\"text\":\"Pinch\"}},\"yaxis\":{\"anchor\":\"x\",\"domain\":[0.0,1.0],\"title\":{\"text\":\"Pull\"}},\"legend\":{\"tracegroupgap\":0},\"title\":{\"text\":\"Kilograms Pulled by pinch Strength\\u003cbr\\u003e\\u003csup\\u003eby Jerry Yu\\u003c\\u002fsub\\u003e\",\"x\":0.5,\"xanchor\":\"center\",\"yanchor\":\"top\"}},                        {\"responsive\": true}                    ).then(function(){\n",
       "                            \n",
       "var gd = document.getElementById('3da8c4ac-05f7-46c7-a50a-fc43e2a204cc');\n",
       "var x = new MutationObserver(function (mutations, observer) {{\n",
       "        var display = window.getComputedStyle(gd).display;\n",
       "        if (!display || display === 'none') {{\n",
       "            console.log([gd, 'removed!']);\n",
       "            Plotly.purge(gd);\n",
       "            observer.disconnect();\n",
       "        }}\n",
       "}});\n",
       "\n",
       "// Listen for the removal of the full notebook cells\n",
       "var notebookContainer = gd.closest('#notebook-container');\n",
       "if (notebookContainer) {{\n",
       "    x.observe(notebookContainer, {childList: true});\n",
       "}}\n",
       "\n",
       "// Listen for the clearing of the current output cell\n",
       "var outputEl = gd.closest('.output');\n",
       "if (outputEl) {{\n",
       "    x.observe(outputEl, {childList: true});\n",
       "}}\n",
       "\n",
       "                        })                };                });            </script>        </div>"
      ]
     },
     "metadata": {},
     "output_type": "display_data"
    }
   ],
   "source": [
    "# Now Graph Relation Between Pinch and Pull\n",
    "pinchpull = px.scatter(Chalk, x = \"Pinch\", y = \"Pull\",title = \"Kilograms Pulled by pinch Strength\")\n",
    "pinchpull.update_layout(\n",
    "    title = {\n",
    "        \"text\":\"Kilograms Pulled by pinch Strength<br><sup>by Jerry Yu</sub>\",\n",
    "        \"x\":0.5,\n",
    "        \"xanchor\":\"center\",\n",
    "        \"yanchor\":\"top\"\n",
    "    }\n",
    ")\n",
    "pinchpull.show()\n",
    "\n",
    "#nice and Linear, but maybe not homoscedastic"
   ]
  },
  {
   "cell_type": "markdown",
   "metadata": {},
   "source": [
    "- This shows a mostly linear relationship by very homoscedastic data. "
   ]
  },
  {
   "cell_type": "markdown",
   "metadata": {},
   "source": [
    "Now we will split this relationship by some of the categorical variables to evaluate impact. "
   ]
  },
  {
   "cell_type": "code",
   "execution_count": 8,
   "metadata": {},
   "outputs": [
    {
     "data": {
      "text/html": [
       "<div>                            <div id=\"f538d48e-c864-46fd-b055-3d11e77b608e\" class=\"plotly-graph-div\" style=\"height:525px; width:100%;\"></div>            <script type=\"text/javascript\">                require([\"plotly\"], function(Plotly) {                    window.PLOTLYENV=window.PLOTLYENV || {};                                    if (document.getElementById(\"f538d48e-c864-46fd-b055-3d11e77b608e\")) {                    Plotly.newPlot(                        \"f538d48e-c864-46fd-b055-3d11e77b608e\",                        [{\"hovertemplate\":\"Chalk=None\\u003cbr\\u003ePinch=%{x}\\u003cbr\\u003ePull=%{y}\\u003cextra\\u003e\\u003c\\u002fextra\\u003e\",\"legendgroup\":\"None\",\"marker\":{\"color\":\"#636efa\",\"symbol\":\"circle\"},\"mode\":\"markers\",\"name\":\"None\",\"orientation\":\"v\",\"showlegend\":true,\"x\":[4.202,4.117,4.154,5.233,5.382,5.1,1.284,1.322,1.408,3.938,3.298,3.238,5.105,5.372,5.201,5.587,5.055,4.991,5.898,5.899,5.881,3.121,3.289,2.966,4.212,4.349,3.792,6.309,5.813,6.138,2.597,2.419,2.058,1.949,1.908,2.209,3.886,4.549,4.078,5.96,5.5,6.198,5.289,5.472,5.066,6.683,6.046,5.699,1.275,1.135,1.288,2.347,2.129,2.104,3.572,3.189,3.258,1.198,1.098,1.303,2.998,3.089,3.088,2.342,2.078,2.217,1.098,1.054,1.141,4.989,4.294,4.288,2.198,2.101,2.192,5.309,5.069,5.22,3.053,2.83,2.899,6.498,6.602,6.225,6.398,5.969,5.608,2.098,2.198,2.278,1.278,1.238,1.068,3.946,4.473,3.938,3.915,4.057,3.99,2.288,2.234,2.169,3.546,3.148,2.798,5.928,6.093,5.843,3.564,3.055,4.039,1.034,1.037,1.019,2.098,2.048,2.033,5.492,5.447,5.139,4.072,4.208,4.196,1.085,1.053,0.947,4.149,4.162,4.449,6.309,6.009,6.087,5.66,5.291,4.898,3.218,3.044,3.306,1.309,1.463,1.19,5.29,5.038,5.275,2.194,2.199,2.065,2.351,2.096,2.206,3.247,3.152,3.253,5.998,5.993,6.048,1.219,1.308,1.249,3.211,3.458,3.187,4.446,4.258,4.172,2.29,1.96,2.059,4.793,4.767,4.958,1.149,0.989,1.059,5.287,4.886,4.949,6.935,6.741,6.158,3.988,4.123,4.333,5.267,5.326,5.636,3.209,3.138,3.406,5.783,6.108,5.898,2.413,2.199,2.28,1.033,1.082,1.048,4.109,3.899,4.251,1.523,1.238,1.369,5.189,5.086,5.098,4.088,3.898,3.859,5.999,5.966,6.031,3.098,2.892,3.21,1.289,1.389,1.208,2.089,2.008,2.133,2.208,2.098,2.08,3.322,3.092,3.298,6.558,6.199,6.343,1.196,1.36,1.198,4.888,4.979,5.217,2.098,1.983,2.207,5.972,5.666,5.869,3.292,3.088,3.088,2.217,2.187,1.898,3.077,3.161,3.186,4.28,4.335,4.388,6.168,6.75,6.096,1.359,1.1,1.081,4.996,4.988,4.979,5.978,6.124,6.493,1.311,1.218,1.446,4.153,4.088,4.304,2.992,3.31,3.338,4.877,4.938,5.168,4.083,4.143,4.252,4.288,3.91,4.38,5.198,5.624,5.274],\"xaxis\":\"x\",\"y\":[34.6,31.9,31.9,41.5,42.5,44.5,8.4,8.3,9.5,35.5,26.4,27.1,50.6,43.6,41.7,51.7,39.1,47.0,56.5,52.6,49.6,29.4,33.8,23.6,46.2,56.5,47.5,55.4,46.3,48.5,24.2,25.1,19.6,14.8,15.7,17.0,36.5,36.1,35.5,51.6,46.4,47.1,39.6,39.7,37.1,51.1,53.3,46.5,3.6,5.3,5.2,15.4,14.6,16.7,25.1,22.6,22.4,6.1,5.3,9.1,21.5,25.1,26.6,17.0,12.5,18.0,7.5,5.1,8.5,45.7,29.0,34.0,15.4,14.7,15.1,36.2,45.7,47.6,30.7,32.1,31.4,52.7,55.7,47.6,51.1,55.5,50.7,13.6,13.2,13.6,7.1,7.7,4.2,34.2,37.6,29.3,35.4,37.4,35.7,14.2,14.2,15.1,26.6,24.5,19.2,52.2,45.2,46.0,27.4,26.6,44.6,4.4,3.2,7.1,16.7,14.2,16.4,44.4,47.2,45.1,28.0,31.0,27.2,2.5,5.7,5.7,23.5,27.2,31.1,55.9,50.5,51.7,39.1,37.9,35.6,25.9,27.3,24.1,7.1,9.1,7.7,35.5,28.3,33.7,8.9,14.4,13.5,10.4,6.6,12.2,19.0,19.2,26.1,44.7,50.7,47.5,5.5,8.1,6.7,22.4,26.2,22.2,37.7,33.6,33.6,13.8,14.3,15.6,37.1,36.4,40.5,3.3,3.2,3.2,35.3,33.5,28.9,52.5,57.2,47.9,34.0,25.4,25.9,35.1,33.5,31.2,26.7,30.2,28.1,44.5,46.1,44.7,15.5,16.5,17.8,1.5,2.7,5.8,24.2,20.5,25.2,7.0,7.4,8.4,30.9,30.3,28.7,34.6,35.7,33.7,32.3,39.2,31.7,15.7,15.5,17.7,7.9,9.3,10.0,13.5,14.5,16.0,11.1,9.4,12.7,29.4,22.3,27.3,46.1,36.7,37.2,6.2,7.4,6.2,31.9,35.4,39.6,18.7,15.2,17.1,47.9,45.7,51.5,22.3,21.1,23.5,8.9,8.1,9.4,9.7,16.5,14.4,27.7,28.6,27.1,51.9,55.7,48.7,3.5,2.5,2.2,31.2,25.2,23.4,43.1,41.2,46.7,7.6,3.4,7.5,25.3,30.6,25.2,16.0,14.7,22.7,30.4,30.7,31.1,25.3,24.7,25.1,27.1,23.6,24.4,31.4,32.8,31.1],\"yaxis\":\"y\",\"type\":\"scatter\"},{\"hovertemplate\":\"Chalk=FL\\u003cbr\\u003ePinch=%{x}\\u003cbr\\u003ePull=%{y}\\u003cextra\\u003e\\u003c\\u002fextra\\u003e\",\"legendgroup\":\"FL\",\"marker\":{\"color\":\"#EF553B\",\"symbol\":\"circle\"},\"mode\":\"markers\",\"name\":\"FL\",\"orientation\":\"v\",\"showlegend\":true,\"x\":[4.088,4.088,4.086,1.099,1.319,1.198,3.124,2.808,3.077,4.088,4.223,4.125,4.888,5.356,4.838,2.086,2.054,2.08,5.989,6.064,5.883,4.483,4.088,4.528,1.176,1.292,1.044,4.104,4.18,4.453,1.167,1.018,1.018,6.039,7.126,6.407,5.492,5.703,5.342,1.093,1.188,1.036,3.36,3.326,2.999,3.129,2.847,3.072,2.188,1.998,1.997,2.129,2.179,1.952,3.762,3.399,3.316,6.221,6.262,6.878,5.061,5.334,4.947,4.047,4.096,4.116,2.061,2.078,1.983,5.738,5.692,6.088],\"xaxis\":\"x\",\"y\":[41.1,44.5,45.7,7.2,9.5,8.5,30.6,26.1,27.5,44.6,37.5,40.1,45.1,49.1,44.2,23.5,22.6,25.4,63.9,61.7,76.3,40.5,38.7,42.7,5.7,7.4,6.5,42.5,43.7,46.5,12.7,9.1,11.4,74.0,83.3,75.1,77.5,68.5,67.5,8.8,12.5,10.7,38.1,37.9,38.4,35.1,33.7,31.7,23.7,24.5,25.5,19.4,21.1,18.7,45.3,46.6,35.4,71.1,81.5,89.2,61.6,70.5,67.1,49.2,47.6,44.6,13.9,15.0,12.2,54.1,61.1,64.3],\"yaxis\":\"y\",\"type\":\"scatter\"},{\"hovertemplate\":\"Chalk=Metolius\\u003cbr\\u003ePinch=%{x}\\u003cbr\\u003ePull=%{y}\\u003cextra\\u003e\\u003c\\u002fextra\\u003e\",\"legendgroup\":\"Metolius\",\"marker\":{\"color\":\"#00cc96\",\"symbol\":\"circle\"},\"mode\":\"markers\",\"name\":\"Metolius\",\"orientation\":\"v\",\"showlegend\":true,\"x\":[4.158,4.389,4.388,1.002,0.938,1.088,6.007,6.038,6.308,5.16,4.887,5.108,7.243,7.389,6.914,6.091,5.988,6.074,4.304,4.239,4.224,6.033,5.337,4.987,1.157,1.073,1.097,4.889,4.582,4.718,2.829,3.138,3.191,5.587,5.934,7.216,4.766,3.788,4.012,3.638,3.889,3.762,2.006,2.088,2.023,1.988,2.049,2.114,1.082,1.093,0.979,2.096,2.015,2.022,3.08,3.1,3.098,3.218,3.363,3.388,1.217,1.1,1.176,2.139,2.022,2.019,3.013,3.176,3.315,5.581,5.039,4.893],\"xaxis\":\"x\",\"y\":[36.4,42.8,46.3,8.9,11.0,7.2,71.5,75.2,64.3,69.0,65.4,54.4,70.7,75.4,66.3,66.7,74.1,69.5,52.7,43.2,46.6,61.8,47.3,46.6,6.2,5.4,4.9,51.5,55.3,56.7,34.1,36.3,30.1,59.3,54.1,64.7,49.3,30.5,35.5,42.5,46.7,44.0,17.2,16.5,17.2,20.9,25.5,26.1,5.4,8.3,6.2,15.5,16.3,15.7,25.7,26.1,25.4,24.4,24.8,31.8,10.6,11.5,10.5,25.7,21.5,22.2,34.1,37.3,36.5,48.1,35.4,35.5],\"yaxis\":\"y\",\"type\":\"scatter\"},{\"hovertemplate\":\"Chalk=Magdust\\u003cbr\\u003ePinch=%{x}\\u003cbr\\u003ePull=%{y}\\u003cextra\\u003e\\u003c\\u002fextra\\u003e\",\"legendgroup\":\"Magdust\",\"marker\":{\"color\":\"#ab63fa\",\"symbol\":\"circle\"},\"mode\":\"markers\",\"name\":\"Magdust\",\"orientation\":\"v\",\"showlegend\":true,\"x\":[6.0,5.859,6.143,4.919,4.909,5.048,3.22,3.214,3.215,4.387,4.095,4.247,2.218,2.138,2.079,4.997,4.589,5.384,3.209,3.284,2.88,1.042,1.221,1.033,6.087,6.636,5.872,4.496,4.491,4.019,3.648,3.189,3.573,1.089,1.102,1.02,6.493,5.989,5.998,6.685,6.172,6.276,1.207,1.063,1.184,5.061,5.191,5.094,2.178,2.089,2.183,1.97,2.188,2.048,1.038,1.0,1.192,4.988,4.964,5.069,2.868,2.898,3.092,4.332,4.089,3.988,4.106,3.838,4.188,2.298,1.898,2.183],\"xaxis\":\"x\",\"y\":[65.5,73.3,77.3,51.4,54.9,52.6,22.1,28.2,29.4,30.1,33.5,34.9,17.7,15.3,17.1,44.7,41.1,51.0,31.4,33.5,34.4,5.1,7.1,6.4,53.2,57.4,54.6,35.7,42.5,37.1,37.4,29.7,35.2,10.7,10.7,9.2,56.7,57.7,60.7,61.2,59.6,67.4,11.2,11.1,11.0,42.2,35.2,32.2,12.2,19.6,20.0,24.6,17.5,15.2,3.7,5.7,7.5,45.1,54.5,50.1,33.3,31.1,32.7,39.5,41.5,32.6,35.9,34.2,36.6,14.4,15.7,19.7],\"yaxis\":\"y\",\"type\":\"scatter\"},{\"hovertemplate\":\"Chalk=Ethan\\u003cbr\\u003ePinch=%{x}\\u003cbr\\u003ePull=%{y}\\u003cextra\\u003e\\u003c\\u002fextra\\u003e\",\"legendgroup\":\"Ethan\",\"marker\":{\"color\":\"#FFA15A\",\"symbol\":\"circle\"},\"mode\":\"markers\",\"name\":\"Ethan\",\"orientation\":\"v\",\"showlegend\":true,\"x\":[3.048,2.888,2.688,5.336,5.599,5.579,4.282,4.094,3.899,5.998,6.203,6.387,2.041,2.22,2.212,1.139,1.098,1.231,1.147,1.115,1.279,0.988,1.219,0.972,5.097,4.964,4.787,1.268,1.061,1.279,2.077,1.992,2.164,4.463,4.066,3.676,4.06,3.962,4.099,2.947,3.278,3.298,5.744,5.826,6.173,3.276,3.127,3.326,2.381,2.442,2.075,3.103,3.155,3.048,4.24,4.979,4.612,6.888,6.32,6.549,6.028,6.484,6.203,5.026,4.899,5.306,2.015,2.372,2.625,5.117,5.098,4.878],\"xaxis\":\"x\",\"y\":[22.7,16.8,22.5,55.5,65.1,54.5,37.0,34.5,41.6,50.9,57.3,57.7,14.0,17.4,22.2,11.4,10.3,10.5,4.7,2.4,5.1,3.1,5.0,5.7,59.0,59.1,55.3,9.7,7.6,6.6,13.6,15.3,17.4,49.6,57.7,55.4,27.4,25.1,29.2,42.7,39.5,43.1,71.5,82.3,77.2,35.3,42.8,44.3,17.7,21.6,15.7,24.1,21.4,22.7,42.5,64.5,57.7,82.0,70.1,71.3,57.5,64.1,63.1,49.5,45.1,45.0,21.2,25.4,29.6,51.2,45.3,45.4],\"yaxis\":\"y\",\"type\":\"scatter\"}],                        {\"template\":{\"data\":{\"histogram2dcontour\":[{\"type\":\"histogram2dcontour\",\"colorbar\":{\"outlinewidth\":0,\"ticks\":\"\"},\"colorscale\":[[0.0,\"#0d0887\"],[0.1111111111111111,\"#46039f\"],[0.2222222222222222,\"#7201a8\"],[0.3333333333333333,\"#9c179e\"],[0.4444444444444444,\"#bd3786\"],[0.5555555555555556,\"#d8576b\"],[0.6666666666666666,\"#ed7953\"],[0.7777777777777778,\"#fb9f3a\"],[0.8888888888888888,\"#fdca26\"],[1.0,\"#f0f921\"]]}],\"choropleth\":[{\"type\":\"choropleth\",\"colorbar\":{\"outlinewidth\":0,\"ticks\":\"\"}}],\"histogram2d\":[{\"type\":\"histogram2d\",\"colorbar\":{\"outlinewidth\":0,\"ticks\":\"\"},\"colorscale\":[[0.0,\"#0d0887\"],[0.1111111111111111,\"#46039f\"],[0.2222222222222222,\"#7201a8\"],[0.3333333333333333,\"#9c179e\"],[0.4444444444444444,\"#bd3786\"],[0.5555555555555556,\"#d8576b\"],[0.6666666666666666,\"#ed7953\"],[0.7777777777777778,\"#fb9f3a\"],[0.8888888888888888,\"#fdca26\"],[1.0,\"#f0f921\"]]}],\"heatmap\":[{\"type\":\"heatmap\",\"colorbar\":{\"outlinewidth\":0,\"ticks\":\"\"},\"colorscale\":[[0.0,\"#0d0887\"],[0.1111111111111111,\"#46039f\"],[0.2222222222222222,\"#7201a8\"],[0.3333333333333333,\"#9c179e\"],[0.4444444444444444,\"#bd3786\"],[0.5555555555555556,\"#d8576b\"],[0.6666666666666666,\"#ed7953\"],[0.7777777777777778,\"#fb9f3a\"],[0.8888888888888888,\"#fdca26\"],[1.0,\"#f0f921\"]]}],\"heatmapgl\":[{\"type\":\"heatmapgl\",\"colorbar\":{\"outlinewidth\":0,\"ticks\":\"\"},\"colorscale\":[[0.0,\"#0d0887\"],[0.1111111111111111,\"#46039f\"],[0.2222222222222222,\"#7201a8\"],[0.3333333333333333,\"#9c179e\"],[0.4444444444444444,\"#bd3786\"],[0.5555555555555556,\"#d8576b\"],[0.6666666666666666,\"#ed7953\"],[0.7777777777777778,\"#fb9f3a\"],[0.8888888888888888,\"#fdca26\"],[1.0,\"#f0f921\"]]}],\"contourcarpet\":[{\"type\":\"contourcarpet\",\"colorbar\":{\"outlinewidth\":0,\"ticks\":\"\"}}],\"contour\":[{\"type\":\"contour\",\"colorbar\":{\"outlinewidth\":0,\"ticks\":\"\"},\"colorscale\":[[0.0,\"#0d0887\"],[0.1111111111111111,\"#46039f\"],[0.2222222222222222,\"#7201a8\"],[0.3333333333333333,\"#9c179e\"],[0.4444444444444444,\"#bd3786\"],[0.5555555555555556,\"#d8576b\"],[0.6666666666666666,\"#ed7953\"],[0.7777777777777778,\"#fb9f3a\"],[0.8888888888888888,\"#fdca26\"],[1.0,\"#f0f921\"]]}],\"surface\":[{\"type\":\"surface\",\"colorbar\":{\"outlinewidth\":0,\"ticks\":\"\"},\"colorscale\":[[0.0,\"#0d0887\"],[0.1111111111111111,\"#46039f\"],[0.2222222222222222,\"#7201a8\"],[0.3333333333333333,\"#9c179e\"],[0.4444444444444444,\"#bd3786\"],[0.5555555555555556,\"#d8576b\"],[0.6666666666666666,\"#ed7953\"],[0.7777777777777778,\"#fb9f3a\"],[0.8888888888888888,\"#fdca26\"],[1.0,\"#f0f921\"]]}],\"mesh3d\":[{\"type\":\"mesh3d\",\"colorbar\":{\"outlinewidth\":0,\"ticks\":\"\"}}],\"scatter\":[{\"fillpattern\":{\"fillmode\":\"overlay\",\"size\":10,\"solidity\":0.2},\"type\":\"scatter\"}],\"parcoords\":[{\"type\":\"parcoords\",\"line\":{\"colorbar\":{\"outlinewidth\":0,\"ticks\":\"\"}}}],\"scatterpolargl\":[{\"type\":\"scatterpolargl\",\"marker\":{\"colorbar\":{\"outlinewidth\":0,\"ticks\":\"\"}}}],\"bar\":[{\"error_x\":{\"color\":\"#2a3f5f\"},\"error_y\":{\"color\":\"#2a3f5f\"},\"marker\":{\"line\":{\"color\":\"#E5ECF6\",\"width\":0.5},\"pattern\":{\"fillmode\":\"overlay\",\"size\":10,\"solidity\":0.2}},\"type\":\"bar\"}],\"scattergeo\":[{\"type\":\"scattergeo\",\"marker\":{\"colorbar\":{\"outlinewidth\":0,\"ticks\":\"\"}}}],\"scatterpolar\":[{\"type\":\"scatterpolar\",\"marker\":{\"colorbar\":{\"outlinewidth\":0,\"ticks\":\"\"}}}],\"histogram\":[{\"marker\":{\"pattern\":{\"fillmode\":\"overlay\",\"size\":10,\"solidity\":0.2}},\"type\":\"histogram\"}],\"scattergl\":[{\"type\":\"scattergl\",\"marker\":{\"colorbar\":{\"outlinewidth\":0,\"ticks\":\"\"}}}],\"scatter3d\":[{\"type\":\"scatter3d\",\"line\":{\"colorbar\":{\"outlinewidth\":0,\"ticks\":\"\"}},\"marker\":{\"colorbar\":{\"outlinewidth\":0,\"ticks\":\"\"}}}],\"scattermapbox\":[{\"type\":\"scattermapbox\",\"marker\":{\"colorbar\":{\"outlinewidth\":0,\"ticks\":\"\"}}}],\"scatterternary\":[{\"type\":\"scatterternary\",\"marker\":{\"colorbar\":{\"outlinewidth\":0,\"ticks\":\"\"}}}],\"scattercarpet\":[{\"type\":\"scattercarpet\",\"marker\":{\"colorbar\":{\"outlinewidth\":0,\"ticks\":\"\"}}}],\"carpet\":[{\"aaxis\":{\"endlinecolor\":\"#2a3f5f\",\"gridcolor\":\"white\",\"linecolor\":\"white\",\"minorgridcolor\":\"white\",\"startlinecolor\":\"#2a3f5f\"},\"baxis\":{\"endlinecolor\":\"#2a3f5f\",\"gridcolor\":\"white\",\"linecolor\":\"white\",\"minorgridcolor\":\"white\",\"startlinecolor\":\"#2a3f5f\"},\"type\":\"carpet\"}],\"table\":[{\"cells\":{\"fill\":{\"color\":\"#EBF0F8\"},\"line\":{\"color\":\"white\"}},\"header\":{\"fill\":{\"color\":\"#C8D4E3\"},\"line\":{\"color\":\"white\"}},\"type\":\"table\"}],\"barpolar\":[{\"marker\":{\"line\":{\"color\":\"#E5ECF6\",\"width\":0.5},\"pattern\":{\"fillmode\":\"overlay\",\"size\":10,\"solidity\":0.2}},\"type\":\"barpolar\"}],\"pie\":[{\"automargin\":true,\"type\":\"pie\"}]},\"layout\":{\"autotypenumbers\":\"strict\",\"colorway\":[\"#636efa\",\"#EF553B\",\"#00cc96\",\"#ab63fa\",\"#FFA15A\",\"#19d3f3\",\"#FF6692\",\"#B6E880\",\"#FF97FF\",\"#FECB52\"],\"font\":{\"color\":\"#2a3f5f\"},\"hovermode\":\"closest\",\"hoverlabel\":{\"align\":\"left\"},\"paper_bgcolor\":\"white\",\"plot_bgcolor\":\"#E5ECF6\",\"polar\":{\"bgcolor\":\"#E5ECF6\",\"angularaxis\":{\"gridcolor\":\"white\",\"linecolor\":\"white\",\"ticks\":\"\"},\"radialaxis\":{\"gridcolor\":\"white\",\"linecolor\":\"white\",\"ticks\":\"\"}},\"ternary\":{\"bgcolor\":\"#E5ECF6\",\"aaxis\":{\"gridcolor\":\"white\",\"linecolor\":\"white\",\"ticks\":\"\"},\"baxis\":{\"gridcolor\":\"white\",\"linecolor\":\"white\",\"ticks\":\"\"},\"caxis\":{\"gridcolor\":\"white\",\"linecolor\":\"white\",\"ticks\":\"\"}},\"coloraxis\":{\"colorbar\":{\"outlinewidth\":0,\"ticks\":\"\"}},\"colorscale\":{\"sequential\":[[0.0,\"#0d0887\"],[0.1111111111111111,\"#46039f\"],[0.2222222222222222,\"#7201a8\"],[0.3333333333333333,\"#9c179e\"],[0.4444444444444444,\"#bd3786\"],[0.5555555555555556,\"#d8576b\"],[0.6666666666666666,\"#ed7953\"],[0.7777777777777778,\"#fb9f3a\"],[0.8888888888888888,\"#fdca26\"],[1.0,\"#f0f921\"]],\"sequentialminus\":[[0.0,\"#0d0887\"],[0.1111111111111111,\"#46039f\"],[0.2222222222222222,\"#7201a8\"],[0.3333333333333333,\"#9c179e\"],[0.4444444444444444,\"#bd3786\"],[0.5555555555555556,\"#d8576b\"],[0.6666666666666666,\"#ed7953\"],[0.7777777777777778,\"#fb9f3a\"],[0.8888888888888888,\"#fdca26\"],[1.0,\"#f0f921\"]],\"diverging\":[[0,\"#8e0152\"],[0.1,\"#c51b7d\"],[0.2,\"#de77ae\"],[0.3,\"#f1b6da\"],[0.4,\"#fde0ef\"],[0.5,\"#f7f7f7\"],[0.6,\"#e6f5d0\"],[0.7,\"#b8e186\"],[0.8,\"#7fbc41\"],[0.9,\"#4d9221\"],[1,\"#276419\"]]},\"xaxis\":{\"gridcolor\":\"white\",\"linecolor\":\"white\",\"ticks\":\"\",\"title\":{\"standoff\":15},\"zerolinecolor\":\"white\",\"automargin\":true,\"zerolinewidth\":2},\"yaxis\":{\"gridcolor\":\"white\",\"linecolor\":\"white\",\"ticks\":\"\",\"title\":{\"standoff\":15},\"zerolinecolor\":\"white\",\"automargin\":true,\"zerolinewidth\":2},\"scene\":{\"xaxis\":{\"backgroundcolor\":\"#E5ECF6\",\"gridcolor\":\"white\",\"linecolor\":\"white\",\"showbackground\":true,\"ticks\":\"\",\"zerolinecolor\":\"white\",\"gridwidth\":2},\"yaxis\":{\"backgroundcolor\":\"#E5ECF6\",\"gridcolor\":\"white\",\"linecolor\":\"white\",\"showbackground\":true,\"ticks\":\"\",\"zerolinecolor\":\"white\",\"gridwidth\":2},\"zaxis\":{\"backgroundcolor\":\"#E5ECF6\",\"gridcolor\":\"white\",\"linecolor\":\"white\",\"showbackground\":true,\"ticks\":\"\",\"zerolinecolor\":\"white\",\"gridwidth\":2}},\"shapedefaults\":{\"line\":{\"color\":\"#2a3f5f\"}},\"annotationdefaults\":{\"arrowcolor\":\"#2a3f5f\",\"arrowhead\":0,\"arrowwidth\":1},\"geo\":{\"bgcolor\":\"white\",\"landcolor\":\"#E5ECF6\",\"subunitcolor\":\"white\",\"showland\":true,\"showlakes\":true,\"lakecolor\":\"white\"},\"title\":{\"x\":0.05},\"mapbox\":{\"style\":\"light\"}}},\"xaxis\":{\"anchor\":\"y\",\"domain\":[0.0,1.0],\"title\":{\"text\":\"Pinch\"}},\"yaxis\":{\"anchor\":\"x\",\"domain\":[0.0,1.0],\"title\":{\"text\":\"Pull\"}},\"legend\":{\"title\":{\"text\":\"Chalk\"},\"tracegroupgap\":0},\"title\":{\"text\":\"Kilograms Pulled by pinch Strength\\u003cbr\\u003e\\u003csup\\u003eby Jerry Yu\\u003c\\u002fsub\\u003e\",\"x\":0.5,\"xanchor\":\"center\",\"yanchor\":\"top\"}},                        {\"responsive\": true}                    ).then(function(){\n",
       "                            \n",
       "var gd = document.getElementById('f538d48e-c864-46fd-b055-3d11e77b608e');\n",
       "var x = new MutationObserver(function (mutations, observer) {{\n",
       "        var display = window.getComputedStyle(gd).display;\n",
       "        if (!display || display === 'none') {{\n",
       "            console.log([gd, 'removed!']);\n",
       "            Plotly.purge(gd);\n",
       "            observer.disconnect();\n",
       "        }}\n",
       "}});\n",
       "\n",
       "// Listen for the removal of the full notebook cells\n",
       "var notebookContainer = gd.closest('#notebook-container');\n",
       "if (notebookContainer) {{\n",
       "    x.observe(notebookContainer, {childList: true});\n",
       "}}\n",
       "\n",
       "// Listen for the clearing of the current output cell\n",
       "var outputEl = gd.closest('.output');\n",
       "if (outputEl) {{\n",
       "    x.observe(outputEl, {childList: true});\n",
       "}}\n",
       "\n",
       "                        })                };                });            </script>        </div>"
      ]
     },
     "metadata": {},
     "output_type": "display_data"
    },
    {
     "data": {
      "text/html": [
       "<div>                            <div id=\"a3fa043f-94a6-49b0-b3f0-304fea285171\" class=\"plotly-graph-div\" style=\"height:525px; width:100%;\"></div>            <script type=\"text/javascript\">                require([\"plotly\"], function(Plotly) {                    window.PLOTLYENV=window.PLOTLYENV || {};                                    if (document.getElementById(\"a3fa043f-94a6-49b0-b3f0-304fea285171\")) {                    Plotly.newPlot(                        \"a3fa043f-94a6-49b0-b3f0-304fea285171\",                        [{\"hovertemplate\":\"Day=2024-10-30 00:00:00\\u003cbr\\u003ePinch=%{x}\\u003cbr\\u003ePull=%{y}\\u003cextra\\u003e\\u003c\\u002fextra\\u003e\",\"legendgroup\":\"2024-10-30 00:00:00\",\"marker\":{\"color\":\"#636efa\",\"symbol\":\"circle\"},\"mode\":\"markers\",\"name\":\"2024-10-30 00:00:00\",\"orientation\":\"v\",\"showlegend\":true,\"x\":[4.202,4.117,4.154,4.088,4.088,4.086,1.099,1.319,1.198,3.124,2.808,3.077,4.088,4.223,4.125,4.888,5.356,4.838,2.086,2.054,2.08,5.989,6.064,5.883,4.483,4.088,4.528,5.233,5.382,5.1,1.284,1.322,1.408,3.938,3.298,3.238,5.105,5.372,5.201,5.587,5.055,4.991,5.898,5.899,5.881,1.176,1.292,1.044,3.121,3.289,2.966,4.104,4.18,4.453,4.212,4.349,3.792,1.167,1.018,1.018],\"xaxis\":\"x\",\"y\":[34.6,31.9,31.9,41.1,44.5,45.7,7.2,9.5,8.5,30.6,26.1,27.5,44.6,37.5,40.1,45.1,49.1,44.2,23.5,22.6,25.4,63.9,61.7,76.3,40.5,38.7,42.7,41.5,42.5,44.5,8.4,8.3,9.5,35.5,26.4,27.1,50.6,43.6,41.7,51.7,39.1,47.0,56.5,52.6,49.6,5.7,7.4,6.5,29.4,33.8,23.6,42.5,43.7,46.5,46.2,56.5,47.5,12.7,9.1,11.4],\"yaxis\":\"y\",\"type\":\"scatter\"},{\"hovertemplate\":\"Day=2024-10-31 00:00:00\\u003cbr\\u003ePinch=%{x}\\u003cbr\\u003ePull=%{y}\\u003cextra\\u003e\\u003c\\u002fextra\\u003e\",\"legendgroup\":\"2024-10-31 00:00:00\",\"marker\":{\"color\":\"#EF553B\",\"symbol\":\"circle\"},\"mode\":\"markers\",\"name\":\"2024-10-31 00:00:00\",\"orientation\":\"v\",\"showlegend\":true,\"x\":[6.039,7.126,6.407,5.492,5.703,5.342,6.309,5.813,6.138,1.093,1.188,1.036,2.597,2.419,2.058,1.949,1.908,2.209,3.36,3.326,2.999,3.886,4.549,4.078,5.96,5.5,6.198,5.289,5.472,5.066,3.129,2.847,3.072,6.683,6.046,5.699,1.275,1.135,1.288,2.188,1.998,1.997,2.129,2.179,1.952,3.762,3.399,3.316,2.347,2.129,2.104,6.221,6.262,6.878,3.572,3.189,3.258,5.061,5.334,4.947],\"xaxis\":\"x\",\"y\":[74.0,83.3,75.1,77.5,68.5,67.5,55.4,46.3,48.5,8.8,12.5,10.7,24.2,25.1,19.6,14.8,15.7,17.0,38.1,37.9,38.4,36.5,36.1,35.5,51.6,46.4,47.1,39.6,39.7,37.1,35.1,33.7,31.7,51.1,53.3,46.5,3.6,5.3,5.2,23.7,24.5,25.5,19.4,21.1,18.7,45.3,46.6,35.4,15.4,14.6,16.7,71.1,81.5,89.2,25.1,22.6,22.4,61.6,70.5,67.1],\"yaxis\":\"y\",\"type\":\"scatter\"},{\"hovertemplate\":\"Day=2024-11-04 00:00:00\\u003cbr\\u003ePinch=%{x}\\u003cbr\\u003ePull=%{y}\\u003cextra\\u003e\\u003c\\u002fextra\\u003e\",\"legendgroup\":\"2024-11-04 00:00:00\",\"marker\":{\"color\":\"#00cc96\",\"symbol\":\"circle\"},\"mode\":\"markers\",\"name\":\"2024-11-04 00:00:00\",\"orientation\":\"v\",\"showlegend\":true,\"x\":[1.198,1.098,1.303,4.047,4.096,4.116,2.998,3.089,3.088,2.342,2.078,2.217,1.098,1.054,1.141,2.061,2.078,1.983,5.738,5.692,6.088,4.989,4.294,4.288,2.198,2.101,2.192,4.158,4.389,4.388,1.002,0.938,1.088,5.309,5.069,5.22,6.007,6.038,6.308,5.16,4.887,5.108,3.053,2.83,2.899,6.498,6.602,6.225,6.398,5.969,5.608,7.243,7.389,6.914,2.098,2.198,2.278,6.091,5.988,6.074,1.278,1.238,1.068,3.946,4.473,3.938],\"xaxis\":\"x\",\"y\":[6.1,5.3,9.1,49.2,47.6,44.6,21.5,25.1,26.6,17.0,12.5,18.0,7.5,5.1,8.5,13.9,15.0,12.2,54.1,61.1,64.3,45.7,29.0,34.0,15.4,14.7,15.1,36.4,42.8,46.3,8.9,11.0,7.2,36.2,45.7,47.6,71.5,75.2,64.3,69.0,65.4,54.4,30.7,32.1,31.4,52.7,55.7,47.6,51.1,55.5,50.7,70.7,75.4,66.3,13.6,13.2,13.6,66.7,74.1,69.5,7.1,7.7,4.2,34.2,37.6,29.3],\"yaxis\":\"y\",\"type\":\"scatter\"},{\"hovertemplate\":\"Day=2024-11-06 00:00:00\\u003cbr\\u003ePinch=%{x}\\u003cbr\\u003ePull=%{y}\\u003cextra\\u003e\\u003c\\u002fextra\\u003e\",\"legendgroup\":\"2024-11-06 00:00:00\",\"marker\":{\"color\":\"#ab63fa\",\"symbol\":\"circle\"},\"mode\":\"markers\",\"name\":\"2024-11-06 00:00:00\",\"orientation\":\"v\",\"showlegend\":true,\"x\":[3.915,4.057,3.99,4.304,4.239,4.224,6.033,5.337,4.987,1.157,1.073,1.097,2.288,2.234,2.169,4.889,4.582,4.718,2.829,3.138,3.191,5.587,5.934,7.216,4.766,3.788,4.012,3.546,3.148,2.798,5.928,6.093,5.843,3.564,3.055,4.039,1.034,1.037,1.019,2.098,2.048,2.033,3.638,3.889,3.762,5.492,5.447,5.139,2.006,2.088,2.023,1.988,2.049,2.114,1.082,1.093,0.979,4.072,4.208,4.196,2.096,2.015,2.022,3.08,3.1,3.098,3.218,3.363,3.388,1.085,1.053,0.947,1.217,1.1,1.176],\"xaxis\":\"x\",\"y\":[35.4,37.4,35.7,52.7,43.2,46.6,61.8,47.3,46.6,6.2,5.4,4.9,14.2,14.2,15.1,51.5,55.3,56.7,34.1,36.3,30.1,59.3,54.1,64.7,49.3,30.5,35.5,26.6,24.5,19.2,52.2,45.2,46.0,27.4,26.6,44.6,4.4,3.2,7.1,16.7,14.2,16.4,42.5,46.7,44.0,44.4,47.2,45.1,17.2,16.5,17.2,20.9,25.5,26.1,5.4,8.3,6.2,28.0,31.0,27.2,15.5,16.3,15.7,25.7,26.1,25.4,24.4,24.8,31.8,2.5,5.7,5.7,10.6,11.5,10.5],\"yaxis\":\"y\",\"type\":\"scatter\"},{\"hovertemplate\":\"Day=2024-11-08 00:00:00\\u003cbr\\u003ePinch=%{x}\\u003cbr\\u003ePull=%{y}\\u003cextra\\u003e\\u003c\\u002fextra\\u003e\",\"legendgroup\":\"2024-11-08 00:00:00\",\"marker\":{\"color\":\"#FFA15A\",\"symbol\":\"circle\"},\"mode\":\"markers\",\"name\":\"2024-11-08 00:00:00\",\"orientation\":\"v\",\"showlegend\":true,\"x\":[4.149,4.162,4.449,2.139,2.022,2.019,6.309,6.009,6.087,5.66,5.291,4.898,3.013,3.176,3.315,3.218,3.044,3.306,5.581,5.039,4.893,1.309,1.463,1.19,5.29,5.038,5.275,6.0,5.859,6.143,4.919,4.909,5.048,2.194,2.199,2.065,3.22,3.214,3.215,2.351,2.096,2.206,4.387,4.095,4.247,2.218,2.138,2.079,3.247,3.152,3.253,5.998,5.993,6.048,4.997,4.589,5.384,1.219,1.308,1.249,3.211,3.458,3.187,4.446,4.258,4.172,3.209,3.284,2.88,1.042,1.221,1.033,2.29,1.96,2.059,4.793,4.767,4.958,6.087,6.636,5.872,1.149,0.989,1.059,4.496,4.491,4.019,3.648,3.189,3.573,1.089,1.102,1.02,6.493,5.989,5.998,6.685,6.172,6.276,1.207,1.063,1.184,5.287,4.886,4.949],\"xaxis\":\"x\",\"y\":[23.5,27.2,31.1,25.7,21.5,22.2,55.9,50.5,51.7,39.1,37.9,35.6,34.1,37.3,36.5,25.9,27.3,24.1,48.1,35.4,35.5,7.1,9.1,7.7,35.5,28.3,33.7,65.5,73.3,77.3,51.4,54.9,52.6,8.9,14.4,13.5,22.1,28.2,29.4,10.4,6.6,12.2,30.1,33.5,34.9,17.7,15.3,17.1,19.0,19.2,26.1,44.7,50.7,47.5,44.7,41.1,51.0,5.5,8.1,6.7,22.4,26.2,22.2,37.7,33.6,33.6,31.4,33.5,34.4,5.1,7.1,6.4,13.8,14.3,15.6,37.1,36.4,40.5,53.2,57.4,54.6,3.3,3.2,3.2,35.7,42.5,37.1,37.4,29.7,35.2,10.7,10.7,9.2,56.7,57.7,60.7,61.2,59.6,67.4,11.2,11.1,11.0,35.3,33.5,28.9],\"yaxis\":\"y\",\"type\":\"scatter\"},{\"hovertemplate\":\"Day=2024-11-10 00:00:00\\u003cbr\\u003ePinch=%{x}\\u003cbr\\u003ePull=%{y}\\u003cextra\\u003e\\u003c\\u002fextra\\u003e\",\"legendgroup\":\"2024-11-10 00:00:00\",\"marker\":{\"color\":\"#19d3f3\",\"symbol\":\"circle\"},\"mode\":\"markers\",\"name\":\"2024-11-10 00:00:00\",\"orientation\":\"v\",\"showlegend\":true,\"x\":[6.935,6.741,6.158,3.988,4.123,4.333,5.061,5.191,5.094,2.178,2.089,2.183,1.97,2.188,2.048,5.267,5.326,5.636,1.038,1.0,1.192,3.209,3.138,3.406,5.783,6.108,5.898,2.413,2.199,2.28,1.033,1.082,1.048,4.109,3.899,4.251,4.988,4.964,5.069,1.523,1.238,1.369,5.189,5.086,5.098,4.088,3.898,3.859,2.868,2.898,3.092,5.999,5.966,6.031,4.332,4.089,3.988,3.098,2.892,3.21,4.106,3.838,4.188,2.298,1.898,2.183,3.048,2.888,2.688,1.289,1.389,1.208,2.089,2.008,2.133,5.336,5.599,5.579,2.208,2.098,2.08,4.282,4.094,3.899,3.322,3.092,3.298,6.558,6.199,6.343,1.196,1.36,1.198,4.888,4.979,5.217,2.098,1.983,2.207,5.998,6.203,6.387,5.972,5.666,5.869,2.041,2.22,2.212,3.292,3.088,3.088,1.139,1.098,1.231],\"xaxis\":\"x\",\"y\":[52.5,57.2,47.9,34.0,25.4,25.9,42.2,35.2,32.2,12.2,19.6,20.0,24.6,17.5,15.2,35.1,33.5,31.2,3.7,5.7,7.5,26.7,30.2,28.1,44.5,46.1,44.7,15.5,16.5,17.8,1.5,2.7,5.8,24.2,20.5,25.2,45.1,54.5,50.1,7.0,7.4,8.4,30.9,30.3,28.7,34.6,35.7,33.7,33.3,31.1,32.7,32.3,39.2,31.7,39.5,41.5,32.6,15.7,15.5,17.7,35.9,34.2,36.6,14.4,15.7,19.7,22.7,16.8,22.5,7.9,9.3,10.0,13.5,14.5,16.0,55.5,65.1,54.5,11.1,9.4,12.7,37.0,34.5,41.6,29.4,22.3,27.3,46.1,36.7,37.2,6.2,7.4,6.2,31.9,35.4,39.6,18.7,15.2,17.1,50.9,57.3,57.7,47.9,45.7,51.5,14.0,17.4,22.2,22.3,21.1,23.5,11.4,10.3,10.5],\"yaxis\":\"y\",\"type\":\"scatter\"},{\"hovertemplate\":\"Day=2024-11-14 00:00:00\\u003cbr\\u003ePinch=%{x}\\u003cbr\\u003ePull=%{y}\\u003cextra\\u003e\\u003c\\u002fextra\\u003e\",\"legendgroup\":\"2024-11-14 00:00:00\",\"marker\":{\"color\":\"#FF6692\",\"symbol\":\"circle\"},\"mode\":\"markers\",\"name\":\"2024-11-14 00:00:00\",\"orientation\":\"v\",\"showlegend\":true,\"x\":[1.147,1.115,1.279,0.988,1.219,0.972,5.097,4.964,4.787,1.268,1.061,1.279,2.077,1.992,2.164,2.217,2.187,1.898,4.463,4.066,3.676,3.077,3.161,3.186,4.06,3.962,4.099,4.28,4.335,4.388,2.947,3.278,3.298,5.744,5.826,6.173,3.276,3.127,3.326,6.168,6.75,6.096,1.359,1.1,1.081,2.381,2.442,2.075,4.996,4.988,4.979,5.978,6.124,6.493,1.311,1.218,1.446,4.153,4.088,4.304,2.992,3.31,3.338,3.103,3.155,3.048,4.24,4.979,4.612,6.888,6.32,6.549,6.028,6.484,6.203,4.877,4.938,5.168,5.026,4.899,5.306,2.015,2.372,2.625,4.083,4.143,4.252,4.288,3.91,4.38,5.117,5.098,4.878,5.198,5.624,5.274],\"xaxis\":\"x\",\"y\":[4.7,2.4,5.1,3.1,5.0,5.7,59.0,59.1,55.3,9.7,7.6,6.6,13.6,15.3,17.4,8.9,8.1,9.4,49.6,57.7,55.4,9.7,16.5,14.4,27.4,25.1,29.2,27.7,28.6,27.1,42.7,39.5,43.1,71.5,82.3,77.2,35.3,42.8,44.3,51.9,55.7,48.7,3.5,2.5,2.2,17.7,21.6,15.7,31.2,25.2,23.4,43.1,41.2,46.7,7.6,3.4,7.5,25.3,30.6,25.2,16.0,14.7,22.7,24.1,21.4,22.7,42.5,64.5,57.7,82.0,70.1,71.3,57.5,64.1,63.1,30.4,30.7,31.1,49.5,45.1,45.0,21.2,25.4,29.6,25.3,24.7,25.1,27.1,23.6,24.4,51.2,45.3,45.4,31.4,32.8,31.1],\"yaxis\":\"y\",\"type\":\"scatter\"}],                        {\"template\":{\"data\":{\"histogram2dcontour\":[{\"type\":\"histogram2dcontour\",\"colorbar\":{\"outlinewidth\":0,\"ticks\":\"\"},\"colorscale\":[[0.0,\"#0d0887\"],[0.1111111111111111,\"#46039f\"],[0.2222222222222222,\"#7201a8\"],[0.3333333333333333,\"#9c179e\"],[0.4444444444444444,\"#bd3786\"],[0.5555555555555556,\"#d8576b\"],[0.6666666666666666,\"#ed7953\"],[0.7777777777777778,\"#fb9f3a\"],[0.8888888888888888,\"#fdca26\"],[1.0,\"#f0f921\"]]}],\"choropleth\":[{\"type\":\"choropleth\",\"colorbar\":{\"outlinewidth\":0,\"ticks\":\"\"}}],\"histogram2d\":[{\"type\":\"histogram2d\",\"colorbar\":{\"outlinewidth\":0,\"ticks\":\"\"},\"colorscale\":[[0.0,\"#0d0887\"],[0.1111111111111111,\"#46039f\"],[0.2222222222222222,\"#7201a8\"],[0.3333333333333333,\"#9c179e\"],[0.4444444444444444,\"#bd3786\"],[0.5555555555555556,\"#d8576b\"],[0.6666666666666666,\"#ed7953\"],[0.7777777777777778,\"#fb9f3a\"],[0.8888888888888888,\"#fdca26\"],[1.0,\"#f0f921\"]]}],\"heatmap\":[{\"type\":\"heatmap\",\"colorbar\":{\"outlinewidth\":0,\"ticks\":\"\"},\"colorscale\":[[0.0,\"#0d0887\"],[0.1111111111111111,\"#46039f\"],[0.2222222222222222,\"#7201a8\"],[0.3333333333333333,\"#9c179e\"],[0.4444444444444444,\"#bd3786\"],[0.5555555555555556,\"#d8576b\"],[0.6666666666666666,\"#ed7953\"],[0.7777777777777778,\"#fb9f3a\"],[0.8888888888888888,\"#fdca26\"],[1.0,\"#f0f921\"]]}],\"heatmapgl\":[{\"type\":\"heatmapgl\",\"colorbar\":{\"outlinewidth\":0,\"ticks\":\"\"},\"colorscale\":[[0.0,\"#0d0887\"],[0.1111111111111111,\"#46039f\"],[0.2222222222222222,\"#7201a8\"],[0.3333333333333333,\"#9c179e\"],[0.4444444444444444,\"#bd3786\"],[0.5555555555555556,\"#d8576b\"],[0.6666666666666666,\"#ed7953\"],[0.7777777777777778,\"#fb9f3a\"],[0.8888888888888888,\"#fdca26\"],[1.0,\"#f0f921\"]]}],\"contourcarpet\":[{\"type\":\"contourcarpet\",\"colorbar\":{\"outlinewidth\":0,\"ticks\":\"\"}}],\"contour\":[{\"type\":\"contour\",\"colorbar\":{\"outlinewidth\":0,\"ticks\":\"\"},\"colorscale\":[[0.0,\"#0d0887\"],[0.1111111111111111,\"#46039f\"],[0.2222222222222222,\"#7201a8\"],[0.3333333333333333,\"#9c179e\"],[0.4444444444444444,\"#bd3786\"],[0.5555555555555556,\"#d8576b\"],[0.6666666666666666,\"#ed7953\"],[0.7777777777777778,\"#fb9f3a\"],[0.8888888888888888,\"#fdca26\"],[1.0,\"#f0f921\"]]}],\"surface\":[{\"type\":\"surface\",\"colorbar\":{\"outlinewidth\":0,\"ticks\":\"\"},\"colorscale\":[[0.0,\"#0d0887\"],[0.1111111111111111,\"#46039f\"],[0.2222222222222222,\"#7201a8\"],[0.3333333333333333,\"#9c179e\"],[0.4444444444444444,\"#bd3786\"],[0.5555555555555556,\"#d8576b\"],[0.6666666666666666,\"#ed7953\"],[0.7777777777777778,\"#fb9f3a\"],[0.8888888888888888,\"#fdca26\"],[1.0,\"#f0f921\"]]}],\"mesh3d\":[{\"type\":\"mesh3d\",\"colorbar\":{\"outlinewidth\":0,\"ticks\":\"\"}}],\"scatter\":[{\"fillpattern\":{\"fillmode\":\"overlay\",\"size\":10,\"solidity\":0.2},\"type\":\"scatter\"}],\"parcoords\":[{\"type\":\"parcoords\",\"line\":{\"colorbar\":{\"outlinewidth\":0,\"ticks\":\"\"}}}],\"scatterpolargl\":[{\"type\":\"scatterpolargl\",\"marker\":{\"colorbar\":{\"outlinewidth\":0,\"ticks\":\"\"}}}],\"bar\":[{\"error_x\":{\"color\":\"#2a3f5f\"},\"error_y\":{\"color\":\"#2a3f5f\"},\"marker\":{\"line\":{\"color\":\"#E5ECF6\",\"width\":0.5},\"pattern\":{\"fillmode\":\"overlay\",\"size\":10,\"solidity\":0.2}},\"type\":\"bar\"}],\"scattergeo\":[{\"type\":\"scattergeo\",\"marker\":{\"colorbar\":{\"outlinewidth\":0,\"ticks\":\"\"}}}],\"scatterpolar\":[{\"type\":\"scatterpolar\",\"marker\":{\"colorbar\":{\"outlinewidth\":0,\"ticks\":\"\"}}}],\"histogram\":[{\"marker\":{\"pattern\":{\"fillmode\":\"overlay\",\"size\":10,\"solidity\":0.2}},\"type\":\"histogram\"}],\"scattergl\":[{\"type\":\"scattergl\",\"marker\":{\"colorbar\":{\"outlinewidth\":0,\"ticks\":\"\"}}}],\"scatter3d\":[{\"type\":\"scatter3d\",\"line\":{\"colorbar\":{\"outlinewidth\":0,\"ticks\":\"\"}},\"marker\":{\"colorbar\":{\"outlinewidth\":0,\"ticks\":\"\"}}}],\"scattermapbox\":[{\"type\":\"scattermapbox\",\"marker\":{\"colorbar\":{\"outlinewidth\":0,\"ticks\":\"\"}}}],\"scatterternary\":[{\"type\":\"scatterternary\",\"marker\":{\"colorbar\":{\"outlinewidth\":0,\"ticks\":\"\"}}}],\"scattercarpet\":[{\"type\":\"scattercarpet\",\"marker\":{\"colorbar\":{\"outlinewidth\":0,\"ticks\":\"\"}}}],\"carpet\":[{\"aaxis\":{\"endlinecolor\":\"#2a3f5f\",\"gridcolor\":\"white\",\"linecolor\":\"white\",\"minorgridcolor\":\"white\",\"startlinecolor\":\"#2a3f5f\"},\"baxis\":{\"endlinecolor\":\"#2a3f5f\",\"gridcolor\":\"white\",\"linecolor\":\"white\",\"minorgridcolor\":\"white\",\"startlinecolor\":\"#2a3f5f\"},\"type\":\"carpet\"}],\"table\":[{\"cells\":{\"fill\":{\"color\":\"#EBF0F8\"},\"line\":{\"color\":\"white\"}},\"header\":{\"fill\":{\"color\":\"#C8D4E3\"},\"line\":{\"color\":\"white\"}},\"type\":\"table\"}],\"barpolar\":[{\"marker\":{\"line\":{\"color\":\"#E5ECF6\",\"width\":0.5},\"pattern\":{\"fillmode\":\"overlay\",\"size\":10,\"solidity\":0.2}},\"type\":\"barpolar\"}],\"pie\":[{\"automargin\":true,\"type\":\"pie\"}]},\"layout\":{\"autotypenumbers\":\"strict\",\"colorway\":[\"#636efa\",\"#EF553B\",\"#00cc96\",\"#ab63fa\",\"#FFA15A\",\"#19d3f3\",\"#FF6692\",\"#B6E880\",\"#FF97FF\",\"#FECB52\"],\"font\":{\"color\":\"#2a3f5f\"},\"hovermode\":\"closest\",\"hoverlabel\":{\"align\":\"left\"},\"paper_bgcolor\":\"white\",\"plot_bgcolor\":\"#E5ECF6\",\"polar\":{\"bgcolor\":\"#E5ECF6\",\"angularaxis\":{\"gridcolor\":\"white\",\"linecolor\":\"white\",\"ticks\":\"\"},\"radialaxis\":{\"gridcolor\":\"white\",\"linecolor\":\"white\",\"ticks\":\"\"}},\"ternary\":{\"bgcolor\":\"#E5ECF6\",\"aaxis\":{\"gridcolor\":\"white\",\"linecolor\":\"white\",\"ticks\":\"\"},\"baxis\":{\"gridcolor\":\"white\",\"linecolor\":\"white\",\"ticks\":\"\"},\"caxis\":{\"gridcolor\":\"white\",\"linecolor\":\"white\",\"ticks\":\"\"}},\"coloraxis\":{\"colorbar\":{\"outlinewidth\":0,\"ticks\":\"\"}},\"colorscale\":{\"sequential\":[[0.0,\"#0d0887\"],[0.1111111111111111,\"#46039f\"],[0.2222222222222222,\"#7201a8\"],[0.3333333333333333,\"#9c179e\"],[0.4444444444444444,\"#bd3786\"],[0.5555555555555556,\"#d8576b\"],[0.6666666666666666,\"#ed7953\"],[0.7777777777777778,\"#fb9f3a\"],[0.8888888888888888,\"#fdca26\"],[1.0,\"#f0f921\"]],\"sequentialminus\":[[0.0,\"#0d0887\"],[0.1111111111111111,\"#46039f\"],[0.2222222222222222,\"#7201a8\"],[0.3333333333333333,\"#9c179e\"],[0.4444444444444444,\"#bd3786\"],[0.5555555555555556,\"#d8576b\"],[0.6666666666666666,\"#ed7953\"],[0.7777777777777778,\"#fb9f3a\"],[0.8888888888888888,\"#fdca26\"],[1.0,\"#f0f921\"]],\"diverging\":[[0,\"#8e0152\"],[0.1,\"#c51b7d\"],[0.2,\"#de77ae\"],[0.3,\"#f1b6da\"],[0.4,\"#fde0ef\"],[0.5,\"#f7f7f7\"],[0.6,\"#e6f5d0\"],[0.7,\"#b8e186\"],[0.8,\"#7fbc41\"],[0.9,\"#4d9221\"],[1,\"#276419\"]]},\"xaxis\":{\"gridcolor\":\"white\",\"linecolor\":\"white\",\"ticks\":\"\",\"title\":{\"standoff\":15},\"zerolinecolor\":\"white\",\"automargin\":true,\"zerolinewidth\":2},\"yaxis\":{\"gridcolor\":\"white\",\"linecolor\":\"white\",\"ticks\":\"\",\"title\":{\"standoff\":15},\"zerolinecolor\":\"white\",\"automargin\":true,\"zerolinewidth\":2},\"scene\":{\"xaxis\":{\"backgroundcolor\":\"#E5ECF6\",\"gridcolor\":\"white\",\"linecolor\":\"white\",\"showbackground\":true,\"ticks\":\"\",\"zerolinecolor\":\"white\",\"gridwidth\":2},\"yaxis\":{\"backgroundcolor\":\"#E5ECF6\",\"gridcolor\":\"white\",\"linecolor\":\"white\",\"showbackground\":true,\"ticks\":\"\",\"zerolinecolor\":\"white\",\"gridwidth\":2},\"zaxis\":{\"backgroundcolor\":\"#E5ECF6\",\"gridcolor\":\"white\",\"linecolor\":\"white\",\"showbackground\":true,\"ticks\":\"\",\"zerolinecolor\":\"white\",\"gridwidth\":2}},\"shapedefaults\":{\"line\":{\"color\":\"#2a3f5f\"}},\"annotationdefaults\":{\"arrowcolor\":\"#2a3f5f\",\"arrowhead\":0,\"arrowwidth\":1},\"geo\":{\"bgcolor\":\"white\",\"landcolor\":\"#E5ECF6\",\"subunitcolor\":\"white\",\"showland\":true,\"showlakes\":true,\"lakecolor\":\"white\"},\"title\":{\"x\":0.05},\"mapbox\":{\"style\":\"light\"}}},\"xaxis\":{\"anchor\":\"y\",\"domain\":[0.0,1.0],\"title\":{\"text\":\"Pinch\"}},\"yaxis\":{\"anchor\":\"x\",\"domain\":[0.0,1.0],\"title\":{\"text\":\"Pull\"}},\"legend\":{\"title\":{\"text\":\"Day\"},\"tracegroupgap\":0},\"title\":{\"text\":\"Kilograms Pulled by pinch Strength\\u003cbr\\u003e\\u003csup\\u003eby Jerry Yu\\u003c\\u002fsub\\u003e\",\"x\":0.5,\"xanchor\":\"center\",\"yanchor\":\"top\"}},                        {\"responsive\": true}                    ).then(function(){\n",
       "                            \n",
       "var gd = document.getElementById('a3fa043f-94a6-49b0-b3f0-304fea285171');\n",
       "var x = new MutationObserver(function (mutations, observer) {{\n",
       "        var display = window.getComputedStyle(gd).display;\n",
       "        if (!display || display === 'none') {{\n",
       "            console.log([gd, 'removed!']);\n",
       "            Plotly.purge(gd);\n",
       "            observer.disconnect();\n",
       "        }}\n",
       "}});\n",
       "\n",
       "// Listen for the removal of the full notebook cells\n",
       "var notebookContainer = gd.closest('#notebook-container');\n",
       "if (notebookContainer) {{\n",
       "    x.observe(notebookContainer, {childList: true});\n",
       "}}\n",
       "\n",
       "// Listen for the clearing of the current output cell\n",
       "var outputEl = gd.closest('.output');\n",
       "if (outputEl) {{\n",
       "    x.observe(outputEl, {childList: true});\n",
       "}}\n",
       "\n",
       "                        })                };                });            </script>        </div>"
      ]
     },
     "metadata": {},
     "output_type": "display_data"
    }
   ],
   "source": [
    "# Type of Chalk\n",
    "byChalk = px.scatter(Chalk, x = \"Pinch\", y = \"Pull\", color = \"Chalk\", title = \"Kilograms Pulled by pinch Strength\")\n",
    "byChalk.update_layout(\n",
    "    title = {\n",
    "        \"text\":\"Kilograms Pulled by pinch Strength<br><sup>by Jerry Yu</sub>\",\n",
    "        \"x\":0.5,\n",
    "        \"xanchor\":\"center\",\n",
    "        \"yanchor\":\"top\"\n",
    "    }\n",
    ")\n",
    "byChalk.show()\n",
    "\n",
    "# Very Nice Separation for Control and using Chalk, between chalks is less clear. \n",
    "\n",
    "byDate = px.scatter(Chalk, x = \"Pinch\", y = \"Pull\", color = \"Day\", title = \"Kilograms Pulled by pinch Strength\")\n",
    "byDate.update_layout(\n",
    "    title = {\n",
    "        \"text\":\"Kilograms Pulled by pinch Strength<br><sup>by Jerry Yu</sub>\",\n",
    "        \"x\":0.5,\n",
    "        \"xanchor\":\"center\",\n",
    "        \"yanchor\":\"top\"\n",
    "    }\n",
    ")\n",
    "byDate.show()\n",
    "# There are not that clear of patterns (seperation) in date. "
   ]
  },
  {
   "cell_type": "markdown",
   "metadata": {},
   "source": [
    "- The patterns found in chalk are a good sign, likewise the lack of a clear pattern in date. "
   ]
  },
  {
   "cell_type": "code",
   "execution_count": 9,
   "metadata": {},
   "outputs": [
    {
     "data": {
      "text/html": [
       "<div>                            <div id=\"dd712a50-e43b-4fda-a152-9e0b75cf4725\" class=\"plotly-graph-div\" style=\"height:525px; width:100%;\"></div>            <script type=\"text/javascript\">                require([\"plotly\"], function(Plotly) {                    window.PLOTLYENV=window.PLOTLYENV || {};                                    if (document.getElementById(\"dd712a50-e43b-4fda-a152-9e0b75cf4725\")) {                    Plotly.newPlot(                        \"dd712a50-e43b-4fda-a152-9e0b75cf4725\",                        [{\"hovertemplate\":\"Person=1\\u003cbr\\u003ePinch=%{x}\\u003cbr\\u003ePull=%{y}\\u003cextra\\u003e\\u003c\\u002fextra\\u003e\",\"legendgroup\":\"1\",\"marker\":{\"color\":\"#636efa\",\"symbol\":\"circle\"},\"mode\":\"markers\",\"name\":\"1\",\"orientation\":\"v\",\"showlegend\":true,\"x\":[4.202,4.117,4.154,4.088,4.223,4.125,2.086,2.054,2.08,5.989,6.064,5.883,1.284,1.322,1.408,5.105,5.372,5.201,1.167,1.018,1.018,5.492,5.703,5.342,6.309,5.813,6.138,1.093,1.188,1.036,1.949,1.908,2.209,3.36,3.326,2.999,3.886,4.549,4.078,5.96,5.5,6.198,5.289,5.472,5.066,3.129,2.847,3.072,1.275,1.135,1.288,2.188,1.998,1.997,2.347,2.129,2.104,6.221,6.262,6.878,3.572,3.189,3.258,5.061,5.334,4.947,4.047,4.096,4.116,2.998,3.089,3.088,2.198,2.101,2.192,1.002,0.938,1.088,6.007,6.038,6.308,5.16,4.887,5.108,3.053,2.83,2.899,6.398,5.969,5.608,2.098,2.198,2.278,6.091,5.988,6.074,1.278,1.238,1.068,3.946,4.473,3.938,4.304,4.239,4.224,4.889,4.582,4.718,2.829,3.138,3.191,3.638,3.889,3.762,5.492,5.447,5.139,1.988,2.049,2.114,4.072,4.208,4.196,1.217,1.1,1.176,2.139,2.022,2.019,6.309,6.009,6.087,5.66,5.291,4.898,3.013,3.176,3.315,3.218,3.044,3.306,1.309,1.463,1.19,6.0,5.859,6.143,4.919,4.909,5.048,5.998,5.993,6.048,1.219,1.308,1.249,3.211,3.458,3.187,4.446,4.258,4.172,3.209,3.284,2.88,2.29,1.96,2.059,4.793,4.767,4.958,1.089,1.102,1.02,6.493,5.989,5.998,1.207,1.063,1.184,5.287,4.886,4.949,1.97,2.188,2.048,3.209,3.138,3.406,5.783,6.108,5.898,2.413,2.199,2.28,4.988,4.964,5.069,1.523,1.238,1.369,4.088,3.898,3.859,2.868,2.898,3.092,4.332,4.089,3.988,4.106,3.838,4.188,2.298,1.898,2.183,1.289,1.389,1.208,2.089,2.008,2.133,5.336,5.599,5.579,1.196,1.36,1.198,2.098,1.983,2.207,5.972,5.666,5.869,3.292,3.088,3.088,1.139,1.098,1.231,5.097,4.964,4.787,1.268,1.061,1.279,4.463,4.066,3.676,2.947,3.278,3.298,5.744,5.826,6.173,3.276,3.127,3.326,6.168,6.75,6.096,2.381,2.442,2.075,4.153,4.088,4.304,2.992,3.31,3.338,4.24,4.979,4.612,6.888,6.32,6.549,4.877,4.938,5.168,2.015,2.372,2.625,4.083,4.143,4.252,5.198,5.624,5.274],\"xaxis\":\"x\",\"y\":[34.6,31.9,31.9,44.6,37.5,40.1,23.5,22.6,25.4,63.9,61.7,76.3,8.4,8.3,9.5,50.6,43.6,41.7,12.7,9.1,11.4,77.5,68.5,67.5,55.4,46.3,48.5,8.8,12.5,10.7,14.8,15.7,17.0,38.1,37.9,38.4,36.5,36.1,35.5,51.6,46.4,47.1,39.6,39.7,37.1,35.1,33.7,31.7,3.6,5.3,5.2,23.7,24.5,25.5,15.4,14.6,16.7,71.1,81.5,89.2,25.1,22.6,22.4,61.6,70.5,67.1,49.2,47.6,44.6,21.5,25.1,26.6,15.4,14.7,15.1,8.9,11.0,7.2,71.5,75.2,64.3,69.0,65.4,54.4,30.7,32.1,31.4,51.1,55.5,50.7,13.6,13.2,13.6,66.7,74.1,69.5,7.1,7.7,4.2,34.2,37.6,29.3,52.7,43.2,46.6,51.5,55.3,56.7,34.1,36.3,30.1,42.5,46.7,44.0,44.4,47.2,45.1,20.9,25.5,26.1,28.0,31.0,27.2,10.6,11.5,10.5,25.7,21.5,22.2,55.9,50.5,51.7,39.1,37.9,35.6,34.1,37.3,36.5,25.9,27.3,24.1,7.1,9.1,7.7,65.5,73.3,77.3,51.4,54.9,52.6,44.7,50.7,47.5,5.5,8.1,6.7,22.4,26.2,22.2,37.7,33.6,33.6,31.4,33.5,34.4,13.8,14.3,15.6,37.1,36.4,40.5,10.7,10.7,9.2,56.7,57.7,60.7,11.2,11.1,11.0,35.3,33.5,28.9,24.6,17.5,15.2,26.7,30.2,28.1,44.5,46.1,44.7,15.5,16.5,17.8,45.1,54.5,50.1,7.0,7.4,8.4,34.6,35.7,33.7,33.3,31.1,32.7,39.5,41.5,32.6,35.9,34.2,36.6,14.4,15.7,19.7,7.9,9.3,10.0,13.5,14.5,16.0,55.5,65.1,54.5,6.2,7.4,6.2,18.7,15.2,17.1,47.9,45.7,51.5,22.3,21.1,23.5,11.4,10.3,10.5,59.0,59.1,55.3,9.7,7.6,6.6,49.6,57.7,55.4,42.7,39.5,43.1,71.5,82.3,77.2,35.3,42.8,44.3,51.9,55.7,48.7,17.7,21.6,15.7,25.3,30.6,25.2,16.0,14.7,22.7,42.5,64.5,57.7,82.0,70.1,71.3,30.4,30.7,31.1,21.2,25.4,29.6,25.3,24.7,25.1,31.4,32.8,31.1],\"yaxis\":\"y\",\"type\":\"scatter\"},{\"hovertemplate\":\"Person=2\\u003cbr\\u003ePinch=%{x}\\u003cbr\\u003ePull=%{y}\\u003cextra\\u003e\\u003c\\u002fextra\\u003e\",\"legendgroup\":\"2\",\"marker\":{\"color\":\"#EF553B\",\"symbol\":\"circle\"},\"mode\":\"markers\",\"name\":\"2\",\"orientation\":\"v\",\"showlegend\":true,\"x\":[4.088,4.088,4.086,1.099,1.319,1.198,3.124,2.808,3.077,4.888,5.356,4.838,4.483,4.088,4.528,5.233,5.382,5.1,3.938,3.298,3.238,5.587,5.055,4.991,5.898,5.899,5.881,1.176,1.292,1.044,3.121,3.289,2.966,4.104,4.18,4.453,4.212,4.349,3.792,6.039,7.126,6.407,2.597,2.419,2.058,6.683,6.046,5.699,2.129,2.179,1.952,3.762,3.399,3.316,1.198,1.098,1.303,2.342,2.078,2.217,1.098,1.054,1.141,2.061,2.078,1.983,5.738,5.692,6.088,4.989,4.294,4.288,4.158,4.389,4.388,5.309,5.069,5.22,6.498,6.602,6.225,7.243,7.389,6.914,3.915,4.057,3.99,6.033,5.337,4.987,1.157,1.073,1.097,2.288,2.234,2.169,5.587,5.934,7.216,4.766,3.788,4.012,3.546,3.148,2.798,5.928,6.093,5.843,3.564,3.055,4.039,1.034,1.037,1.019,2.098,2.048,2.033,2.006,2.088,2.023,1.082,1.093,0.979,2.096,2.015,2.022,3.08,3.1,3.098,3.218,3.363,3.388,1.085,1.053,0.947,4.149,4.162,4.449,5.581,5.039,4.893,5.29,5.038,5.275,2.194,2.199,2.065,3.22,3.214,3.215,2.351,2.096,2.206,4.387,4.095,4.247,2.218,2.138,2.079,3.247,3.152,3.253,4.997,4.589,5.384,1.042,1.221,1.033,6.087,6.636,5.872,1.149,0.989,1.059,4.496,4.491,4.019,3.648,3.189,3.573,6.685,6.172,6.276,6.935,6.741,6.158,3.988,4.123,4.333,5.061,5.191,5.094,2.178,2.089,2.183,5.267,5.326,5.636,1.038,1.0,1.192,1.033,1.082,1.048,4.109,3.899,4.251,5.189,5.086,5.098,5.999,5.966,6.031,3.098,2.892,3.21,3.048,2.888,2.688,2.208,2.098,2.08,4.282,4.094,3.899,3.322,3.092,3.298,6.558,6.199,6.343,4.888,4.979,5.217,5.998,6.203,6.387,2.041,2.22,2.212,1.147,1.115,1.279,0.988,1.219,0.972,2.077,1.992,2.164,2.217,2.187,1.898,3.077,3.161,3.186,4.06,3.962,4.099,4.28,4.335,4.388,1.359,1.1,1.081,4.996,4.988,4.979,5.978,6.124,6.493,1.311,1.218,1.446,3.103,3.155,3.048,6.028,6.484,6.203,5.026,4.899,5.306,4.288,3.91,4.38,5.117,5.098,4.878],\"xaxis\":\"x\",\"y\":[41.1,44.5,45.7,7.2,9.5,8.5,30.6,26.1,27.5,45.1,49.1,44.2,40.5,38.7,42.7,41.5,42.5,44.5,35.5,26.4,27.1,51.7,39.1,47.0,56.5,52.6,49.6,5.7,7.4,6.5,29.4,33.8,23.6,42.5,43.7,46.5,46.2,56.5,47.5,74.0,83.3,75.1,24.2,25.1,19.6,51.1,53.3,46.5,19.4,21.1,18.7,45.3,46.6,35.4,6.1,5.3,9.1,17.0,12.5,18.0,7.5,5.1,8.5,13.9,15.0,12.2,54.1,61.1,64.3,45.7,29.0,34.0,36.4,42.8,46.3,36.2,45.7,47.6,52.7,55.7,47.6,70.7,75.4,66.3,35.4,37.4,35.7,61.8,47.3,46.6,6.2,5.4,4.9,14.2,14.2,15.1,59.3,54.1,64.7,49.3,30.5,35.5,26.6,24.5,19.2,52.2,45.2,46.0,27.4,26.6,44.6,4.4,3.2,7.1,16.7,14.2,16.4,17.2,16.5,17.2,5.4,8.3,6.2,15.5,16.3,15.7,25.7,26.1,25.4,24.4,24.8,31.8,2.5,5.7,5.7,23.5,27.2,31.1,48.1,35.4,35.5,35.5,28.3,33.7,8.9,14.4,13.5,22.1,28.2,29.4,10.4,6.6,12.2,30.1,33.5,34.9,17.7,15.3,17.1,19.0,19.2,26.1,44.7,41.1,51.0,5.1,7.1,6.4,53.2,57.4,54.6,3.3,3.2,3.2,35.7,42.5,37.1,37.4,29.7,35.2,61.2,59.6,67.4,52.5,57.2,47.9,34.0,25.4,25.9,42.2,35.2,32.2,12.2,19.6,20.0,35.1,33.5,31.2,3.7,5.7,7.5,1.5,2.7,5.8,24.2,20.5,25.2,30.9,30.3,28.7,32.3,39.2,31.7,15.7,15.5,17.7,22.7,16.8,22.5,11.1,9.4,12.7,37.0,34.5,41.6,29.4,22.3,27.3,46.1,36.7,37.2,31.9,35.4,39.6,50.9,57.3,57.7,14.0,17.4,22.2,4.7,2.4,5.1,3.1,5.0,5.7,13.6,15.3,17.4,8.9,8.1,9.4,9.7,16.5,14.4,27.4,25.1,29.2,27.7,28.6,27.1,3.5,2.5,2.2,31.2,25.2,23.4,43.1,41.2,46.7,7.6,3.4,7.5,24.1,21.4,22.7,57.5,64.1,63.1,49.5,45.1,45.0,27.1,23.6,24.4,51.2,45.3,45.4],\"yaxis\":\"y\",\"type\":\"scatter\"}],                        {\"template\":{\"data\":{\"histogram2dcontour\":[{\"type\":\"histogram2dcontour\",\"colorbar\":{\"outlinewidth\":0,\"ticks\":\"\"},\"colorscale\":[[0.0,\"#0d0887\"],[0.1111111111111111,\"#46039f\"],[0.2222222222222222,\"#7201a8\"],[0.3333333333333333,\"#9c179e\"],[0.4444444444444444,\"#bd3786\"],[0.5555555555555556,\"#d8576b\"],[0.6666666666666666,\"#ed7953\"],[0.7777777777777778,\"#fb9f3a\"],[0.8888888888888888,\"#fdca26\"],[1.0,\"#f0f921\"]]}],\"choropleth\":[{\"type\":\"choropleth\",\"colorbar\":{\"outlinewidth\":0,\"ticks\":\"\"}}],\"histogram2d\":[{\"type\":\"histogram2d\",\"colorbar\":{\"outlinewidth\":0,\"ticks\":\"\"},\"colorscale\":[[0.0,\"#0d0887\"],[0.1111111111111111,\"#46039f\"],[0.2222222222222222,\"#7201a8\"],[0.3333333333333333,\"#9c179e\"],[0.4444444444444444,\"#bd3786\"],[0.5555555555555556,\"#d8576b\"],[0.6666666666666666,\"#ed7953\"],[0.7777777777777778,\"#fb9f3a\"],[0.8888888888888888,\"#fdca26\"],[1.0,\"#f0f921\"]]}],\"heatmap\":[{\"type\":\"heatmap\",\"colorbar\":{\"outlinewidth\":0,\"ticks\":\"\"},\"colorscale\":[[0.0,\"#0d0887\"],[0.1111111111111111,\"#46039f\"],[0.2222222222222222,\"#7201a8\"],[0.3333333333333333,\"#9c179e\"],[0.4444444444444444,\"#bd3786\"],[0.5555555555555556,\"#d8576b\"],[0.6666666666666666,\"#ed7953\"],[0.7777777777777778,\"#fb9f3a\"],[0.8888888888888888,\"#fdca26\"],[1.0,\"#f0f921\"]]}],\"heatmapgl\":[{\"type\":\"heatmapgl\",\"colorbar\":{\"outlinewidth\":0,\"ticks\":\"\"},\"colorscale\":[[0.0,\"#0d0887\"],[0.1111111111111111,\"#46039f\"],[0.2222222222222222,\"#7201a8\"],[0.3333333333333333,\"#9c179e\"],[0.4444444444444444,\"#bd3786\"],[0.5555555555555556,\"#d8576b\"],[0.6666666666666666,\"#ed7953\"],[0.7777777777777778,\"#fb9f3a\"],[0.8888888888888888,\"#fdca26\"],[1.0,\"#f0f921\"]]}],\"contourcarpet\":[{\"type\":\"contourcarpet\",\"colorbar\":{\"outlinewidth\":0,\"ticks\":\"\"}}],\"contour\":[{\"type\":\"contour\",\"colorbar\":{\"outlinewidth\":0,\"ticks\":\"\"},\"colorscale\":[[0.0,\"#0d0887\"],[0.1111111111111111,\"#46039f\"],[0.2222222222222222,\"#7201a8\"],[0.3333333333333333,\"#9c179e\"],[0.4444444444444444,\"#bd3786\"],[0.5555555555555556,\"#d8576b\"],[0.6666666666666666,\"#ed7953\"],[0.7777777777777778,\"#fb9f3a\"],[0.8888888888888888,\"#fdca26\"],[1.0,\"#f0f921\"]]}],\"surface\":[{\"type\":\"surface\",\"colorbar\":{\"outlinewidth\":0,\"ticks\":\"\"},\"colorscale\":[[0.0,\"#0d0887\"],[0.1111111111111111,\"#46039f\"],[0.2222222222222222,\"#7201a8\"],[0.3333333333333333,\"#9c179e\"],[0.4444444444444444,\"#bd3786\"],[0.5555555555555556,\"#d8576b\"],[0.6666666666666666,\"#ed7953\"],[0.7777777777777778,\"#fb9f3a\"],[0.8888888888888888,\"#fdca26\"],[1.0,\"#f0f921\"]]}],\"mesh3d\":[{\"type\":\"mesh3d\",\"colorbar\":{\"outlinewidth\":0,\"ticks\":\"\"}}],\"scatter\":[{\"fillpattern\":{\"fillmode\":\"overlay\",\"size\":10,\"solidity\":0.2},\"type\":\"scatter\"}],\"parcoords\":[{\"type\":\"parcoords\",\"line\":{\"colorbar\":{\"outlinewidth\":0,\"ticks\":\"\"}}}],\"scatterpolargl\":[{\"type\":\"scatterpolargl\",\"marker\":{\"colorbar\":{\"outlinewidth\":0,\"ticks\":\"\"}}}],\"bar\":[{\"error_x\":{\"color\":\"#2a3f5f\"},\"error_y\":{\"color\":\"#2a3f5f\"},\"marker\":{\"line\":{\"color\":\"#E5ECF6\",\"width\":0.5},\"pattern\":{\"fillmode\":\"overlay\",\"size\":10,\"solidity\":0.2}},\"type\":\"bar\"}],\"scattergeo\":[{\"type\":\"scattergeo\",\"marker\":{\"colorbar\":{\"outlinewidth\":0,\"ticks\":\"\"}}}],\"scatterpolar\":[{\"type\":\"scatterpolar\",\"marker\":{\"colorbar\":{\"outlinewidth\":0,\"ticks\":\"\"}}}],\"histogram\":[{\"marker\":{\"pattern\":{\"fillmode\":\"overlay\",\"size\":10,\"solidity\":0.2}},\"type\":\"histogram\"}],\"scattergl\":[{\"type\":\"scattergl\",\"marker\":{\"colorbar\":{\"outlinewidth\":0,\"ticks\":\"\"}}}],\"scatter3d\":[{\"type\":\"scatter3d\",\"line\":{\"colorbar\":{\"outlinewidth\":0,\"ticks\":\"\"}},\"marker\":{\"colorbar\":{\"outlinewidth\":0,\"ticks\":\"\"}}}],\"scattermapbox\":[{\"type\":\"scattermapbox\",\"marker\":{\"colorbar\":{\"outlinewidth\":0,\"ticks\":\"\"}}}],\"scatterternary\":[{\"type\":\"scatterternary\",\"marker\":{\"colorbar\":{\"outlinewidth\":0,\"ticks\":\"\"}}}],\"scattercarpet\":[{\"type\":\"scattercarpet\",\"marker\":{\"colorbar\":{\"outlinewidth\":0,\"ticks\":\"\"}}}],\"carpet\":[{\"aaxis\":{\"endlinecolor\":\"#2a3f5f\",\"gridcolor\":\"white\",\"linecolor\":\"white\",\"minorgridcolor\":\"white\",\"startlinecolor\":\"#2a3f5f\"},\"baxis\":{\"endlinecolor\":\"#2a3f5f\",\"gridcolor\":\"white\",\"linecolor\":\"white\",\"minorgridcolor\":\"white\",\"startlinecolor\":\"#2a3f5f\"},\"type\":\"carpet\"}],\"table\":[{\"cells\":{\"fill\":{\"color\":\"#EBF0F8\"},\"line\":{\"color\":\"white\"}},\"header\":{\"fill\":{\"color\":\"#C8D4E3\"},\"line\":{\"color\":\"white\"}},\"type\":\"table\"}],\"barpolar\":[{\"marker\":{\"line\":{\"color\":\"#E5ECF6\",\"width\":0.5},\"pattern\":{\"fillmode\":\"overlay\",\"size\":10,\"solidity\":0.2}},\"type\":\"barpolar\"}],\"pie\":[{\"automargin\":true,\"type\":\"pie\"}]},\"layout\":{\"autotypenumbers\":\"strict\",\"colorway\":[\"#636efa\",\"#EF553B\",\"#00cc96\",\"#ab63fa\",\"#FFA15A\",\"#19d3f3\",\"#FF6692\",\"#B6E880\",\"#FF97FF\",\"#FECB52\"],\"font\":{\"color\":\"#2a3f5f\"},\"hovermode\":\"closest\",\"hoverlabel\":{\"align\":\"left\"},\"paper_bgcolor\":\"white\",\"plot_bgcolor\":\"#E5ECF6\",\"polar\":{\"bgcolor\":\"#E5ECF6\",\"angularaxis\":{\"gridcolor\":\"white\",\"linecolor\":\"white\",\"ticks\":\"\"},\"radialaxis\":{\"gridcolor\":\"white\",\"linecolor\":\"white\",\"ticks\":\"\"}},\"ternary\":{\"bgcolor\":\"#E5ECF6\",\"aaxis\":{\"gridcolor\":\"white\",\"linecolor\":\"white\",\"ticks\":\"\"},\"baxis\":{\"gridcolor\":\"white\",\"linecolor\":\"white\",\"ticks\":\"\"},\"caxis\":{\"gridcolor\":\"white\",\"linecolor\":\"white\",\"ticks\":\"\"}},\"coloraxis\":{\"colorbar\":{\"outlinewidth\":0,\"ticks\":\"\"}},\"colorscale\":{\"sequential\":[[0.0,\"#0d0887\"],[0.1111111111111111,\"#46039f\"],[0.2222222222222222,\"#7201a8\"],[0.3333333333333333,\"#9c179e\"],[0.4444444444444444,\"#bd3786\"],[0.5555555555555556,\"#d8576b\"],[0.6666666666666666,\"#ed7953\"],[0.7777777777777778,\"#fb9f3a\"],[0.8888888888888888,\"#fdca26\"],[1.0,\"#f0f921\"]],\"sequentialminus\":[[0.0,\"#0d0887\"],[0.1111111111111111,\"#46039f\"],[0.2222222222222222,\"#7201a8\"],[0.3333333333333333,\"#9c179e\"],[0.4444444444444444,\"#bd3786\"],[0.5555555555555556,\"#d8576b\"],[0.6666666666666666,\"#ed7953\"],[0.7777777777777778,\"#fb9f3a\"],[0.8888888888888888,\"#fdca26\"],[1.0,\"#f0f921\"]],\"diverging\":[[0,\"#8e0152\"],[0.1,\"#c51b7d\"],[0.2,\"#de77ae\"],[0.3,\"#f1b6da\"],[0.4,\"#fde0ef\"],[0.5,\"#f7f7f7\"],[0.6,\"#e6f5d0\"],[0.7,\"#b8e186\"],[0.8,\"#7fbc41\"],[0.9,\"#4d9221\"],[1,\"#276419\"]]},\"xaxis\":{\"gridcolor\":\"white\",\"linecolor\":\"white\",\"ticks\":\"\",\"title\":{\"standoff\":15},\"zerolinecolor\":\"white\",\"automargin\":true,\"zerolinewidth\":2},\"yaxis\":{\"gridcolor\":\"white\",\"linecolor\":\"white\",\"ticks\":\"\",\"title\":{\"standoff\":15},\"zerolinecolor\":\"white\",\"automargin\":true,\"zerolinewidth\":2},\"scene\":{\"xaxis\":{\"backgroundcolor\":\"#E5ECF6\",\"gridcolor\":\"white\",\"linecolor\":\"white\",\"showbackground\":true,\"ticks\":\"\",\"zerolinecolor\":\"white\",\"gridwidth\":2},\"yaxis\":{\"backgroundcolor\":\"#E5ECF6\",\"gridcolor\":\"white\",\"linecolor\":\"white\",\"showbackground\":true,\"ticks\":\"\",\"zerolinecolor\":\"white\",\"gridwidth\":2},\"zaxis\":{\"backgroundcolor\":\"#E5ECF6\",\"gridcolor\":\"white\",\"linecolor\":\"white\",\"showbackground\":true,\"ticks\":\"\",\"zerolinecolor\":\"white\",\"gridwidth\":2}},\"shapedefaults\":{\"line\":{\"color\":\"#2a3f5f\"}},\"annotationdefaults\":{\"arrowcolor\":\"#2a3f5f\",\"arrowhead\":0,\"arrowwidth\":1},\"geo\":{\"bgcolor\":\"white\",\"landcolor\":\"#E5ECF6\",\"subunitcolor\":\"white\",\"showland\":true,\"showlakes\":true,\"lakecolor\":\"white\"},\"title\":{\"x\":0.05},\"mapbox\":{\"style\":\"light\"}}},\"xaxis\":{\"anchor\":\"y\",\"domain\":[0.0,1.0],\"title\":{\"text\":\"Pinch\"}},\"yaxis\":{\"anchor\":\"x\",\"domain\":[0.0,1.0],\"title\":{\"text\":\"Pull\"}},\"legend\":{\"title\":{\"text\":\"Person\"},\"tracegroupgap\":0},\"title\":{\"text\":\"Kilograms Pulled by pinch Strength\\u003cbr\\u003e\\u003csup\\u003eby Jerry Yu\\u003c\\u002fsub\\u003e\",\"x\":0.5,\"xanchor\":\"center\",\"yanchor\":\"top\"}},                        {\"responsive\": true}                    ).then(function(){\n",
       "                            \n",
       "var gd = document.getElementById('dd712a50-e43b-4fda-a152-9e0b75cf4725');\n",
       "var x = new MutationObserver(function (mutations, observer) {{\n",
       "        var display = window.getComputedStyle(gd).display;\n",
       "        if (!display || display === 'none') {{\n",
       "            console.log([gd, 'removed!']);\n",
       "            Plotly.purge(gd);\n",
       "            observer.disconnect();\n",
       "        }}\n",
       "}});\n",
       "\n",
       "// Listen for the removal of the full notebook cells\n",
       "var notebookContainer = gd.closest('#notebook-container');\n",
       "if (notebookContainer) {{\n",
       "    x.observe(notebookContainer, {childList: true});\n",
       "}}\n",
       "\n",
       "// Listen for the clearing of the current output cell\n",
       "var outputEl = gd.closest('.output');\n",
       "if (outputEl) {{\n",
       "    x.observe(outputEl, {childList: true});\n",
       "}}\n",
       "\n",
       "                        })                };                });            </script>        </div>"
      ]
     },
     "metadata": {},
     "output_type": "display_data"
    }
   ],
   "source": [
    "# Person\n",
    "byPerson = px.scatter(Chalk, x = \"Pinch\", y = \"Pull\", color = \"Person\", title = \"Kilograms Pulled by pinch Strength\")\n",
    "byPerson.update_layout(\n",
    "    title = {\n",
    "        \"text\":\"Kilograms Pulled by pinch Strength<br><sup>by Jerry Yu</sub>\",\n",
    "        \"x\":0.5,\n",
    "        \"xanchor\":\"center\",\n",
    "        \"yanchor\":\"top\"\n",
    "    }\n",
    ")\n",
    "byPerson.show()\n",
    "\n",
    "# Clear Difference by person, as expected"
   ]
  },
  {
   "cell_type": "code",
   "execution_count": 10,
   "metadata": {},
   "outputs": [
    {
     "data": {
      "text/html": [
       "<div>                            <div id=\"cec13f99-c55b-4e5b-b879-dff4b300bd6b\" class=\"plotly-graph-div\" style=\"height:525px; width:100%;\"></div>            <script type=\"text/javascript\">                require([\"plotly\"], function(Plotly) {                    window.PLOTLYENV=window.PLOTLYENV || {};                                    if (document.getElementById(\"cec13f99-c55b-4e5b-b879-dff4b300bd6b\")) {                    Plotly.newPlot(                        \"cec13f99-c55b-4e5b-b879-dff4b300bd6b\",                        [{\"hovertemplate\":\"Pinch=%{x}\\u003cbr\\u003ePull=%{y}\\u003cbr\\u003ePinch_Order=%{marker.color}\\u003cextra\\u003e\\u003c\\u002fextra\\u003e\",\"legendgroup\":\"\",\"marker\":{\"color\":[1.0,2.0,3.0,1.0,2.0,3.0,1.0,2.0,3.0,1.0,2.0,3.0,1.0,2.0,3.0,1.0,2.0,3.0,1.0,2.0,3.0,1.0,2.0,3.0,1.0,2.0,3.0,1.0,2.0,3.0,1.0,2.0,3.0,1.0,2.0,3.0,1.0,2.0,3.0,1.0,2.0,3.0,1.0,2.0,3.0,1.0,2.0,3.0,1.0,2.0,3.0,1.0,2.0,3.0,1.0,2.0,3.0,1.0,2.0,3.0,1.0,2.0,3.0,1.0,2.0,3.0,1.0,2.0,3.0,1.0,2.0,3.0,1.0,2.0,3.0,1.0,2.0,3.0,1.0,2.0,3.0,1.0,2.0,3.0,1.0,2.0,3.0,1.0,2.0,3.0,1.0,2.0,3.0,1.0,2.0,3.0,1.0,2.0,3.0,1.0,2.0,3.0,1.0,2.0,3.0,1.0,2.0,3.0,1.0,2.0,3.0,1.0,2.0,3.0,1.0,2.0,3.0,1.0,2.0,3.0,1.0,2.0,3.0,1.0,2.0,3.0,1.0,2.0,3.0,1.0,2.0,3.0,1.0,2.0,3.0,1.0,2.0,3.0,1.0,2.0,3.0,1.0,2.0,3.0,1.0,2.0,3.0,1.0,2.0,3.0,1.0,2.0,3.0,1.0,2.0,3.0,1.0,2.0,3.0,1.0,2.0,3.0,1.0,2.0,3.0,1.0,2.0,3.0,1.0,2.0,3.0,1.0,2.0,3.0,1.0,2.0,3.0,1.0,2.0,3.0,1.0,2.0,3.0,1.0,2.0,3.0,1.0,2.0,3.0,1.0,2.0,3.0,1.0,2.0,3.0,1.0,2.0,3.0,1.0,2.0,3.0,1.0,2.0,3.0,1.0,2.0,3.0,1.0,2.0,3.0,1.0,2.0,3.0,1.0,2.0,3.0,1.0,2.0,3.0,1.0,2.0,3.0,1.0,2.0,3.0,1.0,2.0,3.0,1.0,2.0,3.0,1.0,2.0,3.0,1.0,2.0,3.0,1.0,2.0,3.0,1.0,2.0,3.0,1.0,2.0,3.0,1.0,2.0,3.0,1.0,2.0,3.0,1.0,2.0,3.0,1.0,2.0,3.0,1.0,2.0,3.0,1.0,2.0,3.0,1.0,2.0,3.0,1.0,2.0,3.0,1.0,2.0,3.0,1.0,2.0,3.0,1.0,2.0,3.0,1.0,2.0,3.0,1.0,2.0,3.0,1.0,2.0,3.0,1.0,2.0,3.0,1.0,2.0,3.0,1.0,2.0,3.0,1.0,2.0,3.0,1.0,2.0,3.0,1.0,2.0,3.0,1.0,2.0,3.0,1.0,2.0,3.0,1.0,2.0,3.0,1.0,2.0,3.0,1.0,2.0,3.0,1.0,2.0,3.0,1.0,2.0,3.0,1.0,2.0,3.0,1.0,2.0,3.0,1.0,2.0,3.0,1.0,2.0,3.0,1.0,2.0,3.0,1.0,2.0,3.0,1.0,2.0,3.0,1.0,2.0,3.0,1.0,2.0,3.0,1.0,2.0,3.0,1.0,2.0,3.0,1.0,2.0,3.0,1.0,2.0,3.0,1.0,2.0,3.0,1.0,2.0,3.0,1.0,2.0,3.0,1.0,2.0,3.0,1.0,2.0,3.0,1.0,2.0,3.0,1.0,2.0,3.0,1.0,2.0,3.0,1.0,2.0,3.0,1.0,2.0,3.0,1.0,2.0,3.0,1.0,2.0,3.0,1.0,2.0,3.0,1.0,2.0,3.0,1.0,2.0,3.0,1.0,2.0,3.0,1.0,2.0,3.0,1.0,2.0,3.0,1.0,2.0,3.0,1.0,2.0,3.0,1.0,2.0,3.0,1.0,2.0,3.0,1.0,2.0,3.0,1.0,2.0,3.0,1.0,2.0,3.0,1.0,2.0,3.0,1.0,2.0,3.0,1.0,2.0,3.0,1.0,2.0,3.0,1.0,2.0,3.0,1.0,2.0,3.0,1.0,2.0,3.0,1.0,2.0,3.0,1.0,2.0,3.0,1.0,2.0,3.0,1.0,2.0,3.0,1.0,2.0,3.0,1.0,2.0,3.0,1.0,2.0,3.0,1.0,2.0,3.0,1.0,2.0,3.0,1.0,2.0,3.0,1.0,2.0,3.0,1.0,2.0,3.0,1.0,2.0,3.0,1.0,2.0,3.0,1.0,2.0,3.0,1.0,2.0,3.0,1.0,2.0,3.0,1.0,2.0,3.0,1.0,2.0,3.0,1.0,2.0,3.0,1.0,2.0,3.0,1.0,2.0,3.0,1.0,2.0,3.0,1.0,2.0,3.0,1.0,2.0,3.0,1.0,2.0,3.0,1.0,2.0,3.0,1.0,2.0,3.0,1.0,2.0,3.0,1.0,2.0,3.0,1.0,2.0,3.0,1.0,2.0,3.0,1.0,2.0,3.0,1.0,2.0,3.0,1.0,2.0,3.0,1.0,2.0,3.0,1.0,2.0,3.0,1.0,2.0,3.0],\"coloraxis\":\"coloraxis\",\"symbol\":\"circle\"},\"mode\":\"markers\",\"name\":\"\",\"orientation\":\"v\",\"showlegend\":false,\"x\":[4.202,4.117,4.154,4.088,4.088,4.086,1.099,1.319,1.198,3.124,2.808,3.077,4.088,4.223,4.125,4.888,5.356,4.838,2.086,2.054,2.08,5.989,6.064,5.883,4.483,4.088,4.528,5.233,5.382,5.1,1.284,1.322,1.408,3.938,3.298,3.238,5.105,5.372,5.201,5.587,5.055,4.991,5.898,5.899,5.881,1.176,1.292,1.044,3.121,3.289,2.966,4.104,4.18,4.453,4.212,4.349,3.792,1.167,1.018,1.018,6.039,7.126,6.407,5.492,5.703,5.342,6.309,5.813,6.138,1.093,1.188,1.036,2.597,2.419,2.058,1.949,1.908,2.209,3.36,3.326,2.999,3.886,4.549,4.078,5.96,5.5,6.198,5.289,5.472,5.066,3.129,2.847,3.072,6.683,6.046,5.699,1.275,1.135,1.288,2.188,1.998,1.997,2.129,2.179,1.952,3.762,3.399,3.316,2.347,2.129,2.104,6.221,6.262,6.878,3.572,3.189,3.258,5.061,5.334,4.947,1.198,1.098,1.303,4.047,4.096,4.116,2.998,3.089,3.088,2.342,2.078,2.217,1.098,1.054,1.141,2.061,2.078,1.983,5.738,5.692,6.088,4.989,4.294,4.288,2.198,2.101,2.192,4.158,4.389,4.388,1.002,0.938,1.088,5.309,5.069,5.22,6.007,6.038,6.308,5.16,4.887,5.108,3.053,2.83,2.899,6.498,6.602,6.225,6.398,5.969,5.608,7.243,7.389,6.914,2.098,2.198,2.278,6.091,5.988,6.074,1.278,1.238,1.068,3.946,4.473,3.938,3.915,4.057,3.99,4.304,4.239,4.224,6.033,5.337,4.987,1.157,1.073,1.097,2.288,2.234,2.169,4.889,4.582,4.718,2.829,3.138,3.191,5.587,5.934,7.216,4.766,3.788,4.012,3.546,3.148,2.798,5.928,6.093,5.843,3.564,3.055,4.039,1.034,1.037,1.019,2.098,2.048,2.033,3.638,3.889,3.762,5.492,5.447,5.139,2.006,2.088,2.023,1.988,2.049,2.114,1.082,1.093,0.979,4.072,4.208,4.196,2.096,2.015,2.022,3.08,3.1,3.098,3.218,3.363,3.388,1.085,1.053,0.947,1.217,1.1,1.176,4.149,4.162,4.449,2.139,2.022,2.019,6.309,6.009,6.087,5.66,5.291,4.898,3.013,3.176,3.315,3.218,3.044,3.306,5.581,5.039,4.893,1.309,1.463,1.19,5.29,5.038,5.275,6.0,5.859,6.143,4.919,4.909,5.048,2.194,2.199,2.065,3.22,3.214,3.215,2.351,2.096,2.206,4.387,4.095,4.247,2.218,2.138,2.079,3.247,3.152,3.253,5.998,5.993,6.048,4.997,4.589,5.384,1.219,1.308,1.249,3.211,3.458,3.187,4.446,4.258,4.172,3.209,3.284,2.88,1.042,1.221,1.033,2.29,1.96,2.059,4.793,4.767,4.958,6.087,6.636,5.872,1.149,0.989,1.059,4.496,4.491,4.019,3.648,3.189,3.573,1.089,1.102,1.02,6.493,5.989,5.998,6.685,6.172,6.276,1.207,1.063,1.184,5.287,4.886,4.949,6.935,6.741,6.158,3.988,4.123,4.333,5.061,5.191,5.094,2.178,2.089,2.183,1.97,2.188,2.048,5.267,5.326,5.636,1.038,1.0,1.192,3.209,3.138,3.406,5.783,6.108,5.898,2.413,2.199,2.28,1.033,1.082,1.048,4.109,3.899,4.251,4.988,4.964,5.069,1.523,1.238,1.369,5.189,5.086,5.098,4.088,3.898,3.859,2.868,2.898,3.092,5.999,5.966,6.031,4.332,4.089,3.988,3.098,2.892,3.21,4.106,3.838,4.188,2.298,1.898,2.183,3.048,2.888,2.688,1.289,1.389,1.208,2.089,2.008,2.133,5.336,5.599,5.579,2.208,2.098,2.08,4.282,4.094,3.899,3.322,3.092,3.298,6.558,6.199,6.343,1.196,1.36,1.198,4.888,4.979,5.217,2.098,1.983,2.207,5.998,6.203,6.387,5.972,5.666,5.869,2.041,2.22,2.212,3.292,3.088,3.088,1.139,1.098,1.231,1.147,1.115,1.279,0.988,1.219,0.972,5.097,4.964,4.787,1.268,1.061,1.279,2.077,1.992,2.164,2.217,2.187,1.898,4.463,4.066,3.676,3.077,3.161,3.186,4.06,3.962,4.099,4.28,4.335,4.388,2.947,3.278,3.298,5.744,5.826,6.173,3.276,3.127,3.326,6.168,6.75,6.096,1.359,1.1,1.081,2.381,2.442,2.075,4.996,4.988,4.979,5.978,6.124,6.493,1.311,1.218,1.446,4.153,4.088,4.304,2.992,3.31,3.338,3.103,3.155,3.048,4.24,4.979,4.612,6.888,6.32,6.549,6.028,6.484,6.203,4.877,4.938,5.168,5.026,4.899,5.306,2.015,2.372,2.625,4.083,4.143,4.252,4.288,3.91,4.38,5.117,5.098,4.878,5.198,5.624,5.274],\"xaxis\":\"x\",\"y\":[34.6,31.9,31.9,41.1,44.5,45.7,7.2,9.5,8.5,30.6,26.1,27.5,44.6,37.5,40.1,45.1,49.1,44.2,23.5,22.6,25.4,63.9,61.7,76.3,40.5,38.7,42.7,41.5,42.5,44.5,8.4,8.3,9.5,35.5,26.4,27.1,50.6,43.6,41.7,51.7,39.1,47.0,56.5,52.6,49.6,5.7,7.4,6.5,29.4,33.8,23.6,42.5,43.7,46.5,46.2,56.5,47.5,12.7,9.1,11.4,74.0,83.3,75.1,77.5,68.5,67.5,55.4,46.3,48.5,8.8,12.5,10.7,24.2,25.1,19.6,14.8,15.7,17.0,38.1,37.9,38.4,36.5,36.1,35.5,51.6,46.4,47.1,39.6,39.7,37.1,35.1,33.7,31.7,51.1,53.3,46.5,3.6,5.3,5.2,23.7,24.5,25.5,19.4,21.1,18.7,45.3,46.6,35.4,15.4,14.6,16.7,71.1,81.5,89.2,25.1,22.6,22.4,61.6,70.5,67.1,6.1,5.3,9.1,49.2,47.6,44.6,21.5,25.1,26.6,17.0,12.5,18.0,7.5,5.1,8.5,13.9,15.0,12.2,54.1,61.1,64.3,45.7,29.0,34.0,15.4,14.7,15.1,36.4,42.8,46.3,8.9,11.0,7.2,36.2,45.7,47.6,71.5,75.2,64.3,69.0,65.4,54.4,30.7,32.1,31.4,52.7,55.7,47.6,51.1,55.5,50.7,70.7,75.4,66.3,13.6,13.2,13.6,66.7,74.1,69.5,7.1,7.7,4.2,34.2,37.6,29.3,35.4,37.4,35.7,52.7,43.2,46.6,61.8,47.3,46.6,6.2,5.4,4.9,14.2,14.2,15.1,51.5,55.3,56.7,34.1,36.3,30.1,59.3,54.1,64.7,49.3,30.5,35.5,26.6,24.5,19.2,52.2,45.2,46.0,27.4,26.6,44.6,4.4,3.2,7.1,16.7,14.2,16.4,42.5,46.7,44.0,44.4,47.2,45.1,17.2,16.5,17.2,20.9,25.5,26.1,5.4,8.3,6.2,28.0,31.0,27.2,15.5,16.3,15.7,25.7,26.1,25.4,24.4,24.8,31.8,2.5,5.7,5.7,10.6,11.5,10.5,23.5,27.2,31.1,25.7,21.5,22.2,55.9,50.5,51.7,39.1,37.9,35.6,34.1,37.3,36.5,25.9,27.3,24.1,48.1,35.4,35.5,7.1,9.1,7.7,35.5,28.3,33.7,65.5,73.3,77.3,51.4,54.9,52.6,8.9,14.4,13.5,22.1,28.2,29.4,10.4,6.6,12.2,30.1,33.5,34.9,17.7,15.3,17.1,19.0,19.2,26.1,44.7,50.7,47.5,44.7,41.1,51.0,5.5,8.1,6.7,22.4,26.2,22.2,37.7,33.6,33.6,31.4,33.5,34.4,5.1,7.1,6.4,13.8,14.3,15.6,37.1,36.4,40.5,53.2,57.4,54.6,3.3,3.2,3.2,35.7,42.5,37.1,37.4,29.7,35.2,10.7,10.7,9.2,56.7,57.7,60.7,61.2,59.6,67.4,11.2,11.1,11.0,35.3,33.5,28.9,52.5,57.2,47.9,34.0,25.4,25.9,42.2,35.2,32.2,12.2,19.6,20.0,24.6,17.5,15.2,35.1,33.5,31.2,3.7,5.7,7.5,26.7,30.2,28.1,44.5,46.1,44.7,15.5,16.5,17.8,1.5,2.7,5.8,24.2,20.5,25.2,45.1,54.5,50.1,7.0,7.4,8.4,30.9,30.3,28.7,34.6,35.7,33.7,33.3,31.1,32.7,32.3,39.2,31.7,39.5,41.5,32.6,15.7,15.5,17.7,35.9,34.2,36.6,14.4,15.7,19.7,22.7,16.8,22.5,7.9,9.3,10.0,13.5,14.5,16.0,55.5,65.1,54.5,11.1,9.4,12.7,37.0,34.5,41.6,29.4,22.3,27.3,46.1,36.7,37.2,6.2,7.4,6.2,31.9,35.4,39.6,18.7,15.2,17.1,50.9,57.3,57.7,47.9,45.7,51.5,14.0,17.4,22.2,22.3,21.1,23.5,11.4,10.3,10.5,4.7,2.4,5.1,3.1,5.0,5.7,59.0,59.1,55.3,9.7,7.6,6.6,13.6,15.3,17.4,8.9,8.1,9.4,49.6,57.7,55.4,9.7,16.5,14.4,27.4,25.1,29.2,27.7,28.6,27.1,42.7,39.5,43.1,71.5,82.3,77.2,35.3,42.8,44.3,51.9,55.7,48.7,3.5,2.5,2.2,17.7,21.6,15.7,31.2,25.2,23.4,43.1,41.2,46.7,7.6,3.4,7.5,25.3,30.6,25.2,16.0,14.7,22.7,24.1,21.4,22.7,42.5,64.5,57.7,82.0,70.1,71.3,57.5,64.1,63.1,30.4,30.7,31.1,49.5,45.1,45.0,21.2,25.4,29.6,25.3,24.7,25.1,27.1,23.6,24.4,51.2,45.3,45.4,31.4,32.8,31.1],\"yaxis\":\"y\",\"type\":\"scatter\"}],                        {\"template\":{\"data\":{\"histogram2dcontour\":[{\"type\":\"histogram2dcontour\",\"colorbar\":{\"outlinewidth\":0,\"ticks\":\"\"},\"colorscale\":[[0.0,\"#0d0887\"],[0.1111111111111111,\"#46039f\"],[0.2222222222222222,\"#7201a8\"],[0.3333333333333333,\"#9c179e\"],[0.4444444444444444,\"#bd3786\"],[0.5555555555555556,\"#d8576b\"],[0.6666666666666666,\"#ed7953\"],[0.7777777777777778,\"#fb9f3a\"],[0.8888888888888888,\"#fdca26\"],[1.0,\"#f0f921\"]]}],\"choropleth\":[{\"type\":\"choropleth\",\"colorbar\":{\"outlinewidth\":0,\"ticks\":\"\"}}],\"histogram2d\":[{\"type\":\"histogram2d\",\"colorbar\":{\"outlinewidth\":0,\"ticks\":\"\"},\"colorscale\":[[0.0,\"#0d0887\"],[0.1111111111111111,\"#46039f\"],[0.2222222222222222,\"#7201a8\"],[0.3333333333333333,\"#9c179e\"],[0.4444444444444444,\"#bd3786\"],[0.5555555555555556,\"#d8576b\"],[0.6666666666666666,\"#ed7953\"],[0.7777777777777778,\"#fb9f3a\"],[0.8888888888888888,\"#fdca26\"],[1.0,\"#f0f921\"]]}],\"heatmap\":[{\"type\":\"heatmap\",\"colorbar\":{\"outlinewidth\":0,\"ticks\":\"\"},\"colorscale\":[[0.0,\"#0d0887\"],[0.1111111111111111,\"#46039f\"],[0.2222222222222222,\"#7201a8\"],[0.3333333333333333,\"#9c179e\"],[0.4444444444444444,\"#bd3786\"],[0.5555555555555556,\"#d8576b\"],[0.6666666666666666,\"#ed7953\"],[0.7777777777777778,\"#fb9f3a\"],[0.8888888888888888,\"#fdca26\"],[1.0,\"#f0f921\"]]}],\"heatmapgl\":[{\"type\":\"heatmapgl\",\"colorbar\":{\"outlinewidth\":0,\"ticks\":\"\"},\"colorscale\":[[0.0,\"#0d0887\"],[0.1111111111111111,\"#46039f\"],[0.2222222222222222,\"#7201a8\"],[0.3333333333333333,\"#9c179e\"],[0.4444444444444444,\"#bd3786\"],[0.5555555555555556,\"#d8576b\"],[0.6666666666666666,\"#ed7953\"],[0.7777777777777778,\"#fb9f3a\"],[0.8888888888888888,\"#fdca26\"],[1.0,\"#f0f921\"]]}],\"contourcarpet\":[{\"type\":\"contourcarpet\",\"colorbar\":{\"outlinewidth\":0,\"ticks\":\"\"}}],\"contour\":[{\"type\":\"contour\",\"colorbar\":{\"outlinewidth\":0,\"ticks\":\"\"},\"colorscale\":[[0.0,\"#0d0887\"],[0.1111111111111111,\"#46039f\"],[0.2222222222222222,\"#7201a8\"],[0.3333333333333333,\"#9c179e\"],[0.4444444444444444,\"#bd3786\"],[0.5555555555555556,\"#d8576b\"],[0.6666666666666666,\"#ed7953\"],[0.7777777777777778,\"#fb9f3a\"],[0.8888888888888888,\"#fdca26\"],[1.0,\"#f0f921\"]]}],\"surface\":[{\"type\":\"surface\",\"colorbar\":{\"outlinewidth\":0,\"ticks\":\"\"},\"colorscale\":[[0.0,\"#0d0887\"],[0.1111111111111111,\"#46039f\"],[0.2222222222222222,\"#7201a8\"],[0.3333333333333333,\"#9c179e\"],[0.4444444444444444,\"#bd3786\"],[0.5555555555555556,\"#d8576b\"],[0.6666666666666666,\"#ed7953\"],[0.7777777777777778,\"#fb9f3a\"],[0.8888888888888888,\"#fdca26\"],[1.0,\"#f0f921\"]]}],\"mesh3d\":[{\"type\":\"mesh3d\",\"colorbar\":{\"outlinewidth\":0,\"ticks\":\"\"}}],\"scatter\":[{\"fillpattern\":{\"fillmode\":\"overlay\",\"size\":10,\"solidity\":0.2},\"type\":\"scatter\"}],\"parcoords\":[{\"type\":\"parcoords\",\"line\":{\"colorbar\":{\"outlinewidth\":0,\"ticks\":\"\"}}}],\"scatterpolargl\":[{\"type\":\"scatterpolargl\",\"marker\":{\"colorbar\":{\"outlinewidth\":0,\"ticks\":\"\"}}}],\"bar\":[{\"error_x\":{\"color\":\"#2a3f5f\"},\"error_y\":{\"color\":\"#2a3f5f\"},\"marker\":{\"line\":{\"color\":\"#E5ECF6\",\"width\":0.5},\"pattern\":{\"fillmode\":\"overlay\",\"size\":10,\"solidity\":0.2}},\"type\":\"bar\"}],\"scattergeo\":[{\"type\":\"scattergeo\",\"marker\":{\"colorbar\":{\"outlinewidth\":0,\"ticks\":\"\"}}}],\"scatterpolar\":[{\"type\":\"scatterpolar\",\"marker\":{\"colorbar\":{\"outlinewidth\":0,\"ticks\":\"\"}}}],\"histogram\":[{\"marker\":{\"pattern\":{\"fillmode\":\"overlay\",\"size\":10,\"solidity\":0.2}},\"type\":\"histogram\"}],\"scattergl\":[{\"type\":\"scattergl\",\"marker\":{\"colorbar\":{\"outlinewidth\":0,\"ticks\":\"\"}}}],\"scatter3d\":[{\"type\":\"scatter3d\",\"line\":{\"colorbar\":{\"outlinewidth\":0,\"ticks\":\"\"}},\"marker\":{\"colorbar\":{\"outlinewidth\":0,\"ticks\":\"\"}}}],\"scattermapbox\":[{\"type\":\"scattermapbox\",\"marker\":{\"colorbar\":{\"outlinewidth\":0,\"ticks\":\"\"}}}],\"scatterternary\":[{\"type\":\"scatterternary\",\"marker\":{\"colorbar\":{\"outlinewidth\":0,\"ticks\":\"\"}}}],\"scattercarpet\":[{\"type\":\"scattercarpet\",\"marker\":{\"colorbar\":{\"outlinewidth\":0,\"ticks\":\"\"}}}],\"carpet\":[{\"aaxis\":{\"endlinecolor\":\"#2a3f5f\",\"gridcolor\":\"white\",\"linecolor\":\"white\",\"minorgridcolor\":\"white\",\"startlinecolor\":\"#2a3f5f\"},\"baxis\":{\"endlinecolor\":\"#2a3f5f\",\"gridcolor\":\"white\",\"linecolor\":\"white\",\"minorgridcolor\":\"white\",\"startlinecolor\":\"#2a3f5f\"},\"type\":\"carpet\"}],\"table\":[{\"cells\":{\"fill\":{\"color\":\"#EBF0F8\"},\"line\":{\"color\":\"white\"}},\"header\":{\"fill\":{\"color\":\"#C8D4E3\"},\"line\":{\"color\":\"white\"}},\"type\":\"table\"}],\"barpolar\":[{\"marker\":{\"line\":{\"color\":\"#E5ECF6\",\"width\":0.5},\"pattern\":{\"fillmode\":\"overlay\",\"size\":10,\"solidity\":0.2}},\"type\":\"barpolar\"}],\"pie\":[{\"automargin\":true,\"type\":\"pie\"}]},\"layout\":{\"autotypenumbers\":\"strict\",\"colorway\":[\"#636efa\",\"#EF553B\",\"#00cc96\",\"#ab63fa\",\"#FFA15A\",\"#19d3f3\",\"#FF6692\",\"#B6E880\",\"#FF97FF\",\"#FECB52\"],\"font\":{\"color\":\"#2a3f5f\"},\"hovermode\":\"closest\",\"hoverlabel\":{\"align\":\"left\"},\"paper_bgcolor\":\"white\",\"plot_bgcolor\":\"#E5ECF6\",\"polar\":{\"bgcolor\":\"#E5ECF6\",\"angularaxis\":{\"gridcolor\":\"white\",\"linecolor\":\"white\",\"ticks\":\"\"},\"radialaxis\":{\"gridcolor\":\"white\",\"linecolor\":\"white\",\"ticks\":\"\"}},\"ternary\":{\"bgcolor\":\"#E5ECF6\",\"aaxis\":{\"gridcolor\":\"white\",\"linecolor\":\"white\",\"ticks\":\"\"},\"baxis\":{\"gridcolor\":\"white\",\"linecolor\":\"white\",\"ticks\":\"\"},\"caxis\":{\"gridcolor\":\"white\",\"linecolor\":\"white\",\"ticks\":\"\"}},\"coloraxis\":{\"colorbar\":{\"outlinewidth\":0,\"ticks\":\"\"}},\"colorscale\":{\"sequential\":[[0.0,\"#0d0887\"],[0.1111111111111111,\"#46039f\"],[0.2222222222222222,\"#7201a8\"],[0.3333333333333333,\"#9c179e\"],[0.4444444444444444,\"#bd3786\"],[0.5555555555555556,\"#d8576b\"],[0.6666666666666666,\"#ed7953\"],[0.7777777777777778,\"#fb9f3a\"],[0.8888888888888888,\"#fdca26\"],[1.0,\"#f0f921\"]],\"sequentialminus\":[[0.0,\"#0d0887\"],[0.1111111111111111,\"#46039f\"],[0.2222222222222222,\"#7201a8\"],[0.3333333333333333,\"#9c179e\"],[0.4444444444444444,\"#bd3786\"],[0.5555555555555556,\"#d8576b\"],[0.6666666666666666,\"#ed7953\"],[0.7777777777777778,\"#fb9f3a\"],[0.8888888888888888,\"#fdca26\"],[1.0,\"#f0f921\"]],\"diverging\":[[0,\"#8e0152\"],[0.1,\"#c51b7d\"],[0.2,\"#de77ae\"],[0.3,\"#f1b6da\"],[0.4,\"#fde0ef\"],[0.5,\"#f7f7f7\"],[0.6,\"#e6f5d0\"],[0.7,\"#b8e186\"],[0.8,\"#7fbc41\"],[0.9,\"#4d9221\"],[1,\"#276419\"]]},\"xaxis\":{\"gridcolor\":\"white\",\"linecolor\":\"white\",\"ticks\":\"\",\"title\":{\"standoff\":15},\"zerolinecolor\":\"white\",\"automargin\":true,\"zerolinewidth\":2},\"yaxis\":{\"gridcolor\":\"white\",\"linecolor\":\"white\",\"ticks\":\"\",\"title\":{\"standoff\":15},\"zerolinecolor\":\"white\",\"automargin\":true,\"zerolinewidth\":2},\"scene\":{\"xaxis\":{\"backgroundcolor\":\"#E5ECF6\",\"gridcolor\":\"white\",\"linecolor\":\"white\",\"showbackground\":true,\"ticks\":\"\",\"zerolinecolor\":\"white\",\"gridwidth\":2},\"yaxis\":{\"backgroundcolor\":\"#E5ECF6\",\"gridcolor\":\"white\",\"linecolor\":\"white\",\"showbackground\":true,\"ticks\":\"\",\"zerolinecolor\":\"white\",\"gridwidth\":2},\"zaxis\":{\"backgroundcolor\":\"#E5ECF6\",\"gridcolor\":\"white\",\"linecolor\":\"white\",\"showbackground\":true,\"ticks\":\"\",\"zerolinecolor\":\"white\",\"gridwidth\":2}},\"shapedefaults\":{\"line\":{\"color\":\"#2a3f5f\"}},\"annotationdefaults\":{\"arrowcolor\":\"#2a3f5f\",\"arrowhead\":0,\"arrowwidth\":1},\"geo\":{\"bgcolor\":\"white\",\"landcolor\":\"#E5ECF6\",\"subunitcolor\":\"white\",\"showland\":true,\"showlakes\":true,\"lakecolor\":\"white\"},\"title\":{\"x\":0.05},\"mapbox\":{\"style\":\"light\"}}},\"xaxis\":{\"anchor\":\"y\",\"domain\":[0.0,1.0],\"title\":{\"text\":\"Pinch\"}},\"yaxis\":{\"anchor\":\"x\",\"domain\":[0.0,1.0],\"title\":{\"text\":\"Pull\"}},\"coloraxis\":{\"colorbar\":{\"title\":{\"text\":\"Pinch_Order\"}},\"colorscale\":[[0.0,\"#0d0887\"],[0.1111111111111111,\"#46039f\"],[0.2222222222222222,\"#7201a8\"],[0.3333333333333333,\"#9c179e\"],[0.4444444444444444,\"#bd3786\"],[0.5555555555555556,\"#d8576b\"],[0.6666666666666666,\"#ed7953\"],[0.7777777777777778,\"#fb9f3a\"],[0.8888888888888888,\"#fdca26\"],[1.0,\"#f0f921\"]]},\"legend\":{\"tracegroupgap\":0},\"title\":{\"text\":\"Kilograms Pulled by pinch Order\\u003cbr\\u003e\\u003csup\\u003eby Jerry Yu\\u003c\\u002fsub\\u003e\",\"x\":0.5,\"xanchor\":\"center\",\"yanchor\":\"top\"}},                        {\"responsive\": true}                    ).then(function(){\n",
       "                            \n",
       "var gd = document.getElementById('cec13f99-c55b-4e5b-b879-dff4b300bd6b');\n",
       "var x = new MutationObserver(function (mutations, observer) {{\n",
       "        var display = window.getComputedStyle(gd).display;\n",
       "        if (!display || display === 'none') {{\n",
       "            console.log([gd, 'removed!']);\n",
       "            Plotly.purge(gd);\n",
       "            observer.disconnect();\n",
       "        }}\n",
       "}});\n",
       "\n",
       "// Listen for the removal of the full notebook cells\n",
       "var notebookContainer = gd.closest('#notebook-container');\n",
       "if (notebookContainer) {{\n",
       "    x.observe(notebookContainer, {childList: true});\n",
       "}}\n",
       "\n",
       "// Listen for the clearing of the current output cell\n",
       "var outputEl = gd.closest('.output');\n",
       "if (outputEl) {{\n",
       "    x.observe(outputEl, {childList: true});\n",
       "}}\n",
       "\n",
       "                        })                };                });            </script>        </div>"
      ]
     },
     "metadata": {},
     "output_type": "display_data"
    },
    {
     "data": {
      "text/html": [
       "<div>                            <div id=\"17c2168e-e52f-40d1-bfc8-7587b3fa3e82\" class=\"plotly-graph-div\" style=\"height:525px; width:100%;\"></div>            <script type=\"text/javascript\">                require([\"plotly\"], function(Plotly) {                    window.PLOTLYENV=window.PLOTLYENV || {};                                    if (document.getElementById(\"17c2168e-e52f-40d1-bfc8-7587b3fa3e82\")) {                    Plotly.newPlot(                        \"17c2168e-e52f-40d1-bfc8-7587b3fa3e82\",                        [{\"hovertemplate\":\"Pinch=%{x}\\u003cbr\\u003ePull=%{y}\\u003cbr\\u003eDay_Order=%{marker.color}\\u003cextra\\u003e\\u003c\\u002fextra\\u003e\",\"legendgroup\":\"\",\"marker\":{\"color\":[1,1,1,2,2,2,3,3,3,4,4,4,5,5,5,6,6,6,7,7,7,8,8,8,9,9,9,10,10,10,11,11,11,12,12,12,13,13,13,14,14,14,15,15,15,16,16,16,17,17,17,18,18,18,19,19,19,20,20,20,1,1,1,2,2,2,3,3,3,4,4,4,5,5,5,6,6,6,7,7,7,8,8,8,9,9,9,10,10,10,11,11,11,12,12,12,13,13,13,14,14,14,15,15,15,16,16,16,17,17,17,18,18,18,19,19,19,20,20,20,1,1,1,2,2,2,3,3,3,4,4,4,5,5,5,6,6,6,7,7,7,8,8,8,9,9,9,10,10,10,11,11,11,12,12,12,13,13,13,14,14,14,15,15,15,16,16,16,17,17,17,18,18,18,19,19,19,20,20,20,21,21,21,22,22,22,1,1,1,2,2,2,3,3,3,4,4,4,5,5,5,6,6,6,7,7,7,8,8,8,9,9,9,10,10,10,11,11,11,12,12,12,13,13,13,14,14,14,15,15,15,16,16,16,17,17,17,18,18,18,19,19,19,20,20,20,21,21,21,22,22,22,23,23,23,24,24,24,25,25,25,1,1,1,2,2,2,3,3,3,4,4,4,5,5,5,6,6,6,7,7,7,8,8,8,9,9,9,10,10,10,11,11,11,12,12,12,13,13,13,14,14,14,15,15,15,16,16,16,17,17,17,18,18,18,19,19,19,20,20,20,21,21,21,22,22,22,23,23,23,24,24,24,25,25,25,26,26,26,27,27,27,28,28,28,29,29,29,30,30,30,31,31,31,32,32,32,33,33,33,34,34,34,35,35,35,1,1,1,2,2,2,3,3,3,4,4,4,5,5,5,6,6,6,7,7,7,8,8,8,9,9,9,10,10,10,11,11,11,12,12,12,13,13,13,14,14,14,15,15,15,16,16,16,17,17,17,18,18,18,19,19,19,20,20,20,21,21,21,22,22,22,23,23,23,24,24,24,25,25,25,26,26,26,27,27,27,28,28,28,29,29,29,30,30,30,31,31,31,32,32,32,33,33,33,34,34,34,35,35,35,36,36,36,37,37,37,38,38,38,1,1,1,2,2,2,3,3,3,4,4,4,5,5,5,6,6,6,7,7,7,8,8,8,9,9,9,10,10,10,11,11,11,12,12,12,13,13,13,14,14,14,15,15,15,16,16,16,17,17,17,18,18,18,19,19,19,20,20,20,21,21,21,22,22,22,23,23,23,24,24,24,25,25,25,26,26,26,27,27,27,28,28,28,29,29,29,30,30,30,31,31,31,32,32,32],\"coloraxis\":\"coloraxis\",\"symbol\":\"circle\"},\"mode\":\"markers\",\"name\":\"\",\"orientation\":\"v\",\"showlegend\":false,\"x\":[4.202,4.117,4.154,4.088,4.088,4.086,1.099,1.319,1.198,3.124,2.808,3.077,4.088,4.223,4.125,4.888,5.356,4.838,2.086,2.054,2.08,5.989,6.064,5.883,4.483,4.088,4.528,5.233,5.382,5.1,1.284,1.322,1.408,3.938,3.298,3.238,5.105,5.372,5.201,5.587,5.055,4.991,5.898,5.899,5.881,1.176,1.292,1.044,3.121,3.289,2.966,4.104,4.18,4.453,4.212,4.349,3.792,1.167,1.018,1.018,6.039,7.126,6.407,5.492,5.703,5.342,6.309,5.813,6.138,1.093,1.188,1.036,2.597,2.419,2.058,1.949,1.908,2.209,3.36,3.326,2.999,3.886,4.549,4.078,5.96,5.5,6.198,5.289,5.472,5.066,3.129,2.847,3.072,6.683,6.046,5.699,1.275,1.135,1.288,2.188,1.998,1.997,2.129,2.179,1.952,3.762,3.399,3.316,2.347,2.129,2.104,6.221,6.262,6.878,3.572,3.189,3.258,5.061,5.334,4.947,1.198,1.098,1.303,4.047,4.096,4.116,2.998,3.089,3.088,2.342,2.078,2.217,1.098,1.054,1.141,2.061,2.078,1.983,5.738,5.692,6.088,4.989,4.294,4.288,2.198,2.101,2.192,4.158,4.389,4.388,1.002,0.938,1.088,5.309,5.069,5.22,6.007,6.038,6.308,5.16,4.887,5.108,3.053,2.83,2.899,6.498,6.602,6.225,6.398,5.969,5.608,7.243,7.389,6.914,2.098,2.198,2.278,6.091,5.988,6.074,1.278,1.238,1.068,3.946,4.473,3.938,3.915,4.057,3.99,4.304,4.239,4.224,6.033,5.337,4.987,1.157,1.073,1.097,2.288,2.234,2.169,4.889,4.582,4.718,2.829,3.138,3.191,5.587,5.934,7.216,4.766,3.788,4.012,3.546,3.148,2.798,5.928,6.093,5.843,3.564,3.055,4.039,1.034,1.037,1.019,2.098,2.048,2.033,3.638,3.889,3.762,5.492,5.447,5.139,2.006,2.088,2.023,1.988,2.049,2.114,1.082,1.093,0.979,4.072,4.208,4.196,2.096,2.015,2.022,3.08,3.1,3.098,3.218,3.363,3.388,1.085,1.053,0.947,1.217,1.1,1.176,4.149,4.162,4.449,2.139,2.022,2.019,6.309,6.009,6.087,5.66,5.291,4.898,3.013,3.176,3.315,3.218,3.044,3.306,5.581,5.039,4.893,1.309,1.463,1.19,5.29,5.038,5.275,6.0,5.859,6.143,4.919,4.909,5.048,2.194,2.199,2.065,3.22,3.214,3.215,2.351,2.096,2.206,4.387,4.095,4.247,2.218,2.138,2.079,3.247,3.152,3.253,5.998,5.993,6.048,4.997,4.589,5.384,1.219,1.308,1.249,3.211,3.458,3.187,4.446,4.258,4.172,3.209,3.284,2.88,1.042,1.221,1.033,2.29,1.96,2.059,4.793,4.767,4.958,6.087,6.636,5.872,1.149,0.989,1.059,4.496,4.491,4.019,3.648,3.189,3.573,1.089,1.102,1.02,6.493,5.989,5.998,6.685,6.172,6.276,1.207,1.063,1.184,5.287,4.886,4.949,6.935,6.741,6.158,3.988,4.123,4.333,5.061,5.191,5.094,2.178,2.089,2.183,1.97,2.188,2.048,5.267,5.326,5.636,1.038,1.0,1.192,3.209,3.138,3.406,5.783,6.108,5.898,2.413,2.199,2.28,1.033,1.082,1.048,4.109,3.899,4.251,4.988,4.964,5.069,1.523,1.238,1.369,5.189,5.086,5.098,4.088,3.898,3.859,2.868,2.898,3.092,5.999,5.966,6.031,4.332,4.089,3.988,3.098,2.892,3.21,4.106,3.838,4.188,2.298,1.898,2.183,3.048,2.888,2.688,1.289,1.389,1.208,2.089,2.008,2.133,5.336,5.599,5.579,2.208,2.098,2.08,4.282,4.094,3.899,3.322,3.092,3.298,6.558,6.199,6.343,1.196,1.36,1.198,4.888,4.979,5.217,2.098,1.983,2.207,5.998,6.203,6.387,5.972,5.666,5.869,2.041,2.22,2.212,3.292,3.088,3.088,1.139,1.098,1.231,1.147,1.115,1.279,0.988,1.219,0.972,5.097,4.964,4.787,1.268,1.061,1.279,2.077,1.992,2.164,2.217,2.187,1.898,4.463,4.066,3.676,3.077,3.161,3.186,4.06,3.962,4.099,4.28,4.335,4.388,2.947,3.278,3.298,5.744,5.826,6.173,3.276,3.127,3.326,6.168,6.75,6.096,1.359,1.1,1.081,2.381,2.442,2.075,4.996,4.988,4.979,5.978,6.124,6.493,1.311,1.218,1.446,4.153,4.088,4.304,2.992,3.31,3.338,3.103,3.155,3.048,4.24,4.979,4.612,6.888,6.32,6.549,6.028,6.484,6.203,4.877,4.938,5.168,5.026,4.899,5.306,2.015,2.372,2.625,4.083,4.143,4.252,4.288,3.91,4.38,5.117,5.098,4.878,5.198,5.624,5.274],\"xaxis\":\"x\",\"y\":[34.6,31.9,31.9,41.1,44.5,45.7,7.2,9.5,8.5,30.6,26.1,27.5,44.6,37.5,40.1,45.1,49.1,44.2,23.5,22.6,25.4,63.9,61.7,76.3,40.5,38.7,42.7,41.5,42.5,44.5,8.4,8.3,9.5,35.5,26.4,27.1,50.6,43.6,41.7,51.7,39.1,47.0,56.5,52.6,49.6,5.7,7.4,6.5,29.4,33.8,23.6,42.5,43.7,46.5,46.2,56.5,47.5,12.7,9.1,11.4,74.0,83.3,75.1,77.5,68.5,67.5,55.4,46.3,48.5,8.8,12.5,10.7,24.2,25.1,19.6,14.8,15.7,17.0,38.1,37.9,38.4,36.5,36.1,35.5,51.6,46.4,47.1,39.6,39.7,37.1,35.1,33.7,31.7,51.1,53.3,46.5,3.6,5.3,5.2,23.7,24.5,25.5,19.4,21.1,18.7,45.3,46.6,35.4,15.4,14.6,16.7,71.1,81.5,89.2,25.1,22.6,22.4,61.6,70.5,67.1,6.1,5.3,9.1,49.2,47.6,44.6,21.5,25.1,26.6,17.0,12.5,18.0,7.5,5.1,8.5,13.9,15.0,12.2,54.1,61.1,64.3,45.7,29.0,34.0,15.4,14.7,15.1,36.4,42.8,46.3,8.9,11.0,7.2,36.2,45.7,47.6,71.5,75.2,64.3,69.0,65.4,54.4,30.7,32.1,31.4,52.7,55.7,47.6,51.1,55.5,50.7,70.7,75.4,66.3,13.6,13.2,13.6,66.7,74.1,69.5,7.1,7.7,4.2,34.2,37.6,29.3,35.4,37.4,35.7,52.7,43.2,46.6,61.8,47.3,46.6,6.2,5.4,4.9,14.2,14.2,15.1,51.5,55.3,56.7,34.1,36.3,30.1,59.3,54.1,64.7,49.3,30.5,35.5,26.6,24.5,19.2,52.2,45.2,46.0,27.4,26.6,44.6,4.4,3.2,7.1,16.7,14.2,16.4,42.5,46.7,44.0,44.4,47.2,45.1,17.2,16.5,17.2,20.9,25.5,26.1,5.4,8.3,6.2,28.0,31.0,27.2,15.5,16.3,15.7,25.7,26.1,25.4,24.4,24.8,31.8,2.5,5.7,5.7,10.6,11.5,10.5,23.5,27.2,31.1,25.7,21.5,22.2,55.9,50.5,51.7,39.1,37.9,35.6,34.1,37.3,36.5,25.9,27.3,24.1,48.1,35.4,35.5,7.1,9.1,7.7,35.5,28.3,33.7,65.5,73.3,77.3,51.4,54.9,52.6,8.9,14.4,13.5,22.1,28.2,29.4,10.4,6.6,12.2,30.1,33.5,34.9,17.7,15.3,17.1,19.0,19.2,26.1,44.7,50.7,47.5,44.7,41.1,51.0,5.5,8.1,6.7,22.4,26.2,22.2,37.7,33.6,33.6,31.4,33.5,34.4,5.1,7.1,6.4,13.8,14.3,15.6,37.1,36.4,40.5,53.2,57.4,54.6,3.3,3.2,3.2,35.7,42.5,37.1,37.4,29.7,35.2,10.7,10.7,9.2,56.7,57.7,60.7,61.2,59.6,67.4,11.2,11.1,11.0,35.3,33.5,28.9,52.5,57.2,47.9,34.0,25.4,25.9,42.2,35.2,32.2,12.2,19.6,20.0,24.6,17.5,15.2,35.1,33.5,31.2,3.7,5.7,7.5,26.7,30.2,28.1,44.5,46.1,44.7,15.5,16.5,17.8,1.5,2.7,5.8,24.2,20.5,25.2,45.1,54.5,50.1,7.0,7.4,8.4,30.9,30.3,28.7,34.6,35.7,33.7,33.3,31.1,32.7,32.3,39.2,31.7,39.5,41.5,32.6,15.7,15.5,17.7,35.9,34.2,36.6,14.4,15.7,19.7,22.7,16.8,22.5,7.9,9.3,10.0,13.5,14.5,16.0,55.5,65.1,54.5,11.1,9.4,12.7,37.0,34.5,41.6,29.4,22.3,27.3,46.1,36.7,37.2,6.2,7.4,6.2,31.9,35.4,39.6,18.7,15.2,17.1,50.9,57.3,57.7,47.9,45.7,51.5,14.0,17.4,22.2,22.3,21.1,23.5,11.4,10.3,10.5,4.7,2.4,5.1,3.1,5.0,5.7,59.0,59.1,55.3,9.7,7.6,6.6,13.6,15.3,17.4,8.9,8.1,9.4,49.6,57.7,55.4,9.7,16.5,14.4,27.4,25.1,29.2,27.7,28.6,27.1,42.7,39.5,43.1,71.5,82.3,77.2,35.3,42.8,44.3,51.9,55.7,48.7,3.5,2.5,2.2,17.7,21.6,15.7,31.2,25.2,23.4,43.1,41.2,46.7,7.6,3.4,7.5,25.3,30.6,25.2,16.0,14.7,22.7,24.1,21.4,22.7,42.5,64.5,57.7,82.0,70.1,71.3,57.5,64.1,63.1,30.4,30.7,31.1,49.5,45.1,45.0,21.2,25.4,29.6,25.3,24.7,25.1,27.1,23.6,24.4,51.2,45.3,45.4,31.4,32.8,31.1],\"yaxis\":\"y\",\"type\":\"scatter\"}],                        {\"template\":{\"data\":{\"histogram2dcontour\":[{\"type\":\"histogram2dcontour\",\"colorbar\":{\"outlinewidth\":0,\"ticks\":\"\"},\"colorscale\":[[0.0,\"#0d0887\"],[0.1111111111111111,\"#46039f\"],[0.2222222222222222,\"#7201a8\"],[0.3333333333333333,\"#9c179e\"],[0.4444444444444444,\"#bd3786\"],[0.5555555555555556,\"#d8576b\"],[0.6666666666666666,\"#ed7953\"],[0.7777777777777778,\"#fb9f3a\"],[0.8888888888888888,\"#fdca26\"],[1.0,\"#f0f921\"]]}],\"choropleth\":[{\"type\":\"choropleth\",\"colorbar\":{\"outlinewidth\":0,\"ticks\":\"\"}}],\"histogram2d\":[{\"type\":\"histogram2d\",\"colorbar\":{\"outlinewidth\":0,\"ticks\":\"\"},\"colorscale\":[[0.0,\"#0d0887\"],[0.1111111111111111,\"#46039f\"],[0.2222222222222222,\"#7201a8\"],[0.3333333333333333,\"#9c179e\"],[0.4444444444444444,\"#bd3786\"],[0.5555555555555556,\"#d8576b\"],[0.6666666666666666,\"#ed7953\"],[0.7777777777777778,\"#fb9f3a\"],[0.8888888888888888,\"#fdca26\"],[1.0,\"#f0f921\"]]}],\"heatmap\":[{\"type\":\"heatmap\",\"colorbar\":{\"outlinewidth\":0,\"ticks\":\"\"},\"colorscale\":[[0.0,\"#0d0887\"],[0.1111111111111111,\"#46039f\"],[0.2222222222222222,\"#7201a8\"],[0.3333333333333333,\"#9c179e\"],[0.4444444444444444,\"#bd3786\"],[0.5555555555555556,\"#d8576b\"],[0.6666666666666666,\"#ed7953\"],[0.7777777777777778,\"#fb9f3a\"],[0.8888888888888888,\"#fdca26\"],[1.0,\"#f0f921\"]]}],\"heatmapgl\":[{\"type\":\"heatmapgl\",\"colorbar\":{\"outlinewidth\":0,\"ticks\":\"\"},\"colorscale\":[[0.0,\"#0d0887\"],[0.1111111111111111,\"#46039f\"],[0.2222222222222222,\"#7201a8\"],[0.3333333333333333,\"#9c179e\"],[0.4444444444444444,\"#bd3786\"],[0.5555555555555556,\"#d8576b\"],[0.6666666666666666,\"#ed7953\"],[0.7777777777777778,\"#fb9f3a\"],[0.8888888888888888,\"#fdca26\"],[1.0,\"#f0f921\"]]}],\"contourcarpet\":[{\"type\":\"contourcarpet\",\"colorbar\":{\"outlinewidth\":0,\"ticks\":\"\"}}],\"contour\":[{\"type\":\"contour\",\"colorbar\":{\"outlinewidth\":0,\"ticks\":\"\"},\"colorscale\":[[0.0,\"#0d0887\"],[0.1111111111111111,\"#46039f\"],[0.2222222222222222,\"#7201a8\"],[0.3333333333333333,\"#9c179e\"],[0.4444444444444444,\"#bd3786\"],[0.5555555555555556,\"#d8576b\"],[0.6666666666666666,\"#ed7953\"],[0.7777777777777778,\"#fb9f3a\"],[0.8888888888888888,\"#fdca26\"],[1.0,\"#f0f921\"]]}],\"surface\":[{\"type\":\"surface\",\"colorbar\":{\"outlinewidth\":0,\"ticks\":\"\"},\"colorscale\":[[0.0,\"#0d0887\"],[0.1111111111111111,\"#46039f\"],[0.2222222222222222,\"#7201a8\"],[0.3333333333333333,\"#9c179e\"],[0.4444444444444444,\"#bd3786\"],[0.5555555555555556,\"#d8576b\"],[0.6666666666666666,\"#ed7953\"],[0.7777777777777778,\"#fb9f3a\"],[0.8888888888888888,\"#fdca26\"],[1.0,\"#f0f921\"]]}],\"mesh3d\":[{\"type\":\"mesh3d\",\"colorbar\":{\"outlinewidth\":0,\"ticks\":\"\"}}],\"scatter\":[{\"fillpattern\":{\"fillmode\":\"overlay\",\"size\":10,\"solidity\":0.2},\"type\":\"scatter\"}],\"parcoords\":[{\"type\":\"parcoords\",\"line\":{\"colorbar\":{\"outlinewidth\":0,\"ticks\":\"\"}}}],\"scatterpolargl\":[{\"type\":\"scatterpolargl\",\"marker\":{\"colorbar\":{\"outlinewidth\":0,\"ticks\":\"\"}}}],\"bar\":[{\"error_x\":{\"color\":\"#2a3f5f\"},\"error_y\":{\"color\":\"#2a3f5f\"},\"marker\":{\"line\":{\"color\":\"#E5ECF6\",\"width\":0.5},\"pattern\":{\"fillmode\":\"overlay\",\"size\":10,\"solidity\":0.2}},\"type\":\"bar\"}],\"scattergeo\":[{\"type\":\"scattergeo\",\"marker\":{\"colorbar\":{\"outlinewidth\":0,\"ticks\":\"\"}}}],\"scatterpolar\":[{\"type\":\"scatterpolar\",\"marker\":{\"colorbar\":{\"outlinewidth\":0,\"ticks\":\"\"}}}],\"histogram\":[{\"marker\":{\"pattern\":{\"fillmode\":\"overlay\",\"size\":10,\"solidity\":0.2}},\"type\":\"histogram\"}],\"scattergl\":[{\"type\":\"scattergl\",\"marker\":{\"colorbar\":{\"outlinewidth\":0,\"ticks\":\"\"}}}],\"scatter3d\":[{\"type\":\"scatter3d\",\"line\":{\"colorbar\":{\"outlinewidth\":0,\"ticks\":\"\"}},\"marker\":{\"colorbar\":{\"outlinewidth\":0,\"ticks\":\"\"}}}],\"scattermapbox\":[{\"type\":\"scattermapbox\",\"marker\":{\"colorbar\":{\"outlinewidth\":0,\"ticks\":\"\"}}}],\"scatterternary\":[{\"type\":\"scatterternary\",\"marker\":{\"colorbar\":{\"outlinewidth\":0,\"ticks\":\"\"}}}],\"scattercarpet\":[{\"type\":\"scattercarpet\",\"marker\":{\"colorbar\":{\"outlinewidth\":0,\"ticks\":\"\"}}}],\"carpet\":[{\"aaxis\":{\"endlinecolor\":\"#2a3f5f\",\"gridcolor\":\"white\",\"linecolor\":\"white\",\"minorgridcolor\":\"white\",\"startlinecolor\":\"#2a3f5f\"},\"baxis\":{\"endlinecolor\":\"#2a3f5f\",\"gridcolor\":\"white\",\"linecolor\":\"white\",\"minorgridcolor\":\"white\",\"startlinecolor\":\"#2a3f5f\"},\"type\":\"carpet\"}],\"table\":[{\"cells\":{\"fill\":{\"color\":\"#EBF0F8\"},\"line\":{\"color\":\"white\"}},\"header\":{\"fill\":{\"color\":\"#C8D4E3\"},\"line\":{\"color\":\"white\"}},\"type\":\"table\"}],\"barpolar\":[{\"marker\":{\"line\":{\"color\":\"#E5ECF6\",\"width\":0.5},\"pattern\":{\"fillmode\":\"overlay\",\"size\":10,\"solidity\":0.2}},\"type\":\"barpolar\"}],\"pie\":[{\"automargin\":true,\"type\":\"pie\"}]},\"layout\":{\"autotypenumbers\":\"strict\",\"colorway\":[\"#636efa\",\"#EF553B\",\"#00cc96\",\"#ab63fa\",\"#FFA15A\",\"#19d3f3\",\"#FF6692\",\"#B6E880\",\"#FF97FF\",\"#FECB52\"],\"font\":{\"color\":\"#2a3f5f\"},\"hovermode\":\"closest\",\"hoverlabel\":{\"align\":\"left\"},\"paper_bgcolor\":\"white\",\"plot_bgcolor\":\"#E5ECF6\",\"polar\":{\"bgcolor\":\"#E5ECF6\",\"angularaxis\":{\"gridcolor\":\"white\",\"linecolor\":\"white\",\"ticks\":\"\"},\"radialaxis\":{\"gridcolor\":\"white\",\"linecolor\":\"white\",\"ticks\":\"\"}},\"ternary\":{\"bgcolor\":\"#E5ECF6\",\"aaxis\":{\"gridcolor\":\"white\",\"linecolor\":\"white\",\"ticks\":\"\"},\"baxis\":{\"gridcolor\":\"white\",\"linecolor\":\"white\",\"ticks\":\"\"},\"caxis\":{\"gridcolor\":\"white\",\"linecolor\":\"white\",\"ticks\":\"\"}},\"coloraxis\":{\"colorbar\":{\"outlinewidth\":0,\"ticks\":\"\"}},\"colorscale\":{\"sequential\":[[0.0,\"#0d0887\"],[0.1111111111111111,\"#46039f\"],[0.2222222222222222,\"#7201a8\"],[0.3333333333333333,\"#9c179e\"],[0.4444444444444444,\"#bd3786\"],[0.5555555555555556,\"#d8576b\"],[0.6666666666666666,\"#ed7953\"],[0.7777777777777778,\"#fb9f3a\"],[0.8888888888888888,\"#fdca26\"],[1.0,\"#f0f921\"]],\"sequentialminus\":[[0.0,\"#0d0887\"],[0.1111111111111111,\"#46039f\"],[0.2222222222222222,\"#7201a8\"],[0.3333333333333333,\"#9c179e\"],[0.4444444444444444,\"#bd3786\"],[0.5555555555555556,\"#d8576b\"],[0.6666666666666666,\"#ed7953\"],[0.7777777777777778,\"#fb9f3a\"],[0.8888888888888888,\"#fdca26\"],[1.0,\"#f0f921\"]],\"diverging\":[[0,\"#8e0152\"],[0.1,\"#c51b7d\"],[0.2,\"#de77ae\"],[0.3,\"#f1b6da\"],[0.4,\"#fde0ef\"],[0.5,\"#f7f7f7\"],[0.6,\"#e6f5d0\"],[0.7,\"#b8e186\"],[0.8,\"#7fbc41\"],[0.9,\"#4d9221\"],[1,\"#276419\"]]},\"xaxis\":{\"gridcolor\":\"white\",\"linecolor\":\"white\",\"ticks\":\"\",\"title\":{\"standoff\":15},\"zerolinecolor\":\"white\",\"automargin\":true,\"zerolinewidth\":2},\"yaxis\":{\"gridcolor\":\"white\",\"linecolor\":\"white\",\"ticks\":\"\",\"title\":{\"standoff\":15},\"zerolinecolor\":\"white\",\"automargin\":true,\"zerolinewidth\":2},\"scene\":{\"xaxis\":{\"backgroundcolor\":\"#E5ECF6\",\"gridcolor\":\"white\",\"linecolor\":\"white\",\"showbackground\":true,\"ticks\":\"\",\"zerolinecolor\":\"white\",\"gridwidth\":2},\"yaxis\":{\"backgroundcolor\":\"#E5ECF6\",\"gridcolor\":\"white\",\"linecolor\":\"white\",\"showbackground\":true,\"ticks\":\"\",\"zerolinecolor\":\"white\",\"gridwidth\":2},\"zaxis\":{\"backgroundcolor\":\"#E5ECF6\",\"gridcolor\":\"white\",\"linecolor\":\"white\",\"showbackground\":true,\"ticks\":\"\",\"zerolinecolor\":\"white\",\"gridwidth\":2}},\"shapedefaults\":{\"line\":{\"color\":\"#2a3f5f\"}},\"annotationdefaults\":{\"arrowcolor\":\"#2a3f5f\",\"arrowhead\":0,\"arrowwidth\":1},\"geo\":{\"bgcolor\":\"white\",\"landcolor\":\"#E5ECF6\",\"subunitcolor\":\"white\",\"showland\":true,\"showlakes\":true,\"lakecolor\":\"white\"},\"title\":{\"x\":0.05},\"mapbox\":{\"style\":\"light\"}}},\"xaxis\":{\"anchor\":\"y\",\"domain\":[0.0,1.0],\"title\":{\"text\":\"Pinch\"}},\"yaxis\":{\"anchor\":\"x\",\"domain\":[0.0,1.0],\"title\":{\"text\":\"Pull\"}},\"coloraxis\":{\"colorbar\":{\"title\":{\"text\":\"Day_Order\"}},\"colorscale\":[[0.0,\"#0d0887\"],[0.1111111111111111,\"#46039f\"],[0.2222222222222222,\"#7201a8\"],[0.3333333333333333,\"#9c179e\"],[0.4444444444444444,\"#bd3786\"],[0.5555555555555556,\"#d8576b\"],[0.6666666666666666,\"#ed7953\"],[0.7777777777777778,\"#fb9f3a\"],[0.8888888888888888,\"#fdca26\"],[1.0,\"#f0f921\"]]},\"legend\":{\"tracegroupgap\":0},\"title\":{\"text\":\"Kilograms Pulled by Day_Order\\u003cbr\\u003e\\u003csup\\u003eby Jerry Yu\\u003c\\u002fsub\\u003e\",\"x\":0.5,\"xanchor\":\"center\",\"yanchor\":\"top\"}},                        {\"responsive\": true}                    ).then(function(){\n",
       "                            \n",
       "var gd = document.getElementById('17c2168e-e52f-40d1-bfc8-7587b3fa3e82');\n",
       "var x = new MutationObserver(function (mutations, observer) {{\n",
       "        var display = window.getComputedStyle(gd).display;\n",
       "        if (!display || display === 'none') {{\n",
       "            console.log([gd, 'removed!']);\n",
       "            Plotly.purge(gd);\n",
       "            observer.disconnect();\n",
       "        }}\n",
       "}});\n",
       "\n",
       "// Listen for the removal of the full notebook cells\n",
       "var notebookContainer = gd.closest('#notebook-container');\n",
       "if (notebookContainer) {{\n",
       "    x.observe(notebookContainer, {childList: true});\n",
       "}}\n",
       "\n",
       "// Listen for the clearing of the current output cell\n",
       "var outputEl = gd.closest('.output');\n",
       "if (outputEl) {{\n",
       "    x.observe(outputEl, {childList: true});\n",
       "}}\n",
       "\n",
       "                        })                };                });            </script>        </div>"
      ]
     },
     "metadata": {},
     "output_type": "display_data"
    },
    {
     "name": "stderr",
     "output_type": "stream",
     "text": [
      "c:\\Users\\yujer\\anaconda3\\envs\\main\\Lib\\site-packages\\rpy2\\robjects\\pandas2ri.py:65: UserWarning:\n",
      "\n",
      "Error while trying to convert the column \"Day\". Fall back to string conversion. The error is: Converting pandas \"Category\" series to R factor is only possible when categories are strings.\n",
      "\n",
      "c:\\Users\\yujer\\anaconda3\\envs\\main\\Lib\\site-packages\\rpy2\\robjects\\pandas2ri.py:65: UserWarning:\n",
      "\n",
      "Error while trying to convert the column \"Person\". Fall back to string conversion. The error is: Converting pandas \"Category\" series to R factor is only possible when categories are strings.\n",
      "\n"
     ]
    }
   ],
   "source": [
    "# Test Pinch Order\n",
    "byOrder = px.scatter(Chalk, x = \"Pinch\", y = \"Pull\", color = \"Pinch_Order\", title = \"Kilograms Pulled by pinch Order\")\n",
    "byOrder.update_layout(\n",
    "    title = {\n",
    "        \"text\":\"Kilograms Pulled by pinch Order<br><sup>by Jerry Yu</sub>\",\n",
    "        \"x\":0.5,\n",
    "        \"xanchor\":\"center\",\n",
    "        \"yanchor\":\"top\"\n",
    "    }\n",
    ")\n",
    "byOrder.show()\n",
    "\n",
    "# Very random, quite nice\n",
    "\n",
    "# Test Day Order\n",
    "byDay = px.scatter(Chalk, x = \"Pinch\", y = \"Pull\", color = \"Day_Order\", title = \"Kilograms Pulled by Day_Order\")\n",
    "byDay.update_layout(\n",
    "    title = {\n",
    "        \"text\":\"Kilograms Pulled by Day_Order<br><sup>by Jerry Yu</sub>\",\n",
    "        \"x\":0.5,\n",
    "        \"xanchor\":\"center\",\n",
    "        \"yanchor\":\"top\"\n",
    "    }\n",
    ")\n",
    "byDay.show()\n",
    "%R -i Chalk\n",
    "\n",
    "# Generally Also Pretty Random"
   ]
  },
  {
   "cell_type": "markdown",
   "metadata": {},
   "source": [
    "### Graph Summary\n",
    "- From our EDA we have generally shown that there appears to be good separation from chalk and person, and negligible for day order and pinch order.\n",
    "- However, we cannot avoid confonding of chalk and day. \n",
    "- The data is also somewhat group unbalanced, with control being overrepresented. Linearity looks fine, but not homoscedasticity or normality.\n",
    "\n",
    "Now we will test assumptions needed for Linear Mixed Models. I will increase power using chalk instead of bChalk initially for testing. So instead of each individual chalk, we are testing whether using chalk at all is significant. This results in control and treatment groups of roughly equal size and removes confounding from type of chalk by ignoring it. "
   ]
  },
  {
   "cell_type": "code",
   "execution_count": 11,
   "metadata": {},
   "outputs": [
    {
     "name": "stdout",
     "output_type": "stream",
     "text": [
      "           df      AIC\n",
      "twoeffects  7 3556.291\n",
      "nested      6 3555.706\n",
      "indep       7 3576.381\n",
      "nodate      6 3657.689\n",
      "           df      BIC\n",
      "twoeffects  7 3586.784\n",
      "nested      6 3581.843\n",
      "indep       7 3606.874\n",
      "nodate      6 3683.826\n",
      "[1] \"Random Intercepts for Person and For Each Person by Day Group\"\n",
      "           R2m       R2c\n",
      "[1,] 0.8914495 0.9276219\n",
      "[1] \"Random Intercept for Person by Day Group\"\n",
      "           R2m       R2c\n",
      "[1,] 0.8911071 0.9276359\n",
      "[1] \"Random Intercept for Person and Day\"\n",
      "           R2m       R2c\n",
      "[1,] 0.8876317 0.9241147\n",
      "[1] \"Random Intercept for Person Only\"\n",
      "           R2m       R2c\n",
      "[1,] 0.8761392 0.9104231\n"
     ]
    }
   ],
   "source": [
    "%%R -o resid -o predict\n",
    "Chalk$Day = as.factor(Chalk$Day)\n",
    "Chalk$Person = as.factor(Chalk$Person)\n",
    "# Now we will test assumptions needed for Linear Mixed Models and the random effects structure\n",
    "# First Fit a Full Model of All Relevant Variables and a model without Date to Test Significance of Date\n",
    "twoeffects = lmer(Pull~Pinch*Used + (1|Person) + (1 | Person:Day),\n",
    "                data = Chalk,\n",
    "                REML = FALSE,\n",
    "                na.action=na.fail) \n",
    "nested = lmer(Pull~Pinch*Used + (1 | Person:Day),\n",
    "                data = Chalk,\n",
    "                REML = FALSE,\n",
    "                na.action=na.fail) \n",
    "indep = lmer(Pull~Pinch*Used + (1 | Day) + (1|Person),\n",
    "                data = Chalk,\n",
    "                REML = FALSE,\n",
    "                na.action=na.fail) \n",
    "nodate = lmer(Pull~Pinch*Used + (1|Person), \n",
    "            data = Chalk)\n",
    "print(AIC(twoeffects, nested, indep, nodate))\n",
    "print(BIC(twoeffects, nested, indep, nodate))\n",
    "\n",
    "# Very Very Siginificant Effect on Fit, nested random better than crossed random\n",
    "resid = summary(nested)$residuals\n",
    "predict = predict(nested)\n",
    "\n",
    "# Test Practical Significance with Effect Size/Fit\n",
    "print(\"Random Intercepts for Person and For Each Person by Day Group\")\n",
    "r.squaredGLMM(twoeffects) |> print()\n",
    "print(\"Random Intercept for Person by Day Group\")\n",
    "r.squaredGLMM(nested) |> print()\n",
    "print(\"Random Intercept for Person and Day\")\n",
    "r.squaredGLMM(indep) |> print()\n",
    "print(\"Random Intercept for Person Only\")\n",
    "r.squaredGLMM(nodate) |> print()"
   ]
  },
  {
   "cell_type": "markdown",
   "metadata": {},
   "source": [
    "- From AIC and BIC (Basically comparing how likley our data would be assuming that our model was correct while accounting for increasing number of variables) we see that the model that includes the only nested Person Date conponent is the best model. \n",
    "- However we see from the conditional coefficient of determination (basically an approximation of how much of the variability of the data can be explained by our model) that the effects are very small, indicating that Date probably does not have  much of an effect on explaining the variation in our data. This is good because it might indicate that confounding does not have much of an effect. "
   ]
  },
  {
   "cell_type": "code",
   "execution_count": 12,
   "metadata": {},
   "outputs": [
    {
     "data": {
      "text/html": [
       "<div>                            <div id=\"daf5c1f3-81ab-415d-9457-36a3e26205f8\" class=\"plotly-graph-div\" style=\"height:525px; width:100%;\"></div>            <script type=\"text/javascript\">                require([\"plotly\"], function(Plotly) {                    window.PLOTLYENV=window.PLOTLYENV || {};                                    if (document.getElementById(\"daf5c1f3-81ab-415d-9457-36a3e26205f8\")) {                    Plotly.newPlot(                        \"daf5c1f3-81ab-415d-9457-36a3e26205f8\",                        [{\"hovertemplate\":\"Predicted Values=%{x}\\u003cbr\\u003eResiduals=%{y}\\u003cextra\\u003e\\u003c\\u002fextra\\u003e\",\"legendgroup\":\"\",\"marker\":{\"color\":\"#636efa\",\"symbol\":\"circle\"},\"mode\":\"markers\",\"name\":\"\",\"orientation\":\"v\",\"showlegend\":false,\"x\":[33.96946327104042,33.276645496279315,33.57822499823415,44.21775638082383,44.21775638082383,44.195230800717574,10.553276912021417,13.031090723709784,11.668293127281181,33.36042676960753,29.801385112818778,32.831075637110466,44.169864215515915,45.690340872688324,44.58658744748168,53.22798842332698,58.498974168191324,52.664848920670536,21.62175852915177,21.261349247451648,21.554181788833,65.58042810651402,66.4251373604987,64.38657236088237,48.666558451809756,44.21775638082383,49.17338400420056,42.420827504333026,43.63529630950249,41.33677145676565,10.185436603359216,10.495166902664181,11.196135474775414,31.865544935913846,26.649034631830236,26.159986790822398,41.3296332782084,43.505896170693276,42.11210982382093,45.306209766279274,40.969985576009776,40.44833454560141,47.8411077421699,47.84925853952004,47.70254418721769,11.420511746112346,12.726995392275303,9.933823459099326,25.206343500857113,26.57567745567906,23.942969911586864,44.39796102167389,45.25393306571169,48.32867475021589,34.09886340984964,35.21552264681755,30.675528522794767,11.271254470326275,9.59309875241006,9.59309875241006,68.2937943989633,80.53644718671445,72.43850113851475,61.72196260306907,64.09841130427928,60.03254409509972,52.882334440725806,48.83953895506101,51.48854809385347,12.176949159354855,13.246914214402103,11.534970126326506,23.03766031387356,21.586818385550302,18.644380542153144,17.344857994156214,17.01067530280086,19.464065305190182,37.709694209798165,37.32675934799178,33.64382700061862,33.13295246135926,38.536931104495885,34.697905552584345,50.03770616553021,46.28833938447012,51.97759593486131,44.568521143592555,46.060117058666464,42.75089333451342,35.107989707525384,31.93188291254302,34.466010674497035,56.341818286507355,51.14976037447414,48.321433693978804,11.851220580168164,10.710108951149873,11.957180945719863,24.509704267531053,22.36977415743655,22.35851136738342,24.256285291229133,24.819424793885574,22.26277145182531,42.64842144798869,38.56002865870288,37.625217084293176,20.58887533950821,18.81200151717973,18.608231583426463,69.93253655180007,70.39431094397835,77.33218961670579,30.57360209341824,27.451846708318207,28.014251725477223,56.8677000901705,59.9424417746747,55.5837420241138,6.521875139222643,5.70679540420958,7.377708860986361,45.17553081444488,45.7274075270482,45.95266332811078,25.623344252590393,26.36506681145228,26.356916014102147,15.846387307772094,13.694576807337606,14.827537639005767,5.70679540420958,5.348160320803831,6.057279690265196,18.37759588579821,18.569063316701403,17.499098261654154,59.79087491115333,59.2727865687094,63.73285142974846,37.4215478935679,31.7567437352271,31.707838951126323,19.10270637248588,18.312079029523208,19.0538015883851,41.9956666272096,44.59737112948239,44.58610833942926,10.880335102667258,10.159516539267004,11.848935047236347,40.029803045609704,38.07361168157835,39.304382081448075,67.25059931857761,67.5997458102246,70.64069912456942,57.711016143577396,54.63627445907319,57.125351060814694,26.071638106847573,24.254010297768446,24.816415314927454,49.721101094915035,50.568784019328625,47.495933418329365,53.33605524303457,49.83936317982853,46.896925336431366,76.7413739411124,78.38574128886923,73.03591601363297,18.287626637472815,19.10270637248588,19.754770160496328,68.19667368304044,67.03660630756816,68.00520625213726,11.603972810365692,11.277940916360466,9.892305366838258,33.350300140514236,37.64577034403309,33.28509376171319,28.016875802049896,29.174289025768445,28.628185603309696,47.52333174869591,46.79125039524252,46.62230854444559,62.46268223934867,54.62378036237092,50.681803843775796,7.545317940291951,6.599243575829118,6.869550537104213,14.755528513387343,14.315385456480291,13.7855836287218,54.112063929776326,50.654387383465746,52.18612683069128,30.910716420330708,34.39091854674755,34.98784641956338,57.43947787565316,61.3476660240889,75.78656287220022,48.192727242034294,37.17771857007419,39.70058354197507,25.009231579851686,21.765214234499695,18.91243516195397,44.424430867862874,45.76931243063443,43.73161309310177,25.15594593215404,21.007190080937544,29.02757467346609,4.534428636323521,4.558881028373913,4.412166676071561,13.206877016862522,12.79933714935599,12.677075189104032,40.022313573312026,42.84927387664739,41.41889953990001,45.404696734413086,45.03791085365721,42.52746526981697,17.10742669539842,18.030975479754996,17.298894126301615,21.438709985649265,22.12574017889013,22.85782153234351,6.700608686307279,6.824499376891697,5.540541310834998,33.83056449722757,34.93907293684534,34.841263368643766,18.12107780018003,17.208791805876587,17.287631336248484,29.20366321245891,29.42891901352149,29.406393433415225,30.757928239790704,32.3910327974944,32.67260254882262,4.950119301180185,4.689293785976003,3.8253092668621553,12.755098854686853,11.437352418470766,12.293324462508565,25.812738057300116,25.91869842285181,28.257977262339306,20.960142274343493,19.642395838127406,19.60860746796802,49.88464916014157,47.439409955102384,48.07517214841257,44.59478167990679,41.587137457708586,38.38387409910724,30.80382078077819,32.639655559438204,34.20518337682313,24.69053455088776,23.27229581196503,25.407804717699257,53.26047681065405,47.15604460185815,45.511677254101336,9.13066240948837,10.38588520140849,8.160717524822823,35.112797833799185,33.05879690156626,34.99053587354722,64.44577466947435,62.85772127198316,66.05635364707177,52.27069862204195,52.15807072151066,53.72359853889559,9.877929237794717,9.918683224545369,8.826476379627863,26.66902949521661,26.60145275489783,26.612715544950962,11.157604421765225,9.079151097481915,9.975738805996283,39.81270548721809,36.52397079170443,38.23591487978003,15.383713861981409,14.482690657731094,13.818186044596487,18.460718847482276,17.686393099219867,18.50962363158306,47.34975118425094,47.30899719750029,47.75729105175748,46.68300741962674,42.08778907795014,51.04170717018764,8.397090647976613,9.12251161213824,8.641614568480533,24.633478969436844,26.646725914919116,24.43785983303371,34.699713696848185,33.16736379502363,32.46639522291238,33.01132763119146,33.85603688517613,29.305869703712037,2.138672759501774,4.154712179011855,2.037307649023613,17.126594609966528,14.436831484423417,15.243760422086352,37.52804037734352,37.316119646240125,38.87292194011508,58.959448577537295,65.14272031670508,56.53794871611456,1.3603460069081974,0.05621843088729417,0.6267742453964393,41.040349603009155,40.98403565274349,35.66799874766664,31.489503637955796,26.31988300356961,30.64479438397112,9.134212718558105,9.280628989248783,8.357080204892208,69.99833016566691,64.32188397888991,64.42324908936808,65.69459702930838,59.91678573205325,61.08811589757865,10.463221944827321,8.841380177176752,10.204177773605355,41.55453426830805,38.28606453090567,38.7995647639639,48.52628670614392,46.94503202021858,42.19311716509242,24.50588691530892,25.60624455757656,27.317912001104,47.40925321440684,48.873415921313594,47.7809252861601,14.938629491236094,13.936241176507616,14.994943441501738,18.204121221717454,20.659409453299567,19.082618845861507,34.93075672612602,35.41165376978372,37.93840094832422,2.0990488306691013,1.6710628086502002,3.833518498850955,23.764567841089335,23.185861229230056,25.37027491906507,44.744720220325604,47.393729359118055,45.68206191559062,17.276533150385344,15.532262517457387,16.192477102817968,0.4202807456728834,0.8196698158292861,0.5425427059248449,25.49213339467473,23.7804659511473,26.649546618393288,52.1952216020606,51.9249146407855,53.107507596364044,10.022323508769075,7.699346263981844,8.767100716848956,34.29499453281583,33.45546240575237,33.55327197395394,30.929118711854166,29.380467215329347,29.06258611867425,28.318106689427243,28.65599039102111,30.840971661328126,40.89714038642164,40.62816407386734,41.15796590162582,44.80683132720801,42.06997334429768,40.93243154893165,17.25167727369265,15.572613019565742,18.164566576907283,42.26144077520087,39.24301304096231,43.184989559557444,21.898316359143745,17.393200337892168,20.603095503033916,24.737256837458276,22.935210428957646,20.682652418331855,8.115036928838505,8.93011666385157,7.454822343477924,14.635674808943016,13.975460223582434,14.994309892348767,56.11467254054948,59.07678632452238,58.8515305234598,9.99746763207639,9.100879923562015,8.954165571259665,38.635539763019395,36.51813523303115,34.32189117267101,19.077455880121917,17.202772489591872,18.881836743718786,45.453436105144675,42.527299856447776,43.701014674866585,7.357012775276357,8.693743540697781,7.373314369976618,31.8416045304265,32.583327089288396,34.523216858619485,14.709031985094192,13.77169028982917,15.59746889625843,57.96248749418866,60.271359455080095,62.34371282485581,46.2852209195003,43.79107693036032,45.44568879243683,13.395627253957427,15.411666673467513,15.321564353042481,24.441084021150175,22.778321361723528,22.778321361723528,8.844742687567301,8.382968295389015,9.880919372455164,2.8059015673563845,2.4454922856562593,4.292589854369405,1.015117948908884,3.616822451181669,0.8349133080588196,55.15215620952389,53.65420513245773,51.66069129305391,12.026933096093165,9.695535555095473,12.150823786677583,13.280296316766302,12.32295916225034,14.260159051388518,9.550033429123793,9.30550950861987,6.949929074432118,48.01154731584013,43.540219664747944,39.14773154402766,16.55971915023614,17.244386127647118,17.448156061400383,35.61440899212099,34.510655566914366,36.05365780419303,26.365128362443308,26.813422216700488,27.245414476257416,30.93715759529666,34.66514110288234,34.89039690394492,62.43918137389831,63.36273015825488,67.27091830669063,34.642615522776076,32.964459804859864,35.205755025432524,49.61206769179813,54.35583174957416,49.02521028258872,2.556649302711703,0.44559278902786836,0.29072763937538504,24.562418425225673,25.249448618466545,21.116004668968223,32.20109926513685,32.1358928863358,32.062535710184626,40.20518226296513,41.395198676084206,44.402842898282415,2.1654110299054317,1.407386876343283,3.2657686721730688,33.18821103128489,32.658409203526396,34.41898143115462,23.725135307783212,26.31708886512476,26.545311190928416,24.8359189112766,25.421583994039295,24.216465458354506,45.499945133992384,53.823146983254674,49.689703033756345,75.32381319467781,68.92654844450058,71.5057273666671,57.77957981667874,62.91541208090555,59.750568075976325,39.08938831277947,39.58658695113744,41.461270341667486,46.494264183443555,45.06388984669618,49.64784539831965,20.44023726578049,24.461053314747517,27.31053919818914,32.617655216775745,33.106703057783584,33.99513996894782,26.43033474124435,23.349333342894965,27.180208097456372,47.51917807827829,47.30518506726884,44.827371255580466,41.70579426217141,45.17803393332706,42.325254860781335],\"xaxis\":\"x\",\"y\":[0.12471806815529049,-0.27229590116651664,-0.33194732375866887,-0.6166818441120533,0.05582684927949038,0.2976383435486076,-0.6632670219657513,-0.6984380026026672,-0.6266778445027282,-0.5460032353034702,-0.73212166645902,-1.0544690326719566,0.08507942776598229,-1.6200221878597008,-0.8874320770861202,-1.6076890807274176,-1.859085834432712,-1.6743189668814593,0.3715099168923398,0.26478066720702953,0.7606900530039188,-0.3323830912500503,-0.9346164565895719,2.3564363692346184,-1.6153181040977203,-1.0913938629766724,-1.2804138289666576,-0.1821366181699999,-0.22455783462228343,0.6256760866204022,-0.35315342272310074,-0.43419671337854426,-0.3354899564577234,0.7188831253937823,-0.04925822201805809,0.18593148678671245,1.8336477092154477,0.018613424497119585,-0.08151395269165619,1.2646704458526887,-0.36987692834804925,1.2958976394929738,1.7127000936857277,0.9396808624201225,0.37531044983012424,-1.1314981999732334,-1.0536619738123054,-0.6791988611223881,0.8294913096386879,1.428946974976573,-0.06783830797467487,-0.3754103784688205,-0.3073627928352013,-0.3617057843840575,2.3935645755278303,4.209998839503129,3.3278245088642913,0.28260111451467235,-0.0975332934400855,0.35739905797184146,1.128668492051971,0.5466215563474076,0.526435624058977,3.1208433276743928,0.870619606648862,1.477037945165722,0.49798587519540527,-0.5023123601426495,-0.5911248746279955,-0.667949313766884,-0.14773714776562652,-0.16515431431670927,0.22990692458647932,0.694895640347283,0.18901835087533117,-0.503364448387359,-0.2592472162785801,-0.4873839231837898,0.07720118735052672,0.1133850946708713,0.9407552027523854,0.6659908061172054,-0.4820168685205114,0.15865161435532785,0.3090165250920425,0.022086098427439405,-0.9647722556016138,-0.9827569595193201,-1.2580100038061917,-1.117727909673119,-0.0015803375789634087,0.34972768007322275,-0.5471077131214896,-1.036814225545577,0.4253102473650342,-0.3602735275402997,-1.6320639915453852,-1.0701015593657934,-1.3365479202400887,-0.1601568114679017,0.4213515876503669,0.6213760045956951,-0.9605570811591408,-0.7356898553835586,-0.7047043452705096,0.524473419834755,1.5902795946003483,-0.44014053937369,-1.0263422866894911,-0.8331198932005123,-0.3774418614290023,0.23092038768568174,2.1966683636111433,2.347413427731703,-1.0826602917617412,-0.9596791442197471,-1.110480321256444,0.9360331850283407,2.0882499080937253,2.2778775306244614,-0.08344549960382219,-0.08046277816549112,0.3406634598640872,0.7960266216388837,0.3703925638940165,-0.26755230805483454,-0.8155837810920874,-0.25022600835964076,0.04808120404134546,0.22818075421473247,-0.23628331995836932,0.6275025050664954,0.35468990579374327,-0.04908528620453258,0.4831619540649236,-0.8856535760863258,-0.7059488552195737,-1.0481440141465994,-1.1256361325748367,0.3614167403602125,0.11218010115845449,1.6374502968826854,-0.5452747433508535,0.45338183294736095,-0.7323830072273595,-0.7144572201681321,-0.7820488059218453,-1.1068042506233522,-0.35551403230231987,0.33900207096032076,-0.39170369775651964,0.16624483352786762,-0.919543892435021,-0.757522306514687,1.5084742480347884,1.6408456374355398,0.8405173235177958,1.5033050042969003,-1.2541692010156151,2.232923465588529,2.1290291175158473,-0.5390653767475733,0.9154745909726916,1.551910671473898,1.30221115717374,0.5892162971777037,1.0149374572562113,0.020584023783836523,-0.4422842911307325,1.119655138734582,0.7522355214314793,-1.1949636751256532,-0.590569697936066,-1.3323417873892613,-0.927196960315953,-1.167535691186594,-1.2173930702237203,-0.29603707735736384,1.3971157832374717,0.29566523243088905,-0.8908708440500211,-0.7077048149099178,-1.1259190719523735,0.16806780655227993,-0.009053221841697967,-0.7882382937448621,1.4603574139737985,1.6270182763226313,1.398781370536973,1.0239277652370602,-0.7103373855724741,-0.0044125559048730405,-0.13107634321122372,-1.4486194006425646,-0.8073672263700711,-0.26609941477115967,-0.23720639124677734,-0.3895705465519317,-0.10988169255290281,-0.02282285958057288,0.2599871871825753,-0.5166575589614879,0.9188867266908003,0.8928291021255756,0.6308296861819126,0.37760996285436277,-0.9667997673879722,0.3680050890795737,-1.4335642376465625,-2.1928852680548743,0.21901486931987235,-1.3208305265873657,-0.8308614556751996,0.31464870344778645,0.5409315299595305,0.05687936867637851,1.53798171689093,-0.11260810554632994,0.44867938672488644,0.4438664320785484,1.106239203251753,3.080173943907267,-0.02658953722598176,-0.26878214849008764,0.5316444931556954,0.6909281097781638,0.2770464539907876,0.7363821471090021,0.4900781357193803,0.7616608217131037,0.5105330876276932,-0.19872567297496962,0.42765404317736205,0.5088388147352227,0.018310691800160442,-0.3028218586778014,-0.019560929312705297,-0.10655504369587215,0.6674173716053482,0.6412921191252543,-0.257256073012412,0.29184911651322776,0.13043873570472236,-1.153266268166364,-0.7791355276270155,-1.5114164835021433,-0.5184404725519569,-0.17975599703970718,-0.3140281986846881,-0.6930129320866946,-0.6584491106440011,-0.7924512979760399,-1.2575770627114256,-1.5014810435692096,-0.17259788234083195,-0.4846254499676732,0.19991432805764492,0.37080759278110814,-0.42627138673384374,0.012391483293636832,-0.3547136150319788,-0.4574518967858232,0.2534371910260154,0.562142646439192,0.9375280958656095,0.36742792580577416,0.5125688252298325,1.1898163922367406,0.6053745329709596,0.7169788947765713,-1.0868495435370311,-0.729303527658418,-0.5506410391050499,0.6519732882068296,0.921800632493164,0.45390709671349194,0.23922824378961394,0.7966664943714846,-0.25867942409153627,-1.0207251521206808,-2.3253065278377467,-1.980276467298097,-0.4016582716836318,-0.25434381666198413,-0.09112839430623032,0.07658730084414284,-0.9412742018788393,-0.25526370414534005,0.20852226458002235,2.0654480068849757,2.2239558581659877,-0.1722212919550733,0.5423444930732009,-0.22224405449685825,-0.19343115115844514,0.8863895556866475,0.9244074304326424,-0.9037388399692784,0.3161873291553856,0.5513155961692909,-0.14985163523205505,-0.49036784273169864,0.439951467453222,-1.9211408460311516,-0.5981313664656877,-0.6598328697253766,0.45815369535289047,0.16166106996057777,0.6491318867948682,0.10666801860305303,0.2993864115153151,1.5013512040806263,-0.5241119725686161,0.6707290776459253,-0.050891314423163796,-0.3922322731643866,-0.19538139475255487,-0.008249539567044153,-0.5730348959728275,-0.20224939654610857,-0.3840449048584792,-0.4417747127804309,-0.08836090039599927,-0.44264123303144676,0.5934466533921101,0.0855740026242747,0.22422325513576682,-0.3187152470230187,-0.07042291189676327,1.0076020322126162,0.5857406803565436,0.5825681365161073,0.8629260390071805,-0.6579893513505711,-0.027064812589534377,0.07046300384619487,-0.08466496320179846,-0.18120541949507968,0.3218306294409582,-1.139199775745703,-1.5314843304363224,-0.3833198114511836,0.38365710956642907,0.6218295398095305,0.5089754970676207,-1.0563033922863927,0.29985270658871704,0.28324508562993106,1.1690765252158297,0.6685759014058678,0.9010045226368844,0.30970751728576057,0.28074686584651054,0.16672673236523786,-2.6303654835300025,-1.309786630127545,-0.7364462883124072,-0.8890163457357924,-0.06265916433770981,1.2484696854583064,0.14573224917757077,0.44674748997503017,0.1574109898954741,-1.2371260789860257,-0.9466676482844072,-1.95810098957598,0.7859872750481648,2.0283985637808613,1.1288024466595081,1.8779039957344585,-0.040794487627920574,-0.28045827859018835,-1.030372962578365,-2.7045561986593345,-3.0818552076549395,-0.5416918061278633,1.1202726606093212,0.9899835430901307,1.2650835530216178,-0.6249206833315836,-0.7679690961669726,0.03347575675832301,-0.37811875851007887,-1.332833299207607,0.3166628173736433,0.7969103783268385,0.7252178481417679,0.5806187193319207,1.387373323528666,0.5399305433816696,-0.048404845769900805,-0.2558953649714005,-0.19424858108336607,-0.351392349333062,0.1914152558619868,0.31796268328849364,0.2135648779285945,0.3719230574415671,1.0399075692353896,-0.25557968851184826,-0.6488652560357407,-0.28671550068994156,-1.4034112379191852,0.509343320675599,-0.5948750011752723,-0.5978055393790698,-0.05920969554766756,-0.07261130100917368,-0.6715186286280613,-0.6241399704525484,-0.959961057022813,0.7260881113783599,1.249982569371732,0.9172650441312324,0.9854019296792225,0.4834169731678743,0.36770962324061074,-1.7004857788753214,-0.2824861044897843,-1.8707542031306348,-1.0496735887970503,-0.11273883207107087,-1.648127251101913,-0.30691660467541104,-0.014362613797462188,-0.09188972400861763,-1.2582718305347138,-0.9974912090982583,-1.3024890366749806,-1.4831420403894704,-0.3349093961429362,-0.17862928728032904,-0.4029626276064866,-1.2135242203707295,0.3594653081135077,-0.04253358942473911,0.07316169385308438,0.503427676540298,-0.22463270055292903,0.10375222343249109,0.19892215889803885,-0.12158018444370297,1.1913716349745673,-0.8607182666427564,0.21807723593358586,0.059164956403672975,0.7409135933333008,-0.3235043261817908,-0.3991804378391822,1.4395857228907303,2.0417648995693454,1.0082146508658831,1.665084697717172,0.12788818827155973,-1.1526205330765953,-1.2858790837393466,-0.2288532793348314,-0.25589817004071014,-0.23207768055602876,0.011550429689075999,0.5571285349688285,1.0041708226594204,0.7894002014916907,0.28251491086630565,0.2971956556933525,-1.39693654023851,-0.5877250190389784,-0.9185109542145096,0.3193979322184862,0.3775786351024586,1.1975226234070842,0.11954291934192657,0.3932857198391835,1.360531696915653,-0.4234992992662402,-0.3319663841364134,0.14274563472820562,0.505421398959795,0.37918249613473487,0.1224520893924102,0.3746463712035674,-0.008998222819437025,0.1597030417850316,0.41238273648669665,0.2735879194365689,0.9622979689511625,0.7610907058552518,1.0771601149556551,0.7198431598108187,-0.4602596282538691,-0.41448996415081785,-1.0979344858897775,0.06323632537763474,0.5888487776377328,0.6210500981788155,-0.12857445061201966,-0.23844577191559752,0.4846158814324315,0.3141906585701894,2.8007574623446,3.2146446541101663,-1.3568296361053707,-0.14723710061257486,-0.6029151323840841,-1.6247827818455998,-1.8613963762539525,-1.3556307220148862,0.2640331708290239,0.35337914432032846,-0.028762499831791043,2.3266511106346153,0.9563190116567883,1.6238321915856406,1.7921997927345334,3.7457289993162064,1.96393934004276,0.1300284634805125,1.9454371427746184,1.7988114133026432,0.4525454021050403,0.2658720099389067,-0.06432551241801038,0.18659163083628075,0.40635491445442184,0.3776477236977202,-1.3573635437219336,-0.7218488005895619,-1.0712677127442123,-0.19801410551541654,-1.3718965477921754,-1.7134207564452513,0.5725853217470549,-0.03860964900151376,0.4543700355856473,1.0749436257054101,0.39413224947800635,0.8375168758218917,-1.5602619099547537,-0.4071464952731366,-1.823483869607853,-1.5280060741500503,-2.2978215452054433,-0.7605897660868093,-0.14556231337198622,-0.7954559403516807,-0.29995182469747,-0.593379171266923,2.111846021124989,1.584410101896109,1.3205275486132622,0.23210481539623068,-0.040692188985934685,-0.05529995800390214,0.23430755108165138,0.6625064961262023,-1.7187321119409043,-1.7577373468293487,-2.0494248174562815,0.5945245490213354,0.007142468240153775,-0.919328363502897,0.1502785422581029,0.18572053190101998,0.45284773305793496,-1.4474078672128445,-1.6628179085649222,-1.7594291053094102,0.1324575612280801,0.04958103119015704,-0.5499159161696989,0.7280543356423597,-0.3966189381168244,0.11326406138471175,-2.0384518334161665,-2.448333949193522,-2.220318082179745],\"yaxis\":\"y\",\"type\":\"scatter\"}],                        {\"template\":{\"data\":{\"histogram2dcontour\":[{\"type\":\"histogram2dcontour\",\"colorbar\":{\"outlinewidth\":0,\"ticks\":\"\"},\"colorscale\":[[0.0,\"#0d0887\"],[0.1111111111111111,\"#46039f\"],[0.2222222222222222,\"#7201a8\"],[0.3333333333333333,\"#9c179e\"],[0.4444444444444444,\"#bd3786\"],[0.5555555555555556,\"#d8576b\"],[0.6666666666666666,\"#ed7953\"],[0.7777777777777778,\"#fb9f3a\"],[0.8888888888888888,\"#fdca26\"],[1.0,\"#f0f921\"]]}],\"choropleth\":[{\"type\":\"choropleth\",\"colorbar\":{\"outlinewidth\":0,\"ticks\":\"\"}}],\"histogram2d\":[{\"type\":\"histogram2d\",\"colorbar\":{\"outlinewidth\":0,\"ticks\":\"\"},\"colorscale\":[[0.0,\"#0d0887\"],[0.1111111111111111,\"#46039f\"],[0.2222222222222222,\"#7201a8\"],[0.3333333333333333,\"#9c179e\"],[0.4444444444444444,\"#bd3786\"],[0.5555555555555556,\"#d8576b\"],[0.6666666666666666,\"#ed7953\"],[0.7777777777777778,\"#fb9f3a\"],[0.8888888888888888,\"#fdca26\"],[1.0,\"#f0f921\"]]}],\"heatmap\":[{\"type\":\"heatmap\",\"colorbar\":{\"outlinewidth\":0,\"ticks\":\"\"},\"colorscale\":[[0.0,\"#0d0887\"],[0.1111111111111111,\"#46039f\"],[0.2222222222222222,\"#7201a8\"],[0.3333333333333333,\"#9c179e\"],[0.4444444444444444,\"#bd3786\"],[0.5555555555555556,\"#d8576b\"],[0.6666666666666666,\"#ed7953\"],[0.7777777777777778,\"#fb9f3a\"],[0.8888888888888888,\"#fdca26\"],[1.0,\"#f0f921\"]]}],\"heatmapgl\":[{\"type\":\"heatmapgl\",\"colorbar\":{\"outlinewidth\":0,\"ticks\":\"\"},\"colorscale\":[[0.0,\"#0d0887\"],[0.1111111111111111,\"#46039f\"],[0.2222222222222222,\"#7201a8\"],[0.3333333333333333,\"#9c179e\"],[0.4444444444444444,\"#bd3786\"],[0.5555555555555556,\"#d8576b\"],[0.6666666666666666,\"#ed7953\"],[0.7777777777777778,\"#fb9f3a\"],[0.8888888888888888,\"#fdca26\"],[1.0,\"#f0f921\"]]}],\"contourcarpet\":[{\"type\":\"contourcarpet\",\"colorbar\":{\"outlinewidth\":0,\"ticks\":\"\"}}],\"contour\":[{\"type\":\"contour\",\"colorbar\":{\"outlinewidth\":0,\"ticks\":\"\"},\"colorscale\":[[0.0,\"#0d0887\"],[0.1111111111111111,\"#46039f\"],[0.2222222222222222,\"#7201a8\"],[0.3333333333333333,\"#9c179e\"],[0.4444444444444444,\"#bd3786\"],[0.5555555555555556,\"#d8576b\"],[0.6666666666666666,\"#ed7953\"],[0.7777777777777778,\"#fb9f3a\"],[0.8888888888888888,\"#fdca26\"],[1.0,\"#f0f921\"]]}],\"surface\":[{\"type\":\"surface\",\"colorbar\":{\"outlinewidth\":0,\"ticks\":\"\"},\"colorscale\":[[0.0,\"#0d0887\"],[0.1111111111111111,\"#46039f\"],[0.2222222222222222,\"#7201a8\"],[0.3333333333333333,\"#9c179e\"],[0.4444444444444444,\"#bd3786\"],[0.5555555555555556,\"#d8576b\"],[0.6666666666666666,\"#ed7953\"],[0.7777777777777778,\"#fb9f3a\"],[0.8888888888888888,\"#fdca26\"],[1.0,\"#f0f921\"]]}],\"mesh3d\":[{\"type\":\"mesh3d\",\"colorbar\":{\"outlinewidth\":0,\"ticks\":\"\"}}],\"scatter\":[{\"fillpattern\":{\"fillmode\":\"overlay\",\"size\":10,\"solidity\":0.2},\"type\":\"scatter\"}],\"parcoords\":[{\"type\":\"parcoords\",\"line\":{\"colorbar\":{\"outlinewidth\":0,\"ticks\":\"\"}}}],\"scatterpolargl\":[{\"type\":\"scatterpolargl\",\"marker\":{\"colorbar\":{\"outlinewidth\":0,\"ticks\":\"\"}}}],\"bar\":[{\"error_x\":{\"color\":\"#2a3f5f\"},\"error_y\":{\"color\":\"#2a3f5f\"},\"marker\":{\"line\":{\"color\":\"#E5ECF6\",\"width\":0.5},\"pattern\":{\"fillmode\":\"overlay\",\"size\":10,\"solidity\":0.2}},\"type\":\"bar\"}],\"scattergeo\":[{\"type\":\"scattergeo\",\"marker\":{\"colorbar\":{\"outlinewidth\":0,\"ticks\":\"\"}}}],\"scatterpolar\":[{\"type\":\"scatterpolar\",\"marker\":{\"colorbar\":{\"outlinewidth\":0,\"ticks\":\"\"}}}],\"histogram\":[{\"marker\":{\"pattern\":{\"fillmode\":\"overlay\",\"size\":10,\"solidity\":0.2}},\"type\":\"histogram\"}],\"scattergl\":[{\"type\":\"scattergl\",\"marker\":{\"colorbar\":{\"outlinewidth\":0,\"ticks\":\"\"}}}],\"scatter3d\":[{\"type\":\"scatter3d\",\"line\":{\"colorbar\":{\"outlinewidth\":0,\"ticks\":\"\"}},\"marker\":{\"colorbar\":{\"outlinewidth\":0,\"ticks\":\"\"}}}],\"scattermapbox\":[{\"type\":\"scattermapbox\",\"marker\":{\"colorbar\":{\"outlinewidth\":0,\"ticks\":\"\"}}}],\"scatterternary\":[{\"type\":\"scatterternary\",\"marker\":{\"colorbar\":{\"outlinewidth\":0,\"ticks\":\"\"}}}],\"scattercarpet\":[{\"type\":\"scattercarpet\",\"marker\":{\"colorbar\":{\"outlinewidth\":0,\"ticks\":\"\"}}}],\"carpet\":[{\"aaxis\":{\"endlinecolor\":\"#2a3f5f\",\"gridcolor\":\"white\",\"linecolor\":\"white\",\"minorgridcolor\":\"white\",\"startlinecolor\":\"#2a3f5f\"},\"baxis\":{\"endlinecolor\":\"#2a3f5f\",\"gridcolor\":\"white\",\"linecolor\":\"white\",\"minorgridcolor\":\"white\",\"startlinecolor\":\"#2a3f5f\"},\"type\":\"carpet\"}],\"table\":[{\"cells\":{\"fill\":{\"color\":\"#EBF0F8\"},\"line\":{\"color\":\"white\"}},\"header\":{\"fill\":{\"color\":\"#C8D4E3\"},\"line\":{\"color\":\"white\"}},\"type\":\"table\"}],\"barpolar\":[{\"marker\":{\"line\":{\"color\":\"#E5ECF6\",\"width\":0.5},\"pattern\":{\"fillmode\":\"overlay\",\"size\":10,\"solidity\":0.2}},\"type\":\"barpolar\"}],\"pie\":[{\"automargin\":true,\"type\":\"pie\"}]},\"layout\":{\"autotypenumbers\":\"strict\",\"colorway\":[\"#636efa\",\"#EF553B\",\"#00cc96\",\"#ab63fa\",\"#FFA15A\",\"#19d3f3\",\"#FF6692\",\"#B6E880\",\"#FF97FF\",\"#FECB52\"],\"font\":{\"color\":\"#2a3f5f\"},\"hovermode\":\"closest\",\"hoverlabel\":{\"align\":\"left\"},\"paper_bgcolor\":\"white\",\"plot_bgcolor\":\"#E5ECF6\",\"polar\":{\"bgcolor\":\"#E5ECF6\",\"angularaxis\":{\"gridcolor\":\"white\",\"linecolor\":\"white\",\"ticks\":\"\"},\"radialaxis\":{\"gridcolor\":\"white\",\"linecolor\":\"white\",\"ticks\":\"\"}},\"ternary\":{\"bgcolor\":\"#E5ECF6\",\"aaxis\":{\"gridcolor\":\"white\",\"linecolor\":\"white\",\"ticks\":\"\"},\"baxis\":{\"gridcolor\":\"white\",\"linecolor\":\"white\",\"ticks\":\"\"},\"caxis\":{\"gridcolor\":\"white\",\"linecolor\":\"white\",\"ticks\":\"\"}},\"coloraxis\":{\"colorbar\":{\"outlinewidth\":0,\"ticks\":\"\"}},\"colorscale\":{\"sequential\":[[0.0,\"#0d0887\"],[0.1111111111111111,\"#46039f\"],[0.2222222222222222,\"#7201a8\"],[0.3333333333333333,\"#9c179e\"],[0.4444444444444444,\"#bd3786\"],[0.5555555555555556,\"#d8576b\"],[0.6666666666666666,\"#ed7953\"],[0.7777777777777778,\"#fb9f3a\"],[0.8888888888888888,\"#fdca26\"],[1.0,\"#f0f921\"]],\"sequentialminus\":[[0.0,\"#0d0887\"],[0.1111111111111111,\"#46039f\"],[0.2222222222222222,\"#7201a8\"],[0.3333333333333333,\"#9c179e\"],[0.4444444444444444,\"#bd3786\"],[0.5555555555555556,\"#d8576b\"],[0.6666666666666666,\"#ed7953\"],[0.7777777777777778,\"#fb9f3a\"],[0.8888888888888888,\"#fdca26\"],[1.0,\"#f0f921\"]],\"diverging\":[[0,\"#8e0152\"],[0.1,\"#c51b7d\"],[0.2,\"#de77ae\"],[0.3,\"#f1b6da\"],[0.4,\"#fde0ef\"],[0.5,\"#f7f7f7\"],[0.6,\"#e6f5d0\"],[0.7,\"#b8e186\"],[0.8,\"#7fbc41\"],[0.9,\"#4d9221\"],[1,\"#276419\"]]},\"xaxis\":{\"gridcolor\":\"white\",\"linecolor\":\"white\",\"ticks\":\"\",\"title\":{\"standoff\":15},\"zerolinecolor\":\"white\",\"automargin\":true,\"zerolinewidth\":2},\"yaxis\":{\"gridcolor\":\"white\",\"linecolor\":\"white\",\"ticks\":\"\",\"title\":{\"standoff\":15},\"zerolinecolor\":\"white\",\"automargin\":true,\"zerolinewidth\":2},\"scene\":{\"xaxis\":{\"backgroundcolor\":\"#E5ECF6\",\"gridcolor\":\"white\",\"linecolor\":\"white\",\"showbackground\":true,\"ticks\":\"\",\"zerolinecolor\":\"white\",\"gridwidth\":2},\"yaxis\":{\"backgroundcolor\":\"#E5ECF6\",\"gridcolor\":\"white\",\"linecolor\":\"white\",\"showbackground\":true,\"ticks\":\"\",\"zerolinecolor\":\"white\",\"gridwidth\":2},\"zaxis\":{\"backgroundcolor\":\"#E5ECF6\",\"gridcolor\":\"white\",\"linecolor\":\"white\",\"showbackground\":true,\"ticks\":\"\",\"zerolinecolor\":\"white\",\"gridwidth\":2}},\"shapedefaults\":{\"line\":{\"color\":\"#2a3f5f\"}},\"annotationdefaults\":{\"arrowcolor\":\"#2a3f5f\",\"arrowhead\":0,\"arrowwidth\":1},\"geo\":{\"bgcolor\":\"white\",\"landcolor\":\"#E5ECF6\",\"subunitcolor\":\"white\",\"showland\":true,\"showlakes\":true,\"lakecolor\":\"white\"},\"title\":{\"x\":0.05},\"mapbox\":{\"style\":\"light\"}}},\"xaxis\":{\"anchor\":\"y\",\"domain\":[0.0,1.0],\"title\":{\"text\":\"Predicted Values\"}},\"yaxis\":{\"anchor\":\"x\",\"domain\":[0.0,1.0],\"title\":{\"text\":\"Residuals\"}},\"legend\":{\"tracegroupgap\":0},\"title\":{\"text\":\"Residuals\"}},                        {\"responsive\": true}                    ).then(function(){\n",
       "                            \n",
       "var gd = document.getElementById('daf5c1f3-81ab-415d-9457-36a3e26205f8');\n",
       "var x = new MutationObserver(function (mutations, observer) {{\n",
       "        var display = window.getComputedStyle(gd).display;\n",
       "        if (!display || display === 'none') {{\n",
       "            console.log([gd, 'removed!']);\n",
       "            Plotly.purge(gd);\n",
       "            observer.disconnect();\n",
       "        }}\n",
       "}});\n",
       "\n",
       "// Listen for the removal of the full notebook cells\n",
       "var notebookContainer = gd.closest('#notebook-container');\n",
       "if (notebookContainer) {{\n",
       "    x.observe(notebookContainer, {childList: true});\n",
       "}}\n",
       "\n",
       "// Listen for the clearing of the current output cell\n",
       "var outputEl = gd.closest('.output');\n",
       "if (outputEl) {{\n",
       "    x.observe(outputEl, {childList: true});\n",
       "}}\n",
       "\n",
       "                        })                };                });            </script>        </div>"
      ]
     },
     "metadata": {},
     "output_type": "display_data"
    }
   ],
   "source": [
    "# Test Residuals\n",
    "testrelresid = px.scatter(x = predict,\n",
    "                          y = resid,\n",
    "                          title = \"Residuals\",\n",
    "                          labels = {\"x\": \"Predicted Values\", \"y\": \"Residuals\"})\n",
    "testrelresid.show()\n",
    "# Very Heteroscedastic"
   ]
  },
  {
   "cell_type": "markdown",
   "metadata": {},
   "source": [
    "- Very heteroscedastic. Now Test Normality"
   ]
  },
  {
   "cell_type": "code",
   "execution_count": 13,
   "metadata": {},
   "outputs": [
    {
     "name": "stdout",
     "output_type": "stream",
     "text": [
      "\n",
      "\tShapiro-Wilk normality test\n",
      "\n",
      "data:  residuals(nested)\n",
      "W = 0.98422, p-value = 6.904e-06\n",
      "\n"
     ]
    },
    {
     "data": {
      "image/png": "[encoded data removed]",
      "text/plain": [
       "<IPython.core.display.Image object>"
      ]
     },
     "metadata": {},
     "output_type": "display_data"
    }
   ],
   "source": [
    "%%R\n",
    "qqnorm(residuals(nested))\n",
    "qqline(residuals(nested),col=\"turquoise\",lwd=2)\n",
    "# Towards the Top seems nonormal\n",
    "shapiro.test(residuals(nested))\n",
    "# Also Nonnormal"
   ]
  },
  {
   "cell_type": "markdown",
   "metadata": {},
   "source": [
    "- Also not very normal. "
   ]
  },
  {
   "cell_type": "markdown",
   "metadata": {},
   "source": [
    "# Data Analysis Plan\n",
    "\n",
    "### Summary\n",
    "- Use linear mixed models to model the effect of chalk and pinch strength on pull strength, with Person and Date as random effects. Day Order and Pinch Order were not used for this model because Day Order was randomized and Pinch Order was not very significant in the EDA. \n",
    "- Perform pairwise contrasts between types of chalk or combinations of Chalk and day. \n",
    "\n",
    "### Addressing Data Abnormalities\n",
    "- For model selection, I used bootstrapped Likleyhood Ratio Tests. Basically, I compared how likley the data was with a larger model and a smaller model with one or more explnatory variables removed. Instead of assuming a specific distirbution, which would require our assumptions be met, I resampled out data repeatedly and used the values of my subsamples to get a distribution. This reduced the impact of heteroscedasticity and nonnormality for model selection. \n",
    "- To address nonnormality, I tried a variety of different transforms. The one that worked the best was a log transform of the independent variable (Pinch). This did not entirely correct nonormality, but the sample size was large enough that felt that the CLT would apply.\n",
    "- To address heteroscedasticity, I used robust sandwhich estimators for means comparison. \n",
    "- I tried two approaches to address confounding. \n",
    "\n",
    "1. Incorporate: Fit on the model with the interaction of Date and Chalk Type. This Removes the Confounding, but makes interpreting the final results very difficult. Additionally, since the number of observations for certain groups is small (9 observations per subgroup), the ability to make statistically significant inferences is impaired. \n",
    "\n",
    "1. Ignore: Fit model with the same random effects structure from above. While This does not address confounding, we saw from the conditional coefficient of detemrination the effect of Date on overall model fit was negligible, so I felt confident in that.  \n"
   ]
  },
  {
   "cell_type": "markdown",
   "metadata": {},
   "source": [
    "## Approach Number One: Analyze Confounding by Using Date-Chalk Combinations"
   ]
  },
  {
   "cell_type": "code",
   "execution_count": 14,
   "metadata": {},
   "outputs": [
    {
     "name": "stdout",
     "output_type": "stream",
     "text": [
      "Bootstrap test; time: 12.43 sec; samples: 1000; extremes: 0;\n",
      "large : Pull ~ log(Pinch) + Day_Chalk + log(Pinch):Day_Chalk + (1 | Person)\n",
      "Pull ~ log(Pinch) + Day_Chalk + (1 | Person)\n",
      "         stat df   p.value    \n",
      "LRT    146.58 16 < 2.2e-16 ***\n",
      "PBtest 146.58     0.000999 ***\n",
      "---\n",
      "Signif. codes:  0 '***' 0.001 '**' 0.01 '*' 0.05 '.' 0.1 ' ' 1\n",
      "Bootstrap test; time: 10.11 sec; samples: 1000; extremes: 0;\n",
      "large : Pull ~ log(Pinch) + Day_Chalk + (1 | Person)\n",
      "Pull ~ log(Pinch) + (1 | Person)\n",
      "         stat df   p.value    \n",
      "LRT    376.16 16 < 2.2e-16 ***\n",
      "PBtest 376.16     0.000999 ***\n",
      "---\n",
      "Signif. codes:  0 '***' 0.001 '**' 0.01 '*' 0.05 '.' 0.1 ' ' 1\n",
      "           R2m      R2c\n",
      "[1,] 0.8899425 0.906717\n",
      "          R2m       R2c\n",
      "[1,] 0.864733 0.8792501\n",
      "           R2m       R2c\n",
      "[1,] 0.7531656 0.7674678\n"
     ]
    }
   ],
   "source": [
    "%%R\n",
    "# Fit a full model with the Confounded Chalk and Day Variables\n",
    "# All interaction Terms\n",
    "fullnest = lmer(Pull~log(Pinch) + Day_Chalk + log(Pinch):Day_Chalk + (1 | Person),\n",
    "                data = Chalk,\n",
    "                REML = FALSE,\n",
    "                na.action=na.fail)\n",
    "# No Interaction Terms\n",
    "partial = lmer(Pull~log(Pinch) + Day_Chalk + (1 | Person),\n",
    "                data = Chalk,\n",
    "                REML = FALSE,\n",
    "                na.action=na.fail)\n",
    "# No Day*Chalk Variable\n",
    "partial1 = lmer(Pull~log(Pinch) + (1 | Person),\n",
    "                data = Chalk,\n",
    "                REML = FALSE,\n",
    "                na.action=na.fail)\n",
    "\n",
    "# Test Statistical Significance with Boostrapped Model Comparison\n",
    "boot1 = PBmodcomp(\n",
    "  fullnest,\n",
    "  partial,\n",
    "  nsim = 1000,\n",
    "  seed=42\n",
    ")\n",
    "boot2 = PBmodcomp(\n",
    "  partial,\n",
    "  partial1,\n",
    "  nsim = 1000,\n",
    "  seed=42\n",
    ")\n",
    "\n",
    "boot1 |> print()\n",
    "boot2|> print()\n",
    "\n",
    "# Test Practical Significance with Effect Size/Fit\n",
    "r.squaredGLMM(fullnest) |> print()\n",
    "r.squaredGLMM(partial) |> print()\n",
    "r.squaredGLMM(partial1) |> print()\n"
   ]
  },
  {
   "cell_type": "markdown",
   "metadata": {},
   "source": [
    "- For our boostrapped LRTs, the interaction of Day_Chalk and Pinch as well as the Day_Chalk variable are significant. \n",
    "- However, we see that for the marginal coefficient of determination (the amount of variability in our model explained by our fixed effects only) between the model with the interaction term and the model without is very small. That means the practical difference in how well the model explains the data for the model with the interaction between Pinch and Day_Chalk is negligible. \n",
    "\n",
    "Thus for ease of interpretaion of an already harder to interpret model, I will use the model without the interaction term. "
   ]
  },
  {
   "cell_type": "code",
   "execution_count": 15,
   "metadata": {},
   "outputs": [
    {
     "name": "stderr",
     "output_type": "stream",
     "text": [
      "R[write to console]: Kenward-Roger method can't be used with user-supplied covariances\n",
      "\n"
     ]
    },
    {
     "name": "stdout",
     "output_type": "stream",
     "text": [
      "# A tibble: 17 x 2\n",
      "   Day_Chalk           `n()`\n",
      "   <chr>               <int>\n",
      " 1 2024-10-30_FL          33\n",
      " 2 2024-10-30_None        27\n",
      " 3 2024-10-31_FL          30\n",
      " 4 2024-10-31_None        30\n",
      " 5 2024-11-04_FL           9\n",
      " 6 2024-11-04_Metolius    18\n",
      " 7 2024-11-04_None        39\n",
      " 8 2024-11-06_Metolius    45\n",
      " 9 2024-11-06_None        30\n",
      "10 2024-11-08_Magdust     45\n",
      "11 2024-11-08_Metolius     9\n",
      "12 2024-11-08_None        51\n",
      "13 2024-11-10_Ethan       18\n",
      "14 2024-11-10_Magdust     27\n",
      "15 2024-11-10_None        69\n",
      "16 2024-11-14_Ethan       54\n",
      "17 2024-11-14_None        42\n"
     ]
    }
   ],
   "source": [
    "%%R -o emmplot -o contrasts\n",
    "finalmodel = lmer(Pull~log(Pinch) + Day_Chalk + (1 | Person),\n",
    "                data = Chalk,\n",
    "                REML = TRUE,\n",
    "                na.action=na.fail)\n",
    "# Now we do Mean Comparisons\n",
    "corCov = vcovCR(finalmodel,type=\"CR2\")\n",
    "robustemm = emmeans(finalmodel, specs = ~Day_Chalk, vcov = corCov, type = \"response\")\n",
    "contrasts = summary(pairs(robustemm))\n",
    "emmplot = summary(robustemm, infer = TRUE)\n",
    "Chalk |> group_by(Day_Chalk) |> summarise(n()) |> print()"
   ]
  },
  {
   "cell_type": "code",
   "execution_count": 16,
   "metadata": {},
   "outputs": [
    {
     "data": {
      "text/html": [
       "<div>                            <div id=\"c8f964e3-5e2a-4798-8fec-1391e03ebefa\" class=\"plotly-graph-div\" style=\"height:525px; width:100%;\"></div>            <script type=\"text/javascript\">                require([\"plotly\"], function(Plotly) {                    window.PLOTLYENV=window.PLOTLYENV || {};                                    if (document.getElementById(\"c8f964e3-5e2a-4798-8fec-1391e03ebefa\")) {                    Plotly.newPlot(                        \"c8f964e3-5e2a-4798-8fec-1391e03ebefa\",                        [{\"error_x\":{\"array\":[46.56796004499062,32.593426365835526,34.09125633773194,19.170752195550417,26.015721279891345,24.317548435624474,21.139615304130217,4.556476413217048,14.633991425600321,7.040020596703371,9.46882299042447,8.085167916816893,5.8590458744701195,1.8069194625572678,7.995635859275502,15.637057554330006,9.38716578371237]},\"hovertemplate\":\"emmean=%{x}\\u003cbr\\u003eDay_Chalk=%{y}\\u003cextra\\u003e\\u003c\\u002fextra\\u003e\",\"legendgroup\":\"\",\"marker\":{\"color\":\"#636efa\",\"symbol\":\"circle\"},\"mode\":\"markers\",\"name\":\"\",\"orientation\":\"h\",\"showlegend\":false,\"x\":[41.50641240631072,29.377099414790315,40.28227776839311,28.99011042462922,39.443842305545324,38.384176839883665,40.912447808385394,25.252485474973405,35.739255580569285,31.356649413481676,34.154325788985446,34.546316774725156,36.41815638566278,33.844933546532566,41.052313805393254,49.20442540976102,47.89782228766323],\"xaxis\":\"x\",\"y\":[\"2024-11-14_Ethan\",\"2024-11-10_None\",\"2024-11-08_Magdust\",\"2024-11-08_None\",\"2024-11-06_Metolius\",\"2024-11-10_Ethan\",\"2024-10-30_FL\",\"2024-11-14_None\",\"2024-11-08_Metolius\",\"2024-10-31_None\",\"2024-11-10_Magdust\",\"2024-11-06_None\",\"2024-10-30_None\",\"2024-11-04_None\",\"2024-11-04_FL\",\"2024-11-04_Metolius\",\"2024-10-31_FL\"],\"yaxis\":\"y\",\"type\":\"scatter\"}],                        {\"template\":{\"data\":{\"histogram2dcontour\":[{\"type\":\"histogram2dcontour\",\"colorbar\":{\"outlinewidth\":0,\"ticks\":\"\"},\"colorscale\":[[0.0,\"#0d0887\"],[0.1111111111111111,\"#46039f\"],[0.2222222222222222,\"#7201a8\"],[0.3333333333333333,\"#9c179e\"],[0.4444444444444444,\"#bd3786\"],[0.5555555555555556,\"#d8576b\"],[0.6666666666666666,\"#ed7953\"],[0.7777777777777778,\"#fb9f3a\"],[0.8888888888888888,\"#fdca26\"],[1.0,\"#f0f921\"]]}],\"choropleth\":[{\"type\":\"choropleth\",\"colorbar\":{\"outlinewidth\":0,\"ticks\":\"\"}}],\"histogram2d\":[{\"type\":\"histogram2d\",\"colorbar\":{\"outlinewidth\":0,\"ticks\":\"\"},\"colorscale\":[[0.0,\"#0d0887\"],[0.1111111111111111,\"#46039f\"],[0.2222222222222222,\"#7201a8\"],[0.3333333333333333,\"#9c179e\"],[0.4444444444444444,\"#bd3786\"],[0.5555555555555556,\"#d8576b\"],[0.6666666666666666,\"#ed7953\"],[0.7777777777777778,\"#fb9f3a\"],[0.8888888888888888,\"#fdca26\"],[1.0,\"#f0f921\"]]}],\"heatmap\":[{\"type\":\"heatmap\",\"colorbar\":{\"outlinewidth\":0,\"ticks\":\"\"},\"colorscale\":[[0.0,\"#0d0887\"],[0.1111111111111111,\"#46039f\"],[0.2222222222222222,\"#7201a8\"],[0.3333333333333333,\"#9c179e\"],[0.4444444444444444,\"#bd3786\"],[0.5555555555555556,\"#d8576b\"],[0.6666666666666666,\"#ed7953\"],[0.7777777777777778,\"#fb9f3a\"],[0.8888888888888888,\"#fdca26\"],[1.0,\"#f0f921\"]]}],\"heatmapgl\":[{\"type\":\"heatmapgl\",\"colorbar\":{\"outlinewidth\":0,\"ticks\":\"\"},\"colorscale\":[[0.0,\"#0d0887\"],[0.1111111111111111,\"#46039f\"],[0.2222222222222222,\"#7201a8\"],[0.3333333333333333,\"#9c179e\"],[0.4444444444444444,\"#bd3786\"],[0.5555555555555556,\"#d8576b\"],[0.6666666666666666,\"#ed7953\"],[0.7777777777777778,\"#fb9f3a\"],[0.8888888888888888,\"#fdca26\"],[1.0,\"#f0f921\"]]}],\"contourcarpet\":[{\"type\":\"contourcarpet\",\"colorbar\":{\"outlinewidth\":0,\"ticks\":\"\"}}],\"contour\":[{\"type\":\"contour\",\"colorbar\":{\"outlinewidth\":0,\"ticks\":\"\"},\"colorscale\":[[0.0,\"#0d0887\"],[0.1111111111111111,\"#46039f\"],[0.2222222222222222,\"#7201a8\"],[0.3333333333333333,\"#9c179e\"],[0.4444444444444444,\"#bd3786\"],[0.5555555555555556,\"#d8576b\"],[0.6666666666666666,\"#ed7953\"],[0.7777777777777778,\"#fb9f3a\"],[0.8888888888888888,\"#fdca26\"],[1.0,\"#f0f921\"]]}],\"surface\":[{\"type\":\"surface\",\"colorbar\":{\"outlinewidth\":0,\"ticks\":\"\"},\"colorscale\":[[0.0,\"#0d0887\"],[0.1111111111111111,\"#46039f\"],[0.2222222222222222,\"#7201a8\"],[0.3333333333333333,\"#9c179e\"],[0.4444444444444444,\"#bd3786\"],[0.5555555555555556,\"#d8576b\"],[0.6666666666666666,\"#ed7953\"],[0.7777777777777778,\"#fb9f3a\"],[0.8888888888888888,\"#fdca26\"],[1.0,\"#f0f921\"]]}],\"mesh3d\":[{\"type\":\"mesh3d\",\"colorbar\":{\"outlinewidth\":0,\"ticks\":\"\"}}],\"scatter\":[{\"fillpattern\":{\"fillmode\":\"overlay\",\"size\":10,\"solidity\":0.2},\"type\":\"scatter\"}],\"parcoords\":[{\"type\":\"parcoords\",\"line\":{\"colorbar\":{\"outlinewidth\":0,\"ticks\":\"\"}}}],\"scatterpolargl\":[{\"type\":\"scatterpolargl\",\"marker\":{\"colorbar\":{\"outlinewidth\":0,\"ticks\":\"\"}}}],\"bar\":[{\"error_x\":{\"color\":\"#2a3f5f\"},\"error_y\":{\"color\":\"#2a3f5f\"},\"marker\":{\"line\":{\"color\":\"#E5ECF6\",\"width\":0.5},\"pattern\":{\"fillmode\":\"overlay\",\"size\":10,\"solidity\":0.2}},\"type\":\"bar\"}],\"scattergeo\":[{\"type\":\"scattergeo\",\"marker\":{\"colorbar\":{\"outlinewidth\":0,\"ticks\":\"\"}}}],\"scatterpolar\":[{\"type\":\"scatterpolar\",\"marker\":{\"colorbar\":{\"outlinewidth\":0,\"ticks\":\"\"}}}],\"histogram\":[{\"marker\":{\"pattern\":{\"fillmode\":\"overlay\",\"size\":10,\"solidity\":0.2}},\"type\":\"histogram\"}],\"scattergl\":[{\"type\":\"scattergl\",\"marker\":{\"colorbar\":{\"outlinewidth\":0,\"ticks\":\"\"}}}],\"scatter3d\":[{\"type\":\"scatter3d\",\"line\":{\"colorbar\":{\"outlinewidth\":0,\"ticks\":\"\"}},\"marker\":{\"colorbar\":{\"outlinewidth\":0,\"ticks\":\"\"}}}],\"scattermapbox\":[{\"type\":\"scattermapbox\",\"marker\":{\"colorbar\":{\"outlinewidth\":0,\"ticks\":\"\"}}}],\"scatterternary\":[{\"type\":\"scatterternary\",\"marker\":{\"colorbar\":{\"outlinewidth\":0,\"ticks\":\"\"}}}],\"scattercarpet\":[{\"type\":\"scattercarpet\",\"marker\":{\"colorbar\":{\"outlinewidth\":0,\"ticks\":\"\"}}}],\"carpet\":[{\"aaxis\":{\"endlinecolor\":\"#2a3f5f\",\"gridcolor\":\"white\",\"linecolor\":\"white\",\"minorgridcolor\":\"white\",\"startlinecolor\":\"#2a3f5f\"},\"baxis\":{\"endlinecolor\":\"#2a3f5f\",\"gridcolor\":\"white\",\"linecolor\":\"white\",\"minorgridcolor\":\"white\",\"startlinecolor\":\"#2a3f5f\"},\"type\":\"carpet\"}],\"table\":[{\"cells\":{\"fill\":{\"color\":\"#EBF0F8\"},\"line\":{\"color\":\"white\"}},\"header\":{\"fill\":{\"color\":\"#C8D4E3\"},\"line\":{\"color\":\"white\"}},\"type\":\"table\"}],\"barpolar\":[{\"marker\":{\"line\":{\"color\":\"#E5ECF6\",\"width\":0.5},\"pattern\":{\"fillmode\":\"overlay\",\"size\":10,\"solidity\":0.2}},\"type\":\"barpolar\"}],\"pie\":[{\"automargin\":true,\"type\":\"pie\"}]},\"layout\":{\"autotypenumbers\":\"strict\",\"colorway\":[\"#636efa\",\"#EF553B\",\"#00cc96\",\"#ab63fa\",\"#FFA15A\",\"#19d3f3\",\"#FF6692\",\"#B6E880\",\"#FF97FF\",\"#FECB52\"],\"font\":{\"color\":\"#2a3f5f\"},\"hovermode\":\"closest\",\"hoverlabel\":{\"align\":\"left\"},\"paper_bgcolor\":\"white\",\"plot_bgcolor\":\"#E5ECF6\",\"polar\":{\"bgcolor\":\"#E5ECF6\",\"angularaxis\":{\"gridcolor\":\"white\",\"linecolor\":\"white\",\"ticks\":\"\"},\"radialaxis\":{\"gridcolor\":\"white\",\"linecolor\":\"white\",\"ticks\":\"\"}},\"ternary\":{\"bgcolor\":\"#E5ECF6\",\"aaxis\":{\"gridcolor\":\"white\",\"linecolor\":\"white\",\"ticks\":\"\"},\"baxis\":{\"gridcolor\":\"white\",\"linecolor\":\"white\",\"ticks\":\"\"},\"caxis\":{\"gridcolor\":\"white\",\"linecolor\":\"white\",\"ticks\":\"\"}},\"coloraxis\":{\"colorbar\":{\"outlinewidth\":0,\"ticks\":\"\"}},\"colorscale\":{\"sequential\":[[0.0,\"#0d0887\"],[0.1111111111111111,\"#46039f\"],[0.2222222222222222,\"#7201a8\"],[0.3333333333333333,\"#9c179e\"],[0.4444444444444444,\"#bd3786\"],[0.5555555555555556,\"#d8576b\"],[0.6666666666666666,\"#ed7953\"],[0.7777777777777778,\"#fb9f3a\"],[0.8888888888888888,\"#fdca26\"],[1.0,\"#f0f921\"]],\"sequentialminus\":[[0.0,\"#0d0887\"],[0.1111111111111111,\"#46039f\"],[0.2222222222222222,\"#7201a8\"],[0.3333333333333333,\"#9c179e\"],[0.4444444444444444,\"#bd3786\"],[0.5555555555555556,\"#d8576b\"],[0.6666666666666666,\"#ed7953\"],[0.7777777777777778,\"#fb9f3a\"],[0.8888888888888888,\"#fdca26\"],[1.0,\"#f0f921\"]],\"diverging\":[[0,\"#8e0152\"],[0.1,\"#c51b7d\"],[0.2,\"#de77ae\"],[0.3,\"#f1b6da\"],[0.4,\"#fde0ef\"],[0.5,\"#f7f7f7\"],[0.6,\"#e6f5d0\"],[0.7,\"#b8e186\"],[0.8,\"#7fbc41\"],[0.9,\"#4d9221\"],[1,\"#276419\"]]},\"xaxis\":{\"gridcolor\":\"white\",\"linecolor\":\"white\",\"ticks\":\"\",\"title\":{\"standoff\":15},\"zerolinecolor\":\"white\",\"automargin\":true,\"zerolinewidth\":2},\"yaxis\":{\"gridcolor\":\"white\",\"linecolor\":\"white\",\"ticks\":\"\",\"title\":{\"standoff\":15},\"zerolinecolor\":\"white\",\"automargin\":true,\"zerolinewidth\":2},\"scene\":{\"xaxis\":{\"backgroundcolor\":\"#E5ECF6\",\"gridcolor\":\"white\",\"linecolor\":\"white\",\"showbackground\":true,\"ticks\":\"\",\"zerolinecolor\":\"white\",\"gridwidth\":2},\"yaxis\":{\"backgroundcolor\":\"#E5ECF6\",\"gridcolor\":\"white\",\"linecolor\":\"white\",\"showbackground\":true,\"ticks\":\"\",\"zerolinecolor\":\"white\",\"gridwidth\":2},\"zaxis\":{\"backgroundcolor\":\"#E5ECF6\",\"gridcolor\":\"white\",\"linecolor\":\"white\",\"showbackground\":true,\"ticks\":\"\",\"zerolinecolor\":\"white\",\"gridwidth\":2}},\"shapedefaults\":{\"line\":{\"color\":\"#2a3f5f\"}},\"annotationdefaults\":{\"arrowcolor\":\"#2a3f5f\",\"arrowhead\":0,\"arrowwidth\":1},\"geo\":{\"bgcolor\":\"white\",\"landcolor\":\"#E5ECF6\",\"subunitcolor\":\"white\",\"showland\":true,\"showlakes\":true,\"lakecolor\":\"white\"},\"title\":{\"x\":0.05},\"mapbox\":{\"style\":\"light\"}}},\"xaxis\":{\"anchor\":\"y\",\"domain\":[0.0,1.0],\"title\":{\"text\":\"Estimated Marginal Mean\"}},\"yaxis\":{\"anchor\":\"x\",\"domain\":[0.0,1.0],\"title\":{\"text\":\"Treatment\"}},\"legend\":{\"tracegroupgap\":0},\"margin\":{\"t\":60},\"title\":{\"text\":\"Chalk_Date Effects with 95% CI\"}},                        {\"responsive\": true}                    ).then(function(){\n",
       "                            \n",
       "var gd = document.getElementById('c8f964e3-5e2a-4798-8fec-1391e03ebefa');\n",
       "var x = new MutationObserver(function (mutations, observer) {{\n",
       "        var display = window.getComputedStyle(gd).display;\n",
       "        if (!display || display === 'none') {{\n",
       "            console.log([gd, 'removed!']);\n",
       "            Plotly.purge(gd);\n",
       "            observer.disconnect();\n",
       "        }}\n",
       "}});\n",
       "\n",
       "// Listen for the removal of the full notebook cells\n",
       "var notebookContainer = gd.closest('#notebook-container');\n",
       "if (notebookContainer) {{\n",
       "    x.observe(notebookContainer, {childList: true});\n",
       "}}\n",
       "\n",
       "// Listen for the clearing of the current output cell\n",
       "var outputEl = gd.closest('.output');\n",
       "if (outputEl) {{\n",
       "    x.observe(outputEl, {childList: true});\n",
       "}}\n",
       "\n",
       "                        })                };                });            </script>        </div>"
      ]
     },
     "metadata": {},
     "output_type": "display_data"
    }
   ],
   "source": [
    "# type(emmplot)\n",
    "# type(contrasts)\n",
    "\n",
    "emmplot = emmplot.sort_values(\"lower.CL\").reset_index(drop=True)\n",
    "emmplot[\"mag\"] = emmplot[\"upper.CL\"] - emmplot[\"emmean\"]\n",
    "# Create basic plot\n",
    "arrow1 = px.scatter(\n",
    "        emmplot,\n",
    "        y='Day_Chalk',\n",
    "        x='emmean',\n",
    "        error_x = \"mag\"\n",
    "        )\n",
    "# Update layout\n",
    "arrow1.update_layout(\n",
    "        title='Chalk_Date Effects with 95% CI',\n",
    "        xaxis_title='Estimated Marginal Mean',\n",
    "        yaxis_title='Treatment'\n",
    "    )\n",
    "arrow1.show()\n"
   ]
  },
  {
   "cell_type": "code",
   "execution_count": 17,
   "metadata": {},
   "outputs": [
    {
     "data": {
      "application/vnd.microsoft.datawrangler.viewer.v0+json": {
       "columns": [
        {
         "name": "index",
         "rawType": "object",
         "type": "string"
        },
        {
         "name": "contrast",
         "rawType": "object",
         "type": "string"
        },
        {
         "name": "estimate",
         "rawType": "float64",
         "type": "float"
        },
        {
         "name": "SE",
         "rawType": "float64",
         "type": "float"
        },
        {
         "name": "df",
         "rawType": "float64",
         "type": "float"
        },
        {
         "name": "t.ratio",
         "rawType": "float64",
         "type": "float"
        },
        {
         "name": "p.value",
         "rawType": "float64",
         "type": "float"
        }
       ],
       "conversionMethod": "pd.DataFrame",
       "ref": "62f7d38e-4069-472a-b04c-1b0f2374db63",
       "rows": [
        [
         "2",
         "(2024-10-30_FL) - (2024-10-31_FL)",
         "-6.985374479277835",
         "1.9490903724201272",
         "557.2223783125004",
         "-3.5839151319619442",
         "0.03516041718293739"
        ],
        [
         "5",
         "(2024-10-30_FL) - (2024-11-04_Metolius)",
         "-8.291977601375628",
         "0.3661847048370745",
         "557.1385351459711",
         "-22.64424890456567",
         "4.494762340101488e-10"
        ],
        [
         "7",
         "(2024-10-30_FL) - (2024-11-06_Metolius)",
         "1.468605502840066",
         "0.18682250196137024",
         "557.0033302041334",
         "7.860966893290688",
         "4.5185644115264267e-10"
        ],
        [
         "10",
         "(2024-10-30_FL) - (2024-11-08_Metolius)",
         "5.173192227816107",
         "1.456721113316775",
         "557.0851993203179",
         "3.551257808049053",
         "0.0391322890117477"
        ],
        [
         "11",
         "(2024-10-30_FL) - (2024-11-08_None)",
         "11.922337383756174",
         "1.0402569644855983",
         "557.2025305476966",
         "11.460954159198259",
         "4.498204031477826e-10"
        ]
       ],
       "shape": {
        "columns": 6,
        "rows": 5
       }
      },
      "text/html": [
       "<div>\n",
       "<style scoped>\n",
       "    .dataframe tbody tr th:only-of-type {\n",
       "        vertical-align: middle;\n",
       "    }\n",
       "\n",
       "    .dataframe tbody tr th {\n",
       "        vertical-align: top;\n",
       "    }\n",
       "\n",
       "    .dataframe thead th {\n",
       "        text-align: right;\n",
       "    }\n",
       "</style>\n",
       "<table border=\"1\" class=\"dataframe\">\n",
       "  <thead>\n",
       "    <tr style=\"text-align: right;\">\n",
       "      <th></th>\n",
       "      <th>contrast</th>\n",
       "      <th>estimate</th>\n",
       "      <th>SE</th>\n",
       "      <th>df</th>\n",
       "      <th>t.ratio</th>\n",
       "      <th>p.value</th>\n",
       "    </tr>\n",
       "  </thead>\n",
       "  <tbody>\n",
       "    <tr>\n",
       "      <th>2</th>\n",
       "      <td>(2024-10-30_FL) - (2024-10-31_FL)</td>\n",
       "      <td>-6.985374</td>\n",
       "      <td>1.949090</td>\n",
       "      <td>557.222378</td>\n",
       "      <td>-3.583915</td>\n",
       "      <td>3.516042e-02</td>\n",
       "    </tr>\n",
       "    <tr>\n",
       "      <th>5</th>\n",
       "      <td>(2024-10-30_FL) - (2024-11-04_Metolius)</td>\n",
       "      <td>-8.291978</td>\n",
       "      <td>0.366185</td>\n",
       "      <td>557.138535</td>\n",
       "      <td>-22.644249</td>\n",
       "      <td>4.494762e-10</td>\n",
       "    </tr>\n",
       "    <tr>\n",
       "      <th>7</th>\n",
       "      <td>(2024-10-30_FL) - (2024-11-06_Metolius)</td>\n",
       "      <td>1.468606</td>\n",
       "      <td>0.186823</td>\n",
       "      <td>557.003330</td>\n",
       "      <td>7.860967</td>\n",
       "      <td>4.518564e-10</td>\n",
       "    </tr>\n",
       "    <tr>\n",
       "      <th>10</th>\n",
       "      <td>(2024-10-30_FL) - (2024-11-08_Metolius)</td>\n",
       "      <td>5.173192</td>\n",
       "      <td>1.456721</td>\n",
       "      <td>557.085199</td>\n",
       "      <td>3.551258</td>\n",
       "      <td>3.913229e-02</td>\n",
       "    </tr>\n",
       "    <tr>\n",
       "      <th>11</th>\n",
       "      <td>(2024-10-30_FL) - (2024-11-08_None)</td>\n",
       "      <td>11.922337</td>\n",
       "      <td>1.040257</td>\n",
       "      <td>557.202531</td>\n",
       "      <td>11.460954</td>\n",
       "      <td>4.498204e-10</td>\n",
       "    </tr>\n",
       "  </tbody>\n",
       "</table>\n",
       "</div>"
      ],
      "text/plain": [
       "                                   contrast   estimate        SE          df  \\\n",
       "2         (2024-10-30_FL) - (2024-10-31_FL)  -6.985374  1.949090  557.222378   \n",
       "5   (2024-10-30_FL) - (2024-11-04_Metolius)  -8.291978  0.366185  557.138535   \n",
       "7   (2024-10-30_FL) - (2024-11-06_Metolius)   1.468606  0.186823  557.003330   \n",
       "10  (2024-10-30_FL) - (2024-11-08_Metolius)   5.173192  1.456721  557.085199   \n",
       "11      (2024-10-30_FL) - (2024-11-08_None)  11.922337  1.040257  557.202531   \n",
       "\n",
       "      t.ratio       p.value  \n",
       "2   -3.583915  3.516042e-02  \n",
       "5  -22.644249  4.494762e-10  \n",
       "7    7.860967  4.518564e-10  \n",
       "10   3.551258  3.913229e-02  \n",
       "11  11.460954  4.498204e-10  "
      ]
     },
     "execution_count": 17,
     "metadata": {},
     "output_type": "execute_result"
    }
   ],
   "source": [
    "sigcontrasts = contrasts[contrasts[\"p.value\"] < 0.05]\n",
    "sigcontrasts.head()"
   ]
  },
  {
   "cell_type": "markdown",
   "metadata": {},
   "source": [
    "- As seen above, when looking at combinations of Date and Chalk, the ability to make meaningful contrasts is very difficult. \n",
    "- Out of the 136 possible contrasts produced by pairs, 50 were significant. \n",
    "- Trends among these contrasts showed that FL and Metolius Chalk_Day combinations outperformed the no chalk option on most days and Mag Dust on 11/10. \n",
    "- However for the Ethan Chalk, the incredibly high variability essentially prevented most comparisons from being significant. \n",
    "\n",
    "Therefore, due to the differences in variability of chalk across days, it is almost impossible to draw very good conclusions from this data. "
   ]
  },
  {
   "cell_type": "markdown",
   "metadata": {},
   "source": [
    "## Approach Number Two: Ignore Confounding"
   ]
  },
  {
   "cell_type": "code",
   "execution_count": 18,
   "metadata": {},
   "outputs": [
    {
     "name": "stdout",
     "output_type": "stream",
     "text": [
      "Bootstrap test; time: 10.37 sec; samples: 1000; extremes: 0;\n",
      "large : Pull ~ log(Pinch) + Chalk + log(Pinch):Chalk + (1 | Person:Day)\n",
      "Pull ~ log(Pinch) + Chalk + (1 | Person:Day)\n",
      "         stat df   p.value    \n",
      "LRT    81.821  4 < 2.2e-16 ***\n",
      "PBtest 81.821     0.000999 ***\n",
      "---\n",
      "Signif. codes:  0 '***' 0.001 '**' 0.01 '*' 0.05 '.' 0.1 ' ' 1\n",
      "Bootstrap test; time: 9.61 sec; samples: 1000; extremes: 0;\n",
      "large : Pull ~ log(Pinch) + Chalk + (1 | Person:Day)\n",
      "Pull ~ log(Pinch) + (1 | Person:Day)\n",
      "         stat df   p.value    \n",
      "LRT    251.59  4 < 2.2e-16 ***\n",
      "PBtest 251.59     0.000999 ***\n",
      "---\n",
      "Signif. codes:  0 '***' 0.001 '**' 0.01 '*' 0.05 '.' 0.1 ' ' 1\n",
      "          R2m      R2c\n",
      "[1,] 0.843476 0.884215\n",
      "           R2m       R2c\n",
      "[1,] 0.8259792 0.8669235\n",
      "           R2m       R2c\n",
      "[1,] 0.7515733 0.7881744\n"
     ]
    }
   ],
   "source": [
    "%%R\n",
    "# All interaction Terms\n",
    "fullnest = lmer(Pull~log(Pinch) + Chalk + log(Pinch):Chalk + (1 | Person:Day),\n",
    "                data = Chalk,\n",
    "                REML = FALSE,\n",
    "                na.action=na.fail)\n",
    "# No Interaction\n",
    "partial = lmer(Pull~log(Pinch) + Chalk + (1 | Person:Day),\n",
    "                data = Chalk,\n",
    "                REML = FALSE,\n",
    "                na.action=na.fail)\n",
    "# No Chalk\n",
    "partial2 = lmer(Pull~log(Pinch) + (1 | Person:Day),\n",
    "                data = Chalk,\n",
    "                REML = FALSE,\n",
    "                na.action=na.fail)\n",
    "\n",
    "boot1 = PBmodcomp(\n",
    "  fullnest,\n",
    "  partial,\n",
    "  nsim = 1000,\n",
    "  seed=42\n",
    ")\n",
    "boot2 = PBmodcomp(\n",
    "  partial,\n",
    "  partial2,\n",
    "  nsim = 1000,\n",
    "  seed=42\n",
    ")\n",
    "\n",
    "boot1 |> print()\n",
    "boot2|> print()\n",
    "\n",
    "r.squaredGLMM(fullnest) |> print()\n",
    "r.squaredGLMM(partial) |> print()\n",
    "r.squaredGLMM(partial2) |> print()"
   ]
  },
  {
   "cell_type": "markdown",
   "metadata": {},
   "source": [
    "- Again we are dealing with statistically significant interaction but with minimal effect on fit. Thus again I will fit a model without interaction terms. "
   ]
  },
  {
   "cell_type": "code",
   "execution_count": 19,
   "metadata": {},
   "outputs": [
    {
     "name": "stderr",
     "output_type": "stream",
     "text": [
      "R[write to console]: Kenward-Roger method can't be used with user-supplied covariances\n",
      "\n"
     ]
    }
   ],
   "source": [
    "%%R -o ccontrasts -o cemmplot \n",
    "finalmodel2 = lmer(Pull~log(Pinch) + Chalk + (1 | Person:Day),\n",
    "                data = Chalk,\n",
    "                REML = TRUE,\n",
    "                na.action=na.fail)\n",
    "\n",
    "\n",
    "# Now we do Mean Comparisons\n",
    "ccorCov = vcovCR(finalmodel2,type=\"CR2\")\n",
    "crobustemm = emmeans(finalmodel2, specs = ~Chalk, vcov = ccorCov, type = \"response\")\n",
    "ccontrasts = summary(pairs(crobustemm))\n",
    "cemmplot = summary(crobustemm, infer = TRUE)"
   ]
  },
  {
   "cell_type": "code",
   "execution_count": 20,
   "metadata": {},
   "outputs": [
    {
     "data": {
      "text/html": [
       "<div>                            <div id=\"4a95321d-0b80-44e4-96d6-9f80d2482a86\" class=\"plotly-graph-div\" style=\"height:525px; width:100%;\"></div>            <script type=\"text/javascript\">                require([\"plotly\"], function(Plotly) {                    window.PLOTLYENV=window.PLOTLYENV || {};                                    if (document.getElementById(\"4a95321d-0b80-44e4-96d6-9f80d2482a86\")) {                    Plotly.newPlot(                        \"4a95321d-0b80-44e4-96d6-9f80d2482a86\",                        [{\"error_x\":{\"array\":[2.4977888061308526,7.363729710095633,7.084591035363914,5.489289025194253,8.31582915008822]},\"hovertemplate\":\"emmean=%{x}\\u003cbr\\u003eChalk=%{y}\\u003cextra\\u003e\\u003c\\u002fextra\\u003e\",\"legendgroup\":\"\",\"marker\":{\"color\":\"#636efa\",\"symbol\":\"circle\"},\"mode\":\"markers\",\"name\":\"\",\"orientation\":\"h\",\"showlegend\":false,\"x\":[31.457064852252554,40.53868411064074,41.22473979274194,40.30293259777502,44.897124723146234],\"xaxis\":\"x\",\"y\":[\"None\",\"Metolius\",\"FL\",\"Magdust\",\"Ethan\"],\"yaxis\":\"y\",\"type\":\"scatter\"}],                        {\"template\":{\"data\":{\"histogram2dcontour\":[{\"type\":\"histogram2dcontour\",\"colorbar\":{\"outlinewidth\":0,\"ticks\":\"\"},\"colorscale\":[[0.0,\"#0d0887\"],[0.1111111111111111,\"#46039f\"],[0.2222222222222222,\"#7201a8\"],[0.3333333333333333,\"#9c179e\"],[0.4444444444444444,\"#bd3786\"],[0.5555555555555556,\"#d8576b\"],[0.6666666666666666,\"#ed7953\"],[0.7777777777777778,\"#fb9f3a\"],[0.8888888888888888,\"#fdca26\"],[1.0,\"#f0f921\"]]}],\"choropleth\":[{\"type\":\"choropleth\",\"colorbar\":{\"outlinewidth\":0,\"ticks\":\"\"}}],\"histogram2d\":[{\"type\":\"histogram2d\",\"colorbar\":{\"outlinewidth\":0,\"ticks\":\"\"},\"colorscale\":[[0.0,\"#0d0887\"],[0.1111111111111111,\"#46039f\"],[0.2222222222222222,\"#7201a8\"],[0.3333333333333333,\"#9c179e\"],[0.4444444444444444,\"#bd3786\"],[0.5555555555555556,\"#d8576b\"],[0.6666666666666666,\"#ed7953\"],[0.7777777777777778,\"#fb9f3a\"],[0.8888888888888888,\"#fdca26\"],[1.0,\"#f0f921\"]]}],\"heatmap\":[{\"type\":\"heatmap\",\"colorbar\":{\"outlinewidth\":0,\"ticks\":\"\"},\"colorscale\":[[0.0,\"#0d0887\"],[0.1111111111111111,\"#46039f\"],[0.2222222222222222,\"#7201a8\"],[0.3333333333333333,\"#9c179e\"],[0.4444444444444444,\"#bd3786\"],[0.5555555555555556,\"#d8576b\"],[0.6666666666666666,\"#ed7953\"],[0.7777777777777778,\"#fb9f3a\"],[0.8888888888888888,\"#fdca26\"],[1.0,\"#f0f921\"]]}],\"heatmapgl\":[{\"type\":\"heatmapgl\",\"colorbar\":{\"outlinewidth\":0,\"ticks\":\"\"},\"colorscale\":[[0.0,\"#0d0887\"],[0.1111111111111111,\"#46039f\"],[0.2222222222222222,\"#7201a8\"],[0.3333333333333333,\"#9c179e\"],[0.4444444444444444,\"#bd3786\"],[0.5555555555555556,\"#d8576b\"],[0.6666666666666666,\"#ed7953\"],[0.7777777777777778,\"#fb9f3a\"],[0.8888888888888888,\"#fdca26\"],[1.0,\"#f0f921\"]]}],\"contourcarpet\":[{\"type\":\"contourcarpet\",\"colorbar\":{\"outlinewidth\":0,\"ticks\":\"\"}}],\"contour\":[{\"type\":\"contour\",\"colorbar\":{\"outlinewidth\":0,\"ticks\":\"\"},\"colorscale\":[[0.0,\"#0d0887\"],[0.1111111111111111,\"#46039f\"],[0.2222222222222222,\"#7201a8\"],[0.3333333333333333,\"#9c179e\"],[0.4444444444444444,\"#bd3786\"],[0.5555555555555556,\"#d8576b\"],[0.6666666666666666,\"#ed7953\"],[0.7777777777777778,\"#fb9f3a\"],[0.8888888888888888,\"#fdca26\"],[1.0,\"#f0f921\"]]}],\"surface\":[{\"type\":\"surface\",\"colorbar\":{\"outlinewidth\":0,\"ticks\":\"\"},\"colorscale\":[[0.0,\"#0d0887\"],[0.1111111111111111,\"#46039f\"],[0.2222222222222222,\"#7201a8\"],[0.3333333333333333,\"#9c179e\"],[0.4444444444444444,\"#bd3786\"],[0.5555555555555556,\"#d8576b\"],[0.6666666666666666,\"#ed7953\"],[0.7777777777777778,\"#fb9f3a\"],[0.8888888888888888,\"#fdca26\"],[1.0,\"#f0f921\"]]}],\"mesh3d\":[{\"type\":\"mesh3d\",\"colorbar\":{\"outlinewidth\":0,\"ticks\":\"\"}}],\"scatter\":[{\"fillpattern\":{\"fillmode\":\"overlay\",\"size\":10,\"solidity\":0.2},\"type\":\"scatter\"}],\"parcoords\":[{\"type\":\"parcoords\",\"line\":{\"colorbar\":{\"outlinewidth\":0,\"ticks\":\"\"}}}],\"scatterpolargl\":[{\"type\":\"scatterpolargl\",\"marker\":{\"colorbar\":{\"outlinewidth\":0,\"ticks\":\"\"}}}],\"bar\":[{\"error_x\":{\"color\":\"#2a3f5f\"},\"error_y\":{\"color\":\"#2a3f5f\"},\"marker\":{\"line\":{\"color\":\"#E5ECF6\",\"width\":0.5},\"pattern\":{\"fillmode\":\"overlay\",\"size\":10,\"solidity\":0.2}},\"type\":\"bar\"}],\"scattergeo\":[{\"type\":\"scattergeo\",\"marker\":{\"colorbar\":{\"outlinewidth\":0,\"ticks\":\"\"}}}],\"scatterpolar\":[{\"type\":\"scatterpolar\",\"marker\":{\"colorbar\":{\"outlinewidth\":0,\"ticks\":\"\"}}}],\"histogram\":[{\"marker\":{\"pattern\":{\"fillmode\":\"overlay\",\"size\":10,\"solidity\":0.2}},\"type\":\"histogram\"}],\"scattergl\":[{\"type\":\"scattergl\",\"marker\":{\"colorbar\":{\"outlinewidth\":0,\"ticks\":\"\"}}}],\"scatter3d\":[{\"type\":\"scatter3d\",\"line\":{\"colorbar\":{\"outlinewidth\":0,\"ticks\":\"\"}},\"marker\":{\"colorbar\":{\"outlinewidth\":0,\"ticks\":\"\"}}}],\"scattermapbox\":[{\"type\":\"scattermapbox\",\"marker\":{\"colorbar\":{\"outlinewidth\":0,\"ticks\":\"\"}}}],\"scatterternary\":[{\"type\":\"scatterternary\",\"marker\":{\"colorbar\":{\"outlinewidth\":0,\"ticks\":\"\"}}}],\"scattercarpet\":[{\"type\":\"scattercarpet\",\"marker\":{\"colorbar\":{\"outlinewidth\":0,\"ticks\":\"\"}}}],\"carpet\":[{\"aaxis\":{\"endlinecolor\":\"#2a3f5f\",\"gridcolor\":\"white\",\"linecolor\":\"white\",\"minorgridcolor\":\"white\",\"startlinecolor\":\"#2a3f5f\"},\"baxis\":{\"endlinecolor\":\"#2a3f5f\",\"gridcolor\":\"white\",\"linecolor\":\"white\",\"minorgridcolor\":\"white\",\"startlinecolor\":\"#2a3f5f\"},\"type\":\"carpet\"}],\"table\":[{\"cells\":{\"fill\":{\"color\":\"#EBF0F8\"},\"line\":{\"color\":\"white\"}},\"header\":{\"fill\":{\"color\":\"#C8D4E3\"},\"line\":{\"color\":\"white\"}},\"type\":\"table\"}],\"barpolar\":[{\"marker\":{\"line\":{\"color\":\"#E5ECF6\",\"width\":0.5},\"pattern\":{\"fillmode\":\"overlay\",\"size\":10,\"solidity\":0.2}},\"type\":\"barpolar\"}],\"pie\":[{\"automargin\":true,\"type\":\"pie\"}]},\"layout\":{\"autotypenumbers\":\"strict\",\"colorway\":[\"#636efa\",\"#EF553B\",\"#00cc96\",\"#ab63fa\",\"#FFA15A\",\"#19d3f3\",\"#FF6692\",\"#B6E880\",\"#FF97FF\",\"#FECB52\"],\"font\":{\"color\":\"#2a3f5f\"},\"hovermode\":\"closest\",\"hoverlabel\":{\"align\":\"left\"},\"paper_bgcolor\":\"white\",\"plot_bgcolor\":\"#E5ECF6\",\"polar\":{\"bgcolor\":\"#E5ECF6\",\"angularaxis\":{\"gridcolor\":\"white\",\"linecolor\":\"white\",\"ticks\":\"\"},\"radialaxis\":{\"gridcolor\":\"white\",\"linecolor\":\"white\",\"ticks\":\"\"}},\"ternary\":{\"bgcolor\":\"#E5ECF6\",\"aaxis\":{\"gridcolor\":\"white\",\"linecolor\":\"white\",\"ticks\":\"\"},\"baxis\":{\"gridcolor\":\"white\",\"linecolor\":\"white\",\"ticks\":\"\"},\"caxis\":{\"gridcolor\":\"white\",\"linecolor\":\"white\",\"ticks\":\"\"}},\"coloraxis\":{\"colorbar\":{\"outlinewidth\":0,\"ticks\":\"\"}},\"colorscale\":{\"sequential\":[[0.0,\"#0d0887\"],[0.1111111111111111,\"#46039f\"],[0.2222222222222222,\"#7201a8\"],[0.3333333333333333,\"#9c179e\"],[0.4444444444444444,\"#bd3786\"],[0.5555555555555556,\"#d8576b\"],[0.6666666666666666,\"#ed7953\"],[0.7777777777777778,\"#fb9f3a\"],[0.8888888888888888,\"#fdca26\"],[1.0,\"#f0f921\"]],\"sequentialminus\":[[0.0,\"#0d0887\"],[0.1111111111111111,\"#46039f\"],[0.2222222222222222,\"#7201a8\"],[0.3333333333333333,\"#9c179e\"],[0.4444444444444444,\"#bd3786\"],[0.5555555555555556,\"#d8576b\"],[0.6666666666666666,\"#ed7953\"],[0.7777777777777778,\"#fb9f3a\"],[0.8888888888888888,\"#fdca26\"],[1.0,\"#f0f921\"]],\"diverging\":[[0,\"#8e0152\"],[0.1,\"#c51b7d\"],[0.2,\"#de77ae\"],[0.3,\"#f1b6da\"],[0.4,\"#fde0ef\"],[0.5,\"#f7f7f7\"],[0.6,\"#e6f5d0\"],[0.7,\"#b8e186\"],[0.8,\"#7fbc41\"],[0.9,\"#4d9221\"],[1,\"#276419\"]]},\"xaxis\":{\"gridcolor\":\"white\",\"linecolor\":\"white\",\"ticks\":\"\",\"title\":{\"standoff\":15},\"zerolinecolor\":\"white\",\"automargin\":true,\"zerolinewidth\":2},\"yaxis\":{\"gridcolor\":\"white\",\"linecolor\":\"white\",\"ticks\":\"\",\"title\":{\"standoff\":15},\"zerolinecolor\":\"white\",\"automargin\":true,\"zerolinewidth\":2},\"scene\":{\"xaxis\":{\"backgroundcolor\":\"#E5ECF6\",\"gridcolor\":\"white\",\"linecolor\":\"white\",\"showbackground\":true,\"ticks\":\"\",\"zerolinecolor\":\"white\",\"gridwidth\":2},\"yaxis\":{\"backgroundcolor\":\"#E5ECF6\",\"gridcolor\":\"white\",\"linecolor\":\"white\",\"showbackground\":true,\"ticks\":\"\",\"zerolinecolor\":\"white\",\"gridwidth\":2},\"zaxis\":{\"backgroundcolor\":\"#E5ECF6\",\"gridcolor\":\"white\",\"linecolor\":\"white\",\"showbackground\":true,\"ticks\":\"\",\"zerolinecolor\":\"white\",\"gridwidth\":2}},\"shapedefaults\":{\"line\":{\"color\":\"#2a3f5f\"}},\"annotationdefaults\":{\"arrowcolor\":\"#2a3f5f\",\"arrowhead\":0,\"arrowwidth\":1},\"geo\":{\"bgcolor\":\"white\",\"landcolor\":\"#E5ECF6\",\"subunitcolor\":\"white\",\"showland\":true,\"showlakes\":true,\"lakecolor\":\"white\"},\"title\":{\"x\":0.05},\"mapbox\":{\"style\":\"light\"}}},\"xaxis\":{\"anchor\":\"y\",\"domain\":[0.0,1.0],\"title\":{\"text\":\"Estimated Marginal Mean\"}},\"yaxis\":{\"anchor\":\"x\",\"domain\":[0.0,1.0],\"title\":{\"text\":\"Treatment\"}},\"legend\":{\"tracegroupgap\":0},\"margin\":{\"t\":60},\"title\":{\"text\":\"Chalk Effects with 95% CI\"}},                        {\"responsive\": true}                    ).then(function(){\n",
       "                            \n",
       "var gd = document.getElementById('4a95321d-0b80-44e4-96d6-9f80d2482a86');\n",
       "var x = new MutationObserver(function (mutations, observer) {{\n",
       "        var display = window.getComputedStyle(gd).display;\n",
       "        if (!display || display === 'none') {{\n",
       "            console.log([gd, 'removed!']);\n",
       "            Plotly.purge(gd);\n",
       "            observer.disconnect();\n",
       "        }}\n",
       "}});\n",
       "\n",
       "// Listen for the removal of the full notebook cells\n",
       "var notebookContainer = gd.closest('#notebook-container');\n",
       "if (notebookContainer) {{\n",
       "    x.observe(notebookContainer, {childList: true});\n",
       "}}\n",
       "\n",
       "// Listen for the clearing of the current output cell\n",
       "var outputEl = gd.closest('.output');\n",
       "if (outputEl) {{\n",
       "    x.observe(outputEl, {childList: true});\n",
       "}}\n",
       "\n",
       "                        })                };                });            </script>        </div>"
      ]
     },
     "metadata": {},
     "output_type": "display_data"
    }
   ],
   "source": [
    "cemmplot = cemmplot.sort_values(\"lower.CL\").reset_index(drop=True)\n",
    "cemmplot[\"mag\"] = cemmplot[\"upper.CL\"] - cemmplot[\"emmean\"]\n",
    "# Create basic plot\n",
    "arrow2 = px.scatter(\n",
    "        cemmplot,\n",
    "        y='Chalk',\n",
    "        x='emmean',\n",
    "        error_x = \"mag\"\n",
    "        )\n",
    "# Update layout\n",
    "arrow2.update_layout(\n",
    "        title='Chalk Effects with 95% CI',\n",
    "        xaxis_title='Estimated Marginal Mean',\n",
    "        yaxis_title='Treatment'\n",
    "    )\n",
    "arrow2.show()\n"
   ]
  },
  {
   "cell_type": "code",
   "execution_count": 21,
   "metadata": {},
   "outputs": [
    {
     "data": {
      "application/vnd.microsoft.datawrangler.viewer.v0+json": {
       "columns": [
        {
         "name": "index",
         "rawType": "object",
         "type": "string"
        },
        {
         "name": "contrast",
         "rawType": "object",
         "type": "string"
        },
        {
         "name": "estimate",
         "rawType": "float64",
         "type": "float"
        },
        {
         "name": "SE",
         "rawType": "float64",
         "type": "float"
        },
        {
         "name": "df",
         "rawType": "float64",
         "type": "float"
        },
        {
         "name": "t.ratio",
         "rawType": "float64",
         "type": "float"
        },
        {
         "name": "p.value",
         "rawType": "float64",
         "type": "float"
        }
       ],
       "conversionMethod": "pd.DataFrame",
       "ref": "5a257d3a-7df7-4e2c-97f7-45eb13e5530e",
       "rows": [
        [
         "1",
         "None - FL",
         "-9.76767494048939",
         "3.7723301179204274",
         "549.4109847296523",
         "-2.589294848318847",
         "0.07371528939238359"
        ],
        [
         "2",
         "None - Metolius",
         "-9.08161925838818",
         "3.6224544239599856",
         "556.7388648831311",
         "-2.507034787882951",
         "0.09049485992279016"
        ],
        [
         "3",
         "None - Magdust",
         "-8.845867745522463",
         "2.689924606066077",
         "569.9886041097484",
         "-3.2885188401095165",
         "0.009411023370386018"
        ],
        [
         "4",
         "None - Ethan",
         "-13.440059870893682",
         "3.9202698897261317",
         "564.0587994039986",
         "-3.4283506618042052",
         "0.005855165371601134"
        ],
        [
         "5",
         "FL - Metolius",
         "0.6860556821012107",
         "5.02204412595836",
         "523.6027886161384",
         "0.1366088518727004",
         "0.9999214858557866"
        ],
        [
         "6",
         "FL - Magdust",
         "0.9218071949669273",
         "4.5497296044426365",
         "540.1651729227601",
         "0.20260702835324937",
         "0.999624127797843"
        ],
        [
         "7",
         "FL - Ethan",
         "-3.6723849304042915",
         "5.322729599799522",
         "527.462871122819",
         "-0.6899439209804327",
         "0.958635204763133"
        ],
        [
         "8",
         "Metolius - Magdust",
         "0.2357515128657166",
         "4.286317672138195",
         "558.5574168993654",
         "0.055000942743498024",
         "0.9999979222147878"
        ],
        [
         "9",
         "Metolius - Ethan",
         "-4.358440612505502",
         "5.309620387581024",
         "537.3036686508403",
         "-0.8208572919261251",
         "0.9241768530982282"
        ],
        [
         "10",
         "Magdust - Ethan",
         "-4.594192125371219",
         "4.402001213078167",
         "565.2693006696054",
         "-1.0436598953498832",
         "0.8348883758940506"
        ]
       ],
       "shape": {
        "columns": 6,
        "rows": 10
       }
      },
      "text/html": [
       "<div>\n",
       "<style scoped>\n",
       "    .dataframe tbody tr th:only-of-type {\n",
       "        vertical-align: middle;\n",
       "    }\n",
       "\n",
       "    .dataframe tbody tr th {\n",
       "        vertical-align: top;\n",
       "    }\n",
       "\n",
       "    .dataframe thead th {\n",
       "        text-align: right;\n",
       "    }\n",
       "</style>\n",
       "<table border=\"1\" class=\"dataframe\">\n",
       "  <thead>\n",
       "    <tr style=\"text-align: right;\">\n",
       "      <th></th>\n",
       "      <th>contrast</th>\n",
       "      <th>estimate</th>\n",
       "      <th>SE</th>\n",
       "      <th>df</th>\n",
       "      <th>t.ratio</th>\n",
       "      <th>p.value</th>\n",
       "    </tr>\n",
       "  </thead>\n",
       "  <tbody>\n",
       "    <tr>\n",
       "      <th>1</th>\n",
       "      <td>None - FL</td>\n",
       "      <td>-9.767675</td>\n",
       "      <td>3.772330</td>\n",
       "      <td>549.410985</td>\n",
       "      <td>-2.589295</td>\n",
       "      <td>0.073715</td>\n",
       "    </tr>\n",
       "    <tr>\n",
       "      <th>2</th>\n",
       "      <td>None - Metolius</td>\n",
       "      <td>-9.081619</td>\n",
       "      <td>3.622454</td>\n",
       "      <td>556.738865</td>\n",
       "      <td>-2.507035</td>\n",
       "      <td>0.090495</td>\n",
       "    </tr>\n",
       "    <tr>\n",
       "      <th>3</th>\n",
       "      <td>None - Magdust</td>\n",
       "      <td>-8.845868</td>\n",
       "      <td>2.689925</td>\n",
       "      <td>569.988604</td>\n",
       "      <td>-3.288519</td>\n",
       "      <td>0.009411</td>\n",
       "    </tr>\n",
       "    <tr>\n",
       "      <th>4</th>\n",
       "      <td>None - Ethan</td>\n",
       "      <td>-13.440060</td>\n",
       "      <td>3.920270</td>\n",
       "      <td>564.058799</td>\n",
       "      <td>-3.428351</td>\n",
       "      <td>0.005855</td>\n",
       "    </tr>\n",
       "    <tr>\n",
       "      <th>5</th>\n",
       "      <td>FL - Metolius</td>\n",
       "      <td>0.686056</td>\n",
       "      <td>5.022044</td>\n",
       "      <td>523.602789</td>\n",
       "      <td>0.136609</td>\n",
       "      <td>0.999921</td>\n",
       "    </tr>\n",
       "    <tr>\n",
       "      <th>6</th>\n",
       "      <td>FL - Magdust</td>\n",
       "      <td>0.921807</td>\n",
       "      <td>4.549730</td>\n",
       "      <td>540.165173</td>\n",
       "      <td>0.202607</td>\n",
       "      <td>0.999624</td>\n",
       "    </tr>\n",
       "    <tr>\n",
       "      <th>7</th>\n",
       "      <td>FL - Ethan</td>\n",
       "      <td>-3.672385</td>\n",
       "      <td>5.322730</td>\n",
       "      <td>527.462871</td>\n",
       "      <td>-0.689944</td>\n",
       "      <td>0.958635</td>\n",
       "    </tr>\n",
       "    <tr>\n",
       "      <th>8</th>\n",
       "      <td>Metolius - Magdust</td>\n",
       "      <td>0.235752</td>\n",
       "      <td>4.286318</td>\n",
       "      <td>558.557417</td>\n",
       "      <td>0.055001</td>\n",
       "      <td>0.999998</td>\n",
       "    </tr>\n",
       "    <tr>\n",
       "      <th>9</th>\n",
       "      <td>Metolius - Ethan</td>\n",
       "      <td>-4.358441</td>\n",
       "      <td>5.309620</td>\n",
       "      <td>537.303669</td>\n",
       "      <td>-0.820857</td>\n",
       "      <td>0.924177</td>\n",
       "    </tr>\n",
       "    <tr>\n",
       "      <th>10</th>\n",
       "      <td>Magdust - Ethan</td>\n",
       "      <td>-4.594192</td>\n",
       "      <td>4.402001</td>\n",
       "      <td>565.269301</td>\n",
       "      <td>-1.043660</td>\n",
       "      <td>0.834888</td>\n",
       "    </tr>\n",
       "  </tbody>\n",
       "</table>\n",
       "</div>"
      ],
      "text/plain": [
       "              contrast   estimate        SE          df   t.ratio   p.value\n",
       "1            None - FL  -9.767675  3.772330  549.410985 -2.589295  0.073715\n",
       "2      None - Metolius  -9.081619  3.622454  556.738865 -2.507035  0.090495\n",
       "3       None - Magdust  -8.845868  2.689925  569.988604 -3.288519  0.009411\n",
       "4         None - Ethan -13.440060  3.920270  564.058799 -3.428351  0.005855\n",
       "5        FL - Metolius   0.686056  5.022044  523.602789  0.136609  0.999921\n",
       "6         FL - Magdust   0.921807  4.549730  540.165173  0.202607  0.999624\n",
       "7           FL - Ethan  -3.672385  5.322730  527.462871 -0.689944  0.958635\n",
       "8   Metolius - Magdust   0.235752  4.286318  558.557417  0.055001  0.999998\n",
       "9     Metolius - Ethan  -4.358441  5.309620  537.303669 -0.820857  0.924177\n",
       "10     Magdust - Ethan  -4.594192  4.402001  565.269301 -1.043660  0.834888"
      ]
     },
     "execution_count": 21,
     "metadata": {},
     "output_type": "execute_result"
    }
   ],
   "source": [
    "ccontrasts"
   ]
  },
  {
   "cell_type": "markdown",
   "metadata": {},
   "source": [
    "- This Output is now a lot more interpretable. \n",
    "- Only 2 p values for contrasts are significant at p = 0.05, Magdust and Ethan Chalk compared to none. \n",
    "- Essentially, this means Magdust and Ethan's Chalk are significantly better than no chalk according to our data, but that all four chalks are not significantly different from each other, and FL and Metolius are not significantly from No Chalk. "
   ]
  },
  {
   "cell_type": "markdown",
   "metadata": {},
   "source": [
    "# Conclusions\n",
    "- Confounding is bad lol. will need ot chat later. "
   ]
  },
  {
   "cell_type": "code",
   "execution_count": 22,
   "metadata": {},
   "outputs": [],
   "source": [
    "# # Add to top of notebook\n",
    "# import plotly.io as pio\n",
    "# pio.renderers.default = \"notebook_connected\""
   ]
  }
 ],
 "metadata": {
  "kernelspec": {
   "display_name": "main",
   "language": "python",
   "name": "python3"
  },
  "language_info": {
   "codemirror_mode": {
    "name": "ipython",
    "version": 3
   },
   "file_extension": ".py",
   "mimetype": "text/x-python",
   "name": "python",
   "nbconvert_exporter": "python",
   "pygments_lexer": "ipython3",
   "version": "3.12.3"
  }
 },
 "nbformat": 4,
 "nbformat_minor": 2
}
