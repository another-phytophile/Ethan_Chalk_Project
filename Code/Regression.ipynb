{
 "cells": [
  {
   "cell_type": "code",
   "execution_count": 20,
   "metadata": {},
   "outputs": [
    {
     "name": "stdout",
     "output_type": "stream",
     "text": [
      "c:\\Users\\Public\\Documents\\Personal_Projects\\Ethan_Chalk_Project\n"
     ]
    }
   ],
   "source": [
    "# Imports\n",
    "import math\n",
    "import numpy as np\n",
    "import pandas as pd\n",
    "import plotly.express as px\n",
    "import os\n",
    "import git\n",
    "import statsmodels\n",
    "import statsmodels.formula.api as smf\n",
    "# Filepaths\n",
    "repo = git.Repo('.', search_parent_directories=True)\n",
    "os.chdir(repo.working_tree_dir)\n",
    "print(os.getcwd())\n",
    "# Data\n",
    "Chalk_Long = pd.read_excel('data/Raw/Chalk_Long.xlsm', sheet_name=1, header=0)\n",
    "metadata = pd.read_excel('data/Raw/Metadata.xlsx', sheet_name=1, header=0)\n",
    "Chalk = pd.merge(metadata, Chalk_Long, on=[\"Code\",\"bChalk\"], how='left')\n",
    "Chalk[\"Chalk\"] = Chalk[\"Chalk\"].astype(\"category\")\n",
    "Chalk[\"Chalk\"] = Chalk[\"Chalk\"].cat.rename_categories([\"None\", \"FL\", \"Metolius\", \"Magdust\", \"Ethan\"])\n",
    "Chalk[\"Person\"] = Chalk[\"Person\"].astype(\"category\")\n",
    "Chalk[\"Pinch_Order\"] = Chalk[\"Pinch_Order\"].rank(method='dense')\n",
    "Chalk[\"Day_Chalk\"] = Chalk[\"Day\"].astype(\"str\") + \"_\" + Chalk[\"Chalk\"].astype(\"str\")"
   ]
  },
  {
   "cell_type": "markdown",
   "metadata": {},
   "source": [
    "# Diagnostic Plots"
   ]
  },
  {
   "cell_type": "code",
   "execution_count": 21,
   "metadata": {},
   "outputs": [],
   "source": [
    "# Scipy's LR diagnostics\n",
    "# base code\n",
    "import numpy as np\n",
    "import seaborn as sns\n",
    "from statsmodels.tools.tools import maybe_unwrap_results\n",
    "from statsmodels.graphics.gofplots import ProbPlot\n",
    "from statsmodels.stats.outliers_influence import variance_inflation_factor\n",
    "import matplotlib.pyplot as plt\n",
    "from typing import Type\n",
    "\n",
    "style_talk = 'seaborn-talk'    #refer to plt.style.available\n",
    "\n",
    "class LinearRegDiagnostic():\n",
    "    \"\"\"\n",
    "    Diagnostic plots to identify potential problems in a linear regression fit.\n",
    "    Mainly,\n",
    "        a. non-linearity of data\n",
    "        b. Correlation of error terms\n",
    "        c. non-constant variance\n",
    "        d. outliers\n",
    "        e. high-leverage points\n",
    "        f. collinearity\n",
    "\n",
    "    Authors:\n",
    "        Prajwal Kafle (p33ajkafle@gmail.com, where 3 = r)\n",
    "        Does not come with any sort of warranty.\n",
    "        Please test the code one your end before using.\n",
    "\n",
    "        Matt Spinelli (m3spinelli@gmail.com, where 3 = r)\n",
    "        (1) Fixed incorrect annotation of the top most extreme residuals in\n",
    "            the Residuals vs Fitted and, especially, the Normal Q-Q plots.\n",
    "        (2) Changed Residuals vs Leverage plot to match closer the y-axis\n",
    "            range shown in the equivalent plot in the R package ggfortify.\n",
    "        (3) Added horizontal line at y=0 in Residuals vs Leverage plot to\n",
    "            match the plots in R package ggfortify and base R.\n",
    "        (4) Added option for placing a vertical guideline on the Residuals\n",
    "            vs Leverage plot using the rule of thumb of h = 2p/n to denote\n",
    "            high leverage (high_leverage_threshold=True).\n",
    "        (5) Added two more ways to compute the Cook's Distance (D) threshold:\n",
    "            * 'baseR': D > 1 and D > 0.5 (default)\n",
    "            * 'convention': D > 4/n\n",
    "            * 'dof': D > 4 / (n - k - 1)\n",
    "        (6) Fixed class name to conform to Pascal casing convention\n",
    "        (7) Fixed Residuals vs Leverage legend to work with loc='best'\n",
    "    \"\"\"\n",
    "\n",
    "    def __init__(self,\n",
    "                 results: Type[statsmodels.regression.linear_model.RegressionResultsWrapper]) -> None:\n",
    "        \"\"\"\n",
    "        For a linear regression model, generates following diagnostic plots:\n",
    "\n",
    "        a. residual\n",
    "        b. qq\n",
    "        c. scale location and\n",
    "        d. leverage\n",
    "\n",
    "        and a table\n",
    "\n",
    "        e. vif\n",
    "\n",
    "        Args:\n",
    "            results (Type[statsmodels.regression.linear_model.RegressionResultsWrapper]):\n",
    "                must be instance of statsmodels.regression.linear_model object\n",
    "\n",
    "        Raises:\n",
    "            TypeError: if instance does not belong to above object\n",
    "\n",
    "        Example:\n",
    "        >>> import numpy as np\n",
    "        >>> import pandas as pd\n",
    "        >>> import statsmodels.formula.api as smf\n",
    "        >>> x = np.linspace(-np.pi, np.pi, 100)\n",
    "        >>> y = 3*x + 8 + np.random.normal(0,1, 100)\n",
    "        >>> df = pd.DataFrame({'x':x, 'y':y})\n",
    "        >>> res = smf.ols(formula= \"y ~ x\", data=df).fit()\n",
    "        >>> cls = Linear_Reg_Diagnostic(res)\n",
    "        >>> cls(plot_context=\"seaborn-v0_8-paper\")\n",
    "\n",
    "        In case you do not need all plots you can also independently make an individual plot/table\n",
    "        in following ways\n",
    "\n",
    "        >>> cls = Linear_Reg_Diagnostic(res)\n",
    "        >>> cls.residual_plot()\n",
    "        >>> cls.qq_plot()\n",
    "        >>> cls.scale_location_plot()\n",
    "        >>> cls.leverage_plot()\n",
    "        >>> cls.vif_table()\n",
    "        \"\"\"\n",
    "\n",
    "        if isinstance(results, statsmodels.regression.linear_model.RegressionResultsWrapper) is False:\n",
    "            raise TypeError(\"result must be instance of statsmodels.regression.linear_model.RegressionResultsWrapper object\")\n",
    "\n",
    "        self.results = maybe_unwrap_results(results)\n",
    "\n",
    "        self.y_true = self.results.model.endog\n",
    "        self.y_predict = self.results.fittedvalues\n",
    "        self.xvar = self.results.model.exog\n",
    "        self.xvar_names = self.results.model.exog_names\n",
    "\n",
    "        self.residual = np.array(self.results.resid)\n",
    "        influence = self.results.get_influence()\n",
    "        self.residual_norm = influence.resid_studentized_internal\n",
    "        self.leverage = influence.hat_matrix_diag\n",
    "        self.cooks_distance = influence.cooks_distance[0]\n",
    "        self.nparams = len(self.results.params)\n",
    "        self.nresids = len(self.residual_norm)\n",
    "\n",
    "    def __call__(self, plot_context='seaborn-v0_8-paper', **kwargs):\n",
    "        # print(plt.style.available)\n",
    "        # GH#9157\n",
    "        if plot_context not in plt.style.available:\n",
    "            plot_context = 'default'\n",
    "        with plt.style.context(plot_context):\n",
    "            fig, ax = plt.subplots(nrows=2, ncols=2, figsize=(10,10))\n",
    "            self.residual_plot(ax=ax[0,0])\n",
    "            self.qq_plot(ax=ax[0,1])\n",
    "            self.scale_location_plot(ax=ax[1,0])\n",
    "            self.leverage_plot(\n",
    "                ax=ax[1,1],\n",
    "                high_leverage_threshold = kwargs.get('high_leverage_threshold'),\n",
    "                cooks_threshold = kwargs.get('cooks_threshold'))\n",
    "            plt.show()\n",
    "\n",
    "        return self.vif_table(), fig, ax,\n",
    "\n",
    "    def residual_plot(self, ax=None):\n",
    "        \"\"\"\n",
    "        Residual vs Fitted Plot\n",
    "\n",
    "        Graphical tool to identify non-linearity.\n",
    "        (Roughly) Horizontal red line is an indicator that the residual has a linear pattern\n",
    "        \"\"\"\n",
    "        if ax is None:\n",
    "            fig, ax = plt.subplots()\n",
    "\n",
    "        sns.residplot(\n",
    "            x=self.y_predict,\n",
    "            y=self.residual,\n",
    "            lowess=True,\n",
    "            scatter_kws={'alpha': 0.5},\n",
    "            line_kws={'color': 'red', 'lw': 1, 'alpha': 0.8},\n",
    "            ax=ax)\n",
    "\n",
    "        # annotations\n",
    "        residual_abs = np.abs(self.residual)\n",
    "        abs_resid = np.flip(np.argsort(residual_abs), 0)\n",
    "        abs_resid_top_3 = abs_resid[:3]\n",
    "        for i in abs_resid_top_3:\n",
    "            ax.annotate(\n",
    "                i,\n",
    "                xy=(self.y_predict[i], self.residual[i]),\n",
    "                color='C3')\n",
    "\n",
    "        ax.set_title('Residuals vs Fitted', fontweight=\"bold\")\n",
    "        ax.set_xlabel('Fitted values')\n",
    "        ax.set_ylabel('Residuals')\n",
    "        return ax\n",
    "\n",
    "    def qq_plot(self, ax=None):\n",
    "        \"\"\"\n",
    "        Standarized Residual vs Theoretical Quantile plot\n",
    "\n",
    "        Used to visually check if residuals are normally distributed.\n",
    "        Points spread along the diagonal line will suggest so.\n",
    "        \"\"\"\n",
    "        if ax is None:\n",
    "            fig, ax = plt.subplots()\n",
    "\n",
    "        QQ = ProbPlot(self.residual_norm)\n",
    "        fig = QQ.qqplot(line='45', alpha=0.5, lw=1, ax=ax)\n",
    "\n",
    "        # annotations\n",
    "        abs_norm_resid = np.flip(np.argsort(np.abs(self.residual_norm)), 0)\n",
    "        abs_norm_resid_top_3 = abs_norm_resid[:3]\n",
    "        for i, x, y in self.__qq_top_resid(QQ.theoretical_quantiles, abs_norm_resid_top_3):\n",
    "            ax.annotate(\n",
    "                i,\n",
    "                xy=(x, y),\n",
    "                ha='right',\n",
    "                color='C3')\n",
    "\n",
    "        ax.set_title('Normal Q-Q', fontweight=\"bold\")\n",
    "        ax.set_xlabel('Theoretical Quantiles')\n",
    "        ax.set_ylabel('Standardized Residuals')\n",
    "        return ax\n",
    "\n",
    "    def scale_location_plot(self, ax=None):\n",
    "        \"\"\"\n",
    "        Sqrt(Standarized Residual) vs Fitted values plot\n",
    "\n",
    "        Used to check homoscedasticity of the residuals.\n",
    "        Horizontal line will suggest so.\n",
    "        \"\"\"\n",
    "        if ax is None:\n",
    "            fig, ax = plt.subplots()\n",
    "\n",
    "        residual_norm_abs_sqrt = np.sqrt(np.abs(self.residual_norm))\n",
    "\n",
    "        ax.scatter(self.y_predict, residual_norm_abs_sqrt, alpha=0.5);\n",
    "        sns.regplot(\n",
    "            x=self.y_predict,\n",
    "            y=residual_norm_abs_sqrt,\n",
    "            scatter=False, ci=False,\n",
    "            lowess=True,\n",
    "            line_kws={'color': 'red', 'lw': 1, 'alpha': 0.8},\n",
    "            ax=ax)\n",
    "\n",
    "        # annotations\n",
    "        abs_sq_norm_resid = np.flip(np.argsort(residual_norm_abs_sqrt), 0)\n",
    "        abs_sq_norm_resid_top_3 = abs_sq_norm_resid[:3]\n",
    "        for i in abs_sq_norm_resid_top_3:\n",
    "            ax.annotate(\n",
    "                i,\n",
    "                xy=(self.y_predict[i], residual_norm_abs_sqrt[i]),\n",
    "                color='C3')\n",
    "\n",
    "        ax.set_title('Scale-Location', fontweight=\"bold\")\n",
    "        ax.set_xlabel('Fitted values')\n",
    "        ax.set_ylabel(r'$\\sqrt{|\\mathrm{Standardized\\ Residuals}|}$');\n",
    "        return ax\n",
    "\n",
    "    def leverage_plot(self, ax=None, high_leverage_threshold=False, cooks_threshold='baseR'):\n",
    "        \"\"\"\n",
    "        Residual vs Leverage plot\n",
    "\n",
    "        Points falling outside Cook's distance curves are considered observation that can sway the fit\n",
    "        aka are influential.\n",
    "        Good to have none outside the curves.\n",
    "        \"\"\"\n",
    "        if ax is None:\n",
    "            fig, ax = plt.subplots()\n",
    "\n",
    "        ax.scatter(\n",
    "            self.leverage,\n",
    "            self.residual_norm,\n",
    "            alpha=0.5);\n",
    "\n",
    "        sns.regplot(\n",
    "            x=self.leverage,\n",
    "            y=self.residual_norm,\n",
    "            scatter=False,\n",
    "            ci=False,\n",
    "            lowess=True,\n",
    "            line_kws={'color': 'red', 'lw': 1, 'alpha': 0.8},\n",
    "            ax=ax)\n",
    "\n",
    "        # annotations\n",
    "        leverage_top_3 = np.flip(np.argsort(self.cooks_distance), 0)[:3]\n",
    "        for i in leverage_top_3:\n",
    "            ax.annotate(\n",
    "                i,\n",
    "                xy=(self.leverage[i], self.residual_norm[i]),\n",
    "                color = 'C3')\n",
    "\n",
    "        factors = []\n",
    "        if cooks_threshold == 'baseR' or cooks_threshold is None:\n",
    "            factors = [1, 0.5]\n",
    "        elif cooks_threshold == 'convention':\n",
    "            factors = [4/self.nresids]\n",
    "        elif cooks_threshold == 'dof':\n",
    "            factors = [4/ (self.nresids - self.nparams)]\n",
    "        else:\n",
    "            raise ValueError(\"threshold_method must be one of the following: 'convention', 'dof', or 'baseR' (default)\")\n",
    "        for i, factor in enumerate(factors):\n",
    "            label = \"Cook's distance\" if i == 0 else None\n",
    "            xtemp, ytemp = self.__cooks_dist_line(factor)\n",
    "            ax.plot(xtemp, ytemp, label=label, lw=1.25, ls='--', color='red')\n",
    "            ax.plot(xtemp, np.negative(ytemp), lw=1.25, ls='--', color='red')\n",
    "\n",
    "        if high_leverage_threshold:\n",
    "            high_leverage = 2 * self.nparams / self.nresids\n",
    "            if max(self.leverage) > high_leverage:\n",
    "                ax.axvline(high_leverage, label='High leverage', ls='-.', color='purple', lw=1)\n",
    "\n",
    "        ax.axhline(0, ls='dotted', color='black', lw=1.25)\n",
    "        ax.set_xlim(0, max(self.leverage)+0.01)\n",
    "        ax.set_ylim(min(self.residual_norm)-0.1, max(self.residual_norm)+0.1)\n",
    "        ax.set_title('Residuals vs Leverage', fontweight=\"bold\")\n",
    "        ax.set_xlabel('Leverage')\n",
    "        ax.set_ylabel('Standardized Residuals')\n",
    "        plt.legend(loc='best')\n",
    "        return ax\n",
    "\n",
    "    def vif_table(self):\n",
    "        \"\"\"\n",
    "        VIF table\n",
    "\n",
    "        VIF, the variance inflation factor, is a measure of multicollinearity.\n",
    "        VIF > 5 for a variable indicates that it is highly collinear with the\n",
    "        other input variables.\n",
    "        \"\"\"\n",
    "        vif_df = pd.DataFrame()\n",
    "        vif_df[\"Features\"] = self.xvar_names\n",
    "        vif_df[\"VIF Factor\"] = [variance_inflation_factor(self.xvar, i) for i in range(self.xvar.shape[1])]\n",
    "\n",
    "        return (vif_df\n",
    "                .sort_values(\"VIF Factor\")\n",
    "                .round(2))\n",
    "\n",
    "\n",
    "    def __cooks_dist_line(self, factor):\n",
    "        \"\"\"\n",
    "        Helper function for plotting Cook's distance curves\n",
    "        \"\"\"\n",
    "        p = self.nparams\n",
    "        formula = lambda x: np.sqrt((factor * p * (1 - x)) / x)\n",
    "        x = np.linspace(0.001, max(self.leverage), 50)\n",
    "        y = formula(x)\n",
    "        return x, y\n",
    "\n",
    "\n",
    "    def __qq_top_resid(self, quantiles, top_residual_indices):\n",
    "        \"\"\"\n",
    "        Helper generator function yielding the index and coordinates\n",
    "        \"\"\"\n",
    "        offset = 0\n",
    "        quant_index = 0\n",
    "        previous_is_negative = None\n",
    "        for resid_index in top_residual_indices:\n",
    "            y = self.residual_norm[resid_index]\n",
    "            is_negative = y < 0\n",
    "            if previous_is_negative == None or previous_is_negative == is_negative:\n",
    "                offset += 1\n",
    "            else:\n",
    "                quant_index -= offset\n",
    "            x = quantiles[quant_index] if is_negative else np.flip(quantiles, 0)[quant_index]\n",
    "            quant_index += 1\n",
    "            previous_is_negative = is_negative\n",
    "            yield resid_index, x, y\n"
   ]
  },
  {
   "cell_type": "markdown",
   "metadata": {},
   "source": [
    "# Regression\n",
    "\n",
    "- From our EDA we have generally shown that there appears to be good separation from chalk and person, and negligible for pinch order and day order. However, we cannot avoid confonding of chalk and day. \n",
    "- The data is also somewhat group unbalanced, with control being overrepresented. Linearity looks fine, but not homoscedasticity. \n",
    "\n",
    "First I want to test if our blocking variable is significantly different, by collapsing all chalks into one. "
   ]
  },
  {
   "cell_type": "code",
   "execution_count": 22,
   "metadata": {},
   "outputs": [],
   "source": [
    "Chalk[\"Used\"] = [0 if c== \"None\" else 1 for c in Chalk[\"Chalk\"]]\n",
    "Chalk[\"Used\"] = Chalk[\"Used\"].astype(\"category\")\n",
    "Chalk[\"Used\"] = Chalk[\"Used\"].cat.rename_categories([\"None\", \"Chalk\"])"
   ]
  },
  {
   "cell_type": "code",
   "execution_count": 49,
   "metadata": {},
   "outputs": [
    {
     "name": "stdout",
     "output_type": "stream",
     "text": [
      "         Mixed Linear Model Regression Results\n",
      "========================================================\n",
      "Model:            MixedLM Dependent Variable: Pull      \n",
      "No. Observations: 576     Method:             REML      \n",
      "No. Groups:       7       Scale:              34.0774   \n",
      "Min. group size:  60      Log-Likelihood:     -1842.6574\n",
      "Max. group size:  114     Converged:          Yes       \n",
      "Mean group size:  82.3                                  \n",
      "--------------------------------------------------------\n",
      "              Coef.  Std.Err.   z    P>|z| [0.025 0.975]\n",
      "--------------------------------------------------------\n",
      "Intercept     -6.075    1.350 -4.498 0.000 -8.721 -3.428\n",
      "Used[T.Chalk]  9.891    0.492 20.122 0.000  8.927 10.854\n",
      "Person[T.2]   -4.999    0.502 -9.966 0.000 -5.982 -4.016\n",
      "Pinch          9.803    0.142 69.155 0.000  9.525 10.081\n",
      "Pinch_Order    0.285    0.298  0.956 0.339 -0.299  0.869\n",
      "Day_Order     -0.031    0.028 -1.091 0.275 -0.087  0.025\n",
      "Day Var        5.867    0.632                           \n",
      "========================================================\n",
      "\n"
     ]
    }
   ],
   "source": [
    "# Now Fit Mixed Model\n",
    "testrel = smf.mixedlm(\"Pull ~ Pinch + Used + Person + Pinch_Order + Day_Order\",\n",
    "                      groups = \"Day\",\n",
    "                      data = Chalk)\n",
    "testrelf = testrel.fit()\n",
    "print(testrelf.summary())\n"
   ]
  },
  {
   "cell_type": "code",
   "execution_count": 45,
   "metadata": {},
   "outputs": [
    {
     "name": "stdout",
     "output_type": "stream",
     "text": [
      "                 Mixed Linear Model Regression Results\n",
      "========================================================================\n",
      "Model:                   MixedLM       Dependent Variable:       Pull   \n",
      "No. Observations:        576           Method:                   REML   \n",
      "No. Groups:              7             Scale:                    39.4242\n",
      "Min. group size:         60            Log-Likelihood:           inf    \n",
      "Max. group size:         114           Converged:                Yes    \n",
      "Mean group size:         82.3                                           \n",
      "------------------------------------------------------------------------\n",
      "              Coef.   Std.Err.     z    P>|z|     [0.025       0.975]   \n",
      "------------------------------------------------------------------------\n",
      "Intercept     0.000 48655366.411  0.000 1.000 -95362765.821 95362765.821\n",
      "Used[T.Chalk] 9.962        0.529 18.833 0.000         8.925       10.999\n",
      "Pinch         9.755        0.152 63.996 0.000         9.456       10.053\n",
      "Day Var       0.000                                                     \n",
      "========================================================================\n",
      "\n"
     ]
    },
    {
     "name": "stderr",
     "output_type": "stream",
     "text": [
      "c:\\Users\\yujer\\anaconda3\\envs\\main\\Lib\\site-packages\\statsmodels\\regression\\mixed_linear_model.py:1634: UserWarning:\n",
      "\n",
      "Random effects covariance is singular\n",
      "\n",
      "c:\\Users\\yujer\\anaconda3\\envs\\main\\Lib\\site-packages\\statsmodels\\regression\\mixed_linear_model.py:2054: UserWarning:\n",
      "\n",
      "The random effects covariance matrix is singular.\n",
      "\n",
      "c:\\Users\\yujer\\anaconda3\\envs\\main\\Lib\\site-packages\\statsmodels\\regression\\mixed_linear_model.py:2237: ConvergenceWarning:\n",
      "\n",
      "The MLE may be on the boundary of the parameter space.\n",
      "\n",
      "c:\\Users\\yujer\\anaconda3\\envs\\main\\Lib\\site-packages\\statsmodels\\regression\\mixed_linear_model.py:2245: UserWarning:\n",
      "\n",
      "The random effects covariance matrix is singular.\n",
      "\n",
      "c:\\Users\\yujer\\anaconda3\\envs\\main\\Lib\\site-packages\\statsmodels\\regression\\mixed_linear_model.py:2261: ConvergenceWarning:\n",
      "\n",
      "The Hessian matrix at the estimated parameter values is not positive definite.\n",
      "\n"
     ]
    }
   ],
   "source": [
    "# Now Fit Mixed Model\n",
    "testrel = smf.mixedlm(\"Pull ~ Pinch + Used\",\n",
    "                      groups = \"Day\",\n",
    "                      data = Chalk)\n",
    "testrelf = testrel.fit(method=[\"lbfgs\"])\n",
    "print(testrelf.summary())\n",
    "\n"
   ]
  },
  {
   "cell_type": "code",
   "execution_count": 50,
   "metadata": {},
   "outputs": [
    {
     "data": {
      "application/vnd.plotly.v1+json": {
       "config": {
        "plotlyServerURL": "https://plot.ly"
       },
       "data": [
        {
         "hovertemplate": "Value=%{x}<br>Residuals=%{y}<extra></extra>",
         "legendgroup": "",
         "marker": {
          "color": "#636efa",
          "symbol": "circle"
         },
         "mode": "markers",
         "name": "",
         "orientation": "v",
         "showlegend": false,
         "type": "scatter",
         "x": [
          37.358056866063,
          36.809581735501645,
          37.45707049611108,
          41.101516278061496,
          41.38629467823389,
          41.65146711297725,
          11.769441912680458,
          14.210876510046084,
          13.309494001762195,
          31.58952287787614,
          28.776558740261883,
          31.69833949063873,
          46.00752568089057,
          47.61570674752244,
          46.93979284167239,
          48.8200663228869,
          53.69264063345217,
          48.89947398750595,
          26.32003622303895,
          26.29111917634687,
          26.830775127096647,
          64.55011872609325,
          65.57012082985425,
          64.08055935869947,
          44.756981228418674,
          41.16958145635777,
          45.767672250916625,
          42.187414261539516,
          43.9328370861746,
          41.45317436085384,
          8.443362988143216,
          9.100654731467165,
          10.228489645087821,
          29.430633582849808,
          23.441503045732787,
          23.138102483034295,
          45.83864187691072,
          48.74081666185853,
          47.349285017848906,
          45.53383401569137,
          40.60342561174194,
          40.260813118185396,
          48.55160260820885,
          48.846183991095764,
          48.95450870240689,
          12.12180416964244,
          13.543728564698538,
          11.397367251671282,
          21.266801546608352,
          23.198481042819214,
          20.316896026203356,
          40.76301949434832,
          41.79282458082382,
          44.753817262058725,
          31.89993762475071,
          33.52772465681162,
          28.35224168499932,
          16.908627696344293,
          15.732761672053995,
          16.017540072226385,
          60.804542454941945,
          71.74516306579181,
          64.98159689422815,
          60.410238376324656,
          62.763446129259655,
          59.50934776949223,
          58.49747125131798,
          53.91997022509108,
          57.39071800748075,
          17.224999351781307,
          18.441061109832596,
          17.23578613739875,
          17.047994853727396,
          15.58784233071617,
          12.333743970948753,
          15.66358952094412,
          15.546445629821408,
          18.781921827062728,
          39.35548407049637,
          39.306961058375265,
          36.38616411090135,
          34.59004897556592,
          41.37420491546156,
          37.04177845709753,
          54.89047609377282,
          50.66588244526845,
          57.793142780172104,
          48.28171566063686,
          50.36043989756545,
          46.66520731564487,
          36.96715893665712,
          34.48749621133637,
          36.97794572227456,
          56.88626900335835,
          50.92654741438487,
          47.80969081262066,
          8.83966594948509,
          7.7520267696254255,
          9.536661525118566,
          27.649675107209024,
          26.071886791623623,
          26.346862209081497,
          22.04145359743723,
          22.816381133335355,
          20.87588245731291,
          38.01876533854314,
          34.7450610133467,
          34.21619184821437,
          19.2246272926585,
          17.372355461066686,
          17.41205929337621,
          67.06126826806046,
          67.74796895952795,
          74.0713847118414,
          31.171363054545832,
          27.701599075059093,
          28.662783282533,
          55.62789025583023,
          58.58888293706513,
          55.079907026720335,
          3.0117721663494263,
          2.316252295070349,
          4.610642151718253,
          45.799242357292655,
          46.564366910476274,
          47.045204964938954,
          25.594109487001557,
          26.770959314194783,
          27.04593473165266,
          14.133507296664483,
          11.83029826020499,
          13.477691257694929,
          1.907637768111604,
          1.7610849288453485,
          2.898722825180519,
          21.20779606156127,
          21.65922516788041,
          21.012720210173907,
          57.22240447113524,
          57.056245666439956,
          61.22300522156017,
          39.95816641519854,
          33.42987182878321,
          33.655832332668524,
          17.565969125210263,
          16.89985820207473,
          18.07670802926796,
          41.64081468711225,
          44.190082094337534,
          44.46505751179541,
          15.670528706326099,
          15.327916212769548,
          17.083142020119144,
          42.9712847570569,
          40.903347305745754,
          42.66837609580986,
          64.672539129079,
          65.26120999340135,
          68.19279372649271,
          56.33845373818846,
          53.947017857298334,
          56.398255437378474,
          25.7617651559408,
          23.860478410776416,
          24.821662618250322,
          54.50319507782852,
          55.80748368031045,
          52.396537597110786,
          58.49082427259929,
          54.570123088244884,
          51.316024728477466,
          71.63534410781739,
          73.35135798430893,
          68.97971959508683,
          16.276080536792907,
          17.54115720841677,
          18.610174225750338,
          65.27927645522212,
          64.5543476357995,
          65.68218254942015,
          8.175716647497676,
          8.068375739089479,
          6.686647077794372,
          34.29911549812631,
          39.75006578884795,
          34.79024843675498,
          28.148714953469128,
          29.825516899102613,
          29.45349545740251,
          46.8208476667062,
          46.46843219043513,
          46.606165849889805,
          58.74035925048669,
          52.202261681356845,
          49.05599613144909,
          10.91005650281641,
          10.371384354969564,
          10.89143434029031,
          12.07542595016735,
          11.83084328375595,
          11.478427807484886,
          52.43175642791095,
          49.707019134727325,
          51.325003184073715,
          32.20665300431407,
          35.5205530632715,
          36.32488954731317,
          54.21343380133018,
          57.89984720343919,
          70.7520494436194,
          46.13422596101703,
          36.83168726639404,
          39.31233379461772,
          24.2527830465439,
          20.635974326339447,
          17.48970877643169,
          47.57252884082134,
          49.474799388888655,
          47.30883211043237,
          24.36731867201199,
          19.662378870496404,
          29.59329226175126,
          -0.4651866274067914,
          -0.15099927909085575,
          -0.042674567779729666,
          9.934227949140265,
          9.728857213586922,
          9.866590873041588,
          39.889593766783754,
          42.634920828299336,
          41.67472042372836,
          48.14251971672883,
          47.98616389474806,
          45.251623618849926,
          18.83032141538374,
          19.91894439814634,
          19.56652892187528,
          23.621795192744727,
          24.504555538502515,
          25.42652781511836,
          9.710447323778983,
          10.103058533811033,
          9.270296904528749,
          34.0984481353316,
          35.71643218467799,
          35.88357479227621,
          19.58875373290371,
          19.079490533200413,
          19.432889812374402,
          29.203929692289588,
          29.684767746752275,
          29.949940181495638,
          30.525782275196033,
          32.231993168973055,
          32.76184613700831,
          -0.30578385762901383,
          -0.3347009043210941,
          -1.08903867188726,
          15.846982297977776,
          14.984811720551946,
          16.014616807027455,
          27.819807181114967,
          28.232024356576048,
          31.33025879581416,
          22.974584362231262,
          22.112413784805433,
          22.367783236834278,
          53.93121827899238,
          51.27510186481037,
          52.3245129167149,
          47.53812346557575,
          44.20560124409222,
          40.63780743746033,
          31.44951415962734,
          33.33217874226563,
          34.97957173975556,
          23.537321613337674,
          22.11638102118451,
          24.969540892559756,
          51.562769209189085,
          46.5343309780945,
          45.38787390194774,
          4.761509547935933,
          6.55594728614359,
          4.164511405253467,
          38.75733820480353,
          36.57176496091822,
          39.1798502644306,
          60.576228369399814,
          59.47878620682563,
          62.54761169792019,
          49.948245023312836,
          50.134993596340074,
          51.78238659383001,
          8.314426625576251,
          8.648219939321214,
          7.619398655748638,
          28.23217283004034,
          28.458133333925645,
          28.752714716812548,
          9.791576848361883,
          7.576594656333025,
          8.939701155102034,
          39.61033559448582,
          37.03264304201992,
          38.807474814798546,
          18.316707055006844,
          17.817246838018058,
          17.52364925803409,
          18.48217226547729,
          17.835667307770784,
          19.11054696210916,
          50.41810517932949,
          50.6538686659293,
          51.4778111154,
          45.46631892355344,
          41.75148037620384,
          49.829630034415416,
          3.507732723270551,
          4.664976585034751,
          4.371379005050774,
          23.004315258887246,
          25.71043038954477,
          23.33860047408367,
          35.08003987961631,
          33.52185752945994,
          32.96357941618407,
          32.81363620113363,
          33.83363830489463,
          30.15801168840308,
          6.540727129164848,
          8.580239435235374,
          7.022057085079,
          13.851932052032852,
          10.901726156415391,
          12.156999845324743,
          38.35783875476656,
          38.38773960436158,
          40.54488770300627,
          55.90389782880175,
          61.57051373924272,
          54.36581334552588,
          -2.4250348182370267,
          -3.7087336523869885,
          -2.7377464621985688,
          40.24543426661569,
          40.4811977532155,
          36.13896831213696,
          31.901545893010635,
          27.68675522722078,
          31.73587898976681,
          11.78364059278976,
          12.195857768250844,
          11.67679158583303,
          64.72800015033062,
          60.0720752623876,
          60.44508050699062,
          61.58032730190201,
          56.836175569528365,
          58.14046417201028,
          12.847515458012731,
          11.720664347295005,
          13.191603655923675,
          42.92188093046752,
          39.27566326211952,
          40.17802957330634,
          54.34570779277801,
          52.72870754633455,
          47.29834702394488,
          25.42535870140659,
          27.03353976803847,
          29.37694453825895,
          45.80384509345288,
          47.36301124651218,
          46.696900323376646,
          17.510886895810398,
          16.92319983439098,
          18.129458609727756,
          20.439793957413592,
          22.86162258935019,
          21.773983409490523,
          37.83953746648455,
          38.702691846813295,
          42.02639488848525,
          6.242609506173874,
          6.154874563194706,
          8.321825644553918,
          22.60196747453895,
          22.190734101980794,
          25.102711869643127,
          47.803885950003206,
          51.27463373239287,
          49.500785762517175,
          14.736875170392064,
          12.92381526965831,
          14.002635269706392,
          -3.8210865052536485,
          -3.0559619520700347,
          -3.1044849641911445,
          26.301929292896986,
          24.52808132302129,
          28.263509638702864,
          49.777523536246264,
          49.8270303512703,
          51.14112193646673,
          5.88838442768763,
          3.379312754223332,
          4.9482818899971495,
          36.7962735294831,
          36.07134471006048,
          36.47375890280705,
          30.971117027024665,
          29.393328711439263,
          29.295790785745577,
          28.871364054688733,
          29.450231936296564,
          31.63678898308481,
          44.643812433150245,
          44.60509240374365,
          45.527064680359494,
          43.161012685345085,
          41.06366628589041,
          40.35834343189681,
          16.143441514949917,
          14.40880547593228,
          17.810932379320345,
          40.88362052847158,
          38.54119956115404,
          42.257021911406575,
          23.128868748932415,
          19.492454063298922,
          22.571082537108005,
          25.451260255203014,
          24.167561421053048,
          22.491743278322502,
          3.284896155525305,
          4.549972827149169,
          3.0604113559943973,
          11.096323295440477,
          10.58706009573718,
          12.09721133522391,
          52.78649410884173,
          55.64945696293149,
          55.73817570881357,
          7.202073677155713,
          6.408523978731488,
          6.516848690042613,
          37.39334576643121,
          35.835163416274845,
          34.20836018711687,
          18.060678357731913,
          16.090770733565922,
          18.394963572928344,
          49.75217139020489,
          46.51767899586651,
          48.214086906929026,
          2.156505541199319,
          4.048973106552124,
          2.745668306973131,
          33.319272193572175,
          34.496122020765405,
          37.114010306992284,
          10.936877886298404,
          10.094313274301603,
          12.574959802525285,
          54.02950991435891,
          56.32389977100682,
          58.41242699064991,
          48.85171485893519,
          46.13678054846608,
          48.41156443968495,
          15.177189249631052,
          17.21670155570158,
          17.423056094157854,
          22.517803120642604,
          20.802773047053996,
          21.087551447226385,
          11.271867275664459,
          11.154723384541747,
          12.743298485744594,
          7.968882760312292,
          7.939965713620213,
          9.832433278973015,
          6.379249477007866,
          8.928516884233154,
          6.791958553920411,
          51.62763291717103,
          50.60861461631296,
          49.15826507601625,
          14.061053071597643,
          12.31661404986549,
          14.738442681802086,
          16.96182055802461,
          16.413345427463252,
          18.384236854532176,
          8.412434135291486,
          8.403123054028432,
          5.854839449706079,
          45.28870574938235,
          41.6817000118924,
          38.14331515340407,
          16.78108120638095,
          17.889310154572577,
          18.419163122607834,
          36.277299154120904,
          35.60138524827086,
          37.22917228033177,
          28.51215134854896,
          29.33609379801966,
          30.14043028206133,
          30.30354782739171,
          33.833113506068464,
          34.31395156053115,
          57.69153144819274,
          58.78015443095533,
          62.46656783306434,
          33.46681107707387,
          32.29094505278357,
          34.52651701314439,
          51.8952330846852,
          57.88534742470515,
          51.75897512958493,
          -0.27715631903142457,
          -2.5313504419183412,
          -2.43282871332173,
          24.60026445249344,
          25.483024798251236,
          22.170108542196733,
          35.31437375026537,
          35.52072828872164,
          35.7172798444634,
          44.90994374422221,
          46.62595762071375,
          50.52803664254207,
          -0.8715356161144849,
          -1.4984346083919609,
          1.0214238506897835,
          31.956468724758544,
          31.60405324848749,
          34.00627591499506,
          20.54424676151039,
          23.94637366489846,
          24.505635581077264,
          26.493377284274693,
          27.287910785601845,
          26.523770035321167,
          42.60729609690016,
          50.13647872309891,
          46.82356246704441,
          68.53463529323851,
          63.25131951156654,
          65.78098095336281,
          55.074224629140424,
          59.829163147131524,
          57.359303404525285,
          38.86807401988766,
          39.750834365645446,
          42.29029879015622,
          45.18971788580352,
          44.22951748123255,
          48.50410984621242,
          20.640864398622004,
          24.425307627876144,
          27.190240654820755,
          30.99162864947322,
          31.86458601251649,
          33.217889528570986,
          27.971394576333314,
          24.550645510419145,
          29.442825786413444,
          45.957953186038004,
          46.05647491463461,
          44.18459711761377,
          41.829077281067356,
          46.28992631762301,
          43.143660767715254
         ],
         "xaxis": "x",
         "y": [
          -2.7580568660630007,
          -4.9095817355016464,
          -5.557070496111081,
          -0.0015162780614943472,
          3.113705321766112,
          4.048532887022752,
          -4.569441912680458,
          -4.710876510046084,
          -4.809494001762195,
          -0.9895228778761371,
          -2.676558740261882,
          -4.19833949063873,
          -1.407525680890572,
          -10.115706747522438,
          -6.839792841672391,
          -3.7200663228869004,
          -4.59264063345217,
          -4.699473987505947,
          -2.820036223038951,
          -3.69111917634687,
          -1.4307751270966484,
          -0.6501187260932468,
          -3.870120829854244,
          12.219440641300523,
          -4.256981228418674,
          -2.4695814563577656,
          -3.0676722509166225,
          -0.6874142615395158,
          -1.432837086174601,
          3.0468256391461566,
          -0.043362988143215375,
          -0.8006547314671639,
          -0.7284896450878211,
          6.069366417150192,
          2.9584969542672113,
          3.9618975169657062,
          4.7613581230892805,
          -5.14081666185853,
          -5.649285017848904,
          6.166165984308634,
          -1.503425611741939,
          6.739186881814604,
          7.948397391791147,
          3.753816008904238,
          0.6454912975931109,
          -6.4218041696424395,
          -6.143728564698538,
          -4.897367251671282,
          8.133198453391646,
          10.601518957180783,
          3.2831039737966456,
          1.7369805056516796,
          1.907175419176184,
          1.7461827379412753,
          14.300062375249293,
          22.97227534318838,
          19.14775831500068,
          -4.208627696344294,
          -6.632761672053995,
          -4.617540072226385,
          13.195457545058055,
          11.554836934208183,
          10.118403105771847,
          17.089761623675344,
          5.7365538707403445,
          7.99065223050777,
          -3.097471251317984,
          -7.61997022509108,
          -8.89071800748075,
          -8.424999351781306,
          -5.941061109832596,
          -6.535786137398752,
          7.152005146272604,
          9.512157669283832,
          7.266256029051249,
          -0.8635895209441191,
          0.15355437017859153,
          -1.7819218270627282,
          -1.2554840704963652,
          -1.4069610583752663,
          2.013835889098651,
          1.9099510244340792,
          -5.27420491546156,
          -1.5417784570975286,
          -3.290476093772817,
          -4.265882445268453,
          -10.693142780172103,
          -8.681715660636861,
          -10.660439897565446,
          -9.56520731564487,
          -1.8671589366571197,
          -0.7874962113363679,
          -5.277945722274563,
          -5.786269003358349,
          2.3734525856151265,
          -1.3096908126206586,
          -5.23966594948509,
          -2.4520267696254257,
          -4.336661525118566,
          -3.949675107209025,
          -1.5718867916236228,
          -0.8468622090814968,
          -2.6414535974372306,
          -1.7163811333353536,
          -2.175882457312909,
          7.281234661456857,
          11.854938986653302,
          1.1838081517856267,
          -3.8246272926584997,
          -2.7723554610666863,
          -0.7120592933762104,
          4.038731731939535,
          13.752031040472048,
          15.1286152881586,
          -6.071363054545831,
          -5.101599075059092,
          -6.262783282533,
          5.972109744169771,
          11.91111706293487,
          12.02009297327966,
          3.0882278336505733,
          2.983747704929651,
          4.489357848281746,
          3.4007576427073474,
          1.0356330895237278,
          -2.4452049649389522,
          -4.094109487001557,
          -1.670959314194782,
          -0.4459347316526596,
          2.866492703335517,
          0.6697017397950091,
          4.522308742305071,
          5.592362231888396,
          3.338915071154651,
          5.601277174819481,
          -7.307796061561271,
          -6.659225167880411,
          -8.812720210173907,
          -3.1224044711352406,
          4.043754333560045,
          3.0769947784398255,
          5.741833584801462,
          -4.429871828783213,
          0.34416766733147597,
          -2.165969125210262,
          -2.1998582020747293,
          -2.976708029267959,
          -5.240814687112248,
          -1.3900820943375365,
          1.8349424882045895,
          -6.770528706326099,
          -4.327916212769548,
          -9.883142020119145,
          -6.771284757056897,
          4.796652694254249,
          4.93162390419014,
          6.827460870921001,
          9.938790006598651,
          -3.8927937264927124,
          12.661546261811537,
          11.452982142701671,
          -1.998255437378475,
          4.938234844059199,
          8.239521589223585,
          6.578337381749677,
          -1.8031950778285193,
          -0.10748368031044464,
          -4.796537597110785,
          -7.390824272599289,
          0.929876911755116,
          -0.6160247284774627,
          -0.9353441078173859,
          2.0486420156910725,
          -2.679719595086837,
          -2.6760805367929077,
          -4.341157208416771,
          -5.0101742257503386,
          1.4207235447778856,
          9.545652364200492,
          3.8178174505798523,
          -1.0757166474976767,
          -0.36837573908947885,
          -2.4866470777943714,
          -0.09911549812630938,
          -2.1500657888479466,
          -5.490248436754978,
          7.251285046530871,
          7.574483100897385,
          6.246504542597492,
          5.879152333293803,
          -3.268432190435128,
          -0.006165849889804065,
          3.0596407495133064,
          -4.902261681356848,
          -2.4559961314490906,
          -4.71005650281641,
          -4.9713843549695635,
          -5.99143434029031,
          2.124574049832649,
          2.369156716244049,
          3.6215721925151136,
          -0.9317564279109476,
          5.592980865272672,
          5.374996815926288,
          1.8933469956859312,
          0.7794469367284975,
          -6.224889547313168,
          5.086566198669814,
          -3.7998472034391853,
          -6.052049443619396,
          3.165774038982967,
          -6.331687266394042,
          -3.8123337946177216,
          2.347216953456101,
          3.864025673660553,
          1.7102912235683085,
          4.627471159178661,
          -4.274799388888653,
          -1.3088321104323697,
          3.0326813279880085,
          6.937621129503597,
          15.006707738248743,
          4.865186627406792,
          3.350999279090856,
          7.142674567779729,
          6.765772050859734,
          4.471142786413077,
          6.533409126958411,
          2.6104062332162457,
          4.065079171700667,
          2.3252795762716403,
          -3.742519716728829,
          -0.7861638947480571,
          -0.15162361884992492,
          -1.6303214153837402,
          -3.4189443981463405,
          -2.366528921875279,
          -2.721795192744729,
          0.9954444614974847,
          0.6734721848816427,
          -4.310447323778982,
          -1.8030585338110328,
          -3.0702969045287487,
          -6.098448135331601,
          -4.716432184677991,
          -8.683574792276207,
          -4.088753732903712,
          -2.7794905332004127,
          -3.7328898123744025,
          -3.5039296922895886,
          -3.5847677467522736,
          -4.549940181495639,
          -6.125782275196034,
          -7.4319931689730545,
          -0.9618461370083118,
          2.805783857629014,
          6.034700904321094,
          6.78903867188726,
          -5.246982297977777,
          -3.4848117205519458,
          -5.514616807027455,
          -4.319807181114967,
          -1.0320243565760485,
          -0.23025879581415865,
          2.7254156377687373,
          -0.6124137848054332,
          -0.16778323683427843,
          1.9687817210076162,
          -0.7751018648103667,
          -0.6245129167148988,
          -8.43812346557575,
          -6.305601244092223,
          -5.03780743746033,
          2.65048584037266,
          3.9678212577343643,
          1.5204282602444366,
          2.362678386662324,
          5.183618978815492,
          -0.8695408925597548,
          -3.4627692091890836,
          -11.134330978094503,
          -9.887873901947742,
          2.3384904520640664,
          2.5440527138564093,
          3.535488594746533,
          -3.2573382048035313,
          -8.271764960918222,
          -5.4798502644305955,
          4.923771630600186,
          13.821213793174365,
          14.752388302079808,
          1.4517549766871625,
          4.765006403659925,
          0.8176134061699898,
          0.585573374423749,
          5.7517800606787866,
          5.880601344251362,
          -6.132172830040339,
          -0.2581333339256453,
          0.6472852831874505,
          0.6084231516381173,
          -0.9765946563330257,
          3.2602988448979655,
          -9.510335594485817,
          -3.53264304201992,
          -3.9074748147985474,
          -0.6167070550068452,
          -2.517246838018057,
          -0.42364925803408937,
          0.5178277345227116,
          1.3643326922292154,
          6.98945303789084,
          -5.718105179329484,
          0.0461313340707008,
          -3.9778111154000015,
          -0.7663189235534347,
          -0.6514803762038355,
          1.1703699655845838,
          1.9922672767294491,
          3.435023414965249,
          2.328620994949226,
          -0.6043152588872474,
          0.48956961045523073,
          -1.1386004740836704,
          2.619960120383695,
          0.07814247054005818,
          0.6364205838159336,
          -1.4136362011336345,
          -0.3336383048946274,
          4.24198831159692,
          -1.4407271291648485,
          -1.480239435235374,
          -0.6220570850789997,
          -0.05193205203285167,
          3.39827384358461,
          3.443000154675257,
          -1.25783875476656,
          -1.987739604361579,
          -0.04488770300626754,
          -2.7038978288017503,
          -4.170513739242722,
          0.23418665447412224,
          5.7250348182370265,
          6.908733652386989,
          5.937746462198569,
          -4.545434266615686,
          2.018802246784503,
          0.9610316878630414,
          5.498454106989364,
          2.0132447727792204,
          3.4641210102331925,
          -1.0836405927897612,
          -1.4958577682508452,
          -2.4767915858330305,
          -8.028000150330612,
          -2.3720752623875967,
          0.2549194930093819,
          -0.3803273019020068,
          2.7638244304716366,
          9.259535827989723,
          -1.647515458012732,
          -0.6206643472950049,
          -2.191603655923675,
          -7.621880930467526,
          -5.775663262119522,
          -11.278029573306341,
          -1.8457077927780077,
          4.4712924536654555,
          0.6016529760551208,
          8.57464129859341,
          -1.633539768038471,
          -3.4769445382589517,
          -3.6038450934528754,
          -12.163011246512177,
          -14.496900323376643,
          -5.310886895810398,
          2.67680016560902,
          1.870541390272244,
          4.16020604258641,
          -5.3616225893501905,
          -6.573983409490523,
          -2.739537466484549,
          -5.202691846813295,
          -10.82639488848525,
          -2.542609506173874,
          -0.4548745631947062,
          -0.8218256445539183,
          4.098032525461051,
          8.009265898019205,
          2.997288130356875,
          -3.303885950003206,
          -5.17463373239287,
          -4.800785762517172,
          0.7631248296079356,
          3.5761847303416907,
          3.7973647302936087,
          5.321086505253648,
          5.7559619520700345,
          8.904484964191145,
          -2.101929292896987,
          -4.02808132302129,
          -3.0635096387028646,
          -4.677523536246262,
          4.672969648729698,
          -1.0411219364667303,
          1.1116155723123704,
          4.020687245776669,
          3.451718110002851,
          -5.8962735294831035,
          -5.771344710060479,
          -7.7737589028070495,
          3.6288829729753367,
          6.306671288560739,
          4.404209214254426,
          4.428635945311264,
          1.649768063703437,
          1.0632110169151936,
          -12.343812433150248,
          -5.4050924037436445,
          -13.827064680359495,
          -3.661012685345085,
          0.4363337141095869,
          -7.758343431896812,
          -0.44344151494991735,
          1.0911945240677206,
          -0.11093237932034583,
          -4.983620528471583,
          -4.341199561154035,
          -5.657021911406574,
          -8.728868748932415,
          -3.7924540632989228,
          -2.8710825371080055,
          -2.7512602552030145,
          -7.367561421053047,
          0.00825672167749758,
          4.615103844474696,
          4.750027172850832,
          6.939588644005603,
          2.4036767045595226,
          3.912939904262821,
          3.9027886647760894,
          2.7135058911582703,
          9.450543037068506,
          -1.2381757088135714,
          3.8979263228442864,
          2.9914760212685128,
          6.1831513099573865,
          -0.3933457664312101,
          -1.3351634162748454,
          7.391639812883135,
          11.339321642268086,
          6.209229266434079,
          8.905036427071657,
          -3.6521713902048916,
          -9.817678995866508,
          -11.014086906929023,
          4.043494458800682,
          3.3510268934478766,
          3.454331693026869,
          -1.4192721935721764,
          0.9038779792345935,
          2.485989693007717,
          7.763122113701595,
          5.105686725698396,
          4.525040197474716,
          -3.1295099143589127,
          0.9761002289931753,
          -0.7124269906499094,
          -0.9517148589351905,
          -0.43678054846607495,
          3.088435560315048,
          -1.177189249631052,
          0.18329844429841913,
          4.7769439058421455,
          -0.21780312064260343,
          0.297226952946005,
          2.412448552773615,
          0.12813272433554168,
          -0.8547233845417459,
          -2.243298485744594,
          -3.268882760312292,
          -5.539965713620212,
          -4.732433278973016,
          -3.2792494770078657,
          -3.9285168842331544,
          -1.0919585539204109,
          7.372367082828973,
          8.491385383687039,
          6.141734923983748,
          -4.361053071597643,
          -4.716614049865491,
          -8.138442681802086,
          -3.3618205580246094,
          -1.1133454274632513,
          -0.9842368545321776,
          0.4875658647085146,
          -0.30312305402843265,
          3.5451605502939216,
          4.3112942506176495,
          16.0182999881076,
          17.25668484659593,
          -7.081081206380951,
          -1.389310154572577,
          -4.019163122607834,
          -8.877299154120905,
          -10.501385248270857,
          -8.029172280331768,
          -0.8121513485489622,
          -0.7360937980196596,
          -3.0404302820613296,
          12.396452172608292,
          5.6668864939315355,
          8.78604843946885,
          13.808468551807259,
          23.51984556904467,
          14.733432166935664,
          1.8331889229261265,
          10.509054947216427,
          9.773482986855605,
          0.004766915314796449,
          -2.1853474247051494,
          -3.0589751295849297,
          3.7771563190314246,
          5.031350441918342,
          4.6328287133217305,
          -6.900264452493442,
          -3.8830247982512347,
          -6.4701085421967335,
          -4.114373750265369,
          -10.320728288721643,
          -12.3172798444634,
          -1.8099437442222097,
          -5.425957620713746,
          -3.8280366425420667,
          8.471535616114485,
          4.898434608391961,
          6.478576149310216,
          -6.656468724758543,
          -1.0040532484874873,
          -8.806275914995059,
          -4.54424676151039,
          -9.24637366489846,
          -1.805635581077265,
          -2.393377284274692,
          -5.887910785601846,
          -3.823770035321168,
          -0.10729609690015707,
          14.36352127690109,
          10.876437532955592,
          13.465364706761491,
          6.848680488433452,
          5.519019046637183,
          2.4257753708595757,
          4.27083685286847,
          5.7406965954747164,
          -8.46807401988766,
          -9.050834365645446,
          -11.19029879015622,
          4.310282114196482,
          0.870482518767453,
          -3.5041098462124225,
          0.5591356013779958,
          0.9746923721238545,
          2.4097593451792463,
          -5.69162864947322,
          -7.164586012516491,
          -8.117889528570984,
          -0.8713945763333122,
          -0.9506455104191431,
          -5.042825786413445,
          5.2420468139619985,
          -0.7564749146346159,
          1.215402882386229,
          -10.429077281067357,
          -13.48992631762301,
          -12.043660767715252
         ],
         "yaxis": "y"
        }
       ],
       "layout": {
        "legend": {
         "tracegroupgap": 0
        },
        "template": {
         "data": {
          "bar": [
           {
            "error_x": {
             "color": "#2a3f5f"
            },
            "error_y": {
             "color": "#2a3f5f"
            },
            "marker": {
             "line": {
              "color": "#E5ECF6",
              "width": 0.5
             },
             "pattern": {
              "fillmode": "overlay",
              "size": 10,
              "solidity": 0.2
             }
            },
            "type": "bar"
           }
          ],
          "barpolar": [
           {
            "marker": {
             "line": {
              "color": "#E5ECF6",
              "width": 0.5
             },
             "pattern": {
              "fillmode": "overlay",
              "size": 10,
              "solidity": 0.2
             }
            },
            "type": "barpolar"
           }
          ],
          "carpet": [
           {
            "aaxis": {
             "endlinecolor": "#2a3f5f",
             "gridcolor": "white",
             "linecolor": "white",
             "minorgridcolor": "white",
             "startlinecolor": "#2a3f5f"
            },
            "baxis": {
             "endlinecolor": "#2a3f5f",
             "gridcolor": "white",
             "linecolor": "white",
             "minorgridcolor": "white",
             "startlinecolor": "#2a3f5f"
            },
            "type": "carpet"
           }
          ],
          "choropleth": [
           {
            "colorbar": {
             "outlinewidth": 0,
             "ticks": ""
            },
            "type": "choropleth"
           }
          ],
          "contour": [
           {
            "colorbar": {
             "outlinewidth": 0,
             "ticks": ""
            },
            "colorscale": [
             [
              0,
              "#0d0887"
             ],
             [
              0.1111111111111111,
              "#46039f"
             ],
             [
              0.2222222222222222,
              "#7201a8"
             ],
             [
              0.3333333333333333,
              "#9c179e"
             ],
             [
              0.4444444444444444,
              "#bd3786"
             ],
             [
              0.5555555555555556,
              "#d8576b"
             ],
             [
              0.6666666666666666,
              "#ed7953"
             ],
             [
              0.7777777777777778,
              "#fb9f3a"
             ],
             [
              0.8888888888888888,
              "#fdca26"
             ],
             [
              1,
              "#f0f921"
             ]
            ],
            "type": "contour"
           }
          ],
          "contourcarpet": [
           {
            "colorbar": {
             "outlinewidth": 0,
             "ticks": ""
            },
            "type": "contourcarpet"
           }
          ],
          "heatmap": [
           {
            "colorbar": {
             "outlinewidth": 0,
             "ticks": ""
            },
            "colorscale": [
             [
              0,
              "#0d0887"
             ],
             [
              0.1111111111111111,
              "#46039f"
             ],
             [
              0.2222222222222222,
              "#7201a8"
             ],
             [
              0.3333333333333333,
              "#9c179e"
             ],
             [
              0.4444444444444444,
              "#bd3786"
             ],
             [
              0.5555555555555556,
              "#d8576b"
             ],
             [
              0.6666666666666666,
              "#ed7953"
             ],
             [
              0.7777777777777778,
              "#fb9f3a"
             ],
             [
              0.8888888888888888,
              "#fdca26"
             ],
             [
              1,
              "#f0f921"
             ]
            ],
            "type": "heatmap"
           }
          ],
          "heatmapgl": [
           {
            "colorbar": {
             "outlinewidth": 0,
             "ticks": ""
            },
            "colorscale": [
             [
              0,
              "#0d0887"
             ],
             [
              0.1111111111111111,
              "#46039f"
             ],
             [
              0.2222222222222222,
              "#7201a8"
             ],
             [
              0.3333333333333333,
              "#9c179e"
             ],
             [
              0.4444444444444444,
              "#bd3786"
             ],
             [
              0.5555555555555556,
              "#d8576b"
             ],
             [
              0.6666666666666666,
              "#ed7953"
             ],
             [
              0.7777777777777778,
              "#fb9f3a"
             ],
             [
              0.8888888888888888,
              "#fdca26"
             ],
             [
              1,
              "#f0f921"
             ]
            ],
            "type": "heatmapgl"
           }
          ],
          "histogram": [
           {
            "marker": {
             "pattern": {
              "fillmode": "overlay",
              "size": 10,
              "solidity": 0.2
             }
            },
            "type": "histogram"
           }
          ],
          "histogram2d": [
           {
            "colorbar": {
             "outlinewidth": 0,
             "ticks": ""
            },
            "colorscale": [
             [
              0,
              "#0d0887"
             ],
             [
              0.1111111111111111,
              "#46039f"
             ],
             [
              0.2222222222222222,
              "#7201a8"
             ],
             [
              0.3333333333333333,
              "#9c179e"
             ],
             [
              0.4444444444444444,
              "#bd3786"
             ],
             [
              0.5555555555555556,
              "#d8576b"
             ],
             [
              0.6666666666666666,
              "#ed7953"
             ],
             [
              0.7777777777777778,
              "#fb9f3a"
             ],
             [
              0.8888888888888888,
              "#fdca26"
             ],
             [
              1,
              "#f0f921"
             ]
            ],
            "type": "histogram2d"
           }
          ],
          "histogram2dcontour": [
           {
            "colorbar": {
             "outlinewidth": 0,
             "ticks": ""
            },
            "colorscale": [
             [
              0,
              "#0d0887"
             ],
             [
              0.1111111111111111,
              "#46039f"
             ],
             [
              0.2222222222222222,
              "#7201a8"
             ],
             [
              0.3333333333333333,
              "#9c179e"
             ],
             [
              0.4444444444444444,
              "#bd3786"
             ],
             [
              0.5555555555555556,
              "#d8576b"
             ],
             [
              0.6666666666666666,
              "#ed7953"
             ],
             [
              0.7777777777777778,
              "#fb9f3a"
             ],
             [
              0.8888888888888888,
              "#fdca26"
             ],
             [
              1,
              "#f0f921"
             ]
            ],
            "type": "histogram2dcontour"
           }
          ],
          "mesh3d": [
           {
            "colorbar": {
             "outlinewidth": 0,
             "ticks": ""
            },
            "type": "mesh3d"
           }
          ],
          "parcoords": [
           {
            "line": {
             "colorbar": {
              "outlinewidth": 0,
              "ticks": ""
             }
            },
            "type": "parcoords"
           }
          ],
          "pie": [
           {
            "automargin": true,
            "type": "pie"
           }
          ],
          "scatter": [
           {
            "fillpattern": {
             "fillmode": "overlay",
             "size": 10,
             "solidity": 0.2
            },
            "type": "scatter"
           }
          ],
          "scatter3d": [
           {
            "line": {
             "colorbar": {
              "outlinewidth": 0,
              "ticks": ""
             }
            },
            "marker": {
             "colorbar": {
              "outlinewidth": 0,
              "ticks": ""
             }
            },
            "type": "scatter3d"
           }
          ],
          "scattercarpet": [
           {
            "marker": {
             "colorbar": {
              "outlinewidth": 0,
              "ticks": ""
             }
            },
            "type": "scattercarpet"
           }
          ],
          "scattergeo": [
           {
            "marker": {
             "colorbar": {
              "outlinewidth": 0,
              "ticks": ""
             }
            },
            "type": "scattergeo"
           }
          ],
          "scattergl": [
           {
            "marker": {
             "colorbar": {
              "outlinewidth": 0,
              "ticks": ""
             }
            },
            "type": "scattergl"
           }
          ],
          "scattermapbox": [
           {
            "marker": {
             "colorbar": {
              "outlinewidth": 0,
              "ticks": ""
             }
            },
            "type": "scattermapbox"
           }
          ],
          "scatterpolar": [
           {
            "marker": {
             "colorbar": {
              "outlinewidth": 0,
              "ticks": ""
             }
            },
            "type": "scatterpolar"
           }
          ],
          "scatterpolargl": [
           {
            "marker": {
             "colorbar": {
              "outlinewidth": 0,
              "ticks": ""
             }
            },
            "type": "scatterpolargl"
           }
          ],
          "scatterternary": [
           {
            "marker": {
             "colorbar": {
              "outlinewidth": 0,
              "ticks": ""
             }
            },
            "type": "scatterternary"
           }
          ],
          "surface": [
           {
            "colorbar": {
             "outlinewidth": 0,
             "ticks": ""
            },
            "colorscale": [
             [
              0,
              "#0d0887"
             ],
             [
              0.1111111111111111,
              "#46039f"
             ],
             [
              0.2222222222222222,
              "#7201a8"
             ],
             [
              0.3333333333333333,
              "#9c179e"
             ],
             [
              0.4444444444444444,
              "#bd3786"
             ],
             [
              0.5555555555555556,
              "#d8576b"
             ],
             [
              0.6666666666666666,
              "#ed7953"
             ],
             [
              0.7777777777777778,
              "#fb9f3a"
             ],
             [
              0.8888888888888888,
              "#fdca26"
             ],
             [
              1,
              "#f0f921"
             ]
            ],
            "type": "surface"
           }
          ],
          "table": [
           {
            "cells": {
             "fill": {
              "color": "#EBF0F8"
             },
             "line": {
              "color": "white"
             }
            },
            "header": {
             "fill": {
              "color": "#C8D4E3"
             },
             "line": {
              "color": "white"
             }
            },
            "type": "table"
           }
          ]
         },
         "layout": {
          "annotationdefaults": {
           "arrowcolor": "#2a3f5f",
           "arrowhead": 0,
           "arrowwidth": 1
          },
          "autotypenumbers": "strict",
          "coloraxis": {
           "colorbar": {
            "outlinewidth": 0,
            "ticks": ""
           }
          },
          "colorscale": {
           "diverging": [
            [
             0,
             "#8e0152"
            ],
            [
             0.1,
             "#c51b7d"
            ],
            [
             0.2,
             "#de77ae"
            ],
            [
             0.3,
             "#f1b6da"
            ],
            [
             0.4,
             "#fde0ef"
            ],
            [
             0.5,
             "#f7f7f7"
            ],
            [
             0.6,
             "#e6f5d0"
            ],
            [
             0.7,
             "#b8e186"
            ],
            [
             0.8,
             "#7fbc41"
            ],
            [
             0.9,
             "#4d9221"
            ],
            [
             1,
             "#276419"
            ]
           ],
           "sequential": [
            [
             0,
             "#0d0887"
            ],
            [
             0.1111111111111111,
             "#46039f"
            ],
            [
             0.2222222222222222,
             "#7201a8"
            ],
            [
             0.3333333333333333,
             "#9c179e"
            ],
            [
             0.4444444444444444,
             "#bd3786"
            ],
            [
             0.5555555555555556,
             "#d8576b"
            ],
            [
             0.6666666666666666,
             "#ed7953"
            ],
            [
             0.7777777777777778,
             "#fb9f3a"
            ],
            [
             0.8888888888888888,
             "#fdca26"
            ],
            [
             1,
             "#f0f921"
            ]
           ],
           "sequentialminus": [
            [
             0,
             "#0d0887"
            ],
            [
             0.1111111111111111,
             "#46039f"
            ],
            [
             0.2222222222222222,
             "#7201a8"
            ],
            [
             0.3333333333333333,
             "#9c179e"
            ],
            [
             0.4444444444444444,
             "#bd3786"
            ],
            [
             0.5555555555555556,
             "#d8576b"
            ],
            [
             0.6666666666666666,
             "#ed7953"
            ],
            [
             0.7777777777777778,
             "#fb9f3a"
            ],
            [
             0.8888888888888888,
             "#fdca26"
            ],
            [
             1,
             "#f0f921"
            ]
           ]
          },
          "colorway": [
           "#636efa",
           "#EF553B",
           "#00cc96",
           "#ab63fa",
           "#FFA15A",
           "#19d3f3",
           "#FF6692",
           "#B6E880",
           "#FF97FF",
           "#FECB52"
          ],
          "font": {
           "color": "#2a3f5f"
          },
          "geo": {
           "bgcolor": "white",
           "lakecolor": "white",
           "landcolor": "#E5ECF6",
           "showlakes": true,
           "showland": true,
           "subunitcolor": "white"
          },
          "hoverlabel": {
           "align": "left"
          },
          "hovermode": "closest",
          "mapbox": {
           "style": "light"
          },
          "paper_bgcolor": "white",
          "plot_bgcolor": "#E5ECF6",
          "polar": {
           "angularaxis": {
            "gridcolor": "white",
            "linecolor": "white",
            "ticks": ""
           },
           "bgcolor": "#E5ECF6",
           "radialaxis": {
            "gridcolor": "white",
            "linecolor": "white",
            "ticks": ""
           }
          },
          "scene": {
           "xaxis": {
            "backgroundcolor": "#E5ECF6",
            "gridcolor": "white",
            "gridwidth": 2,
            "linecolor": "white",
            "showbackground": true,
            "ticks": "",
            "zerolinecolor": "white"
           },
           "yaxis": {
            "backgroundcolor": "#E5ECF6",
            "gridcolor": "white",
            "gridwidth": 2,
            "linecolor": "white",
            "showbackground": true,
            "ticks": "",
            "zerolinecolor": "white"
           },
           "zaxis": {
            "backgroundcolor": "#E5ECF6",
            "gridcolor": "white",
            "gridwidth": 2,
            "linecolor": "white",
            "showbackground": true,
            "ticks": "",
            "zerolinecolor": "white"
           }
          },
          "shapedefaults": {
           "line": {
            "color": "#2a3f5f"
           }
          },
          "ternary": {
           "aaxis": {
            "gridcolor": "white",
            "linecolor": "white",
            "ticks": ""
           },
           "baxis": {
            "gridcolor": "white",
            "linecolor": "white",
            "ticks": ""
           },
           "bgcolor": "#E5ECF6",
           "caxis": {
            "gridcolor": "white",
            "linecolor": "white",
            "ticks": ""
           }
          },
          "title": {
           "x": 0.05
          },
          "xaxis": {
           "automargin": true,
           "gridcolor": "white",
           "linecolor": "white",
           "ticks": "",
           "title": {
            "standoff": 15
           },
           "zerolinecolor": "white",
           "zerolinewidth": 2
          },
          "yaxis": {
           "automargin": true,
           "gridcolor": "white",
           "linecolor": "white",
           "ticks": "",
           "title": {
            "standoff": 15
           },
           "zerolinecolor": "white",
           "zerolinewidth": 2
          }
         }
        },
        "title": {
         "text": "Residuals"
        },
        "xaxis": {
         "anchor": "y",
         "domain": [
          0,
          1
         ],
         "title": {
          "text": "Value"
         }
        },
        "yaxis": {
         "anchor": "x",
         "domain": [
          0,
          1
         ],
         "title": {
          "text": "Residuals"
         }
        }
       }
      }
     },
     "metadata": {},
     "output_type": "display_data"
    }
   ],
   "source": [
    "testrelresid = px.scatter(x = testrelf.fittedvalues,\n",
    "                          y = testrelf.resid,\n",
    "                          title = \"Residuals\",\n",
    "                          labels = {\"x\": \"Value\", \"y\": \"Residuals\"})\n",
    "testrelresid.show()\n",
    "\n",
    "# Vary Very Clear Homoscedasticity"
   ]
  },
  {
   "cell_type": "code",
   "execution_count": 51,
   "metadata": {},
   "outputs": [
    {
     "name": "stdout",
     "output_type": "stream",
     "text": [
      "{'Lagrange multiplier statistic': np.float64(34.4646716976867), 'p-value': np.float64(1.9239790411266744e-06), 'f-value': np.float64(7.255247013806876), 'f p-value': np.float64(1.3347828850717373e-06)}\n"
     ]
    }
   ],
   "source": [
    "# Get the residuals and the exogenous variables (design matrix)\n",
    "residuals = testrelf.resid\n",
    "exog = testrelf.model.exog\n",
    "\n",
    "# Perform the Breusch-Pagan test\n",
    "bp_test = statsmodels.stats.diagnostic.het_breuschpagan(residuals, exog)\n",
    "\n",
    "# Print the test results\n",
    "bp_test_results = {\n",
    "    'Lagrange multiplier statistic': bp_test[0],\n",
    "    'p-value': bp_test[1],\n",
    "    'f-value': bp_test[2],\n",
    "    'f p-value': bp_test[3]\n",
    "}\n",
    "\n",
    "print(bp_test_results)\n",
    "\n",
    "# Affirmed w Breusch-Pagan Test"
   ]
  },
  {
   "cell_type": "code",
   "execution_count": 59,
   "metadata": {},
   "outputs": [
    {
     "data": {
      "image/png": "[encoded data removed]",
      "text/plain": [
       "<Figure size 640x480 with 1 Axes>"
      ]
     },
     "execution_count": 59,
     "metadata": {},
     "output_type": "execute_result"
    },
    {
     "data": {
      "image/png": "[encoded data removed]",
      "text/plain": [
       "<Figure size 640x480 with 1 Axes>"
      ]
     },
     "metadata": {},
     "output_type": "display_data"
    }
   ],
   "source": [
    "sm.qqplot(testrelf.resid, line = \"45\")"
   ]
  },
  {
   "cell_type": "code",
   "execution_count": 55,
   "metadata": {},
   "outputs": [
    {
     "data": {
      "text/plain": [
       "[('Chi^2', np.float64(37.44373460107716)),\n",
       " ('Two-tail probability', np.float64(7.399397192416869e-09))]"
      ]
     },
     "execution_count": 55,
     "metadata": {},
     "output_type": "execute_result"
    }
   ],
   "source": [
    "\n",
    "name = [\"Chi^2\", \"Two-tail probability\"]\n",
    "test = statsmodels.stats.api.omni_normtest(testrelf.resid)\n",
    "list(zip(name, test))"
   ]
  },
  {
   "cell_type": "code",
   "execution_count": 13,
   "metadata": {},
   "outputs": [
    {
     "data": {
      "text/plain": [
       "<bound method Series.info of 0       None\n",
       "1       None\n",
       "2       None\n",
       "3         FL\n",
       "4         FL\n",
       "       ...  \n",
       "571    Ethan\n",
       "572    Ethan\n",
       "573     None\n",
       "574     None\n",
       "575     None\n",
       "Name: Chalk, Length: 576, dtype: category\n",
       "Categories (5, object): ['None', 'FL', 'Metolius', 'Magdust', 'Ethan']>"
      ]
     },
     "execution_count": 13,
     "metadata": {},
     "output_type": "execute_result"
    }
   ],
   "source": [
    "Chalk[\"Used\"].info\n",
    "Chalk[\"Chalk\"].info"
   ]
  }
 ],
 "metadata": {
  "kernelspec": {
   "display_name": "main",
   "language": "python",
   "name": "python3"
  },
  "language_info": {
   "codemirror_mode": {
    "name": "ipython",
    "version": 3
   },
   "file_extension": ".py",
   "mimetype": "text/x-python",
   "name": "python",
   "nbconvert_exporter": "python",
   "pygments_lexer": "ipython3",
   "version": "3.12.8"
  }
 },
 "nbformat": 4,
 "nbformat_minor": 2
}
