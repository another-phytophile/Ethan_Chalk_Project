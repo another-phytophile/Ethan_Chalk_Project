{
 "cells": [
  {
   "cell_type": "markdown",
   "metadata": {},
   "source": [
    "### Imports and File Locations"
   ]
  },
  {
   "cell_type": "code",
   "execution_count": 2,
   "metadata": {},
   "outputs": [],
   "source": [
    "import math\n",
    "import numpy as np\n",
    "import pandas as pd\n",
    "import plotly.express as px\n",
    "import os\n",
    "import git"
   ]
  },
  {
   "cell_type": "code",
   "execution_count": 4,
   "metadata": {},
   "outputs": [
    {
     "name": "stdout",
     "output_type": "stream",
     "text": [
      "c:\\Users\\Public\\Documents\\Personal_Projects\\Ethan_Chalk_Project\n"
     ]
    }
   ],
   "source": [
    "repo = git.Repo('.', search_parent_directories=True)\n",
    "os.chdir(repo.working_tree_dir)\n",
    "print(os.getcwd())"
   ]
  },
  {
   "cell_type": "markdown",
   "metadata": {},
   "source": [
    "# Exploratory Data Analysis\n",
    "\n",
    "Read in Data\n",
    "\n",
    "## Metadata\n",
    "\n",
    "The original data was not formatted in the way of a long table, so I used excel to clean the data. Multiple explanatory variables were encoded in color or order of the tables, so they needed to be made explicit. I used a series of formulas for that. Thus, I created long formats of the `Chalk_Results.xlsx` and `Randomized tests.xlsx` (`Chalk_Long.xlsm` and `Metadata.slsx`) and merged and created labels for them in python. \n",
    "\n",
    "Variables are:\n",
    "- Code: a number from 1-24. In excel, this column's color is indicative of date, and its value is also indicative of control (or chalk) and treatment. Code + bChalk form the key for merging metadata with chalk_long. \n",
    "- bChalk: a number from 1-4 (1=FL. 2=Metolius, 3=Magdust, 4=Ethan's Chalk), not directly indicative of whether chalk was used. Code + bChalk form the key for merging metadata with chalk_long.\n",
    "- Pinch_Order: Order in which test was conducted, for each attempt (code number), the test was performed three times sequentially. Pinch_Order + bChalk + Code forms the primary key. \n",
    "- Pinch: The weight at which the board was pinched. \n",
    "- Pull: The weight just before the hand slipped. **Our dependent variable**. \n",
    "- Chalk: The actual chalk used, 0 is added for control. \n",
    "- Person: The person conducting the test, one intermediate and one advanced climber. \n",
    "- Day: The day when the test was conducted. Dates were, 10/30/2024,10/31/2024,11/4/2024,11/6/2024,11/8/2024,11/10/2024, and 11/14/2024. Last two were apparently \"noticeably slippery\". \n",
    "- Day_Order: The order in which the tests were conducted in the day. This was randomized. \n",
    "\n",
    "\n",
    "### Scratch\n",
    "- Chalks 1-4: type of chalk. \n",
    "- Randomization: order (chalk/nochalk) tested\n",
    "- Colors: Day indicators\n",
    "- Dark red: see excel\n",
    "- Run number: 1-24 Ethan, 25-48 Jackson\n",
    "- Shading: 1-6 no chalk, 7-12 no chalk, number corresponds to weight in accordance w the metadata spreadsheet\n",
    "- Pinches 1-3/Pulls 1-3\n",
    "- Pulls 1-3: values before slip\n",
    "- Pinches: watching it the whole time, pinch is x, pull is y\n",
    "- supraorder maximized"
   ]
  },
  {
   "cell_type": "code",
   "execution_count": 24,
   "metadata": {},
   "outputs": [
    {
     "ename": "PermissionError",
     "evalue": "[Errno 13] Permission denied: 'data/Processed/Chalk.csv'",
     "output_type": "error",
     "traceback": [
      "\u001b[1;31m---------------------------------------------------------------------------\u001b[0m",
      "\u001b[1;31mPermissionError\u001b[0m                           Traceback (most recent call last)",
      "Cell \u001b[1;32mIn[24], line 4\u001b[0m\n\u001b[0;32m      2\u001b[0m metadata \u001b[38;5;241m=\u001b[39m pd\u001b[38;5;241m.\u001b[39mread_excel(\u001b[38;5;124m'\u001b[39m\u001b[38;5;124mdata/Raw/Metadata.xlsx\u001b[39m\u001b[38;5;124m'\u001b[39m, sheet_name\u001b[38;5;241m=\u001b[39m\u001b[38;5;241m1\u001b[39m, header\u001b[38;5;241m=\u001b[39m\u001b[38;5;241m0\u001b[39m)\n\u001b[0;32m      3\u001b[0m Chalk \u001b[38;5;241m=\u001b[39m pd\u001b[38;5;241m.\u001b[39mmerge(metadata, Chalk_Long, on\u001b[38;5;241m=\u001b[39m[\u001b[38;5;124m\"\u001b[39m\u001b[38;5;124mCode\u001b[39m\u001b[38;5;124m\"\u001b[39m,\u001b[38;5;124m\"\u001b[39m\u001b[38;5;124mbChalk\u001b[39m\u001b[38;5;124m\"\u001b[39m], how\u001b[38;5;241m=\u001b[39m\u001b[38;5;124m'\u001b[39m\u001b[38;5;124mleft\u001b[39m\u001b[38;5;124m'\u001b[39m)\n\u001b[1;32m----> 4\u001b[0m \u001b[43mChalk\u001b[49m\u001b[38;5;241;43m.\u001b[39;49m\u001b[43mto_csv\u001b[49m\u001b[43m(\u001b[49m\u001b[38;5;124;43m'\u001b[39;49m\u001b[38;5;124;43mdata/Processed/Chalk.csv\u001b[39;49m\u001b[38;5;124;43m'\u001b[39;49m\u001b[43m,\u001b[49m\u001b[43m \u001b[49m\u001b[43mindex\u001b[49m\u001b[38;5;241;43m=\u001b[39;49m\u001b[38;5;28;43;01mFalse\u001b[39;49;00m\u001b[43m)\u001b[49m\n",
      "File \u001b[1;32mc:\\Users\\yujer\\anaconda3\\envs\\main\\Lib\\site-packages\\pandas\\util\\_decorators.py:333\u001b[0m, in \u001b[0;36mdeprecate_nonkeyword_arguments.<locals>.decorate.<locals>.wrapper\u001b[1;34m(*args, **kwargs)\u001b[0m\n\u001b[0;32m    327\u001b[0m \u001b[38;5;28;01mif\u001b[39;00m \u001b[38;5;28mlen\u001b[39m(args) \u001b[38;5;241m>\u001b[39m num_allow_args:\n\u001b[0;32m    328\u001b[0m     warnings\u001b[38;5;241m.\u001b[39mwarn(\n\u001b[0;32m    329\u001b[0m         msg\u001b[38;5;241m.\u001b[39mformat(arguments\u001b[38;5;241m=\u001b[39m_format_argument_list(allow_args)),\n\u001b[0;32m    330\u001b[0m         \u001b[38;5;167;01mFutureWarning\u001b[39;00m,\n\u001b[0;32m    331\u001b[0m         stacklevel\u001b[38;5;241m=\u001b[39mfind_stack_level(),\n\u001b[0;32m    332\u001b[0m     )\n\u001b[1;32m--> 333\u001b[0m \u001b[38;5;28;01mreturn\u001b[39;00m \u001b[43mfunc\u001b[49m\u001b[43m(\u001b[49m\u001b[38;5;241;43m*\u001b[39;49m\u001b[43margs\u001b[49m\u001b[43m,\u001b[49m\u001b[43m \u001b[49m\u001b[38;5;241;43m*\u001b[39;49m\u001b[38;5;241;43m*\u001b[39;49m\u001b[43mkwargs\u001b[49m\u001b[43m)\u001b[49m\n",
      "File \u001b[1;32mc:\\Users\\yujer\\anaconda3\\envs\\main\\Lib\\site-packages\\pandas\\core\\generic.py:3967\u001b[0m, in \u001b[0;36mNDFrame.to_csv\u001b[1;34m(self, path_or_buf, sep, na_rep, float_format, columns, header, index, index_label, mode, encoding, compression, quoting, quotechar, lineterminator, chunksize, date_format, doublequote, escapechar, decimal, errors, storage_options)\u001b[0m\n\u001b[0;32m   3956\u001b[0m df \u001b[38;5;241m=\u001b[39m \u001b[38;5;28mself\u001b[39m \u001b[38;5;28;01mif\u001b[39;00m \u001b[38;5;28misinstance\u001b[39m(\u001b[38;5;28mself\u001b[39m, ABCDataFrame) \u001b[38;5;28;01melse\u001b[39;00m \u001b[38;5;28mself\u001b[39m\u001b[38;5;241m.\u001b[39mto_frame()\n\u001b[0;32m   3958\u001b[0m formatter \u001b[38;5;241m=\u001b[39m DataFrameFormatter(\n\u001b[0;32m   3959\u001b[0m     frame\u001b[38;5;241m=\u001b[39mdf,\n\u001b[0;32m   3960\u001b[0m     header\u001b[38;5;241m=\u001b[39mheader,\n\u001b[1;32m   (...)\u001b[0m\n\u001b[0;32m   3964\u001b[0m     decimal\u001b[38;5;241m=\u001b[39mdecimal,\n\u001b[0;32m   3965\u001b[0m )\n\u001b[1;32m-> 3967\u001b[0m \u001b[38;5;28;01mreturn\u001b[39;00m \u001b[43mDataFrameRenderer\u001b[49m\u001b[43m(\u001b[49m\u001b[43mformatter\u001b[49m\u001b[43m)\u001b[49m\u001b[38;5;241;43m.\u001b[39;49m\u001b[43mto_csv\u001b[49m\u001b[43m(\u001b[49m\n\u001b[0;32m   3968\u001b[0m \u001b[43m    \u001b[49m\u001b[43mpath_or_buf\u001b[49m\u001b[43m,\u001b[49m\n\u001b[0;32m   3969\u001b[0m \u001b[43m    \u001b[49m\u001b[43mlineterminator\u001b[49m\u001b[38;5;241;43m=\u001b[39;49m\u001b[43mlineterminator\u001b[49m\u001b[43m,\u001b[49m\n\u001b[0;32m   3970\u001b[0m \u001b[43m    \u001b[49m\u001b[43msep\u001b[49m\u001b[38;5;241;43m=\u001b[39;49m\u001b[43msep\u001b[49m\u001b[43m,\u001b[49m\n\u001b[0;32m   3971\u001b[0m \u001b[43m    \u001b[49m\u001b[43mencoding\u001b[49m\u001b[38;5;241;43m=\u001b[39;49m\u001b[43mencoding\u001b[49m\u001b[43m,\u001b[49m\n\u001b[0;32m   3972\u001b[0m \u001b[43m    \u001b[49m\u001b[43merrors\u001b[49m\u001b[38;5;241;43m=\u001b[39;49m\u001b[43merrors\u001b[49m\u001b[43m,\u001b[49m\n\u001b[0;32m   3973\u001b[0m \u001b[43m    \u001b[49m\u001b[43mcompression\u001b[49m\u001b[38;5;241;43m=\u001b[39;49m\u001b[43mcompression\u001b[49m\u001b[43m,\u001b[49m\n\u001b[0;32m   3974\u001b[0m \u001b[43m    \u001b[49m\u001b[43mquoting\u001b[49m\u001b[38;5;241;43m=\u001b[39;49m\u001b[43mquoting\u001b[49m\u001b[43m,\u001b[49m\n\u001b[0;32m   3975\u001b[0m \u001b[43m    \u001b[49m\u001b[43mcolumns\u001b[49m\u001b[38;5;241;43m=\u001b[39;49m\u001b[43mcolumns\u001b[49m\u001b[43m,\u001b[49m\n\u001b[0;32m   3976\u001b[0m \u001b[43m    \u001b[49m\u001b[43mindex_label\u001b[49m\u001b[38;5;241;43m=\u001b[39;49m\u001b[43mindex_label\u001b[49m\u001b[43m,\u001b[49m\n\u001b[0;32m   3977\u001b[0m \u001b[43m    \u001b[49m\u001b[43mmode\u001b[49m\u001b[38;5;241;43m=\u001b[39;49m\u001b[43mmode\u001b[49m\u001b[43m,\u001b[49m\n\u001b[0;32m   3978\u001b[0m \u001b[43m    \u001b[49m\u001b[43mchunksize\u001b[49m\u001b[38;5;241;43m=\u001b[39;49m\u001b[43mchunksize\u001b[49m\u001b[43m,\u001b[49m\n\u001b[0;32m   3979\u001b[0m \u001b[43m    \u001b[49m\u001b[43mquotechar\u001b[49m\u001b[38;5;241;43m=\u001b[39;49m\u001b[43mquotechar\u001b[49m\u001b[43m,\u001b[49m\n\u001b[0;32m   3980\u001b[0m \u001b[43m    \u001b[49m\u001b[43mdate_format\u001b[49m\u001b[38;5;241;43m=\u001b[39;49m\u001b[43mdate_format\u001b[49m\u001b[43m,\u001b[49m\n\u001b[0;32m   3981\u001b[0m \u001b[43m    \u001b[49m\u001b[43mdoublequote\u001b[49m\u001b[38;5;241;43m=\u001b[39;49m\u001b[43mdoublequote\u001b[49m\u001b[43m,\u001b[49m\n\u001b[0;32m   3982\u001b[0m \u001b[43m    \u001b[49m\u001b[43mescapechar\u001b[49m\u001b[38;5;241;43m=\u001b[39;49m\u001b[43mescapechar\u001b[49m\u001b[43m,\u001b[49m\n\u001b[0;32m   3983\u001b[0m \u001b[43m    \u001b[49m\u001b[43mstorage_options\u001b[49m\u001b[38;5;241;43m=\u001b[39;49m\u001b[43mstorage_options\u001b[49m\u001b[43m,\u001b[49m\n\u001b[0;32m   3984\u001b[0m \u001b[43m\u001b[49m\u001b[43m)\u001b[49m\n",
      "File \u001b[1;32mc:\\Users\\yujer\\anaconda3\\envs\\main\\Lib\\site-packages\\pandas\\io\\formats\\format.py:1014\u001b[0m, in \u001b[0;36mDataFrameRenderer.to_csv\u001b[1;34m(self, path_or_buf, encoding, sep, columns, index_label, mode, compression, quoting, quotechar, lineterminator, chunksize, date_format, doublequote, escapechar, errors, storage_options)\u001b[0m\n\u001b[0;32m    993\u001b[0m     created_buffer \u001b[38;5;241m=\u001b[39m \u001b[38;5;28;01mFalse\u001b[39;00m\n\u001b[0;32m    995\u001b[0m csv_formatter \u001b[38;5;241m=\u001b[39m CSVFormatter(\n\u001b[0;32m    996\u001b[0m     path_or_buf\u001b[38;5;241m=\u001b[39mpath_or_buf,\n\u001b[0;32m    997\u001b[0m     lineterminator\u001b[38;5;241m=\u001b[39mlineterminator,\n\u001b[1;32m   (...)\u001b[0m\n\u001b[0;32m   1012\u001b[0m     formatter\u001b[38;5;241m=\u001b[39m\u001b[38;5;28mself\u001b[39m\u001b[38;5;241m.\u001b[39mfmt,\n\u001b[0;32m   1013\u001b[0m )\n\u001b[1;32m-> 1014\u001b[0m \u001b[43mcsv_formatter\u001b[49m\u001b[38;5;241;43m.\u001b[39;49m\u001b[43msave\u001b[49m\u001b[43m(\u001b[49m\u001b[43m)\u001b[49m\n\u001b[0;32m   1016\u001b[0m \u001b[38;5;28;01mif\u001b[39;00m created_buffer:\n\u001b[0;32m   1017\u001b[0m     \u001b[38;5;28;01massert\u001b[39;00m \u001b[38;5;28misinstance\u001b[39m(path_or_buf, StringIO)\n",
      "File \u001b[1;32mc:\\Users\\yujer\\anaconda3\\envs\\main\\Lib\\site-packages\\pandas\\io\\formats\\csvs.py:251\u001b[0m, in \u001b[0;36mCSVFormatter.save\u001b[1;34m(self)\u001b[0m\n\u001b[0;32m    247\u001b[0m \u001b[38;5;250m\u001b[39m\u001b[38;5;124;03m\"\"\"\u001b[39;00m\n\u001b[0;32m    248\u001b[0m \u001b[38;5;124;03mCreate the writer & save.\u001b[39;00m\n\u001b[0;32m    249\u001b[0m \u001b[38;5;124;03m\"\"\"\u001b[39;00m\n\u001b[0;32m    250\u001b[0m \u001b[38;5;66;03m# apply compression and byte/text conversion\u001b[39;00m\n\u001b[1;32m--> 251\u001b[0m \u001b[38;5;28;01mwith\u001b[39;00m \u001b[43mget_handle\u001b[49m\u001b[43m(\u001b[49m\n\u001b[0;32m    252\u001b[0m \u001b[43m    \u001b[49m\u001b[38;5;28;43mself\u001b[39;49m\u001b[38;5;241;43m.\u001b[39;49m\u001b[43mfilepath_or_buffer\u001b[49m\u001b[43m,\u001b[49m\n\u001b[0;32m    253\u001b[0m \u001b[43m    \u001b[49m\u001b[38;5;28;43mself\u001b[39;49m\u001b[38;5;241;43m.\u001b[39;49m\u001b[43mmode\u001b[49m\u001b[43m,\u001b[49m\n\u001b[0;32m    254\u001b[0m \u001b[43m    \u001b[49m\u001b[43mencoding\u001b[49m\u001b[38;5;241;43m=\u001b[39;49m\u001b[38;5;28;43mself\u001b[39;49m\u001b[38;5;241;43m.\u001b[39;49m\u001b[43mencoding\u001b[49m\u001b[43m,\u001b[49m\n\u001b[0;32m    255\u001b[0m \u001b[43m    \u001b[49m\u001b[43merrors\u001b[49m\u001b[38;5;241;43m=\u001b[39;49m\u001b[38;5;28;43mself\u001b[39;49m\u001b[38;5;241;43m.\u001b[39;49m\u001b[43merrors\u001b[49m\u001b[43m,\u001b[49m\n\u001b[0;32m    256\u001b[0m \u001b[43m    \u001b[49m\u001b[43mcompression\u001b[49m\u001b[38;5;241;43m=\u001b[39;49m\u001b[38;5;28;43mself\u001b[39;49m\u001b[38;5;241;43m.\u001b[39;49m\u001b[43mcompression\u001b[49m\u001b[43m,\u001b[49m\n\u001b[0;32m    257\u001b[0m \u001b[43m    \u001b[49m\u001b[43mstorage_options\u001b[49m\u001b[38;5;241;43m=\u001b[39;49m\u001b[38;5;28;43mself\u001b[39;49m\u001b[38;5;241;43m.\u001b[39;49m\u001b[43mstorage_options\u001b[49m\u001b[43m,\u001b[49m\n\u001b[0;32m    258\u001b[0m \u001b[43m\u001b[49m\u001b[43m)\u001b[49m \u001b[38;5;28;01mas\u001b[39;00m handles:\n\u001b[0;32m    259\u001b[0m     \u001b[38;5;66;03m# Note: self.encoding is irrelevant here\u001b[39;00m\n\u001b[0;32m    260\u001b[0m     \u001b[38;5;28mself\u001b[39m\u001b[38;5;241m.\u001b[39mwriter \u001b[38;5;241m=\u001b[39m csvlib\u001b[38;5;241m.\u001b[39mwriter(\n\u001b[0;32m    261\u001b[0m         handles\u001b[38;5;241m.\u001b[39mhandle,\n\u001b[0;32m    262\u001b[0m         lineterminator\u001b[38;5;241m=\u001b[39m\u001b[38;5;28mself\u001b[39m\u001b[38;5;241m.\u001b[39mlineterminator,\n\u001b[1;32m   (...)\u001b[0m\n\u001b[0;32m    267\u001b[0m         quotechar\u001b[38;5;241m=\u001b[39m\u001b[38;5;28mself\u001b[39m\u001b[38;5;241m.\u001b[39mquotechar,\n\u001b[0;32m    268\u001b[0m     )\n\u001b[0;32m    270\u001b[0m     \u001b[38;5;28mself\u001b[39m\u001b[38;5;241m.\u001b[39m_save()\n",
      "File \u001b[1;32mc:\\Users\\yujer\\anaconda3\\envs\\main\\Lib\\site-packages\\pandas\\io\\common.py:873\u001b[0m, in \u001b[0;36mget_handle\u001b[1;34m(path_or_buf, mode, encoding, compression, memory_map, is_text, errors, storage_options)\u001b[0m\n\u001b[0;32m    868\u001b[0m \u001b[38;5;28;01melif\u001b[39;00m \u001b[38;5;28misinstance\u001b[39m(handle, \u001b[38;5;28mstr\u001b[39m):\n\u001b[0;32m    869\u001b[0m     \u001b[38;5;66;03m# Check whether the filename is to be opened in binary mode.\u001b[39;00m\n\u001b[0;32m    870\u001b[0m     \u001b[38;5;66;03m# Binary mode does not support 'encoding' and 'newline'.\u001b[39;00m\n\u001b[0;32m    871\u001b[0m     \u001b[38;5;28;01mif\u001b[39;00m ioargs\u001b[38;5;241m.\u001b[39mencoding \u001b[38;5;129;01mand\u001b[39;00m \u001b[38;5;124m\"\u001b[39m\u001b[38;5;124mb\u001b[39m\u001b[38;5;124m\"\u001b[39m \u001b[38;5;129;01mnot\u001b[39;00m \u001b[38;5;129;01min\u001b[39;00m ioargs\u001b[38;5;241m.\u001b[39mmode:\n\u001b[0;32m    872\u001b[0m         \u001b[38;5;66;03m# Encoding\u001b[39;00m\n\u001b[1;32m--> 873\u001b[0m         handle \u001b[38;5;241m=\u001b[39m \u001b[38;5;28;43mopen\u001b[39;49m\u001b[43m(\u001b[49m\n\u001b[0;32m    874\u001b[0m \u001b[43m            \u001b[49m\u001b[43mhandle\u001b[49m\u001b[43m,\u001b[49m\n\u001b[0;32m    875\u001b[0m \u001b[43m            \u001b[49m\u001b[43mioargs\u001b[49m\u001b[38;5;241;43m.\u001b[39;49m\u001b[43mmode\u001b[49m\u001b[43m,\u001b[49m\n\u001b[0;32m    876\u001b[0m \u001b[43m            \u001b[49m\u001b[43mencoding\u001b[49m\u001b[38;5;241;43m=\u001b[39;49m\u001b[43mioargs\u001b[49m\u001b[38;5;241;43m.\u001b[39;49m\u001b[43mencoding\u001b[49m\u001b[43m,\u001b[49m\n\u001b[0;32m    877\u001b[0m \u001b[43m            \u001b[49m\u001b[43merrors\u001b[49m\u001b[38;5;241;43m=\u001b[39;49m\u001b[43merrors\u001b[49m\u001b[43m,\u001b[49m\n\u001b[0;32m    878\u001b[0m \u001b[43m            \u001b[49m\u001b[43mnewline\u001b[49m\u001b[38;5;241;43m=\u001b[39;49m\u001b[38;5;124;43m\"\u001b[39;49m\u001b[38;5;124;43m\"\u001b[39;49m\u001b[43m,\u001b[49m\n\u001b[0;32m    879\u001b[0m \u001b[43m        \u001b[49m\u001b[43m)\u001b[49m\n\u001b[0;32m    880\u001b[0m     \u001b[38;5;28;01melse\u001b[39;00m:\n\u001b[0;32m    881\u001b[0m         \u001b[38;5;66;03m# Binary mode\u001b[39;00m\n\u001b[0;32m    882\u001b[0m         handle \u001b[38;5;241m=\u001b[39m \u001b[38;5;28mopen\u001b[39m(handle, ioargs\u001b[38;5;241m.\u001b[39mmode)\n",
      "\u001b[1;31mPermissionError\u001b[0m: [Errno 13] Permission denied: 'data/Processed/Chalk.csv'"
     ]
    }
   ],
   "source": [
    "Chalk_Long = pd.read_excel('data/Raw/Chalk_Long.xlsm', sheet_name=1, header=0)\n",
    "metadata = pd.read_excel('data/Raw/Metadata.xlsx', sheet_name=1, header=0)\n",
    "Chalk = pd.merge(metadata, Chalk_Long, on=[\"Code\",\"bChalk\"], how='left')\n",
    "Chalk.to_csv('data/Processed/Chalk.csv', index=False)"
   ]
  },
  {
   "cell_type": "markdown",
   "metadata": {},
   "source": [
    "Now I need to convert some labels into factors"
   ]
  },
  {
   "cell_type": "code",
   "execution_count": 31,
   "metadata": {},
   "outputs": [],
   "source": [
    "Chalk[\"Chalk\"] = Chalk[\"Chalk\"].astype(\"category\")\n",
    "Chalk[\"Chalk\"] = Chalk[\"Chalk\"].cat.rename_categories([\"None\", \"FL\", \"Metolius\", \"Magdust\", \"Ethan\"])\n",
    "Chalk[\"Person\"] = Chalk[\"Person\"].astype(\"category\")\n",
    "Chalk[\"Pinch_Order\"] = Chalk[\"Pinch_Order\"].rank(method='dense')\n",
    "Chalk[\"Day_Chalk\"] = Chalk[\"Day\"].astype(\"str\") + \"_\" + Chalk[\"Chalk\"].astype(\"str\")"
   ]
  },
  {
   "cell_type": "code",
   "execution_count": 7,
   "metadata": {},
   "outputs": [
    {
     "name": "stdout",
     "output_type": "stream",
     "text": [
      "<class 'pandas.core.frame.DataFrame'>\n",
      "RangeIndex: 576 entries, 0 to 575\n",
      "Data columns (total 9 columns):\n",
      " #   Column       Non-Null Count  Dtype         \n",
      "---  ------       --------------  -----         \n",
      " 0   Code         576 non-null    int64         \n",
      " 1   bChalk       576 non-null    int64         \n",
      " 2   Day_Order    576 non-null    int64         \n",
      " 3   Day          576 non-null    datetime64[ns]\n",
      " 4   Pinch        576 non-null    float64       \n",
      " 5   Pull         576 non-null    float64       \n",
      " 6   Pinch_Order  576 non-null    int64         \n",
      " 7   Chalk        576 non-null    category      \n",
      " 8   Person       576 non-null    int64         \n",
      "dtypes: category(1), datetime64[ns](1), float64(2), int64(5)\n",
      "memory usage: 36.9 KB\n"
     ]
    },
    {
     "data": {
      "text/html": [
       "<div>\n",
       "<style scoped>\n",
       "    .dataframe tbody tr th:only-of-type {\n",
       "        vertical-align: middle;\n",
       "    }\n",
       "\n",
       "    .dataframe tbody tr th {\n",
       "        vertical-align: top;\n",
       "    }\n",
       "\n",
       "    .dataframe thead th {\n",
       "        text-align: right;\n",
       "    }\n",
       "</style>\n",
       "<table border=\"1\" class=\"dataframe\">\n",
       "  <thead>\n",
       "    <tr style=\"text-align: right;\">\n",
       "      <th></th>\n",
       "      <th>Code</th>\n",
       "      <th>bChalk</th>\n",
       "      <th>Day_Order</th>\n",
       "      <th>Day</th>\n",
       "      <th>Pinch</th>\n",
       "      <th>Pull</th>\n",
       "      <th>Pinch_Order</th>\n",
       "      <th>Chalk</th>\n",
       "      <th>Person</th>\n",
       "    </tr>\n",
       "  </thead>\n",
       "  <tbody>\n",
       "    <tr>\n",
       "      <th>0</th>\n",
       "      <td>16</td>\n",
       "      <td>1</td>\n",
       "      <td>1</td>\n",
       "      <td>2024-10-30</td>\n",
       "      <td>4.202</td>\n",
       "      <td>34.6</td>\n",
       "      <td>1</td>\n",
       "      <td>None</td>\n",
       "      <td>1</td>\n",
       "    </tr>\n",
       "    <tr>\n",
       "      <th>1</th>\n",
       "      <td>16</td>\n",
       "      <td>1</td>\n",
       "      <td>1</td>\n",
       "      <td>2024-10-30</td>\n",
       "      <td>4.117</td>\n",
       "      <td>31.9</td>\n",
       "      <td>2</td>\n",
       "      <td>None</td>\n",
       "      <td>1</td>\n",
       "    </tr>\n",
       "    <tr>\n",
       "      <th>2</th>\n",
       "      <td>16</td>\n",
       "      <td>1</td>\n",
       "      <td>1</td>\n",
       "      <td>2024-10-30</td>\n",
       "      <td>4.154</td>\n",
       "      <td>31.9</td>\n",
       "      <td>3</td>\n",
       "      <td>None</td>\n",
       "      <td>1</td>\n",
       "    </tr>\n",
       "    <tr>\n",
       "      <th>3</th>\n",
       "      <td>34</td>\n",
       "      <td>1</td>\n",
       "      <td>2</td>\n",
       "      <td>2024-10-30</td>\n",
       "      <td>4.088</td>\n",
       "      <td>41.1</td>\n",
       "      <td>1</td>\n",
       "      <td>FL</td>\n",
       "      <td>2</td>\n",
       "    </tr>\n",
       "    <tr>\n",
       "      <th>4</th>\n",
       "      <td>34</td>\n",
       "      <td>1</td>\n",
       "      <td>2</td>\n",
       "      <td>2024-10-30</td>\n",
       "      <td>4.088</td>\n",
       "      <td>44.5</td>\n",
       "      <td>2</td>\n",
       "      <td>FL</td>\n",
       "      <td>2</td>\n",
       "    </tr>\n",
       "  </tbody>\n",
       "</table>\n",
       "</div>"
      ],
      "text/plain": [
       "   Code  bChalk  Day_Order        Day  Pinch  Pull  Pinch_Order Chalk  Person\n",
       "0    16       1          1 2024-10-30  4.202  34.6            1  None       1\n",
       "1    16       1          1 2024-10-30  4.117  31.9            2  None       1\n",
       "2    16       1          1 2024-10-30  4.154  31.9            3  None       1\n",
       "3    34       1          2 2024-10-30  4.088  41.1            1    FL       2\n",
       "4    34       1          2 2024-10-30  4.088  44.5            2    FL       2"
      ]
     },
     "execution_count": 7,
     "metadata": {},
     "output_type": "execute_result"
    }
   ],
   "source": [
    "Chalk.info()\n",
    "Chalk.head()"
   ]
  },
  {
   "cell_type": "markdown",
   "metadata": {},
   "source": [
    "# Plot Basic Graphs\n",
    "\n",
    "Now I will plot some basic graphs and summary statistics to check data quality and statistical assumptions. \n",
    "\n",
    "First I will check the distributions of the numeric variables. "
   ]
  },
  {
   "cell_type": "code",
   "execution_count": 18,
   "metadata": {},
   "outputs": [
    {
     "data": {
      "application/vnd.plotly.v1+json": {
       "config": {
        "plotlyServerURL": "https://plot.ly"
       },
       "data": [
        {
         "alignmentgroup": "True",
         "bingroup": "x",
         "hovertemplate": "Pinch=%{x}<br>count=%{y}<extra></extra>",
         "legendgroup": "",
         "marker": {
          "color": "#636efa",
          "pattern": {
           "shape": ""
          }
         },
         "name": "",
         "offsetgroup": "",
         "orientation": "v",
         "showlegend": false,
         "type": "histogram",
         "x": [
          4.202,
          4.117,
          4.154,
          4.088,
          4.088,
          4.086,
          1.099,
          1.319,
          1.198,
          3.124,
          2.808,
          3.077,
          4.088,
          4.223,
          4.125,
          4.888,
          5.356,
          4.838,
          2.086,
          2.054,
          2.08,
          5.989,
          6.064,
          5.883,
          4.483,
          4.088,
          4.528,
          5.233,
          5.382,
          5.1,
          1.284,
          1.322,
          1.408,
          3.938,
          3.298,
          3.238,
          5.105,
          5.372,
          5.201,
          5.587,
          5.055,
          4.991,
          5.898,
          5.899,
          5.881,
          1.176,
          1.292,
          1.044,
          3.121,
          3.289,
          2.966,
          4.104,
          4.18,
          4.453,
          4.212,
          4.349,
          3.792,
          1.167,
          1.018,
          1.018,
          6.039,
          7.126,
          6.407,
          5.492,
          5.703,
          5.342,
          6.309,
          5.813,
          6.138,
          1.093,
          1.188,
          1.036,
          2.597,
          2.419,
          2.058,
          1.949,
          1.908,
          2.209,
          3.36,
          3.326,
          2.999,
          3.886,
          4.549,
          4.078,
          5.96,
          5.5,
          6.198,
          5.289,
          5.472,
          5.066,
          3.129,
          2.847,
          3.072,
          6.683,
          6.046,
          5.699,
          1.275,
          1.135,
          1.288,
          2.188,
          1.998,
          1.997,
          2.129,
          2.179,
          1.952,
          3.762,
          3.399,
          3.316,
          2.347,
          2.129,
          2.104,
          6.221,
          6.262,
          6.878,
          3.572,
          3.189,
          3.258,
          5.061,
          5.334,
          4.947,
          1.198,
          1.098,
          1.303,
          4.047,
          4.096,
          4.116,
          2.998,
          3.089,
          3.088,
          2.342,
          2.078,
          2.217,
          1.098,
          1.054,
          1.141,
          2.061,
          2.078,
          1.983,
          5.738,
          5.692,
          6.088,
          4.989,
          4.294,
          4.288,
          2.198,
          2.101,
          2.192,
          4.158,
          4.389,
          4.388,
          1.002,
          0.938,
          1.088,
          5.309,
          5.069,
          5.22,
          6.007,
          6.038,
          6.308,
          5.16,
          4.887,
          5.108,
          3.053,
          2.83,
          2.899,
          6.498,
          6.602,
          6.225,
          6.398,
          5.969,
          5.608,
          7.243,
          7.389,
          6.914,
          2.098,
          2.198,
          2.278,
          6.091,
          5.988,
          6.074,
          1.278,
          1.238,
          1.068,
          3.946,
          4.473,
          3.938,
          3.915,
          4.057,
          3.99,
          4.304,
          4.239,
          4.224,
          6.033,
          5.337,
          4.987,
          1.157,
          1.073,
          1.097,
          2.288,
          2.234,
          2.169,
          4.889,
          4.582,
          4.718,
          2.829,
          3.138,
          3.191,
          5.587,
          5.934,
          7.216,
          4.766,
          3.788,
          4.012,
          3.546,
          3.148,
          2.798,
          5.928,
          6.093,
          5.843,
          3.564,
          3.055,
          4.039,
          1.034,
          1.037,
          1.019,
          2.098,
          2.048,
          2.033,
          3.638,
          3.889,
          3.762,
          5.492,
          5.447,
          5.139,
          2.006,
          2.088,
          2.023,
          1.988,
          2.049,
          2.114,
          1.082,
          1.093,
          0.979,
          4.072,
          4.208,
          4.196,
          2.096,
          2.015,
          2.022,
          3.08,
          3.1,
          3.098,
          3.218,
          3.363,
          3.388,
          1.085,
          1.053,
          0.947,
          1.217,
          1.1,
          1.176,
          4.149,
          4.162,
          4.449,
          2.139,
          2.022,
          2.019,
          6.309,
          6.009,
          6.087,
          5.66,
          5.291,
          4.898,
          3.013,
          3.176,
          3.315,
          3.218,
          3.044,
          3.306,
          5.581,
          5.039,
          4.893,
          1.309,
          1.463,
          1.19,
          5.29,
          5.038,
          5.275,
          6,
          5.859,
          6.143,
          4.919,
          4.909,
          5.048,
          2.194,
          2.199,
          2.065,
          3.22,
          3.214,
          3.215,
          2.351,
          2.096,
          2.206,
          4.387,
          4.095,
          4.247,
          2.218,
          2.138,
          2.079,
          3.247,
          3.152,
          3.253,
          5.998,
          5.993,
          6.048,
          4.997,
          4.589,
          5.384,
          1.219,
          1.308,
          1.249,
          3.211,
          3.458,
          3.187,
          4.446,
          4.258,
          4.172,
          3.209,
          3.284,
          2.88,
          1.042,
          1.221,
          1.033,
          2.29,
          1.96,
          2.059,
          4.793,
          4.767,
          4.958,
          6.087,
          6.636,
          5.872,
          1.149,
          0.989,
          1.059,
          4.496,
          4.491,
          4.019,
          3.648,
          3.189,
          3.573,
          1.089,
          1.102,
          1.02,
          6.493,
          5.989,
          5.998,
          6.685,
          6.172,
          6.276,
          1.207,
          1.063,
          1.184,
          5.287,
          4.886,
          4.949,
          6.935,
          6.741,
          6.158,
          3.988,
          4.123,
          4.333,
          5.061,
          5.191,
          5.094,
          2.178,
          2.089,
          2.183,
          1.97,
          2.188,
          2.048,
          5.267,
          5.326,
          5.636,
          1.038,
          1,
          1.192,
          3.209,
          3.138,
          3.406,
          5.783,
          6.108,
          5.898,
          2.413,
          2.199,
          2.28,
          1.033,
          1.082,
          1.048,
          4.109,
          3.899,
          4.251,
          4.988,
          4.964,
          5.069,
          1.523,
          1.238,
          1.369,
          5.189,
          5.086,
          5.098,
          4.088,
          3.898,
          3.859,
          2.868,
          2.898,
          3.092,
          5.999,
          5.966,
          6.031,
          4.332,
          4.089,
          3.988,
          3.098,
          2.892,
          3.21,
          4.106,
          3.838,
          4.188,
          2.298,
          1.898,
          2.183,
          3.048,
          2.888,
          2.688,
          1.289,
          1.389,
          1.208,
          2.089,
          2.008,
          2.133,
          5.336,
          5.599,
          5.579,
          2.208,
          2.098,
          2.08,
          4.282,
          4.094,
          3.899,
          3.322,
          3.092,
          3.298,
          6.558,
          6.199,
          6.343,
          1.196,
          1.36,
          1.198,
          4.888,
          4.979,
          5.217,
          2.098,
          1.983,
          2.207,
          5.998,
          6.203,
          6.387,
          5.972,
          5.666,
          5.869,
          2.041,
          2.22,
          2.212,
          3.292,
          3.088,
          3.088,
          1.139,
          1.098,
          1.231,
          1.147,
          1.115,
          1.279,
          0.988,
          1.219,
          0.972,
          5.097,
          4.964,
          4.787,
          1.268,
          1.061,
          1.279,
          2.077,
          1.992,
          2.164,
          2.217,
          2.187,
          1.898,
          4.463,
          4.066,
          3.676,
          3.077,
          3.161,
          3.186,
          4.06,
          3.962,
          4.099,
          4.28,
          4.335,
          4.388,
          2.947,
          3.278,
          3.298,
          5.744,
          5.826,
          6.173,
          3.276,
          3.127,
          3.326,
          6.168,
          6.75,
          6.096,
          1.359,
          1.1,
          1.081,
          2.381,
          2.442,
          2.075,
          4.996,
          4.988,
          4.979,
          5.978,
          6.124,
          6.493,
          1.311,
          1.218,
          1.446,
          4.153,
          4.088,
          4.304,
          2.992,
          3.31,
          3.338,
          3.103,
          3.155,
          3.048,
          4.24,
          4.979,
          4.612,
          6.888,
          6.32,
          6.549,
          6.028,
          6.484,
          6.203,
          4.877,
          4.938,
          5.168,
          5.026,
          4.899,
          5.306,
          2.015,
          2.372,
          2.625,
          4.083,
          4.143,
          4.252,
          4.288,
          3.91,
          4.38,
          5.117,
          5.098,
          4.878,
          5.198,
          5.624,
          5.274
         ],
         "xaxis": "x",
         "yaxis": "y"
        }
       ],
       "layout": {
        "barmode": "relative",
        "legend": {
         "tracegroupgap": 0
        },
        "template": {
         "data": {
          "bar": [
           {
            "error_x": {
             "color": "#2a3f5f"
            },
            "error_y": {
             "color": "#2a3f5f"
            },
            "marker": {
             "line": {
              "color": "#E5ECF6",
              "width": 0.5
             },
             "pattern": {
              "fillmode": "overlay",
              "size": 10,
              "solidity": 0.2
             }
            },
            "type": "bar"
           }
          ],
          "barpolar": [
           {
            "marker": {
             "line": {
              "color": "#E5ECF6",
              "width": 0.5
             },
             "pattern": {
              "fillmode": "overlay",
              "size": 10,
              "solidity": 0.2
             }
            },
            "type": "barpolar"
           }
          ],
          "carpet": [
           {
            "aaxis": {
             "endlinecolor": "#2a3f5f",
             "gridcolor": "white",
             "linecolor": "white",
             "minorgridcolor": "white",
             "startlinecolor": "#2a3f5f"
            },
            "baxis": {
             "endlinecolor": "#2a3f5f",
             "gridcolor": "white",
             "linecolor": "white",
             "minorgridcolor": "white",
             "startlinecolor": "#2a3f5f"
            },
            "type": "carpet"
           }
          ],
          "choropleth": [
           {
            "colorbar": {
             "outlinewidth": 0,
             "ticks": ""
            },
            "type": "choropleth"
           }
          ],
          "contour": [
           {
            "colorbar": {
             "outlinewidth": 0,
             "ticks": ""
            },
            "colorscale": [
             [
              0,
              "#0d0887"
             ],
             [
              0.1111111111111111,
              "#46039f"
             ],
             [
              0.2222222222222222,
              "#7201a8"
             ],
             [
              0.3333333333333333,
              "#9c179e"
             ],
             [
              0.4444444444444444,
              "#bd3786"
             ],
             [
              0.5555555555555556,
              "#d8576b"
             ],
             [
              0.6666666666666666,
              "#ed7953"
             ],
             [
              0.7777777777777778,
              "#fb9f3a"
             ],
             [
              0.8888888888888888,
              "#fdca26"
             ],
             [
              1,
              "#f0f921"
             ]
            ],
            "type": "contour"
           }
          ],
          "contourcarpet": [
           {
            "colorbar": {
             "outlinewidth": 0,
             "ticks": ""
            },
            "type": "contourcarpet"
           }
          ],
          "heatmap": [
           {
            "colorbar": {
             "outlinewidth": 0,
             "ticks": ""
            },
            "colorscale": [
             [
              0,
              "#0d0887"
             ],
             [
              0.1111111111111111,
              "#46039f"
             ],
             [
              0.2222222222222222,
              "#7201a8"
             ],
             [
              0.3333333333333333,
              "#9c179e"
             ],
             [
              0.4444444444444444,
              "#bd3786"
             ],
             [
              0.5555555555555556,
              "#d8576b"
             ],
             [
              0.6666666666666666,
              "#ed7953"
             ],
             [
              0.7777777777777778,
              "#fb9f3a"
             ],
             [
              0.8888888888888888,
              "#fdca26"
             ],
             [
              1,
              "#f0f921"
             ]
            ],
            "type": "heatmap"
           }
          ],
          "heatmapgl": [
           {
            "colorbar": {
             "outlinewidth": 0,
             "ticks": ""
            },
            "colorscale": [
             [
              0,
              "#0d0887"
             ],
             [
              0.1111111111111111,
              "#46039f"
             ],
             [
              0.2222222222222222,
              "#7201a8"
             ],
             [
              0.3333333333333333,
              "#9c179e"
             ],
             [
              0.4444444444444444,
              "#bd3786"
             ],
             [
              0.5555555555555556,
              "#d8576b"
             ],
             [
              0.6666666666666666,
              "#ed7953"
             ],
             [
              0.7777777777777778,
              "#fb9f3a"
             ],
             [
              0.8888888888888888,
              "#fdca26"
             ],
             [
              1,
              "#f0f921"
             ]
            ],
            "type": "heatmapgl"
           }
          ],
          "histogram": [
           {
            "marker": {
             "pattern": {
              "fillmode": "overlay",
              "size": 10,
              "solidity": 0.2
             }
            },
            "type": "histogram"
           }
          ],
          "histogram2d": [
           {
            "colorbar": {
             "outlinewidth": 0,
             "ticks": ""
            },
            "colorscale": [
             [
              0,
              "#0d0887"
             ],
             [
              0.1111111111111111,
              "#46039f"
             ],
             [
              0.2222222222222222,
              "#7201a8"
             ],
             [
              0.3333333333333333,
              "#9c179e"
             ],
             [
              0.4444444444444444,
              "#bd3786"
             ],
             [
              0.5555555555555556,
              "#d8576b"
             ],
             [
              0.6666666666666666,
              "#ed7953"
             ],
             [
              0.7777777777777778,
              "#fb9f3a"
             ],
             [
              0.8888888888888888,
              "#fdca26"
             ],
             [
              1,
              "#f0f921"
             ]
            ],
            "type": "histogram2d"
           }
          ],
          "histogram2dcontour": [
           {
            "colorbar": {
             "outlinewidth": 0,
             "ticks": ""
            },
            "colorscale": [
             [
              0,
              "#0d0887"
             ],
             [
              0.1111111111111111,
              "#46039f"
             ],
             [
              0.2222222222222222,
              "#7201a8"
             ],
             [
              0.3333333333333333,
              "#9c179e"
             ],
             [
              0.4444444444444444,
              "#bd3786"
             ],
             [
              0.5555555555555556,
              "#d8576b"
             ],
             [
              0.6666666666666666,
              "#ed7953"
             ],
             [
              0.7777777777777778,
              "#fb9f3a"
             ],
             [
              0.8888888888888888,
              "#fdca26"
             ],
             [
              1,
              "#f0f921"
             ]
            ],
            "type": "histogram2dcontour"
           }
          ],
          "mesh3d": [
           {
            "colorbar": {
             "outlinewidth": 0,
             "ticks": ""
            },
            "type": "mesh3d"
           }
          ],
          "parcoords": [
           {
            "line": {
             "colorbar": {
              "outlinewidth": 0,
              "ticks": ""
             }
            },
            "type": "parcoords"
           }
          ],
          "pie": [
           {
            "automargin": true,
            "type": "pie"
           }
          ],
          "scatter": [
           {
            "fillpattern": {
             "fillmode": "overlay",
             "size": 10,
             "solidity": 0.2
            },
            "type": "scatter"
           }
          ],
          "scatter3d": [
           {
            "line": {
             "colorbar": {
              "outlinewidth": 0,
              "ticks": ""
             }
            },
            "marker": {
             "colorbar": {
              "outlinewidth": 0,
              "ticks": ""
             }
            },
            "type": "scatter3d"
           }
          ],
          "scattercarpet": [
           {
            "marker": {
             "colorbar": {
              "outlinewidth": 0,
              "ticks": ""
             }
            },
            "type": "scattercarpet"
           }
          ],
          "scattergeo": [
           {
            "marker": {
             "colorbar": {
              "outlinewidth": 0,
              "ticks": ""
             }
            },
            "type": "scattergeo"
           }
          ],
          "scattergl": [
           {
            "marker": {
             "colorbar": {
              "outlinewidth": 0,
              "ticks": ""
             }
            },
            "type": "scattergl"
           }
          ],
          "scattermapbox": [
           {
            "marker": {
             "colorbar": {
              "outlinewidth": 0,
              "ticks": ""
             }
            },
            "type": "scattermapbox"
           }
          ],
          "scatterpolar": [
           {
            "marker": {
             "colorbar": {
              "outlinewidth": 0,
              "ticks": ""
             }
            },
            "type": "scatterpolar"
           }
          ],
          "scatterpolargl": [
           {
            "marker": {
             "colorbar": {
              "outlinewidth": 0,
              "ticks": ""
             }
            },
            "type": "scatterpolargl"
           }
          ],
          "scatterternary": [
           {
            "marker": {
             "colorbar": {
              "outlinewidth": 0,
              "ticks": ""
             }
            },
            "type": "scatterternary"
           }
          ],
          "surface": [
           {
            "colorbar": {
             "outlinewidth": 0,
             "ticks": ""
            },
            "colorscale": [
             [
              0,
              "#0d0887"
             ],
             [
              0.1111111111111111,
              "#46039f"
             ],
             [
              0.2222222222222222,
              "#7201a8"
             ],
             [
              0.3333333333333333,
              "#9c179e"
             ],
             [
              0.4444444444444444,
              "#bd3786"
             ],
             [
              0.5555555555555556,
              "#d8576b"
             ],
             [
              0.6666666666666666,
              "#ed7953"
             ],
             [
              0.7777777777777778,
              "#fb9f3a"
             ],
             [
              0.8888888888888888,
              "#fdca26"
             ],
             [
              1,
              "#f0f921"
             ]
            ],
            "type": "surface"
           }
          ],
          "table": [
           {
            "cells": {
             "fill": {
              "color": "#EBF0F8"
             },
             "line": {
              "color": "white"
             }
            },
            "header": {
             "fill": {
              "color": "#C8D4E3"
             },
             "line": {
              "color": "white"
             }
            },
            "type": "table"
           }
          ]
         },
         "layout": {
          "annotationdefaults": {
           "arrowcolor": "#2a3f5f",
           "arrowhead": 0,
           "arrowwidth": 1
          },
          "autotypenumbers": "strict",
          "coloraxis": {
           "colorbar": {
            "outlinewidth": 0,
            "ticks": ""
           }
          },
          "colorscale": {
           "diverging": [
            [
             0,
             "#8e0152"
            ],
            [
             0.1,
             "#c51b7d"
            ],
            [
             0.2,
             "#de77ae"
            ],
            [
             0.3,
             "#f1b6da"
            ],
            [
             0.4,
             "#fde0ef"
            ],
            [
             0.5,
             "#f7f7f7"
            ],
            [
             0.6,
             "#e6f5d0"
            ],
            [
             0.7,
             "#b8e186"
            ],
            [
             0.8,
             "#7fbc41"
            ],
            [
             0.9,
             "#4d9221"
            ],
            [
             1,
             "#276419"
            ]
           ],
           "sequential": [
            [
             0,
             "#0d0887"
            ],
            [
             0.1111111111111111,
             "#46039f"
            ],
            [
             0.2222222222222222,
             "#7201a8"
            ],
            [
             0.3333333333333333,
             "#9c179e"
            ],
            [
             0.4444444444444444,
             "#bd3786"
            ],
            [
             0.5555555555555556,
             "#d8576b"
            ],
            [
             0.6666666666666666,
             "#ed7953"
            ],
            [
             0.7777777777777778,
             "#fb9f3a"
            ],
            [
             0.8888888888888888,
             "#fdca26"
            ],
            [
             1,
             "#f0f921"
            ]
           ],
           "sequentialminus": [
            [
             0,
             "#0d0887"
            ],
            [
             0.1111111111111111,
             "#46039f"
            ],
            [
             0.2222222222222222,
             "#7201a8"
            ],
            [
             0.3333333333333333,
             "#9c179e"
            ],
            [
             0.4444444444444444,
             "#bd3786"
            ],
            [
             0.5555555555555556,
             "#d8576b"
            ],
            [
             0.6666666666666666,
             "#ed7953"
            ],
            [
             0.7777777777777778,
             "#fb9f3a"
            ],
            [
             0.8888888888888888,
             "#fdca26"
            ],
            [
             1,
             "#f0f921"
            ]
           ]
          },
          "colorway": [
           "#636efa",
           "#EF553B",
           "#00cc96",
           "#ab63fa",
           "#FFA15A",
           "#19d3f3",
           "#FF6692",
           "#B6E880",
           "#FF97FF",
           "#FECB52"
          ],
          "font": {
           "color": "#2a3f5f"
          },
          "geo": {
           "bgcolor": "white",
           "lakecolor": "white",
           "landcolor": "#E5ECF6",
           "showlakes": true,
           "showland": true,
           "subunitcolor": "white"
          },
          "hoverlabel": {
           "align": "left"
          },
          "hovermode": "closest",
          "mapbox": {
           "style": "light"
          },
          "paper_bgcolor": "white",
          "plot_bgcolor": "#E5ECF6",
          "polar": {
           "angularaxis": {
            "gridcolor": "white",
            "linecolor": "white",
            "ticks": ""
           },
           "bgcolor": "#E5ECF6",
           "radialaxis": {
            "gridcolor": "white",
            "linecolor": "white",
            "ticks": ""
           }
          },
          "scene": {
           "xaxis": {
            "backgroundcolor": "#E5ECF6",
            "gridcolor": "white",
            "gridwidth": 2,
            "linecolor": "white",
            "showbackground": true,
            "ticks": "",
            "zerolinecolor": "white"
           },
           "yaxis": {
            "backgroundcolor": "#E5ECF6",
            "gridcolor": "white",
            "gridwidth": 2,
            "linecolor": "white",
            "showbackground": true,
            "ticks": "",
            "zerolinecolor": "white"
           },
           "zaxis": {
            "backgroundcolor": "#E5ECF6",
            "gridcolor": "white",
            "gridwidth": 2,
            "linecolor": "white",
            "showbackground": true,
            "ticks": "",
            "zerolinecolor": "white"
           }
          },
          "shapedefaults": {
           "line": {
            "color": "#2a3f5f"
           }
          },
          "ternary": {
           "aaxis": {
            "gridcolor": "white",
            "linecolor": "white",
            "ticks": ""
           },
           "baxis": {
            "gridcolor": "white",
            "linecolor": "white",
            "ticks": ""
           },
           "bgcolor": "#E5ECF6",
           "caxis": {
            "gridcolor": "white",
            "linecolor": "white",
            "ticks": ""
           }
          },
          "title": {
           "x": 0.05
          },
          "xaxis": {
           "automargin": true,
           "gridcolor": "white",
           "linecolor": "white",
           "ticks": "",
           "title": {
            "standoff": 15
           },
           "zerolinecolor": "white",
           "zerolinewidth": 2
          },
          "yaxis": {
           "automargin": true,
           "gridcolor": "white",
           "linecolor": "white",
           "ticks": "",
           "title": {
            "standoff": 15
           },
           "zerolinecolor": "white",
           "zerolinewidth": 2
          }
         }
        },
        "title": {
         "text": "Distribution of Pinch Strength<br><sup>by Jerry Yu</sub>",
         "x": 0.5,
         "xanchor": "center",
         "yanchor": "top"
        },
        "xaxis": {
         "anchor": "y",
         "domain": [
          0,
          1
         ],
         "title": {
          "text": "Pinch"
         }
        },
        "yaxis": {
         "anchor": "x",
         "domain": [
          0,
          1
         ],
         "title": {
          "text": "count"
         }
        }
       }
      }
     },
     "metadata": {},
     "output_type": "display_data"
    }
   ],
   "source": [
    "# Graph Pinch\n",
    "pinchist = px.histogram(Chalk,x=\"Pinch\",\n",
    "                        title = \"Distribution of Pinch Strength\")\n",
    "pinchist.update_layout(\n",
    "    title = {\n",
    "        \"text\":\"Distribution of Pinch Strength<br><sup>by Jerry Yu</sub>\",\n",
    "        \"x\":0.5,\n",
    "        \"xanchor\":\"center\",\n",
    "        \"yanchor\":\"top\"\n",
    "    }\n",
    ")\n",
    "pinchist.show()\n",
    "# weird shape, good coverage, no noticable outliers"
   ]
  },
  {
   "cell_type": "code",
   "execution_count": 19,
   "metadata": {},
   "outputs": [
    {
     "data": {
      "application/vnd.plotly.v1+json": {
       "config": {
        "plotlyServerURL": "https://plot.ly"
       },
       "data": [
        {
         "alignmentgroup": "True",
         "bingroup": "x",
         "hovertemplate": "Pull=%{x}<br>count=%{y}<extra></extra>",
         "legendgroup": "",
         "marker": {
          "color": "#636efa",
          "pattern": {
           "shape": ""
          }
         },
         "name": "",
         "offsetgroup": "",
         "orientation": "v",
         "showlegend": false,
         "type": "histogram",
         "x": [
          34.6,
          31.9,
          31.9,
          41.1,
          44.5,
          45.7,
          7.2,
          9.5,
          8.5,
          30.6,
          26.1,
          27.5,
          44.6,
          37.5,
          40.1,
          45.1,
          49.1,
          44.2,
          23.5,
          22.6,
          25.4,
          63.9,
          61.7,
          76.3,
          40.5,
          38.7,
          42.7,
          41.5,
          42.5,
          44.5,
          8.4,
          8.3,
          9.5,
          35.5,
          26.4,
          27.1,
          50.6,
          43.6,
          41.7,
          51.7,
          39.1,
          47,
          56.5,
          52.6,
          49.6,
          5.7,
          7.4,
          6.5,
          29.4,
          33.8,
          23.6,
          42.5,
          43.7,
          46.5,
          46.2,
          56.5,
          47.5,
          12.7,
          9.1,
          11.4,
          74,
          83.3,
          75.1,
          77.5,
          68.5,
          67.5,
          55.4,
          46.3,
          48.5,
          8.8,
          12.5,
          10.7,
          24.2,
          25.1,
          19.6,
          14.8,
          15.7,
          17,
          38.1,
          37.9,
          38.4,
          36.5,
          36.1,
          35.5,
          51.6,
          46.4,
          47.1,
          39.6,
          39.7,
          37.1,
          35.1,
          33.7,
          31.7,
          51.1,
          53.3,
          46.5,
          3.6,
          5.3,
          5.2,
          23.7,
          24.5,
          25.5,
          19.4,
          21.1,
          18.7,
          45.3,
          46.6,
          35.4,
          15.4,
          14.6,
          16.7,
          71.1,
          81.5,
          89.2,
          25.1,
          22.6,
          22.4,
          61.6,
          70.5,
          67.1,
          6.1,
          5.3,
          9.1,
          49.2,
          47.6,
          44.6,
          21.5,
          25.1,
          26.6,
          17,
          12.5,
          18,
          7.5,
          5.1,
          8.5,
          13.9,
          15,
          12.2,
          54.1,
          61.1,
          64.3,
          45.7,
          29,
          34,
          15.4,
          14.7,
          15.1,
          36.4,
          42.8,
          46.3,
          8.9,
          11,
          7.2,
          36.2,
          45.7,
          47.6,
          71.5,
          75.2,
          64.3,
          69,
          65.4,
          54.4,
          30.7,
          32.1,
          31.4,
          52.7,
          55.7,
          47.6,
          51.1,
          55.5,
          50.7,
          70.7,
          75.4,
          66.3,
          13.6,
          13.2,
          13.6,
          66.7,
          74.1,
          69.5,
          7.1,
          7.7,
          4.2,
          34.2,
          37.6,
          29.3,
          35.4,
          37.4,
          35.7,
          52.7,
          43.2,
          46.6,
          61.8,
          47.3,
          46.6,
          6.2,
          5.4,
          4.9,
          14.2,
          14.2,
          15.1,
          51.5,
          55.3,
          56.7,
          34.1,
          36.3,
          30.1,
          59.3,
          54.1,
          64.7,
          49.3,
          30.5,
          35.5,
          26.6,
          24.5,
          19.2,
          52.2,
          45.2,
          46,
          27.4,
          26.6,
          44.6,
          4.4,
          3.2,
          7.1,
          16.7,
          14.2,
          16.4,
          42.5,
          46.7,
          44,
          44.4,
          47.2,
          45.1,
          17.2,
          16.5,
          17.2,
          20.9,
          25.5,
          26.1,
          5.4,
          8.3,
          6.2,
          28,
          31,
          27.2,
          15.5,
          16.3,
          15.7,
          25.7,
          26.1,
          25.4,
          24.4,
          24.8,
          31.8,
          2.5,
          5.7,
          5.7,
          10.6,
          11.5,
          10.5,
          23.5,
          27.2,
          31.1,
          25.7,
          21.5,
          22.2,
          55.9,
          50.5,
          51.7,
          39.1,
          37.9,
          35.6,
          34.1,
          37.3,
          36.5,
          25.9,
          27.3,
          24.1,
          48.1,
          35.4,
          35.5,
          7.1,
          9.1,
          7.7,
          35.5,
          28.3,
          33.7,
          65.5,
          73.3,
          77.3,
          51.4,
          54.9,
          52.6,
          8.9,
          14.4,
          13.5,
          22.1,
          28.2,
          29.4,
          10.4,
          6.6,
          12.2,
          30.1,
          33.5,
          34.9,
          17.7,
          15.3,
          17.1,
          19,
          19.2,
          26.1,
          44.7,
          50.7,
          47.5,
          44.7,
          41.1,
          51,
          5.5,
          8.1,
          6.7,
          22.4,
          26.2,
          22.2,
          37.7,
          33.6,
          33.6,
          31.4,
          33.5,
          34.4,
          5.1,
          7.1,
          6.4,
          13.8,
          14.3,
          15.6,
          37.1,
          36.4,
          40.5,
          53.2,
          57.4,
          54.6,
          3.3,
          3.2,
          3.2,
          35.7,
          42.5,
          37.1,
          37.4,
          29.7,
          35.2,
          10.7,
          10.7,
          9.2,
          56.7,
          57.7,
          60.7,
          61.2,
          59.6,
          67.4,
          11.2,
          11.1,
          11,
          35.3,
          33.5,
          28.9,
          52.5,
          57.2,
          47.9,
          34,
          25.4,
          25.9,
          42.2,
          35.2,
          32.2,
          12.2,
          19.6,
          20,
          24.6,
          17.5,
          15.2,
          35.1,
          33.5,
          31.2,
          3.7,
          5.7,
          7.5,
          26.7,
          30.2,
          28.1,
          44.5,
          46.1,
          44.7,
          15.5,
          16.5,
          17.8,
          1.5,
          2.7,
          5.8,
          24.2,
          20.5,
          25.2,
          45.1,
          54.5,
          50.1,
          7,
          7.4,
          8.4,
          30.9,
          30.3,
          28.7,
          34.6,
          35.7,
          33.7,
          33.3,
          31.1,
          32.7,
          32.3,
          39.2,
          31.7,
          39.5,
          41.5,
          32.6,
          15.7,
          15.5,
          17.7,
          35.9,
          34.2,
          36.6,
          14.4,
          15.7,
          19.7,
          22.7,
          16.8,
          22.5,
          7.9,
          9.3,
          10,
          13.5,
          14.5,
          16,
          55.5,
          65.1,
          54.5,
          11.1,
          9.4,
          12.7,
          37,
          34.5,
          41.6,
          29.4,
          22.3,
          27.3,
          46.1,
          36.7,
          37.2,
          6.2,
          7.4,
          6.2,
          31.9,
          35.4,
          39.6,
          18.7,
          15.2,
          17.1,
          50.9,
          57.3,
          57.7,
          47.9,
          45.7,
          51.5,
          14,
          17.4,
          22.2,
          22.3,
          21.1,
          23.5,
          11.4,
          10.3,
          10.5,
          4.7,
          2.4,
          5.1,
          3.1,
          5,
          5.7,
          59,
          59.1,
          55.3,
          9.7,
          7.6,
          6.6,
          13.6,
          15.3,
          17.4,
          8.9,
          8.1,
          9.4,
          49.6,
          57.7,
          55.4,
          9.7,
          16.5,
          14.4,
          27.4,
          25.1,
          29.2,
          27.7,
          28.6,
          27.1,
          42.7,
          39.5,
          43.1,
          71.5,
          82.3,
          77.2,
          35.3,
          42.8,
          44.3,
          51.9,
          55.7,
          48.7,
          3.5,
          2.5,
          2.2,
          17.7,
          21.6,
          15.7,
          31.2,
          25.2,
          23.4,
          43.1,
          41.2,
          46.7,
          7.6,
          3.4,
          7.5,
          25.3,
          30.6,
          25.2,
          16,
          14.7,
          22.7,
          24.1,
          21.4,
          22.7,
          42.5,
          64.5,
          57.7,
          82,
          70.1,
          71.3,
          57.5,
          64.1,
          63.1,
          30.4,
          30.7,
          31.1,
          49.5,
          45.1,
          45,
          21.2,
          25.4,
          29.6,
          25.3,
          24.7,
          25.1,
          27.1,
          23.6,
          24.4,
          51.2,
          45.3,
          45.4,
          31.4,
          32.8,
          31.1
         ],
         "xaxis": "x",
         "yaxis": "y"
        }
       ],
       "layout": {
        "barmode": "relative",
        "legend": {
         "tracegroupgap": 0
        },
        "template": {
         "data": {
          "bar": [
           {
            "error_x": {
             "color": "#2a3f5f"
            },
            "error_y": {
             "color": "#2a3f5f"
            },
            "marker": {
             "line": {
              "color": "#E5ECF6",
              "width": 0.5
             },
             "pattern": {
              "fillmode": "overlay",
              "size": 10,
              "solidity": 0.2
             }
            },
            "type": "bar"
           }
          ],
          "barpolar": [
           {
            "marker": {
             "line": {
              "color": "#E5ECF6",
              "width": 0.5
             },
             "pattern": {
              "fillmode": "overlay",
              "size": 10,
              "solidity": 0.2
             }
            },
            "type": "barpolar"
           }
          ],
          "carpet": [
           {
            "aaxis": {
             "endlinecolor": "#2a3f5f",
             "gridcolor": "white",
             "linecolor": "white",
             "minorgridcolor": "white",
             "startlinecolor": "#2a3f5f"
            },
            "baxis": {
             "endlinecolor": "#2a3f5f",
             "gridcolor": "white",
             "linecolor": "white",
             "minorgridcolor": "white",
             "startlinecolor": "#2a3f5f"
            },
            "type": "carpet"
           }
          ],
          "choropleth": [
           {
            "colorbar": {
             "outlinewidth": 0,
             "ticks": ""
            },
            "type": "choropleth"
           }
          ],
          "contour": [
           {
            "colorbar": {
             "outlinewidth": 0,
             "ticks": ""
            },
            "colorscale": [
             [
              0,
              "#0d0887"
             ],
             [
              0.1111111111111111,
              "#46039f"
             ],
             [
              0.2222222222222222,
              "#7201a8"
             ],
             [
              0.3333333333333333,
              "#9c179e"
             ],
             [
              0.4444444444444444,
              "#bd3786"
             ],
             [
              0.5555555555555556,
              "#d8576b"
             ],
             [
              0.6666666666666666,
              "#ed7953"
             ],
             [
              0.7777777777777778,
              "#fb9f3a"
             ],
             [
              0.8888888888888888,
              "#fdca26"
             ],
             [
              1,
              "#f0f921"
             ]
            ],
            "type": "contour"
           }
          ],
          "contourcarpet": [
           {
            "colorbar": {
             "outlinewidth": 0,
             "ticks": ""
            },
            "type": "contourcarpet"
           }
          ],
          "heatmap": [
           {
            "colorbar": {
             "outlinewidth": 0,
             "ticks": ""
            },
            "colorscale": [
             [
              0,
              "#0d0887"
             ],
             [
              0.1111111111111111,
              "#46039f"
             ],
             [
              0.2222222222222222,
              "#7201a8"
             ],
             [
              0.3333333333333333,
              "#9c179e"
             ],
             [
              0.4444444444444444,
              "#bd3786"
             ],
             [
              0.5555555555555556,
              "#d8576b"
             ],
             [
              0.6666666666666666,
              "#ed7953"
             ],
             [
              0.7777777777777778,
              "#fb9f3a"
             ],
             [
              0.8888888888888888,
              "#fdca26"
             ],
             [
              1,
              "#f0f921"
             ]
            ],
            "type": "heatmap"
           }
          ],
          "heatmapgl": [
           {
            "colorbar": {
             "outlinewidth": 0,
             "ticks": ""
            },
            "colorscale": [
             [
              0,
              "#0d0887"
             ],
             [
              0.1111111111111111,
              "#46039f"
             ],
             [
              0.2222222222222222,
              "#7201a8"
             ],
             [
              0.3333333333333333,
              "#9c179e"
             ],
             [
              0.4444444444444444,
              "#bd3786"
             ],
             [
              0.5555555555555556,
              "#d8576b"
             ],
             [
              0.6666666666666666,
              "#ed7953"
             ],
             [
              0.7777777777777778,
              "#fb9f3a"
             ],
             [
              0.8888888888888888,
              "#fdca26"
             ],
             [
              1,
              "#f0f921"
             ]
            ],
            "type": "heatmapgl"
           }
          ],
          "histogram": [
           {
            "marker": {
             "pattern": {
              "fillmode": "overlay",
              "size": 10,
              "solidity": 0.2
             }
            },
            "type": "histogram"
           }
          ],
          "histogram2d": [
           {
            "colorbar": {
             "outlinewidth": 0,
             "ticks": ""
            },
            "colorscale": [
             [
              0,
              "#0d0887"
             ],
             [
              0.1111111111111111,
              "#46039f"
             ],
             [
              0.2222222222222222,
              "#7201a8"
             ],
             [
              0.3333333333333333,
              "#9c179e"
             ],
             [
              0.4444444444444444,
              "#bd3786"
             ],
             [
              0.5555555555555556,
              "#d8576b"
             ],
             [
              0.6666666666666666,
              "#ed7953"
             ],
             [
              0.7777777777777778,
              "#fb9f3a"
             ],
             [
              0.8888888888888888,
              "#fdca26"
             ],
             [
              1,
              "#f0f921"
             ]
            ],
            "type": "histogram2d"
           }
          ],
          "histogram2dcontour": [
           {
            "colorbar": {
             "outlinewidth": 0,
             "ticks": ""
            },
            "colorscale": [
             [
              0,
              "#0d0887"
             ],
             [
              0.1111111111111111,
              "#46039f"
             ],
             [
              0.2222222222222222,
              "#7201a8"
             ],
             [
              0.3333333333333333,
              "#9c179e"
             ],
             [
              0.4444444444444444,
              "#bd3786"
             ],
             [
              0.5555555555555556,
              "#d8576b"
             ],
             [
              0.6666666666666666,
              "#ed7953"
             ],
             [
              0.7777777777777778,
              "#fb9f3a"
             ],
             [
              0.8888888888888888,
              "#fdca26"
             ],
             [
              1,
              "#f0f921"
             ]
            ],
            "type": "histogram2dcontour"
           }
          ],
          "mesh3d": [
           {
            "colorbar": {
             "outlinewidth": 0,
             "ticks": ""
            },
            "type": "mesh3d"
           }
          ],
          "parcoords": [
           {
            "line": {
             "colorbar": {
              "outlinewidth": 0,
              "ticks": ""
             }
            },
            "type": "parcoords"
           }
          ],
          "pie": [
           {
            "automargin": true,
            "type": "pie"
           }
          ],
          "scatter": [
           {
            "fillpattern": {
             "fillmode": "overlay",
             "size": 10,
             "solidity": 0.2
            },
            "type": "scatter"
           }
          ],
          "scatter3d": [
           {
            "line": {
             "colorbar": {
              "outlinewidth": 0,
              "ticks": ""
             }
            },
            "marker": {
             "colorbar": {
              "outlinewidth": 0,
              "ticks": ""
             }
            },
            "type": "scatter3d"
           }
          ],
          "scattercarpet": [
           {
            "marker": {
             "colorbar": {
              "outlinewidth": 0,
              "ticks": ""
             }
            },
            "type": "scattercarpet"
           }
          ],
          "scattergeo": [
           {
            "marker": {
             "colorbar": {
              "outlinewidth": 0,
              "ticks": ""
             }
            },
            "type": "scattergeo"
           }
          ],
          "scattergl": [
           {
            "marker": {
             "colorbar": {
              "outlinewidth": 0,
              "ticks": ""
             }
            },
            "type": "scattergl"
           }
          ],
          "scattermapbox": [
           {
            "marker": {
             "colorbar": {
              "outlinewidth": 0,
              "ticks": ""
             }
            },
            "type": "scattermapbox"
           }
          ],
          "scatterpolar": [
           {
            "marker": {
             "colorbar": {
              "outlinewidth": 0,
              "ticks": ""
             }
            },
            "type": "scatterpolar"
           }
          ],
          "scatterpolargl": [
           {
            "marker": {
             "colorbar": {
              "outlinewidth": 0,
              "ticks": ""
             }
            },
            "type": "scatterpolargl"
           }
          ],
          "scatterternary": [
           {
            "marker": {
             "colorbar": {
              "outlinewidth": 0,
              "ticks": ""
             }
            },
            "type": "scatterternary"
           }
          ],
          "surface": [
           {
            "colorbar": {
             "outlinewidth": 0,
             "ticks": ""
            },
            "colorscale": [
             [
              0,
              "#0d0887"
             ],
             [
              0.1111111111111111,
              "#46039f"
             ],
             [
              0.2222222222222222,
              "#7201a8"
             ],
             [
              0.3333333333333333,
              "#9c179e"
             ],
             [
              0.4444444444444444,
              "#bd3786"
             ],
             [
              0.5555555555555556,
              "#d8576b"
             ],
             [
              0.6666666666666666,
              "#ed7953"
             ],
             [
              0.7777777777777778,
              "#fb9f3a"
             ],
             [
              0.8888888888888888,
              "#fdca26"
             ],
             [
              1,
              "#f0f921"
             ]
            ],
            "type": "surface"
           }
          ],
          "table": [
           {
            "cells": {
             "fill": {
              "color": "#EBF0F8"
             },
             "line": {
              "color": "white"
             }
            },
            "header": {
             "fill": {
              "color": "#C8D4E3"
             },
             "line": {
              "color": "white"
             }
            },
            "type": "table"
           }
          ]
         },
         "layout": {
          "annotationdefaults": {
           "arrowcolor": "#2a3f5f",
           "arrowhead": 0,
           "arrowwidth": 1
          },
          "autotypenumbers": "strict",
          "coloraxis": {
           "colorbar": {
            "outlinewidth": 0,
            "ticks": ""
           }
          },
          "colorscale": {
           "diverging": [
            [
             0,
             "#8e0152"
            ],
            [
             0.1,
             "#c51b7d"
            ],
            [
             0.2,
             "#de77ae"
            ],
            [
             0.3,
             "#f1b6da"
            ],
            [
             0.4,
             "#fde0ef"
            ],
            [
             0.5,
             "#f7f7f7"
            ],
            [
             0.6,
             "#e6f5d0"
            ],
            [
             0.7,
             "#b8e186"
            ],
            [
             0.8,
             "#7fbc41"
            ],
            [
             0.9,
             "#4d9221"
            ],
            [
             1,
             "#276419"
            ]
           ],
           "sequential": [
            [
             0,
             "#0d0887"
            ],
            [
             0.1111111111111111,
             "#46039f"
            ],
            [
             0.2222222222222222,
             "#7201a8"
            ],
            [
             0.3333333333333333,
             "#9c179e"
            ],
            [
             0.4444444444444444,
             "#bd3786"
            ],
            [
             0.5555555555555556,
             "#d8576b"
            ],
            [
             0.6666666666666666,
             "#ed7953"
            ],
            [
             0.7777777777777778,
             "#fb9f3a"
            ],
            [
             0.8888888888888888,
             "#fdca26"
            ],
            [
             1,
             "#f0f921"
            ]
           ],
           "sequentialminus": [
            [
             0,
             "#0d0887"
            ],
            [
             0.1111111111111111,
             "#46039f"
            ],
            [
             0.2222222222222222,
             "#7201a8"
            ],
            [
             0.3333333333333333,
             "#9c179e"
            ],
            [
             0.4444444444444444,
             "#bd3786"
            ],
            [
             0.5555555555555556,
             "#d8576b"
            ],
            [
             0.6666666666666666,
             "#ed7953"
            ],
            [
             0.7777777777777778,
             "#fb9f3a"
            ],
            [
             0.8888888888888888,
             "#fdca26"
            ],
            [
             1,
             "#f0f921"
            ]
           ]
          },
          "colorway": [
           "#636efa",
           "#EF553B",
           "#00cc96",
           "#ab63fa",
           "#FFA15A",
           "#19d3f3",
           "#FF6692",
           "#B6E880",
           "#FF97FF",
           "#FECB52"
          ],
          "font": {
           "color": "#2a3f5f"
          },
          "geo": {
           "bgcolor": "white",
           "lakecolor": "white",
           "landcolor": "#E5ECF6",
           "showlakes": true,
           "showland": true,
           "subunitcolor": "white"
          },
          "hoverlabel": {
           "align": "left"
          },
          "hovermode": "closest",
          "mapbox": {
           "style": "light"
          },
          "paper_bgcolor": "white",
          "plot_bgcolor": "#E5ECF6",
          "polar": {
           "angularaxis": {
            "gridcolor": "white",
            "linecolor": "white",
            "ticks": ""
           },
           "bgcolor": "#E5ECF6",
           "radialaxis": {
            "gridcolor": "white",
            "linecolor": "white",
            "ticks": ""
           }
          },
          "scene": {
           "xaxis": {
            "backgroundcolor": "#E5ECF6",
            "gridcolor": "white",
            "gridwidth": 2,
            "linecolor": "white",
            "showbackground": true,
            "ticks": "",
            "zerolinecolor": "white"
           },
           "yaxis": {
            "backgroundcolor": "#E5ECF6",
            "gridcolor": "white",
            "gridwidth": 2,
            "linecolor": "white",
            "showbackground": true,
            "ticks": "",
            "zerolinecolor": "white"
           },
           "zaxis": {
            "backgroundcolor": "#E5ECF6",
            "gridcolor": "white",
            "gridwidth": 2,
            "linecolor": "white",
            "showbackground": true,
            "ticks": "",
            "zerolinecolor": "white"
           }
          },
          "shapedefaults": {
           "line": {
            "color": "#2a3f5f"
           }
          },
          "ternary": {
           "aaxis": {
            "gridcolor": "white",
            "linecolor": "white",
            "ticks": ""
           },
           "baxis": {
            "gridcolor": "white",
            "linecolor": "white",
            "ticks": ""
           },
           "bgcolor": "#E5ECF6",
           "caxis": {
            "gridcolor": "white",
            "linecolor": "white",
            "ticks": ""
           }
          },
          "title": {
           "x": 0.05
          },
          "xaxis": {
           "automargin": true,
           "gridcolor": "white",
           "linecolor": "white",
           "ticks": "",
           "title": {
            "standoff": 15
           },
           "zerolinecolor": "white",
           "zerolinewidth": 2
          },
          "yaxis": {
           "automargin": true,
           "gridcolor": "white",
           "linecolor": "white",
           "ticks": "",
           "title": {
            "standoff": 15
           },
           "zerolinecolor": "white",
           "zerolinewidth": 2
          }
         }
        },
        "title": {
         "text": "Distribution of Pull Strength<br><sup>by Jerry Yu</sub>",
         "x": 0.5,
         "xanchor": "center",
         "yanchor": "top"
        },
        "xaxis": {
         "anchor": "y",
         "domain": [
          0,
          1
         ],
         "title": {
          "text": "Pull"
         }
        },
        "yaxis": {
         "anchor": "x",
         "domain": [
          0,
          1
         ],
         "title": {
          "text": "count"
         }
        }
       }
      }
     },
     "metadata": {},
     "output_type": "display_data"
    }
   ],
   "source": [
    "# Graph Pull\n",
    "pullhist = px.histogram(Chalk,x=\"Pull\",\n",
    "                        title = \"Distribution of Pull Strength\")\n",
    "pullhist.update_layout(\n",
    "    title = {\n",
    "        \"text\":\"Distribution of Pull Strength<br><sup>by Jerry Yu</sub>\",\n",
    "        \"x\":0.5,\n",
    "        \"xanchor\":\"center\",\n",
    "        \"yanchor\":\"top\"\n",
    "    }\n",
    ")\n",
    "pullhist.show()\n",
    "#right tail, might need normalization"
   ]
  },
  {
   "cell_type": "code",
   "execution_count": 20,
   "metadata": {},
   "outputs": [
    {
     "data": {
      "application/vnd.plotly.v1+json": {
       "config": {
        "plotlyServerURL": "https://plot.ly"
       },
       "data": [
        {
         "hovertemplate": "Pinch=%{x}<br>Pull=%{y}<extra></extra>",
         "legendgroup": "",
         "marker": {
          "color": "#636efa",
          "symbol": "circle"
         },
         "mode": "markers",
         "name": "",
         "orientation": "v",
         "showlegend": false,
         "type": "scatter",
         "x": [
          4.202,
          4.117,
          4.154,
          4.088,
          4.088,
          4.086,
          1.099,
          1.319,
          1.198,
          3.124,
          2.808,
          3.077,
          4.088,
          4.223,
          4.125,
          4.888,
          5.356,
          4.838,
          2.086,
          2.054,
          2.08,
          5.989,
          6.064,
          5.883,
          4.483,
          4.088,
          4.528,
          5.233,
          5.382,
          5.1,
          1.284,
          1.322,
          1.408,
          3.938,
          3.298,
          3.238,
          5.105,
          5.372,
          5.201,
          5.587,
          5.055,
          4.991,
          5.898,
          5.899,
          5.881,
          1.176,
          1.292,
          1.044,
          3.121,
          3.289,
          2.966,
          4.104,
          4.18,
          4.453,
          4.212,
          4.349,
          3.792,
          1.167,
          1.018,
          1.018,
          6.039,
          7.126,
          6.407,
          5.492,
          5.703,
          5.342,
          6.309,
          5.813,
          6.138,
          1.093,
          1.188,
          1.036,
          2.597,
          2.419,
          2.058,
          1.949,
          1.908,
          2.209,
          3.36,
          3.326,
          2.999,
          3.886,
          4.549,
          4.078,
          5.96,
          5.5,
          6.198,
          5.289,
          5.472,
          5.066,
          3.129,
          2.847,
          3.072,
          6.683,
          6.046,
          5.699,
          1.275,
          1.135,
          1.288,
          2.188,
          1.998,
          1.997,
          2.129,
          2.179,
          1.952,
          3.762,
          3.399,
          3.316,
          2.347,
          2.129,
          2.104,
          6.221,
          6.262,
          6.878,
          3.572,
          3.189,
          3.258,
          5.061,
          5.334,
          4.947,
          1.198,
          1.098,
          1.303,
          4.047,
          4.096,
          4.116,
          2.998,
          3.089,
          3.088,
          2.342,
          2.078,
          2.217,
          1.098,
          1.054,
          1.141,
          2.061,
          2.078,
          1.983,
          5.738,
          5.692,
          6.088,
          4.989,
          4.294,
          4.288,
          2.198,
          2.101,
          2.192,
          4.158,
          4.389,
          4.388,
          1.002,
          0.938,
          1.088,
          5.309,
          5.069,
          5.22,
          6.007,
          6.038,
          6.308,
          5.16,
          4.887,
          5.108,
          3.053,
          2.83,
          2.899,
          6.498,
          6.602,
          6.225,
          6.398,
          5.969,
          5.608,
          7.243,
          7.389,
          6.914,
          2.098,
          2.198,
          2.278,
          6.091,
          5.988,
          6.074,
          1.278,
          1.238,
          1.068,
          3.946,
          4.473,
          3.938,
          3.915,
          4.057,
          3.99,
          4.304,
          4.239,
          4.224,
          6.033,
          5.337,
          4.987,
          1.157,
          1.073,
          1.097,
          2.288,
          2.234,
          2.169,
          4.889,
          4.582,
          4.718,
          2.829,
          3.138,
          3.191,
          5.587,
          5.934,
          7.216,
          4.766,
          3.788,
          4.012,
          3.546,
          3.148,
          2.798,
          5.928,
          6.093,
          5.843,
          3.564,
          3.055,
          4.039,
          1.034,
          1.037,
          1.019,
          2.098,
          2.048,
          2.033,
          3.638,
          3.889,
          3.762,
          5.492,
          5.447,
          5.139,
          2.006,
          2.088,
          2.023,
          1.988,
          2.049,
          2.114,
          1.082,
          1.093,
          0.979,
          4.072,
          4.208,
          4.196,
          2.096,
          2.015,
          2.022,
          3.08,
          3.1,
          3.098,
          3.218,
          3.363,
          3.388,
          1.085,
          1.053,
          0.947,
          1.217,
          1.1,
          1.176,
          4.149,
          4.162,
          4.449,
          2.139,
          2.022,
          2.019,
          6.309,
          6.009,
          6.087,
          5.66,
          5.291,
          4.898,
          3.013,
          3.176,
          3.315,
          3.218,
          3.044,
          3.306,
          5.581,
          5.039,
          4.893,
          1.309,
          1.463,
          1.19,
          5.29,
          5.038,
          5.275,
          6,
          5.859,
          6.143,
          4.919,
          4.909,
          5.048,
          2.194,
          2.199,
          2.065,
          3.22,
          3.214,
          3.215,
          2.351,
          2.096,
          2.206,
          4.387,
          4.095,
          4.247,
          2.218,
          2.138,
          2.079,
          3.247,
          3.152,
          3.253,
          5.998,
          5.993,
          6.048,
          4.997,
          4.589,
          5.384,
          1.219,
          1.308,
          1.249,
          3.211,
          3.458,
          3.187,
          4.446,
          4.258,
          4.172,
          3.209,
          3.284,
          2.88,
          1.042,
          1.221,
          1.033,
          2.29,
          1.96,
          2.059,
          4.793,
          4.767,
          4.958,
          6.087,
          6.636,
          5.872,
          1.149,
          0.989,
          1.059,
          4.496,
          4.491,
          4.019,
          3.648,
          3.189,
          3.573,
          1.089,
          1.102,
          1.02,
          6.493,
          5.989,
          5.998,
          6.685,
          6.172,
          6.276,
          1.207,
          1.063,
          1.184,
          5.287,
          4.886,
          4.949,
          6.935,
          6.741,
          6.158,
          3.988,
          4.123,
          4.333,
          5.061,
          5.191,
          5.094,
          2.178,
          2.089,
          2.183,
          1.97,
          2.188,
          2.048,
          5.267,
          5.326,
          5.636,
          1.038,
          1,
          1.192,
          3.209,
          3.138,
          3.406,
          5.783,
          6.108,
          5.898,
          2.413,
          2.199,
          2.28,
          1.033,
          1.082,
          1.048,
          4.109,
          3.899,
          4.251,
          4.988,
          4.964,
          5.069,
          1.523,
          1.238,
          1.369,
          5.189,
          5.086,
          5.098,
          4.088,
          3.898,
          3.859,
          2.868,
          2.898,
          3.092,
          5.999,
          5.966,
          6.031,
          4.332,
          4.089,
          3.988,
          3.098,
          2.892,
          3.21,
          4.106,
          3.838,
          4.188,
          2.298,
          1.898,
          2.183,
          3.048,
          2.888,
          2.688,
          1.289,
          1.389,
          1.208,
          2.089,
          2.008,
          2.133,
          5.336,
          5.599,
          5.579,
          2.208,
          2.098,
          2.08,
          4.282,
          4.094,
          3.899,
          3.322,
          3.092,
          3.298,
          6.558,
          6.199,
          6.343,
          1.196,
          1.36,
          1.198,
          4.888,
          4.979,
          5.217,
          2.098,
          1.983,
          2.207,
          5.998,
          6.203,
          6.387,
          5.972,
          5.666,
          5.869,
          2.041,
          2.22,
          2.212,
          3.292,
          3.088,
          3.088,
          1.139,
          1.098,
          1.231,
          1.147,
          1.115,
          1.279,
          0.988,
          1.219,
          0.972,
          5.097,
          4.964,
          4.787,
          1.268,
          1.061,
          1.279,
          2.077,
          1.992,
          2.164,
          2.217,
          2.187,
          1.898,
          4.463,
          4.066,
          3.676,
          3.077,
          3.161,
          3.186,
          4.06,
          3.962,
          4.099,
          4.28,
          4.335,
          4.388,
          2.947,
          3.278,
          3.298,
          5.744,
          5.826,
          6.173,
          3.276,
          3.127,
          3.326,
          6.168,
          6.75,
          6.096,
          1.359,
          1.1,
          1.081,
          2.381,
          2.442,
          2.075,
          4.996,
          4.988,
          4.979,
          5.978,
          6.124,
          6.493,
          1.311,
          1.218,
          1.446,
          4.153,
          4.088,
          4.304,
          2.992,
          3.31,
          3.338,
          3.103,
          3.155,
          3.048,
          4.24,
          4.979,
          4.612,
          6.888,
          6.32,
          6.549,
          6.028,
          6.484,
          6.203,
          4.877,
          4.938,
          5.168,
          5.026,
          4.899,
          5.306,
          2.015,
          2.372,
          2.625,
          4.083,
          4.143,
          4.252,
          4.288,
          3.91,
          4.38,
          5.117,
          5.098,
          4.878,
          5.198,
          5.624,
          5.274
         ],
         "xaxis": "x",
         "y": [
          34.6,
          31.9,
          31.9,
          41.1,
          44.5,
          45.7,
          7.2,
          9.5,
          8.5,
          30.6,
          26.1,
          27.5,
          44.6,
          37.5,
          40.1,
          45.1,
          49.1,
          44.2,
          23.5,
          22.6,
          25.4,
          63.9,
          61.7,
          76.3,
          40.5,
          38.7,
          42.7,
          41.5,
          42.5,
          44.5,
          8.4,
          8.3,
          9.5,
          35.5,
          26.4,
          27.1,
          50.6,
          43.6,
          41.7,
          51.7,
          39.1,
          47,
          56.5,
          52.6,
          49.6,
          5.7,
          7.4,
          6.5,
          29.4,
          33.8,
          23.6,
          42.5,
          43.7,
          46.5,
          46.2,
          56.5,
          47.5,
          12.7,
          9.1,
          11.4,
          74,
          83.3,
          75.1,
          77.5,
          68.5,
          67.5,
          55.4,
          46.3,
          48.5,
          8.8,
          12.5,
          10.7,
          24.2,
          25.1,
          19.6,
          14.8,
          15.7,
          17,
          38.1,
          37.9,
          38.4,
          36.5,
          36.1,
          35.5,
          51.6,
          46.4,
          47.1,
          39.6,
          39.7,
          37.1,
          35.1,
          33.7,
          31.7,
          51.1,
          53.3,
          46.5,
          3.6,
          5.3,
          5.2,
          23.7,
          24.5,
          25.5,
          19.4,
          21.1,
          18.7,
          45.3,
          46.6,
          35.4,
          15.4,
          14.6,
          16.7,
          71.1,
          81.5,
          89.2,
          25.1,
          22.6,
          22.4,
          61.6,
          70.5,
          67.1,
          6.1,
          5.3,
          9.1,
          49.2,
          47.6,
          44.6,
          21.5,
          25.1,
          26.6,
          17,
          12.5,
          18,
          7.5,
          5.1,
          8.5,
          13.9,
          15,
          12.2,
          54.1,
          61.1,
          64.3,
          45.7,
          29,
          34,
          15.4,
          14.7,
          15.1,
          36.4,
          42.8,
          46.3,
          8.9,
          11,
          7.2,
          36.2,
          45.7,
          47.6,
          71.5,
          75.2,
          64.3,
          69,
          65.4,
          54.4,
          30.7,
          32.1,
          31.4,
          52.7,
          55.7,
          47.6,
          51.1,
          55.5,
          50.7,
          70.7,
          75.4,
          66.3,
          13.6,
          13.2,
          13.6,
          66.7,
          74.1,
          69.5,
          7.1,
          7.7,
          4.2,
          34.2,
          37.6,
          29.3,
          35.4,
          37.4,
          35.7,
          52.7,
          43.2,
          46.6,
          61.8,
          47.3,
          46.6,
          6.2,
          5.4,
          4.9,
          14.2,
          14.2,
          15.1,
          51.5,
          55.3,
          56.7,
          34.1,
          36.3,
          30.1,
          59.3,
          54.1,
          64.7,
          49.3,
          30.5,
          35.5,
          26.6,
          24.5,
          19.2,
          52.2,
          45.2,
          46,
          27.4,
          26.6,
          44.6,
          4.4,
          3.2,
          7.1,
          16.7,
          14.2,
          16.4,
          42.5,
          46.7,
          44,
          44.4,
          47.2,
          45.1,
          17.2,
          16.5,
          17.2,
          20.9,
          25.5,
          26.1,
          5.4,
          8.3,
          6.2,
          28,
          31,
          27.2,
          15.5,
          16.3,
          15.7,
          25.7,
          26.1,
          25.4,
          24.4,
          24.8,
          31.8,
          2.5,
          5.7,
          5.7,
          10.6,
          11.5,
          10.5,
          23.5,
          27.2,
          31.1,
          25.7,
          21.5,
          22.2,
          55.9,
          50.5,
          51.7,
          39.1,
          37.9,
          35.6,
          34.1,
          37.3,
          36.5,
          25.9,
          27.3,
          24.1,
          48.1,
          35.4,
          35.5,
          7.1,
          9.1,
          7.7,
          35.5,
          28.3,
          33.7,
          65.5,
          73.3,
          77.3,
          51.4,
          54.9,
          52.6,
          8.9,
          14.4,
          13.5,
          22.1,
          28.2,
          29.4,
          10.4,
          6.6,
          12.2,
          30.1,
          33.5,
          34.9,
          17.7,
          15.3,
          17.1,
          19,
          19.2,
          26.1,
          44.7,
          50.7,
          47.5,
          44.7,
          41.1,
          51,
          5.5,
          8.1,
          6.7,
          22.4,
          26.2,
          22.2,
          37.7,
          33.6,
          33.6,
          31.4,
          33.5,
          34.4,
          5.1,
          7.1,
          6.4,
          13.8,
          14.3,
          15.6,
          37.1,
          36.4,
          40.5,
          53.2,
          57.4,
          54.6,
          3.3,
          3.2,
          3.2,
          35.7,
          42.5,
          37.1,
          37.4,
          29.7,
          35.2,
          10.7,
          10.7,
          9.2,
          56.7,
          57.7,
          60.7,
          61.2,
          59.6,
          67.4,
          11.2,
          11.1,
          11,
          35.3,
          33.5,
          28.9,
          52.5,
          57.2,
          47.9,
          34,
          25.4,
          25.9,
          42.2,
          35.2,
          32.2,
          12.2,
          19.6,
          20,
          24.6,
          17.5,
          15.2,
          35.1,
          33.5,
          31.2,
          3.7,
          5.7,
          7.5,
          26.7,
          30.2,
          28.1,
          44.5,
          46.1,
          44.7,
          15.5,
          16.5,
          17.8,
          1.5,
          2.7,
          5.8,
          24.2,
          20.5,
          25.2,
          45.1,
          54.5,
          50.1,
          7,
          7.4,
          8.4,
          30.9,
          30.3,
          28.7,
          34.6,
          35.7,
          33.7,
          33.3,
          31.1,
          32.7,
          32.3,
          39.2,
          31.7,
          39.5,
          41.5,
          32.6,
          15.7,
          15.5,
          17.7,
          35.9,
          34.2,
          36.6,
          14.4,
          15.7,
          19.7,
          22.7,
          16.8,
          22.5,
          7.9,
          9.3,
          10,
          13.5,
          14.5,
          16,
          55.5,
          65.1,
          54.5,
          11.1,
          9.4,
          12.7,
          37,
          34.5,
          41.6,
          29.4,
          22.3,
          27.3,
          46.1,
          36.7,
          37.2,
          6.2,
          7.4,
          6.2,
          31.9,
          35.4,
          39.6,
          18.7,
          15.2,
          17.1,
          50.9,
          57.3,
          57.7,
          47.9,
          45.7,
          51.5,
          14,
          17.4,
          22.2,
          22.3,
          21.1,
          23.5,
          11.4,
          10.3,
          10.5,
          4.7,
          2.4,
          5.1,
          3.1,
          5,
          5.7,
          59,
          59.1,
          55.3,
          9.7,
          7.6,
          6.6,
          13.6,
          15.3,
          17.4,
          8.9,
          8.1,
          9.4,
          49.6,
          57.7,
          55.4,
          9.7,
          16.5,
          14.4,
          27.4,
          25.1,
          29.2,
          27.7,
          28.6,
          27.1,
          42.7,
          39.5,
          43.1,
          71.5,
          82.3,
          77.2,
          35.3,
          42.8,
          44.3,
          51.9,
          55.7,
          48.7,
          3.5,
          2.5,
          2.2,
          17.7,
          21.6,
          15.7,
          31.2,
          25.2,
          23.4,
          43.1,
          41.2,
          46.7,
          7.6,
          3.4,
          7.5,
          25.3,
          30.6,
          25.2,
          16,
          14.7,
          22.7,
          24.1,
          21.4,
          22.7,
          42.5,
          64.5,
          57.7,
          82,
          70.1,
          71.3,
          57.5,
          64.1,
          63.1,
          30.4,
          30.7,
          31.1,
          49.5,
          45.1,
          45,
          21.2,
          25.4,
          29.6,
          25.3,
          24.7,
          25.1,
          27.1,
          23.6,
          24.4,
          51.2,
          45.3,
          45.4,
          31.4,
          32.8,
          31.1
         ],
         "yaxis": "y"
        }
       ],
       "layout": {
        "legend": {
         "tracegroupgap": 0
        },
        "template": {
         "data": {
          "bar": [
           {
            "error_x": {
             "color": "#2a3f5f"
            },
            "error_y": {
             "color": "#2a3f5f"
            },
            "marker": {
             "line": {
              "color": "#E5ECF6",
              "width": 0.5
             },
             "pattern": {
              "fillmode": "overlay",
              "size": 10,
              "solidity": 0.2
             }
            },
            "type": "bar"
           }
          ],
          "barpolar": [
           {
            "marker": {
             "line": {
              "color": "#E5ECF6",
              "width": 0.5
             },
             "pattern": {
              "fillmode": "overlay",
              "size": 10,
              "solidity": 0.2
             }
            },
            "type": "barpolar"
           }
          ],
          "carpet": [
           {
            "aaxis": {
             "endlinecolor": "#2a3f5f",
             "gridcolor": "white",
             "linecolor": "white",
             "minorgridcolor": "white",
             "startlinecolor": "#2a3f5f"
            },
            "baxis": {
             "endlinecolor": "#2a3f5f",
             "gridcolor": "white",
             "linecolor": "white",
             "minorgridcolor": "white",
             "startlinecolor": "#2a3f5f"
            },
            "type": "carpet"
           }
          ],
          "choropleth": [
           {
            "colorbar": {
             "outlinewidth": 0,
             "ticks": ""
            },
            "type": "choropleth"
           }
          ],
          "contour": [
           {
            "colorbar": {
             "outlinewidth": 0,
             "ticks": ""
            },
            "colorscale": [
             [
              0,
              "#0d0887"
             ],
             [
              0.1111111111111111,
              "#46039f"
             ],
             [
              0.2222222222222222,
              "#7201a8"
             ],
             [
              0.3333333333333333,
              "#9c179e"
             ],
             [
              0.4444444444444444,
              "#bd3786"
             ],
             [
              0.5555555555555556,
              "#d8576b"
             ],
             [
              0.6666666666666666,
              "#ed7953"
             ],
             [
              0.7777777777777778,
              "#fb9f3a"
             ],
             [
              0.8888888888888888,
              "#fdca26"
             ],
             [
              1,
              "#f0f921"
             ]
            ],
            "type": "contour"
           }
          ],
          "contourcarpet": [
           {
            "colorbar": {
             "outlinewidth": 0,
             "ticks": ""
            },
            "type": "contourcarpet"
           }
          ],
          "heatmap": [
           {
            "colorbar": {
             "outlinewidth": 0,
             "ticks": ""
            },
            "colorscale": [
             [
              0,
              "#0d0887"
             ],
             [
              0.1111111111111111,
              "#46039f"
             ],
             [
              0.2222222222222222,
              "#7201a8"
             ],
             [
              0.3333333333333333,
              "#9c179e"
             ],
             [
              0.4444444444444444,
              "#bd3786"
             ],
             [
              0.5555555555555556,
              "#d8576b"
             ],
             [
              0.6666666666666666,
              "#ed7953"
             ],
             [
              0.7777777777777778,
              "#fb9f3a"
             ],
             [
              0.8888888888888888,
              "#fdca26"
             ],
             [
              1,
              "#f0f921"
             ]
            ],
            "type": "heatmap"
           }
          ],
          "heatmapgl": [
           {
            "colorbar": {
             "outlinewidth": 0,
             "ticks": ""
            },
            "colorscale": [
             [
              0,
              "#0d0887"
             ],
             [
              0.1111111111111111,
              "#46039f"
             ],
             [
              0.2222222222222222,
              "#7201a8"
             ],
             [
              0.3333333333333333,
              "#9c179e"
             ],
             [
              0.4444444444444444,
              "#bd3786"
             ],
             [
              0.5555555555555556,
              "#d8576b"
             ],
             [
              0.6666666666666666,
              "#ed7953"
             ],
             [
              0.7777777777777778,
              "#fb9f3a"
             ],
             [
              0.8888888888888888,
              "#fdca26"
             ],
             [
              1,
              "#f0f921"
             ]
            ],
            "type": "heatmapgl"
           }
          ],
          "histogram": [
           {
            "marker": {
             "pattern": {
              "fillmode": "overlay",
              "size": 10,
              "solidity": 0.2
             }
            },
            "type": "histogram"
           }
          ],
          "histogram2d": [
           {
            "colorbar": {
             "outlinewidth": 0,
             "ticks": ""
            },
            "colorscale": [
             [
              0,
              "#0d0887"
             ],
             [
              0.1111111111111111,
              "#46039f"
             ],
             [
              0.2222222222222222,
              "#7201a8"
             ],
             [
              0.3333333333333333,
              "#9c179e"
             ],
             [
              0.4444444444444444,
              "#bd3786"
             ],
             [
              0.5555555555555556,
              "#d8576b"
             ],
             [
              0.6666666666666666,
              "#ed7953"
             ],
             [
              0.7777777777777778,
              "#fb9f3a"
             ],
             [
              0.8888888888888888,
              "#fdca26"
             ],
             [
              1,
              "#f0f921"
             ]
            ],
            "type": "histogram2d"
           }
          ],
          "histogram2dcontour": [
           {
            "colorbar": {
             "outlinewidth": 0,
             "ticks": ""
            },
            "colorscale": [
             [
              0,
              "#0d0887"
             ],
             [
              0.1111111111111111,
              "#46039f"
             ],
             [
              0.2222222222222222,
              "#7201a8"
             ],
             [
              0.3333333333333333,
              "#9c179e"
             ],
             [
              0.4444444444444444,
              "#bd3786"
             ],
             [
              0.5555555555555556,
              "#d8576b"
             ],
             [
              0.6666666666666666,
              "#ed7953"
             ],
             [
              0.7777777777777778,
              "#fb9f3a"
             ],
             [
              0.8888888888888888,
              "#fdca26"
             ],
             [
              1,
              "#f0f921"
             ]
            ],
            "type": "histogram2dcontour"
           }
          ],
          "mesh3d": [
           {
            "colorbar": {
             "outlinewidth": 0,
             "ticks": ""
            },
            "type": "mesh3d"
           }
          ],
          "parcoords": [
           {
            "line": {
             "colorbar": {
              "outlinewidth": 0,
              "ticks": ""
             }
            },
            "type": "parcoords"
           }
          ],
          "pie": [
           {
            "automargin": true,
            "type": "pie"
           }
          ],
          "scatter": [
           {
            "fillpattern": {
             "fillmode": "overlay",
             "size": 10,
             "solidity": 0.2
            },
            "type": "scatter"
           }
          ],
          "scatter3d": [
           {
            "line": {
             "colorbar": {
              "outlinewidth": 0,
              "ticks": ""
             }
            },
            "marker": {
             "colorbar": {
              "outlinewidth": 0,
              "ticks": ""
             }
            },
            "type": "scatter3d"
           }
          ],
          "scattercarpet": [
           {
            "marker": {
             "colorbar": {
              "outlinewidth": 0,
              "ticks": ""
             }
            },
            "type": "scattercarpet"
           }
          ],
          "scattergeo": [
           {
            "marker": {
             "colorbar": {
              "outlinewidth": 0,
              "ticks": ""
             }
            },
            "type": "scattergeo"
           }
          ],
          "scattergl": [
           {
            "marker": {
             "colorbar": {
              "outlinewidth": 0,
              "ticks": ""
             }
            },
            "type": "scattergl"
           }
          ],
          "scattermapbox": [
           {
            "marker": {
             "colorbar": {
              "outlinewidth": 0,
              "ticks": ""
             }
            },
            "type": "scattermapbox"
           }
          ],
          "scatterpolar": [
           {
            "marker": {
             "colorbar": {
              "outlinewidth": 0,
              "ticks": ""
             }
            },
            "type": "scatterpolar"
           }
          ],
          "scatterpolargl": [
           {
            "marker": {
             "colorbar": {
              "outlinewidth": 0,
              "ticks": ""
             }
            },
            "type": "scatterpolargl"
           }
          ],
          "scatterternary": [
           {
            "marker": {
             "colorbar": {
              "outlinewidth": 0,
              "ticks": ""
             }
            },
            "type": "scatterternary"
           }
          ],
          "surface": [
           {
            "colorbar": {
             "outlinewidth": 0,
             "ticks": ""
            },
            "colorscale": [
             [
              0,
              "#0d0887"
             ],
             [
              0.1111111111111111,
              "#46039f"
             ],
             [
              0.2222222222222222,
              "#7201a8"
             ],
             [
              0.3333333333333333,
              "#9c179e"
             ],
             [
              0.4444444444444444,
              "#bd3786"
             ],
             [
              0.5555555555555556,
              "#d8576b"
             ],
             [
              0.6666666666666666,
              "#ed7953"
             ],
             [
              0.7777777777777778,
              "#fb9f3a"
             ],
             [
              0.8888888888888888,
              "#fdca26"
             ],
             [
              1,
              "#f0f921"
             ]
            ],
            "type": "surface"
           }
          ],
          "table": [
           {
            "cells": {
             "fill": {
              "color": "#EBF0F8"
             },
             "line": {
              "color": "white"
             }
            },
            "header": {
             "fill": {
              "color": "#C8D4E3"
             },
             "line": {
              "color": "white"
             }
            },
            "type": "table"
           }
          ]
         },
         "layout": {
          "annotationdefaults": {
           "arrowcolor": "#2a3f5f",
           "arrowhead": 0,
           "arrowwidth": 1
          },
          "autotypenumbers": "strict",
          "coloraxis": {
           "colorbar": {
            "outlinewidth": 0,
            "ticks": ""
           }
          },
          "colorscale": {
           "diverging": [
            [
             0,
             "#8e0152"
            ],
            [
             0.1,
             "#c51b7d"
            ],
            [
             0.2,
             "#de77ae"
            ],
            [
             0.3,
             "#f1b6da"
            ],
            [
             0.4,
             "#fde0ef"
            ],
            [
             0.5,
             "#f7f7f7"
            ],
            [
             0.6,
             "#e6f5d0"
            ],
            [
             0.7,
             "#b8e186"
            ],
            [
             0.8,
             "#7fbc41"
            ],
            [
             0.9,
             "#4d9221"
            ],
            [
             1,
             "#276419"
            ]
           ],
           "sequential": [
            [
             0,
             "#0d0887"
            ],
            [
             0.1111111111111111,
             "#46039f"
            ],
            [
             0.2222222222222222,
             "#7201a8"
            ],
            [
             0.3333333333333333,
             "#9c179e"
            ],
            [
             0.4444444444444444,
             "#bd3786"
            ],
            [
             0.5555555555555556,
             "#d8576b"
            ],
            [
             0.6666666666666666,
             "#ed7953"
            ],
            [
             0.7777777777777778,
             "#fb9f3a"
            ],
            [
             0.8888888888888888,
             "#fdca26"
            ],
            [
             1,
             "#f0f921"
            ]
           ],
           "sequentialminus": [
            [
             0,
             "#0d0887"
            ],
            [
             0.1111111111111111,
             "#46039f"
            ],
            [
             0.2222222222222222,
             "#7201a8"
            ],
            [
             0.3333333333333333,
             "#9c179e"
            ],
            [
             0.4444444444444444,
             "#bd3786"
            ],
            [
             0.5555555555555556,
             "#d8576b"
            ],
            [
             0.6666666666666666,
             "#ed7953"
            ],
            [
             0.7777777777777778,
             "#fb9f3a"
            ],
            [
             0.8888888888888888,
             "#fdca26"
            ],
            [
             1,
             "#f0f921"
            ]
           ]
          },
          "colorway": [
           "#636efa",
           "#EF553B",
           "#00cc96",
           "#ab63fa",
           "#FFA15A",
           "#19d3f3",
           "#FF6692",
           "#B6E880",
           "#FF97FF",
           "#FECB52"
          ],
          "font": {
           "color": "#2a3f5f"
          },
          "geo": {
           "bgcolor": "white",
           "lakecolor": "white",
           "landcolor": "#E5ECF6",
           "showlakes": true,
           "showland": true,
           "subunitcolor": "white"
          },
          "hoverlabel": {
           "align": "left"
          },
          "hovermode": "closest",
          "mapbox": {
           "style": "light"
          },
          "paper_bgcolor": "white",
          "plot_bgcolor": "#E5ECF6",
          "polar": {
           "angularaxis": {
            "gridcolor": "white",
            "linecolor": "white",
            "ticks": ""
           },
           "bgcolor": "#E5ECF6",
           "radialaxis": {
            "gridcolor": "white",
            "linecolor": "white",
            "ticks": ""
           }
          },
          "scene": {
           "xaxis": {
            "backgroundcolor": "#E5ECF6",
            "gridcolor": "white",
            "gridwidth": 2,
            "linecolor": "white",
            "showbackground": true,
            "ticks": "",
            "zerolinecolor": "white"
           },
           "yaxis": {
            "backgroundcolor": "#E5ECF6",
            "gridcolor": "white",
            "gridwidth": 2,
            "linecolor": "white",
            "showbackground": true,
            "ticks": "",
            "zerolinecolor": "white"
           },
           "zaxis": {
            "backgroundcolor": "#E5ECF6",
            "gridcolor": "white",
            "gridwidth": 2,
            "linecolor": "white",
            "showbackground": true,
            "ticks": "",
            "zerolinecolor": "white"
           }
          },
          "shapedefaults": {
           "line": {
            "color": "#2a3f5f"
           }
          },
          "ternary": {
           "aaxis": {
            "gridcolor": "white",
            "linecolor": "white",
            "ticks": ""
           },
           "baxis": {
            "gridcolor": "white",
            "linecolor": "white",
            "ticks": ""
           },
           "bgcolor": "#E5ECF6",
           "caxis": {
            "gridcolor": "white",
            "linecolor": "white",
            "ticks": ""
           }
          },
          "title": {
           "x": 0.05
          },
          "xaxis": {
           "automargin": true,
           "gridcolor": "white",
           "linecolor": "white",
           "ticks": "",
           "title": {
            "standoff": 15
           },
           "zerolinecolor": "white",
           "zerolinewidth": 2
          },
          "yaxis": {
           "automargin": true,
           "gridcolor": "white",
           "linecolor": "white",
           "ticks": "",
           "title": {
            "standoff": 15
           },
           "zerolinecolor": "white",
           "zerolinewidth": 2
          }
         }
        },
        "title": {
         "text": "Kilograms Pulled by pinch Strength<br><sup>by Jerry Yu</sub>",
         "x": 0.5,
         "xanchor": "center",
         "yanchor": "top"
        },
        "xaxis": {
         "anchor": "y",
         "domain": [
          0,
          1
         ],
         "title": {
          "text": "Pinch"
         }
        },
        "yaxis": {
         "anchor": "x",
         "domain": [
          0,
          1
         ],
         "title": {
          "text": "Pull"
         }
        }
       }
      }
     },
     "metadata": {},
     "output_type": "display_data"
    }
   ],
   "source": [
    "# Now Graph Relation Between Pinch and Pull\n",
    "pinchpull = px.scatter(Chalk, x = \"Pinch\", y = \"Pull\",title = \"Kilograms Pulled by pinch Strength\")\n",
    "pinchpull.update_layout(\n",
    "    title = {\n",
    "        \"text\":\"Kilograms Pulled by pinch Strength<br><sup>by Jerry Yu</sub>\",\n",
    "        \"x\":0.5,\n",
    "        \"xanchor\":\"center\",\n",
    "        \"yanchor\":\"top\"\n",
    "    }\n",
    ")\n",
    "pinchpull.show()\n",
    "\n",
    "#nice and Linear, but maybe not homoscedastic"
   ]
  },
  {
   "cell_type": "code",
   "execution_count": 21,
   "metadata": {},
   "outputs": [
    {
     "data": {
      "application/vnd.plotly.v1+json": {
       "config": {
        "plotlyServerURL": "https://plot.ly"
       },
       "data": [
        {
         "hovertemplate": "Chalk=None<br>Pinch=%{x}<br>Pull=%{y}<extra></extra>",
         "legendgroup": "None",
         "marker": {
          "color": "#636efa",
          "symbol": "circle"
         },
         "mode": "markers",
         "name": "None",
         "orientation": "v",
         "showlegend": true,
         "type": "scatter",
         "x": [
          4.202,
          4.117,
          4.154,
          5.233,
          5.382,
          5.1,
          1.284,
          1.322,
          1.408,
          3.938,
          3.298,
          3.238,
          5.105,
          5.372,
          5.201,
          5.587,
          5.055,
          4.991,
          5.898,
          5.899,
          5.881,
          3.121,
          3.289,
          2.966,
          4.212,
          4.349,
          3.792,
          6.309,
          5.813,
          6.138,
          2.597,
          2.419,
          2.058,
          1.949,
          1.908,
          2.209,
          3.886,
          4.549,
          4.078,
          5.96,
          5.5,
          6.198,
          5.289,
          5.472,
          5.066,
          6.683,
          6.046,
          5.699,
          1.275,
          1.135,
          1.288,
          2.347,
          2.129,
          2.104,
          3.572,
          3.189,
          3.258,
          1.198,
          1.098,
          1.303,
          2.998,
          3.089,
          3.088,
          2.342,
          2.078,
          2.217,
          1.098,
          1.054,
          1.141,
          4.989,
          4.294,
          4.288,
          2.198,
          2.101,
          2.192,
          5.309,
          5.069,
          5.22,
          3.053,
          2.83,
          2.899,
          6.498,
          6.602,
          6.225,
          6.398,
          5.969,
          5.608,
          2.098,
          2.198,
          2.278,
          1.278,
          1.238,
          1.068,
          3.946,
          4.473,
          3.938,
          3.915,
          4.057,
          3.99,
          2.288,
          2.234,
          2.169,
          3.546,
          3.148,
          2.798,
          5.928,
          6.093,
          5.843,
          3.564,
          3.055,
          4.039,
          1.034,
          1.037,
          1.019,
          2.098,
          2.048,
          2.033,
          5.492,
          5.447,
          5.139,
          4.072,
          4.208,
          4.196,
          1.085,
          1.053,
          0.947,
          4.149,
          4.162,
          4.449,
          6.309,
          6.009,
          6.087,
          5.66,
          5.291,
          4.898,
          3.218,
          3.044,
          3.306,
          1.309,
          1.463,
          1.19,
          5.29,
          5.038,
          5.275,
          2.194,
          2.199,
          2.065,
          2.351,
          2.096,
          2.206,
          3.247,
          3.152,
          3.253,
          5.998,
          5.993,
          6.048,
          1.219,
          1.308,
          1.249,
          3.211,
          3.458,
          3.187,
          4.446,
          4.258,
          4.172,
          2.29,
          1.96,
          2.059,
          4.793,
          4.767,
          4.958,
          1.149,
          0.989,
          1.059,
          5.287,
          4.886,
          4.949,
          6.935,
          6.741,
          6.158,
          3.988,
          4.123,
          4.333,
          5.267,
          5.326,
          5.636,
          3.209,
          3.138,
          3.406,
          5.783,
          6.108,
          5.898,
          2.413,
          2.199,
          2.28,
          1.033,
          1.082,
          1.048,
          4.109,
          3.899,
          4.251,
          1.523,
          1.238,
          1.369,
          5.189,
          5.086,
          5.098,
          4.088,
          3.898,
          3.859,
          5.999,
          5.966,
          6.031,
          3.098,
          2.892,
          3.21,
          1.289,
          1.389,
          1.208,
          2.089,
          2.008,
          2.133,
          2.208,
          2.098,
          2.08,
          3.322,
          3.092,
          3.298,
          6.558,
          6.199,
          6.343,
          1.196,
          1.36,
          1.198,
          4.888,
          4.979,
          5.217,
          2.098,
          1.983,
          2.207,
          5.972,
          5.666,
          5.869,
          3.292,
          3.088,
          3.088,
          2.217,
          2.187,
          1.898,
          3.077,
          3.161,
          3.186,
          4.28,
          4.335,
          4.388,
          6.168,
          6.75,
          6.096,
          1.359,
          1.1,
          1.081,
          4.996,
          4.988,
          4.979,
          5.978,
          6.124,
          6.493,
          1.311,
          1.218,
          1.446,
          4.153,
          4.088,
          4.304,
          2.992,
          3.31,
          3.338,
          4.877,
          4.938,
          5.168,
          4.083,
          4.143,
          4.252,
          4.288,
          3.91,
          4.38,
          5.198,
          5.624,
          5.274
         ],
         "xaxis": "x",
         "y": [
          34.6,
          31.9,
          31.9,
          41.5,
          42.5,
          44.5,
          8.4,
          8.3,
          9.5,
          35.5,
          26.4,
          27.1,
          50.6,
          43.6,
          41.7,
          51.7,
          39.1,
          47,
          56.5,
          52.6,
          49.6,
          29.4,
          33.8,
          23.6,
          46.2,
          56.5,
          47.5,
          55.4,
          46.3,
          48.5,
          24.2,
          25.1,
          19.6,
          14.8,
          15.7,
          17,
          36.5,
          36.1,
          35.5,
          51.6,
          46.4,
          47.1,
          39.6,
          39.7,
          37.1,
          51.1,
          53.3,
          46.5,
          3.6,
          5.3,
          5.2,
          15.4,
          14.6,
          16.7,
          25.1,
          22.6,
          22.4,
          6.1,
          5.3,
          9.1,
          21.5,
          25.1,
          26.6,
          17,
          12.5,
          18,
          7.5,
          5.1,
          8.5,
          45.7,
          29,
          34,
          15.4,
          14.7,
          15.1,
          36.2,
          45.7,
          47.6,
          30.7,
          32.1,
          31.4,
          52.7,
          55.7,
          47.6,
          51.1,
          55.5,
          50.7,
          13.6,
          13.2,
          13.6,
          7.1,
          7.7,
          4.2,
          34.2,
          37.6,
          29.3,
          35.4,
          37.4,
          35.7,
          14.2,
          14.2,
          15.1,
          26.6,
          24.5,
          19.2,
          52.2,
          45.2,
          46,
          27.4,
          26.6,
          44.6,
          4.4,
          3.2,
          7.1,
          16.7,
          14.2,
          16.4,
          44.4,
          47.2,
          45.1,
          28,
          31,
          27.2,
          2.5,
          5.7,
          5.7,
          23.5,
          27.2,
          31.1,
          55.9,
          50.5,
          51.7,
          39.1,
          37.9,
          35.6,
          25.9,
          27.3,
          24.1,
          7.1,
          9.1,
          7.7,
          35.5,
          28.3,
          33.7,
          8.9,
          14.4,
          13.5,
          10.4,
          6.6,
          12.2,
          19,
          19.2,
          26.1,
          44.7,
          50.7,
          47.5,
          5.5,
          8.1,
          6.7,
          22.4,
          26.2,
          22.2,
          37.7,
          33.6,
          33.6,
          13.8,
          14.3,
          15.6,
          37.1,
          36.4,
          40.5,
          3.3,
          3.2,
          3.2,
          35.3,
          33.5,
          28.9,
          52.5,
          57.2,
          47.9,
          34,
          25.4,
          25.9,
          35.1,
          33.5,
          31.2,
          26.7,
          30.2,
          28.1,
          44.5,
          46.1,
          44.7,
          15.5,
          16.5,
          17.8,
          1.5,
          2.7,
          5.8,
          24.2,
          20.5,
          25.2,
          7,
          7.4,
          8.4,
          30.9,
          30.3,
          28.7,
          34.6,
          35.7,
          33.7,
          32.3,
          39.2,
          31.7,
          15.7,
          15.5,
          17.7,
          7.9,
          9.3,
          10,
          13.5,
          14.5,
          16,
          11.1,
          9.4,
          12.7,
          29.4,
          22.3,
          27.3,
          46.1,
          36.7,
          37.2,
          6.2,
          7.4,
          6.2,
          31.9,
          35.4,
          39.6,
          18.7,
          15.2,
          17.1,
          47.9,
          45.7,
          51.5,
          22.3,
          21.1,
          23.5,
          8.9,
          8.1,
          9.4,
          9.7,
          16.5,
          14.4,
          27.7,
          28.6,
          27.1,
          51.9,
          55.7,
          48.7,
          3.5,
          2.5,
          2.2,
          31.2,
          25.2,
          23.4,
          43.1,
          41.2,
          46.7,
          7.6,
          3.4,
          7.5,
          25.3,
          30.6,
          25.2,
          16,
          14.7,
          22.7,
          30.4,
          30.7,
          31.1,
          25.3,
          24.7,
          25.1,
          27.1,
          23.6,
          24.4,
          31.4,
          32.8,
          31.1
         ],
         "yaxis": "y"
        },
        {
         "hovertemplate": "Chalk=FL<br>Pinch=%{x}<br>Pull=%{y}<extra></extra>",
         "legendgroup": "FL",
         "marker": {
          "color": "#EF553B",
          "symbol": "circle"
         },
         "mode": "markers",
         "name": "FL",
         "orientation": "v",
         "showlegend": true,
         "type": "scatter",
         "x": [
          4.088,
          4.088,
          4.086,
          1.099,
          1.319,
          1.198,
          3.124,
          2.808,
          3.077,
          4.088,
          4.223,
          4.125,
          4.888,
          5.356,
          4.838,
          2.086,
          2.054,
          2.08,
          5.989,
          6.064,
          5.883,
          4.483,
          4.088,
          4.528,
          1.176,
          1.292,
          1.044,
          4.104,
          4.18,
          4.453,
          1.167,
          1.018,
          1.018,
          6.039,
          7.126,
          6.407,
          5.492,
          5.703,
          5.342,
          1.093,
          1.188,
          1.036,
          3.36,
          3.326,
          2.999,
          3.129,
          2.847,
          3.072,
          2.188,
          1.998,
          1.997,
          2.129,
          2.179,
          1.952,
          3.762,
          3.399,
          3.316,
          6.221,
          6.262,
          6.878,
          5.061,
          5.334,
          4.947,
          4.047,
          4.096,
          4.116,
          2.061,
          2.078,
          1.983,
          5.738,
          5.692,
          6.088
         ],
         "xaxis": "x",
         "y": [
          41.1,
          44.5,
          45.7,
          7.2,
          9.5,
          8.5,
          30.6,
          26.1,
          27.5,
          44.6,
          37.5,
          40.1,
          45.1,
          49.1,
          44.2,
          23.5,
          22.6,
          25.4,
          63.9,
          61.7,
          76.3,
          40.5,
          38.7,
          42.7,
          5.7,
          7.4,
          6.5,
          42.5,
          43.7,
          46.5,
          12.7,
          9.1,
          11.4,
          74,
          83.3,
          75.1,
          77.5,
          68.5,
          67.5,
          8.8,
          12.5,
          10.7,
          38.1,
          37.9,
          38.4,
          35.1,
          33.7,
          31.7,
          23.7,
          24.5,
          25.5,
          19.4,
          21.1,
          18.7,
          45.3,
          46.6,
          35.4,
          71.1,
          81.5,
          89.2,
          61.6,
          70.5,
          67.1,
          49.2,
          47.6,
          44.6,
          13.9,
          15,
          12.2,
          54.1,
          61.1,
          64.3
         ],
         "yaxis": "y"
        },
        {
         "hovertemplate": "Chalk=Metolius<br>Pinch=%{x}<br>Pull=%{y}<extra></extra>",
         "legendgroup": "Metolius",
         "marker": {
          "color": "#00cc96",
          "symbol": "circle"
         },
         "mode": "markers",
         "name": "Metolius",
         "orientation": "v",
         "showlegend": true,
         "type": "scatter",
         "x": [
          4.158,
          4.389,
          4.388,
          1.002,
          0.938,
          1.088,
          6.007,
          6.038,
          6.308,
          5.16,
          4.887,
          5.108,
          7.243,
          7.389,
          6.914,
          6.091,
          5.988,
          6.074,
          4.304,
          4.239,
          4.224,
          6.033,
          5.337,
          4.987,
          1.157,
          1.073,
          1.097,
          4.889,
          4.582,
          4.718,
          2.829,
          3.138,
          3.191,
          5.587,
          5.934,
          7.216,
          4.766,
          3.788,
          4.012,
          3.638,
          3.889,
          3.762,
          2.006,
          2.088,
          2.023,
          1.988,
          2.049,
          2.114,
          1.082,
          1.093,
          0.979,
          2.096,
          2.015,
          2.022,
          3.08,
          3.1,
          3.098,
          3.218,
          3.363,
          3.388,
          1.217,
          1.1,
          1.176,
          2.139,
          2.022,
          2.019,
          3.013,
          3.176,
          3.315,
          5.581,
          5.039,
          4.893
         ],
         "xaxis": "x",
         "y": [
          36.4,
          42.8,
          46.3,
          8.9,
          11,
          7.2,
          71.5,
          75.2,
          64.3,
          69,
          65.4,
          54.4,
          70.7,
          75.4,
          66.3,
          66.7,
          74.1,
          69.5,
          52.7,
          43.2,
          46.6,
          61.8,
          47.3,
          46.6,
          6.2,
          5.4,
          4.9,
          51.5,
          55.3,
          56.7,
          34.1,
          36.3,
          30.1,
          59.3,
          54.1,
          64.7,
          49.3,
          30.5,
          35.5,
          42.5,
          46.7,
          44,
          17.2,
          16.5,
          17.2,
          20.9,
          25.5,
          26.1,
          5.4,
          8.3,
          6.2,
          15.5,
          16.3,
          15.7,
          25.7,
          26.1,
          25.4,
          24.4,
          24.8,
          31.8,
          10.6,
          11.5,
          10.5,
          25.7,
          21.5,
          22.2,
          34.1,
          37.3,
          36.5,
          48.1,
          35.4,
          35.5
         ],
         "yaxis": "y"
        },
        {
         "hovertemplate": "Chalk=Magdust<br>Pinch=%{x}<br>Pull=%{y}<extra></extra>",
         "legendgroup": "Magdust",
         "marker": {
          "color": "#ab63fa",
          "symbol": "circle"
         },
         "mode": "markers",
         "name": "Magdust",
         "orientation": "v",
         "showlegend": true,
         "type": "scatter",
         "x": [
          6,
          5.859,
          6.143,
          4.919,
          4.909,
          5.048,
          3.22,
          3.214,
          3.215,
          4.387,
          4.095,
          4.247,
          2.218,
          2.138,
          2.079,
          4.997,
          4.589,
          5.384,
          3.209,
          3.284,
          2.88,
          1.042,
          1.221,
          1.033,
          6.087,
          6.636,
          5.872,
          4.496,
          4.491,
          4.019,
          3.648,
          3.189,
          3.573,
          1.089,
          1.102,
          1.02,
          6.493,
          5.989,
          5.998,
          6.685,
          6.172,
          6.276,
          1.207,
          1.063,
          1.184,
          5.061,
          5.191,
          5.094,
          2.178,
          2.089,
          2.183,
          1.97,
          2.188,
          2.048,
          1.038,
          1,
          1.192,
          4.988,
          4.964,
          5.069,
          2.868,
          2.898,
          3.092,
          4.332,
          4.089,
          3.988,
          4.106,
          3.838,
          4.188,
          2.298,
          1.898,
          2.183
         ],
         "xaxis": "x",
         "y": [
          65.5,
          73.3,
          77.3,
          51.4,
          54.9,
          52.6,
          22.1,
          28.2,
          29.4,
          30.1,
          33.5,
          34.9,
          17.7,
          15.3,
          17.1,
          44.7,
          41.1,
          51,
          31.4,
          33.5,
          34.4,
          5.1,
          7.1,
          6.4,
          53.2,
          57.4,
          54.6,
          35.7,
          42.5,
          37.1,
          37.4,
          29.7,
          35.2,
          10.7,
          10.7,
          9.2,
          56.7,
          57.7,
          60.7,
          61.2,
          59.6,
          67.4,
          11.2,
          11.1,
          11,
          42.2,
          35.2,
          32.2,
          12.2,
          19.6,
          20,
          24.6,
          17.5,
          15.2,
          3.7,
          5.7,
          7.5,
          45.1,
          54.5,
          50.1,
          33.3,
          31.1,
          32.7,
          39.5,
          41.5,
          32.6,
          35.9,
          34.2,
          36.6,
          14.4,
          15.7,
          19.7
         ],
         "yaxis": "y"
        },
        {
         "hovertemplate": "Chalk=Ethan<br>Pinch=%{x}<br>Pull=%{y}<extra></extra>",
         "legendgroup": "Ethan",
         "marker": {
          "color": "#FFA15A",
          "symbol": "circle"
         },
         "mode": "markers",
         "name": "Ethan",
         "orientation": "v",
         "showlegend": true,
         "type": "scatter",
         "x": [
          3.048,
          2.888,
          2.688,
          5.336,
          5.599,
          5.579,
          4.282,
          4.094,
          3.899,
          5.998,
          6.203,
          6.387,
          2.041,
          2.22,
          2.212,
          1.139,
          1.098,
          1.231,
          1.147,
          1.115,
          1.279,
          0.988,
          1.219,
          0.972,
          5.097,
          4.964,
          4.787,
          1.268,
          1.061,
          1.279,
          2.077,
          1.992,
          2.164,
          4.463,
          4.066,
          3.676,
          4.06,
          3.962,
          4.099,
          2.947,
          3.278,
          3.298,
          5.744,
          5.826,
          6.173,
          3.276,
          3.127,
          3.326,
          2.381,
          2.442,
          2.075,
          3.103,
          3.155,
          3.048,
          4.24,
          4.979,
          4.612,
          6.888,
          6.32,
          6.549,
          6.028,
          6.484,
          6.203,
          5.026,
          4.899,
          5.306,
          2.015,
          2.372,
          2.625,
          5.117,
          5.098,
          4.878
         ],
         "xaxis": "x",
         "y": [
          22.7,
          16.8,
          22.5,
          55.5,
          65.1,
          54.5,
          37,
          34.5,
          41.6,
          50.9,
          57.3,
          57.7,
          14,
          17.4,
          22.2,
          11.4,
          10.3,
          10.5,
          4.7,
          2.4,
          5.1,
          3.1,
          5,
          5.7,
          59,
          59.1,
          55.3,
          9.7,
          7.6,
          6.6,
          13.6,
          15.3,
          17.4,
          49.6,
          57.7,
          55.4,
          27.4,
          25.1,
          29.2,
          42.7,
          39.5,
          43.1,
          71.5,
          82.3,
          77.2,
          35.3,
          42.8,
          44.3,
          17.7,
          21.6,
          15.7,
          24.1,
          21.4,
          22.7,
          42.5,
          64.5,
          57.7,
          82,
          70.1,
          71.3,
          57.5,
          64.1,
          63.1,
          49.5,
          45.1,
          45,
          21.2,
          25.4,
          29.6,
          51.2,
          45.3,
          45.4
         ],
         "yaxis": "y"
        }
       ],
       "layout": {
        "legend": {
         "title": {
          "text": "Chalk"
         },
         "tracegroupgap": 0
        },
        "template": {
         "data": {
          "bar": [
           {
            "error_x": {
             "color": "#2a3f5f"
            },
            "error_y": {
             "color": "#2a3f5f"
            },
            "marker": {
             "line": {
              "color": "#E5ECF6",
              "width": 0.5
             },
             "pattern": {
              "fillmode": "overlay",
              "size": 10,
              "solidity": 0.2
             }
            },
            "type": "bar"
           }
          ],
          "barpolar": [
           {
            "marker": {
             "line": {
              "color": "#E5ECF6",
              "width": 0.5
             },
             "pattern": {
              "fillmode": "overlay",
              "size": 10,
              "solidity": 0.2
             }
            },
            "type": "barpolar"
           }
          ],
          "carpet": [
           {
            "aaxis": {
             "endlinecolor": "#2a3f5f",
             "gridcolor": "white",
             "linecolor": "white",
             "minorgridcolor": "white",
             "startlinecolor": "#2a3f5f"
            },
            "baxis": {
             "endlinecolor": "#2a3f5f",
             "gridcolor": "white",
             "linecolor": "white",
             "minorgridcolor": "white",
             "startlinecolor": "#2a3f5f"
            },
            "type": "carpet"
           }
          ],
          "choropleth": [
           {
            "colorbar": {
             "outlinewidth": 0,
             "ticks": ""
            },
            "type": "choropleth"
           }
          ],
          "contour": [
           {
            "colorbar": {
             "outlinewidth": 0,
             "ticks": ""
            },
            "colorscale": [
             [
              0,
              "#0d0887"
             ],
             [
              0.1111111111111111,
              "#46039f"
             ],
             [
              0.2222222222222222,
              "#7201a8"
             ],
             [
              0.3333333333333333,
              "#9c179e"
             ],
             [
              0.4444444444444444,
              "#bd3786"
             ],
             [
              0.5555555555555556,
              "#d8576b"
             ],
             [
              0.6666666666666666,
              "#ed7953"
             ],
             [
              0.7777777777777778,
              "#fb9f3a"
             ],
             [
              0.8888888888888888,
              "#fdca26"
             ],
             [
              1,
              "#f0f921"
             ]
            ],
            "type": "contour"
           }
          ],
          "contourcarpet": [
           {
            "colorbar": {
             "outlinewidth": 0,
             "ticks": ""
            },
            "type": "contourcarpet"
           }
          ],
          "heatmap": [
           {
            "colorbar": {
             "outlinewidth": 0,
             "ticks": ""
            },
            "colorscale": [
             [
              0,
              "#0d0887"
             ],
             [
              0.1111111111111111,
              "#46039f"
             ],
             [
              0.2222222222222222,
              "#7201a8"
             ],
             [
              0.3333333333333333,
              "#9c179e"
             ],
             [
              0.4444444444444444,
              "#bd3786"
             ],
             [
              0.5555555555555556,
              "#d8576b"
             ],
             [
              0.6666666666666666,
              "#ed7953"
             ],
             [
              0.7777777777777778,
              "#fb9f3a"
             ],
             [
              0.8888888888888888,
              "#fdca26"
             ],
             [
              1,
              "#f0f921"
             ]
            ],
            "type": "heatmap"
           }
          ],
          "heatmapgl": [
           {
            "colorbar": {
             "outlinewidth": 0,
             "ticks": ""
            },
            "colorscale": [
             [
              0,
              "#0d0887"
             ],
             [
              0.1111111111111111,
              "#46039f"
             ],
             [
              0.2222222222222222,
              "#7201a8"
             ],
             [
              0.3333333333333333,
              "#9c179e"
             ],
             [
              0.4444444444444444,
              "#bd3786"
             ],
             [
              0.5555555555555556,
              "#d8576b"
             ],
             [
              0.6666666666666666,
              "#ed7953"
             ],
             [
              0.7777777777777778,
              "#fb9f3a"
             ],
             [
              0.8888888888888888,
              "#fdca26"
             ],
             [
              1,
              "#f0f921"
             ]
            ],
            "type": "heatmapgl"
           }
          ],
          "histogram": [
           {
            "marker": {
             "pattern": {
              "fillmode": "overlay",
              "size": 10,
              "solidity": 0.2
             }
            },
            "type": "histogram"
           }
          ],
          "histogram2d": [
           {
            "colorbar": {
             "outlinewidth": 0,
             "ticks": ""
            },
            "colorscale": [
             [
              0,
              "#0d0887"
             ],
             [
              0.1111111111111111,
              "#46039f"
             ],
             [
              0.2222222222222222,
              "#7201a8"
             ],
             [
              0.3333333333333333,
              "#9c179e"
             ],
             [
              0.4444444444444444,
              "#bd3786"
             ],
             [
              0.5555555555555556,
              "#d8576b"
             ],
             [
              0.6666666666666666,
              "#ed7953"
             ],
             [
              0.7777777777777778,
              "#fb9f3a"
             ],
             [
              0.8888888888888888,
              "#fdca26"
             ],
             [
              1,
              "#f0f921"
             ]
            ],
            "type": "histogram2d"
           }
          ],
          "histogram2dcontour": [
           {
            "colorbar": {
             "outlinewidth": 0,
             "ticks": ""
            },
            "colorscale": [
             [
              0,
              "#0d0887"
             ],
             [
              0.1111111111111111,
              "#46039f"
             ],
             [
              0.2222222222222222,
              "#7201a8"
             ],
             [
              0.3333333333333333,
              "#9c179e"
             ],
             [
              0.4444444444444444,
              "#bd3786"
             ],
             [
              0.5555555555555556,
              "#d8576b"
             ],
             [
              0.6666666666666666,
              "#ed7953"
             ],
             [
              0.7777777777777778,
              "#fb9f3a"
             ],
             [
              0.8888888888888888,
              "#fdca26"
             ],
             [
              1,
              "#f0f921"
             ]
            ],
            "type": "histogram2dcontour"
           }
          ],
          "mesh3d": [
           {
            "colorbar": {
             "outlinewidth": 0,
             "ticks": ""
            },
            "type": "mesh3d"
           }
          ],
          "parcoords": [
           {
            "line": {
             "colorbar": {
              "outlinewidth": 0,
              "ticks": ""
             }
            },
            "type": "parcoords"
           }
          ],
          "pie": [
           {
            "automargin": true,
            "type": "pie"
           }
          ],
          "scatter": [
           {
            "fillpattern": {
             "fillmode": "overlay",
             "size": 10,
             "solidity": 0.2
            },
            "type": "scatter"
           }
          ],
          "scatter3d": [
           {
            "line": {
             "colorbar": {
              "outlinewidth": 0,
              "ticks": ""
             }
            },
            "marker": {
             "colorbar": {
              "outlinewidth": 0,
              "ticks": ""
             }
            },
            "type": "scatter3d"
           }
          ],
          "scattercarpet": [
           {
            "marker": {
             "colorbar": {
              "outlinewidth": 0,
              "ticks": ""
             }
            },
            "type": "scattercarpet"
           }
          ],
          "scattergeo": [
           {
            "marker": {
             "colorbar": {
              "outlinewidth": 0,
              "ticks": ""
             }
            },
            "type": "scattergeo"
           }
          ],
          "scattergl": [
           {
            "marker": {
             "colorbar": {
              "outlinewidth": 0,
              "ticks": ""
             }
            },
            "type": "scattergl"
           }
          ],
          "scattermapbox": [
           {
            "marker": {
             "colorbar": {
              "outlinewidth": 0,
              "ticks": ""
             }
            },
            "type": "scattermapbox"
           }
          ],
          "scatterpolar": [
           {
            "marker": {
             "colorbar": {
              "outlinewidth": 0,
              "ticks": ""
             }
            },
            "type": "scatterpolar"
           }
          ],
          "scatterpolargl": [
           {
            "marker": {
             "colorbar": {
              "outlinewidth": 0,
              "ticks": ""
             }
            },
            "type": "scatterpolargl"
           }
          ],
          "scatterternary": [
           {
            "marker": {
             "colorbar": {
              "outlinewidth": 0,
              "ticks": ""
             }
            },
            "type": "scatterternary"
           }
          ],
          "surface": [
           {
            "colorbar": {
             "outlinewidth": 0,
             "ticks": ""
            },
            "colorscale": [
             [
              0,
              "#0d0887"
             ],
             [
              0.1111111111111111,
              "#46039f"
             ],
             [
              0.2222222222222222,
              "#7201a8"
             ],
             [
              0.3333333333333333,
              "#9c179e"
             ],
             [
              0.4444444444444444,
              "#bd3786"
             ],
             [
              0.5555555555555556,
              "#d8576b"
             ],
             [
              0.6666666666666666,
              "#ed7953"
             ],
             [
              0.7777777777777778,
              "#fb9f3a"
             ],
             [
              0.8888888888888888,
              "#fdca26"
             ],
             [
              1,
              "#f0f921"
             ]
            ],
            "type": "surface"
           }
          ],
          "table": [
           {
            "cells": {
             "fill": {
              "color": "#EBF0F8"
             },
             "line": {
              "color": "white"
             }
            },
            "header": {
             "fill": {
              "color": "#C8D4E3"
             },
             "line": {
              "color": "white"
             }
            },
            "type": "table"
           }
          ]
         },
         "layout": {
          "annotationdefaults": {
           "arrowcolor": "#2a3f5f",
           "arrowhead": 0,
           "arrowwidth": 1
          },
          "autotypenumbers": "strict",
          "coloraxis": {
           "colorbar": {
            "outlinewidth": 0,
            "ticks": ""
           }
          },
          "colorscale": {
           "diverging": [
            [
             0,
             "#8e0152"
            ],
            [
             0.1,
             "#c51b7d"
            ],
            [
             0.2,
             "#de77ae"
            ],
            [
             0.3,
             "#f1b6da"
            ],
            [
             0.4,
             "#fde0ef"
            ],
            [
             0.5,
             "#f7f7f7"
            ],
            [
             0.6,
             "#e6f5d0"
            ],
            [
             0.7,
             "#b8e186"
            ],
            [
             0.8,
             "#7fbc41"
            ],
            [
             0.9,
             "#4d9221"
            ],
            [
             1,
             "#276419"
            ]
           ],
           "sequential": [
            [
             0,
             "#0d0887"
            ],
            [
             0.1111111111111111,
             "#46039f"
            ],
            [
             0.2222222222222222,
             "#7201a8"
            ],
            [
             0.3333333333333333,
             "#9c179e"
            ],
            [
             0.4444444444444444,
             "#bd3786"
            ],
            [
             0.5555555555555556,
             "#d8576b"
            ],
            [
             0.6666666666666666,
             "#ed7953"
            ],
            [
             0.7777777777777778,
             "#fb9f3a"
            ],
            [
             0.8888888888888888,
             "#fdca26"
            ],
            [
             1,
             "#f0f921"
            ]
           ],
           "sequentialminus": [
            [
             0,
             "#0d0887"
            ],
            [
             0.1111111111111111,
             "#46039f"
            ],
            [
             0.2222222222222222,
             "#7201a8"
            ],
            [
             0.3333333333333333,
             "#9c179e"
            ],
            [
             0.4444444444444444,
             "#bd3786"
            ],
            [
             0.5555555555555556,
             "#d8576b"
            ],
            [
             0.6666666666666666,
             "#ed7953"
            ],
            [
             0.7777777777777778,
             "#fb9f3a"
            ],
            [
             0.8888888888888888,
             "#fdca26"
            ],
            [
             1,
             "#f0f921"
            ]
           ]
          },
          "colorway": [
           "#636efa",
           "#EF553B",
           "#00cc96",
           "#ab63fa",
           "#FFA15A",
           "#19d3f3",
           "#FF6692",
           "#B6E880",
           "#FF97FF",
           "#FECB52"
          ],
          "font": {
           "color": "#2a3f5f"
          },
          "geo": {
           "bgcolor": "white",
           "lakecolor": "white",
           "landcolor": "#E5ECF6",
           "showlakes": true,
           "showland": true,
           "subunitcolor": "white"
          },
          "hoverlabel": {
           "align": "left"
          },
          "hovermode": "closest",
          "mapbox": {
           "style": "light"
          },
          "paper_bgcolor": "white",
          "plot_bgcolor": "#E5ECF6",
          "polar": {
           "angularaxis": {
            "gridcolor": "white",
            "linecolor": "white",
            "ticks": ""
           },
           "bgcolor": "#E5ECF6",
           "radialaxis": {
            "gridcolor": "white",
            "linecolor": "white",
            "ticks": ""
           }
          },
          "scene": {
           "xaxis": {
            "backgroundcolor": "#E5ECF6",
            "gridcolor": "white",
            "gridwidth": 2,
            "linecolor": "white",
            "showbackground": true,
            "ticks": "",
            "zerolinecolor": "white"
           },
           "yaxis": {
            "backgroundcolor": "#E5ECF6",
            "gridcolor": "white",
            "gridwidth": 2,
            "linecolor": "white",
            "showbackground": true,
            "ticks": "",
            "zerolinecolor": "white"
           },
           "zaxis": {
            "backgroundcolor": "#E5ECF6",
            "gridcolor": "white",
            "gridwidth": 2,
            "linecolor": "white",
            "showbackground": true,
            "ticks": "",
            "zerolinecolor": "white"
           }
          },
          "shapedefaults": {
           "line": {
            "color": "#2a3f5f"
           }
          },
          "ternary": {
           "aaxis": {
            "gridcolor": "white",
            "linecolor": "white",
            "ticks": ""
           },
           "baxis": {
            "gridcolor": "white",
            "linecolor": "white",
            "ticks": ""
           },
           "bgcolor": "#E5ECF6",
           "caxis": {
            "gridcolor": "white",
            "linecolor": "white",
            "ticks": ""
           }
          },
          "title": {
           "x": 0.05
          },
          "xaxis": {
           "automargin": true,
           "gridcolor": "white",
           "linecolor": "white",
           "ticks": "",
           "title": {
            "standoff": 15
           },
           "zerolinecolor": "white",
           "zerolinewidth": 2
          },
          "yaxis": {
           "automargin": true,
           "gridcolor": "white",
           "linecolor": "white",
           "ticks": "",
           "title": {
            "standoff": 15
           },
           "zerolinecolor": "white",
           "zerolinewidth": 2
          }
         }
        },
        "title": {
         "text": "Kilograms Pulled by pinch Strength<br><sup>by Jerry Yu</sub>",
         "x": 0.5,
         "xanchor": "center",
         "yanchor": "top"
        },
        "xaxis": {
         "anchor": "y",
         "domain": [
          0,
          1
         ],
         "title": {
          "text": "Pinch"
         }
        },
        "yaxis": {
         "anchor": "x",
         "domain": [
          0,
          1
         ],
         "title": {
          "text": "Pull"
         }
        }
       }
      }
     },
     "metadata": {},
     "output_type": "display_data"
    }
   ],
   "source": [
    "# Now Split by Some of Our Explanatory and Nuisance Variables\n",
    "byChalk = px.scatter(Chalk, x = \"Pinch\", y = \"Pull\", color = \"Chalk\", title = \"Kilograms Pulled by pinch Strength\")\n",
    "byChalk.update_layout(\n",
    "    title = {\n",
    "        \"text\":\"Kilograms Pulled by pinch Strength<br><sup>by Jerry Yu</sub>\",\n",
    "        \"x\":0.5,\n",
    "        \"xanchor\":\"center\",\n",
    "        \"yanchor\":\"top\"\n",
    "    }\n",
    ")\n",
    "byChalk.show()\n",
    "\n",
    "# Very Nice Separation, normalization probably not needed"
   ]
  },
  {
   "cell_type": "code",
   "execution_count": null,
   "metadata": {},
   "outputs": [
    {
     "data": {
      "application/vnd.plotly.v1+json": {
       "config": {
        "plotlyServerURL": "https://plot.ly"
       },
       "data": [
        {
         "hovertemplate": "Person=1<br>Pinch=%{x}<br>Pull=%{y}<extra></extra>",
         "legendgroup": "1",
         "marker": {
          "color": "#636efa",
          "symbol": "circle"
         },
         "mode": "markers",
         "name": "1",
         "orientation": "v",
         "showlegend": true,
         "type": "scatter",
         "x": [
          4.202,
          4.117,
          4.154,
          4.088,
          4.223,
          4.125,
          2.086,
          2.054,
          2.08,
          5.989,
          6.064,
          5.883,
          1.284,
          1.322,
          1.408,
          5.105,
          5.372,
          5.201,
          1.167,
          1.018,
          1.018,
          5.492,
          5.703,
          5.342,
          6.309,
          5.813,
          6.138,
          1.093,
          1.188,
          1.036,
          1.949,
          1.908,
          2.209,
          3.36,
          3.326,
          2.999,
          3.886,
          4.549,
          4.078,
          5.96,
          5.5,
          6.198,
          5.289,
          5.472,
          5.066,
          3.129,
          2.847,
          3.072,
          1.275,
          1.135,
          1.288,
          2.188,
          1.998,
          1.997,
          2.347,
          2.129,
          2.104,
          6.221,
          6.262,
          6.878,
          3.572,
          3.189,
          3.258,
          5.061,
          5.334,
          4.947,
          4.047,
          4.096,
          4.116,
          2.998,
          3.089,
          3.088,
          2.198,
          2.101,
          2.192,
          1.002,
          0.938,
          1.088,
          6.007,
          6.038,
          6.308,
          5.16,
          4.887,
          5.108,
          3.053,
          2.83,
          2.899,
          6.398,
          5.969,
          5.608,
          2.098,
          2.198,
          2.278,
          6.091,
          5.988,
          6.074,
          1.278,
          1.238,
          1.068,
          3.946,
          4.473,
          3.938,
          4.304,
          4.239,
          4.224,
          4.889,
          4.582,
          4.718,
          2.829,
          3.138,
          3.191,
          3.638,
          3.889,
          3.762,
          5.492,
          5.447,
          5.139,
          1.988,
          2.049,
          2.114,
          4.072,
          4.208,
          4.196,
          1.217,
          1.1,
          1.176,
          2.139,
          2.022,
          2.019,
          6.309,
          6.009,
          6.087,
          5.66,
          5.291,
          4.898,
          3.013,
          3.176,
          3.315,
          3.218,
          3.044,
          3.306,
          1.309,
          1.463,
          1.19,
          6,
          5.859,
          6.143,
          4.919,
          4.909,
          5.048,
          5.998,
          5.993,
          6.048,
          1.219,
          1.308,
          1.249,
          3.211,
          3.458,
          3.187,
          4.446,
          4.258,
          4.172,
          3.209,
          3.284,
          2.88,
          2.29,
          1.96,
          2.059,
          4.793,
          4.767,
          4.958,
          1.089,
          1.102,
          1.02,
          6.493,
          5.989,
          5.998,
          1.207,
          1.063,
          1.184,
          5.287,
          4.886,
          4.949,
          1.97,
          2.188,
          2.048,
          3.209,
          3.138,
          3.406,
          5.783,
          6.108,
          5.898,
          2.413,
          2.199,
          2.28,
          4.988,
          4.964,
          5.069,
          1.523,
          1.238,
          1.369,
          4.088,
          3.898,
          3.859,
          2.868,
          2.898,
          3.092,
          4.332,
          4.089,
          3.988,
          4.106,
          3.838,
          4.188,
          2.298,
          1.898,
          2.183,
          1.289,
          1.389,
          1.208,
          2.089,
          2.008,
          2.133,
          5.336,
          5.599,
          5.579,
          1.196,
          1.36,
          1.198,
          2.098,
          1.983,
          2.207,
          5.972,
          5.666,
          5.869,
          3.292,
          3.088,
          3.088,
          1.139,
          1.098,
          1.231,
          5.097,
          4.964,
          4.787,
          1.268,
          1.061,
          1.279,
          4.463,
          4.066,
          3.676,
          2.947,
          3.278,
          3.298,
          5.744,
          5.826,
          6.173,
          3.276,
          3.127,
          3.326,
          6.168,
          6.75,
          6.096,
          2.381,
          2.442,
          2.075,
          4.153,
          4.088,
          4.304,
          2.992,
          3.31,
          3.338,
          4.24,
          4.979,
          4.612,
          6.888,
          6.32,
          6.549,
          4.877,
          4.938,
          5.168,
          2.015,
          2.372,
          2.625,
          4.083,
          4.143,
          4.252,
          5.198,
          5.624,
          5.274
         ],
         "xaxis": "x",
         "y": [
          34.6,
          31.9,
          31.9,
          44.6,
          37.5,
          40.1,
          23.5,
          22.6,
          25.4,
          63.9,
          61.7,
          76.3,
          8.4,
          8.3,
          9.5,
          50.6,
          43.6,
          41.7,
          12.7,
          9.1,
          11.4,
          77.5,
          68.5,
          67.5,
          55.4,
          46.3,
          48.5,
          8.8,
          12.5,
          10.7,
          14.8,
          15.7,
          17,
          38.1,
          37.9,
          38.4,
          36.5,
          36.1,
          35.5,
          51.6,
          46.4,
          47.1,
          39.6,
          39.7,
          37.1,
          35.1,
          33.7,
          31.7,
          3.6,
          5.3,
          5.2,
          23.7,
          24.5,
          25.5,
          15.4,
          14.6,
          16.7,
          71.1,
          81.5,
          89.2,
          25.1,
          22.6,
          22.4,
          61.6,
          70.5,
          67.1,
          49.2,
          47.6,
          44.6,
          21.5,
          25.1,
          26.6,
          15.4,
          14.7,
          15.1,
          8.9,
          11,
          7.2,
          71.5,
          75.2,
          64.3,
          69,
          65.4,
          54.4,
          30.7,
          32.1,
          31.4,
          51.1,
          55.5,
          50.7,
          13.6,
          13.2,
          13.6,
          66.7,
          74.1,
          69.5,
          7.1,
          7.7,
          4.2,
          34.2,
          37.6,
          29.3,
          52.7,
          43.2,
          46.6,
          51.5,
          55.3,
          56.7,
          34.1,
          36.3,
          30.1,
          42.5,
          46.7,
          44,
          44.4,
          47.2,
          45.1,
          20.9,
          25.5,
          26.1,
          28,
          31,
          27.2,
          10.6,
          11.5,
          10.5,
          25.7,
          21.5,
          22.2,
          55.9,
          50.5,
          51.7,
          39.1,
          37.9,
          35.6,
          34.1,
          37.3,
          36.5,
          25.9,
          27.3,
          24.1,
          7.1,
          9.1,
          7.7,
          65.5,
          73.3,
          77.3,
          51.4,
          54.9,
          52.6,
          44.7,
          50.7,
          47.5,
          5.5,
          8.1,
          6.7,
          22.4,
          26.2,
          22.2,
          37.7,
          33.6,
          33.6,
          31.4,
          33.5,
          34.4,
          13.8,
          14.3,
          15.6,
          37.1,
          36.4,
          40.5,
          10.7,
          10.7,
          9.2,
          56.7,
          57.7,
          60.7,
          11.2,
          11.1,
          11,
          35.3,
          33.5,
          28.9,
          24.6,
          17.5,
          15.2,
          26.7,
          30.2,
          28.1,
          44.5,
          46.1,
          44.7,
          15.5,
          16.5,
          17.8,
          45.1,
          54.5,
          50.1,
          7,
          7.4,
          8.4,
          34.6,
          35.7,
          33.7,
          33.3,
          31.1,
          32.7,
          39.5,
          41.5,
          32.6,
          35.9,
          34.2,
          36.6,
          14.4,
          15.7,
          19.7,
          7.9,
          9.3,
          10,
          13.5,
          14.5,
          16,
          55.5,
          65.1,
          54.5,
          6.2,
          7.4,
          6.2,
          18.7,
          15.2,
          17.1,
          47.9,
          45.7,
          51.5,
          22.3,
          21.1,
          23.5,
          11.4,
          10.3,
          10.5,
          59,
          59.1,
          55.3,
          9.7,
          7.6,
          6.6,
          49.6,
          57.7,
          55.4,
          42.7,
          39.5,
          43.1,
          71.5,
          82.3,
          77.2,
          35.3,
          42.8,
          44.3,
          51.9,
          55.7,
          48.7,
          17.7,
          21.6,
          15.7,
          25.3,
          30.6,
          25.2,
          16,
          14.7,
          22.7,
          42.5,
          64.5,
          57.7,
          82,
          70.1,
          71.3,
          30.4,
          30.7,
          31.1,
          21.2,
          25.4,
          29.6,
          25.3,
          24.7,
          25.1,
          31.4,
          32.8,
          31.1
         ],
         "yaxis": "y"
        },
        {
         "hovertemplate": "Person=2<br>Pinch=%{x}<br>Pull=%{y}<extra></extra>",
         "legendgroup": "2",
         "marker": {
          "color": "#EF553B",
          "symbol": "circle"
         },
         "mode": "markers",
         "name": "2",
         "orientation": "v",
         "showlegend": true,
         "type": "scatter",
         "x": [
          4.088,
          4.088,
          4.086,
          1.099,
          1.319,
          1.198,
          3.124,
          2.808,
          3.077,
          4.888,
          5.356,
          4.838,
          4.483,
          4.088,
          4.528,
          5.233,
          5.382,
          5.1,
          3.938,
          3.298,
          3.238,
          5.587,
          5.055,
          4.991,
          5.898,
          5.899,
          5.881,
          1.176,
          1.292,
          1.044,
          3.121,
          3.289,
          2.966,
          4.104,
          4.18,
          4.453,
          4.212,
          4.349,
          3.792,
          6.039,
          7.126,
          6.407,
          2.597,
          2.419,
          2.058,
          6.683,
          6.046,
          5.699,
          2.129,
          2.179,
          1.952,
          3.762,
          3.399,
          3.316,
          1.198,
          1.098,
          1.303,
          2.342,
          2.078,
          2.217,
          1.098,
          1.054,
          1.141,
          2.061,
          2.078,
          1.983,
          5.738,
          5.692,
          6.088,
          4.989,
          4.294,
          4.288,
          4.158,
          4.389,
          4.388,
          5.309,
          5.069,
          5.22,
          6.498,
          6.602,
          6.225,
          7.243,
          7.389,
          6.914,
          3.915,
          4.057,
          3.99,
          6.033,
          5.337,
          4.987,
          1.157,
          1.073,
          1.097,
          2.288,
          2.234,
          2.169,
          5.587,
          5.934,
          7.216,
          4.766,
          3.788,
          4.012,
          3.546,
          3.148,
          2.798,
          5.928,
          6.093,
          5.843,
          3.564,
          3.055,
          4.039,
          1.034,
          1.037,
          1.019,
          2.098,
          2.048,
          2.033,
          2.006,
          2.088,
          2.023,
          1.082,
          1.093,
          0.979,
          2.096,
          2.015,
          2.022,
          3.08,
          3.1,
          3.098,
          3.218,
          3.363,
          3.388,
          1.085,
          1.053,
          0.947,
          4.149,
          4.162,
          4.449,
          5.581,
          5.039,
          4.893,
          5.29,
          5.038,
          5.275,
          2.194,
          2.199,
          2.065,
          3.22,
          3.214,
          3.215,
          2.351,
          2.096,
          2.206,
          4.387,
          4.095,
          4.247,
          2.218,
          2.138,
          2.079,
          3.247,
          3.152,
          3.253,
          4.997,
          4.589,
          5.384,
          1.042,
          1.221,
          1.033,
          6.087,
          6.636,
          5.872,
          1.149,
          0.989,
          1.059,
          4.496,
          4.491,
          4.019,
          3.648,
          3.189,
          3.573,
          6.685,
          6.172,
          6.276,
          6.935,
          6.741,
          6.158,
          3.988,
          4.123,
          4.333,
          5.061,
          5.191,
          5.094,
          2.178,
          2.089,
          2.183,
          5.267,
          5.326,
          5.636,
          1.038,
          1,
          1.192,
          1.033,
          1.082,
          1.048,
          4.109,
          3.899,
          4.251,
          5.189,
          5.086,
          5.098,
          5.999,
          5.966,
          6.031,
          3.098,
          2.892,
          3.21,
          3.048,
          2.888,
          2.688,
          2.208,
          2.098,
          2.08,
          4.282,
          4.094,
          3.899,
          3.322,
          3.092,
          3.298,
          6.558,
          6.199,
          6.343,
          4.888,
          4.979,
          5.217,
          5.998,
          6.203,
          6.387,
          2.041,
          2.22,
          2.212,
          1.147,
          1.115,
          1.279,
          0.988,
          1.219,
          0.972,
          2.077,
          1.992,
          2.164,
          2.217,
          2.187,
          1.898,
          3.077,
          3.161,
          3.186,
          4.06,
          3.962,
          4.099,
          4.28,
          4.335,
          4.388,
          1.359,
          1.1,
          1.081,
          4.996,
          4.988,
          4.979,
          5.978,
          6.124,
          6.493,
          1.311,
          1.218,
          1.446,
          3.103,
          3.155,
          3.048,
          6.028,
          6.484,
          6.203,
          5.026,
          4.899,
          5.306,
          4.288,
          3.91,
          4.38,
          5.117,
          5.098,
          4.878
         ],
         "xaxis": "x",
         "y": [
          41.1,
          44.5,
          45.7,
          7.2,
          9.5,
          8.5,
          30.6,
          26.1,
          27.5,
          45.1,
          49.1,
          44.2,
          40.5,
          38.7,
          42.7,
          41.5,
          42.5,
          44.5,
          35.5,
          26.4,
          27.1,
          51.7,
          39.1,
          47,
          56.5,
          52.6,
          49.6,
          5.7,
          7.4,
          6.5,
          29.4,
          33.8,
          23.6,
          42.5,
          43.7,
          46.5,
          46.2,
          56.5,
          47.5,
          74,
          83.3,
          75.1,
          24.2,
          25.1,
          19.6,
          51.1,
          53.3,
          46.5,
          19.4,
          21.1,
          18.7,
          45.3,
          46.6,
          35.4,
          6.1,
          5.3,
          9.1,
          17,
          12.5,
          18,
          7.5,
          5.1,
          8.5,
          13.9,
          15,
          12.2,
          54.1,
          61.1,
          64.3,
          45.7,
          29,
          34,
          36.4,
          42.8,
          46.3,
          36.2,
          45.7,
          47.6,
          52.7,
          55.7,
          47.6,
          70.7,
          75.4,
          66.3,
          35.4,
          37.4,
          35.7,
          61.8,
          47.3,
          46.6,
          6.2,
          5.4,
          4.9,
          14.2,
          14.2,
          15.1,
          59.3,
          54.1,
          64.7,
          49.3,
          30.5,
          35.5,
          26.6,
          24.5,
          19.2,
          52.2,
          45.2,
          46,
          27.4,
          26.6,
          44.6,
          4.4,
          3.2,
          7.1,
          16.7,
          14.2,
          16.4,
          17.2,
          16.5,
          17.2,
          5.4,
          8.3,
          6.2,
          15.5,
          16.3,
          15.7,
          25.7,
          26.1,
          25.4,
          24.4,
          24.8,
          31.8,
          2.5,
          5.7,
          5.7,
          23.5,
          27.2,
          31.1,
          48.1,
          35.4,
          35.5,
          35.5,
          28.3,
          33.7,
          8.9,
          14.4,
          13.5,
          22.1,
          28.2,
          29.4,
          10.4,
          6.6,
          12.2,
          30.1,
          33.5,
          34.9,
          17.7,
          15.3,
          17.1,
          19,
          19.2,
          26.1,
          44.7,
          41.1,
          51,
          5.1,
          7.1,
          6.4,
          53.2,
          57.4,
          54.6,
          3.3,
          3.2,
          3.2,
          35.7,
          42.5,
          37.1,
          37.4,
          29.7,
          35.2,
          61.2,
          59.6,
          67.4,
          52.5,
          57.2,
          47.9,
          34,
          25.4,
          25.9,
          42.2,
          35.2,
          32.2,
          12.2,
          19.6,
          20,
          35.1,
          33.5,
          31.2,
          3.7,
          5.7,
          7.5,
          1.5,
          2.7,
          5.8,
          24.2,
          20.5,
          25.2,
          30.9,
          30.3,
          28.7,
          32.3,
          39.2,
          31.7,
          15.7,
          15.5,
          17.7,
          22.7,
          16.8,
          22.5,
          11.1,
          9.4,
          12.7,
          37,
          34.5,
          41.6,
          29.4,
          22.3,
          27.3,
          46.1,
          36.7,
          37.2,
          31.9,
          35.4,
          39.6,
          50.9,
          57.3,
          57.7,
          14,
          17.4,
          22.2,
          4.7,
          2.4,
          5.1,
          3.1,
          5,
          5.7,
          13.6,
          15.3,
          17.4,
          8.9,
          8.1,
          9.4,
          9.7,
          16.5,
          14.4,
          27.4,
          25.1,
          29.2,
          27.7,
          28.6,
          27.1,
          3.5,
          2.5,
          2.2,
          31.2,
          25.2,
          23.4,
          43.1,
          41.2,
          46.7,
          7.6,
          3.4,
          7.5,
          24.1,
          21.4,
          22.7,
          57.5,
          64.1,
          63.1,
          49.5,
          45.1,
          45,
          27.1,
          23.6,
          24.4,
          51.2,
          45.3,
          45.4
         ],
         "yaxis": "y"
        }
       ],
       "layout": {
        "legend": {
         "title": {
          "text": "Person"
         },
         "tracegroupgap": 0
        },
        "template": {
         "data": {
          "bar": [
           {
            "error_x": {
             "color": "#2a3f5f"
            },
            "error_y": {
             "color": "#2a3f5f"
            },
            "marker": {
             "line": {
              "color": "#E5ECF6",
              "width": 0.5
             },
             "pattern": {
              "fillmode": "overlay",
              "size": 10,
              "solidity": 0.2
             }
            },
            "type": "bar"
           }
          ],
          "barpolar": [
           {
            "marker": {
             "line": {
              "color": "#E5ECF6",
              "width": 0.5
             },
             "pattern": {
              "fillmode": "overlay",
              "size": 10,
              "solidity": 0.2
             }
            },
            "type": "barpolar"
           }
          ],
          "carpet": [
           {
            "aaxis": {
             "endlinecolor": "#2a3f5f",
             "gridcolor": "white",
             "linecolor": "white",
             "minorgridcolor": "white",
             "startlinecolor": "#2a3f5f"
            },
            "baxis": {
             "endlinecolor": "#2a3f5f",
             "gridcolor": "white",
             "linecolor": "white",
             "minorgridcolor": "white",
             "startlinecolor": "#2a3f5f"
            },
            "type": "carpet"
           }
          ],
          "choropleth": [
           {
            "colorbar": {
             "outlinewidth": 0,
             "ticks": ""
            },
            "type": "choropleth"
           }
          ],
          "contour": [
           {
            "colorbar": {
             "outlinewidth": 0,
             "ticks": ""
            },
            "colorscale": [
             [
              0,
              "#0d0887"
             ],
             [
              0.1111111111111111,
              "#46039f"
             ],
             [
              0.2222222222222222,
              "#7201a8"
             ],
             [
              0.3333333333333333,
              "#9c179e"
             ],
             [
              0.4444444444444444,
              "#bd3786"
             ],
             [
              0.5555555555555556,
              "#d8576b"
             ],
             [
              0.6666666666666666,
              "#ed7953"
             ],
             [
              0.7777777777777778,
              "#fb9f3a"
             ],
             [
              0.8888888888888888,
              "#fdca26"
             ],
             [
              1,
              "#f0f921"
             ]
            ],
            "type": "contour"
           }
          ],
          "contourcarpet": [
           {
            "colorbar": {
             "outlinewidth": 0,
             "ticks": ""
            },
            "type": "contourcarpet"
           }
          ],
          "heatmap": [
           {
            "colorbar": {
             "outlinewidth": 0,
             "ticks": ""
            },
            "colorscale": [
             [
              0,
              "#0d0887"
             ],
             [
              0.1111111111111111,
              "#46039f"
             ],
             [
              0.2222222222222222,
              "#7201a8"
             ],
             [
              0.3333333333333333,
              "#9c179e"
             ],
             [
              0.4444444444444444,
              "#bd3786"
             ],
             [
              0.5555555555555556,
              "#d8576b"
             ],
             [
              0.6666666666666666,
              "#ed7953"
             ],
             [
              0.7777777777777778,
              "#fb9f3a"
             ],
             [
              0.8888888888888888,
              "#fdca26"
             ],
             [
              1,
              "#f0f921"
             ]
            ],
            "type": "heatmap"
           }
          ],
          "heatmapgl": [
           {
            "colorbar": {
             "outlinewidth": 0,
             "ticks": ""
            },
            "colorscale": [
             [
              0,
              "#0d0887"
             ],
             [
              0.1111111111111111,
              "#46039f"
             ],
             [
              0.2222222222222222,
              "#7201a8"
             ],
             [
              0.3333333333333333,
              "#9c179e"
             ],
             [
              0.4444444444444444,
              "#bd3786"
             ],
             [
              0.5555555555555556,
              "#d8576b"
             ],
             [
              0.6666666666666666,
              "#ed7953"
             ],
             [
              0.7777777777777778,
              "#fb9f3a"
             ],
             [
              0.8888888888888888,
              "#fdca26"
             ],
             [
              1,
              "#f0f921"
             ]
            ],
            "type": "heatmapgl"
           }
          ],
          "histogram": [
           {
            "marker": {
             "pattern": {
              "fillmode": "overlay",
              "size": 10,
              "solidity": 0.2
             }
            },
            "type": "histogram"
           }
          ],
          "histogram2d": [
           {
            "colorbar": {
             "outlinewidth": 0,
             "ticks": ""
            },
            "colorscale": [
             [
              0,
              "#0d0887"
             ],
             [
              0.1111111111111111,
              "#46039f"
             ],
             [
              0.2222222222222222,
              "#7201a8"
             ],
             [
              0.3333333333333333,
              "#9c179e"
             ],
             [
              0.4444444444444444,
              "#bd3786"
             ],
             [
              0.5555555555555556,
              "#d8576b"
             ],
             [
              0.6666666666666666,
              "#ed7953"
             ],
             [
              0.7777777777777778,
              "#fb9f3a"
             ],
             [
              0.8888888888888888,
              "#fdca26"
             ],
             [
              1,
              "#f0f921"
             ]
            ],
            "type": "histogram2d"
           }
          ],
          "histogram2dcontour": [
           {
            "colorbar": {
             "outlinewidth": 0,
             "ticks": ""
            },
            "colorscale": [
             [
              0,
              "#0d0887"
             ],
             [
              0.1111111111111111,
              "#46039f"
             ],
             [
              0.2222222222222222,
              "#7201a8"
             ],
             [
              0.3333333333333333,
              "#9c179e"
             ],
             [
              0.4444444444444444,
              "#bd3786"
             ],
             [
              0.5555555555555556,
              "#d8576b"
             ],
             [
              0.6666666666666666,
              "#ed7953"
             ],
             [
              0.7777777777777778,
              "#fb9f3a"
             ],
             [
              0.8888888888888888,
              "#fdca26"
             ],
             [
              1,
              "#f0f921"
             ]
            ],
            "type": "histogram2dcontour"
           }
          ],
          "mesh3d": [
           {
            "colorbar": {
             "outlinewidth": 0,
             "ticks": ""
            },
            "type": "mesh3d"
           }
          ],
          "parcoords": [
           {
            "line": {
             "colorbar": {
              "outlinewidth": 0,
              "ticks": ""
             }
            },
            "type": "parcoords"
           }
          ],
          "pie": [
           {
            "automargin": true,
            "type": "pie"
           }
          ],
          "scatter": [
           {
            "fillpattern": {
             "fillmode": "overlay",
             "size": 10,
             "solidity": 0.2
            },
            "type": "scatter"
           }
          ],
          "scatter3d": [
           {
            "line": {
             "colorbar": {
              "outlinewidth": 0,
              "ticks": ""
             }
            },
            "marker": {
             "colorbar": {
              "outlinewidth": 0,
              "ticks": ""
             }
            },
            "type": "scatter3d"
           }
          ],
          "scattercarpet": [
           {
            "marker": {
             "colorbar": {
              "outlinewidth": 0,
              "ticks": ""
             }
            },
            "type": "scattercarpet"
           }
          ],
          "scattergeo": [
           {
            "marker": {
             "colorbar": {
              "outlinewidth": 0,
              "ticks": ""
             }
            },
            "type": "scattergeo"
           }
          ],
          "scattergl": [
           {
            "marker": {
             "colorbar": {
              "outlinewidth": 0,
              "ticks": ""
             }
            },
            "type": "scattergl"
           }
          ],
          "scattermapbox": [
           {
            "marker": {
             "colorbar": {
              "outlinewidth": 0,
              "ticks": ""
             }
            },
            "type": "scattermapbox"
           }
          ],
          "scatterpolar": [
           {
            "marker": {
             "colorbar": {
              "outlinewidth": 0,
              "ticks": ""
             }
            },
            "type": "scatterpolar"
           }
          ],
          "scatterpolargl": [
           {
            "marker": {
             "colorbar": {
              "outlinewidth": 0,
              "ticks": ""
             }
            },
            "type": "scatterpolargl"
           }
          ],
          "scatterternary": [
           {
            "marker": {
             "colorbar": {
              "outlinewidth": 0,
              "ticks": ""
             }
            },
            "type": "scatterternary"
           }
          ],
          "surface": [
           {
            "colorbar": {
             "outlinewidth": 0,
             "ticks": ""
            },
            "colorscale": [
             [
              0,
              "#0d0887"
             ],
             [
              0.1111111111111111,
              "#46039f"
             ],
             [
              0.2222222222222222,
              "#7201a8"
             ],
             [
              0.3333333333333333,
              "#9c179e"
             ],
             [
              0.4444444444444444,
              "#bd3786"
             ],
             [
              0.5555555555555556,
              "#d8576b"
             ],
             [
              0.6666666666666666,
              "#ed7953"
             ],
             [
              0.7777777777777778,
              "#fb9f3a"
             ],
             [
              0.8888888888888888,
              "#fdca26"
             ],
             [
              1,
              "#f0f921"
             ]
            ],
            "type": "surface"
           }
          ],
          "table": [
           {
            "cells": {
             "fill": {
              "color": "#EBF0F8"
             },
             "line": {
              "color": "white"
             }
            },
            "header": {
             "fill": {
              "color": "#C8D4E3"
             },
             "line": {
              "color": "white"
             }
            },
            "type": "table"
           }
          ]
         },
         "layout": {
          "annotationdefaults": {
           "arrowcolor": "#2a3f5f",
           "arrowhead": 0,
           "arrowwidth": 1
          },
          "autotypenumbers": "strict",
          "coloraxis": {
           "colorbar": {
            "outlinewidth": 0,
            "ticks": ""
           }
          },
          "colorscale": {
           "diverging": [
            [
             0,
             "#8e0152"
            ],
            [
             0.1,
             "#c51b7d"
            ],
            [
             0.2,
             "#de77ae"
            ],
            [
             0.3,
             "#f1b6da"
            ],
            [
             0.4,
             "#fde0ef"
            ],
            [
             0.5,
             "#f7f7f7"
            ],
            [
             0.6,
             "#e6f5d0"
            ],
            [
             0.7,
             "#b8e186"
            ],
            [
             0.8,
             "#7fbc41"
            ],
            [
             0.9,
             "#4d9221"
            ],
            [
             1,
             "#276419"
            ]
           ],
           "sequential": [
            [
             0,
             "#0d0887"
            ],
            [
             0.1111111111111111,
             "#46039f"
            ],
            [
             0.2222222222222222,
             "#7201a8"
            ],
            [
             0.3333333333333333,
             "#9c179e"
            ],
            [
             0.4444444444444444,
             "#bd3786"
            ],
            [
             0.5555555555555556,
             "#d8576b"
            ],
            [
             0.6666666666666666,
             "#ed7953"
            ],
            [
             0.7777777777777778,
             "#fb9f3a"
            ],
            [
             0.8888888888888888,
             "#fdca26"
            ],
            [
             1,
             "#f0f921"
            ]
           ],
           "sequentialminus": [
            [
             0,
             "#0d0887"
            ],
            [
             0.1111111111111111,
             "#46039f"
            ],
            [
             0.2222222222222222,
             "#7201a8"
            ],
            [
             0.3333333333333333,
             "#9c179e"
            ],
            [
             0.4444444444444444,
             "#bd3786"
            ],
            [
             0.5555555555555556,
             "#d8576b"
            ],
            [
             0.6666666666666666,
             "#ed7953"
            ],
            [
             0.7777777777777778,
             "#fb9f3a"
            ],
            [
             0.8888888888888888,
             "#fdca26"
            ],
            [
             1,
             "#f0f921"
            ]
           ]
          },
          "colorway": [
           "#636efa",
           "#EF553B",
           "#00cc96",
           "#ab63fa",
           "#FFA15A",
           "#19d3f3",
           "#FF6692",
           "#B6E880",
           "#FF97FF",
           "#FECB52"
          ],
          "font": {
           "color": "#2a3f5f"
          },
          "geo": {
           "bgcolor": "white",
           "lakecolor": "white",
           "landcolor": "#E5ECF6",
           "showlakes": true,
           "showland": true,
           "subunitcolor": "white"
          },
          "hoverlabel": {
           "align": "left"
          },
          "hovermode": "closest",
          "mapbox": {
           "style": "light"
          },
          "paper_bgcolor": "white",
          "plot_bgcolor": "#E5ECF6",
          "polar": {
           "angularaxis": {
            "gridcolor": "white",
            "linecolor": "white",
            "ticks": ""
           },
           "bgcolor": "#E5ECF6",
           "radialaxis": {
            "gridcolor": "white",
            "linecolor": "white",
            "ticks": ""
           }
          },
          "scene": {
           "xaxis": {
            "backgroundcolor": "#E5ECF6",
            "gridcolor": "white",
            "gridwidth": 2,
            "linecolor": "white",
            "showbackground": true,
            "ticks": "",
            "zerolinecolor": "white"
           },
           "yaxis": {
            "backgroundcolor": "#E5ECF6",
            "gridcolor": "white",
            "gridwidth": 2,
            "linecolor": "white",
            "showbackground": true,
            "ticks": "",
            "zerolinecolor": "white"
           },
           "zaxis": {
            "backgroundcolor": "#E5ECF6",
            "gridcolor": "white",
            "gridwidth": 2,
            "linecolor": "white",
            "showbackground": true,
            "ticks": "",
            "zerolinecolor": "white"
           }
          },
          "shapedefaults": {
           "line": {
            "color": "#2a3f5f"
           }
          },
          "ternary": {
           "aaxis": {
            "gridcolor": "white",
            "linecolor": "white",
            "ticks": ""
           },
           "baxis": {
            "gridcolor": "white",
            "linecolor": "white",
            "ticks": ""
           },
           "bgcolor": "#E5ECF6",
           "caxis": {
            "gridcolor": "white",
            "linecolor": "white",
            "ticks": ""
           }
          },
          "title": {
           "x": 0.05
          },
          "xaxis": {
           "automargin": true,
           "gridcolor": "white",
           "linecolor": "white",
           "ticks": "",
           "title": {
            "standoff": 15
           },
           "zerolinecolor": "white",
           "zerolinewidth": 2
          },
          "yaxis": {
           "automargin": true,
           "gridcolor": "white",
           "linecolor": "white",
           "ticks": "",
           "title": {
            "standoff": 15
           },
           "zerolinecolor": "white",
           "zerolinewidth": 2
          }
         }
        },
        "title": {
         "text": "Kilograms Pulled by pinch Strength<br><sup>by Jerry Yu</sub>",
         "x": 0.5,
         "xanchor": "center",
         "yanchor": "top"
        },
        "xaxis": {
         "anchor": "y",
         "domain": [
          0,
          1
         ],
         "title": {
          "text": "Pinch"
         }
        },
        "yaxis": {
         "anchor": "x",
         "domain": [
          0,
          1
         ],
         "title": {
          "text": "Pull"
         }
        }
       }
      }
     },
     "metadata": {},
     "output_type": "display_data"
    }
   ],
   "source": [
    "# Person\n",
    "byPerson = px.scatter(Chalk, x = \"Pinch\", y = \"Pull\", color = \"Person\", title = \"Kilograms Pulled by pinch Strength\")\n",
    "byPerson.update_layout(\n",
    "    title = {\n",
    "        \"text\":\"Kilograms Pulled by pinch Strength<br><sup>by Jerry Yu</sub>\",\n",
    "        \"x\":0.5,\n",
    "        \"xanchor\":\"center\",\n",
    "        \"yanchor\":\"top\"\n",
    "    }\n",
    ")\n",
    "byPerson.show()\n",
    "\n",
    "# Clear Difference by person, as expected"
   ]
  },
  {
   "cell_type": "code",
   "execution_count": 39,
   "metadata": {},
   "outputs": [
    {
     "data": {
      "application/vnd.plotly.v1+json": {
       "config": {
        "plotlyServerURL": "https://plot.ly"
       },
       "data": [
        {
         "hovertemplate": "Pinch=%{x}<br>Pull=%{y}<br>Pinch_Order=%{marker.color}<extra></extra>",
         "legendgroup": "",
         "marker": {
          "color": [
           1,
           2,
           3,
           1,
           2,
           3,
           1,
           2,
           3,
           1,
           2,
           3,
           1,
           2,
           3,
           1,
           2,
           3,
           1,
           2,
           3,
           1,
           2,
           3,
           1,
           2,
           3,
           1,
           2,
           3,
           1,
           2,
           3,
           1,
           2,
           3,
           1,
           2,
           3,
           1,
           2,
           3,
           1,
           2,
           3,
           1,
           2,
           3,
           1,
           2,
           3,
           1,
           2,
           3,
           1,
           2,
           3,
           1,
           2,
           3,
           1,
           2,
           3,
           1,
           2,
           3,
           1,
           2,
           3,
           1,
           2,
           3,
           1,
           2,
           3,
           1,
           2,
           3,
           1,
           2,
           3,
           1,
           2,
           3,
           1,
           2,
           3,
           1,
           2,
           3,
           1,
           2,
           3,
           1,
           2,
           3,
           1,
           2,
           3,
           1,
           2,
           3,
           1,
           2,
           3,
           1,
           2,
           3,
           1,
           2,
           3,
           1,
           2,
           3,
           1,
           2,
           3,
           1,
           2,
           3,
           1,
           2,
           3,
           1,
           2,
           3,
           1,
           2,
           3,
           1,
           2,
           3,
           1,
           2,
           3,
           1,
           2,
           3,
           1,
           2,
           3,
           1,
           2,
           3,
           1,
           2,
           3,
           1,
           2,
           3,
           1,
           2,
           3,
           1,
           2,
           3,
           1,
           2,
           3,
           1,
           2,
           3,
           1,
           2,
           3,
           1,
           2,
           3,
           1,
           2,
           3,
           1,
           2,
           3,
           1,
           2,
           3,
           1,
           2,
           3,
           1,
           2,
           3,
           1,
           2,
           3,
           1,
           2,
           3,
           1,
           2,
           3,
           1,
           2,
           3,
           1,
           2,
           3,
           1,
           2,
           3,
           1,
           2,
           3,
           1,
           2,
           3,
           1,
           2,
           3,
           1,
           2,
           3,
           1,
           2,
           3,
           1,
           2,
           3,
           1,
           2,
           3,
           1,
           2,
           3,
           1,
           2,
           3,
           1,
           2,
           3,
           1,
           2,
           3,
           1,
           2,
           3,
           1,
           2,
           3,
           1,
           2,
           3,
           1,
           2,
           3,
           1,
           2,
           3,
           1,
           2,
           3,
           1,
           2,
           3,
           1,
           2,
           3,
           1,
           2,
           3,
           1,
           2,
           3,
           1,
           2,
           3,
           1,
           2,
           3,
           1,
           2,
           3,
           1,
           2,
           3,
           1,
           2,
           3,
           1,
           2,
           3,
           1,
           2,
           3,
           1,
           2,
           3,
           1,
           2,
           3,
           1,
           2,
           3,
           1,
           2,
           3,
           1,
           2,
           3,
           1,
           2,
           3,
           1,
           2,
           3,
           1,
           2,
           3,
           1,
           2,
           3,
           1,
           2,
           3,
           1,
           2,
           3,
           1,
           2,
           3,
           1,
           2,
           3,
           1,
           2,
           3,
           1,
           2,
           3,
           1,
           2,
           3,
           1,
           2,
           3,
           1,
           2,
           3,
           1,
           2,
           3,
           1,
           2,
           3,
           1,
           2,
           3,
           1,
           2,
           3,
           1,
           2,
           3,
           1,
           2,
           3,
           1,
           2,
           3,
           1,
           2,
           3,
           1,
           2,
           3,
           1,
           2,
           3,
           1,
           2,
           3,
           1,
           2,
           3,
           1,
           2,
           3,
           1,
           2,
           3,
           1,
           2,
           3,
           1,
           2,
           3,
           1,
           2,
           3,
           1,
           2,
           3,
           1,
           2,
           3,
           1,
           2,
           3,
           1,
           2,
           3,
           1,
           2,
           3,
           1,
           2,
           3,
           1,
           2,
           3,
           1,
           2,
           3,
           1,
           2,
           3,
           1,
           2,
           3,
           1,
           2,
           3,
           1,
           2,
           3,
           1,
           2,
           3,
           1,
           2,
           3,
           1,
           2,
           3,
           1,
           2,
           3,
           1,
           2,
           3,
           1,
           2,
           3,
           1,
           2,
           3,
           1,
           2,
           3,
           1,
           2,
           3,
           1,
           2,
           3,
           1,
           2,
           3,
           1,
           2,
           3,
           1,
           2,
           3,
           1,
           2,
           3,
           1,
           2,
           3,
           1,
           2,
           3,
           1,
           2,
           3,
           1,
           2,
           3,
           1,
           2,
           3,
           1,
           2,
           3,
           1,
           2,
           3,
           1,
           2,
           3,
           1,
           2,
           3,
           1,
           2,
           3,
           1,
           2,
           3,
           1,
           2,
           3,
           1,
           2,
           3,
           1,
           2,
           3,
           1,
           2,
           3,
           1,
           2,
           3,
           1,
           2,
           3,
           1,
           2,
           3,
           1,
           2,
           3,
           1,
           2,
           3,
           1,
           2,
           3,
           1,
           2,
           3,
           1,
           2,
           3,
           1,
           2,
           3,
           1,
           2,
           3,
           1,
           2,
           3,
           1,
           2,
           3,
           1,
           2,
           3,
           1,
           2,
           3,
           1,
           2,
           3,
           1,
           2,
           3,
           1,
           2,
           3,
           1,
           2,
           3,
           1,
           2,
           3,
           1,
           2,
           3,
           1,
           2,
           3
          ],
          "coloraxis": "coloraxis",
          "symbol": "circle"
         },
         "mode": "markers",
         "name": "",
         "orientation": "v",
         "showlegend": false,
         "type": "scatter",
         "x": [
          4.202,
          4.117,
          4.154,
          4.088,
          4.088,
          4.086,
          1.099,
          1.319,
          1.198,
          3.124,
          2.808,
          3.077,
          4.088,
          4.223,
          4.125,
          4.888,
          5.356,
          4.838,
          2.086,
          2.054,
          2.08,
          5.989,
          6.064,
          5.883,
          4.483,
          4.088,
          4.528,
          5.233,
          5.382,
          5.1,
          1.284,
          1.322,
          1.408,
          3.938,
          3.298,
          3.238,
          5.105,
          5.372,
          5.201,
          5.587,
          5.055,
          4.991,
          5.898,
          5.899,
          5.881,
          1.176,
          1.292,
          1.044,
          3.121,
          3.289,
          2.966,
          4.104,
          4.18,
          4.453,
          4.212,
          4.349,
          3.792,
          1.167,
          1.018,
          1.018,
          6.039,
          7.126,
          6.407,
          5.492,
          5.703,
          5.342,
          6.309,
          5.813,
          6.138,
          1.093,
          1.188,
          1.036,
          2.597,
          2.419,
          2.058,
          1.949,
          1.908,
          2.209,
          3.36,
          3.326,
          2.999,
          3.886,
          4.549,
          4.078,
          5.96,
          5.5,
          6.198,
          5.289,
          5.472,
          5.066,
          3.129,
          2.847,
          3.072,
          6.683,
          6.046,
          5.699,
          1.275,
          1.135,
          1.288,
          2.188,
          1.998,
          1.997,
          2.129,
          2.179,
          1.952,
          3.762,
          3.399,
          3.316,
          2.347,
          2.129,
          2.104,
          6.221,
          6.262,
          6.878,
          3.572,
          3.189,
          3.258,
          5.061,
          5.334,
          4.947,
          1.198,
          1.098,
          1.303,
          4.047,
          4.096,
          4.116,
          2.998,
          3.089,
          3.088,
          2.342,
          2.078,
          2.217,
          1.098,
          1.054,
          1.141,
          2.061,
          2.078,
          1.983,
          5.738,
          5.692,
          6.088,
          4.989,
          4.294,
          4.288,
          2.198,
          2.101,
          2.192,
          4.158,
          4.389,
          4.388,
          1.002,
          0.938,
          1.088,
          5.309,
          5.069,
          5.22,
          6.007,
          6.038,
          6.308,
          5.16,
          4.887,
          5.108,
          3.053,
          2.83,
          2.899,
          6.498,
          6.602,
          6.225,
          6.398,
          5.969,
          5.608,
          7.243,
          7.389,
          6.914,
          2.098,
          2.198,
          2.278,
          6.091,
          5.988,
          6.074,
          1.278,
          1.238,
          1.068,
          3.946,
          4.473,
          3.938,
          3.915,
          4.057,
          3.99,
          4.304,
          4.239,
          4.224,
          6.033,
          5.337,
          4.987,
          1.157,
          1.073,
          1.097,
          2.288,
          2.234,
          2.169,
          4.889,
          4.582,
          4.718,
          2.829,
          3.138,
          3.191,
          5.587,
          5.934,
          7.216,
          4.766,
          3.788,
          4.012,
          3.546,
          3.148,
          2.798,
          5.928,
          6.093,
          5.843,
          3.564,
          3.055,
          4.039,
          1.034,
          1.037,
          1.019,
          2.098,
          2.048,
          2.033,
          3.638,
          3.889,
          3.762,
          5.492,
          5.447,
          5.139,
          2.006,
          2.088,
          2.023,
          1.988,
          2.049,
          2.114,
          1.082,
          1.093,
          0.979,
          4.072,
          4.208,
          4.196,
          2.096,
          2.015,
          2.022,
          3.08,
          3.1,
          3.098,
          3.218,
          3.363,
          3.388,
          1.085,
          1.053,
          0.947,
          1.217,
          1.1,
          1.176,
          4.149,
          4.162,
          4.449,
          2.139,
          2.022,
          2.019,
          6.309,
          6.009,
          6.087,
          5.66,
          5.291,
          4.898,
          3.013,
          3.176,
          3.315,
          3.218,
          3.044,
          3.306,
          5.581,
          5.039,
          4.893,
          1.309,
          1.463,
          1.19,
          5.29,
          5.038,
          5.275,
          6,
          5.859,
          6.143,
          4.919,
          4.909,
          5.048,
          2.194,
          2.199,
          2.065,
          3.22,
          3.214,
          3.215,
          2.351,
          2.096,
          2.206,
          4.387,
          4.095,
          4.247,
          2.218,
          2.138,
          2.079,
          3.247,
          3.152,
          3.253,
          5.998,
          5.993,
          6.048,
          4.997,
          4.589,
          5.384,
          1.219,
          1.308,
          1.249,
          3.211,
          3.458,
          3.187,
          4.446,
          4.258,
          4.172,
          3.209,
          3.284,
          2.88,
          1.042,
          1.221,
          1.033,
          2.29,
          1.96,
          2.059,
          4.793,
          4.767,
          4.958,
          6.087,
          6.636,
          5.872,
          1.149,
          0.989,
          1.059,
          4.496,
          4.491,
          4.019,
          3.648,
          3.189,
          3.573,
          1.089,
          1.102,
          1.02,
          6.493,
          5.989,
          5.998,
          6.685,
          6.172,
          6.276,
          1.207,
          1.063,
          1.184,
          5.287,
          4.886,
          4.949,
          6.935,
          6.741,
          6.158,
          3.988,
          4.123,
          4.333,
          5.061,
          5.191,
          5.094,
          2.178,
          2.089,
          2.183,
          1.97,
          2.188,
          2.048,
          5.267,
          5.326,
          5.636,
          1.038,
          1,
          1.192,
          3.209,
          3.138,
          3.406,
          5.783,
          6.108,
          5.898,
          2.413,
          2.199,
          2.28,
          1.033,
          1.082,
          1.048,
          4.109,
          3.899,
          4.251,
          4.988,
          4.964,
          5.069,
          1.523,
          1.238,
          1.369,
          5.189,
          5.086,
          5.098,
          4.088,
          3.898,
          3.859,
          2.868,
          2.898,
          3.092,
          5.999,
          5.966,
          6.031,
          4.332,
          4.089,
          3.988,
          3.098,
          2.892,
          3.21,
          4.106,
          3.838,
          4.188,
          2.298,
          1.898,
          2.183,
          3.048,
          2.888,
          2.688,
          1.289,
          1.389,
          1.208,
          2.089,
          2.008,
          2.133,
          5.336,
          5.599,
          5.579,
          2.208,
          2.098,
          2.08,
          4.282,
          4.094,
          3.899,
          3.322,
          3.092,
          3.298,
          6.558,
          6.199,
          6.343,
          1.196,
          1.36,
          1.198,
          4.888,
          4.979,
          5.217,
          2.098,
          1.983,
          2.207,
          5.998,
          6.203,
          6.387,
          5.972,
          5.666,
          5.869,
          2.041,
          2.22,
          2.212,
          3.292,
          3.088,
          3.088,
          1.139,
          1.098,
          1.231,
          1.147,
          1.115,
          1.279,
          0.988,
          1.219,
          0.972,
          5.097,
          4.964,
          4.787,
          1.268,
          1.061,
          1.279,
          2.077,
          1.992,
          2.164,
          2.217,
          2.187,
          1.898,
          4.463,
          4.066,
          3.676,
          3.077,
          3.161,
          3.186,
          4.06,
          3.962,
          4.099,
          4.28,
          4.335,
          4.388,
          2.947,
          3.278,
          3.298,
          5.744,
          5.826,
          6.173,
          3.276,
          3.127,
          3.326,
          6.168,
          6.75,
          6.096,
          1.359,
          1.1,
          1.081,
          2.381,
          2.442,
          2.075,
          4.996,
          4.988,
          4.979,
          5.978,
          6.124,
          6.493,
          1.311,
          1.218,
          1.446,
          4.153,
          4.088,
          4.304,
          2.992,
          3.31,
          3.338,
          3.103,
          3.155,
          3.048,
          4.24,
          4.979,
          4.612,
          6.888,
          6.32,
          6.549,
          6.028,
          6.484,
          6.203,
          4.877,
          4.938,
          5.168,
          5.026,
          4.899,
          5.306,
          2.015,
          2.372,
          2.625,
          4.083,
          4.143,
          4.252,
          4.288,
          3.91,
          4.38,
          5.117,
          5.098,
          4.878,
          5.198,
          5.624,
          5.274
         ],
         "xaxis": "x",
         "y": [
          34.6,
          31.9,
          31.9,
          41.1,
          44.5,
          45.7,
          7.2,
          9.5,
          8.5,
          30.6,
          26.1,
          27.5,
          44.6,
          37.5,
          40.1,
          45.1,
          49.1,
          44.2,
          23.5,
          22.6,
          25.4,
          63.9,
          61.7,
          76.3,
          40.5,
          38.7,
          42.7,
          41.5,
          42.5,
          44.5,
          8.4,
          8.3,
          9.5,
          35.5,
          26.4,
          27.1,
          50.6,
          43.6,
          41.7,
          51.7,
          39.1,
          47,
          56.5,
          52.6,
          49.6,
          5.7,
          7.4,
          6.5,
          29.4,
          33.8,
          23.6,
          42.5,
          43.7,
          46.5,
          46.2,
          56.5,
          47.5,
          12.7,
          9.1,
          11.4,
          74,
          83.3,
          75.1,
          77.5,
          68.5,
          67.5,
          55.4,
          46.3,
          48.5,
          8.8,
          12.5,
          10.7,
          24.2,
          25.1,
          19.6,
          14.8,
          15.7,
          17,
          38.1,
          37.9,
          38.4,
          36.5,
          36.1,
          35.5,
          51.6,
          46.4,
          47.1,
          39.6,
          39.7,
          37.1,
          35.1,
          33.7,
          31.7,
          51.1,
          53.3,
          46.5,
          3.6,
          5.3,
          5.2,
          23.7,
          24.5,
          25.5,
          19.4,
          21.1,
          18.7,
          45.3,
          46.6,
          35.4,
          15.4,
          14.6,
          16.7,
          71.1,
          81.5,
          89.2,
          25.1,
          22.6,
          22.4,
          61.6,
          70.5,
          67.1,
          6.1,
          5.3,
          9.1,
          49.2,
          47.6,
          44.6,
          21.5,
          25.1,
          26.6,
          17,
          12.5,
          18,
          7.5,
          5.1,
          8.5,
          13.9,
          15,
          12.2,
          54.1,
          61.1,
          64.3,
          45.7,
          29,
          34,
          15.4,
          14.7,
          15.1,
          36.4,
          42.8,
          46.3,
          8.9,
          11,
          7.2,
          36.2,
          45.7,
          47.6,
          71.5,
          75.2,
          64.3,
          69,
          65.4,
          54.4,
          30.7,
          32.1,
          31.4,
          52.7,
          55.7,
          47.6,
          51.1,
          55.5,
          50.7,
          70.7,
          75.4,
          66.3,
          13.6,
          13.2,
          13.6,
          66.7,
          74.1,
          69.5,
          7.1,
          7.7,
          4.2,
          34.2,
          37.6,
          29.3,
          35.4,
          37.4,
          35.7,
          52.7,
          43.2,
          46.6,
          61.8,
          47.3,
          46.6,
          6.2,
          5.4,
          4.9,
          14.2,
          14.2,
          15.1,
          51.5,
          55.3,
          56.7,
          34.1,
          36.3,
          30.1,
          59.3,
          54.1,
          64.7,
          49.3,
          30.5,
          35.5,
          26.6,
          24.5,
          19.2,
          52.2,
          45.2,
          46,
          27.4,
          26.6,
          44.6,
          4.4,
          3.2,
          7.1,
          16.7,
          14.2,
          16.4,
          42.5,
          46.7,
          44,
          44.4,
          47.2,
          45.1,
          17.2,
          16.5,
          17.2,
          20.9,
          25.5,
          26.1,
          5.4,
          8.3,
          6.2,
          28,
          31,
          27.2,
          15.5,
          16.3,
          15.7,
          25.7,
          26.1,
          25.4,
          24.4,
          24.8,
          31.8,
          2.5,
          5.7,
          5.7,
          10.6,
          11.5,
          10.5,
          23.5,
          27.2,
          31.1,
          25.7,
          21.5,
          22.2,
          55.9,
          50.5,
          51.7,
          39.1,
          37.9,
          35.6,
          34.1,
          37.3,
          36.5,
          25.9,
          27.3,
          24.1,
          48.1,
          35.4,
          35.5,
          7.1,
          9.1,
          7.7,
          35.5,
          28.3,
          33.7,
          65.5,
          73.3,
          77.3,
          51.4,
          54.9,
          52.6,
          8.9,
          14.4,
          13.5,
          22.1,
          28.2,
          29.4,
          10.4,
          6.6,
          12.2,
          30.1,
          33.5,
          34.9,
          17.7,
          15.3,
          17.1,
          19,
          19.2,
          26.1,
          44.7,
          50.7,
          47.5,
          44.7,
          41.1,
          51,
          5.5,
          8.1,
          6.7,
          22.4,
          26.2,
          22.2,
          37.7,
          33.6,
          33.6,
          31.4,
          33.5,
          34.4,
          5.1,
          7.1,
          6.4,
          13.8,
          14.3,
          15.6,
          37.1,
          36.4,
          40.5,
          53.2,
          57.4,
          54.6,
          3.3,
          3.2,
          3.2,
          35.7,
          42.5,
          37.1,
          37.4,
          29.7,
          35.2,
          10.7,
          10.7,
          9.2,
          56.7,
          57.7,
          60.7,
          61.2,
          59.6,
          67.4,
          11.2,
          11.1,
          11,
          35.3,
          33.5,
          28.9,
          52.5,
          57.2,
          47.9,
          34,
          25.4,
          25.9,
          42.2,
          35.2,
          32.2,
          12.2,
          19.6,
          20,
          24.6,
          17.5,
          15.2,
          35.1,
          33.5,
          31.2,
          3.7,
          5.7,
          7.5,
          26.7,
          30.2,
          28.1,
          44.5,
          46.1,
          44.7,
          15.5,
          16.5,
          17.8,
          1.5,
          2.7,
          5.8,
          24.2,
          20.5,
          25.2,
          45.1,
          54.5,
          50.1,
          7,
          7.4,
          8.4,
          30.9,
          30.3,
          28.7,
          34.6,
          35.7,
          33.7,
          33.3,
          31.1,
          32.7,
          32.3,
          39.2,
          31.7,
          39.5,
          41.5,
          32.6,
          15.7,
          15.5,
          17.7,
          35.9,
          34.2,
          36.6,
          14.4,
          15.7,
          19.7,
          22.7,
          16.8,
          22.5,
          7.9,
          9.3,
          10,
          13.5,
          14.5,
          16,
          55.5,
          65.1,
          54.5,
          11.1,
          9.4,
          12.7,
          37,
          34.5,
          41.6,
          29.4,
          22.3,
          27.3,
          46.1,
          36.7,
          37.2,
          6.2,
          7.4,
          6.2,
          31.9,
          35.4,
          39.6,
          18.7,
          15.2,
          17.1,
          50.9,
          57.3,
          57.7,
          47.9,
          45.7,
          51.5,
          14,
          17.4,
          22.2,
          22.3,
          21.1,
          23.5,
          11.4,
          10.3,
          10.5,
          4.7,
          2.4,
          5.1,
          3.1,
          5,
          5.7,
          59,
          59.1,
          55.3,
          9.7,
          7.6,
          6.6,
          13.6,
          15.3,
          17.4,
          8.9,
          8.1,
          9.4,
          49.6,
          57.7,
          55.4,
          9.7,
          16.5,
          14.4,
          27.4,
          25.1,
          29.2,
          27.7,
          28.6,
          27.1,
          42.7,
          39.5,
          43.1,
          71.5,
          82.3,
          77.2,
          35.3,
          42.8,
          44.3,
          51.9,
          55.7,
          48.7,
          3.5,
          2.5,
          2.2,
          17.7,
          21.6,
          15.7,
          31.2,
          25.2,
          23.4,
          43.1,
          41.2,
          46.7,
          7.6,
          3.4,
          7.5,
          25.3,
          30.6,
          25.2,
          16,
          14.7,
          22.7,
          24.1,
          21.4,
          22.7,
          42.5,
          64.5,
          57.7,
          82,
          70.1,
          71.3,
          57.5,
          64.1,
          63.1,
          30.4,
          30.7,
          31.1,
          49.5,
          45.1,
          45,
          21.2,
          25.4,
          29.6,
          25.3,
          24.7,
          25.1,
          27.1,
          23.6,
          24.4,
          51.2,
          45.3,
          45.4,
          31.4,
          32.8,
          31.1
         ],
         "yaxis": "y"
        }
       ],
       "layout": {
        "coloraxis": {
         "colorbar": {
          "title": {
           "text": "Pinch_Order"
          }
         },
         "colorscale": [
          [
           0,
           "#0d0887"
          ],
          [
           0.1111111111111111,
           "#46039f"
          ],
          [
           0.2222222222222222,
           "#7201a8"
          ],
          [
           0.3333333333333333,
           "#9c179e"
          ],
          [
           0.4444444444444444,
           "#bd3786"
          ],
          [
           0.5555555555555556,
           "#d8576b"
          ],
          [
           0.6666666666666666,
           "#ed7953"
          ],
          [
           0.7777777777777778,
           "#fb9f3a"
          ],
          [
           0.8888888888888888,
           "#fdca26"
          ],
          [
           1,
           "#f0f921"
          ]
         ]
        },
        "legend": {
         "tracegroupgap": 0
        },
        "template": {
         "data": {
          "bar": [
           {
            "error_x": {
             "color": "#2a3f5f"
            },
            "error_y": {
             "color": "#2a3f5f"
            },
            "marker": {
             "line": {
              "color": "#E5ECF6",
              "width": 0.5
             },
             "pattern": {
              "fillmode": "overlay",
              "size": 10,
              "solidity": 0.2
             }
            },
            "type": "bar"
           }
          ],
          "barpolar": [
           {
            "marker": {
             "line": {
              "color": "#E5ECF6",
              "width": 0.5
             },
             "pattern": {
              "fillmode": "overlay",
              "size": 10,
              "solidity": 0.2
             }
            },
            "type": "barpolar"
           }
          ],
          "carpet": [
           {
            "aaxis": {
             "endlinecolor": "#2a3f5f",
             "gridcolor": "white",
             "linecolor": "white",
             "minorgridcolor": "white",
             "startlinecolor": "#2a3f5f"
            },
            "baxis": {
             "endlinecolor": "#2a3f5f",
             "gridcolor": "white",
             "linecolor": "white",
             "minorgridcolor": "white",
             "startlinecolor": "#2a3f5f"
            },
            "type": "carpet"
           }
          ],
          "choropleth": [
           {
            "colorbar": {
             "outlinewidth": 0,
             "ticks": ""
            },
            "type": "choropleth"
           }
          ],
          "contour": [
           {
            "colorbar": {
             "outlinewidth": 0,
             "ticks": ""
            },
            "colorscale": [
             [
              0,
              "#0d0887"
             ],
             [
              0.1111111111111111,
              "#46039f"
             ],
             [
              0.2222222222222222,
              "#7201a8"
             ],
             [
              0.3333333333333333,
              "#9c179e"
             ],
             [
              0.4444444444444444,
              "#bd3786"
             ],
             [
              0.5555555555555556,
              "#d8576b"
             ],
             [
              0.6666666666666666,
              "#ed7953"
             ],
             [
              0.7777777777777778,
              "#fb9f3a"
             ],
             [
              0.8888888888888888,
              "#fdca26"
             ],
             [
              1,
              "#f0f921"
             ]
            ],
            "type": "contour"
           }
          ],
          "contourcarpet": [
           {
            "colorbar": {
             "outlinewidth": 0,
             "ticks": ""
            },
            "type": "contourcarpet"
           }
          ],
          "heatmap": [
           {
            "colorbar": {
             "outlinewidth": 0,
             "ticks": ""
            },
            "colorscale": [
             [
              0,
              "#0d0887"
             ],
             [
              0.1111111111111111,
              "#46039f"
             ],
             [
              0.2222222222222222,
              "#7201a8"
             ],
             [
              0.3333333333333333,
              "#9c179e"
             ],
             [
              0.4444444444444444,
              "#bd3786"
             ],
             [
              0.5555555555555556,
              "#d8576b"
             ],
             [
              0.6666666666666666,
              "#ed7953"
             ],
             [
              0.7777777777777778,
              "#fb9f3a"
             ],
             [
              0.8888888888888888,
              "#fdca26"
             ],
             [
              1,
              "#f0f921"
             ]
            ],
            "type": "heatmap"
           }
          ],
          "heatmapgl": [
           {
            "colorbar": {
             "outlinewidth": 0,
             "ticks": ""
            },
            "colorscale": [
             [
              0,
              "#0d0887"
             ],
             [
              0.1111111111111111,
              "#46039f"
             ],
             [
              0.2222222222222222,
              "#7201a8"
             ],
             [
              0.3333333333333333,
              "#9c179e"
             ],
             [
              0.4444444444444444,
              "#bd3786"
             ],
             [
              0.5555555555555556,
              "#d8576b"
             ],
             [
              0.6666666666666666,
              "#ed7953"
             ],
             [
              0.7777777777777778,
              "#fb9f3a"
             ],
             [
              0.8888888888888888,
              "#fdca26"
             ],
             [
              1,
              "#f0f921"
             ]
            ],
            "type": "heatmapgl"
           }
          ],
          "histogram": [
           {
            "marker": {
             "pattern": {
              "fillmode": "overlay",
              "size": 10,
              "solidity": 0.2
             }
            },
            "type": "histogram"
           }
          ],
          "histogram2d": [
           {
            "colorbar": {
             "outlinewidth": 0,
             "ticks": ""
            },
            "colorscale": [
             [
              0,
              "#0d0887"
             ],
             [
              0.1111111111111111,
              "#46039f"
             ],
             [
              0.2222222222222222,
              "#7201a8"
             ],
             [
              0.3333333333333333,
              "#9c179e"
             ],
             [
              0.4444444444444444,
              "#bd3786"
             ],
             [
              0.5555555555555556,
              "#d8576b"
             ],
             [
              0.6666666666666666,
              "#ed7953"
             ],
             [
              0.7777777777777778,
              "#fb9f3a"
             ],
             [
              0.8888888888888888,
              "#fdca26"
             ],
             [
              1,
              "#f0f921"
             ]
            ],
            "type": "histogram2d"
           }
          ],
          "histogram2dcontour": [
           {
            "colorbar": {
             "outlinewidth": 0,
             "ticks": ""
            },
            "colorscale": [
             [
              0,
              "#0d0887"
             ],
             [
              0.1111111111111111,
              "#46039f"
             ],
             [
              0.2222222222222222,
              "#7201a8"
             ],
             [
              0.3333333333333333,
              "#9c179e"
             ],
             [
              0.4444444444444444,
              "#bd3786"
             ],
             [
              0.5555555555555556,
              "#d8576b"
             ],
             [
              0.6666666666666666,
              "#ed7953"
             ],
             [
              0.7777777777777778,
              "#fb9f3a"
             ],
             [
              0.8888888888888888,
              "#fdca26"
             ],
             [
              1,
              "#f0f921"
             ]
            ],
            "type": "histogram2dcontour"
           }
          ],
          "mesh3d": [
           {
            "colorbar": {
             "outlinewidth": 0,
             "ticks": ""
            },
            "type": "mesh3d"
           }
          ],
          "parcoords": [
           {
            "line": {
             "colorbar": {
              "outlinewidth": 0,
              "ticks": ""
             }
            },
            "type": "parcoords"
           }
          ],
          "pie": [
           {
            "automargin": true,
            "type": "pie"
           }
          ],
          "scatter": [
           {
            "fillpattern": {
             "fillmode": "overlay",
             "size": 10,
             "solidity": 0.2
            },
            "type": "scatter"
           }
          ],
          "scatter3d": [
           {
            "line": {
             "colorbar": {
              "outlinewidth": 0,
              "ticks": ""
             }
            },
            "marker": {
             "colorbar": {
              "outlinewidth": 0,
              "ticks": ""
             }
            },
            "type": "scatter3d"
           }
          ],
          "scattercarpet": [
           {
            "marker": {
             "colorbar": {
              "outlinewidth": 0,
              "ticks": ""
             }
            },
            "type": "scattercarpet"
           }
          ],
          "scattergeo": [
           {
            "marker": {
             "colorbar": {
              "outlinewidth": 0,
              "ticks": ""
             }
            },
            "type": "scattergeo"
           }
          ],
          "scattergl": [
           {
            "marker": {
             "colorbar": {
              "outlinewidth": 0,
              "ticks": ""
             }
            },
            "type": "scattergl"
           }
          ],
          "scattermapbox": [
           {
            "marker": {
             "colorbar": {
              "outlinewidth": 0,
              "ticks": ""
             }
            },
            "type": "scattermapbox"
           }
          ],
          "scatterpolar": [
           {
            "marker": {
             "colorbar": {
              "outlinewidth": 0,
              "ticks": ""
             }
            },
            "type": "scatterpolar"
           }
          ],
          "scatterpolargl": [
           {
            "marker": {
             "colorbar": {
              "outlinewidth": 0,
              "ticks": ""
             }
            },
            "type": "scatterpolargl"
           }
          ],
          "scatterternary": [
           {
            "marker": {
             "colorbar": {
              "outlinewidth": 0,
              "ticks": ""
             }
            },
            "type": "scatterternary"
           }
          ],
          "surface": [
           {
            "colorbar": {
             "outlinewidth": 0,
             "ticks": ""
            },
            "colorscale": [
             [
              0,
              "#0d0887"
             ],
             [
              0.1111111111111111,
              "#46039f"
             ],
             [
              0.2222222222222222,
              "#7201a8"
             ],
             [
              0.3333333333333333,
              "#9c179e"
             ],
             [
              0.4444444444444444,
              "#bd3786"
             ],
             [
              0.5555555555555556,
              "#d8576b"
             ],
             [
              0.6666666666666666,
              "#ed7953"
             ],
             [
              0.7777777777777778,
              "#fb9f3a"
             ],
             [
              0.8888888888888888,
              "#fdca26"
             ],
             [
              1,
              "#f0f921"
             ]
            ],
            "type": "surface"
           }
          ],
          "table": [
           {
            "cells": {
             "fill": {
              "color": "#EBF0F8"
             },
             "line": {
              "color": "white"
             }
            },
            "header": {
             "fill": {
              "color": "#C8D4E3"
             },
             "line": {
              "color": "white"
             }
            },
            "type": "table"
           }
          ]
         },
         "layout": {
          "annotationdefaults": {
           "arrowcolor": "#2a3f5f",
           "arrowhead": 0,
           "arrowwidth": 1
          },
          "autotypenumbers": "strict",
          "coloraxis": {
           "colorbar": {
            "outlinewidth": 0,
            "ticks": ""
           }
          },
          "colorscale": {
           "diverging": [
            [
             0,
             "#8e0152"
            ],
            [
             0.1,
             "#c51b7d"
            ],
            [
             0.2,
             "#de77ae"
            ],
            [
             0.3,
             "#f1b6da"
            ],
            [
             0.4,
             "#fde0ef"
            ],
            [
             0.5,
             "#f7f7f7"
            ],
            [
             0.6,
             "#e6f5d0"
            ],
            [
             0.7,
             "#b8e186"
            ],
            [
             0.8,
             "#7fbc41"
            ],
            [
             0.9,
             "#4d9221"
            ],
            [
             1,
             "#276419"
            ]
           ],
           "sequential": [
            [
             0,
             "#0d0887"
            ],
            [
             0.1111111111111111,
             "#46039f"
            ],
            [
             0.2222222222222222,
             "#7201a8"
            ],
            [
             0.3333333333333333,
             "#9c179e"
            ],
            [
             0.4444444444444444,
             "#bd3786"
            ],
            [
             0.5555555555555556,
             "#d8576b"
            ],
            [
             0.6666666666666666,
             "#ed7953"
            ],
            [
             0.7777777777777778,
             "#fb9f3a"
            ],
            [
             0.8888888888888888,
             "#fdca26"
            ],
            [
             1,
             "#f0f921"
            ]
           ],
           "sequentialminus": [
            [
             0,
             "#0d0887"
            ],
            [
             0.1111111111111111,
             "#46039f"
            ],
            [
             0.2222222222222222,
             "#7201a8"
            ],
            [
             0.3333333333333333,
             "#9c179e"
            ],
            [
             0.4444444444444444,
             "#bd3786"
            ],
            [
             0.5555555555555556,
             "#d8576b"
            ],
            [
             0.6666666666666666,
             "#ed7953"
            ],
            [
             0.7777777777777778,
             "#fb9f3a"
            ],
            [
             0.8888888888888888,
             "#fdca26"
            ],
            [
             1,
             "#f0f921"
            ]
           ]
          },
          "colorway": [
           "#636efa",
           "#EF553B",
           "#00cc96",
           "#ab63fa",
           "#FFA15A",
           "#19d3f3",
           "#FF6692",
           "#B6E880",
           "#FF97FF",
           "#FECB52"
          ],
          "font": {
           "color": "#2a3f5f"
          },
          "geo": {
           "bgcolor": "white",
           "lakecolor": "white",
           "landcolor": "#E5ECF6",
           "showlakes": true,
           "showland": true,
           "subunitcolor": "white"
          },
          "hoverlabel": {
           "align": "left"
          },
          "hovermode": "closest",
          "mapbox": {
           "style": "light"
          },
          "paper_bgcolor": "white",
          "plot_bgcolor": "#E5ECF6",
          "polar": {
           "angularaxis": {
            "gridcolor": "white",
            "linecolor": "white",
            "ticks": ""
           },
           "bgcolor": "#E5ECF6",
           "radialaxis": {
            "gridcolor": "white",
            "linecolor": "white",
            "ticks": ""
           }
          },
          "scene": {
           "xaxis": {
            "backgroundcolor": "#E5ECF6",
            "gridcolor": "white",
            "gridwidth": 2,
            "linecolor": "white",
            "showbackground": true,
            "ticks": "",
            "zerolinecolor": "white"
           },
           "yaxis": {
            "backgroundcolor": "#E5ECF6",
            "gridcolor": "white",
            "gridwidth": 2,
            "linecolor": "white",
            "showbackground": true,
            "ticks": "",
            "zerolinecolor": "white"
           },
           "zaxis": {
            "backgroundcolor": "#E5ECF6",
            "gridcolor": "white",
            "gridwidth": 2,
            "linecolor": "white",
            "showbackground": true,
            "ticks": "",
            "zerolinecolor": "white"
           }
          },
          "shapedefaults": {
           "line": {
            "color": "#2a3f5f"
           }
          },
          "ternary": {
           "aaxis": {
            "gridcolor": "white",
            "linecolor": "white",
            "ticks": ""
           },
           "baxis": {
            "gridcolor": "white",
            "linecolor": "white",
            "ticks": ""
           },
           "bgcolor": "#E5ECF6",
           "caxis": {
            "gridcolor": "white",
            "linecolor": "white",
            "ticks": ""
           }
          },
          "title": {
           "x": 0.05
          },
          "xaxis": {
           "automargin": true,
           "gridcolor": "white",
           "linecolor": "white",
           "ticks": "",
           "title": {
            "standoff": 15
           },
           "zerolinecolor": "white",
           "zerolinewidth": 2
          },
          "yaxis": {
           "automargin": true,
           "gridcolor": "white",
           "linecolor": "white",
           "ticks": "",
           "title": {
            "standoff": 15
           },
           "zerolinecolor": "white",
           "zerolinewidth": 2
          }
         }
        },
        "title": {
         "text": "Kilograms Pulled by pinch Strength<br><sup>by Jerry Yu</sub>",
         "x": 0.5,
         "xanchor": "center",
         "yanchor": "top"
        },
        "xaxis": {
         "anchor": "y",
         "domain": [
          0,
          1
         ],
         "title": {
          "text": "Pinch"
         }
        },
        "yaxis": {
         "anchor": "x",
         "domain": [
          0,
          1
         ],
         "title": {
          "text": "Pull"
         }
        }
       }
      }
     },
     "metadata": {},
     "output_type": "display_data"
    }
   ],
   "source": [
    "# Test Pinch Order\n",
    "byOrder = px.scatter(Chalk, x = \"Pinch\", y = \"Pull\", color = \"Pinch_Order\", title = \"Kilograms Pulled by pinch Strength\")\n",
    "byOrder.update_layout(\n",
    "    title = {\n",
    "        \"text\":\"Kilograms Pulled by pinch Strength<br><sup>by Jerry Yu</sub>\",\n",
    "        \"x\":0.5,\n",
    "        \"xanchor\":\"center\",\n",
    "        \"yanchor\":\"top\"\n",
    "    }\n",
    ")\n",
    "byOrder.show()\n",
    "\n",
    "# Very random, quite nice"
   ]
  },
  {
   "cell_type": "markdown",
   "metadata": {},
   "source": [
    "We will now move on to Regression"
   ]
  }
 ],
 "metadata": {
  "kernelspec": {
   "display_name": "main",
   "language": "python",
   "name": "python3"
  },
  "language_info": {
   "codemirror_mode": {
    "name": "ipython",
    "version": 3
   },
   "file_extension": ".py",
   "mimetype": "text/x-python",
   "name": "python",
   "nbconvert_exporter": "python",
   "pygments_lexer": "ipython3",
   "version": "3.12.8"
  }
 },
 "nbformat": 4,
 "nbformat_minor": 2
}
