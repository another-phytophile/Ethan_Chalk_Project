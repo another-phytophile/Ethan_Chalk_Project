{
 "cells": [
  {
   "cell_type": "markdown",
   "metadata": {},
   "source": [
    "### Imports and File Locations"
   ]
  },
  {
   "cell_type": "code",
   "execution_count": 8,
   "metadata": {},
   "outputs": [],
   "source": [
    "import math\n",
    "import numpy as np\n",
    "import pandas as pd\n",
    "import os\n",
    "import git\n"
   ]
  },
  {
   "cell_type": "code",
   "execution_count": 12,
   "metadata": {},
   "outputs": [
    {
     "name": "stdout",
     "output_type": "stream",
     "text": [
      "c:\\Users\\Public\\Documents\\Personal_Projects\\Ethan_Chalk_Project\n"
     ]
    }
   ],
   "source": [
    "repo = git.Repo('.', search_parent_directories=True)\n",
    "os.chdir(repo.working_tree_dir)\n",
    "print(os.getcwd())"
   ]
  },
  {
   "cell_type": "markdown",
   "metadata": {},
   "source": [
    "# Exploratory Data Analysis\n",
    "\n",
    "Read in Data\n",
    "\n",
    "## Metadata\n",
    "\n",
    "The original data was not formatted in the way of a long table, so I used excel to clean the data. Multiple explanatory variables were encoded in color or order of the tables, so they needed to be made explicit. I used a series of formulas for that. Thus, I created long formats of the `Chalk_Results.xlsx` and `Randomized tests.xlsx` (`Chalk_Long.xlsm` and `Metadata.slsx`) and merged and created labels for them in python. \n",
    "\n",
    "Variables are:\n",
    "- Code: a number from 1-24. In excel, this column's color is indicative of date, and its value is also indicative of control (or chalk) and treatment. Code + bChalk form the key for merging metadata with chalk_long. \n",
    "- bChalk: a number from 1-4 (1=FL. 2=Metolius, 3=Magdust, 4=Ethan's Chalk), not directly indicative of whether chalk was used. Code + bChalk form the key for merging metadata with chalk_long.\n",
    "- Pinch_Order: Order in which test was conducted, for each attempt (code number), the test was performed three times sequentially. Pinch_Order + bChalk + Code forms the primary key. \n",
    "- Pinch: The weight at which the board was pinched. \n",
    "- Pull: The weight just before the hand slipped. **Our dependent variable**. \n",
    "- Chalk: The actual chalk used, 0 is added for control. \n",
    "- Person: The person conducting the test, one intermediate and one advanced climber. \n",
    "- Day: The day when the test was conducted. Dates were, 10/30/2024,10/31/2024,11/4/2024,11/6/2024,11/8/2024,11/10/2024, and 11/14/2024. Last two were apparently \"noticeably slippery\". \n",
    "- Day_Order: The order in which the tests were conducted in the day. This was randomized. \n",
    "\n",
    "\n",
    "### Scratch\n",
    "- Chalks 1-4: type of chalk. \n",
    "- Randomization: order (chalk/nochalk) tested\n",
    "- Colors: Day indicators\n",
    "- Dark red: see excel\n",
    "- Run number: 1-24 Ethan, 25-48 Jackson\n",
    "- Shading: 1-6 no chalk, 7-12 no chalk, number corresponds to weight in accordance w the metadata spreadsheet\n",
    "- Pinches 1-3/Pulls 1-3\n",
    "- Pulls 1-3: values before slip\n",
    "- Pinches: watching it the whole time, pinch is x, pull is y\n",
    "- supraorder maximized"
   ]
  },
  {
   "cell_type": "code",
   "execution_count": 28,
   "metadata": {},
   "outputs": [],
   "source": [
    "Chalk_Long = pd.read_excel('data/Raw/Chalk_Long.xlsm', sheet_name=1, header=0)\n",
    "metadata = pd.read_excel('data/Raw/Metadata.xlsx', sheet_name=1, header=0)\n",
    "Chalk = pd.merge(metadata, Chalk_Long, on=[\"Code\",\"bChalk\"], how='left')\n"
   ]
  },
  {
   "cell_type": "code",
   "execution_count": 30,
   "metadata": {},
   "outputs": [
    {
     "name": "stdout",
     "output_type": "stream",
     "text": [
      "<class 'pandas.core.frame.DataFrame'>\n",
      "RangeIndex: 576 entries, 0 to 575\n",
      "Data columns (total 9 columns):\n",
      " #   Column              Non-Null Count  Dtype         \n",
      "---  ------              --------------  -----         \n",
      " 0   Code                576 non-null    int64         \n",
      " 1   bChalk              576 non-null    int64         \n",
      " 2   Day_Order           576 non-null    int64         \n",
      " 3   Day                 576 non-null    datetime64[ns]\n",
      " 4   Pinch               576 non-null    float64       \n",
      " 5   Pull                576 non-null    float64       \n",
      " 6   Within Pinch Order  576 non-null    int64         \n",
      " 7   Chalk               576 non-null    int64         \n",
      " 8   Person              576 non-null    int64         \n",
      "dtypes: datetime64[ns](1), float64(2), int64(6)\n",
      "memory usage: 40.6 KB\n"
     ]
    },
    {
     "data": {
      "text/html": [
       "<div>\n",
       "<style scoped>\n",
       "    .dataframe tbody tr th:only-of-type {\n",
       "        vertical-align: middle;\n",
       "    }\n",
       "\n",
       "    .dataframe tbody tr th {\n",
       "        vertical-align: top;\n",
       "    }\n",
       "\n",
       "    .dataframe thead th {\n",
       "        text-align: right;\n",
       "    }\n",
       "</style>\n",
       "<table border=\"1\" class=\"dataframe\">\n",
       "  <thead>\n",
       "    <tr style=\"text-align: right;\">\n",
       "      <th></th>\n",
       "      <th>Code</th>\n",
       "      <th>bChalk</th>\n",
       "      <th>Day_Order</th>\n",
       "      <th>Day</th>\n",
       "      <th>Pinch</th>\n",
       "      <th>Pull</th>\n",
       "      <th>Within Pinch Order</th>\n",
       "      <th>Chalk</th>\n",
       "      <th>Person</th>\n",
       "    </tr>\n",
       "  </thead>\n",
       "  <tbody>\n",
       "    <tr>\n",
       "      <th>0</th>\n",
       "      <td>16</td>\n",
       "      <td>1</td>\n",
       "      <td>1</td>\n",
       "      <td>2024-10-30</td>\n",
       "      <td>4.202</td>\n",
       "      <td>34.6</td>\n",
       "      <td>1</td>\n",
       "      <td>0</td>\n",
       "      <td>1</td>\n",
       "    </tr>\n",
       "    <tr>\n",
       "      <th>1</th>\n",
       "      <td>16</td>\n",
       "      <td>1</td>\n",
       "      <td>1</td>\n",
       "      <td>2024-10-30</td>\n",
       "      <td>4.117</td>\n",
       "      <td>31.9</td>\n",
       "      <td>2</td>\n",
       "      <td>0</td>\n",
       "      <td>1</td>\n",
       "    </tr>\n",
       "    <tr>\n",
       "      <th>2</th>\n",
       "      <td>16</td>\n",
       "      <td>1</td>\n",
       "      <td>1</td>\n",
       "      <td>2024-10-30</td>\n",
       "      <td>4.154</td>\n",
       "      <td>31.9</td>\n",
       "      <td>3</td>\n",
       "      <td>0</td>\n",
       "      <td>1</td>\n",
       "    </tr>\n",
       "    <tr>\n",
       "      <th>3</th>\n",
       "      <td>34</td>\n",
       "      <td>1</td>\n",
       "      <td>2</td>\n",
       "      <td>2024-10-30</td>\n",
       "      <td>4.088</td>\n",
       "      <td>41.1</td>\n",
       "      <td>1</td>\n",
       "      <td>1</td>\n",
       "      <td>2</td>\n",
       "    </tr>\n",
       "    <tr>\n",
       "      <th>4</th>\n",
       "      <td>34</td>\n",
       "      <td>1</td>\n",
       "      <td>2</td>\n",
       "      <td>2024-10-30</td>\n",
       "      <td>4.088</td>\n",
       "      <td>44.5</td>\n",
       "      <td>2</td>\n",
       "      <td>1</td>\n",
       "      <td>2</td>\n",
       "    </tr>\n",
       "  </tbody>\n",
       "</table>\n",
       "</div>"
      ],
      "text/plain": [
       "   Code  bChalk  Day_Order        Day  Pinch  Pull  Within Pinch Order  Chalk  \\\n",
       "0    16       1          1 2024-10-30  4.202  34.6                   1      0   \n",
       "1    16       1          1 2024-10-30  4.117  31.9                   2      0   \n",
       "2    16       1          1 2024-10-30  4.154  31.9                   3      0   \n",
       "3    34       1          2 2024-10-30  4.088  41.1                   1      1   \n",
       "4    34       1          2 2024-10-30  4.088  44.5                   2      1   \n",
       "\n",
       "   Person  \n",
       "0       1  \n",
       "1       1  \n",
       "2       1  \n",
       "3       2  \n",
       "4       2  "
      ]
     },
     "execution_count": 30,
     "metadata": {},
     "output_type": "execute_result"
    }
   ],
   "source": [
    "Chalk.info()\n",
    "Chalk.head()"
   ]
  }
 ],
 "metadata": {
  "kernelspec": {
   "display_name": "main",
   "language": "python",
   "name": "python3"
  },
  "language_info": {
   "codemirror_mode": {
    "name": "ipython",
    "version": 3
   },
   "file_extension": ".py",
   "mimetype": "text/x-python",
   "name": "python",
   "nbconvert_exporter": "python",
   "pygments_lexer": "ipython3",
   "version": "3.12.8"
  }
 },
 "nbformat": 4,
 "nbformat_minor": 2
}
